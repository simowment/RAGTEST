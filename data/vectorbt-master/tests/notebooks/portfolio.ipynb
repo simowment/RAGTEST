{
 "cells": [
  {
   "cell_type": "code",
   "execution_count": 1,
   "metadata": {},
   "outputs": [
    {
     "name": "stdout",
     "output_type": "stream",
     "text": [
      "(5,) (5, 3)\n",
      "(1000, 1) (1000, 1000)\n"
     ]
    }
   ],
   "source": [
    "import vectorbt as vbt\n",
    "from vectorbt.portfolio.enums import *\n",
    "\n",
    "import numpy as np\n",
    "import pandas as pd\n",
    "from numba import njit\n",
    "from datetime import datetime, timedelta\n",
    "\n",
    "seed = 42\n",
    "\n",
    "price = pd.Series([1., 2., 3., 4., 5.], index=pd.Index([\n",
    "    datetime(2020, 1, 1),\n",
    "    datetime(2020, 1, 2),\n",
    "    datetime(2020, 1, 3),\n",
    "    datetime(2020, 1, 4),\n",
    "    datetime(2020, 1, 5)\n",
    "]))\n",
    "price_wide = price.vbt.tile(3, keys=['a', 'b', 'c'])\n",
    "print(price.shape, price_wide.shape)\n",
    "\n",
    "big_price = pd.DataFrame(np.random.uniform(0.9, 1.1, size=(1000,)))\n",
    "big_price.index = [datetime(2018, 1, 1) + timedelta(days=i) for i in range(1000)]\n",
    "big_price_wide = big_price.vbt.tile(1000)\n",
    "print(big_price.shape, big_price_wide.shape)\n",
    "\n",
    "# Disable caching for performance testing\n",
    "# NOTE: Expect waterfall of executions, since some attributes depend on other attributes \n",
    "# that have to be calculated again and again\n",
    "vbt.settings.caching['enabled'] = False\n",
    "vbt.settings.portfolio['attach_call_seq'] = True"
   ]
  },
  {
   "cell_type": "markdown",
   "metadata": {},
   "source": [
    "## from_orders"
   ]
  },
  {
   "cell_type": "code",
   "execution_count": 2,
   "metadata": {},
   "outputs": [],
   "source": [
    "order_size = pd.Series([np.inf, -np.inf, np.nan, np.inf, -np.inf], index=price.index)\n",
    "order_size_wide = order_size.vbt.tile(3, keys=['a', 'b', 'c'])\n",
    "\n",
    "big_order_size = pd.DataFrame.vbt.empty((1000,), 1, dtype=np.float64)\n",
    "big_order_size.iloc[1::2] = -1\n",
    "big_order_size_wide = big_order_size.vbt.tile(1000)"
   ]
  },
  {
   "cell_type": "code",
   "execution_count": 46,
   "metadata": {},
   "outputs": [
    {
     "name": "stdout",
     "output_type": "stream",
     "text": [
      "2.24 ms ± 179 µs per loop (mean ± std. dev. of 7 runs, 1 loop each)\n"
     ]
    }
   ],
   "source": [
    "%timeit vbt.Portfolio.from_orders(big_price, big_order_size, init_cash=np.inf)"
   ]
  },
  {
   "cell_type": "code",
   "execution_count": 48,
   "metadata": {},
   "outputs": [
    {
     "name": "stdout",
     "output_type": "stream",
     "text": [
      "67 ms ± 2.3 ms per loop (mean ± std. dev. of 7 runs, 10 loops each)\n"
     ]
    }
   ],
   "source": [
    "%timeit vbt.Portfolio.from_orders(big_price_wide, big_order_size_wide, init_cash=np.inf)"
   ]
  },
  {
   "cell_type": "code",
   "execution_count": 9,
   "metadata": {},
   "outputs": [
    {
     "name": "stdout",
     "output_type": "stream",
     "text": [
      "64.3 ms ± 1.05 ms per loop (mean ± std. dev. of 7 runs, 10 loops each)\n"
     ]
    }
   ],
   "source": [
    "%timeit vbt.Portfolio.from_orders(\\\n",
    "    big_price_wide, big_order_size_wide, init_cash=np.inf, \\\n",
    "    group_by=np.repeat(np.arange(500), 2))"
   ]
  },
  {
   "cell_type": "code",
   "execution_count": 7,
   "metadata": {},
   "outputs": [
    {
     "name": "stdout",
     "output_type": "stream",
     "text": [
      "65.9 ms ± 1.68 ms per loop (mean ± std. dev. of 7 runs, 10 loops each)\n"
     ]
    }
   ],
   "source": [
    "%timeit vbt.Portfolio.from_orders(\\\n",
    "    big_price_wide, big_order_size_wide, init_cash=np.inf, \\\n",
    "    group_by=np.repeat(np.arange(500), 2), cash_sharing=True)"
   ]
  },
  {
   "cell_type": "code",
   "execution_count": 8,
   "metadata": {},
   "outputs": [
    {
     "name": "stdout",
     "output_type": "stream",
     "text": [
      "71.7 ms ± 510 µs per loop (mean ± std. dev. of 7 runs, 10 loops each)\n"
     ]
    }
   ],
   "source": [
    "%timeit vbt.Portfolio.from_orders(\\\n",
    "    big_price_wide, big_order_size_wide, init_cash=np.inf, \\\n",
    "    group_by=np.repeat(np.arange(500), 2), cash_sharing=True, call_seq=CallSeqType.Auto)"
   ]
  },
  {
   "cell_type": "code",
   "execution_count": 9,
   "metadata": {},
   "outputs": [
    {
     "name": "stdout",
     "output_type": "stream",
     "text": [
      "66.3 ms ± 285 µs per loop (mean ± std. dev. of 7 runs, 10 loops each)\n"
     ]
    }
   ],
   "source": [
    "%timeit vbt.Portfolio.from_orders(\\\n",
    "    big_price_wide, big_order_size_wide, init_cash=np.inf, \\\n",
    "    group_by=np.full(1000, 0))"
   ]
  },
  {
   "cell_type": "code",
   "execution_count": 10,
   "metadata": {},
   "outputs": [
    {
     "name": "stdout",
     "output_type": "stream",
     "text": [
      "63.7 ms ± 728 µs per loop (mean ± std. dev. of 7 runs, 1 loop each)\n"
     ]
    }
   ],
   "source": [
    "%timeit vbt.Portfolio.from_orders(\\\n",
    "    big_price_wide, big_order_size_wide, init_cash=np.inf, \\\n",
    "    group_by=np.full(1000, 0), cash_sharing=True)"
   ]
  },
  {
   "cell_type": "code",
   "execution_count": 11,
   "metadata": {},
   "outputs": [
    {
     "name": "stdout",
     "output_type": "stream",
     "text": [
      "68.3 ms ± 443 µs per loop (mean ± std. dev. of 7 runs, 10 loops each)\n"
     ]
    }
   ],
   "source": [
    "%timeit vbt.Portfolio.from_orders(\\\n",
    "    big_price_wide, big_order_size_wide, init_cash=np.inf, \\\n",
    "    group_by=np.full(1000, 0), cash_sharing=True, call_seq=CallSeqType.Auto)"
   ]
  },
  {
   "cell_type": "code",
   "execution_count": 48,
   "metadata": {},
   "outputs": [],
   "source": [
    "def test_per_direction(price=price, size=order_size, **kwargs):\n",
    "    print('Both')\n",
    "    try:\n",
    "        portfolio = vbt.Portfolio.from_orders(price, size, direction='both', **kwargs)\n",
    "        print(portfolio.orders.records)\n",
    "    except Exception as e:\n",
    "        print(e)\n",
    "    print('LongOnly')\n",
    "    try:\n",
    "        portfolio = vbt.Portfolio.from_orders(price, size, direction='longonly', **kwargs)\n",
    "        print(portfolio.orders.records)\n",
    "    except Exception as e:\n",
    "        print(e)\n",
    "    print('ShortOnly')\n",
    "    try:\n",
    "        portfolio = vbt.Portfolio.from_orders(price, size, direction='shortonly', **kwargs)\n",
    "        print(portfolio.orders.records)\n",
    "    except Exception as e:\n",
    "        print(e)"
   ]
  },
  {
   "cell_type": "code",
   "execution_count": 49,
   "metadata": {},
   "outputs": [
    {
     "name": "stdout",
     "output_type": "stream",
     "text": [
      "All\n",
      "   id  idx  col   size  price  fees  side\n",
      "0   0    0    0  100.0    1.0   0.0     0\n",
      "1   1    1    0  200.0    2.0   0.0     1\n",
      "2   2    3    0  100.0    4.0   0.0     0\n",
      "LongOnly\n",
      "   id  idx  col   size  price  fees  side\n",
      "0   0    0    0  100.0    1.0   0.0     0\n",
      "1   1    1    0  100.0    2.0   0.0     1\n",
      "2   2    3    0   50.0    4.0   0.0     0\n",
      "3   3    4    0   50.0    5.0   0.0     1\n",
      "ShortOnly\n",
      "   id  idx  col   size  price  fees  side\n",
      "0   0    0    0  100.0    1.0   0.0     1\n",
      "1   1    1    0  100.0    2.0   0.0     0\n"
     ]
    }
   ],
   "source": [
    "test_per_direction()"
   ]
  },
  {
   "cell_type": "code",
   "execution_count": 50,
   "metadata": {},
   "outputs": [
    {
     "name": "stdout",
     "output_type": "stream",
     "text": [
      "All\n",
      "   id  idx  col   size  price  fees  side\n",
      "0   0    0    0  100.0    1.0   0.0     0\n",
      "1   1    1    0  200.0    2.0   0.0     1\n",
      "2   2    3    0  100.0    4.0   0.0     0\n",
      "3   3    0    1  100.0    1.0   0.0     0\n",
      "4   4    1    1  200.0    2.0   0.0     1\n",
      "5   5    3    1  100.0    4.0   0.0     0\n",
      "6   6    0    2  100.0    1.0   0.0     0\n",
      "7   7    1    2  200.0    2.0   0.0     1\n",
      "8   8    3    2  100.0    4.0   0.0     0\n",
      "LongOnly\n",
      "    id  idx  col   size  price  fees  side\n",
      "0    0    0    0  100.0    1.0   0.0     0\n",
      "1    1    1    0  100.0    2.0   0.0     1\n",
      "2    2    3    0   50.0    4.0   0.0     0\n",
      "3    3    4    0   50.0    5.0   0.0     1\n",
      "4    4    0    1  100.0    1.0   0.0     0\n",
      "5    5    1    1  100.0    2.0   0.0     1\n",
      "6    6    3    1   50.0    4.0   0.0     0\n",
      "7    7    4    1   50.0    5.0   0.0     1\n",
      "8    8    0    2  100.0    1.0   0.0     0\n",
      "9    9    1    2  100.0    2.0   0.0     1\n",
      "10  10    3    2   50.0    4.0   0.0     0\n",
      "11  11    4    2   50.0    5.0   0.0     1\n",
      "ShortOnly\n",
      "   id  idx  col   size  price  fees  side\n",
      "0   0    0    0  100.0    1.0   0.0     1\n",
      "1   1    1    0  100.0    2.0   0.0     0\n",
      "2   2    0    1  100.0    1.0   0.0     1\n",
      "3   3    1    1  100.0    2.0   0.0     0\n",
      "4   4    0    2  100.0    1.0   0.0     1\n",
      "5   5    1    2  100.0    2.0   0.0     0\n"
     ]
    }
   ],
   "source": [
    "test_per_direction(price=price_wide)"
   ]
  },
  {
   "cell_type": "code",
   "execution_count": 51,
   "metadata": {},
   "outputs": [
    {
     "name": "stdout",
     "output_type": "stream",
     "text": [
      "All\n",
      "   id  idx  col   size  price  fees  side\n",
      "0   0    0    0  100.0    1.0   0.0     0\n",
      "1   1    0    1  100.0    1.0   0.0     1\n",
      "LongOnly\n",
      "   id  idx  col   size  price  fees  side\n",
      "0   0    0    0  100.0    1.0   0.0     0\n",
      "ShortOnly\n",
      "   id  idx  col   size  price  fees  side\n",
      "0   0    0    0  100.0    1.0   0.0     1\n"
     ]
    }
   ],
   "source": [
    "test_per_direction(size=[[np.inf, -np.inf]])"
   ]
  },
  {
   "cell_type": "code",
   "execution_count": 52,
   "metadata": {},
   "outputs": [],
   "source": [
    "order_size_one = pd.Series([1, -1, np.nan, 1, -1], index=price.index)"
   ]
  },
  {
   "cell_type": "code",
   "execution_count": 53,
   "metadata": {},
   "outputs": [
    {
     "name": "stdout",
     "output_type": "stream",
     "text": [
      "All\n",
      "   id  idx  col        size  price  fees  side\n",
      "0   0    0    0   99.009901   1.01   0.0     0\n",
      "1   1    1    0  198.019802   2.02   0.0     1\n",
      "2   2    3    0   99.009901   4.04   0.0     0\n",
      "LongOnly\n",
      "   id  idx  col       size  price  fees  side\n",
      "0   0    0    0  99.009901   1.01   0.0     0\n",
      "1   1    1    0  99.009901   2.02   0.0     1\n",
      "2   2    3    0  49.504950   4.04   0.0     0\n",
      "3   3    4    0  49.504950   5.05   0.0     1\n",
      "ShortOnly\n",
      "   id  idx  col       size  price  fees  side\n",
      "0   0    0    0  99.009901   1.01   0.0     1\n",
      "1   1    1    0  99.009901   2.02   0.0     0\n"
     ]
    }
   ],
   "source": [
    "test_per_direction(price=price * 1.01)"
   ]
  },
  {
   "cell_type": "code",
   "execution_count": 54,
   "metadata": {},
   "outputs": [
    {
     "name": "stdout",
     "output_type": "stream",
     "text": [
      "All\n",
      "    id  idx  col  size  price  fees  side\n",
      "0    0    0    0   1.0    1.0   0.0     0\n",
      "1    1    1    0   1.0    2.0   0.0     1\n",
      "2    2    3    0   1.0    4.0   0.0     0\n",
      "3    3    4    0   1.0    5.0   0.0     1\n",
      "4    4    0    1   1.0    1.0   0.1     0\n",
      "5    5    1    1   1.0    2.0   0.2     1\n",
      "6    6    3    1   1.0    4.0   0.4     0\n",
      "7    7    4    1   1.0    5.0   0.5     1\n",
      "8    8    0    2   1.0    1.0   1.0     0\n",
      "9    9    1    2   1.0    2.0   2.0     1\n",
      "10  10    3    2   1.0    4.0   4.0     0\n",
      "11  11    4    2   1.0    5.0   5.0     1\n",
      "LongOnly\n",
      "    id  idx  col  size  price  fees  side\n",
      "0    0    0    0   1.0    1.0   0.0     0\n",
      "1    1    1    0   1.0    2.0   0.0     1\n",
      "2    2    3    0   1.0    4.0   0.0     0\n",
      "3    3    4    0   1.0    5.0   0.0     1\n",
      "4    4    0    1   1.0    1.0   0.1     0\n",
      "5    5    1    1   1.0    2.0   0.2     1\n",
      "6    6    3    1   1.0    4.0   0.4     0\n",
      "7    7    4    1   1.0    5.0   0.5     1\n",
      "8    8    0    2   1.0    1.0   1.0     0\n",
      "9    9    1    2   1.0    2.0   2.0     1\n",
      "10  10    3    2   1.0    4.0   4.0     0\n",
      "11  11    4    2   1.0    5.0   5.0     1\n",
      "ShortOnly\n",
      "    id  idx  col  size  price  fees  side\n",
      "0    0    0    0   1.0    1.0   0.0     1\n",
      "1    1    1    0   1.0    2.0   0.0     0\n",
      "2    2    3    0   1.0    4.0   0.0     1\n",
      "3    3    4    0   1.0    5.0   0.0     0\n",
      "4    4    0    1   1.0    1.0   0.1     1\n",
      "5    5    1    1   1.0    2.0   0.2     0\n",
      "6    6    3    1   1.0    4.0   0.4     1\n",
      "7    7    4    1   1.0    5.0   0.5     0\n",
      "8    8    0    2   1.0    1.0   1.0     1\n",
      "9    9    1    2   1.0    2.0   2.0     0\n",
      "10  10    3    2   1.0    4.0   4.0     1\n",
      "11  11    4    2   1.0    5.0   5.0     0\n"
     ]
    }
   ],
   "source": [
    "test_per_direction(size=order_size_one, fees=[[0., 0.1, 1.]])"
   ]
  },
  {
   "cell_type": "code",
   "execution_count": 55,
   "metadata": {},
   "outputs": [
    {
     "name": "stdout",
     "output_type": "stream",
     "text": [
      "All\n",
      "    id  idx  col  size  price  fees  side\n",
      "0    0    0    0   1.0    1.0   0.0     0\n",
      "1    1    1    0   1.0    2.0   0.0     1\n",
      "2    2    3    0   1.0    4.0   0.0     0\n",
      "3    3    4    0   1.0    5.0   0.0     1\n",
      "4    4    0    1   1.0    1.0   0.1     0\n",
      "5    5    1    1   1.0    2.0   0.1     1\n",
      "6    6    3    1   1.0    4.0   0.1     0\n",
      "7    7    4    1   1.0    5.0   0.1     1\n",
      "8    8    0    2   1.0    1.0   1.0     0\n",
      "9    9    1    2   1.0    2.0   1.0     1\n",
      "10  10    3    2   1.0    4.0   1.0     0\n",
      "11  11    4    2   1.0    5.0   1.0     1\n",
      "LongOnly\n",
      "    id  idx  col  size  price  fees  side\n",
      "0    0    0    0   1.0    1.0   0.0     0\n",
      "1    1    1    0   1.0    2.0   0.0     1\n",
      "2    2    3    0   1.0    4.0   0.0     0\n",
      "3    3    4    0   1.0    5.0   0.0     1\n",
      "4    4    0    1   1.0    1.0   0.1     0\n",
      "5    5    1    1   1.0    2.0   0.1     1\n",
      "6    6    3    1   1.0    4.0   0.1     0\n",
      "7    7    4    1   1.0    5.0   0.1     1\n",
      "8    8    0    2   1.0    1.0   1.0     0\n",
      "9    9    1    2   1.0    2.0   1.0     1\n",
      "10  10    3    2   1.0    4.0   1.0     0\n",
      "11  11    4    2   1.0    5.0   1.0     1\n",
      "ShortOnly\n",
      "    id  idx  col  size  price  fees  side\n",
      "0    0    0    0   1.0    1.0   0.0     1\n",
      "1    1    1    0   1.0    2.0   0.0     0\n",
      "2    2    3    0   1.0    4.0   0.0     1\n",
      "3    3    4    0   1.0    5.0   0.0     0\n",
      "4    4    0    1   1.0    1.0   0.1     1\n",
      "5    5    1    1   1.0    2.0   0.1     0\n",
      "6    6    3    1   1.0    4.0   0.1     1\n",
      "7    7    4    1   1.0    5.0   0.1     0\n",
      "8    8    0    2   1.0    1.0   1.0     1\n",
      "9    9    1    2   1.0    2.0   1.0     0\n",
      "10  10    3    2   1.0    4.0   1.0     1\n",
      "11  11    4    2   1.0    5.0   1.0     0\n"
     ]
    }
   ],
   "source": [
    "test_per_direction(size=order_size_one, fixed_fees=[[0., 0.1, 1.]])"
   ]
  },
  {
   "cell_type": "code",
   "execution_count": 56,
   "metadata": {},
   "outputs": [
    {
     "name": "stdout",
     "output_type": "stream",
     "text": [
      "All\n",
      "    id  idx  col  size  price  fees  side\n",
      "0    0    0    0   1.0    1.0   0.0     0\n",
      "1    1    1    0   1.0    2.0   0.0     1\n",
      "2    2    3    0   1.0    4.0   0.0     0\n",
      "3    3    4    0   1.0    5.0   0.0     1\n",
      "4    4    0    1   1.0    1.1   0.0     0\n",
      "5    5    1    1   1.0    1.8   0.0     1\n",
      "6    6    3    1   1.0    4.4   0.0     0\n",
      "7    7    4    1   1.0    4.5   0.0     1\n",
      "8    8    0    2   1.0    2.0   0.0     0\n",
      "9    9    1    2   1.0    0.0   0.0     1\n",
      "10  10    3    2   1.0    8.0   0.0     0\n",
      "11  11    4    2   1.0    0.0   0.0     1\n",
      "LongOnly\n",
      "    id  idx  col  size  price  fees  side\n",
      "0    0    0    0   1.0    1.0   0.0     0\n",
      "1    1    1    0   1.0    2.0   0.0     1\n",
      "2    2    3    0   1.0    4.0   0.0     0\n",
      "3    3    4    0   1.0    5.0   0.0     1\n",
      "4    4    0    1   1.0    1.1   0.0     0\n",
      "5    5    1    1   1.0    1.8   0.0     1\n",
      "6    6    3    1   1.0    4.4   0.0     0\n",
      "7    7    4    1   1.0    4.5   0.0     1\n",
      "8    8    0    2   1.0    2.0   0.0     0\n",
      "9    9    1    2   1.0    0.0   0.0     1\n",
      "10  10    3    2   1.0    8.0   0.0     0\n",
      "11  11    4    2   1.0    0.0   0.0     1\n",
      "ShortOnly\n",
      "    id  idx  col  size  price  fees  side\n",
      "0    0    0    0   1.0    1.0   0.0     1\n",
      "1    1    1    0   1.0    2.0   0.0     0\n",
      "2    2    3    0   1.0    4.0   0.0     1\n",
      "3    3    4    0   1.0    5.0   0.0     0\n",
      "4    4    0    1   1.0    0.9   0.0     1\n",
      "5    5    1    1   1.0    2.2   0.0     0\n",
      "6    6    3    1   1.0    3.6   0.0     1\n",
      "7    7    4    1   1.0    5.5   0.0     0\n",
      "8    8    0    2   1.0    0.0   0.0     1\n",
      "9    9    1    2   1.0    4.0   0.0     0\n",
      "10  10    3    2   1.0    0.0   0.0     1\n",
      "11  11    4    2   1.0   10.0   0.0     0\n"
     ]
    }
   ],
   "source": [
    "test_per_direction(size=order_size_one, slippage=[[0., 0.1, 1.]])"
   ]
  },
  {
   "cell_type": "code",
   "execution_count": 57,
   "metadata": {},
   "outputs": [
    {
     "name": "stdout",
     "output_type": "stream",
     "text": [
      "All\n",
      "   id  idx  col  size  price  fees  side\n",
      "0   0    0    0   1.0    1.0   0.0     0\n",
      "1   1    1    0   1.0    2.0   0.0     1\n",
      "2   2    3    0   1.0    4.0   0.0     0\n",
      "3   3    4    0   1.0    5.0   0.0     1\n",
      "4   4    0    1   1.0    1.0   0.0     0\n",
      "5   5    1    1   1.0    2.0   0.0     1\n",
      "6   6    3    1   1.0    4.0   0.0     0\n",
      "7   7    4    1   1.0    5.0   0.0     1\n",
      "LongOnly\n",
      "   id  idx  col  size  price  fees  side\n",
      "0   0    0    0   1.0    1.0   0.0     0\n",
      "1   1    1    0   1.0    2.0   0.0     1\n",
      "2   2    3    0   1.0    4.0   0.0     0\n",
      "3   3    4    0   1.0    5.0   0.0     1\n",
      "4   4    0    1   1.0    1.0   0.0     0\n",
      "5   5    1    1   1.0    2.0   0.0     1\n",
      "6   6    3    1   1.0    4.0   0.0     0\n",
      "7   7    4    1   1.0    5.0   0.0     1\n",
      "ShortOnly\n",
      "   id  idx  col  size  price  fees  side\n",
      "0   0    0    0   1.0    1.0   0.0     1\n",
      "1   1    1    0   1.0    2.0   0.0     0\n",
      "2   2    3    0   1.0    4.0   0.0     1\n",
      "3   3    4    0   1.0    5.0   0.0     0\n",
      "4   4    0    1   1.0    1.0   0.0     1\n",
      "5   5    1    1   1.0    2.0   0.0     0\n",
      "6   6    3    1   1.0    4.0   0.0     1\n",
      "7   7    4    1   1.0    5.0   0.0     0\n"
     ]
    }
   ],
   "source": [
    "test_per_direction(size=order_size_one, min_size=[[0., 1., 2.]])"
   ]
  },
  {
   "cell_type": "code",
   "execution_count": 58,
   "metadata": {},
   "outputs": [
    {
     "name": "stdout",
     "output_type": "stream",
     "text": [
      "All\n",
      "    id  idx  col  size  price  fees  side\n",
      "0    0    0    0   0.5    1.0   0.0     0\n",
      "1    1    1    0   0.5    2.0   0.0     1\n",
      "2    2    3    0   0.5    4.0   0.0     0\n",
      "3    3    4    0   0.5    5.0   0.0     1\n",
      "4    4    0    1   1.0    1.0   0.0     0\n",
      "5    5    1    1   1.0    2.0   0.0     1\n",
      "6    6    3    1   1.0    4.0   0.0     0\n",
      "7    7    4    1   1.0    5.0   0.0     1\n",
      "8    8    0    2   1.0    1.0   0.0     0\n",
      "9    9    1    2   1.0    2.0   0.0     1\n",
      "10  10    3    2   1.0    4.0   0.0     0\n",
      "11  11    4    2   1.0    5.0   0.0     1\n",
      "LongOnly\n",
      "    id  idx  col  size  price  fees  side\n",
      "0    0    0    0   0.5    1.0   0.0     0\n",
      "1    1    1    0   0.5    2.0   0.0     1\n",
      "2    2    3    0   0.5    4.0   0.0     0\n",
      "3    3    4    0   0.5    5.0   0.0     1\n",
      "4    4    0    1   1.0    1.0   0.0     0\n",
      "5    5    1    1   1.0    2.0   0.0     1\n",
      "6    6    3    1   1.0    4.0   0.0     0\n",
      "7    7    4    1   1.0    5.0   0.0     1\n",
      "8    8    0    2   1.0    1.0   0.0     0\n",
      "9    9    1    2   1.0    2.0   0.0     1\n",
      "10  10    3    2   1.0    4.0   0.0     0\n",
      "11  11    4    2   1.0    5.0   0.0     1\n",
      "ShortOnly\n",
      "    id  idx  col  size  price  fees  side\n",
      "0    0    0    0   0.5    1.0   0.0     1\n",
      "1    1    1    0   0.5    2.0   0.0     0\n",
      "2    2    3    0   0.5    4.0   0.0     1\n",
      "3    3    4    0   0.5    5.0   0.0     0\n",
      "4    4    0    1   1.0    1.0   0.0     1\n",
      "5    5    1    1   1.0    2.0   0.0     0\n",
      "6    6    3    1   1.0    4.0   0.0     1\n",
      "7    7    4    1   1.0    5.0   0.0     0\n",
      "8    8    0    2   1.0    1.0   0.0     1\n",
      "9    9    1    2   1.0    2.0   0.0     0\n",
      "10  10    3    2   1.0    4.0   0.0     1\n",
      "11  11    4    2   1.0    5.0   0.0     0\n"
     ]
    }
   ],
   "source": [
    "test_per_direction(size=order_size_one, max_size=[[0.5, 1., np.inf]])"
   ]
  },
  {
   "cell_type": "code",
   "execution_count": 59,
   "metadata": {},
   "outputs": [
    {
     "name": "stdout",
     "output_type": "stream",
     "text": [
      "All\n",
      "   id  idx  col  size  price  fees  side\n",
      "0   0    0    0   1.0    1.0   0.0     0\n",
      "1   1    1    0   1.0    2.0   0.0     1\n",
      "2   2    3    0   1.0    4.0   0.0     0\n",
      "3   3    4    0   1.0    5.0   0.0     1\n",
      "4   4    1    1   1.0    2.0   0.0     1\n",
      "5   5    3    1   1.0    4.0   0.0     0\n",
      "6   6    4    1   1.0    5.0   0.0     1\n",
      "LongOnly\n",
      "   id  idx  col  size  price  fees  side\n",
      "0   0    0    0   1.0    1.0   0.0     0\n",
      "1   1    1    0   1.0    2.0   0.0     1\n",
      "2   2    3    0   1.0    4.0   0.0     0\n",
      "3   3    4    0   1.0    5.0   0.0     1\n",
      "4   4    3    1   1.0    4.0   0.0     0\n",
      "5   5    4    1   1.0    5.0   0.0     1\n",
      "ShortOnly\n",
      "   id  idx  col  size  price  fees  side\n",
      "0   0    0    0   1.0    1.0   0.0     1\n",
      "1   1    1    0   1.0    2.0   0.0     0\n",
      "2   2    3    0   1.0    4.0   0.0     1\n",
      "3   3    4    0   1.0    5.0   0.0     0\n",
      "4   4    3    1   1.0    4.0   0.0     1\n",
      "5   5    4    1   1.0    5.0   0.0     0\n"
     ]
    }
   ],
   "source": [
    "test_per_direction(size=order_size_one, reject_prob=[[0., 0.5, 1.]], seed=42)"
   ]
  },
  {
   "cell_type": "code",
   "execution_count": 60,
   "metadata": {},
   "outputs": [
    {
     "name": "stdout",
     "output_type": "stream",
     "text": [
      "All\n",
      "__init__() got an unexpected keyword argument 'close_first'\n",
      "LongOnly\n",
      "__init__() got an unexpected keyword argument 'close_first'\n",
      "ShortOnly\n",
      "__init__() got an unexpected keyword argument 'close_first'\n"
     ]
    }
   ],
   "source": [
    "test_per_direction(size=pd.Series([np.inf, -np.inf, -np.inf, np.inf, np.inf]), close_first=[[False, True]])"
   ]
  },
  {
   "cell_type": "code",
   "execution_count": 61,
   "metadata": {},
   "outputs": [
    {
     "name": "stdout",
     "output_type": "stream",
     "text": [
      "All\n",
      "   id  idx  col    size  price  fees  side\n",
      "0   0    0    0   100.0    1.0   0.0     0\n",
      "1   1    1    0  1000.0    2.0   0.0     1\n",
      "2   2    3    0   500.0    4.0   0.0     0\n",
      "3   3    4    0  1000.0    5.0   0.0     1\n",
      "4   4    1    1  1000.0    2.0   0.0     1\n",
      "5   5    4    1  1000.0    5.0   0.0     1\n",
      "LongOnly\n",
      "   id  idx  col   size  price  fees  side\n",
      "0   0    0    0  100.0    1.0   0.0     0\n",
      "1   1    1    0  100.0    2.0   0.0     1\n",
      "2   2    3    0   50.0    4.0   0.0     0\n",
      "3   3    4    0   50.0    5.0   0.0     1\n",
      "ShortOnly\n",
      "   id  idx  col    size  price  fees  side\n",
      "0   0    0    0  1000.0    1.0   0.0     1\n",
      "1   1    1    0   550.0    2.0   0.0     0\n",
      "2   2    3    0  1000.0    4.0   0.0     1\n",
      "3   3    4    0   800.0    5.0   0.0     0\n",
      "4   4    0    1  1000.0    1.0   0.0     1\n",
      "5   5    3    1  1000.0    4.0   0.0     1\n",
      "6   6    4    1  1000.0    5.0   0.0     0\n",
      "All\n",
      "   id  idx  col   size  price  fees  side\n",
      "0   0    0    0  100.0    1.0   0.0     0\n",
      "1   1    1    0  200.0    2.0   0.0     1\n",
      "2   2    3    0  100.0    4.0   0.0     0\n",
      "3   3    0    1  100.0    1.0   0.0     0\n",
      "4   4    1    1  200.0    2.0   0.0     1\n",
      "5   5    3    1  100.0    4.0   0.0     0\n",
      "LongOnly\n",
      "   id  idx  col   size  price  fees  side\n",
      "0   0    0    0  100.0    1.0   0.0     0\n",
      "1   1    1    0  100.0    2.0   0.0     1\n",
      "2   2    3    0   50.0    4.0   0.0     0\n",
      "3   3    4    0   50.0    5.0   0.0     1\n",
      "4   4    0    1  100.0    1.0   0.0     0\n",
      "5   5    1    1  100.0    2.0   0.0     1\n",
      "6   6    3    1   50.0    4.0   0.0     0\n",
      "7   7    4    1   50.0    5.0   0.0     1\n",
      "ShortOnly\n",
      "   id  idx  col   size  price  fees  side\n",
      "0   0    0    0  100.0    1.0   0.0     1\n",
      "1   1    1    0  100.0    2.0   0.0     0\n",
      "2   2    0    1  100.0    1.0   0.0     1\n",
      "3   3    1    1  100.0    2.0   0.0     0\n"
     ]
    }
   ],
   "source": [
    "test_per_direction(size=order_size_one * 1000, allow_partial=[[True, False]])\n",
    "test_per_direction(size=order_size, allow_partial=[[True, False]])"
   ]
  },
  {
   "cell_type": "code",
   "execution_count": 62,
   "metadata": {},
   "outputs": [
    {
     "name": "stdout",
     "output_type": "stream",
     "text": [
      "All\n",
      "   id  idx  col    size  price  fees  side\n",
      "0   0    0    0   100.0    1.0   0.0     0\n",
      "1   1    1    0  1000.0    2.0   0.0     1\n",
      "2   2    3    0   500.0    4.0   0.0     0\n",
      "3   3    4    0  1000.0    5.0   0.0     1\n",
      "LongOnly\n",
      "   id  idx  col   size  price  fees  side\n",
      "0   0    0    0  100.0    1.0   0.0     0\n",
      "1   1    1    0  100.0    2.0   0.0     1\n",
      "2   2    3    0   50.0    4.0   0.0     0\n",
      "3   3    4    0   50.0    5.0   0.0     1\n",
      "ShortOnly\n",
      "   id  idx  col    size  price  fees  side\n",
      "0   0    0    0  1000.0    1.0   0.0     1\n",
      "1   1    1    0   550.0    2.0   0.0     0\n",
      "2   2    3    0  1000.0    4.0   0.0     1\n",
      "3   3    4    0   800.0    5.0   0.0     0\n",
      "All\n",
      "Final size is less than requested\n",
      "LongOnly\n",
      "Final size is less than requested\n",
      "ShortOnly\n",
      "Final size is less than requested\n"
     ]
    }
   ],
   "source": [
    "test_per_direction(size=order_size_one * 1000, allow_partial=True, raise_reject=True)\n",
    "test_per_direction(size=order_size_one * 1000, allow_partial=False, raise_reject=True)"
   ]
  },
  {
   "cell_type": "code",
   "execution_count": 63,
   "metadata": {},
   "outputs": [
    {
     "name": "stdout",
     "output_type": "stream",
     "text": [
      "   id  idx  col  group   cash  position   debt  free_cash  val_price  value  \\\n",
      "0   0    0    0      0  100.0       0.0    0.0      100.0        1.0  100.0   \n",
      "1   1    1    0      0    0.0     100.0    0.0        0.0        2.0  200.0   \n",
      "2   2    2    0      0  400.0    -100.0  200.0        0.0        3.0  100.0   \n",
      "3   3    3    0      0  400.0    -100.0  200.0        0.0        4.0    0.0   \n",
      "4   4    4    0      0    0.0       0.0    0.0        0.0        5.0    0.0   \n",
      "\n",
      "   ...  new_free_cash  new_val_price  new_value  res_size  res_price  \\\n",
      "0  ...            0.0            1.0      100.0     100.0        1.0   \n",
      "1  ...            0.0            2.0      200.0     200.0        2.0   \n",
      "2  ...            0.0            3.0      100.0       NaN        NaN   \n",
      "3  ...            0.0            4.0        0.0     100.0        4.0   \n",
      "4  ...            0.0            5.0        0.0       NaN        NaN   \n",
      "\n",
      "   res_fees  res_side  res_status  res_status_info  order_id  \n",
      "0       0.0         0           0               -1         0  \n",
      "1       0.0         1           0               -1         1  \n",
      "2       NaN        -1           1                0        -1  \n",
      "3       0.0         0           0               -1         2  \n",
      "4       NaN        -1           2                6        -1  \n",
      "\n",
      "[5 rows x 37 columns]\n"
     ]
    }
   ],
   "source": [
    "portfolio = vbt.Portfolio.from_orders(price, order_size, log=True, direction='both')\n",
    "\n",
    "print(portfolio.logs.records)"
   ]
  },
  {
   "cell_type": "code",
   "execution_count": 64,
   "metadata": {},
   "outputs": [
    {
     "name": "stdout",
     "output_type": "stream",
     "text": [
      "   id  idx  col   size  price  fees  side\n",
      "0   0    0    0  100.0    1.0   0.0     0\n",
      "1   1    1    0  200.0    2.0   0.0     1\n",
      "2   2    3    0  100.0    4.0   0.0     0\n",
      "3   3    0    1  100.0    1.0   0.0     0\n",
      "4   4    1    1  200.0    2.0   0.0     1\n",
      "5   5    3    1  100.0    4.0   0.0     0\n",
      "6   6    0    2  100.0    1.0   0.0     0\n",
      "7   7    1    2  200.0    2.0   0.0     1\n",
      "8   8    3    2  100.0    4.0   0.0     0\n"
     ]
    }
   ],
   "source": [
    "portfolio = vbt.Portfolio.from_orders(\n",
    "    price_wide, order_size, \n",
    "    group_by=np.array([0, 0, 1]), direction='both')\n",
    "\n",
    "print(portfolio.orders.records)"
   ]
  },
  {
   "cell_type": "code",
   "execution_count": 65,
   "metadata": {},
   "outputs": [
    {
     "name": "stdout",
     "output_type": "stream",
     "text": [
      "   id  idx  col   size  price  fees  side\n",
      "0   0    0    0  100.0    1.0   0.0     0\n",
      "1   1    1    0  200.0    2.0   0.0     1\n",
      "2   2    3    0  100.0    4.0   0.0     0\n",
      "3   3    0    2  100.0    1.0   0.0     0\n",
      "4   4    1    2  200.0    2.0   0.0     1\n",
      "5   5    3    2  100.0    4.0   0.0     0\n",
      "            a  b  c\n",
      "2020-01-01  0  1  0\n",
      "2020-01-02  0  1  0\n",
      "2020-01-03  0  1  0\n",
      "2020-01-04  0  1  0\n",
      "2020-01-05  0  1  0\n"
     ]
    }
   ],
   "source": [
    "portfolio = vbt.Portfolio.from_orders(\n",
    "    price_wide, order_size, \n",
    "    group_by=np.array([0, 0, 1]), cash_sharing=True, direction='both')\n",
    "\n",
    "print(portfolio.orders.records)\n",
    "print(portfolio.call_seq)"
   ]
  },
  {
   "cell_type": "code",
   "execution_count": 66,
   "metadata": {},
   "outputs": [
    {
     "name": "stdout",
     "output_type": "stream",
     "text": [
      "   id  idx  col   size  price  fees  side\n",
      "0   0    0    1  100.0    1.0   0.0     0\n",
      "1   1    1    1  200.0    2.0   0.0     1\n",
      "2   2    3    1  100.0    4.0   0.0     0\n",
      "3   3    0    2  100.0    1.0   0.0     0\n",
      "4   4    1    2  200.0    2.0   0.0     1\n",
      "5   5    3    2  100.0    4.0   0.0     0\n",
      "            a  b  c\n",
      "2020-01-01  1  0  0\n",
      "2020-01-02  1  0  0\n",
      "2020-01-03  1  0  0\n",
      "2020-01-04  1  0  0\n",
      "2020-01-05  1  0  0\n"
     ]
    }
   ],
   "source": [
    "portfolio = vbt.Portfolio.from_orders(\n",
    "    price_wide, order_size, \n",
    "    group_by=np.array([0, 0, 1]), cash_sharing=True, direction='both', call_seq='reversed')\n",
    "\n",
    "print(portfolio.orders.records)\n",
    "print(portfolio.call_seq)"
   ]
  },
  {
   "cell_type": "code",
   "execution_count": 67,
   "metadata": {},
   "outputs": [
    {
     "name": "stdout",
     "output_type": "stream",
     "text": [
      "   id  idx  col   size  price  fees  side\n",
      "0   0    0    0  100.0    1.0   0.0     0\n",
      "1   1    1    0  200.0    2.0   0.0     1\n",
      "2   2    3    1  100.0    4.0   0.0     0\n",
      "3   3    4    1  120.0    5.0   0.0     1\n",
      "4   4    0    2  100.0    1.0   0.0     0\n",
      "5   5    1    2  200.0    2.0   0.0     1\n",
      "6   6    3    2  100.0    4.0   0.0     0\n",
      "            a  b  c\n",
      "2020-01-01  0  1  0\n",
      "2020-01-02  0  1  0\n",
      "2020-01-03  0  1  0\n",
      "2020-01-04  1  0  0\n",
      "2020-01-05  0  1  0\n",
      "   id  idx  col   size  price  fees  side\n",
      "0   0    0    1  100.0    1.0   0.0     0\n",
      "1   1    1    1  200.0    2.0   0.0     1\n",
      "2   2    3    1  100.0    4.0   0.0     0\n",
      "3   3    0    2  100.0    1.0   0.0     0\n",
      "4   4    1    2  200.0    2.0   0.0     1\n",
      "5   5    3    2  100.0    4.0   0.0     0\n",
      "            a  b  c\n",
      "2020-01-01  1  0  0\n",
      "2020-01-02  0  1  0\n",
      "2020-01-03  1  0  0\n",
      "2020-01-04  1  0  0\n",
      "2020-01-05  1  0  0\n"
     ]
    }
   ],
   "source": [
    "portfolio = vbt.Portfolio.from_orders(\n",
    "    price_wide, order_size, \n",
    "    group_by=np.array([0, 0, 1]), cash_sharing=True, direction='both', call_seq='random')\n",
    "\n",
    "print(portfolio.orders.records)\n",
    "print(portfolio.call_seq)\n",
    "\n",
    "portfolio = vbt.Portfolio.from_orders(\n",
    "    price_wide, order_size, \n",
    "    group_by=np.array([0, 0, 1]), cash_sharing=True, direction='both', call_seq='random', seed=42)\n",
    "\n",
    "print(portfolio.orders.records)\n",
    "print(portfolio.call_seq)"
   ]
  },
  {
   "cell_type": "code",
   "execution_count": 68,
   "metadata": {},
   "outputs": [
    {
     "name": "stdout",
     "output_type": "stream",
     "text": [
      "All\n",
      "   id  idx  col   size  price  fees  side\n",
      "0   0    0    2  100.0    1.0   0.0     0\n",
      "1   1    1    2  200.0    1.0   0.0     1\n",
      "2   2    1    1  200.0    1.0   0.0     0\n",
      "3   3    2    1  200.0    1.0   0.0     1\n",
      "4   4    2    0  200.0    1.0   0.0     0\n",
      "5   5    3    0  200.0    1.0   0.0     1\n",
      "6   6    3    2  200.0    1.0   0.0     0\n",
      "7   7    4    2  200.0    1.0   0.0     1\n",
      "8   8    4    1  200.0    1.0   0.0     0\n",
      "   0  1  2\n",
      "0  0  1  2\n",
      "1  2  0  1\n",
      "2  1  2  0\n",
      "3  0  1  2\n",
      "4  2  0  1\n",
      "       0      1      2\n",
      "0    0.0    0.0  100.0\n",
      "1    0.0  200.0 -100.0\n",
      "2  200.0    0.0 -100.0\n",
      "3    0.0    0.0  100.0\n",
      "4    0.0  200.0 -100.0\n",
      "0    100.0\n",
      "1    100.0\n",
      "2    100.0\n",
      "3    100.0\n",
      "4    100.0\n",
      "dtype: float64\n",
      "LongOnly\n",
      "   id  idx  col   size  price  fees  side\n",
      "0   0    0    2  100.0    1.0   0.0     0\n",
      "1   1    1    2  100.0    1.0   0.0     1\n",
      "2   2    1    1  100.0    1.0   0.0     0\n",
      "3   3    2    1  100.0    1.0   0.0     1\n",
      "4   4    2    0  100.0    1.0   0.0     0\n",
      "5   5    3    0  100.0    1.0   0.0     1\n",
      "6   6    3    2  100.0    1.0   0.0     0\n",
      "7   7    4    2  100.0    1.0   0.0     1\n",
      "8   8    4    1  100.0    1.0   0.0     0\n",
      "   0  1  2\n",
      "0  0  1  2\n",
      "1  2  0  1\n",
      "2  1  2  0\n",
      "3  0  1  2\n",
      "4  2  0  1\n",
      "       0      1      2\n",
      "0    0.0    0.0  100.0\n",
      "1    0.0  100.0    0.0\n",
      "2  100.0    0.0    0.0\n",
      "3    0.0    0.0  100.0\n",
      "4    0.0  100.0    0.0\n",
      "0    100.0\n",
      "1    100.0\n",
      "2    100.0\n",
      "3    100.0\n",
      "4    100.0\n",
      "dtype: float64\n",
      "ShortOnly\n",
      "   id  idx  col   size  price  fees  side\n",
      "0   0    0    2  100.0    1.0   0.0     1\n",
      "1   1    1    2  100.0    1.0   0.0     0\n",
      "2   2    2    0  100.0    1.0   0.0     1\n",
      "3   3    3    0  100.0    1.0   0.0     0\n",
      "4   4    4    1  100.0    1.0   0.0     1\n",
      "   0  1  2\n",
      "0  2  0  1\n",
      "1  1  0  2\n",
      "2  0  2  1\n",
      "3  2  1  0\n",
      "4  1  0  2\n",
      "       0      1      2\n",
      "0    0.0    0.0 -100.0\n",
      "1    0.0    0.0    0.0\n",
      "2 -100.0    0.0    0.0\n",
      "3    0.0    0.0    0.0\n",
      "4    0.0 -100.0    0.0\n",
      "0    100.0\n",
      "1    100.0\n",
      "2    100.0\n",
      "3    100.0\n",
      "4    100.0\n",
      "dtype: float64\n"
     ]
    }
   ],
   "source": [
    "for direction in ('Both', 'LongOnly', 'ShortOnly'):\n",
    "    print(direction)\n",
    "    portfolio = vbt.Portfolio.from_orders(1., pd.DataFrame([\n",
    "        [0., 0., np.inf],\n",
    "        [0., np.inf, -np.inf],\n",
    "        [np.inf, -np.inf, 0.],\n",
    "        [-np.inf, 0., np.inf],\n",
    "        [0., np.inf, -np.inf],\n",
    "    ]), group_by=np.array([0, 0, 0]), \n",
    "        cash_sharing=True, call_seq='auto', direction=direction)\n",
    "\n",
    "    print(portfolio.orders.records)\n",
    "    print(portfolio.call_seq)\n",
    "    print(portfolio.assets())\n",
    "    print(portfolio.value())\n",
    "    # notice how shorting with np.inf only accounts for current cash, not for other assets!"
   ]
  },
  {
   "cell_type": "code",
   "execution_count": 69,
   "metadata": {},
   "outputs": [
    {
     "name": "stdout",
     "output_type": "stream",
     "text": [
      "All\n",
      "   id  idx  col  size  price  fees  side\n",
      "0   0    0    0  75.0    1.0   0.0     0\n",
      "1   1    0    1  75.0    1.0   0.0     1\n",
      "LongOnly\n",
      "   id  idx  col  size  price  fees  side\n",
      "0   0    0    0  75.0    1.0   0.0     0\n",
      "ShortOnly\n",
      "   id  idx  col  size  price  fees  side\n",
      "0   0    0    0  75.0    1.0   0.0     1\n",
      "               0     1\n",
      "2020-01-01  75.0 -75.0\n",
      "2020-01-02  75.0 -75.0\n",
      "2020-01-03  75.0 -75.0\n",
      "2020-01-04  75.0 -75.0\n",
      "2020-01-05  75.0 -75.0\n",
      "   id  idx  col  size  price  fees  side\n",
      "0   0    0    0  75.0    1.0   0.0     0\n",
      "1   1    0    1  25.0    1.0   0.0     0\n",
      "               a     b    c\n",
      "2020-01-01  75.0  25.0  0.0\n",
      "2020-01-02  75.0  25.0  0.0\n",
      "2020-01-03  75.0  25.0  0.0\n",
      "2020-01-04  75.0  25.0  0.0\n",
      "2020-01-05  75.0  25.0  0.0\n"
     ]
    }
   ],
   "source": [
    "test_per_direction(size=[[75., -75.]], size_type=SizeType.TargetAmount)\n",
    "\n",
    "portfolio = vbt.Portfolio.from_orders(\n",
    "    price, [[75., -75.]], size_type=SizeType.TargetAmount, direction='both')\n",
    "print(portfolio.assets())\n",
    "\n",
    "portfolio = vbt.Portfolio.from_orders(\n",
    "    price_wide, 75., size_type=SizeType.TargetAmount, \n",
    "    group_by=np.array([0, 0, 0]), cash_sharing=True, direction='both')\n",
    "print(portfolio.orders.records)\n",
    "print(portfolio.assets())"
   ]
  },
  {
   "cell_type": "code",
   "execution_count": 70,
   "metadata": {},
   "outputs": [
    {
     "name": "stdout",
     "output_type": "stream",
     "text": [
      "All\n",
      "   id  idx  col       size  price  fees  side\n",
      "0   0    0    0  50.000000    1.0   0.0     0\n",
      "1   1    1    0  25.000000    2.0   0.0     1\n",
      "2   2    2    0   8.333333    3.0   0.0     1\n",
      "3   3    3    0   4.166667    4.0   0.0     1\n",
      "4   4    4    0   2.500000    5.0   0.0     1\n",
      "5   5    0    1  50.000000    1.0   0.0     1\n",
      "6   6    1    1  25.000000    2.0   0.0     0\n",
      "7   7    2    1   8.333333    3.0   0.0     0\n",
      "8   8    3    1   4.166667    4.0   0.0     0\n",
      "9   9    4    1   2.500000    5.0   0.0     0\n",
      "LongOnly\n",
      "   id  idx  col       size  price  fees  side\n",
      "0   0    0    0  50.000000    1.0   0.0     0\n",
      "1   1    1    0  25.000000    2.0   0.0     1\n",
      "2   2    2    0   8.333333    3.0   0.0     1\n",
      "3   3    3    0   4.166667    4.0   0.0     1\n",
      "4   4    4    0   2.500000    5.0   0.0     1\n",
      "ShortOnly\n",
      "   id  idx  col       size  price  fees  side\n",
      "0   0    0    0  50.000000    1.0   0.0     1\n",
      "1   1    1    0  25.000000    2.0   0.0     0\n",
      "2   2    2    0   8.333333    3.0   0.0     0\n",
      "3   3    3    0   4.166667    4.0   0.0     0\n",
      "4   4    4    0   2.500000    5.0   0.0     0\n",
      "               0     1\n",
      "2020-01-01  50.0 -50.0\n",
      "2020-01-02  50.0 -50.0\n",
      "2020-01-03  50.0 -50.0\n",
      "2020-01-04  50.0 -50.0\n",
      "2020-01-05  50.0 -50.0\n",
      "    id  idx  col       size  price  fees  side\n",
      "0    0    0    0  50.000000    1.0   0.0     0\n",
      "1    1    0    1  50.000000    1.0   0.0     0\n",
      "2    2    1    0  25.000000    2.0   0.0     1\n",
      "3    3    1    1  25.000000    2.0   0.0     1\n",
      "4    4    1    2  25.000000    2.0   0.0     0\n",
      "5    5    2    0   8.333333    3.0   0.0     1\n",
      "6    6    2    1   8.333333    3.0   0.0     1\n",
      "7    7    2    2   8.333333    3.0   0.0     1\n",
      "8    8    3    0   4.166667    4.0   0.0     1\n",
      "9    9    3    1   4.166667    4.0   0.0     1\n",
      "10  10    3    2   4.166667    4.0   0.0     1\n",
      "11  11    4    0   2.500000    5.0   0.0     1\n",
      "12  12    4    1   2.500000    5.0   0.0     1\n",
      "13  13    4    2   2.500000    5.0   0.0     1\n",
      "               a     b     c\n",
      "2020-01-01  50.0  50.0   0.0\n",
      "2020-01-02  50.0  50.0  50.0\n",
      "2020-01-03  50.0  50.0  50.0\n",
      "2020-01-04  50.0  50.0  50.0\n",
      "2020-01-05  50.0  50.0  50.0\n"
     ]
    }
   ],
   "source": [
    "test_per_direction(size=[[50., -50.]], size_type=SizeType.TargetValue)\n",
    "\n",
    "portfolio = vbt.Portfolio.from_orders(\n",
    "    price, [[50., -50.]], size_type=SizeType.TargetValue, direction='both')\n",
    "print(portfolio.asset_value())\n",
    "\n",
    "portfolio = vbt.Portfolio.from_orders(\n",
    "    price_wide, 50., size_type=SizeType.TargetValue, \n",
    "    group_by=np.array([0, 0, 0]), cash_sharing=True, direction='both')\n",
    "print(portfolio.orders.records)\n",
    "print(portfolio.asset_value(group_by=False))"
   ]
  },
  {
   "cell_type": "code",
   "execution_count": 71,
   "metadata": {},
   "outputs": [
    {
     "name": "stdout",
     "output_type": "stream",
     "text": [
      "All\n",
      "   id  idx  col       size  price  fees  side\n",
      "0   0    0    0  50.000000    1.0   0.0     0\n",
      "1   1    1    0  12.500000    2.0   0.0     1\n",
      "2   2    2    0   6.250000    3.0   0.0     1\n",
      "3   3    3    0   3.906250    4.0   0.0     1\n",
      "4   4    4    0   2.734375    5.0   0.0     1\n",
      "5   5    0    1  50.000000    1.0   0.0     1\n",
      "6   6    1    1  37.500000    2.0   0.0     0\n",
      "7   7    2    1   6.250000    3.0   0.0     0\n",
      "8   8    3    1   2.343750    4.0   0.0     0\n",
      "9   9    4    1   1.171875    5.0   0.0     0\n",
      "LongOnly\n",
      "   id  idx  col       size  price  fees  side\n",
      "0   0    0    0  50.000000    1.0   0.0     0\n",
      "1   1    1    0  12.500000    2.0   0.0     1\n",
      "2   2    2    0   6.250000    3.0   0.0     1\n",
      "3   3    3    0   3.906250    4.0   0.0     1\n",
      "4   4    4    0   2.734375    5.0   0.0     1\n",
      "ShortOnly\n",
      "   id  idx  col       size  price  fees  side\n",
      "0   0    0    0  50.000000    1.0   0.0     1\n",
      "1   1    1    0  37.500000    2.0   0.0     0\n",
      "2   2    2    0   6.250000    3.0   0.0     0\n",
      "3   3    3    0   2.343750    4.0   0.0     0\n",
      "4   4    4    0   1.171875    5.0   0.0     0\n",
      "              0    1\n",
      "2020-01-01  0.5 -0.5\n",
      "2020-01-02  0.5 -0.5\n",
      "2020-01-03  0.5 -0.5\n",
      "2020-01-04  0.5 -0.5\n",
      "2020-01-05  0.5 -0.5\n",
      "   id  idx  col  size  price  fees  side\n",
      "0   0    0    0  50.0    1.0   0.0     0\n",
      "1   1    0    1  50.0    1.0   0.0     0\n",
      "                   a         b    c\n",
      "2020-01-01  0.500000  0.500000  0.0\n",
      "2020-01-02  0.666667  0.666667  0.0\n",
      "2020-01-03  0.750000  0.750000  0.0\n",
      "2020-01-04  0.800000  0.800000  0.0\n",
      "2020-01-05  0.833333  0.833333  0.0\n"
     ]
    }
   ],
   "source": [
    "test_per_direction(size=[[0.5, -0.5]], size_type=SizeType.TargetPercent)\n",
    "\n",
    "portfolio = vbt.Portfolio.from_orders(\n",
    "    price, [[0.5, -0.5]], size_type=SizeType.TargetPercent, direction='both')\n",
    "print(portfolio.asset_value() / portfolio.value())\n",
    "\n",
    "portfolio = vbt.Portfolio.from_orders(\n",
    "    price_wide, 0.5, size_type=SizeType.TargetPercent, \n",
    "    group_by=np.array([0, 0, 0]), cash_sharing=True, direction='both')\n",
    "print(portfolio.orders.records)\n",
    "print(portfolio.asset_value(group_by=False) / portfolio.value(group_by=False))"
   ]
  },
  {
   "cell_type": "code",
   "execution_count": 72,
   "metadata": {},
   "outputs": [
    {
     "name": "stdout",
     "output_type": "stream",
     "text": [
      "               a     b     c\n",
      "2020-01-01   0.0  30.0  70.0\n",
      "2020-01-02  70.0   0.0  30.0\n",
      "2020-01-03  30.0  70.0   0.0\n",
      "2020-01-04   0.0  30.0  70.0\n",
      "2020-01-05  70.0  30.0   0.0\n"
     ]
    }
   ],
   "source": [
    "price_one = pd.Series([1., 1., 1., 1., 1.], index=price.index)\n",
    "target_hold_value = pd.DataFrame({\n",
    "    'a': [0., 70., 30., 0., 70.],\n",
    "    'b': [30., 0., 70., 30., 30.],\n",
    "    'c': [70., 30., 0., 70., 0.]\n",
    "}, index=price.index)\n",
    "print(target_hold_value)"
   ]
  },
  {
   "cell_type": "code",
   "execution_count": 75,
   "metadata": {},
   "outputs": [
    {
     "name": "stdout",
     "output_type": "stream",
     "text": [
      "   id  idx  col  size  price  fees  side\n",
      "0   0    0    1  30.0    1.0   0.0     0\n",
      "1   1    0    2  70.0    1.0   0.0     0\n",
      "2   2    1    2  40.0    1.0   0.0     1\n",
      "3   3    1    1  30.0    1.0   0.0     1\n",
      "4   4    2    1  70.0    1.0   0.0     0\n",
      "5   5    2    2  30.0    1.0   0.0     1\n",
      "6   6    3    2  30.0    1.0   0.0     0\n",
      "7   7    3    1  40.0    1.0   0.0     1\n",
      "8   8    4    0  40.0    1.0   0.0     0\n",
      "9   9    4    2  30.0    1.0   0.0     1\n",
      "               a     b     c\n",
      "2020-01-01   0.0  30.0  70.0\n",
      "2020-01-02   0.0 -30.0 -40.0\n",
      "2020-01-03   0.0  70.0 -30.0\n",
      "2020-01-04   0.0 -40.0  30.0\n",
      "2020-01-05  40.0   0.0 -30.0\n",
      "               a     b     c\n",
      "2020-01-01   0.0  30.0  70.0\n",
      "2020-01-02   0.0   0.0  30.0\n",
      "2020-01-03   0.0  70.0   0.0\n",
      "2020-01-04   0.0  30.0  30.0\n",
      "2020-01-05  40.0  30.0   0.0\n",
      "            a  b  c\n",
      "2020-01-01  1  2  0\n",
      "2020-01-02  0  2  1\n",
      "2020-01-03  1  0  2\n",
      "2020-01-04  0  2  1\n",
      "2020-01-05  1  0  2\n"
     ]
    }
   ],
   "source": [
    "portfolio = vbt.Portfolio.from_orders(\n",
    "    price_one, target_hold_value, size_type=SizeType.TargetValue,\n",
    "    group_by=np.array([0, 0, 0]), cash_sharing=True,\n",
    "    call_seq='random', seed=43)\n",
    "\n",
    "print(portfolio.orders.records)\n",
    "print(portfolio.asset_flow())\n",
    "print(portfolio.asset_value(group_by=False))  # order fixed -> cannot rebalance properly\n",
    "print(portfolio.call_seq)"
   ]
  },
  {
   "cell_type": "code",
   "execution_count": 76,
   "metadata": {},
   "outputs": [
    {
     "name": "stdout",
     "output_type": "stream",
     "text": [
      "    id  idx  col  size  price  fees  side\n",
      "0    0    0    1  30.0    1.0   0.0     0\n",
      "1    1    0    2  70.0    1.0   0.0     0\n",
      "2    2    1    2  40.0    1.0   0.0     1\n",
      "3    3    1    1  30.0    1.0   0.0     1\n",
      "4    4    1    0  70.0    1.0   0.0     0\n",
      "5    5    2    0  40.0    1.0   0.0     1\n",
      "6    6    2    2  30.0    1.0   0.0     1\n",
      "7    7    2    1  70.0    1.0   0.0     0\n",
      "8    8    3    1  40.0    1.0   0.0     1\n",
      "9    9    3    0  30.0    1.0   0.0     1\n",
      "10  10    3    2  70.0    1.0   0.0     0\n",
      "11  11    4    2  70.0    1.0   0.0     1\n",
      "12  12    4    0  70.0    1.0   0.0     0\n",
      "               a     b     c\n",
      "2020-01-01   0.0  30.0  70.0\n",
      "2020-01-02  70.0 -30.0 -40.0\n",
      "2020-01-03 -40.0  70.0 -30.0\n",
      "2020-01-04 -30.0 -40.0  70.0\n",
      "2020-01-05  70.0   0.0 -70.0\n",
      "               a     b     c\n",
      "2020-01-01   0.0  30.0  70.0\n",
      "2020-01-02  70.0   0.0  30.0\n",
      "2020-01-03  30.0  70.0   0.0\n",
      "2020-01-04   0.0  30.0  70.0\n",
      "2020-01-05  70.0  30.0   0.0\n",
      "            a  b  c\n",
      "2020-01-01  0  1  2\n",
      "2020-01-02  2  1  0\n",
      "2020-01-03  0  2  1\n",
      "2020-01-04  1  0  2\n",
      "2020-01-05  2  1  0\n"
     ]
    }
   ],
   "source": [
    "portfolio = vbt.Portfolio.from_orders(\n",
    "    price_one, target_hold_value, size_type=SizeType.TargetValue, \n",
    "    group_by=np.array([0, 0, 0]), cash_sharing=True,\n",
    "    call_seq='auto')\n",
    "\n",
    "print(portfolio.orders.records)\n",
    "print(portfolio.asset_flow())\n",
    "print(portfolio.asset_value(group_by=False))  # order dynamic -> can rebalance\n",
    "print(portfolio.call_seq)"
   ]
  },
  {
   "cell_type": "code",
   "execution_count": 77,
   "metadata": {},
   "outputs": [
    {
     "name": "stdout",
     "output_type": "stream",
     "text": [
      "    id  idx  col  size  price  fees  side\n",
      "0    0    0    1  30.0    1.0   0.0     0\n",
      "1    1    0    2  70.0    1.0   0.0     0\n",
      "2    2    1    2  40.0    1.0   0.0     1\n",
      "3    3    1    1  30.0    1.0   0.0     1\n",
      "4    4    1    0  70.0    1.0   0.0     0\n",
      "5    5    2    0  40.0    1.0   0.0     1\n",
      "6    6    2    2  30.0    1.0   0.0     1\n",
      "7    7    2    1  70.0    1.0   0.0     0\n",
      "8    8    3    1  40.0    1.0   0.0     1\n",
      "9    9    3    0  30.0    1.0   0.0     1\n",
      "10  10    3    2  70.0    1.0   0.0     0\n",
      "11  11    4    2  70.0    1.0   0.0     1\n",
      "12  12    4    0  70.0    1.0   0.0     0\n",
      "               a     b     c\n",
      "2020-01-01   0.0  30.0  70.0\n",
      "2020-01-02  70.0 -30.0 -40.0\n",
      "2020-01-03 -40.0  70.0 -30.0\n",
      "2020-01-04 -30.0 -40.0  70.0\n",
      "2020-01-05  70.0   0.0 -70.0\n",
      "               a     b     c\n",
      "2020-01-01   0.0  30.0  70.0\n",
      "2020-01-02  70.0   0.0  30.0\n",
      "2020-01-03  30.0  70.0   0.0\n",
      "2020-01-04   0.0  30.0  70.0\n",
      "2020-01-05  70.0  30.0   0.0\n",
      "            a  b  c\n",
      "2020-01-01  0  1  2\n",
      "2020-01-02  2  1  0\n",
      "2020-01-03  0  2  1\n",
      "2020-01-04  1  0  2\n",
      "2020-01-05  2  1  0\n"
     ]
    }
   ],
   "source": [
    "portfolio = vbt.Portfolio.from_orders(\n",
    "    price_one, target_hold_value / 100., size_type=SizeType.TargetPercent, \n",
    "    group_by=np.array([0, 0, 0]), cash_sharing=True,\n",
    "    call_seq='auto')\n",
    "\n",
    "print(portfolio.orders.records)\n",
    "print(portfolio.asset_flow())\n",
    "print(portfolio.asset_value(group_by=False))\n",
    "print(portfolio.call_seq)"
   ]
  },
  {
   "cell_type": "markdown",
   "metadata": {},
   "source": [
    "## from_signals"
   ]
  },
  {
   "cell_type": "code",
   "execution_count": 2,
   "metadata": {},
   "outputs": [
    {
     "name": "stdout",
     "output_type": "stream",
     "text": [
      "(5,) (5, 3)\n",
      "(5,) (5, 3)\n",
      "(1000,) (1000, 1000)\n",
      "(1000,) (1000, 1000)\n"
     ]
    }
   ],
   "source": [
    "entries = pd.Series([True, True, True, False, False], index=price.index)\n",
    "entries_wide = entries.vbt.tile(3, keys=['a', 'b', 'c'])\n",
    "print(entries.shape, entries_wide.shape)\n",
    "\n",
    "exits = pd.Series([False, False, True, True, True], index=price.index)\n",
    "exits_wide = exits.vbt.tile(3, keys=['a', 'b', 'c'])\n",
    "print(exits.shape, exits_wide.shape)\n",
    "\n",
    "big_entries = pd.DataFrame.vbt.signals.empty((1000,), index=big_price.index)\n",
    "big_entries.iloc[0::2] = True\n",
    "big_entries_wide = big_entries.vbt.tile(1000)\n",
    "print(big_entries.shape, big_entries_wide.shape)\n",
    "\n",
    "big_exits = pd.DataFrame.vbt.signals.empty((1000,), index=big_price.index)\n",
    "big_exits.iloc[1::2] = True\n",
    "big_exits_wide = big_exits.vbt.tile(1000)\n",
    "print(big_exits.shape, big_exits_wide.shape)"
   ]
  },
  {
   "cell_type": "code",
   "execution_count": 3,
   "metadata": {},
   "outputs": [
    {
     "name": "stdout",
     "output_type": "stream",
     "text": [
      "2.72 ms ± 238 µs per loop (mean ± std. dev. of 7 runs, 1 loop each)\n"
     ]
    }
   ],
   "source": [
    "%timeit vbt.Portfolio.from_signals(\\\n",
    "    big_price, big_entries, big_exits,\\\n",
    "    size=1., init_cash=np.inf, accumulate=True)"
   ]
  },
  {
   "cell_type": "code",
   "execution_count": 5,
   "metadata": {},
   "outputs": [
    {
     "name": "stdout",
     "output_type": "stream",
     "text": [
      "95.1 ms ± 2.6 ms per loop (mean ± std. dev. of 7 runs, 10 loops each)\n"
     ]
    }
   ],
   "source": [
    "%timeit vbt.Portfolio.from_signals(\\\n",
    "    big_price_wide, big_entries_wide, big_exits_wide,\\\n",
    "    size=1., init_cash=np.inf, accumulate=True)"
   ]
  },
  {
   "cell_type": "code",
   "execution_count": 6,
   "metadata": {},
   "outputs": [
    {
     "name": "stdout",
     "output_type": "stream",
     "text": [
      "104 ms ± 1.87 ms per loop (mean ± std. dev. of 7 runs, 10 loops each)\n"
     ]
    }
   ],
   "source": [
    "%timeit vbt.Portfolio.from_signals(\\\n",
    "    big_price_wide, big_entries_wide, big_exits_wide,\\\n",
    "    size=1., init_cash=np.inf, sl_stop=np.inf, tp_stop=np.inf, accumulate=True)"
   ]
  },
  {
   "cell_type": "code",
   "execution_count": 8,
   "metadata": {},
   "outputs": [
    {
     "name": "stdout",
     "output_type": "stream",
     "text": [
      "171 ms ± 6.43 ms per loop (mean ± std. dev. of 7 runs, 1 loop each)\n"
     ]
    }
   ],
   "source": [
    "%timeit vbt.Portfolio.from_signals(\\\n",
    "    big_price_wide, big_entries_wide, big_exits_wide,\\\n",
    "    size=1., init_cash=np.inf, accumulate=True, log=True)"
   ]
  },
  {
   "cell_type": "code",
   "execution_count": 10,
   "metadata": {},
   "outputs": [
    {
     "name": "stdout",
     "output_type": "stream",
     "text": [
      "98.4 ms ± 250 µs per loop (mean ± std. dev. of 7 runs, 10 loops each)\n"
     ]
    }
   ],
   "source": [
    "%timeit vbt.Portfolio.from_signals(\\\n",
    "    big_price_wide, big_entries_wide, big_exits_wide,\\\n",
    "    size=1., init_cash=np.inf, accumulate=True,\\\n",
    "    group_by=np.repeat(np.arange(500), 2))"
   ]
  },
  {
   "cell_type": "code",
   "execution_count": 11,
   "metadata": {},
   "outputs": [
    {
     "name": "stdout",
     "output_type": "stream",
     "text": [
      "100 ms ± 564 µs per loop (mean ± std. dev. of 7 runs, 10 loops each)\n"
     ]
    }
   ],
   "source": [
    "%timeit vbt.Portfolio.from_signals(\\\n",
    "    big_price_wide, big_entries_wide, big_exits_wide,\\\n",
    "    size=1., init_cash=np.inf, accumulate=True,\\\n",
    "    group_by=np.repeat(np.arange(500), 2), cash_sharing=True)"
   ]
  },
  {
   "cell_type": "code",
   "execution_count": 12,
   "metadata": {},
   "outputs": [
    {
     "name": "stdout",
     "output_type": "stream",
     "text": [
      "101 ms ± 191 µs per loop (mean ± std. dev. of 7 runs, 1 loop each)\n"
     ]
    }
   ],
   "source": [
    "# worst case\n",
    "%timeit vbt.Portfolio.from_signals(\\\n",
    "    big_price_wide, big_entries_wide, big_exits_wide,\\\n",
    "    size=np.arange(1000)[::-1], init_cash=np.inf, accumulate=True,\\\n",
    "    group_by=np.repeat(np.arange(500), 2), cash_sharing=True, call_seq=CallSeqType.Auto)"
   ]
  },
  {
   "cell_type": "code",
   "execution_count": 13,
   "metadata": {},
   "outputs": [
    {
     "name": "stdout",
     "output_type": "stream",
     "text": [
      "98.6 ms ± 848 µs per loop (mean ± std. dev. of 7 runs, 10 loops each)\n"
     ]
    }
   ],
   "source": [
    "%timeit vbt.Portfolio.from_signals(\\\n",
    "    big_price_wide, big_entries_wide, big_exits_wide,\\\n",
    "    size=1., init_cash=np.inf, accumulate=True,\\\n",
    "    group_by=np.full(1000, 0))"
   ]
  },
  {
   "cell_type": "code",
   "execution_count": 7,
   "metadata": {},
   "outputs": [
    {
     "name": "stdout",
     "output_type": "stream",
     "text": [
      "96 ms ± 501 µs per loop (mean ± std. dev. of 7 runs, 1 loop each)\n"
     ]
    }
   ],
   "source": [
    "%timeit vbt.Portfolio.from_signals(\\\n",
    "    big_price_wide, big_entries_wide, big_exits_wide,\\\n",
    "    size=1., init_cash=np.inf, accumulate=True,\\\n",
    "    group_by=np.full(1000, 0), cash_sharing=True)"
   ]
  },
  {
   "cell_type": "code",
   "execution_count": 15,
   "metadata": {},
   "outputs": [
    {
     "name": "stdout",
     "output_type": "stream",
     "text": [
      "279 ms ± 1.83 ms per loop (mean ± std. dev. of 7 runs, 1 loop each)\n"
     ]
    }
   ],
   "source": [
    "# worst case\n",
    "%timeit vbt.Portfolio.from_signals(\\\n",
    "    big_price_wide, big_entries_wide, big_exits_wide,\\\n",
    "    size=np.arange(1000)[::-1], init_cash=np.inf, accumulate=True,\\\n",
    "    group_by=np.full(1000, 0), cash_sharing=True, call_seq=CallSeqType.Auto)"
   ]
  },
  {
   "cell_type": "code",
   "execution_count": 7,
   "metadata": {},
   "outputs": [],
   "source": [
    "def test_per_direction(price=price, entries=entries, exits=exits, **kwargs):\n",
    "    print('Both')\n",
    "    try:\n",
    "        portfolio = vbt.Portfolio.from_signals(price, entries, exits, direction='both', **kwargs)\n",
    "        print(portfolio.orders.records)\n",
    "    except Exception as e:\n",
    "        print(e)\n",
    "    print('LongOnly')\n",
    "    try:\n",
    "        portfolio = vbt.Portfolio.from_signals(price, entries, exits, direction='longonly', **kwargs)\n",
    "        print(portfolio.orders.records)\n",
    "    except Exception as e:\n",
    "        print(e)\n",
    "    print('ShortOnly')\n",
    "    try:\n",
    "        portfolio = vbt.Portfolio.from_signals(price, entries, exits, direction='shortonly', **kwargs)\n",
    "        print(portfolio.orders.records)\n",
    "    except Exception as e:\n",
    "        print(e)"
   ]
  },
  {
   "cell_type": "code",
   "execution_count": 8,
   "metadata": {},
   "outputs": [
    {
     "name": "stdout",
     "output_type": "stream",
     "text": [
      "Both\n",
      "   id  col  idx   size  price  fees  side\n",
      "0   0    0    0  100.0    1.0   0.0     0\n",
      "1   1    0    3  200.0    4.0   0.0     1\n",
      "LongOnly\n",
      "   id  col  idx   size  price  fees  side\n",
      "0   0    0    0  100.0    1.0   0.0     0\n",
      "1   1    0    3  100.0    4.0   0.0     1\n",
      "ShortOnly\n",
      "   id  col  idx   size  price  fees  side\n",
      "0   0    0    0  100.0    1.0   0.0     1\n",
      "1   1    0    3   50.0    4.0   0.0     0\n"
     ]
    }
   ],
   "source": [
    "test_per_direction()"
   ]
  },
  {
   "cell_type": "code",
   "execution_count": 9,
   "metadata": {},
   "outputs": [
    {
     "name": "stdout",
     "output_type": "stream",
     "text": [
      "Both\n",
      "   id  col  idx   size  price  fees  side\n",
      "0   0    1    0    1.0    1.0   0.0     0\n",
      "1   1    1    3    2.0    4.0   0.0     1\n",
      "2   2    2    0  100.0    1.0   0.0     0\n",
      "3   3    2    3  200.0    4.0   0.0     1\n",
      "LongOnly\n",
      "   id  col  idx   size  price  fees  side\n",
      "0   0    1    0    1.0    1.0   0.0     0\n",
      "1   1    1    3    1.0    4.0   0.0     1\n",
      "2   2    2    0  100.0    1.0   0.0     0\n",
      "3   3    2    3  100.0    4.0   0.0     1\n",
      "ShortOnly\n",
      "   id  col  idx   size  price  fees  side\n",
      "0   0    1    0    1.0    1.0   0.0     1\n",
      "1   1    1    3    1.0    4.0   0.0     0\n",
      "2   2    2    0  100.0    1.0   0.0     1\n",
      "3   3    2    3   50.0    4.0   0.0     0\n"
     ]
    }
   ],
   "source": [
    "test_per_direction(size=[[0, 1, np.inf]])"
   ]
  },
  {
   "cell_type": "code",
   "execution_count": 10,
   "metadata": {},
   "outputs": [
    {
     "name": "stdout",
     "output_type": "stream",
     "text": [
      "Both\n",
      "SizeType.Percent does not support position reversal using signals\n",
      "LongOnly\n",
      "   id  col  idx  size  price  fees  side\n",
      "0   0    0    0  50.0    1.0   0.0     0\n",
      "1   1    0    3  50.0    4.0   0.0     1\n",
      "ShortOnly\n",
      "   id  col  idx  size  price  fees  side\n",
      "0   0    0    0  50.0    1.0   0.0     1\n",
      "1   1    0    3  37.5    4.0   0.0     0\n"
     ]
    }
   ],
   "source": [
    "test_per_direction(size=0.5, size_type='percent')"
   ]
  },
  {
   "cell_type": "code",
   "execution_count": 11,
   "metadata": {},
   "outputs": [
    {
     "name": "stdout",
     "output_type": "stream",
     "text": [
      "Both\n",
      "   id  col  idx    size  price  fees  side\n",
      "0   0    0    0  50.000    1.0   0.0     0\n",
      "1   1    0    1  12.500    2.0   0.0     0\n",
      "2   2    0    3  65.625    4.0   0.0     1\n",
      "3   3    0    4  26.250    5.0   0.0     1\n",
      "LongOnly\n",
      "   id  col  idx    size  price  fees  side\n",
      "0   0    0    0  50.000    1.0   0.0     0\n",
      "1   1    0    1  12.500    2.0   0.0     0\n",
      "2   2    0    3  31.250    4.0   0.0     1\n",
      "3   3    0    4  15.625    5.0   0.0     1\n",
      "ShortOnly\n",
      "   id  col  idx    size  price  fees  side\n",
      "0   0    0    0  50.000    1.0   0.0     1\n",
      "1   1    0    1  12.500    2.0   0.0     1\n",
      "2   2    0    3  21.875    4.0   0.0     0\n",
      "3   3    0    4   8.750    5.0   0.0     0\n"
     ]
    }
   ],
   "source": [
    "test_per_direction(size=0.5, size_type='percent', accumulate=True)"
   ]
  },
  {
   "cell_type": "code",
   "execution_count": 12,
   "metadata": {},
   "outputs": [
    {
     "name": "stdout",
     "output_type": "stream",
     "text": [
      "Both\n",
      "   id  col  idx        size  price  fees  side\n",
      "0   0    0    0   99.009901   1.01   0.0     0\n",
      "1   1    0    3  198.019802   4.04   0.0     1\n",
      "LongOnly\n",
      "   id  col  idx       size  price  fees  side\n",
      "0   0    0    0  99.009901   1.01   0.0     0\n",
      "1   1    0    3  99.009901   4.04   0.0     1\n",
      "ShortOnly\n",
      "   id  col  idx       size  price  fees  side\n",
      "0   0    0    0  99.009901   1.01   0.0     1\n",
      "1   1    0    3  49.504950   4.04   0.0     0\n"
     ]
    }
   ],
   "source": [
    "test_per_direction(price=price * 1.01)"
   ]
  },
  {
   "cell_type": "code",
   "execution_count": 13,
   "metadata": {},
   "outputs": [
    {
     "name": "stdout",
     "output_type": "stream",
     "text": [
      "Both\n",
      "   id  col  idx  size  price  fees  side\n",
      "0   0    0    0   1.0    1.0   0.0     0\n",
      "1   1    0    3   2.0    4.0   0.0     1\n",
      "2   2    1    0   1.0    1.0   0.1     0\n",
      "3   3    1    3   2.0    4.0   0.8     1\n",
      "4   4    2    0   1.0    1.0   1.0     0\n",
      "5   5    2    3   2.0    4.0   8.0     1\n",
      "LongOnly\n",
      "   id  col  idx  size  price  fees  side\n",
      "0   0    0    0   1.0    1.0   0.0     0\n",
      "1   1    0    3   1.0    4.0   0.0     1\n",
      "2   2    1    0   1.0    1.0   0.1     0\n",
      "3   3    1    3   1.0    4.0   0.4     1\n",
      "4   4    2    0   1.0    1.0   1.0     0\n",
      "5   5    2    3   1.0    4.0   4.0     1\n",
      "ShortOnly\n",
      "   id  col  idx  size  price  fees  side\n",
      "0   0    0    0   1.0    1.0   0.0     1\n",
      "1   1    0    3   1.0    4.0   0.0     0\n",
      "2   2    1    0   1.0    1.0   0.1     1\n",
      "3   3    1    3   1.0    4.0   0.4     0\n",
      "4   4    2    0   1.0    1.0   1.0     1\n",
      "5   5    2    3   1.0    4.0   4.0     0\n"
     ]
    }
   ],
   "source": [
    "test_per_direction(size=1, fees=[[0., 0.1, 1.]])"
   ]
  },
  {
   "cell_type": "code",
   "execution_count": 14,
   "metadata": {},
   "outputs": [
    {
     "name": "stdout",
     "output_type": "stream",
     "text": [
      "Both\n",
      "   id  col  idx  size  price  fees  side\n",
      "0   0    0    0   1.0    1.0   0.0     0\n",
      "1   1    0    3   2.0    4.0   0.0     1\n",
      "2   2    1    0   1.0    1.0   0.1     0\n",
      "3   3    1    3   2.0    4.0   0.1     1\n",
      "4   4    2    0   1.0    1.0   1.0     0\n",
      "5   5    2    3   2.0    4.0   1.0     1\n",
      "LongOnly\n",
      "   id  col  idx  size  price  fees  side\n",
      "0   0    0    0   1.0    1.0   0.0     0\n",
      "1   1    0    3   1.0    4.0   0.0     1\n",
      "2   2    1    0   1.0    1.0   0.1     0\n",
      "3   3    1    3   1.0    4.0   0.1     1\n",
      "4   4    2    0   1.0    1.0   1.0     0\n",
      "5   5    2    3   1.0    4.0   1.0     1\n",
      "ShortOnly\n",
      "   id  col  idx  size  price  fees  side\n",
      "0   0    0    0   1.0    1.0   0.0     1\n",
      "1   1    0    3   1.0    4.0   0.0     0\n",
      "2   2    1    0   1.0    1.0   0.1     1\n",
      "3   3    1    3   1.0    4.0   0.1     0\n",
      "4   4    2    0   1.0    1.0   1.0     1\n",
      "5   5    2    3   1.0    4.0   1.0     0\n"
     ]
    }
   ],
   "source": [
    "test_per_direction(size=1, fixed_fees=[[0., 0.1, 1.]])"
   ]
  },
  {
   "cell_type": "code",
   "execution_count": 15,
   "metadata": {},
   "outputs": [
    {
     "name": "stdout",
     "output_type": "stream",
     "text": [
      "Both\n",
      "   id  col  idx  size  price  fees  side\n",
      "0   0    0    0   1.0    1.0   0.0     0\n",
      "1   1    0    3   2.0    4.0   0.0     1\n",
      "2   2    1    0   1.0    1.1   0.0     0\n",
      "3   3    1    3   2.0    3.6   0.0     1\n",
      "4   4    2    0   1.0    2.0   0.0     0\n",
      "5   5    2    3   2.0    0.0   0.0     1\n",
      "LongOnly\n",
      "   id  col  idx  size  price  fees  side\n",
      "0   0    0    0   1.0    1.0   0.0     0\n",
      "1   1    0    3   1.0    4.0   0.0     1\n",
      "2   2    1    0   1.0    1.1   0.0     0\n",
      "3   3    1    3   1.0    3.6   0.0     1\n",
      "4   4    2    0   1.0    2.0   0.0     0\n",
      "5   5    2    3   1.0    0.0   0.0     1\n",
      "ShortOnly\n",
      "   id  col  idx  size  price  fees  side\n",
      "0   0    0    0   1.0    1.0   0.0     1\n",
      "1   1    0    3   1.0    4.0   0.0     0\n",
      "2   2    1    0   1.0    0.9   0.0     1\n",
      "3   3    1    3   1.0    4.4   0.0     0\n",
      "4   4    2    0   1.0    0.0   0.0     1\n",
      "5   5    2    3   1.0    8.0   0.0     0\n"
     ]
    }
   ],
   "source": [
    "test_per_direction(size=1, slippage=[[0., 0.1, 1.]])"
   ]
  },
  {
   "cell_type": "code",
   "execution_count": 16,
   "metadata": {},
   "outputs": [
    {
     "name": "stdout",
     "output_type": "stream",
     "text": [
      "Both\n",
      "   id  col  idx  size  price  fees  side\n",
      "0   0    0    0   1.0    1.0   0.0     0\n",
      "1   1    0    3   2.0    4.0   0.0     1\n",
      "2   2    1    0   1.0    1.0   0.0     0\n",
      "3   3    1    3   2.0    4.0   0.0     1\n",
      "LongOnly\n",
      "   id  col  idx  size  price  fees  side\n",
      "0   0    0    0   1.0    1.0   0.0     0\n",
      "1   1    0    3   1.0    4.0   0.0     1\n",
      "2   2    1    0   1.0    1.0   0.0     0\n",
      "3   3    1    3   1.0    4.0   0.0     1\n",
      "ShortOnly\n",
      "   id  col  idx  size  price  fees  side\n",
      "0   0    0    0   1.0    1.0   0.0     1\n",
      "1   1    0    3   1.0    4.0   0.0     0\n",
      "2   2    1    0   1.0    1.0   0.0     1\n",
      "3   3    1    3   1.0    4.0   0.0     0\n"
     ]
    }
   ],
   "source": [
    "test_per_direction(size=1, min_size=[[0., 1., 2.]])"
   ]
  },
  {
   "cell_type": "code",
   "execution_count": 17,
   "metadata": {},
   "outputs": [
    {
     "name": "stdout",
     "output_type": "stream",
     "text": [
      "Both\n",
      "   id  col  idx  size  price  fees  side\n",
      "0   0    0    0   0.5    1.0   0.0     0\n",
      "1   1    0    3   0.5    4.0   0.0     1\n",
      "2   2    0    4   0.5    5.0   0.0     1\n",
      "3   3    1    0   1.0    1.0   0.0     0\n",
      "4   4    1    3   1.0    4.0   0.0     1\n",
      "5   5    1    4   1.0    5.0   0.0     1\n",
      "6   6    2    0   1.0    1.0   0.0     0\n",
      "7   7    2    3   2.0    4.0   0.0     1\n",
      "LongOnly\n",
      "   id  col  idx  size  price  fees  side\n",
      "0   0    0    0   0.5    1.0   0.0     0\n",
      "1   1    0    3   0.5    4.0   0.0     1\n",
      "2   2    1    0   1.0    1.0   0.0     0\n",
      "3   3    1    3   1.0    4.0   0.0     1\n",
      "4   4    2    0   1.0    1.0   0.0     0\n",
      "5   5    2    3   1.0    4.0   0.0     1\n",
      "ShortOnly\n",
      "   id  col  idx  size  price  fees  side\n",
      "0   0    0    0   0.5    1.0   0.0     1\n",
      "1   1    0    3   0.5    4.0   0.0     0\n",
      "2   2    1    0   1.0    1.0   0.0     1\n",
      "3   3    1    3   1.0    4.0   0.0     0\n",
      "4   4    2    0   1.0    1.0   0.0     1\n",
      "5   5    2    3   1.0    4.0   0.0     0\n"
     ]
    }
   ],
   "source": [
    "test_per_direction(size=1, max_size=[[0.5, 1., np.inf]])"
   ]
  },
  {
   "cell_type": "code",
   "execution_count": 18,
   "metadata": {},
   "outputs": [
    {
     "name": "stdout",
     "output_type": "stream",
     "text": [
      "Both\n",
      "   id  col  idx  size  price  fees  side\n",
      "0   0    0    0   1.0    1.0   0.0     0\n",
      "1   1    0    3   2.0    4.0   0.0     1\n",
      "2   2    1    1   1.0    2.0   0.0     0\n",
      "3   3    1    3   2.0    4.0   0.0     1\n",
      "LongOnly\n",
      "   id  col  idx  size  price  fees  side\n",
      "0   0    0    0   1.0    1.0   0.0     0\n",
      "1   1    0    3   1.0    4.0   0.0     1\n",
      "2   2    1    1   1.0    2.0   0.0     0\n",
      "3   3    1    3   1.0    4.0   0.0     1\n",
      "ShortOnly\n",
      "   id  col  idx  size  price  fees  side\n",
      "0   0    0    0   1.0    1.0   0.0     1\n",
      "1   1    0    3   1.0    4.0   0.0     0\n",
      "2   2    1    1   1.0    2.0   0.0     1\n",
      "3   3    1    3   1.0    4.0   0.0     0\n"
     ]
    }
   ],
   "source": [
    "test_per_direction(size=1., reject_prob=[[0., 0.5, 1.]], seed=42)"
   ]
  },
  {
   "cell_type": "code",
   "execution_count": 21,
   "metadata": {},
   "outputs": [
    {
     "name": "stdout",
     "output_type": "stream",
     "text": [
      "   id  col  idx   size  price  fees  side\n",
      "0   0    0    0  100.0    1.0   0.0     0\n",
      "1   1    0    3  200.0    4.0   0.0     1\n",
      "2   2    1    0  100.0    1.0   0.0     0\n",
      "3   3    1    3  100.0    4.0   0.0     1\n",
      "4   4    1    4   80.0    5.0   0.0     1\n",
      "   id  col  idx   size  price  fees  side\n",
      "0   0    0    0   20.0    5.0   0.0     1\n",
      "1   1    0    3  100.0    2.0   0.0     0\n",
      "2   2    1    0   20.0    5.0   0.0     1\n",
      "3   3    1    3   20.0    2.0   0.0     0\n",
      "4   4    1    4  160.0    1.0   0.0     0\n"
     ]
    }
   ],
   "source": [
    "portfolio = vbt.Portfolio.from_signals(\n",
    "    price, entries, exits, direction='both',\n",
    "    upon_opposite_entry=[['reverse', 'close']]\n",
    ")\n",
    "print(portfolio.orders.records)\n",
    "\n",
    "portfolio = vbt.Portfolio.from_signals(\n",
    "    pd.Series(price.values[::-1], index=price.index),\n",
    "    pd.Series(entries.values[::-1], index=price.index),\n",
    "    pd.Series(exits.values[::-1], index=price.index), \n",
    "    direction='both',\n",
    "    upon_opposite_entry=[['reverse', 'close']]\n",
    ")\n",
    "print(portfolio.orders.records)"
   ]
  },
  {
   "cell_type": "code",
   "execution_count": 22,
   "metadata": {},
   "outputs": [
    {
     "name": "stdout",
     "output_type": "stream",
     "text": [
      "Both\n",
      "   id  col  idx    size  price  fees  side\n",
      "0   0    0    0   100.0    1.0   0.0     0\n",
      "1   1    0    3  1100.0    4.0   0.0     1\n",
      "2   2    1    3  1000.0    4.0   0.0     1\n",
      "LongOnly\n",
      "   id  col  idx   size  price  fees  side\n",
      "0   0    0    0  100.0    1.0   0.0     0\n",
      "1   1    0    3  100.0    4.0   0.0     1\n",
      "ShortOnly\n",
      "   id  col  idx    size  price  fees  side\n",
      "0   0    0    0  1000.0    1.0   0.0     1\n",
      "1   1    0    3   275.0    4.0   0.0     0\n",
      "2   2    1    0  1000.0    1.0   0.0     1\n",
      "Both\n",
      "   id  col  idx   size  price  fees  side\n",
      "0   0    0    0  100.0    1.0   0.0     0\n",
      "1   1    0    3  200.0    4.0   0.0     1\n",
      "2   2    1    0  100.0    1.0   0.0     0\n",
      "3   3    1    3  200.0    4.0   0.0     1\n",
      "LongOnly\n",
      "   id  col  idx   size  price  fees  side\n",
      "0   0    0    0  100.0    1.0   0.0     0\n",
      "1   1    0    3  100.0    4.0   0.0     1\n",
      "2   2    1    0  100.0    1.0   0.0     0\n",
      "3   3    1    3  100.0    4.0   0.0     1\n",
      "ShortOnly\n",
      "   id  col  idx   size  price  fees  side\n",
      "0   0    0    0  100.0    1.0   0.0     1\n",
      "1   1    0    3   50.0    4.0   0.0     0\n",
      "2   2    1    0  100.0    1.0   0.0     1\n"
     ]
    }
   ],
   "source": [
    "test_per_direction(size=1000, allow_partial=[[True, False]])\n",
    "test_per_direction(size=np.inf, allow_partial=[[True, False]])"
   ]
  },
  {
   "cell_type": "code",
   "execution_count": 23,
   "metadata": {},
   "outputs": [
    {
     "name": "stdout",
     "output_type": "stream",
     "text": [
      "Both\n",
      "   id  col  idx    size  price  fees  side\n",
      "0   0    0    0   100.0    1.0   0.0     0\n",
      "1   1    0    3  1100.0    4.0   0.0     1\n",
      "LongOnly\n",
      "   id  col  idx   size  price  fees  side\n",
      "0   0    0    0  100.0    1.0   0.0     0\n",
      "1   1    0    3  100.0    4.0   0.0     1\n",
      "ShortOnly\n",
      "Not enough cash to cover fees\n",
      "Both\n",
      "Final size is less than requested\n",
      "LongOnly\n",
      "Final size is less than requested\n",
      "ShortOnly\n",
      "Final size is less than requested\n"
     ]
    }
   ],
   "source": [
    "test_per_direction(size=1000, allow_partial=True, raise_reject=True)\n",
    "test_per_direction(size=1000, allow_partial=False, raise_reject=True)"
   ]
  },
  {
   "cell_type": "code",
   "execution_count": 24,
   "metadata": {},
   "outputs": [
    {
     "name": "stdout",
     "output_type": "stream",
     "text": [
      "Both\n",
      "   id  col  idx  size  price  fees  side\n",
      "0   0    0    0   1.0    1.0   0.0     0\n",
      "1   1    0    1   1.0    2.0   0.0     0\n",
      "2   2    0    3   1.0    4.0   0.0     1\n",
      "3   3    0    4   1.0    5.0   0.0     1\n",
      "LongOnly\n",
      "   id  col  idx  size  price  fees  side\n",
      "0   0    0    0   1.0    1.0   0.0     0\n",
      "1   1    0    1   1.0    2.0   0.0     0\n",
      "2   2    0    3   1.0    4.0   0.0     1\n",
      "3   3    0    4   1.0    5.0   0.0     1\n",
      "ShortOnly\n",
      "   id  col  idx  size  price  fees  side\n",
      "0   0    0    0   1.0    1.0   0.0     1\n",
      "1   1    0    1   1.0    2.0   0.0     1\n",
      "2   2    0    3   1.0    4.0   0.0     0\n",
      "3   3    0    4   1.0    5.0   0.0     0\n"
     ]
    }
   ],
   "source": [
    "test_per_direction(size=1, accumulate=True)"
   ]
  },
  {
   "cell_type": "code",
   "execution_count": 25,
   "metadata": {},
   "outputs": [
    {
     "name": "stdout",
     "output_type": "stream",
     "text": [
      "   id  col  idx   size  price  fees  side\n",
      "0   0    0    0  100.0    1.0   0.0     0\n",
      "1   1    0    3  200.0    4.0   0.0     1\n",
      "   id  group  col  idx   cash  position  debt  free_cash  val_price  value  \\\n",
      "0   0      0    0    0  100.0       0.0   0.0      100.0        1.0  100.0   \n",
      "1   1      0    0    3    0.0     100.0   0.0        0.0        4.0  400.0   \n",
      "\n",
      "   ...  new_free_cash  new_val_price  new_value  res_size  res_price  \\\n",
      "0  ...            0.0            1.0      100.0     100.0        1.0   \n",
      "1  ...            0.0            4.0      400.0     200.0        4.0   \n",
      "\n",
      "   res_fees  res_side  res_status  res_status_info  order_id  \n",
      "0       0.0         0           0               -1         0  \n",
      "1       0.0         1           0               -1         1  \n",
      "\n",
      "[2 rows x 37 columns]\n"
     ]
    }
   ],
   "source": [
    "portfolio = vbt.Portfolio.from_signals(price, entries, exits, log=True, direction='both')\n",
    "print(portfolio.orders.records)\n",
    "print(portfolio.logs.records)"
   ]
  },
  {
   "cell_type": "code",
   "execution_count": 27,
   "metadata": {},
   "outputs": [
    {
     "name": "stdout",
     "output_type": "stream",
     "text": [
      "Both\n",
      "   id  col  idx  size  price  fees  side\n",
      "0   0    0    1   1.0    2.0   0.0     0\n",
      "1   1    1    1   1.0    2.0   0.0     0\n",
      "2   2    2    1   1.0    2.0   0.0     0\n",
      "3   3    3    1   1.0    2.0   0.0     0\n",
      "4   4    4    1   1.0    2.0   0.0     1\n",
      "LongOnly\n",
      "   id  col  idx  size  price  fees  side\n",
      "0   0    0    1   1.0    2.0   0.0     0\n",
      "1   1    1    0   1.0    1.0   0.0     0\n",
      "2   2    2    1   1.0    2.0   0.0     0\n",
      "3   3    2    2   1.0    3.0   0.0     1\n",
      "4   4    3    1   1.0    2.0   0.0     0\n",
      "5   5    3    2   1.0    3.0   0.0     1\n",
      "ShortOnly\n",
      "   id  col  idx  size  price  fees  side\n",
      "0   0    0    1   1.0    2.0   0.0     1\n",
      "1   1    1    0   1.0    1.0   0.0     1\n",
      "2   2    2    1   1.0    2.0   0.0     1\n",
      "3   3    2    2   1.0    3.0   0.0     0\n",
      "4   4    3    1   1.0    2.0   0.0     1\n",
      "5   5    3    2   1.0    3.0   0.0     0\n"
     ]
    }
   ],
   "source": [
    "test_per_direction(price=price.iloc[:3], entries=pd.DataFrame([\n",
    "    [True, True, True, True, True],\n",
    "    [True, True, True, True, False],\n",
    "    [True, True, True, True, True]\n",
    "]), exits=pd.DataFrame([\n",
    "    [True, True, True, True, True],\n",
    "    [False, False, False, False, True],\n",
    "    [True, True, True, True, True]\n",
    "]), size=1., upon_long_conflict=[[\n",
    "    'ignore', \n",
    "    'entry', \n",
    "    'exit', \n",
    "    'opposite',\n",
    "    'opposite'\n",
    "]], upon_short_conflict=[[\n",
    "    'ignore', \n",
    "    'entry', \n",
    "    'exit', \n",
    "    'opposite',\n",
    "    'opposite'\n",
    "]])"
   ]
  },
  {
   "cell_type": "code",
   "execution_count": 30,
   "metadata": {},
   "outputs": [
    {
     "name": "stdout",
     "output_type": "stream",
     "text": [
      "Both\n",
      "   id  col  idx  size  price  fees  side\n",
      "0   0    0    1   1.0    2.0   0.0     0\n",
      "1   1    1    0   1.0    1.0   0.0     0\n",
      "2   2    2    0   1.0    1.0   0.0     1\n",
      "3   3    2    1   2.0    2.0   0.0     0\n",
      "4   4    2    2   2.0    3.0   0.0     1\n",
      "5   5    3    1   1.0    2.0   0.0     0\n",
      "6   6    3    2   2.0    3.0   0.0     1\n",
      "7   7    4    1   1.0    2.0   0.0     1\n",
      "8   8    4    2   2.0    3.0   0.0     0\n",
      "LongOnly\n",
      "   id  col  idx  size  price  fees  side\n",
      "0   0    0    1   1.0    2.0   0.0     0\n",
      "1   1    1    1   1.0    2.0   0.0     0\n",
      "2   2    2    1   1.0    2.0   0.0     0\n",
      "3   3    3    1   1.0    2.0   0.0     0\n",
      "ShortOnly\n",
      "   id  col  idx  size  price  fees  side\n",
      "0   0    0    1   1.0    2.0   0.0     1\n",
      "1   1    1    1   1.0    2.0   0.0     1\n",
      "2   2    2    1   1.0    2.0   0.0     1\n",
      "3   3    3    1   1.0    2.0   0.0     1\n"
     ]
    }
   ],
   "source": [
    "test_per_direction(price=price.iloc[:3], entries=pd.DataFrame([\n",
    "    [True, True, True, True, True],\n",
    "    [True, True, True, True, False],\n",
    "    [True, True, True, True, True]\n",
    "]), exits=pd.DataFrame([\n",
    "    [True, True, True, True, True],\n",
    "    [False, False, False, False, True],\n",
    "    [True, True, True, True, True]\n",
    "]), size=1., upon_dir_conflict=[[\n",
    "    'ignore', \n",
    "    'long', \n",
    "    'short', \n",
    "    'opposite',\n",
    "    'opposite'\n",
    "]])"
   ]
  },
  {
   "cell_type": "code",
   "execution_count": 31,
   "metadata": {},
   "outputs": [
    {
     "name": "stdout",
     "output_type": "stream",
     "text": [
      "Both\n",
      "   id  col  idx  size  price  fees  side\n",
      "0   0    0    3   1.0    4.0   0.0     1\n",
      "1   1    1    0   1.0    1.0   0.0     0\n",
      "2   2    1    3   2.0    4.0   0.0     1\n",
      "3   3    2    0   1.0    1.0   0.0     0\n",
      "4   4    2    3   2.0    4.0   0.0     1\n",
      "LongOnly\n",
      "   id  col  idx  size  price  fees  side\n",
      "0   0    1    0   1.0    1.0   0.0     0\n",
      "1   1    1    3   1.0    4.0   0.0     1\n",
      "2   2    2    0   1.0    1.0   0.0     0\n",
      "3   3    2    3   1.0    4.0   0.0     1\n",
      "ShortOnly\n",
      "   id  col  idx  size  price  fees  side\n",
      "0   0    0    0  1.00    1.0   0.0     1\n",
      "1   1    0    3  0.25    4.0   0.0     0\n",
      "2   2    1    0  1.00    1.0   0.0     1\n",
      "3   3    1    3  0.50    4.0   0.0     0\n",
      "4   4    2    0  1.00    1.0   0.0     1\n",
      "5   5    2    3  1.00    4.0   0.0     0\n",
      "Both\n",
      "Attempt to go in long direction infinitely\n",
      "LongOnly\n",
      "Attempt to go in long direction infinitely\n",
      "ShortOnly\n",
      "Attempt to go in short direction infinitely\n"
     ]
    }
   ],
   "source": [
    "test_per_direction(price=price_wide, size=1., init_cash=[0., 1., 100.])\n",
    "test_per_direction(init_cash=np.inf)"
   ]
  },
  {
   "cell_type": "code",
   "execution_count": 32,
   "metadata": {},
   "outputs": [
    {
     "name": "stdout",
     "output_type": "stream",
     "text": [
      "   id  col  idx   size  price  fees  side\n",
      "0   0    0    0  100.0    1.0   0.0     0\n",
      "1   1    0    3  200.0    4.0   0.0     1\n",
      "2   2    1    0  100.0    1.0   0.0     0\n",
      "3   3    1    3  200.0    4.0   0.0     1\n",
      "4   4    2    0  100.0    1.0   0.0     0\n",
      "5   5    2    3  200.0    4.0   0.0     1\n"
     ]
    }
   ],
   "source": [
    "portfolio = vbt.Portfolio.from_signals(\n",
    "    price_wide, entries, exits, \n",
    "    group_by=np.array([0, 0, 1]), direction='both')\n",
    "\n",
    "print(portfolio.orders.records)"
   ]
  },
  {
   "cell_type": "code",
   "execution_count": 33,
   "metadata": {},
   "outputs": [
    {
     "name": "stdout",
     "output_type": "stream",
     "text": [
      "   id  col  idx   size  price  fees  side\n",
      "0   0    0    0  100.0    1.0   0.0     0\n",
      "1   1    0    3  200.0    4.0   0.0     1\n",
      "2   2    2    0  100.0    1.0   0.0     0\n",
      "3   3    2    3  200.0    4.0   0.0     1\n",
      "            a  b  c\n",
      "2020-01-01  0  1  0\n",
      "2020-01-02  0  1  0\n",
      "2020-01-03  0  1  0\n",
      "2020-01-04  0  1  0\n",
      "2020-01-05  0  1  0\n",
      "Cannot modify grouping globally when cash_sharing=True\n"
     ]
    }
   ],
   "source": [
    "portfolio = vbt.Portfolio.from_signals(\n",
    "    price_wide, entries, exits, \n",
    "    group_by=np.array([0, 0, 1]), cash_sharing=True, direction='both')\n",
    "\n",
    "print(portfolio.orders.records)\n",
    "print(portfolio.call_seq)\n",
    "try:\n",
    "    print(portfolio.regroup(group_by=False))\n",
    "except Exception as e:\n",
    "    print(e)"
   ]
  },
  {
   "cell_type": "code",
   "execution_count": 34,
   "metadata": {},
   "outputs": [
    {
     "name": "stdout",
     "output_type": "stream",
     "text": [
      "   id  col  idx   size  price  fees  side\n",
      "0   0    1    0  100.0    1.0   0.0     0\n",
      "1   1    1    3  200.0    4.0   0.0     1\n",
      "2   2    2    0  100.0    1.0   0.0     0\n",
      "3   3    2    3  200.0    4.0   0.0     1\n",
      "            a  b  c\n",
      "2020-01-01  1  0  0\n",
      "2020-01-02  1  0  0\n",
      "2020-01-03  1  0  0\n",
      "2020-01-04  1  0  0\n",
      "2020-01-05  1  0  0\n"
     ]
    }
   ],
   "source": [
    "portfolio = vbt.Portfolio.from_signals(\n",
    "    price_wide, entries, exits, \n",
    "    group_by=np.array([0, 0, 1]), cash_sharing=True, direction='both', call_seq='reversed')\n",
    "\n",
    "print(portfolio.orders.records)\n",
    "print(portfolio.call_seq)"
   ]
  },
  {
   "cell_type": "code",
   "execution_count": 35,
   "metadata": {},
   "outputs": [
    {
     "name": "stdout",
     "output_type": "stream",
     "text": [
      "   id  col  idx   size  price  fees  side\n",
      "0   0    1    0  100.0    1.0   0.0     0\n",
      "1   1    1    3  200.0    4.0   0.0     1\n",
      "2   2    2    0  100.0    1.0   0.0     0\n",
      "3   3    2    3  200.0    4.0   0.0     1\n",
      "            a  b  c\n",
      "2020-01-01  1  0  0\n",
      "2020-01-02  1  0  0\n",
      "2020-01-03  1  0  0\n",
      "2020-01-04  1  0  0\n",
      "2020-01-05  0  1  0\n",
      "   id  col  idx   size  price  fees  side\n",
      "0   0    1    0  100.0    1.0   0.0     0\n",
      "1   1    1    3  200.0    4.0   0.0     1\n",
      "2   2    2    0  100.0    1.0   0.0     0\n",
      "3   3    2    3  200.0    4.0   0.0     1\n",
      "            a  b  c\n",
      "2020-01-01  1  0  0\n",
      "2020-01-02  0  1  0\n",
      "2020-01-03  1  0  0\n",
      "2020-01-04  1  0  0\n",
      "2020-01-05  1  0  0\n"
     ]
    }
   ],
   "source": [
    "portfolio = vbt.Portfolio.from_signals(\n",
    "    price_wide, entries, exits, \n",
    "    group_by=np.array([0, 0, 1]), cash_sharing=True, direction='both', call_seq='random')\n",
    "\n",
    "print(portfolio.orders.records)\n",
    "print(portfolio.call_seq)\n",
    "\n",
    "portfolio = vbt.Portfolio.from_signals(\n",
    "    price_wide, entries, exits, \n",
    "    group_by=np.array([0, 0, 1]), cash_sharing=True, direction='both', call_seq='random', seed=42)\n",
    "\n",
    "print(portfolio.orders.records)\n",
    "print(portfolio.call_seq)"
   ]
  },
  {
   "cell_type": "code",
   "execution_count": 36,
   "metadata": {},
   "outputs": [
    {
     "name": "stdout",
     "output_type": "stream",
     "text": [
      "Both\n",
      "   id  col  idx   size  price  fees  side\n",
      "0   0    2    0  100.0    1.0   0.0     0\n",
      "1   1    2    1  200.0    1.0   0.0     1\n",
      "2   2    1    1  200.0    1.0   0.0     0\n",
      "3   3    1    2  200.0    1.0   0.0     1\n",
      "4   4    0    2  200.0    1.0   0.0     0\n",
      "5   5    0    3  200.0    1.0   0.0     1\n",
      "6   6    2    3  200.0    1.0   0.0     0\n",
      "7   7    2    4  200.0    1.0   0.0     1\n",
      "8   8    1    4  200.0    1.0   0.0     0\n",
      "   0  1  2\n",
      "0  0  1  2\n",
      "1  2  0  1\n",
      "2  1  2  0\n",
      "3  0  1  2\n",
      "4  2  0  1\n",
      "       0      1      2\n",
      "0    0.0    0.0  100.0\n",
      "1    0.0  200.0 -100.0\n",
      "2  200.0    0.0 -100.0\n",
      "3    0.0    0.0  100.0\n",
      "4    0.0  200.0 -100.0\n",
      "0    100.0\n",
      "1    100.0\n",
      "2    100.0\n",
      "3    100.0\n",
      "4    100.0\n",
      "dtype: float64\n",
      "LongOnly\n",
      "   id  col  idx   size  price  fees  side\n",
      "0   0    2    0  100.0    1.0   0.0     0\n",
      "1   1    2    1  100.0    1.0   0.0     1\n",
      "2   2    1    1  100.0    1.0   0.0     0\n",
      "3   3    1    2  100.0    1.0   0.0     1\n",
      "4   4    0    2  100.0    1.0   0.0     0\n",
      "5   5    0    3  100.0    1.0   0.0     1\n",
      "6   6    2    3  100.0    1.0   0.0     0\n",
      "7   7    2    4  100.0    1.0   0.0     1\n",
      "8   8    1    4  100.0    1.0   0.0     0\n",
      "   0  1  2\n",
      "0  0  1  2\n",
      "1  2  0  1\n",
      "2  1  2  0\n",
      "3  0  1  2\n",
      "4  2  0  1\n",
      "       0      1      2\n",
      "0    0.0    0.0  100.0\n",
      "1    0.0  100.0    0.0\n",
      "2  100.0    0.0    0.0\n",
      "3    0.0    0.0  100.0\n",
      "4    0.0  100.0    0.0\n",
      "0    100.0\n",
      "1    100.0\n",
      "2    100.0\n",
      "3    100.0\n",
      "4    100.0\n",
      "dtype: float64\n",
      "ShortOnly\n",
      "   id  col  idx   size  price  fees  side\n",
      "0   0    2    0  100.0    1.0   0.0     1\n",
      "1   1    2    1  100.0    1.0   0.0     0\n",
      "2   2    0    2  100.0    1.0   0.0     1\n",
      "3   3    0    3  100.0    1.0   0.0     0\n",
      "4   4    1    4  100.0    1.0   0.0     1\n",
      "   0  1  2\n",
      "0  2  0  1\n",
      "1  1  0  2\n",
      "2  0  1  2\n",
      "3  2  1  0\n",
      "4  1  0  2\n",
      "       0      1      2\n",
      "0    0.0    0.0 -100.0\n",
      "1    0.0    0.0    0.0\n",
      "2 -100.0    0.0    0.0\n",
      "3    0.0    0.0    0.0\n",
      "4    0.0 -100.0    0.0\n",
      "0    100.0\n",
      "1    100.0\n",
      "2    100.0\n",
      "3    100.0\n",
      "4    100.0\n",
      "dtype: float64\n"
     ]
    }
   ],
   "source": [
    "for direction in ('Both', 'LongOnly', 'ShortOnly'):\n",
    "    print(direction)\n",
    "    portfolio = vbt.Portfolio.from_signals(1., pd.DataFrame([\n",
    "        [False, False, True],\n",
    "        [False, True, False],\n",
    "        [True, False, False],\n",
    "        [False, False, True],\n",
    "        [False, True, False],\n",
    "    ]), pd.DataFrame([\n",
    "        [False, False, False],\n",
    "        [False, False, True],\n",
    "        [False, True, False],\n",
    "        [True, False, False],\n",
    "        [False, False, True],\n",
    "    ]), group_by=np.array([0, 0, 0]), \n",
    "        cash_sharing=True, call_seq='auto', direction=direction)\n",
    "\n",
    "    print(portfolio.orders.records)\n",
    "    print(portfolio.call_seq)\n",
    "    print(portfolio.assets())\n",
    "    print(portfolio.value())\n",
    "    # notice how shorting with np.inf only accounts for current cash, not for other assets!"
   ]
  },
  {
   "cell_type": "markdown",
   "metadata": {},
   "source": [
    "## from_order_func"
   ]
  },
  {
   "cell_type": "code",
   "execution_count": 7,
   "metadata": {},
   "outputs": [],
   "source": [
    "from vectorbt.portfolio.nb import order_nb, order_nothing_nb\n",
    "\n",
    "@njit\n",
    "def order_func_nb(c, size):\n",
    "    return order_nb(size if c.i % 2 == 0 else -size)\n",
    "\n",
    "@njit\n",
    "def flex_order_func_nb(c, size):\n",
    "    if c.call_idx < c.group_len:\n",
    "        return c.from_col + c.call_idx, order_nb(size if c.i % 2 == 0 else -size)\n",
    "    return -1, order_nothing_nb()"
   ]
  },
  {
   "cell_type": "code",
   "execution_count": 8,
   "metadata": {},
   "outputs": [
    {
     "name": "stdout",
     "output_type": "stream",
     "text": [
      "1.92 ms ± 156 µs per loop (mean ± std. dev. of 7 runs, 1 loop each)\n",
      "2.02 ms ± 189 µs per loop (mean ± std. dev. of 7 runs, 1 loop each)\n",
      "1.85 ms ± 140 µs per loop (mean ± std. dev. of 7 runs, 1 loop each)\n",
      "1.85 ms ± 145 µs per loop (mean ± std. dev. of 7 runs, 1 loop each)\n"
     ]
    }
   ],
   "source": [
    "%timeit vbt.Portfolio.from_order_func(\\\n",
    "    big_price, order_func_nb, 1., init_cash=np.inf)\n",
    "%timeit vbt.Portfolio.from_order_func(\\\n",
    "    big_price, order_func_nb, 1., init_cash=np.inf, row_wise=True)\n",
    "%timeit vbt.Portfolio.from_order_func(\\\n",
    "    big_price, flex_order_func_nb, 1., init_cash=np.inf, flexible=True)\n",
    "%timeit vbt.Portfolio.from_order_func(\\\n",
    "    big_price, flex_order_func_nb, 1., init_cash=np.inf, row_wise=True, flexible=True)"
   ]
  },
  {
   "cell_type": "code",
   "execution_count": 9,
   "metadata": {},
   "outputs": [
    {
     "name": "stdout",
     "output_type": "stream",
     "text": [
      "95 ms ± 181 µs per loop (mean ± std. dev. of 7 runs, 1 loop each)\n",
      "101 ms ± 2.48 ms per loop (mean ± std. dev. of 7 runs, 1 loop each)\n",
      "90.9 ms ± 489 µs per loop (mean ± std. dev. of 7 runs, 1 loop each)\n",
      "89.1 ms ± 1.69 ms per loop (mean ± std. dev. of 7 runs, 1 loop each)\n"
     ]
    }
   ],
   "source": [
    "%timeit vbt.Portfolio.from_order_func(\\\n",
    "    big_price_wide, order_func_nb, 1., init_cash=np.inf)\n",
    "%timeit vbt.Portfolio.from_order_func(\\\n",
    "    big_price_wide, order_func_nb, 1., init_cash=np.inf, row_wise=True)\n",
    "%timeit vbt.Portfolio.from_order_func(\\\n",
    "    big_price_wide, flex_order_func_nb, 1., init_cash=np.inf, flexible=True)\n",
    "%timeit vbt.Portfolio.from_order_func(\\\n",
    "    big_price_wide, flex_order_func_nb, 1., init_cash=np.inf, row_wise=True, flexible=True)"
   ]
  },
  {
   "cell_type": "code",
   "execution_count": 44,
   "metadata": {},
   "outputs": [
    {
     "name": "stdout",
     "output_type": "stream",
     "text": [
      "76.4 ms ± 217 µs per loop (mean ± std. dev. of 7 runs, 1 loop each)\n",
      "84.2 ms ± 284 µs per loop (mean ± std. dev. of 7 runs, 1 loop each)\n",
      "71.5 ms ± 1.39 ms per loop (mean ± std. dev. of 7 runs, 10 loops each)\n",
      "71.1 ms ± 101 µs per loop (mean ± std. dev. of 7 runs, 10 loops each)\n"
     ]
    }
   ],
   "source": [
    "%timeit vbt.Portfolio.from_order_func(\\\n",
    "    big_price_wide, order_func_nb, 1., init_cash=np.inf, fill_pos_record=False)\n",
    "%timeit vbt.Portfolio.from_order_func(\\\n",
    "    big_price_wide, order_func_nb, 1., init_cash=np.inf, row_wise=True, fill_pos_record=False)\n",
    "%timeit vbt.Portfolio.from_order_func(\\\n",
    "    big_price_wide, flex_order_func_nb, 1., init_cash=np.inf, fill_pos_record=False, flexible=True)\n",
    "%timeit vbt.Portfolio.from_order_func(\\\n",
    "    big_price_wide, flex_order_func_nb, 1., init_cash=np.inf, row_wise=True, fill_pos_record=False, flexible=True)"
   ]
  },
  {
   "cell_type": "code",
   "execution_count": 45,
   "metadata": {},
   "outputs": [
    {
     "name": "stdout",
     "output_type": "stream",
     "text": [
      "89.1 ms ± 851 µs per loop (mean ± std. dev. of 7 runs, 10 loops each)\n",
      "93.5 ms ± 692 µs per loop (mean ± std. dev. of 7 runs, 10 loops each)\n",
      "86.2 ms ± 287 µs per loop (mean ± std. dev. of 7 runs, 10 loops each)\n",
      "86.3 ms ± 131 µs per loop (mean ± std. dev. of 7 runs, 10 loops each)\n"
     ]
    }
   ],
   "source": [
    "%timeit vbt.Portfolio.from_order_func(\\\n",
    "    big_price_wide, order_func_nb, 1., \\\n",
    "    group_by=np.repeat(np.arange(500), 2), init_cash=np.inf)\n",
    "%timeit vbt.Portfolio.from_order_func(\\\n",
    "    big_price_wide, order_func_nb, 1., \\\n",
    "    group_by=np.repeat(np.arange(500), 2), init_cash=np.inf, row_wise=True)\n",
    "%timeit vbt.Portfolio.from_order_func(\\\n",
    "    big_price_wide, flex_order_func_nb, 1., \\\n",
    "    group_by=np.repeat(np.arange(500), 2), init_cash=np.inf, flexible=True)\n",
    "%timeit vbt.Portfolio.from_order_func(\\\n",
    "    big_price_wide, flex_order_func_nb, 1., \\\n",
    "    group_by=np.repeat(np.arange(500), 2), init_cash=np.inf, row_wise=True, flexible=True)"
   ]
  },
  {
   "cell_type": "code",
   "execution_count": 46,
   "metadata": {},
   "outputs": [
    {
     "name": "stdout",
     "output_type": "stream",
     "text": [
      "88.7 ms ± 763 µs per loop (mean ± std. dev. of 7 runs, 10 loops each)\n",
      "93 ms ± 686 µs per loop (mean ± std. dev. of 7 runs, 10 loops each)\n",
      "85.4 ms ± 39.1 µs per loop (mean ± std. dev. of 7 runs, 10 loops each)\n",
      "85.7 ms ± 140 µs per loop (mean ± std. dev. of 7 runs, 10 loops each)\n"
     ]
    }
   ],
   "source": [
    "%timeit vbt.Portfolio.from_order_func(\\\n",
    "    big_price_wide, order_func_nb, 1., \\\n",
    "    group_by=np.repeat(np.arange(500), 2), cash_sharing=True, init_cash=np.inf)\n",
    "%timeit vbt.Portfolio.from_order_func(\\\n",
    "    big_price_wide, order_func_nb, 1., \\\n",
    "    group_by=np.repeat(np.arange(500), 2), cash_sharing=True, init_cash=np.inf, row_wise=True)\n",
    "%timeit vbt.Portfolio.from_order_func(\\\n",
    "    big_price_wide, flex_order_func_nb, 1., \\\n",
    "    group_by=np.repeat(np.arange(500), 2), cash_sharing=True, init_cash=np.inf, flexible=True)\n",
    "%timeit vbt.Portfolio.from_order_func(\\\n",
    "    big_price_wide, flex_order_func_nb, 1., \\\n",
    "    group_by=np.repeat(np.arange(500), 2), cash_sharing=True, init_cash=np.inf, row_wise=True, flexible=True)"
   ]
  },
  {
   "cell_type": "code",
   "execution_count": 47,
   "metadata": {},
   "outputs": [
    {
     "name": "stdout",
     "output_type": "stream",
     "text": [
      "87 ms ± 487 µs per loop (mean ± std. dev. of 7 runs, 10 loops each)\n",
      "86.2 ms ± 369 µs per loop (mean ± std. dev. of 7 runs, 10 loops each)\n",
      "83.4 ms ± 151 µs per loop (mean ± std. dev. of 7 runs, 10 loops each)\n",
      "83.3 ms ± 153 µs per loop (mean ± std. dev. of 7 runs, 10 loops each)\n"
     ]
    }
   ],
   "source": [
    "%timeit vbt.Portfolio.from_order_func(\\\n",
    "    big_price_wide, order_func_nb, 1., init_cash=np.inf, \\\n",
    "    group_by=np.full(1000, 0))\n",
    "%timeit vbt.Portfolio.from_order_func(\\\n",
    "    big_price_wide, order_func_nb, 1., init_cash=np.inf, \\\n",
    "    group_by=np.full(1000, 0), row_wise=True)\n",
    "%timeit vbt.Portfolio.from_order_func(\\\n",
    "    big_price_wide, flex_order_func_nb, 1., init_cash=np.inf, \\\n",
    "    group_by=np.full(1000, 0), flexible=True)\n",
    "%timeit vbt.Portfolio.from_order_func(\\\n",
    "    big_price_wide, flex_order_func_nb, 1., init_cash=np.inf, \\\n",
    "    group_by=np.full(1000, 0), row_wise=True, flexible=True)"
   ]
  },
  {
   "cell_type": "code",
   "execution_count": 48,
   "metadata": {},
   "outputs": [
    {
     "name": "stdout",
     "output_type": "stream",
     "text": [
      "83.6 ms ± 622 µs per loop (mean ± std. dev. of 7 runs, 1 loop each)\n",
      "82.7 ms ± 192 µs per loop (mean ± std. dev. of 7 runs, 1 loop each)\n",
      "82.3 ms ± 927 µs per loop (mean ± std. dev. of 7 runs, 1 loop each)\n",
      "82 ms ± 680 µs per loop (mean ± std. dev. of 7 runs, 1 loop each)\n"
     ]
    }
   ],
   "source": [
    "%timeit vbt.Portfolio.from_order_func(\\\n",
    "    big_price_wide, order_func_nb, 1., init_cash=np.inf, \\\n",
    "    group_by=np.full(1000, 0), cash_sharing=True)\n",
    "%timeit vbt.Portfolio.from_order_func(\\\n",
    "    big_price_wide, order_func_nb, 1., init_cash=np.inf, \\\n",
    "    group_by=np.full(1000, 0), cash_sharing=True, row_wise=True)\n",
    "%timeit vbt.Portfolio.from_order_func(\\\n",
    "    big_price_wide, flex_order_func_nb, 1., init_cash=np.inf, \\\n",
    "    group_by=np.full(1000, 0), cash_sharing=True, flexible=True)\n",
    "%timeit vbt.Portfolio.from_order_func(\\\n",
    "    big_price_wide, flex_order_func_nb, 1., init_cash=np.inf, \\\n",
    "    group_by=np.full(1000, 0), cash_sharing=True, row_wise=True, flexible=True)"
   ]
  },
  {
   "cell_type": "code",
   "execution_count": 52,
   "metadata": {},
   "outputs": [],
   "source": [
    "def test_call_seq(call_seq, **kwargs):\n",
    "    return vbt.Portfolio.from_order_func(\n",
    "        price_wide, \n",
    "        order_func_nb, \n",
    "        1.,\n",
    "        group_by=np.array([0, 0, 0]),\n",
    "        call_seq=call_seq, **kwargs\n",
    "    ).call_seq\n",
    "\n",
    "def big_test_call_seq(call_seq, **kwargs):\n",
    "    return vbt.Portfolio.from_order_func(\n",
    "        big_price_wide, \n",
    "        order_func_nb, \n",
    "        1.,\n",
    "        group_by=np.repeat(np.arange(500), 2),\n",
    "        call_seq=call_seq, **kwargs\n",
    "    ).call_seq"
   ]
  },
  {
   "cell_type": "code",
   "execution_count": 10,
   "metadata": {},
   "outputs": [
    {
     "name": "stdout",
     "output_type": "stream",
     "text": [
      "            a  b  c\n",
      "2020-01-01  0  1  2\n",
      "2020-01-02  0  1  2\n",
      "2020-01-03  0  1  2\n",
      "2020-01-04  0  1  2\n",
      "2020-01-05  0  1  2\n",
      "46.2 ms ± 838 µs per loop (mean ± std. dev. of 7 runs, 10 loops each)\n",
      "            a  b  c\n",
      "2020-01-01  2  1  0\n",
      "2020-01-02  2  1  0\n",
      "2020-01-03  2  1  0\n",
      "2020-01-04  2  1  0\n",
      "2020-01-05  2  1  0\n",
      "46.4 ms ± 683 µs per loop (mean ± std. dev. of 7 runs, 10 loops each)\n",
      "            a  b  c\n",
      "2020-01-01  0  1  2\n",
      "2020-01-02  2  1  0\n",
      "2020-01-03  1  0  2\n",
      "2020-01-04  2  0  1\n",
      "2020-01-05  2  1  0\n",
      "55.1 ms ± 849 µs per loop (mean ± std. dev. of 7 runs, 10 loops each)\n"
     ]
    }
   ],
   "source": [
    "print(test_call_seq(CallSeqType.Default))\n",
    "%timeit big_test_call_seq(CallSeqType.Default)\n",
    "\n",
    "print(test_call_seq(CallSeqType.Reversed))\n",
    "%timeit big_test_call_seq(CallSeqType.Reversed)\n",
    "\n",
    "print(test_call_seq(CallSeqType.Random))\n",
    "%timeit big_test_call_seq(CallSeqType.Random)"
   ]
  },
  {
   "cell_type": "code",
   "execution_count": 53,
   "metadata": {},
   "outputs": [],
   "source": [
    "@njit\n",
    "def pre_segment_func1_nb(c, *args):\n",
    "    c.call_seq_now[:] = np.arange(c.to_col - c.from_col - 1, -1, -1)\n",
    "    return ()\n",
    "\n",
    "@njit\n",
    "def pre_segment_func2_nb(c, *args):\n",
    "    c.call_seq_now[:] = np.copy(c.call_seq_now[::-1])\n",
    "    return ()\n",
    "\n",
    "@njit\n",
    "def pre_segment_func3_nb(c, *args):\n",
    "    call_seq_now = c.call_seq_now\n",
    "    n_cols = c.to_col - c.from_col\n",
    "    for k in range(n_cols):\n",
    "        call_seq_now[k] = n_cols - k - 1\n",
    "    return ()\n",
    "\n",
    "@njit\n",
    "def pre_segment_func4_nb(c, *args):\n",
    "    np.random.shuffle(c.call_seq_now)\n",
    "    return ()"
   ]
  },
  {
   "cell_type": "code",
   "execution_count": 54,
   "metadata": {},
   "outputs": [
    {
     "name": "stdout",
     "output_type": "stream",
     "text": [
      "            a  b  c\n",
      "2020-01-01  2  1  0\n",
      "2020-01-02  2  1  0\n",
      "2020-01-03  2  1  0\n",
      "2020-01-04  2  1  0\n",
      "2020-01-05  2  1  0\n",
      "262 ms ± 109 ms per loop (mean ± std. dev. of 7 runs, 1 loop each)\n",
      "206 ms ± 2.16 ms per loop (mean ± std. dev. of 7 runs, 1 loop each)\n",
      "            a  b  c\n",
      "2020-01-01  2  1  0\n",
      "2020-01-02  2  1  0\n",
      "2020-01-03  2  1  0\n",
      "2020-01-04  2  1  0\n",
      "2020-01-05  2  1  0\n",
      "209 ms ± 1.67 ms per loop (mean ± std. dev. of 7 runs, 1 loop each)\n",
      "211 ms ± 1.97 ms per loop (mean ± std. dev. of 7 runs, 1 loop each)\n",
      "            a  b  c\n",
      "2020-01-01  2  1  0\n",
      "2020-01-02  2  1  0\n",
      "2020-01-03  2  1  0\n",
      "2020-01-04  2  1  0\n",
      "2020-01-05  2  1  0\n",
      "94.2 ms ± 1.26 ms per loop (mean ± std. dev. of 7 runs, 10 loops each)\n",
      "99.2 ms ± 394 µs per loop (mean ± std. dev. of 7 runs, 1 loop each)\n",
      "            a  b  c\n",
      "2020-01-01  1  2  0\n",
      "2020-01-02  0  1  2\n",
      "2020-01-03  1  0  2\n",
      "2020-01-04  1  0  2\n",
      "2020-01-05  2  1  0\n",
      "148 ms ± 2.78 ms per loop (mean ± std. dev. of 7 runs, 10 loops each)\n",
      "148 ms ± 3.6 ms per loop (mean ± std. dev. of 7 runs, 1 loop each)\n"
     ]
    }
   ],
   "source": [
    "print(test_call_seq(CallSeqType.Default, pre_segment_func_nb=pre_segment_func1_nb))\n",
    "%timeit big_test_call_seq(CallSeqType.Default, pre_segment_func_nb=pre_segment_func1_nb)\n",
    "%timeit big_test_call_seq(CallSeqType.Default, pre_segment_func_nb=pre_segment_func1_nb, row_wise=True)\n",
    "\n",
    "print(test_call_seq(CallSeqType.Default, pre_segment_func_nb=pre_segment_func2_nb))\n",
    "%timeit big_test_call_seq(CallSeqType.Default, pre_segment_func_nb=pre_segment_func2_nb)\n",
    "%timeit big_test_call_seq(CallSeqType.Default, pre_segment_func_nb=pre_segment_func2_nb, row_wise=True)\n",
    "\n",
    "print(test_call_seq(CallSeqType.Default, pre_segment_func_nb=pre_segment_func3_nb))\n",
    "%timeit big_test_call_seq(CallSeqType.Default, pre_segment_func_nb=pre_segment_func3_nb)\n",
    "%timeit big_test_call_seq(CallSeqType.Default, pre_segment_func_nb=pre_segment_func3_nb, row_wise=True)\n",
    "\n",
    "print(test_call_seq(CallSeqType.Default, pre_segment_func_nb=pre_segment_func4_nb))\n",
    "%timeit big_test_call_seq(CallSeqType.Default, pre_segment_func_nb=pre_segment_func4_nb)  # in-place fastest\n",
    "%timeit big_test_call_seq(CallSeqType.Default, pre_segment_func_nb=pre_segment_func4_nb, row_wise=True)"
   ]
  },
  {
   "cell_type": "code",
   "execution_count": 6,
   "metadata": {},
   "outputs": [
    {
     "name": "stdout",
     "output_type": "stream",
     "text": [
      "Index([0], dtype='int64')\n",
      "1\n",
      "Index([0], dtype='int64', name='iteration_idx')\n",
      "2\n",
      "Index(['first'], dtype='object', name='custom')\n",
      "2\n",
      "Index([0, 1, 2], dtype='int64', name='iteration_idx')\n",
      "2\n",
      "Index(['first', 'second', 'third'], dtype='object', name='custom')\n",
      "2\n"
     ]
    }
   ],
   "source": [
    "portfolio = vbt.Portfolio.from_order_func(\n",
    "    price, order_func_nb, np.inf,\n",
    "    target_shape=(5,))\n",
    "print(portfolio.wrapper.columns)\n",
    "print(portfolio.wrapper.ndim)\n",
    "\n",
    "portfolio = vbt.Portfolio.from_order_func(\n",
    "    price, order_func_nb, np.inf,\n",
    "    target_shape=(5, 1))\n",
    "print(portfolio.wrapper.columns)\n",
    "print(portfolio.wrapper.ndim)\n",
    "\n",
    "portfolio = vbt.Portfolio.from_order_func(\n",
    "    price, order_func_nb, np.inf,\n",
    "    target_shape=(5, 1), keys=pd.Index(['first'], name='custom'))\n",
    "print(portfolio.wrapper.columns)\n",
    "print(portfolio.wrapper.ndim)\n",
    "\n",
    "portfolio = vbt.Portfolio.from_order_func(\n",
    "    price, order_func_nb, np.inf,\n",
    "    target_shape=(5, 3))\n",
    "print(portfolio.wrapper.columns)\n",
    "print(portfolio.wrapper.ndim)\n",
    "\n",
    "portfolio = vbt.Portfolio.from_order_func(\n",
    "    price, order_func_nb, np.inf,\n",
    "    target_shape=(5, 3), keys=pd.Index(['first', 'second', 'third'], name='custom'))\n",
    "print(portfolio.wrapper.columns)\n",
    "print(portfolio.wrapper.ndim)"
   ]
  },
  {
   "cell_type": "code",
   "execution_count": 7,
   "metadata": {},
   "outputs": [
    {
     "name": "stdout",
     "output_type": "stream",
     "text": [
      "   id  idx  col        size  price  fees  side\n",
      "0   0    0    0  100.000000    1.0   0.0     0\n",
      "1   1    1    0  200.000000    2.0   0.0     1\n",
      "2   2    2    0  133.333333    3.0   0.0     0\n",
      "3   3    3    0   66.666667    4.0   0.0     1\n",
      "4   4    4    0   53.333333    5.0   0.0     0\n",
      "   id  idx  col        size  price  fees  side\n",
      "0   0    0    0  100.000000    1.0   0.0     0\n",
      "1   1    1    0  200.000000    2.0   0.0     1\n",
      "2   2    2    0  133.333333    3.0   0.0     0\n",
      "3   3    3    0   66.666667    4.0   0.0     1\n",
      "4   4    4    0   53.333333    5.0   0.0     0\n"
     ]
    }
   ],
   "source": [
    "portfolio = vbt.Portfolio.from_order_func(price, order_func_nb, np.inf)\n",
    "print(portfolio.orders.records)\n",
    "\n",
    "portfolio = vbt.Portfolio.from_order_func(price, order_func_nb, np.inf, row_wise=True)\n",
    "print(portfolio.orders.records)"
   ]
  },
  {
   "cell_type": "code",
   "execution_count": 8,
   "metadata": {},
   "outputs": [
    {
     "name": "stdout",
     "output_type": "stream",
     "text": [
      "    id  idx  col        size  price  fees  side\n",
      "0    0    0    0  100.000000    1.0   0.0     0\n",
      "1    1    1    0  200.000000    2.0   0.0     1\n",
      "2    2    2    0  133.333333    3.0   0.0     0\n",
      "3    3    3    0   66.666667    4.0   0.0     1\n",
      "4    4    4    0   53.333333    5.0   0.0     0\n",
      "5    5    0    1  100.000000    1.0   0.0     0\n",
      "6    6    1    1  200.000000    2.0   0.0     1\n",
      "7    7    2    1  133.333333    3.0   0.0     0\n",
      "8    8    3    1   66.666667    4.0   0.0     1\n",
      "9    9    4    1   53.333333    5.0   0.0     0\n",
      "10  10    0    2  100.000000    1.0   0.0     0\n",
      "11  11    1    2  200.000000    2.0   0.0     1\n",
      "12  12    2    2  133.333333    3.0   0.0     0\n",
      "13  13    3    2   66.666667    4.0   0.0     1\n",
      "14  14    4    2   53.333333    5.0   0.0     0\n",
      "    id  idx  col        size  price  fees  side\n",
      "0    0    0    0  100.000000    1.0   0.0     0\n",
      "1    1    0    1  100.000000    1.0   0.0     0\n",
      "2    2    0    2  100.000000    1.0   0.0     0\n",
      "3    3    1    0  200.000000    2.0   0.0     1\n",
      "4    4    1    1  200.000000    2.0   0.0     1\n",
      "5    5    1    2  200.000000    2.0   0.0     1\n",
      "6    6    2    0  133.333333    3.0   0.0     0\n",
      "7    7    2    1  133.333333    3.0   0.0     0\n",
      "8    8    2    2  133.333333    3.0   0.0     0\n",
      "9    9    3    0   66.666667    4.0   0.0     1\n",
      "10  10    3    1   66.666667    4.0   0.0     1\n",
      "11  11    3    2   66.666667    4.0   0.0     1\n",
      "12  12    4    0   53.333333    5.0   0.0     0\n",
      "13  13    4    1   53.333333    5.0   0.0     0\n",
      "14  14    4    2   53.333333    5.0   0.0     0\n"
     ]
    }
   ],
   "source": [
    "portfolio = vbt.Portfolio.from_order_func(price_wide, order_func_nb, np.inf)\n",
    "print(portfolio.orders.records)\n",
    "\n",
    "portfolio = vbt.Portfolio.from_order_func(price_wide, order_func_nb, np.inf, row_wise=True)\n",
    "print(portfolio.orders.records)"
   ]
  },
  {
   "cell_type": "code",
   "execution_count": 9,
   "metadata": {},
   "outputs": [
    {
     "name": "stdout",
     "output_type": "stream",
     "text": [
      "    id  idx  col        size  price  fees  side\n",
      "0    0    0    0  100.000000    1.0   0.0     0\n",
      "1    1    0    1  100.000000    1.0   0.0     0\n",
      "2    2    1    0  200.000000    2.0   0.0     1\n",
      "3    3    1    1  200.000000    2.0   0.0     1\n",
      "4    4    2    0  133.333333    3.0   0.0     0\n",
      "5    5    2    1  133.333333    3.0   0.0     0\n",
      "6    6    3    0   66.666667    4.0   0.0     1\n",
      "7    7    3    1   66.666667    4.0   0.0     1\n",
      "8    8    4    0   53.333333    5.0   0.0     0\n",
      "9    9    4    1   53.333333    5.0   0.0     0\n",
      "10  10    0    2  100.000000    1.0   0.0     0\n",
      "11  11    1    2  200.000000    2.0   0.0     1\n",
      "12  12    2    2  133.333333    3.0   0.0     0\n",
      "13  13    3    2   66.666667    4.0   0.0     1\n",
      "14  14    4    2   53.333333    5.0   0.0     0\n",
      "    id  idx  col        size  price  fees  side\n",
      "0    0    0    0  100.000000    1.0   0.0     0\n",
      "1    1    0    1  100.000000    1.0   0.0     0\n",
      "2    2    0    2  100.000000    1.0   0.0     0\n",
      "3    3    1    0  200.000000    2.0   0.0     1\n",
      "4    4    1    1  200.000000    2.0   0.0     1\n",
      "5    5    1    2  200.000000    2.0   0.0     1\n",
      "6    6    2    0  133.333333    3.0   0.0     0\n",
      "7    7    2    1  133.333333    3.0   0.0     0\n",
      "8    8    2    2  133.333333    3.0   0.0     0\n",
      "9    9    3    0   66.666667    4.0   0.0     1\n",
      "10  10    3    1   66.666667    4.0   0.0     1\n",
      "11  11    3    2   66.666667    4.0   0.0     1\n",
      "12  12    4    0   53.333333    5.0   0.0     0\n",
      "13  13    4    1   53.333333    5.0   0.0     0\n",
      "14  14    4    2   53.333333    5.0   0.0     0\n"
     ]
    }
   ],
   "source": [
    "portfolio = vbt.Portfolio.from_order_func(\n",
    "    price_wide, order_func_nb, np.inf,\n",
    "    group_by=np.array([0, 0, 1]))\n",
    "print(portfolio.orders.records)\n",
    "\n",
    "portfolio = vbt.Portfolio.from_order_func(\n",
    "    price_wide, order_func_nb, np.inf,\n",
    "    group_by=np.array([0, 0, 1]), row_wise=True)\n",
    "print(portfolio.orders.records)"
   ]
  },
  {
   "cell_type": "code",
   "execution_count": 10,
   "metadata": {},
   "outputs": [
    {
     "name": "stdout",
     "output_type": "stream",
     "text": [
      "   id  idx  col        size  price  fees  side\n",
      "0   0    0    0  100.000000    1.0   0.0     0\n",
      "1   1    1    0  200.000000    2.0   0.0     1\n",
      "2   2    2    0  133.333333    3.0   0.0     0\n",
      "3   3    3    0   66.666667    4.0   0.0     1\n",
      "4   4    4    0   53.333333    5.0   0.0     0\n",
      "5   5    0    2  100.000000    1.0   0.0     0\n",
      "6   6    1    2  200.000000    2.0   0.0     1\n",
      "7   7    2    2  133.333333    3.0   0.0     0\n",
      "8   8    3    2   66.666667    4.0   0.0     1\n",
      "9   9    4    2   53.333333    5.0   0.0     0\n",
      "   id  idx  col        size  price  fees  side\n",
      "0   0    0    0  100.000000    1.0   0.0     0\n",
      "1   1    0    2  100.000000    1.0   0.0     0\n",
      "2   2    1    0  200.000000    2.0   0.0     1\n",
      "3   3    1    2  200.000000    2.0   0.0     1\n",
      "4   4    2    0  133.333333    3.0   0.0     0\n",
      "5   5    2    2  133.333333    3.0   0.0     0\n",
      "6   6    3    0   66.666667    4.0   0.0     1\n",
      "7   7    3    2   66.666667    4.0   0.0     1\n",
      "8   8    4    0   53.333333    5.0   0.0     0\n",
      "9   9    4    2   53.333333    5.0   0.0     0\n"
     ]
    }
   ],
   "source": [
    "portfolio = vbt.Portfolio.from_order_func(\n",
    "    price_wide, order_func_nb, np.inf,\n",
    "    group_by=np.array([0, 0, 1]), cash_sharing=True)\n",
    "print(portfolio.orders.records)\n",
    "\n",
    "portfolio = vbt.Portfolio.from_order_func(\n",
    "    price_wide, order_func_nb, np.inf,\n",
    "    group_by=np.array([0, 0, 1]), cash_sharing=True, row_wise=True)\n",
    "print(portfolio.orders.records)"
   ]
  },
  {
   "cell_type": "code",
   "execution_count": 11,
   "metadata": {},
   "outputs": [
    {
     "name": "stdout",
     "output_type": "stream",
     "text": [
      "[1.] 25.0\n",
      "[2.] -33.33333333333333\n",
      "[3.] -12.5\n",
      "[4.] -6.666666666666668\n",
      "   id  idx  col       size  price  fees  side\n",
      "0   0    0    0  50.000000    2.0   0.0     0\n",
      "1   1    1    0  25.000000    3.0   0.0     1\n",
      "2   2    2    0   8.333333    4.0   0.0     1\n",
      "3   3    3    0   4.166667    5.0   0.0     1\n",
      "[1.] 25.0\n",
      "[2.] -33.33333333333333\n",
      "[3.] -12.5\n",
      "[4.] -6.666666666666668\n",
      "   id  idx  col       size  price  fees  side\n",
      "0   0    0    0  50.000000    2.0   0.0     0\n",
      "1   1    1    0  25.000000    3.0   0.0     1\n",
      "2   2    2    0   8.333333    4.0   0.0     1\n",
      "3   3    3    0   4.166667    5.0   0.0     1\n"
     ]
    }
   ],
   "source": [
    "@njit\n",
    "def target_val_pre_segment_func_nb(c, val_price):\n",
    "    c.last_val_price[c.from_col:c.to_col] = val_price[c.i]\n",
    "    return ()\n",
    "\n",
    "@njit\n",
    "def target_val_order_func_nb(c):\n",
    "    print(c.last_val_price[c.from_col:c.to_col], 50. / c.close[c.i, c.col] - c.position_now)\n",
    "    return order_nb(size=50., size_type=SizeType.TargetValue, price=c.close[c.i, c.col])\n",
    "\n",
    "portfolio = vbt.Portfolio.from_order_func(\n",
    "    price.iloc[1:], target_val_order_func_nb, \n",
    "    pre_segment_func_nb=target_val_pre_segment_func_nb,\n",
    "    pre_segment_args=(price.values[:-1],)  # lagged valuation price\n",
    ")\n",
    "print(portfolio.orders.records)\n",
    "\n",
    "portfolio = vbt.Portfolio.from_order_func(\n",
    "    price.iloc[1:], target_val_order_func_nb, \n",
    "    pre_segment_func_nb=target_val_pre_segment_func_nb,\n",
    "    pre_segment_args=(price.values[:-1],), row_wise=True\n",
    ")\n",
    "print(portfolio.orders.records)"
   ]
  },
  {
   "cell_type": "code",
   "execution_count": 12,
   "metadata": {},
   "outputs": [
    {
     "name": "stdout",
     "output_type": "stream",
     "text": [
      "[2.] 25.0\n",
      "[3.] -8.333333333333332\n",
      "[4.] -4.166666666666668\n",
      "[5.] -2.5\n",
      "   id  idx  col       size  price  fees  side\n",
      "0   0    0    0  25.000000    2.0   0.0     0\n",
      "1   1    1    0   8.333333    3.0   0.0     1\n",
      "2   2    2    0   4.166667    4.0   0.0     1\n",
      "3   3    3    0   2.500000    5.0   0.0     1\n",
      "[2.] 25.0\n",
      "[3.] -8.333333333333332\n",
      "[4.] -4.166666666666668\n",
      "[5.] -2.5\n",
      "   id  idx  col       size  price  fees  side\n",
      "0   0    0    0  25.000000    2.0   0.0     0\n",
      "1   1    1    0   8.333333    3.0   0.0     1\n",
      "2   2    2    0   4.166667    4.0   0.0     1\n",
      "3   3    3    0   2.500000    5.0   0.0     1\n"
     ]
    }
   ],
   "source": [
    "portfolio = vbt.Portfolio.from_order_func(\n",
    "    price.iloc[1:], target_val_order_func_nb, \n",
    "    pre_segment_func_nb=target_val_pre_segment_func_nb,\n",
    "    pre_segment_args=(price.values[1:],)  # current order price\n",
    ")\n",
    "print(portfolio.orders.records)\n",
    "\n",
    "portfolio = vbt.Portfolio.from_order_func(\n",
    "    price.iloc[1:], target_val_order_func_nb, \n",
    "    pre_segment_func_nb=target_val_pre_segment_func_nb,\n",
    "    pre_segment_args=(price.values[1:],), row_wise=True\n",
    ")\n",
    "print(portfolio.orders.records)"
   ]
  },
  {
   "cell_type": "code",
   "execution_count": 13,
   "metadata": {},
   "outputs": [
    {
     "name": "stdout",
     "output_type": "stream",
     "text": [
      "[1.] 25.0\n",
      "[2.] -33.33333333333333\n",
      "[3.] -6.25\n",
      "[4.] -7.5\n",
      "   id  idx  col    size  price  fees  side\n",
      "0   0    0    0  50.000    2.0   0.0     0\n",
      "1   1    1    0  25.000    3.0   0.0     1\n",
      "2   2    3    0   3.125    5.0   0.0     1\n",
      "[1.] 25.0\n",
      "[2.] -33.33333333333333\n",
      "[3.] -6.25\n",
      "[4.] -7.5\n",
      "   id  idx  col    size  price  fees  side\n",
      "0   0    0    0  50.000    2.0   0.0     0\n",
      "1   1    1    0  25.000    3.0   0.0     1\n",
      "2   2    3    0   3.125    5.0   0.0     1\n"
     ]
    }
   ],
   "source": [
    "@njit\n",
    "def target_pct_pre_segment_func_nb(c, val_price):\n",
    "    c.last_val_price[c.from_col:c.to_col] = val_price[c.i]\n",
    "    return ()\n",
    "\n",
    "@njit\n",
    "def target_pct_order_func_nb(c):\n",
    "    print(c.last_val_price[c.from_col:c.to_col], 0.5 * c.value_now / c.close[c.i, c.col] - c.position_now)\n",
    "    return order_nb(size=0.5, size_type=SizeType.TargetPercent, price=c.close[c.i, c.col])\n",
    "\n",
    "portfolio = vbt.Portfolio.from_order_func(\n",
    "    price.iloc[1:], target_pct_order_func_nb, \n",
    "    pre_segment_func_nb=target_pct_pre_segment_func_nb,\n",
    "    pre_segment_args=(price.values[:-1],)  # lagged valuation price\n",
    ")\n",
    "print(portfolio.orders.records)\n",
    "\n",
    "portfolio = vbt.Portfolio.from_order_func(\n",
    "    price.iloc[1:], target_pct_order_func_nb, \n",
    "    pre_segment_func_nb=target_pct_pre_segment_func_nb,\n",
    "    pre_segment_args=(price.values[:-1],), row_wise=True\n",
    ")\n",
    "print(portfolio.orders.records)"
   ]
  },
  {
   "cell_type": "code",
   "execution_count": 14,
   "metadata": {},
   "outputs": [
    {
     "name": "stdout",
     "output_type": "stream",
     "text": [
      "[2.] 25.0\n",
      "[3.] -4.166666666666668\n",
      "[4.] -2.604166666666668\n",
      "[5.] -1.8229166666666643\n",
      "   id  idx  col       size  price  fees  side\n",
      "0   0    0    0  25.000000    2.0   0.0     0\n",
      "1   1    1    0   4.166667    3.0   0.0     1\n",
      "2   2    2    0   2.604167    4.0   0.0     1\n",
      "3   3    3    0   1.822917    5.0   0.0     1\n",
      "[2.] 25.0\n",
      "[3.] -4.166666666666668\n",
      "[4.] -2.604166666666668\n",
      "[5.] -1.8229166666666643\n",
      "   id  idx  col       size  price  fees  side\n",
      "0   0    0    0  25.000000    2.0   0.0     0\n",
      "1   1    1    0   4.166667    3.0   0.0     1\n",
      "2   2    2    0   2.604167    4.0   0.0     1\n",
      "3   3    3    0   1.822917    5.0   0.0     1\n"
     ]
    }
   ],
   "source": [
    "portfolio = vbt.Portfolio.from_order_func(\n",
    "    price.iloc[1:], target_pct_order_func_nb, \n",
    "    pre_segment_func_nb=target_pct_pre_segment_func_nb,\n",
    "    pre_segment_args=(price.values[1:],)  # current order price\n",
    ")\n",
    "print(portfolio.orders.records)\n",
    "\n",
    "portfolio = vbt.Portfolio.from_order_func(\n",
    "    price.iloc[1:], target_pct_order_func_nb, \n",
    "    pre_segment_func_nb=target_pct_pre_segment_func_nb,\n",
    "    pre_segment_args=(price.values[1:],), row_wise=True\n",
    ")\n",
    "print(portfolio.orders.records)"
   ]
  },
  {
   "cell_type": "code",
   "execution_count": 15,
   "metadata": {},
   "outputs": [
    {
     "name": "stdout",
     "output_type": "stream",
     "text": [
      "   id  idx  col  size  price  fees  side\n",
      "0   0    0    0   1.0    1.0   0.0     0\n",
      "1   1    2    0   1.0    3.0   0.0     0\n",
      "2   2    4    0   1.0    5.0   0.0     0\n",
      "   id  idx  col  size  price  fees  side\n",
      "0   0    0    0   1.0    1.0   0.0     0\n",
      "1   1    2    0   1.0    3.0   0.0     0\n",
      "2   2    4    0   1.0    5.0   0.0     0\n"
     ]
    }
   ],
   "source": [
    "portfolio = vbt.Portfolio.from_order_func(\n",
    "    price, order_func_nb, 1.,\n",
    "    segment_mask=pd.Series([True, False, True, False, True]))\n",
    "print(portfolio.orders.records)\n",
    "\n",
    "portfolio = vbt.Portfolio.from_order_func(\n",
    "    price, order_func_nb, 1.,\n",
    "    segment_mask=pd.Series([True, False, True, False, True]), row_wise=True)\n",
    "print(portfolio.orders.records)"
   ]
  },
  {
   "cell_type": "code",
   "execution_count": 16,
   "metadata": {},
   "outputs": [
    {
     "name": "stdout",
     "output_type": "stream",
     "text": [
      "preparing simulation\n",
      "\tpreparing group 0\n",
      "\t\tpreparing segment 0 (row)\n",
      "\t\t\tprocessing order 0 at column 0\n",
      "\t\t\tprocessing order 1 at column 1\n",
      "\t\tpreparing segment 1 (row)\n",
      "\t\t\tprocessing order 0 at column 0\n",
      "\t\t\tprocessing order 1 at column 1\n",
      "\t\tpreparing segment 2 (row)\n",
      "\t\t\tprocessing order 0 at column 0\n",
      "\t\t\tprocessing order 1 at column 1\n",
      "\t\tpreparing segment 3 (row)\n",
      "\t\t\tprocessing order 0 at column 0\n",
      "\t\t\tprocessing order 1 at column 1\n",
      "\t\tpreparing segment 4 (row)\n",
      "\t\t\tprocessing order 0 at column 0\n",
      "\t\t\tprocessing order 1 at column 1\n",
      "\tpreparing group 1\n",
      "\t\tpreparing segment 0 (row)\n",
      "\t\t\tprocessing order 0 at column 2\n",
      "\t\tpreparing segment 1 (row)\n",
      "\t\t\tprocessing order 0 at column 2\n",
      "\t\tpreparing segment 2 (row)\n",
      "\t\t\tprocessing order 0 at column 2\n",
      "\t\tpreparing segment 3 (row)\n",
      "\t\t\tprocessing order 0 at column 2\n",
      "\t\tpreparing segment 4 (row)\n",
      "\t\t\tprocessing order 0 at column 2\n",
      "[1] [2] [10] [15]\n"
     ]
    }
   ],
   "source": [
    "@njit\n",
    "def pre_sim_func_nb(c, sim_i):\n",
    "    print('preparing simulation')\n",
    "    sim_i[0] += 1\n",
    "    return sim_i,\n",
    "\n",
    "@njit\n",
    "def group_pre_sim_func_nb(c, sim_i, group_i):\n",
    "    print('\\tpreparing group', c.group)\n",
    "    group_i[0] += 1\n",
    "    return sim_i, group_i\n",
    "\n",
    "@njit\n",
    "def pre_segment_func_nb(c, sim_i, group_i, segment_i):\n",
    "    print('\\t\\tpreparing segment', c.i, '(row)')\n",
    "    segment_i[0] += 1\n",
    "    return sim_i, group_i, segment_i\n",
    "\n",
    "@njit\n",
    "def order_func_nb(c, sim_i, group_i, segment_i, order_i):\n",
    "    print('\\t\\t\\tprocessing order', c.call_idx, 'at column', c.col)\n",
    "    order_i[0] += 1\n",
    "    return NoOrder\n",
    "\n",
    "sim_i = np.array([0])\n",
    "group_i = np.array([0])\n",
    "segment_i = np.array([0])\n",
    "order_i = np.array([0])\n",
    "portfolio = vbt.Portfolio.from_order_func(\n",
    "    price_wide, order_func_nb, order_i, \n",
    "    group_by=np.array([0, 0, 1]), \n",
    "    pre_sim_func_nb=pre_sim_func_nb, pre_sim_args=(sim_i,),\n",
    "    pre_group_func_nb=group_pre_sim_func_nb, pre_group_args=(group_i,),\n",
    "    pre_segment_func_nb=pre_segment_func_nb, pre_segment_args=(segment_i,)\n",
    ")\n",
    "print(sim_i, group_i, segment_i, order_i)"
   ]
  },
  {
   "cell_type": "code",
   "execution_count": 17,
   "metadata": {},
   "outputs": [
    {
     "name": "stdout",
     "output_type": "stream",
     "text": [
      "preparing simulation\n",
      "\tpreparing row 0\n",
      "\t\tpreparing segment 0 (group)\n",
      "\t\t\tprocessing order 0 at column 0\n",
      "\t\t\tprocessing order 1 at column 1\n",
      "\t\tpreparing segment 1 (group)\n",
      "\t\t\tprocessing order 0 at column 2\n",
      "\tpreparing row 1\n",
      "\t\tpreparing segment 0 (group)\n",
      "\t\t\tprocessing order 0 at column 0\n",
      "\t\t\tprocessing order 1 at column 1\n",
      "\t\tpreparing segment 1 (group)\n",
      "\t\t\tprocessing order 0 at column 2\n",
      "\tpreparing row 2\n",
      "\t\tpreparing segment 0 (group)\n",
      "\t\t\tprocessing order 0 at column 0\n",
      "\t\t\tprocessing order 1 at column 1\n",
      "\t\tpreparing segment 1 (group)\n",
      "\t\t\tprocessing order 0 at column 2\n",
      "\tpreparing row 3\n",
      "\t\tpreparing segment 0 (group)\n",
      "\t\t\tprocessing order 0 at column 0\n",
      "\t\t\tprocessing order 1 at column 1\n",
      "\t\tpreparing segment 1 (group)\n",
      "\t\t\tprocessing order 0 at column 2\n",
      "\tpreparing row 4\n",
      "\t\tpreparing segment 0 (group)\n",
      "\t\t\tprocessing order 0 at column 0\n",
      "\t\t\tprocessing order 1 at column 1\n",
      "\t\tpreparing segment 1 (group)\n",
      "\t\t\tprocessing order 0 at column 2\n",
      "[1] [5] [10] [15]\n"
     ]
    }
   ],
   "source": [
    "@njit\n",
    "def pre_sim_func_nb(c, sim_i):\n",
    "    print('preparing simulation')\n",
    "    sim_i[0] += 1\n",
    "    return sim_i,\n",
    "\n",
    "@njit\n",
    "def row_pre_sim_func_nb(c, sim_i, row_i):\n",
    "    print('\\tpreparing row', c.i)\n",
    "    row_i[0] += 1\n",
    "    return sim_i, row_i\n",
    "\n",
    "@njit\n",
    "def pre_segment_func_nb(c, sim_i, row_i, segment_i):\n",
    "    print('\\t\\tpreparing segment', c.group, '(group)')\n",
    "    segment_i[0] += 1\n",
    "    return sim_i, row_i, segment_i\n",
    "\n",
    "@njit\n",
    "def order_func_nb(c, sim_i, row_i, segment_i, order_i):\n",
    "    print('\\t\\t\\tprocessing order', c.call_idx, 'at column', c.col)\n",
    "    order_i[0] += 1\n",
    "    return NoOrder\n",
    "\n",
    "sim_i = np.array([0])\n",
    "row_i = np.array([0])\n",
    "segment_i = np.array([0])\n",
    "order_i = np.array([0])\n",
    "\n",
    "portfolio = vbt.Portfolio.from_order_func(\n",
    "    price_wide, order_func_nb, order_i, \n",
    "    group_by=np.array([0, 0, 1]), \n",
    "    pre_sim_func_nb=pre_sim_func_nb, pre_sim_args=(sim_i,),\n",
    "    pre_row_func_nb=row_pre_sim_func_nb, pre_row_args=(row_i,),\n",
    "    pre_segment_func_nb=pre_segment_func_nb, pre_segment_args=(segment_i,),\n",
    "    row_wise=True\n",
    ")\n",
    "print(sim_i, row_i, segment_i, order_i)"
   ]
  },
  {
   "cell_type": "markdown",
   "metadata": {},
   "source": [
    "## methods and properties"
   ]
  },
  {
   "cell_type": "code",
   "execution_count": 3,
   "metadata": {},
   "outputs": [],
   "source": [
    "price_na = pd.DataFrame({\n",
    "    'a': [np.nan, 2., 3., 4., 5.],\n",
    "    'b': [1., 2., np.nan, 4., 5.],\n",
    "    'c': [1., 2., 3., 4., np.nan]\n",
    "}, index=price.index)\n",
    "order_size = pd.Series([1., 0.1, -1., -0.1, 1.])\n",
    "directions = ['longonly', 'shortonly', 'both']\n",
    "group_by = pd.Index(['first', 'first', 'second'], name='group')"
   ]
  },
  {
   "cell_type": "code",
   "execution_count": 4,
   "metadata": {},
   "outputs": [
    {
     "name": "stdout",
     "output_type": "stream",
     "text": [
      "    id  col  idx  size  price     fees  side\n",
      "0    0    0    1   0.1   2.02  0.10202     0\n",
      "1    1    0    2   0.1   2.97  0.10297     1\n",
      "2    2    0    4   1.0   5.05  0.15050     0\n",
      "3    3    1    0   1.0   0.99  0.10990     1\n",
      "4    4    1    1   0.1   1.98  0.10198     1\n",
      "5    5    1    3   0.1   4.04  0.10404     0\n",
      "6    6    1    4   1.0   4.95  0.14950     1\n",
      "7    7    2    0   1.0   1.01  0.11010     0\n",
      "8    8    2    1   0.1   2.02  0.10202     0\n",
      "9    9    2    2   1.0   2.97  0.12970     1\n",
      "10  10    2    3   0.1   3.96  0.10396     1\n",
      "    id  col  idx  size  price     fees  side\n",
      "0    0    0    1   0.1   2.02  0.10202     0\n",
      "1    1    0    2   0.1   2.97  0.10297     1\n",
      "2    2    0    4   1.0   5.05  0.15050     0\n",
      "3    3    1    0   1.0   0.99  0.10990     1\n",
      "4    4    1    1   0.1   1.98  0.10198     1\n",
      "5    5    1    3   0.1   4.04  0.10404     0\n",
      "6    6    1    4   1.0   4.95  0.14950     1\n",
      "7    7    2    0   1.0   1.01  0.11010     0\n",
      "8    8    2    1   0.1   2.02  0.10202     0\n",
      "9    9    2    2   1.0   2.97  0.12970     1\n",
      "10  10    2    3   0.1   3.96  0.10396     1\n",
      "    id  col  idx  size  price     fees  side\n",
      "0    0    1    0   1.0   0.99  0.10990     1\n",
      "1    1    1    1   0.1   1.98  0.10198     1\n",
      "2    2    0    1   0.1   2.02  0.10202     0\n",
      "3    3    0    2   0.1   2.97  0.10297     1\n",
      "4    4    1    3   0.1   4.04  0.10404     0\n",
      "5    5    1    4   1.0   4.95  0.14950     1\n",
      "6    6    0    4   1.0   5.05  0.15050     0\n",
      "7    7    2    0   1.0   1.01  0.11010     0\n",
      "8    8    2    1   0.1   2.02  0.10202     0\n",
      "9    9    2    2   1.0   2.97  0.12970     1\n",
      "10  10    2    3   0.1   3.96  0.10396     1\n"
     ]
    }
   ],
   "source": [
    "portfolio = vbt.Portfolio.from_orders(\n",
    "    price_na, order_size, size_type='amount', direction=directions,\n",
    "    fees=0.01, fixed_fees=0.1, slippage=0.01, log=True,\n",
    "    call_seq='reversed', group_by=None,\n",
    "    init_cash=[100., 100., 100.], freq='1D'\n",
    ")  # independent\n",
    "print(portfolio.orders.records)\n",
    "\n",
    "portfolio_grouped = vbt.Portfolio.from_orders(\n",
    "    price_na, order_size, size_type='amount', direction=directions,\n",
    "    fees=0.01, fixed_fees=0.1, slippage=0.01, log=True,\n",
    "    call_seq='reversed', group_by=group_by, cash_sharing=False,\n",
    "    init_cash=[100., 100., 100.], freq='1D'\n",
    ")  # grouped\n",
    "print(portfolio_grouped.orders.records)\n",
    "\n",
    "portfolio_shared = vbt.Portfolio.from_orders(\n",
    "    price_na, order_size, size_type='amount', direction=directions,\n",
    "    fees=0.01, fixed_fees=0.1, slippage=0.01, log=True,\n",
    "    call_seq='reversed', group_by=group_by, cash_sharing=True,\n",
    "    init_cash=[200., 100.], freq='1D'\n",
    ")  # shared\n",
    "print(portfolio_shared.orders.records)"
   ]
  },
  {
   "cell_type": "code",
   "execution_count": 5,
   "metadata": {},
   "outputs": [
    {
     "name": "stdout",
     "output_type": "stream",
     "text": [
      "(1000000,)\n",
      "(1000000,)\n",
      "(1000000,)\n"
     ]
    }
   ],
   "source": [
    "big_group_by = np.repeat(np.arange(500), 2)\n",
    "big_portfolio = vbt.Portfolio.from_orders(\n",
    "    big_price_wide, big_order_size)\n",
    "print(big_portfolio.orders.values.shape)\n",
    "\n",
    "big_portfolio_grouped = vbt.Portfolio.from_orders(\n",
    "    big_price_wide, big_order_size, group_by=big_group_by)\n",
    "print(big_portfolio_grouped.orders.values.shape)\n",
    "\n",
    "big_portfolio_shared = vbt.Portfolio.from_orders(\n",
    "    big_price_wide, big_order_size, group_by=big_group_by, cash_sharing=True)\n",
    "print(big_portfolio_shared.orders.values.shape)"
   ]
  },
  {
   "cell_type": "code",
   "execution_count": 6,
   "metadata": {},
   "outputs": [
    {
     "name": "stdout",
     "output_type": "stream",
     "text": [
      "DatetimeIndex(['2020-01-01', '2020-01-02', '2020-01-03', '2020-01-04',\n",
      "               '2020-01-05'],\n",
      "              dtype='datetime64[ns]', freq=None)\n",
      "Index(['a', 'b', 'c'], dtype='object')\n",
      "2\n",
      "None\n",
      "True\n",
      "True\n",
      "True\n",
      "DatetimeIndex(['2020-01-01', '2020-01-02', '2020-01-03', '2020-01-04',\n",
      "               '2020-01-05'],\n",
      "              dtype='datetime64[ns]', freq=None)\n",
      "Index(['a', 'b', 'c'], dtype='object')\n",
      "2\n",
      "Index(['first', 'first', 'second'], dtype='object', name='group')\n",
      "True\n",
      "True\n",
      "True\n",
      "DatetimeIndex(['2020-01-01', '2020-01-02', '2020-01-03', '2020-01-04',\n",
      "               '2020-01-05'],\n",
      "              dtype='datetime64[ns]', freq=None)\n",
      "Index(['a', 'b', 'c'], dtype='object')\n",
      "2\n",
      "Index(['first', 'first', 'second'], dtype='object', name='group')\n",
      "False\n",
      "True\n",
      "False\n"
     ]
    }
   ],
   "source": [
    "print(portfolio.wrapper.index)\n",
    "print(portfolio.wrapper.columns)\n",
    "print(portfolio.wrapper.ndim)\n",
    "print(portfolio.wrapper.grouper.group_by)\n",
    "print(portfolio.wrapper.grouper.allow_enable)\n",
    "print(portfolio.wrapper.grouper.allow_disable)\n",
    "print(portfolio.wrapper.grouper.allow_modify)\n",
    "\n",
    "print(portfolio_grouped.wrapper.index)\n",
    "print(portfolio_grouped.wrapper.columns)\n",
    "print(portfolio_grouped.wrapper.ndim)\n",
    "print(portfolio_grouped.wrapper.grouper.group_by)\n",
    "print(portfolio_grouped.wrapper.grouper.allow_enable)\n",
    "print(portfolio_grouped.wrapper.grouper.allow_disable)\n",
    "print(portfolio_grouped.wrapper.grouper.allow_modify)\n",
    "\n",
    "print(portfolio_shared.wrapper.index)\n",
    "print(portfolio_shared.wrapper.columns)\n",
    "print(portfolio_shared.wrapper.ndim)\n",
    "print(portfolio_shared.wrapper.grouper.group_by)\n",
    "print(portfolio_shared.wrapper.grouper.allow_enable)\n",
    "print(portfolio_shared.wrapper.grouper.allow_disable)\n",
    "print(portfolio_shared.wrapper.grouper.allow_modify)"
   ]
  },
  {
   "cell_type": "code",
   "execution_count": 106,
   "metadata": {},
   "outputs": [
    {
     "name": "stdout",
     "output_type": "stream",
     "text": [
      "    id  idx  col  size  price     fees  side\n",
      "0    0    1    0   0.1   2.02  0.10202     0\n",
      "1    1    2    0   0.1   2.97  0.10297     1\n",
      "2    2    4    0   1.0   5.05  0.15050     0\n",
      "3    3    0    1   1.0   0.99  0.10990     1\n",
      "4    4    1    1   0.1   1.98  0.10198     1\n",
      "5    5    3    1   0.1   4.04  0.10404     0\n",
      "6    6    4    1   1.0   4.95  0.14950     1\n",
      "7    7    0    2   1.0   1.01  0.11010     0\n",
      "8    8    1    2   0.1   2.02  0.10202     0\n",
      "9    9    2    2   1.0   2.97  0.12970     1\n",
      "10  10    3    2   0.1   3.96  0.10396     1\n",
      "a    3\n",
      "b    4\n",
      "c    4\n",
      "Name: count, dtype: int64\n",
      "a    5\n",
      "b    5\n",
      "c    5\n",
      "Name: count, dtype: int64\n",
      "              a    b    c\n",
      "2020-01-01  NaN  1.0  1.0\n",
      "2020-01-02  2.0  2.0  2.0\n",
      "2020-01-03  3.0  NaN  3.0\n",
      "2020-01-04  4.0  4.0  4.0\n",
      "2020-01-05  5.0  5.0  NaN\n",
      "a    100.0\n",
      "b    100.0\n",
      "c    100.0\n",
      "Name: init_cash, dtype: float64\n",
      "                    a         b          c\n",
      "2020-01-01  100.00000  99.88010   99.87990\n",
      "2020-01-02   99.89598  98.77612  100.77588\n",
      "2020-01-03   99.89001  98.77612  101.71618\n",
      "2020-01-04   99.89001  96.46808  101.70822\n",
      "2020-01-05   99.68951  95.26858  101.70822\n",
      "a     99.68951\n",
      "b     95.26858\n",
      "c    101.70822\n",
      "Name: final_value, dtype: float64\n"
     ]
    }
   ],
   "source": [
    "print(portfolio.orders.records)\n",
    "print(portfolio.orders.count())\n",
    "print(portfolio.logs.count())\n",
    "print(portfolio.close)\n",
    "print(portfolio.init_cash)\n",
    "print(portfolio.value())\n",
    "print(portfolio.final_value())"
   ]
  },
  {
   "cell_type": "code",
   "execution_count": 107,
   "metadata": {},
   "outputs": [
    {
     "name": "stdout",
     "output_type": "stream",
     "text": [
      "   id  idx  col  size  price     fees  side\n",
      "0   0    1    0   0.1   2.02  0.10202     0\n",
      "1   1    2    0   0.1   2.97  0.10297     1\n",
      "2   2    4    0   1.0   5.05  0.15050     0\n",
      "3\n",
      "5\n",
      "2020-01-01    NaN\n",
      "2020-01-02    2.0\n",
      "2020-01-03    3.0\n",
      "2020-01-04    4.0\n",
      "2020-01-05    5.0\n",
      "Name: a, dtype: float64\n",
      "100.0\n",
      "2020-01-01    100.00000\n",
      "2020-01-02     99.89598\n",
      "2020-01-03     99.89001\n",
      "2020-01-04     99.89001\n",
      "2020-01-05     99.68951\n",
      "Name: a, dtype: float64\n",
      "99.68951\n"
     ]
    }
   ],
   "source": [
    "print(portfolio['a'].orders.records)\n",
    "print(portfolio['a'].orders.count())\n",
    "print(portfolio['a'].logs.count())\n",
    "print(portfolio['a'].close)\n",
    "print(portfolio['a'].init_cash)\n",
    "print(portfolio['a'].value())\n",
    "print(portfolio['a'].final_value())"
   ]
  },
  {
   "cell_type": "code",
   "execution_count": 108,
   "metadata": {},
   "outputs": [
    {
     "name": "stdout",
     "output_type": "stream",
     "text": [
      "   id  idx  col  size  price     fees  side\n",
      "0   7    0    0   1.0   1.01  0.11010     0\n",
      "1   8    1    0   0.1   2.02  0.10202     0\n",
      "2   9    2    0   1.0   2.97  0.12970     1\n",
      "3  10    3    0   0.1   3.96  0.10396     1\n",
      "4\n",
      "5\n",
      "2020-01-01    1.0\n",
      "2020-01-02    2.0\n",
      "2020-01-03    3.0\n",
      "2020-01-04    4.0\n",
      "2020-01-05    NaN\n",
      "Name: c, dtype: float64\n",
      "100.0\n",
      "2020-01-01     99.87990\n",
      "2020-01-02    100.77588\n",
      "2020-01-03    101.71618\n",
      "2020-01-04    101.70822\n",
      "2020-01-05    101.70822\n",
      "Name: c, dtype: float64\n",
      "101.70822\n"
     ]
    }
   ],
   "source": [
    "print(portfolio['c'].orders.records)\n",
    "print(portfolio['c'].orders.count())\n",
    "print(portfolio['c'].logs.count())\n",
    "print(portfolio['c'].close)\n",
    "print(portfolio['c'].init_cash)\n",
    "print(portfolio['c'].value())\n",
    "print(portfolio['c'].final_value())"
   ]
  },
  {
   "cell_type": "code",
   "execution_count": 109,
   "metadata": {},
   "outputs": [
    {
     "name": "stdout",
     "output_type": "stream",
     "text": [
      "   id  idx  col  size  price     fees  side\n",
      "0   7    0    0   1.0   1.01  0.11010     0\n",
      "1   8    1    0   0.1   2.02  0.10202     0\n",
      "2   9    2    0   1.0   2.97  0.12970     1\n",
      "3  10    3    0   0.1   3.96  0.10396     1\n",
      "c    4\n",
      "Name: count, dtype: int64\n",
      "c    5\n",
      "Name: count, dtype: int64\n",
      "              c\n",
      "2020-01-01  1.0\n",
      "2020-01-02  2.0\n",
      "2020-01-03  3.0\n",
      "2020-01-04  4.0\n",
      "2020-01-05  NaN\n",
      "c    100.0\n",
      "Name: init_cash, dtype: float64\n",
      "                    c\n",
      "2020-01-01   99.87990\n",
      "2020-01-02  100.77588\n",
      "2020-01-03  101.71618\n",
      "2020-01-04  101.70822\n",
      "2020-01-05  101.70822\n",
      "c    101.70822\n",
      "Name: final_value, dtype: float64\n"
     ]
    }
   ],
   "source": [
    "print(portfolio[['c']].orders.records)\n",
    "print(portfolio[['c']].orders.count())\n",
    "print(portfolio[['c']].logs.count())\n",
    "print(portfolio[['c']].close)\n",
    "print(portfolio[['c']].init_cash)\n",
    "print(portfolio[['c']].value())\n",
    "print(portfolio[['c']].final_value())"
   ]
  },
  {
   "cell_type": "code",
   "execution_count": 110,
   "metadata": {},
   "outputs": [
    {
     "name": "stdout",
     "output_type": "stream",
     "text": [
      "    id  idx  col  size  price     fees  side\n",
      "0    0    1    0   0.1   2.02  0.10202     0\n",
      "1    1    2    0   0.1   2.97  0.10297     1\n",
      "2    2    4    0   1.0   5.05  0.15050     0\n",
      "3    3    0    1   1.0   0.99  0.10990     1\n",
      "4    4    1    1   0.1   1.98  0.10198     1\n",
      "5    5    3    1   0.1   4.04  0.10404     0\n",
      "6    6    4    1   1.0   4.95  0.14950     1\n",
      "7    7    0    2   1.0   1.01  0.11010     0\n",
      "8    8    1    2   0.1   2.02  0.10202     0\n",
      "9    9    2    2   1.0   2.97  0.12970     1\n",
      "10  10    3    2   0.1   3.96  0.10396     1\n",
      "group\n",
      "first     7\n",
      "second    4\n",
      "Name: count, dtype: int64\n",
      "group\n",
      "first     10\n",
      "second     5\n",
      "Name: count, dtype: int64\n",
      "              a    b    c\n",
      "2020-01-01  NaN  1.0  1.0\n",
      "2020-01-02  2.0  2.0  2.0\n",
      "2020-01-03  3.0  NaN  3.0\n",
      "2020-01-04  4.0  4.0  4.0\n",
      "2020-01-05  5.0  5.0  NaN\n",
      "group\n",
      "first     200.0\n",
      "second    100.0\n",
      "Name: init_cash, dtype: float64\n",
      "group           first     second\n",
      "2020-01-01  199.88010   99.87990\n",
      "2020-01-02  198.67210  100.77588\n",
      "2020-01-03  198.66613  101.71618\n",
      "2020-01-04  196.35809  101.70822\n",
      "2020-01-05  194.95809  101.70822\n",
      "group\n",
      "first     194.95809\n",
      "second    101.70822\n",
      "Name: final_value, dtype: float64\n"
     ]
    }
   ],
   "source": [
    "print(portfolio_grouped.orders.records)\n",
    "print(portfolio_grouped.orders.count())\n",
    "print(portfolio_grouped.logs.count())\n",
    "print(portfolio_grouped.close)\n",
    "print(portfolio_grouped.init_cash)\n",
    "print(portfolio_grouped.value())\n",
    "print(portfolio_grouped.final_value())"
   ]
  },
  {
   "cell_type": "code",
   "execution_count": 111,
   "metadata": {},
   "outputs": [
    {
     "name": "stdout",
     "output_type": "stream",
     "text": [
      "   id  idx  col  size  price     fees  side\n",
      "0   0    1    0   0.1   2.02  0.10202     0\n",
      "1   1    2    0   0.1   2.97  0.10297     1\n",
      "2   2    4    0   1.0   5.05  0.15050     0\n",
      "3   3    0    1   1.0   0.99  0.10990     1\n",
      "4   4    1    1   0.1   1.98  0.10198     1\n",
      "5   5    3    1   0.1   4.04  0.10404     0\n",
      "6   6    4    1   1.0   4.95  0.14950     1\n",
      "7\n",
      "10\n",
      "              a    b\n",
      "2020-01-01  NaN  1.0\n",
      "2020-01-02  2.0  2.0\n",
      "2020-01-03  3.0  NaN\n",
      "2020-01-04  4.0  4.0\n",
      "2020-01-05  5.0  5.0\n",
      "200.0\n",
      "2020-01-01    199.88010\n",
      "2020-01-02    198.67210\n",
      "2020-01-03    196.46613\n",
      "2020-01-04    196.35809\n",
      "2020-01-05    194.95809\n",
      "Name: first, dtype: float64\n",
      "194.95809\n"
     ]
    }
   ],
   "source": [
    "print(portfolio_grouped['first'].orders.records)\n",
    "print(portfolio_grouped['first'].orders.count())\n",
    "print(portfolio_grouped['first'].logs.count())\n",
    "print(portfolio_grouped['first'].close)\n",
    "print(portfolio_grouped['first'].init_cash)\n",
    "print(portfolio_grouped['first'].value())\n",
    "print(portfolio_grouped['first'].final_value())"
   ]
  },
  {
   "cell_type": "code",
   "execution_count": 112,
   "metadata": {},
   "outputs": [
    {
     "name": "stdout",
     "output_type": "stream",
     "text": [
      "   id  idx  col  size  price     fees  side\n",
      "0   7    0    0   1.0   1.01  0.11010     0\n",
      "1   8    1    0   0.1   2.02  0.10202     0\n",
      "2   9    2    0   1.0   2.97  0.12970     1\n",
      "3  10    3    0   0.1   3.96  0.10396     1\n",
      "4\n",
      "5\n",
      "2020-01-01    1.0\n",
      "2020-01-02    2.0\n",
      "2020-01-03    3.0\n",
      "2020-01-04    4.0\n",
      "2020-01-05    NaN\n",
      "Name: c, dtype: float64\n",
      "100.0\n",
      "2020-01-01     99.87990\n",
      "2020-01-02    100.77588\n",
      "2020-01-03    101.71618\n",
      "2020-01-04    101.70822\n",
      "2020-01-05    101.70822\n",
      "Name: second, dtype: float64\n",
      "101.70822\n"
     ]
    }
   ],
   "source": [
    "print(portfolio_grouped['second'].orders.records)\n",
    "print(portfolio_grouped['second'].orders.count())\n",
    "print(portfolio_grouped['second'].logs.count())\n",
    "print(portfolio_grouped['second'].close)\n",
    "print(portfolio_grouped['second'].init_cash)\n",
    "print(portfolio_grouped['second'].value())\n",
    "print(portfolio_grouped['second'].final_value())"
   ]
  },
  {
   "cell_type": "code",
   "execution_count": 113,
   "metadata": {},
   "outputs": [
    {
     "name": "stdout",
     "output_type": "stream",
     "text": [
      "   id  idx  col  size  price     fees  side\n",
      "0   7    0    0   1.0   1.01  0.11010     0\n",
      "1   8    1    0   0.1   2.02  0.10202     0\n",
      "2   9    2    0   1.0   2.97  0.12970     1\n",
      "3  10    3    0   0.1   3.96  0.10396     1\n",
      "group\n",
      "second    4\n",
      "Name: count, dtype: int64\n",
      "group\n",
      "second    5\n",
      "Name: count, dtype: int64\n",
      "              c\n",
      "2020-01-01  1.0\n",
      "2020-01-02  2.0\n",
      "2020-01-03  3.0\n",
      "2020-01-04  4.0\n",
      "2020-01-05  NaN\n",
      "group\n",
      "second    100.0\n",
      "Name: init_cash, dtype: float64\n",
      "group          second\n",
      "2020-01-01   99.87990\n",
      "2020-01-02  100.77588\n",
      "2020-01-03  101.71618\n",
      "2020-01-04  101.70822\n",
      "2020-01-05  101.70822\n",
      "group\n",
      "second    101.70822\n",
      "Name: final_value, dtype: float64\n"
     ]
    }
   ],
   "source": [
    "print(portfolio_grouped[['second']].orders.records)\n",
    "print(portfolio_grouped[['second']].orders.count())\n",
    "print(portfolio_grouped[['second']].logs.count())\n",
    "print(portfolio_grouped[['second']].close)\n",
    "print(portfolio_grouped[['second']].init_cash)\n",
    "print(portfolio_grouped[['second']].value())\n",
    "print(portfolio_grouped[['second']].final_value())"
   ]
  },
  {
   "cell_type": "code",
   "execution_count": 62,
   "metadata": {},
   "outputs": [
    {
     "name": "stdout",
     "output_type": "stream",
     "text": [
      "3.42 ms ± 283 µs per loop (mean ± std. dev. of 7 runs, 1 loop each)\n",
      "The slowest run took 17.43 times longer than the fastest. This could mean that an intermediate result is being cached.\n",
      "111 ms ± 89.2 ms per loop (mean ± std. dev. of 7 runs, 1 loop each)\n",
      "3.37 ms ± 46.7 µs per loop (mean ± std. dev. of 7 runs, 100 loops each)\n",
      "14.3 ms ± 1.99 ms per loop (mean ± std. dev. of 7 runs, 10 loops each)\n",
      "6.41 ms ± 139 µs per loop (mean ± std. dev. of 7 runs, 100 loops each)\n",
      "18.1 ms ± 366 µs per loop (mean ± std. dev. of 7 runs, 10 loops each)\n"
     ]
    }
   ],
   "source": [
    "%timeit big_portfolio.iloc[0]\n",
    "%timeit big_portfolio.iloc[:]\n",
    "%timeit big_portfolio_grouped.iloc[0]\n",
    "%timeit big_portfolio_grouped.iloc[:]\n",
    "%timeit big_portfolio_shared.iloc[0]\n",
    "%timeit big_portfolio_shared.iloc[:]"
   ]
  },
  {
   "cell_type": "code",
   "execution_count": 114,
   "metadata": {},
   "outputs": [
    {
     "name": "stdout",
     "output_type": "stream",
     "text": [
      "False\n",
      "False\n",
      "True\n"
     ]
    }
   ],
   "source": [
    "print(portfolio.cash_sharing)\n",
    "print(portfolio_grouped.cash_sharing)\n",
    "print(portfolio_shared.cash_sharing)"
   ]
  },
  {
   "cell_type": "code",
   "execution_count": 115,
   "metadata": {},
   "outputs": [
    {
     "name": "stdout",
     "output_type": "stream",
     "text": [
      "            a  b  c\n",
      "2020-01-01  0  0  0\n",
      "2020-01-02  0  0  0\n",
      "2020-01-03  0  0  0\n",
      "2020-01-04  0  0  0\n",
      "2020-01-05  0  0  0\n",
      "            a  b  c\n",
      "2020-01-01  1  0  0\n",
      "2020-01-02  1  0  0\n",
      "2020-01-03  1  0  0\n",
      "2020-01-04  1  0  0\n",
      "2020-01-05  1  0  0\n",
      "            a  b  c\n",
      "2020-01-01  1  0  0\n",
      "2020-01-02  1  0  0\n",
      "2020-01-03  1  0  0\n",
      "2020-01-04  1  0  0\n",
      "2020-01-05  1  0  0\n"
     ]
    }
   ],
   "source": [
    "print(portfolio.call_seq)\n",
    "print(portfolio_grouped.call_seq)\n",
    "print(portfolio_shared.call_seq)"
   ]
  },
  {
   "cell_type": "code",
   "execution_count": 116,
   "metadata": {},
   "outputs": [
    {
     "name": "stdout",
     "output_type": "stream",
     "text": [
      "a    3\n",
      "b    4\n",
      "c    4\n",
      "Name: count, dtype: int64\n",
      "a    3\n",
      "b    4\n",
      "c    4\n",
      "Name: count, dtype: int64\n",
      "a    3\n",
      "b    4\n",
      "c    4\n",
      "Name: count, dtype: int64\n",
      "group\n",
      "first     7\n",
      "second    4\n",
      "Name: count, dtype: int64\n",
      "group\n",
      "first     7\n",
      "second    4\n",
      "Name: count, dtype: int64\n",
      "group\n",
      "first     7\n",
      "second    4\n",
      "Name: count, dtype: int64\n"
     ]
    }
   ],
   "source": [
    "print(portfolio.orders.count())\n",
    "print(portfolio_grouped.get_orders(group_by=False).count())\n",
    "print(portfolio_shared.get_orders(group_by=False).count())\n",
    "\n",
    "print(portfolio.get_orders(group_by=group_by).count())\n",
    "print(portfolio_grouped.orders.count())\n",
    "print(portfolio_shared.orders.count())"
   ]
  },
  {
   "cell_type": "code",
   "execution_count": 117,
   "metadata": {},
   "outputs": [
    {
     "name": "stdout",
     "output_type": "stream",
     "text": [
      "a    5\n",
      "b    5\n",
      "c    5\n",
      "Name: count, dtype: int64\n",
      "a    5\n",
      "b    5\n",
      "c    5\n",
      "Name: count, dtype: int64\n",
      "a    5\n",
      "b    5\n",
      "c    5\n",
      "Name: count, dtype: int64\n",
      "group\n",
      "first     10\n",
      "second     5\n",
      "Name: count, dtype: int64\n",
      "group\n",
      "first     10\n",
      "second     5\n",
      "Name: count, dtype: int64\n",
      "group\n",
      "first     10\n",
      "second     5\n",
      "Name: count, dtype: int64\n"
     ]
    }
   ],
   "source": [
    "print(portfolio.logs.count())\n",
    "print(portfolio_grouped.get_logs(group_by=False).count())\n",
    "print(portfolio_shared.get_logs(group_by=False).count())\n",
    "\n",
    "print(portfolio.get_logs(group_by=group_by).count())\n",
    "print(portfolio_grouped.logs.count())\n",
    "print(portfolio_shared.logs.count())"
   ]
  },
  {
   "cell_type": "code",
   "execution_count": 6,
   "metadata": {},
   "outputs": [
    {
     "name": "stdout",
     "output_type": "stream",
     "text": [
      "a    2\n",
      "b    3\n",
      "c    2\n",
      "Name: count, dtype: int64\n",
      "a    2\n",
      "b    3\n",
      "c    2\n",
      "Name: count, dtype: int64\n",
      "a    2\n",
      "b    3\n",
      "c    2\n",
      "Name: count, dtype: int64\n",
      "group\n",
      "first     5\n",
      "second    2\n",
      "Name: count, dtype: int64\n",
      "group\n",
      "first     5\n",
      "second    2\n",
      "Name: count, dtype: int64\n",
      "group\n",
      "first     5\n",
      "second    2\n",
      "Name: count, dtype: int64\n"
     ]
    }
   ],
   "source": [
    "print(portfolio.entry_trades.count())\n",
    "print(portfolio_grouped.get_entry_trades(group_by=False).count())\n",
    "print(portfolio_shared.get_entry_trades(group_by=False).count())\n",
    "\n",
    "print(portfolio.get_entry_trades(group_by=group_by).count())\n",
    "print(portfolio_grouped.entry_trades.count())\n",
    "print(portfolio_shared.entry_trades.count())"
   ]
  },
  {
   "cell_type": "code",
   "execution_count": 7,
   "metadata": {},
   "outputs": [
    {
     "name": "stdout",
     "output_type": "stream",
     "text": [
      "397 ms ± 3.87 ms per loop (mean ± std. dev. of 7 runs, 1 loop each)\n"
     ]
    }
   ],
   "source": [
    "%timeit big_portfolio.entry_trades"
   ]
  },
  {
   "cell_type": "code",
   "execution_count": 8,
   "metadata": {},
   "outputs": [
    {
     "name": "stdout",
     "output_type": "stream",
     "text": [
      "a    2\n",
      "b    2\n",
      "c    2\n",
      "Name: count, dtype: int64\n",
      "a    2\n",
      "b    2\n",
      "c    2\n",
      "Name: count, dtype: int64\n",
      "a    2\n",
      "b    2\n",
      "c    2\n",
      "Name: count, dtype: int64\n",
      "group\n",
      "first     4\n",
      "second    2\n",
      "Name: count, dtype: int64\n",
      "group\n",
      "first     4\n",
      "second    2\n",
      "Name: count, dtype: int64\n",
      "group\n",
      "first     4\n",
      "second    2\n",
      "Name: count, dtype: int64\n"
     ]
    }
   ],
   "source": [
    "print(portfolio.exit_trades.count())\n",
    "print(portfolio_grouped.get_exit_trades(group_by=False).count())\n",
    "print(portfolio_shared.get_exit_trades(group_by=False).count())\n",
    "\n",
    "print(portfolio.get_exit_trades(group_by=group_by).count())\n",
    "print(portfolio_grouped.exit_trades.count())\n",
    "print(portfolio_shared.exit_trades.count())"
   ]
  },
  {
   "cell_type": "code",
   "execution_count": 9,
   "metadata": {},
   "outputs": [
    {
     "name": "stdout",
     "output_type": "stream",
     "text": [
      "13.8 ms ± 607 µs per loop (mean ± std. dev. of 7 runs, 1 loop each)\n"
     ]
    }
   ],
   "source": [
    "%timeit big_portfolio.exit_trades"
   ]
  },
  {
   "cell_type": "code",
   "execution_count": 10,
   "metadata": {},
   "outputs": [
    {
     "name": "stdout",
     "output_type": "stream",
     "text": [
      "a    2\n",
      "b    1\n",
      "c    1\n",
      "Name: count, dtype: int64\n",
      "a    2\n",
      "b    1\n",
      "c    1\n",
      "Name: count, dtype: int64\n",
      "a    2\n",
      "b    1\n",
      "c    1\n",
      "Name: count, dtype: int64\n",
      "group\n",
      "first     3\n",
      "second    1\n",
      "Name: count, dtype: int64\n",
      "group\n",
      "first     3\n",
      "second    1\n",
      "Name: count, dtype: int64\n",
      "group\n",
      "first     3\n",
      "second    1\n",
      "Name: count, dtype: int64\n"
     ]
    }
   ],
   "source": [
    "print(portfolio.positions.count())\n",
    "print(portfolio_grouped.get_positions(group_by=False).count())\n",
    "print(portfolio_shared.get_positions(group_by=False).count())\n",
    "\n",
    "print(portfolio.get_positions(group_by=group_by).count())\n",
    "print(portfolio_grouped.positions.count())\n",
    "print(portfolio_shared.positions.count())"
   ]
  },
  {
   "cell_type": "code",
   "execution_count": 11,
   "metadata": {},
   "outputs": [
    {
     "name": "stdout",
     "output_type": "stream",
     "text": [
      "28.4 ms ± 3 ms per loop (mean ± std. dev. of 7 runs, 10 loops each)\n"
     ]
    }
   ],
   "source": [
    "%timeit big_portfolio.positions"
   ]
  },
  {
   "cell_type": "code",
   "execution_count": 120,
   "metadata": {},
   "outputs": [
    {
     "name": "stdout",
     "output_type": "stream",
     "text": [
      "a    1\n",
      "b    1\n",
      "c    1\n",
      "Name: count, dtype: int64\n",
      "a    1\n",
      "b    1\n",
      "c    1\n",
      "Name: count, dtype: int64\n",
      "a    1\n",
      "b    1\n",
      "c    1\n",
      "Name: count, dtype: int64\n",
      "group\n",
      "first     1\n",
      "second    1\n",
      "Name: count, dtype: int64\n",
      "group\n",
      "first     1\n",
      "second    1\n",
      "Name: count, dtype: int64\n",
      "group\n",
      "first     1\n",
      "second    1\n",
      "Name: count, dtype: int64\n"
     ]
    }
   ],
   "source": [
    "print(portfolio.drawdowns.count())\n",
    "print(portfolio_grouped.get_drawdowns(group_by=False).count())\n",
    "print(portfolio_shared.get_drawdowns(group_by=False).count())\n",
    "\n",
    "print(portfolio.get_drawdowns(group_by=group_by).count())\n",
    "print(portfolio_grouped.drawdowns.count())\n",
    "print(portfolio_shared.drawdowns.count())"
   ]
  },
  {
   "cell_type": "code",
   "execution_count": 72,
   "metadata": {},
   "outputs": [
    {
     "name": "stdout",
     "output_type": "stream",
     "text": [
      "39.9 ms ± 907 µs per loop (mean ± std. dev. of 7 runs, 1 loop each)\n"
     ]
    }
   ],
   "source": [
    "%timeit big_portfolio.drawdowns"
   ]
  },
  {
   "cell_type": "code",
   "execution_count": 121,
   "metadata": {},
   "outputs": [
    {
     "name": "stdout",
     "output_type": "stream",
     "text": [
      "              a    b    c\n",
      "2020-01-01  NaN  1.0  1.0\n",
      "2020-01-02  2.0  2.0  2.0\n",
      "2020-01-03  3.0  NaN  3.0\n",
      "2020-01-04  4.0  4.0  4.0\n",
      "2020-01-05  5.0  5.0  NaN\n",
      "              a    b    c\n",
      "2020-01-01  NaN  1.0  1.0\n",
      "2020-01-02  2.0  2.0  2.0\n",
      "2020-01-03  3.0  NaN  3.0\n",
      "2020-01-04  4.0  4.0  4.0\n",
      "2020-01-05  5.0  5.0  NaN\n",
      "              a    b    c\n",
      "2020-01-01  NaN  1.0  1.0\n",
      "2020-01-02  2.0  2.0  2.0\n",
      "2020-01-03  3.0  NaN  3.0\n",
      "2020-01-04  4.0  4.0  4.0\n",
      "2020-01-05  5.0  5.0  NaN\n"
     ]
    }
   ],
   "source": [
    "print(portfolio.close)\n",
    "print(portfolio_grouped.close)\n",
    "print(portfolio_shared.close)"
   ]
  },
  {
   "cell_type": "code",
   "execution_count": 122,
   "metadata": {},
   "outputs": [
    {
     "name": "stdout",
     "output_type": "stream",
     "text": [
      "              a    b    c\n",
      "2020-01-01  NaN  1.0  1.0\n",
      "2020-01-02  2.0  2.0  2.0\n",
      "2020-01-03  3.0  NaN  3.0\n",
      "2020-01-04  4.0  4.0  4.0\n",
      "2020-01-05  5.0  5.0  NaN\n",
      "              a    b    c\n",
      "2020-01-01  NaN  1.0  1.0\n",
      "2020-01-02  2.0  2.0  2.0\n",
      "2020-01-03  3.0  2.0  3.0\n",
      "2020-01-04  4.0  4.0  4.0\n",
      "2020-01-05  5.0  5.0  4.0\n",
      "              a    b    c\n",
      "2020-01-01  2.0  1.0  1.0\n",
      "2020-01-02  2.0  2.0  2.0\n",
      "2020-01-03  3.0  4.0  3.0\n",
      "2020-01-04  4.0  4.0  4.0\n",
      "2020-01-05  5.0  5.0  NaN\n",
      "              a    b    c\n",
      "2020-01-01  2.0  1.0  1.0\n",
      "2020-01-02  2.0  2.0  2.0\n",
      "2020-01-03  3.0  2.0  3.0\n",
      "2020-01-04  4.0  4.0  4.0\n",
      "2020-01-05  5.0  5.0  4.0\n"
     ]
    }
   ],
   "source": [
    "print(portfolio.fill_close(ffill=False, bfill=False))\n",
    "print(portfolio.fill_close(ffill=True, bfill=False))\n",
    "print(portfolio.fill_close(ffill=False, bfill=True))\n",
    "print(portfolio.fill_close(ffill=True, bfill=True))"
   ]
  },
  {
   "cell_type": "code",
   "execution_count": 75,
   "metadata": {},
   "outputs": [
    {
     "name": "stdout",
     "output_type": "stream",
     "text": [
      "67.6 µs ± 1.39 µs per loop (mean ± std. dev. of 7 runs, 10000 loops each)\n"
     ]
    }
   ],
   "source": [
    "%timeit big_portfolio.fill_close()"
   ]
  },
  {
   "cell_type": "code",
   "execution_count": 123,
   "metadata": {},
   "outputs": [
    {
     "name": "stdout",
     "output_type": "stream",
     "text": [
      "              a    b    c\n",
      "2020-01-01  0.0  0.0  1.0\n",
      "2020-01-02  0.1  0.0  0.1\n",
      "2020-01-03 -0.1  0.0 -1.0\n",
      "2020-01-04  0.0  0.0 -0.1\n",
      "2020-01-05  1.0  0.0  0.0\n",
      "              a    b    c\n",
      "2020-01-01  0.0  1.0  0.0\n",
      "2020-01-02  0.0  0.1  0.0\n",
      "2020-01-03  0.0  0.0  0.0\n",
      "2020-01-04  0.0 -0.1  0.0\n",
      "2020-01-05  0.0  1.0  0.0\n",
      "              a    b    c\n",
      "2020-01-01  0.0 -1.0  1.0\n",
      "2020-01-02  0.1 -0.1  0.1\n",
      "2020-01-03 -0.1  0.0 -1.0\n",
      "2020-01-04  0.0  0.1 -0.1\n",
      "2020-01-05  1.0 -1.0  0.0\n",
      "              a    b    c\n",
      "2020-01-01  0.0 -1.0  1.0\n",
      "2020-01-02  0.1 -0.1  0.1\n",
      "2020-01-03 -0.1  0.0 -1.0\n",
      "2020-01-04  0.0  0.1 -0.1\n",
      "2020-01-05  1.0 -1.0  0.0\n",
      "              a    b    c\n",
      "2020-01-01  0.0 -1.0  1.0\n",
      "2020-01-02  0.1 -0.1  0.1\n",
      "2020-01-03 -0.1  0.0 -1.0\n",
      "2020-01-04  0.0  0.1 -0.1\n",
      "2020-01-05  1.0 -1.0  0.0\n"
     ]
    }
   ],
   "source": [
    "print(portfolio.asset_flow(direction='longonly'))\n",
    "print(portfolio.asset_flow(direction='shortonly'))\n",
    "\n",
    "print(portfolio.asset_flow())\n",
    "print(portfolio_grouped.asset_flow())\n",
    "print(portfolio_shared.asset_flow())"
   ]
  },
  {
   "cell_type": "code",
   "execution_count": 77,
   "metadata": {},
   "outputs": [
    {
     "name": "stdout",
     "output_type": "stream",
     "text": [
      "11 ms ± 539 µs per loop (mean ± std. dev. of 7 runs, 100 loops each)\n",
      "10.6 ms ± 276 µs per loop (mean ± std. dev. of 7 runs, 100 loops each)\n",
      "10.5 ms ± 148 µs per loop (mean ± std. dev. of 7 runs, 100 loops each)\n"
     ]
    }
   ],
   "source": [
    "%timeit big_portfolio.asset_flow()\n",
    "%timeit big_portfolio_grouped.asset_flow()\n",
    "%timeit big_portfolio_shared.asset_flow()"
   ]
  },
  {
   "cell_type": "code",
   "execution_count": 124,
   "metadata": {},
   "outputs": [
    {
     "name": "stdout",
     "output_type": "stream",
     "text": [
      "              a    b    c\n",
      "2020-01-01  0.0  0.0  1.0\n",
      "2020-01-02  0.1  0.0  1.1\n",
      "2020-01-03  0.0  0.0  0.1\n",
      "2020-01-04  0.0  0.0  0.0\n",
      "2020-01-05  1.0  0.0  0.0\n",
      "              a    b    c\n",
      "2020-01-01  0.0  1.0  0.0\n",
      "2020-01-02  0.0  1.1  0.0\n",
      "2020-01-03  0.0  1.1  0.0\n",
      "2020-01-04  0.0  1.0  0.0\n",
      "2020-01-05  0.0  2.0  0.0\n",
      "              a    b    c\n",
      "2020-01-01  0.0 -1.0  1.0\n",
      "2020-01-02  0.1 -1.1  1.1\n",
      "2020-01-03  0.0 -1.1  0.1\n",
      "2020-01-04  0.0 -1.0  0.0\n",
      "2020-01-05  1.0 -2.0  0.0\n",
      "              a    b    c\n",
      "2020-01-01  0.0 -1.0  1.0\n",
      "2020-01-02  0.1 -1.1  1.1\n",
      "2020-01-03  0.0 -1.1  0.1\n",
      "2020-01-04  0.0 -1.0  0.0\n",
      "2020-01-05  1.0 -2.0  0.0\n",
      "              a    b    c\n",
      "2020-01-01  0.0 -1.0  1.0\n",
      "2020-01-02  0.1 -1.1  1.1\n",
      "2020-01-03  0.0 -1.1  0.1\n",
      "2020-01-04  0.0 -1.0  0.0\n",
      "2020-01-05  1.0 -2.0  0.0\n"
     ]
    }
   ],
   "source": [
    "print(portfolio.assets(direction='longonly'))\n",
    "print(portfolio.assets(direction='shortonly'))\n",
    "\n",
    "print(portfolio.assets())\n",
    "print(portfolio_grouped.assets())\n",
    "print(portfolio_shared.assets())"
   ]
  },
  {
   "cell_type": "code",
   "execution_count": 79,
   "metadata": {},
   "outputs": [
    {
     "name": "stdout",
     "output_type": "stream",
     "text": [
      "14.4 ms ± 539 µs per loop (mean ± std. dev. of 7 runs, 100 loops each)\n",
      "14.6 ms ± 265 µs per loop (mean ± std. dev. of 7 runs, 100 loops each)\n",
      "14 ms ± 50.3 µs per loop (mean ± std. dev. of 7 runs, 100 loops each)\n"
     ]
    }
   ],
   "source": [
    "%timeit big_portfolio.assets()\n",
    "%timeit big_portfolio_grouped.assets()\n",
    "%timeit big_portfolio_shared.assets()"
   ]
  },
  {
   "cell_type": "code",
   "execution_count": 127,
   "metadata": {},
   "outputs": [
    {
     "name": "stdout",
     "output_type": "stream",
     "text": [
      "                a      b      c\n",
      "2020-01-01  False  False   True\n",
      "2020-01-02   True  False   True\n",
      "2020-01-03  False  False   True\n",
      "2020-01-04  False  False  False\n",
      "2020-01-05   True  False  False\n",
      "                a     b      c\n",
      "2020-01-01  False  True  False\n",
      "2020-01-02  False  True  False\n",
      "2020-01-03  False  True  False\n",
      "2020-01-04  False  True  False\n",
      "2020-01-05  False  True  False\n",
      "                a     b      c\n",
      "2020-01-01  False  True   True\n",
      "2020-01-02   True  True   True\n",
      "2020-01-03  False  True   True\n",
      "2020-01-04  False  True  False\n",
      "2020-01-05   True  True  False\n",
      "                a     b      c\n",
      "2020-01-01  False  True   True\n",
      "2020-01-02   True  True   True\n",
      "2020-01-03  False  True   True\n",
      "2020-01-04  False  True  False\n",
      "2020-01-05   True  True  False\n",
      "                a     b      c\n",
      "2020-01-01  False  True   True\n",
      "2020-01-02   True  True   True\n",
      "2020-01-03  False  True   True\n",
      "2020-01-04  False  True  False\n",
      "2020-01-05   True  True  False\n",
      "group       first  second\n",
      "2020-01-01   True    True\n",
      "2020-01-02   True    True\n",
      "2020-01-03   True    True\n",
      "2020-01-04   True   False\n",
      "2020-01-05   True   False\n",
      "group       first  second\n",
      "2020-01-01   True    True\n",
      "2020-01-02   True    True\n",
      "2020-01-03   True    True\n",
      "2020-01-04   True   False\n",
      "2020-01-05   True   False\n",
      "group       first  second\n",
      "2020-01-01   True    True\n",
      "2020-01-02   True    True\n",
      "2020-01-03   True    True\n",
      "2020-01-04   True   False\n",
      "2020-01-05   True   False\n"
     ]
    }
   ],
   "source": [
    "print(portfolio.position_mask(direction='longonly'))\n",
    "print(portfolio.position_mask(direction='shortonly'))\n",
    "\n",
    "print(portfolio.position_mask())\n",
    "print(portfolio_grouped.position_mask(group_by=False))\n",
    "print(portfolio_shared.position_mask(group_by=False))\n",
    "\n",
    "print(portfolio.position_mask(group_by=group_by))\n",
    "print(portfolio_grouped.position_mask())\n",
    "print(portfolio_shared.position_mask())"
   ]
  },
  {
   "cell_type": "code",
   "execution_count": 81,
   "metadata": {},
   "outputs": [
    {
     "name": "stdout",
     "output_type": "stream",
     "text": [
      "14.8 ms ± 113 µs per loop (mean ± std. dev. of 7 runs, 100 loops each)\n",
      "15.1 ms ± 462 µs per loop (mean ± std. dev. of 7 runs, 100 loops each)\n",
      "15.6 ms ± 299 µs per loop (mean ± std. dev. of 7 runs, 100 loops each)\n",
      "31.4 ms ± 275 µs per loop (mean ± std. dev. of 7 runs, 10 loops each)\n",
      "31 ms ± 198 µs per loop (mean ± std. dev. of 7 runs, 10 loops each)\n",
      "32 ms ± 208 µs per loop (mean ± std. dev. of 7 runs, 10 loops each)\n"
     ]
    }
   ],
   "source": [
    "%timeit big_portfolio.position_mask()\n",
    "%timeit big_portfolio_grouped.position_mask(group_by=False)\n",
    "%timeit big_portfolio_shared.position_mask(group_by=False)\n",
    "\n",
    "%timeit big_portfolio.position_mask(group_by=big_group_by)\n",
    "%timeit big_portfolio_grouped.position_mask()\n",
    "%timeit big_portfolio_shared.position_mask()"
   ]
  },
  {
   "cell_type": "code",
   "execution_count": 128,
   "metadata": {},
   "outputs": [
    {
     "name": "stdout",
     "output_type": "stream",
     "text": [
      "a    0.4\n",
      "b    0.0\n",
      "c    0.6\n",
      "Name: position_coverage, dtype: float64\n",
      "a    0.0\n",
      "b    1.0\n",
      "c    0.0\n",
      "Name: position_coverage, dtype: float64\n",
      "a    0.4\n",
      "b    1.0\n",
      "c    0.6\n",
      "Name: position_coverage, dtype: float64\n",
      "a    0.4\n",
      "b    1.0\n",
      "c    0.6\n",
      "Name: position_coverage, dtype: float64\n",
      "a    0.4\n",
      "b    1.0\n",
      "c    0.6\n",
      "Name: position_coverage, dtype: float64\n",
      "group\n",
      "first     0.7\n",
      "second    0.6\n",
      "Name: position_coverage, dtype: float64\n",
      "group\n",
      "first     0.7\n",
      "second    0.6\n",
      "Name: position_coverage, dtype: float64\n",
      "group\n",
      "first     0.7\n",
      "second    0.6\n",
      "Name: position_coverage, dtype: float64\n"
     ]
    }
   ],
   "source": [
    "print(portfolio.position_coverage(direction='longonly'))\n",
    "print(portfolio.position_coverage(direction='shortonly'))\n",
    "\n",
    "print(portfolio.position_coverage())\n",
    "print(portfolio_grouped.position_coverage(group_by=False))\n",
    "print(portfolio_shared.position_coverage(group_by=False))\n",
    "\n",
    "print(portfolio.position_coverage(group_by=group_by))\n",
    "print(portfolio_grouped.position_coverage())\n",
    "print(portfolio_shared.position_coverage())"
   ]
  },
  {
   "cell_type": "code",
   "execution_count": 83,
   "metadata": {},
   "outputs": [
    {
     "name": "stdout",
     "output_type": "stream",
     "text": [
      "16.6 ms ± 1.51 ms per loop (mean ± std. dev. of 7 runs, 100 loops each)\n",
      "14.8 ms ± 104 µs per loop (mean ± std. dev. of 7 runs, 100 loops each)\n",
      "15 ms ± 116 µs per loop (mean ± std. dev. of 7 runs, 100 loops each)\n",
      "34.1 ms ± 1.49 ms per loop (mean ± std. dev. of 7 runs, 10 loops each)\n",
      "32.2 ms ± 1.15 ms per loop (mean ± std. dev. of 7 runs, 10 loops each)\n",
      "33.4 ms ± 1.19 ms per loop (mean ± std. dev. of 7 runs, 10 loops each)\n"
     ]
    }
   ],
   "source": [
    "%timeit big_portfolio.position_coverage()\n",
    "%timeit big_portfolio_grouped.position_coverage(group_by=False)\n",
    "%timeit big_portfolio_shared.position_coverage(group_by=False)\n",
    "\n",
    "%timeit big_portfolio.position_coverage(group_by=big_group_by)\n",
    "%timeit big_portfolio_grouped.position_coverage()\n",
    "%timeit big_portfolio_shared.position_coverage()"
   ]
  },
  {
   "cell_type": "code",
   "execution_count": 129,
   "metadata": {},
   "outputs": [
    {
     "name": "stdout",
     "output_type": "stream",
     "text": [
      "                  a        b        c\n",
      "2020-01-01  0.00000 -1.09990 -1.12010\n",
      "2020-01-02 -0.30402 -0.29998 -0.30402\n",
      "2020-01-03  0.19403  0.00000  2.84030\n",
      "2020-01-04  0.00000 -0.29204  0.29204\n",
      "2020-01-05 -5.20050 -5.09950  0.00000\n",
      "                  a        b        c\n",
      "2020-01-01  0.00000  0.88010 -1.12010\n",
      "2020-01-02 -0.30402  0.09602 -0.30402\n",
      "2020-01-03  0.19403  0.00000  2.84030\n",
      "2020-01-04  0.00000 -0.50804  0.29204\n",
      "2020-01-05 -5.20050  4.80050  0.00000\n",
      "                  a        b        c\n",
      "2020-01-01  0.00000  0.88010 -1.12010\n",
      "2020-01-02 -0.30402  0.09602 -0.30402\n",
      "2020-01-03  0.19403  0.00000  2.84030\n",
      "2020-01-04  0.00000 -0.50804  0.29204\n",
      "2020-01-05 -5.20050  4.80050  0.00000\n",
      "                  a        b        c\n",
      "2020-01-01  0.00000  0.88010 -1.12010\n",
      "2020-01-02 -0.30402  0.09602 -0.30402\n",
      "2020-01-03  0.19403  0.00000  2.84030\n",
      "2020-01-04  0.00000 -0.50804  0.29204\n",
      "2020-01-05 -5.20050  4.80050  0.00000\n",
      "group         first   second\n",
      "2020-01-01  0.88010 -1.12010\n",
      "2020-01-02 -0.20800 -0.30402\n",
      "2020-01-03  0.19403  2.84030\n",
      "2020-01-04 -0.50804  0.29204\n",
      "2020-01-05 -0.40000  0.00000\n",
      "group         first   second\n",
      "2020-01-01  0.88010 -1.12010\n",
      "2020-01-02 -0.20800 -0.30402\n",
      "2020-01-03  0.19403  2.84030\n",
      "2020-01-04 -0.50804  0.29204\n",
      "2020-01-05 -0.40000  0.00000\n",
      "group         first   second\n",
      "2020-01-01  0.88010 -1.12010\n",
      "2020-01-02 -0.20800 -0.30402\n",
      "2020-01-03  0.19403  2.84030\n",
      "2020-01-04 -0.50804  0.29204\n",
      "2020-01-05 -0.40000  0.00000\n"
     ]
    }
   ],
   "source": [
    "print(portfolio.cash_flow(free=True))\n",
    "print(portfolio.cash_flow())\n",
    "print(portfolio_grouped.cash_flow(group_by=False))\n",
    "print(portfolio_shared.cash_flow(group_by=False))\n",
    "\n",
    "print(portfolio.cash_flow(group_by=group_by))\n",
    "print(portfolio_grouped.cash_flow())\n",
    "print(portfolio_shared.cash_flow())"
   ]
  },
  {
   "cell_type": "code",
   "execution_count": 122,
   "metadata": {},
   "outputs": [
    {
     "name": "stdout",
     "output_type": "stream",
     "text": [
      "14.4 ms ± 912 µs per loop (mean ± std. dev. of 7 runs, 10 loops each)\n",
      "20.4 ms ± 144 µs per loop (mean ± std. dev. of 7 runs, 10 loops each)\n",
      "14.6 ms ± 88.3 µs per loop (mean ± std. dev. of 7 runs, 100 loops each)\n",
      "16.3 ms ± 81.6 µs per loop (mean ± std. dev. of 7 runs, 100 loops each)\n",
      "17.9 ms ± 126 µs per loop (mean ± std. dev. of 7 runs, 100 loops each)\n",
      "16.7 ms ± 118 µs per loop (mean ± std. dev. of 7 runs, 100 loops each)\n",
      "20.1 ms ± 155 µs per loop (mean ± std. dev. of 7 runs, 100 loops each)\n"
     ]
    }
   ],
   "source": [
    "%timeit big_portfolio.cash_flow()\n",
    "%timeit big_portfolio.cash_flow(free=True)\n",
    "%timeit big_portfolio_grouped.cash_flow(group_by=False)\n",
    "%timeit big_portfolio_shared.cash_flow(group_by=False)\n",
    "\n",
    "%timeit big_portfolio.cash_flow(group_by=big_group_by)\n",
    "%timeit big_portfolio_grouped.cash_flow()\n",
    "%timeit big_portfolio_shared.cash_flow()"
   ]
  },
  {
   "cell_type": "code",
   "execution_count": 130,
   "metadata": {},
   "outputs": [
    {
     "name": "stdout",
     "output_type": "stream",
     "text": [
      "a    100.0\n",
      "b    100.0\n",
      "c    100.0\n",
      "Name: init_cash, dtype: float64\n",
      "a    100.0\n",
      "b    100.0\n",
      "c    100.0\n",
      "Name: init_cash, dtype: float64\n",
      "a    200.0\n",
      "b    200.0\n",
      "c    100.0\n",
      "Name: init_cash, dtype: float64\n",
      "group\n",
      "first     200.0\n",
      "second    100.0\n",
      "Name: init_cash, dtype: float64\n",
      "group\n",
      "first     200.0\n",
      "second    100.0\n",
      "Name: init_cash, dtype: float64\n",
      "group\n",
      "first     200.0\n",
      "second    100.0\n",
      "Name: init_cash, dtype: float64\n"
     ]
    }
   ],
   "source": [
    "print(portfolio.get_init_cash())\n",
    "print(portfolio_grouped.get_init_cash(group_by=False))\n",
    "print(portfolio_shared.get_init_cash(group_by=False))\n",
    "\n",
    "print(portfolio.get_init_cash(group_by=group_by))\n",
    "print(portfolio_grouped.get_init_cash())\n",
    "print(portfolio_shared.get_init_cash())"
   ]
  },
  {
   "cell_type": "code",
   "execution_count": 10,
   "metadata": {},
   "outputs": [
    {
     "name": "stdout",
     "output_type": "stream",
     "text": [
      "53.9 µs ± 387 ns per loop (mean ± std. dev. of 7 runs, 10000 loops each)\n",
      "53.6 µs ± 187 ns per loop (mean ± std. dev. of 7 runs, 10000 loops each)\n",
      "870 µs ± 2.61 µs per loop (mean ± std. dev. of 7 runs, 1000 loops each)\n",
      "912 µs ± 2.62 µs per loop (mean ± std. dev. of 7 runs, 1000 loops each)\n",
      "57.9 µs ± 1.76 µs per loop (mean ± std. dev. of 7 runs, 10000 loops each)\n",
      "1.26 ms ± 20.8 µs per loop (mean ± std. dev. of 7 runs, 1000 loops each)\n"
     ]
    }
   ],
   "source": [
    "%timeit big_portfolio.get_init_cash()\n",
    "%timeit big_portfolio_grouped.get_init_cash(group_by=False)\n",
    "%timeit big_portfolio_shared.get_init_cash(group_by=False)\n",
    "\n",
    "%timeit big_portfolio.get_init_cash(group_by=big_group_by)\n",
    "%timeit big_portfolio_grouped.get_init_cash()\n",
    "%timeit big_portfolio_shared.get_init_cash()"
   ]
  },
  {
   "cell_type": "code",
   "execution_count": 87,
   "metadata": {},
   "outputs": [
    {
     "name": "stdout",
     "output_type": "stream",
     "text": [
      "43.2 µs ± 125 ns per loop (mean ± std. dev. of 7 runs, 10000 loops each)\n",
      "42.9 µs ± 611 ns per loop (mean ± std. dev. of 7 runs, 10000 loops each)\n",
      "533 µs ± 13.9 µs per loop (mean ± std. dev. of 7 runs, 1000 loops each)\n",
      "737 µs ± 44.3 µs per loop (mean ± std. dev. of 7 runs, 1 loop each)\n",
      "46.6 µs ± 617 ns per loop (mean ± std. dev. of 7 runs, 10000 loops each)\n",
      "850 µs ± 37.8 µs per loop (mean ± std. dev. of 7 runs, 1000 loops each)\n"
     ]
    }
   ],
   "source": [
    "%timeit big_portfolio.get_init_cash()\n",
    "%timeit big_portfolio_grouped.get_init_cash(group_by=False)\n",
    "%timeit big_portfolio_shared.get_init_cash(group_by=False)\n",
    "\n",
    "%timeit big_portfolio.get_init_cash(group_by=big_group_by)\n",
    "%timeit big_portfolio_grouped.get_init_cash()\n",
    "%timeit big_portfolio_shared.get_init_cash()"
   ]
  },
  {
   "cell_type": "code",
   "execution_count": 131,
   "metadata": {},
   "outputs": [
    {
     "name": "stdout",
     "output_type": "stream",
     "text": [
      "a    14000.0\n",
      "b    12000.0\n",
      "c    10000.0\n",
      "Name: init_cash, dtype: float64\n",
      "group\n",
      "first     26000.0\n",
      "second    10000.0\n",
      "Name: init_cash, dtype: float64\n",
      "group\n",
      "first     26000.0\n",
      "second    10000.0\n",
      "Name: init_cash, dtype: float64\n",
      "a    14000.0\n",
      "b    14000.0\n",
      "c    14000.0\n",
      "Name: init_cash, dtype: float64\n",
      "group\n",
      "first     26000.0\n",
      "second    26000.0\n",
      "Name: init_cash, dtype: float64\n",
      "group\n",
      "first     26000.0\n",
      "second    26000.0\n",
      "Name: init_cash, dtype: float64\n"
     ]
    }
   ],
   "source": [
    "print(vbt.Portfolio.from_orders(\n",
    "    price_na, 1000., init_cash=InitCashMode.Auto, group_by=None).init_cash)\n",
    "\n",
    "print(vbt.Portfolio.from_orders(\n",
    "    price_na, 1000., init_cash=InitCashMode.Auto, group_by=group_by).init_cash)\n",
    "\n",
    "print(vbt.Portfolio.from_orders(\n",
    "    price_na, 1000., init_cash=InitCashMode.Auto, group_by=group_by, cash_sharing=True).init_cash)\n",
    "\n",
    "print(vbt.Portfolio.from_orders(\n",
    "    price_na, 1000., init_cash=InitCashMode.AutoAlign, group_by=None).init_cash)\n",
    "\n",
    "print(vbt.Portfolio.from_orders(\n",
    "    price_na, 1000., init_cash=InitCashMode.AutoAlign, group_by=group_by).init_cash)\n",
    "\n",
    "print(vbt.Portfolio.from_orders(\n",
    "    price_na, 1000., init_cash=InitCashMode.AutoAlign, group_by=group_by, cash_sharing=True).init_cash)"
   ]
  },
  {
   "cell_type": "code",
   "execution_count": 132,
   "metadata": {},
   "outputs": [
    {
     "name": "stdout",
     "output_type": "stream",
     "text": [
      "                    a         b          c\n",
      "2020-01-01  100.00000  98.90010   98.87990\n",
      "2020-01-02   99.69598  98.60012   98.57588\n",
      "2020-01-03   99.89001  98.60012  101.41618\n",
      "2020-01-04   99.89001  98.30808  101.70822\n",
      "2020-01-05   94.68951  93.20858  101.70822\n",
      "                    a          b          c\n",
      "2020-01-01  100.00000  100.88010   98.87990\n",
      "2020-01-02   99.69598  100.97612   98.57588\n",
      "2020-01-03   99.89001  100.97612  101.41618\n",
      "2020-01-04   99.89001  100.46808  101.70822\n",
      "2020-01-05   94.68951  105.26858  101.70822\n",
      "                    a          b          c\n",
      "2020-01-01  100.00000  100.88010   98.87990\n",
      "2020-01-02   99.69598  100.97612   98.57588\n",
      "2020-01-03   99.89001  100.97612  101.41618\n",
      "2020-01-04   99.89001  100.46808  101.70822\n",
      "2020-01-05   94.68951  105.26858  101.70822\n",
      "                    a          b          c\n",
      "2020-01-01  200.00000  200.88010   98.87990\n",
      "2020-01-02  199.69598  200.97612   98.57588\n",
      "2020-01-03  199.89001  200.97612  101.41618\n",
      "2020-01-04  199.89001  200.46808  101.70822\n",
      "2020-01-05  194.68951  205.26858  101.70822\n",
      "                    a          b          c\n",
      "2020-01-01  200.88010  200.88010   98.87990\n",
      "2020-01-02  200.67210  200.97612   98.57588\n",
      "2020-01-03  200.86613  200.67210  101.41618\n",
      "2020-01-04  200.35809  200.35809  101.70822\n",
      "2020-01-05  199.95809  205.15859  101.70822\n",
      "group           first     second\n",
      "2020-01-01  200.88010   98.87990\n",
      "2020-01-02  200.67210   98.57588\n",
      "2020-01-03  200.86613  101.41618\n",
      "2020-01-04  200.35809  101.70822\n",
      "2020-01-05  199.95809  101.70822\n",
      "group           first     second\n",
      "2020-01-01  200.88010   98.87990\n",
      "2020-01-02  200.67210   98.57588\n",
      "2020-01-03  200.86613  101.41618\n",
      "2020-01-04  200.35809  101.70822\n",
      "2020-01-05  199.95809  101.70822\n",
      "group           first     second\n",
      "2020-01-01  200.88010   98.87990\n",
      "2020-01-02  200.67210   98.57588\n",
      "2020-01-03  200.86613  101.41618\n",
      "2020-01-04  200.35809  101.70822\n",
      "2020-01-05  199.95809  101.70822\n"
     ]
    }
   ],
   "source": [
    "print(portfolio.cash(free=True))\n",
    "print(portfolio.cash())\n",
    "print(portfolio_grouped.cash(group_by=False))\n",
    "print(portfolio_shared.cash(group_by=False))\n",
    "print(portfolio_shared.cash(group_by=False, in_sim_order=True))\n",
    "\n",
    "print(portfolio.cash(group_by=group_by))\n",
    "print(portfolio_grouped.cash())\n",
    "print(portfolio_shared.cash())"
   ]
  },
  {
   "cell_type": "code",
   "execution_count": 90,
   "metadata": {},
   "outputs": [
    {
     "name": "stdout",
     "output_type": "stream",
     "text": [
      "19.4 ms ± 920 µs per loop (mean ± std. dev. of 7 runs, 10 loops each)\n",
      "18.3 ms ± 470 µs per loop (mean ± std. dev. of 7 runs, 10 loops each)\n",
      "18.4 ms ± 2.12 ms per loop (mean ± std. dev. of 7 runs, 100 loops each)\n",
      "17.6 ms ± 201 µs per loop (mean ± std. dev. of 7 runs, 100 loops each)\n",
      "18.7 ms ± 303 µs per loop (mean ± std. dev. of 7 runs, 1 loop each)\n",
      "18.3 ms ± 292 µs per loop (mean ± std. dev. of 7 runs, 100 loops each)\n",
      "19.6 ms ± 1.75 ms per loop (mean ± std. dev. of 7 runs, 100 loops each)\n",
      "21.7 ms ± 1.76 ms per loop (mean ± std. dev. of 7 runs, 1 loop each)\n"
     ]
    }
   ],
   "source": [
    "%timeit big_portfolio.cash()\n",
    "%timeit big_portfolio.cash(free=True)\n",
    "%timeit big_portfolio_grouped.cash(group_by=False)\n",
    "%timeit big_portfolio_shared.cash(group_by=False)\n",
    "%timeit big_portfolio_shared.cash(group_by=False, in_sim_order=True)\n",
    "\n",
    "%timeit big_portfolio.cash(group_by=big_group_by)\n",
    "%timeit big_portfolio_grouped.cash()\n",
    "%timeit big_portfolio_shared.cash()"
   ]
  },
  {
   "cell_type": "code",
   "execution_count": 133,
   "metadata": {},
   "outputs": [
    {
     "name": "stdout",
     "output_type": "stream",
     "text": [
      "              a    b    c\n",
      "2020-01-01  0.0  0.0  1.0\n",
      "2020-01-02  0.2  0.0  2.2\n",
      "2020-01-03  0.0  0.0  0.3\n",
      "2020-01-04  0.0  0.0  0.0\n",
      "2020-01-05  5.0  0.0  0.0\n",
      "              a     b    c\n",
      "2020-01-01  0.0   1.0  0.0\n",
      "2020-01-02  0.0   2.2  0.0\n",
      "2020-01-03  0.0   2.2  0.0\n",
      "2020-01-04  0.0   4.0  0.0\n",
      "2020-01-05  0.0  10.0  0.0\n",
      "              a     b    c\n",
      "2020-01-01  0.0  -1.0  1.0\n",
      "2020-01-02  0.2  -2.2  2.2\n",
      "2020-01-03  0.0  -2.2  0.3\n",
      "2020-01-04  0.0  -4.0  0.0\n",
      "2020-01-05  5.0 -10.0  0.0\n",
      "              a     b    c\n",
      "2020-01-01  0.0  -1.0  1.0\n",
      "2020-01-02  0.2  -2.2  2.2\n",
      "2020-01-03  0.0  -2.2  0.3\n",
      "2020-01-04  0.0  -4.0  0.0\n",
      "2020-01-05  5.0 -10.0  0.0\n",
      "              a     b    c\n",
      "2020-01-01  0.0  -1.0  1.0\n",
      "2020-01-02  0.2  -2.2  2.2\n",
      "2020-01-03  0.0  -2.2  0.3\n",
      "2020-01-04  0.0  -4.0  0.0\n",
      "2020-01-05  5.0 -10.0  0.0\n",
      "group       first  second\n",
      "2020-01-01   -1.0     1.0\n",
      "2020-01-02   -2.0     2.2\n",
      "2020-01-03   -2.2     0.3\n",
      "2020-01-04   -4.0     0.0\n",
      "2020-01-05   -5.0     0.0\n",
      "group       first  second\n",
      "2020-01-01   -1.0     1.0\n",
      "2020-01-02   -2.0     2.2\n",
      "2020-01-03   -2.2     0.3\n",
      "2020-01-04   -4.0     0.0\n",
      "2020-01-05   -5.0     0.0\n",
      "group       first  second\n",
      "2020-01-01   -1.0     1.0\n",
      "2020-01-02   -2.0     2.2\n",
      "2020-01-03   -2.2     0.3\n",
      "2020-01-04   -4.0     0.0\n",
      "2020-01-05   -5.0     0.0\n"
     ]
    }
   ],
   "source": [
    "print(portfolio.asset_value(direction='longonly'))\n",
    "print(portfolio.asset_value(direction='shortonly'))\n",
    "\n",
    "print(portfolio.asset_value())\n",
    "print(portfolio_grouped.asset_value(group_by=False))\n",
    "print(portfolio_shared.asset_value(group_by=False))\n",
    "\n",
    "print(portfolio.asset_value(group_by=group_by))\n",
    "print(portfolio_grouped.asset_value())\n",
    "print(portfolio_shared.asset_value())"
   ]
  },
  {
   "cell_type": "code",
   "execution_count": 92,
   "metadata": {},
   "outputs": [
    {
     "name": "stdout",
     "output_type": "stream",
     "text": [
      "16.7 ms ± 331 µs per loop (mean ± std. dev. of 7 runs, 10 loops each)\n",
      "19.4 ms ± 2.51 ms per loop (mean ± std. dev. of 7 runs, 100 loops each)\n",
      "18.4 ms ± 1.48 ms per loop (mean ± std. dev. of 7 runs, 100 loops each)\n",
      "34.4 ms ± 308 µs per loop (mean ± std. dev. of 7 runs, 10 loops each)\n",
      "33.6 ms ± 428 µs per loop (mean ± std. dev. of 7 runs, 10 loops each)\n",
      "34.7 ms ± 213 µs per loop (mean ± std. dev. of 7 runs, 10 loops each)\n"
     ]
    }
   ],
   "source": [
    "%timeit big_portfolio.asset_value()\n",
    "%timeit big_portfolio_grouped.asset_value(group_by=False)\n",
    "%timeit big_portfolio_shared.asset_value(group_by=False)\n",
    "\n",
    "%timeit big_portfolio.asset_value(group_by=big_group_by)\n",
    "%timeit big_portfolio_grouped.asset_value()\n",
    "%timeit big_portfolio_shared.asset_value()"
   ]
  },
  {
   "cell_type": "code",
   "execution_count": 134,
   "metadata": {},
   "outputs": [
    {
     "name": "stdout",
     "output_type": "stream",
     "text": [
      "                   a    b         c\n",
      "2020-01-01  0.000000  0.0  0.010012\n",
      "2020-01-02  0.002002  0.0  0.021831\n",
      "2020-01-03  0.000000  0.0  0.002949\n",
      "2020-01-04  0.000000  0.0  0.000000\n",
      "2020-01-05  0.050156  0.0  0.000000\n",
      "              a         b    c\n",
      "2020-01-01  0.0  0.010010  0.0\n",
      "2020-01-02  0.0  0.021825  0.0\n",
      "2020-01-03  0.0  0.021825  0.0\n",
      "2020-01-04  0.0  0.039098  0.0\n",
      "2020-01-05  0.0  0.096891  0.0\n",
      "                   a         b         c\n",
      "2020-01-01  0.000000 -0.010214  0.010012\n",
      "2020-01-02  0.002002 -0.022822  0.021831\n",
      "2020-01-03  0.000000 -0.022822  0.002949\n",
      "2020-01-04  0.000000 -0.042414  0.000000\n",
      "2020-01-05  0.050156 -0.120180  0.000000\n",
      "                   a         b         c\n",
      "2020-01-01  0.000000 -0.010214  0.010012\n",
      "2020-01-02  0.002002 -0.022822  0.021831\n",
      "2020-01-03  0.000000 -0.022822  0.002949\n",
      "2020-01-04  0.000000 -0.042414  0.000000\n",
      "2020-01-05  0.050156 -0.120180  0.000000\n",
      "                   a         b         c\n",
      "2020-01-01  0.000000 -0.005053  0.010012\n",
      "2020-01-02  0.001001 -0.011202  0.021831\n",
      "2020-01-03  0.000000 -0.011202  0.002949\n",
      "2020-01-04  0.000000 -0.020586  0.000000\n",
      "2020-01-05  0.025039 -0.054583  0.000000\n",
      "group          first    second\n",
      "2020-01-01 -0.005053  0.010012\n",
      "2020-01-02 -0.010189  0.021831\n",
      "2020-01-03 -0.011208  0.002949\n",
      "2020-01-04 -0.020598  0.000000\n",
      "2020-01-05 -0.027338  0.000000\n",
      "group          first    second\n",
      "2020-01-01 -0.005053  0.010012\n",
      "2020-01-02 -0.010189  0.021831\n",
      "2020-01-03 -0.011208  0.002949\n",
      "2020-01-04 -0.020598  0.000000\n",
      "2020-01-05 -0.027338  0.000000\n",
      "group          first    second\n",
      "2020-01-01 -0.005053  0.010012\n",
      "2020-01-02 -0.010189  0.021831\n",
      "2020-01-03 -0.011208  0.002949\n",
      "2020-01-04 -0.020598  0.000000\n",
      "2020-01-05 -0.027338  0.000000\n"
     ]
    }
   ],
   "source": [
    "print(portfolio.gross_exposure(direction='longonly'))\n",
    "print(portfolio.gross_exposure(direction='shortonly'))\n",
    "\n",
    "print(portfolio.gross_exposure())\n",
    "print(portfolio_grouped.gross_exposure(group_by=False))\n",
    "print(portfolio_shared.gross_exposure(group_by=False))\n",
    "\n",
    "print(portfolio.gross_exposure(group_by=group_by))\n",
    "print(portfolio_grouped.gross_exposure())\n",
    "print(portfolio_shared.gross_exposure())"
   ]
  },
  {
   "cell_type": "code",
   "execution_count": 10,
   "metadata": {},
   "outputs": [
    {
     "name": "stdout",
     "output_type": "stream",
     "text": [
      "54.6 ms ± 5.8 ms per loop (mean ± std. dev. of 7 runs, 1 loop each)\n",
      "44.3 ms ± 1.64 ms per loop (mean ± std. dev. of 7 runs, 10 loops each)\n",
      "44.2 ms ± 1.07 ms per loop (mean ± std. dev. of 7 runs, 10 loops each)\n",
      "58.8 ms ± 2.64 ms per loop (mean ± std. dev. of 7 runs, 10 loops each)\n",
      "55 ms ± 1.09 ms per loop (mean ± std. dev. of 7 runs, 10 loops each)\n",
      "60.9 ms ± 1.87 ms per loop (mean ± std. dev. of 7 runs, 10 loops each)\n"
     ]
    }
   ],
   "source": [
    "%timeit big_portfolio.gross_exposure()\n",
    "%timeit big_portfolio_grouped.gross_exposure(group_by=False)\n",
    "%timeit big_portfolio_shared.gross_exposure(group_by=False)\n",
    "\n",
    "%timeit big_portfolio.gross_exposure(group_by=big_group_by)\n",
    "%timeit big_portfolio_grouped.gross_exposure()\n",
    "%timeit big_portfolio_shared.gross_exposure()"
   ]
  },
  {
   "cell_type": "code",
   "execution_count": 135,
   "metadata": {},
   "outputs": [
    {
     "name": "stdout",
     "output_type": "stream",
     "text": [
      "                   a         b         c\n",
      "2020-01-01  0.000000 -0.010010  0.010012\n",
      "2020-01-02  0.002002 -0.021825  0.021831\n",
      "2020-01-03  0.000000 -0.021825  0.002949\n",
      "2020-01-04  0.000000 -0.039098  0.000000\n",
      "2020-01-05  0.050156 -0.096891  0.000000\n",
      "                   a         b         c\n",
      "2020-01-01  0.000000 -0.010010  0.010012\n",
      "2020-01-02  0.002002 -0.021825  0.021831\n",
      "2020-01-03  0.000000 -0.021825  0.002949\n",
      "2020-01-04  0.000000 -0.039098  0.000000\n",
      "2020-01-05  0.050156 -0.096891  0.000000\n",
      "                   a         b         c\n",
      "2020-01-01  0.000000 -0.005002  0.010012\n",
      "2020-01-02  0.001001 -0.010956  0.021831\n",
      "2020-01-03  0.000000 -0.010956  0.002949\n",
      "2020-01-04  0.000000 -0.019772  0.000000\n",
      "2020-01-05  0.025039 -0.049211  0.000000\n",
      "group          first    second\n",
      "2020-01-01 -0.005002  0.010012\n",
      "2020-01-02 -0.009965  0.021831\n",
      "2020-01-03 -0.010962  0.002949\n",
      "2020-01-04 -0.019783  0.000000\n",
      "2020-01-05 -0.024611  0.000000\n",
      "group          first    second\n",
      "2020-01-01 -0.005002  0.010012\n",
      "2020-01-02 -0.009965  0.021831\n",
      "2020-01-03 -0.010962  0.002949\n",
      "2020-01-04 -0.019783  0.000000\n",
      "2020-01-05 -0.024611  0.000000\n",
      "group          first    second\n",
      "2020-01-01 -0.005002  0.010012\n",
      "2020-01-02 -0.009965  0.021831\n",
      "2020-01-03 -0.010962  0.002949\n",
      "2020-01-04 -0.019783  0.000000\n",
      "2020-01-05 -0.024611  0.000000\n"
     ]
    }
   ],
   "source": [
    "print(portfolio.net_exposure())\n",
    "print(portfolio_grouped.net_exposure(group_by=False))\n",
    "print(portfolio_shared.net_exposure(group_by=False))\n",
    "\n",
    "print(portfolio.net_exposure(group_by=group_by))\n",
    "print(portfolio_grouped.net_exposure())\n",
    "print(portfolio_shared.net_exposure())"
   ]
  },
  {
   "cell_type": "code",
   "execution_count": 12,
   "metadata": {},
   "outputs": [
    {
     "name": "stdout",
     "output_type": "stream",
     "text": [
      "91.5 ms ± 1.76 ms per loop (mean ± std. dev. of 7 runs, 10 loops each)\n",
      "90.4 ms ± 1.52 ms per loop (mean ± std. dev. of 7 runs, 10 loops each)\n",
      "95.4 ms ± 4.26 ms per loop (mean ± std. dev. of 7 runs, 10 loops each)\n",
      "129 ms ± 3.21 ms per loop (mean ± std. dev. of 7 runs, 10 loops each)\n",
      "119 ms ± 1.51 ms per loop (mean ± std. dev. of 7 runs, 10 loops each)\n",
      "127 ms ± 1.85 ms per loop (mean ± std. dev. of 7 runs, 10 loops each)\n"
     ]
    }
   ],
   "source": [
    "%timeit big_portfolio.net_exposure()\n",
    "%timeit big_portfolio_grouped.net_exposure(group_by=False)\n",
    "%timeit big_portfolio_shared.net_exposure(group_by=False)\n",
    "\n",
    "%timeit big_portfolio.net_exposure(group_by=big_group_by)\n",
    "%timeit big_portfolio_grouped.net_exposure()\n",
    "%timeit big_portfolio_shared.net_exposure()"
   ]
  },
  {
   "cell_type": "code",
   "execution_count": 136,
   "metadata": {},
   "outputs": [
    {
     "name": "stdout",
     "output_type": "stream",
     "text": [
      "                    a         b          c\n",
      "2020-01-01  100.00000  99.88010   99.87990\n",
      "2020-01-02   99.89598  98.77612  100.77588\n",
      "2020-01-03   99.89001  98.77612  101.71618\n",
      "2020-01-04   99.89001  96.46808  101.70822\n",
      "2020-01-05   99.68951  95.26858  101.70822\n",
      "                    a         b          c\n",
      "2020-01-01  100.00000  99.88010   99.87990\n",
      "2020-01-02   99.89598  98.77612  100.77588\n",
      "2020-01-03   99.89001  98.77612  101.71618\n",
      "2020-01-04   99.89001  96.46808  101.70822\n",
      "2020-01-05   99.68951  95.26858  101.70822\n",
      "                    a          b          c\n",
      "2020-01-01  200.00000  199.88010   99.87990\n",
      "2020-01-02  199.89598  198.77612  100.77588\n",
      "2020-01-03  199.89001  198.77612  101.71618\n",
      "2020-01-04  199.89001  196.46808  101.70822\n",
      "2020-01-05  199.68951  195.26858  101.70822\n",
      "                    a          b          c\n",
      "2020-01-01  199.88010  199.88010   99.87990\n",
      "2020-01-02  198.67210  198.77612  100.77588\n",
      "2020-01-03  198.66613  198.67210  101.71618\n",
      "2020-01-04  196.35809  196.35809  101.70822\n",
      "2020-01-05  194.95809  195.15859  101.70822\n",
      "group           first     second\n",
      "2020-01-01  199.88010   99.87990\n",
      "2020-01-02  198.67210  100.77588\n",
      "2020-01-03  198.66613  101.71618\n",
      "2020-01-04  196.35809  101.70822\n",
      "2020-01-05  194.95809  101.70822\n",
      "group           first     second\n",
      "2020-01-01  199.88010   99.87990\n",
      "2020-01-02  198.67210  100.77588\n",
      "2020-01-03  198.66613  101.71618\n",
      "2020-01-04  196.35809  101.70822\n",
      "2020-01-05  194.95809  101.70822\n",
      "group           first     second\n",
      "2020-01-01  199.88010   99.87990\n",
      "2020-01-02  198.67210  100.77588\n",
      "2020-01-03  198.66613  101.71618\n",
      "2020-01-04  196.35809  101.70822\n",
      "2020-01-05  194.95809  101.70822\n"
     ]
    }
   ],
   "source": [
    "print(portfolio.value())\n",
    "print(portfolio_grouped.value(group_by=False))\n",
    "print(portfolio_shared.value(group_by=False))\n",
    "print(portfolio_shared.value(group_by=False, in_sim_order=True))\n",
    "\n",
    "print(portfolio.value(group_by=group_by))\n",
    "print(portfolio_grouped.value())\n",
    "print(portfolio_shared.value())"
   ]
  },
  {
   "cell_type": "code",
   "execution_count": 14,
   "metadata": {},
   "outputs": [
    {
     "name": "stdout",
     "output_type": "stream",
     "text": [
      "36.9 ms ± 1.21 ms per loop (mean ± std. dev. of 7 runs, 10 loops each)\n",
      "35 ms ± 210 µs per loop (mean ± std. dev. of 7 runs, 10 loops each)\n",
      "35.8 ms ± 81.1 µs per loop (mean ± std. dev. of 7 runs, 10 loops each)\n",
      "46 ms ± 152 µs per loop (mean ± std. dev. of 7 runs, 10 loops each)\n",
      "53.9 ms ± 626 µs per loop (mean ± std. dev. of 7 runs, 10 loops each)\n",
      "50.4 ms ± 722 µs per loop (mean ± std. dev. of 7 runs, 10 loops each)\n",
      "55.3 ms ± 941 µs per loop (mean ± std. dev. of 7 runs, 10 loops each)\n"
     ]
    }
   ],
   "source": [
    "%timeit big_portfolio.value()\n",
    "%timeit big_portfolio_grouped.value(group_by=False)\n",
    "%timeit big_portfolio_shared.value(group_by=False)\n",
    "%timeit big_portfolio_shared.value(group_by=False, in_sim_order=True)\n",
    "\n",
    "%timeit big_portfolio.value(group_by=big_group_by)\n",
    "%timeit big_portfolio_grouped.value()\n",
    "%timeit big_portfolio_shared.value()"
   ]
  },
  {
   "cell_type": "code",
   "execution_count": 137,
   "metadata": {},
   "outputs": [
    {
     "name": "stdout",
     "output_type": "stream",
     "text": [
      "a   -0.31049\n",
      "b   -4.73142\n",
      "c    1.70822\n",
      "Name: total_profit, dtype: float64\n",
      "a   -0.31049\n",
      "b   -4.73142\n",
      "c    1.70822\n",
      "Name: total_profit, dtype: float64\n",
      "a   -0.31049\n",
      "b   -4.73142\n",
      "c    1.70822\n",
      "Name: total_profit, dtype: float64\n",
      "group\n",
      "first    -5.04191\n",
      "second    1.70822\n",
      "Name: total_profit, dtype: float64\n",
      "group\n",
      "first    -5.04191\n",
      "second    1.70822\n",
      "Name: total_profit, dtype: float64\n",
      "group\n",
      "first    -5.04191\n",
      "second    1.70822\n",
      "Name: total_profit, dtype: float64\n"
     ]
    }
   ],
   "source": [
    "print(portfolio.total_profit())\n",
    "print(portfolio_grouped.total_profit(group_by=False))\n",
    "print(portfolio_shared.total_profit(group_by=False))\n",
    "\n",
    "print(portfolio.total_profit(group_by=group_by))\n",
    "print(portfolio_grouped.total_profit())\n",
    "print(portfolio_shared.total_profit())"
   ]
  },
  {
   "cell_type": "code",
   "execution_count": 16,
   "metadata": {},
   "outputs": [
    {
     "name": "stdout",
     "output_type": "stream",
     "text": [
      "12.3 ms ± 79.7 µs per loop (mean ± std. dev. of 7 runs, 1 loop each)\n",
      "12.5 ms ± 190 µs per loop (mean ± std. dev. of 7 runs, 100 loops each)\n",
      "12.5 ms ± 225 µs per loop (mean ± std. dev. of 7 runs, 100 loops each)\n",
      "13.2 ms ± 224 µs per loop (mean ± std. dev. of 7 runs, 100 loops each)\n",
      "12.6 ms ± 176 µs per loop (mean ± std. dev. of 7 runs, 100 loops each)\n",
      "13.4 ms ± 217 µs per loop (mean ± std. dev. of 7 runs, 100 loops each)\n"
     ]
    }
   ],
   "source": [
    "%timeit big_portfolio.total_profit()\n",
    "%timeit big_portfolio_grouped.total_profit(group_by=False)\n",
    "%timeit big_portfolio_shared.total_profit(group_by=False)\n",
    "\n",
    "%timeit big_portfolio.total_profit(group_by=big_group_by)\n",
    "%timeit big_portfolio_grouped.total_profit()\n",
    "%timeit big_portfolio_shared.total_profit()"
   ]
  },
  {
   "cell_type": "code",
   "execution_count": 138,
   "metadata": {},
   "outputs": [
    {
     "name": "stdout",
     "output_type": "stream",
     "text": [
      "a     99.68951\n",
      "b     95.26858\n",
      "c    101.70822\n",
      "Name: final_value, dtype: float64\n",
      "a     99.68951\n",
      "b     95.26858\n",
      "c    101.70822\n",
      "Name: final_value, dtype: float64\n",
      "a    199.68951\n",
      "b    195.26858\n",
      "c    101.70822\n",
      "Name: final_value, dtype: float64\n",
      "group\n",
      "first     194.95809\n",
      "second    101.70822\n",
      "Name: final_value, dtype: float64\n",
      "group\n",
      "first     194.95809\n",
      "second    101.70822\n",
      "Name: final_value, dtype: float64\n",
      "group\n",
      "first     194.95809\n",
      "second    101.70822\n",
      "Name: final_value, dtype: float64\n"
     ]
    }
   ],
   "source": [
    "print(portfolio.final_value())\n",
    "print(portfolio_grouped.final_value(group_by=False))\n",
    "print(portfolio_shared.final_value(group_by=False))\n",
    "\n",
    "print(portfolio.final_value(group_by=group_by))\n",
    "print(portfolio_grouped.final_value())\n",
    "print(portfolio_shared.final_value())"
   ]
  },
  {
   "cell_type": "code",
   "execution_count": 18,
   "metadata": {},
   "outputs": [
    {
     "name": "stdout",
     "output_type": "stream",
     "text": [
      "12.3 ms ± 159 µs per loop (mean ± std. dev. of 7 runs, 100 loops each)\n",
      "12.2 ms ± 122 µs per loop (mean ± std. dev. of 7 runs, 100 loops each)\n",
      "12.9 ms ± 128 µs per loop (mean ± std. dev. of 7 runs, 100 loops each)\n",
      "14.1 ms ± 280 µs per loop (mean ± std. dev. of 7 runs, 100 loops each)\n",
      "12 ms ± 145 µs per loop (mean ± std. dev. of 7 runs, 100 loops each)\n",
      "14.1 ms ± 231 µs per loop (mean ± std. dev. of 7 runs, 100 loops each)\n"
     ]
    }
   ],
   "source": [
    "%timeit big_portfolio.final_value()\n",
    "%timeit big_portfolio_grouped.final_value(group_by=False)\n",
    "%timeit big_portfolio_shared.final_value(group_by=False)\n",
    "\n",
    "%timeit big_portfolio.final_value(group_by=big_group_by)\n",
    "%timeit big_portfolio_grouped.final_value()\n",
    "%timeit big_portfolio_shared.final_value()"
   ]
  },
  {
   "cell_type": "code",
   "execution_count": 139,
   "metadata": {},
   "outputs": [
    {
     "name": "stdout",
     "output_type": "stream",
     "text": [
      "a   -0.003105\n",
      "b   -0.047314\n",
      "c    0.017082\n",
      "Name: total_return, dtype: float64\n",
      "a   -0.003105\n",
      "b   -0.047314\n",
      "c    0.017082\n",
      "Name: total_return, dtype: float64\n",
      "a   -0.001552\n",
      "b   -0.023657\n",
      "c    0.017082\n",
      "Name: total_return, dtype: float64\n",
      "group\n",
      "first    -0.025210\n",
      "second    0.017082\n",
      "Name: total_return, dtype: float64\n",
      "group\n",
      "first    -0.025210\n",
      "second    0.017082\n",
      "Name: total_return, dtype: float64\n",
      "group\n",
      "first    -0.025210\n",
      "second    0.017082\n",
      "Name: total_return, dtype: float64\n"
     ]
    }
   ],
   "source": [
    "print(portfolio.total_return())\n",
    "print(portfolio_grouped.total_return(group_by=False))\n",
    "print(portfolio_shared.total_return(group_by=False))\n",
    "\n",
    "print(portfolio.total_return(group_by=group_by))\n",
    "print(portfolio_grouped.total_return())\n",
    "print(portfolio_shared.total_return())"
   ]
  },
  {
   "cell_type": "code",
   "execution_count": 20,
   "metadata": {},
   "outputs": [
    {
     "name": "stdout",
     "output_type": "stream",
     "text": [
      "12.5 ms ± 200 µs per loop (mean ± std. dev. of 7 runs, 100 loops each)\n",
      "12.4 ms ± 207 µs per loop (mean ± std. dev. of 7 runs, 100 loops each)\n",
      "12.8 ms ± 151 µs per loop (mean ± std. dev. of 7 runs, 100 loops each)\n",
      "14 ms ± 178 µs per loop (mean ± std. dev. of 7 runs, 100 loops each)\n",
      "12.6 ms ± 199 µs per loop (mean ± std. dev. of 7 runs, 100 loops each)\n",
      "14.2 ms ± 122 µs per loop (mean ± std. dev. of 7 runs, 100 loops each)\n"
     ]
    }
   ],
   "source": [
    "%timeit big_portfolio.total_return()\n",
    "%timeit big_portfolio_grouped.total_return(group_by=False)\n",
    "%timeit big_portfolio_shared.total_return(group_by=False)\n",
    "\n",
    "%timeit big_portfolio.total_return(group_by=big_group_by)\n",
    "%timeit big_portfolio_grouped.total_return()\n",
    "%timeit big_portfolio_shared.total_return()"
   ]
  },
  {
   "cell_type": "code",
   "execution_count": 140,
   "metadata": {},
   "outputs": [
    {
     "name": "stdout",
     "output_type": "stream",
     "text": [
      "                   a         b         c\n",
      "2020-01-01  0.000000 -0.001199 -0.001201\n",
      "2020-01-02 -0.001040 -0.011053  0.008971\n",
      "2020-01-03 -0.000060  0.000000  0.009331\n",
      "2020-01-04  0.000000 -0.023366 -0.000078\n",
      "2020-01-05 -0.002007 -0.012434  0.000000\n",
      "                   a         b         c\n",
      "2020-01-01  0.000000 -0.001199 -0.001201\n",
      "2020-01-02 -0.001040 -0.011053  0.008971\n",
      "2020-01-03 -0.000060  0.000000  0.009331\n",
      "2020-01-04  0.000000 -0.023366 -0.000078\n",
      "2020-01-05 -0.002007 -0.012434  0.000000\n",
      "                   a         b         c\n",
      "2020-01-01  0.000000 -0.000600 -0.001201\n",
      "2020-01-02 -0.000520 -0.005523  0.008971\n",
      "2020-01-03 -0.000030  0.000000  0.009331\n",
      "2020-01-04  0.000000 -0.011611 -0.000078\n",
      "2020-01-05 -0.001003 -0.006105  0.000000\n",
      "                   a         b         c\n",
      "2020-01-01  0.000000 -0.000600 -0.001201\n",
      "2020-01-02 -0.000523 -0.005523  0.008971\n",
      "2020-01-03 -0.000030  0.000000  0.009331\n",
      "2020-01-04  0.000000 -0.011618 -0.000078\n",
      "2020-01-05 -0.001027 -0.006109  0.000000\n",
      "group          first    second\n",
      "2020-01-01 -0.000600 -0.001201\n",
      "2020-01-02 -0.006044  0.008971\n",
      "2020-01-03 -0.000030  0.009331\n",
      "2020-01-04 -0.011618 -0.000078\n",
      "2020-01-05 -0.007130  0.000000\n",
      "group          first    second\n",
      "2020-01-01 -0.000600 -0.001201\n",
      "2020-01-02 -0.006044  0.008971\n",
      "2020-01-03 -0.000030  0.009331\n",
      "2020-01-04 -0.011618 -0.000078\n",
      "2020-01-05 -0.007130  0.000000\n",
      "group          first    second\n",
      "2020-01-01 -0.000600 -0.001201\n",
      "2020-01-02 -0.006044  0.008971\n",
      "2020-01-03 -0.000030  0.009331\n",
      "2020-01-04 -0.011618 -0.000078\n",
      "2020-01-05 -0.007130  0.000000\n"
     ]
    }
   ],
   "source": [
    "print(portfolio.returns())\n",
    "print(portfolio_grouped.returns(group_by=False))\n",
    "print(portfolio_shared.returns(group_by=False))\n",
    "print(portfolio_shared.returns(group_by=False, in_sim_order=True))\n",
    "\n",
    "print(portfolio.returns(group_by=group_by))\n",
    "print(portfolio_grouped.returns())\n",
    "print(portfolio_shared.returns())"
   ]
  },
  {
   "cell_type": "code",
   "execution_count": 22,
   "metadata": {},
   "outputs": [
    {
     "name": "stdout",
     "output_type": "stream",
     "text": [
      "39.5 ms ± 2.59 ms per loop (mean ± std. dev. of 7 runs, 10 loops each)\n",
      "37.4 ms ± 313 µs per loop (mean ± std. dev. of 7 runs, 10 loops each)\n",
      "39.4 ms ± 226 µs per loop (mean ± std. dev. of 7 runs, 10 loops each)\n",
      "52.3 ms ± 149 µs per loop (mean ± std. dev. of 7 runs, 10 loops each)\n",
      "55.6 ms ± 310 µs per loop (mean ± std. dev. of 7 runs, 10 loops each)\n",
      "50.9 ms ± 276 µs per loop (mean ± std. dev. of 7 runs, 10 loops each)\n",
      "63.5 ms ± 4.23 ms per loop (mean ± std. dev. of 7 runs, 10 loops each)\n"
     ]
    }
   ],
   "source": [
    "%timeit big_portfolio.returns()\n",
    "%timeit big_portfolio_grouped.returns(group_by=False)\n",
    "%timeit big_portfolio_shared.returns(group_by=False)\n",
    "%timeit big_portfolio_shared.returns(group_by=False, in_sim_order=True)\n",
    "\n",
    "%timeit big_portfolio.returns(group_by=big_group_by)\n",
    "%timeit big_portfolio_grouped.returns()\n",
    "%timeit big_portfolio_shared.returns()"
   ]
  },
  {
   "cell_type": "code",
   "execution_count": 141,
   "metadata": {},
   "outputs": [
    {
     "name": "stdout",
     "output_type": "stream",
     "text": [
      "                  a         b         c\n",
      "2020-01-01  0.00000      -inf      -inf\n",
      "2020-01-02     -inf -1.103980  0.895980\n",
      "2020-01-03 -0.02985  0.000000  0.427409\n",
      "2020-01-04  0.00000 -1.049109 -0.026533\n",
      "2020-01-05     -inf -0.299875  0.000000\n",
      "                  a         b         c\n",
      "2020-01-01  0.00000      -inf      -inf\n",
      "2020-01-02     -inf -1.103980  0.895980\n",
      "2020-01-03 -0.02985  0.000000  0.427409\n",
      "2020-01-04  0.00000 -1.049109 -0.026533\n",
      "2020-01-05     -inf -0.299875  0.000000\n",
      "                  a         b         c\n",
      "2020-01-01  0.00000      -inf      -inf\n",
      "2020-01-02     -inf -1.103980  0.895980\n",
      "2020-01-03 -0.02985  0.000000  0.427409\n",
      "2020-01-04  0.00000 -1.049109 -0.026533\n",
      "2020-01-05     -inf -0.299875  0.000000\n",
      "group          first    second\n",
      "2020-01-01      -inf      -inf\n",
      "2020-01-02 -1.208000  0.895980\n",
      "2020-01-03 -0.002985  0.427409\n",
      "2020-01-04 -1.049109 -0.026533\n",
      "2020-01-05 -0.350000  0.000000\n",
      "group          first    second\n",
      "2020-01-01      -inf      -inf\n",
      "2020-01-02 -1.208000  0.895980\n",
      "2020-01-03 -0.002985  0.427409\n",
      "2020-01-04 -1.049109 -0.026533\n",
      "2020-01-05 -0.350000  0.000000\n",
      "group          first    second\n",
      "2020-01-01      -inf      -inf\n",
      "2020-01-02 -1.208000  0.895980\n",
      "2020-01-03 -0.002985  0.427409\n",
      "2020-01-04 -1.049109 -0.026533\n",
      "2020-01-05 -0.350000  0.000000\n"
     ]
    }
   ],
   "source": [
    "print(portfolio.active_returns())\n",
    "print(portfolio_grouped.active_returns(group_by=False))\n",
    "print(portfolio_shared.active_returns(group_by=False))\n",
    "\n",
    "print(portfolio.active_returns(group_by=group_by))\n",
    "print(portfolio_grouped.active_returns())\n",
    "print(portfolio_shared.active_returns())"
   ]
  },
  {
   "cell_type": "code",
   "execution_count": 24,
   "metadata": {},
   "outputs": [
    {
     "name": "stdout",
     "output_type": "stream",
     "text": [
      "40.2 ms ± 5.18 ms per loop (mean ± std. dev. of 7 runs, 10 loops each)\n",
      "36.9 ms ± 235 µs per loop (mean ± std. dev. of 7 runs, 10 loops each)\n",
      "37.4 ms ± 193 µs per loop (mean ± std. dev. of 7 runs, 10 loops each)\n",
      "51.7 ms ± 195 µs per loop (mean ± std. dev. of 7 runs, 10 loops each)\n",
      "49.8 ms ± 220 µs per loop (mean ± std. dev. of 7 runs, 10 loops each)\n",
      "52.4 ms ± 264 µs per loop (mean ± std. dev. of 7 runs, 10 loops each)\n"
     ]
    }
   ],
   "source": [
    "%timeit big_portfolio.active_returns()\n",
    "%timeit big_portfolio_grouped.active_returns(group_by=False)\n",
    "%timeit big_portfolio_shared.active_returns(group_by=False)\n",
    "\n",
    "%timeit big_portfolio.active_returns(group_by=big_group_by)\n",
    "%timeit big_portfolio_grouped.active_returns()\n",
    "%timeit big_portfolio_shared.active_returns()"
   ]
  },
  {
   "cell_type": "code",
   "execution_count": 142,
   "metadata": {},
   "outputs": [
    {
     "name": "stdout",
     "output_type": "stream",
     "text": [
      "                a      b      c\n",
      "2020-01-01  100.0  100.0  100.0\n",
      "2020-01-02  100.0  200.0  200.0\n",
      "2020-01-03  150.0  200.0  300.0\n",
      "2020-01-04  200.0  400.0  400.0\n",
      "2020-01-05  250.0  500.0  400.0\n",
      "                a      b      c\n",
      "2020-01-01  100.0  100.0  100.0\n",
      "2020-01-02  100.0  200.0  200.0\n",
      "2020-01-03  150.0  200.0  300.0\n",
      "2020-01-04  200.0  400.0  400.0\n",
      "2020-01-05  250.0  500.0  400.0\n",
      "                a       b      c\n",
      "2020-01-01  200.0   200.0  100.0\n",
      "2020-01-02  200.0   400.0  200.0\n",
      "2020-01-03  300.0   400.0  300.0\n",
      "2020-01-04  400.0   800.0  400.0\n",
      "2020-01-05  500.0  1000.0  400.0\n",
      "group       first  second\n",
      "2020-01-01  200.0   100.0\n",
      "2020-01-02  300.0   200.0\n",
      "2020-01-03  350.0   300.0\n",
      "2020-01-04  600.0   400.0\n",
      "2020-01-05  750.0   400.0\n",
      "group       first  second\n",
      "2020-01-01  200.0   100.0\n",
      "2020-01-02  300.0   200.0\n",
      "2020-01-03  350.0   300.0\n",
      "2020-01-04  600.0   400.0\n",
      "2020-01-05  750.0   400.0\n",
      "group       first  second\n",
      "2020-01-01  200.0   100.0\n",
      "2020-01-02  300.0   200.0\n",
      "2020-01-03  350.0   300.0\n",
      "2020-01-04  600.0   400.0\n",
      "2020-01-05  750.0   400.0\n"
     ]
    }
   ],
   "source": [
    "print(portfolio.market_value())\n",
    "print(portfolio_grouped.market_value(group_by=False))\n",
    "print(portfolio_shared.market_value(group_by=False))\n",
    "\n",
    "print(portfolio.market_value(group_by=group_by))\n",
    "print(portfolio_grouped.market_value())\n",
    "print(portfolio_shared.market_value())"
   ]
  },
  {
   "cell_type": "code",
   "execution_count": 26,
   "metadata": {},
   "outputs": [
    {
     "name": "stdout",
     "output_type": "stream",
     "text": [
      "909 µs ± 51.7 µs per loop (mean ± std. dev. of 7 runs, 1000 loops each)\n",
      "967 µs ± 34.4 µs per loop (mean ± std. dev. of 7 runs, 1000 loops each)\n",
      "1.81 ms ± 111 µs per loop (mean ± std. dev. of 7 runs, 100 loops each)\n",
      "4.86 ms ± 415 µs per loop (mean ± std. dev. of 7 runs, 1 loop each)\n",
      "2.82 ms ± 35.5 µs per loop (mean ± std. dev. of 7 runs, 100 loops each)\n",
      "5.2 ms ± 387 µs per loop (mean ± std. dev. of 7 runs, 1 loop each)\n"
     ]
    }
   ],
   "source": [
    "%timeit big_portfolio.market_value()\n",
    "%timeit big_portfolio_grouped.market_value(group_by=False)\n",
    "%timeit big_portfolio_shared.market_value(group_by=False)\n",
    "\n",
    "%timeit big_portfolio.market_value(group_by=big_group_by)\n",
    "%timeit big_portfolio_grouped.market_value()\n",
    "%timeit big_portfolio_shared.market_value()"
   ]
  },
  {
   "cell_type": "code",
   "execution_count": 143,
   "metadata": {},
   "outputs": [
    {
     "name": "stdout",
     "output_type": "stream",
     "text": [
      "                   a     b         c\n",
      "2020-01-01  0.000000  0.00  0.000000\n",
      "2020-01-02  0.000000  1.00  1.000000\n",
      "2020-01-03  0.500000  0.00  0.500000\n",
      "2020-01-04  0.333333  1.00  0.333333\n",
      "2020-01-05  0.250000  0.25  0.000000\n",
      "                   a     b         c\n",
      "2020-01-01  0.000000  0.00  0.000000\n",
      "2020-01-02  0.000000  1.00  1.000000\n",
      "2020-01-03  0.500000  0.00  0.500000\n",
      "2020-01-04  0.333333  1.00  0.333333\n",
      "2020-01-05  0.250000  0.25  0.000000\n",
      "                   a     b         c\n",
      "2020-01-01  0.000000  0.00  0.000000\n",
      "2020-01-02  0.000000  1.00  1.000000\n",
      "2020-01-03  0.500000  0.00  0.500000\n",
      "2020-01-04  0.333333  1.00  0.333333\n",
      "2020-01-05  0.250000  0.25  0.000000\n",
      "group          first    second\n",
      "2020-01-01  0.000000  0.000000\n",
      "2020-01-02  0.500000  1.000000\n",
      "2020-01-03  0.166667  0.500000\n",
      "2020-01-04  0.714286  0.333333\n",
      "2020-01-05  0.250000  0.000000\n",
      "group          first    second\n",
      "2020-01-01  0.000000  0.000000\n",
      "2020-01-02  0.500000  1.000000\n",
      "2020-01-03  0.166667  0.500000\n",
      "2020-01-04  0.714286  0.333333\n",
      "2020-01-05  0.250000  0.000000\n",
      "group          first    second\n",
      "2020-01-01  0.000000  0.000000\n",
      "2020-01-02  0.500000  1.000000\n",
      "2020-01-03  0.166667  0.500000\n",
      "2020-01-04  0.714286  0.333333\n",
      "2020-01-05  0.250000  0.000000\n"
     ]
    }
   ],
   "source": [
    "print(portfolio.market_returns())\n",
    "print(portfolio_grouped.market_returns(group_by=False))\n",
    "print(portfolio_shared.market_returns(group_by=False))\n",
    "\n",
    "print(portfolio.market_returns(group_by=group_by))\n",
    "print(portfolio_grouped.market_returns())\n",
    "print(portfolio_shared.market_returns())"
   ]
  },
  {
   "cell_type": "code",
   "execution_count": 28,
   "metadata": {},
   "outputs": [
    {
     "name": "stdout",
     "output_type": "stream",
     "text": [
      "3.7 ms ± 67.9 µs per loop (mean ± std. dev. of 7 runs, 100 loops each)\n",
      "3.72 ms ± 66.8 µs per loop (mean ± std. dev. of 7 runs, 100 loops each)\n",
      "5.11 ms ± 5.82 µs per loop (mean ± std. dev. of 7 runs, 100 loops each)\n",
      "7.2 ms ± 618 µs per loop (mean ± std. dev. of 7 runs, 100 loops each)\n",
      "4.1 ms ± 52.4 µs per loop (mean ± std. dev. of 7 runs, 100 loops each)\n",
      "7.28 ms ± 40.2 µs per loop (mean ± std. dev. of 7 runs, 100 loops each)\n"
     ]
    }
   ],
   "source": [
    "%timeit big_portfolio.market_returns()\n",
    "%timeit big_portfolio_grouped.market_returns(group_by=False)\n",
    "%timeit big_portfolio_shared.market_returns(group_by=False)\n",
    "\n",
    "%timeit big_portfolio.market_returns(group_by=big_group_by)\n",
    "%timeit big_portfolio_grouped.market_returns()\n",
    "%timeit big_portfolio_shared.market_returns()"
   ]
  },
  {
   "cell_type": "code",
   "execution_count": 144,
   "metadata": {},
   "outputs": [
    {
     "name": "stdout",
     "output_type": "stream",
     "text": [
      "a    1.5\n",
      "b    4.0\n",
      "c    3.0\n",
      "Name: total_market_return, dtype: float64\n",
      "a    1.5\n",
      "b    4.0\n",
      "c    3.0\n",
      "Name: total_market_return, dtype: float64\n",
      "a    1.5\n",
      "b    4.0\n",
      "c    3.0\n",
      "Name: total_market_return, dtype: float64\n",
      "group\n",
      "first     2.75\n",
      "second    3.00\n",
      "Name: total_market_return, dtype: float64\n",
      "group\n",
      "first     2.75\n",
      "second    3.00\n",
      "Name: total_market_return, dtype: float64\n",
      "group\n",
      "first     2.75\n",
      "second    3.00\n",
      "Name: total_market_return, dtype: float64\n"
     ]
    }
   ],
   "source": [
    "print(portfolio.total_market_return())\n",
    "print(portfolio_grouped.total_market_return(group_by=False))\n",
    "print(portfolio_shared.total_market_return(group_by=False))\n",
    "\n",
    "print(portfolio.total_market_return(group_by=group_by))\n",
    "print(portfolio_grouped.total_market_return())\n",
    "print(portfolio_shared.total_market_return())"
   ]
  },
  {
   "cell_type": "code",
   "execution_count": 30,
   "metadata": {},
   "outputs": [
    {
     "name": "stdout",
     "output_type": "stream",
     "text": [
      "975 µs ± 61.3 µs per loop (mean ± std. dev. of 7 runs, 1000 loops each)\n",
      "937 µs ± 10.7 µs per loop (mean ± std. dev. of 7 runs, 1000 loops each)\n",
      "1.83 ms ± 7.9 µs per loop (mean ± std. dev. of 7 runs, 1000 loops each)\n",
      "4.77 ms ± 30 µs per loop (mean ± std. dev. of 7 runs, 100 loops each)\n",
      "2.85 ms ± 11.9 µs per loop (mean ± std. dev. of 7 runs, 100 loops each)\n",
      "5.21 ms ± 79.8 µs per loop (mean ± std. dev. of 7 runs, 100 loops each)\n"
     ]
    }
   ],
   "source": [
    "%timeit big_portfolio.total_market_return()\n",
    "%timeit big_portfolio_grouped.total_market_return(group_by=False)\n",
    "%timeit big_portfolio_shared.total_market_return(group_by=False)\n",
    "\n",
    "%timeit big_portfolio.total_market_return(group_by=big_group_by)\n",
    "%timeit big_portfolio_grouped.total_market_return()\n",
    "%timeit big_portfolio_shared.total_market_return()"
   ]
  },
  {
   "cell_type": "code",
   "execution_count": 145,
   "metadata": {},
   "outputs": [
    {
     "name": "stdout",
     "output_type": "stream",
     "text": [
      "group          first    second\n",
      "2020-01-01 -0.000599 -0.001201\n",
      "2020-01-02 -0.006639  0.007759\n",
      "2020-01-03 -0.006669  0.017162\n",
      "2020-01-04 -0.018210  0.017082\n",
      "2020-01-05 -0.025210  0.017082\n",
      "                   a         b         c\n",
      "2020-01-01  0.000000 -0.000599 -0.001201\n",
      "2020-01-02 -0.000520 -0.006119  0.007759\n",
      "2020-01-03 -0.000550 -0.006119  0.017162\n",
      "2020-01-04 -0.000550 -0.017660  0.017082\n",
      "2020-01-05 -0.001552 -0.023657  0.017082\n"
     ]
    }
   ],
   "source": [
    "print(portfolio_shared.cumulative_returns())\n",
    "print(portfolio_shared.cumulative_returns(group_by=False))"
   ]
  },
  {
   "cell_type": "code",
   "execution_count": 6,
   "metadata": {},
   "outputs": [
    {
     "name": "stdout",
     "output_type": "stream",
     "text": [
      "group\n",
      "first    -20.095907\n",
      "second    12.345065\n",
      "Name: sharpe_ratio, dtype: float64\n",
      "group\n",
      "first    -59.622588\n",
      "second   -23.917188\n",
      "Name: sharpe_ratio, dtype: float64\n",
      "group\n",
      "first    -16.697884\n",
      "second    10.257635\n",
      "Name: sharpe_ratio, dtype: float64\n",
      "a   -13.309506\n",
      "b   -19.278625\n",
      "c    12.345065\n",
      "Name: sharpe_ratio, dtype: float64\n"
     ]
    }
   ],
   "source": [
    "print(portfolio_shared.sharpe_ratio())\n",
    "print(portfolio_shared.sharpe_ratio(risk_free=0.01))\n",
    "print(portfolio_shared.sharpe_ratio(year_freq='252D'))\n",
    "print(portfolio_shared.sharpe_ratio(group_by=False))"
   ]
  },
  {
   "cell_type": "code",
   "execution_count": 7,
   "metadata": {},
   "outputs": [
    {
     "name": "stdout",
     "output_type": "stream",
     "text": [
      "Start                         2020-01-01 00:00:00\n",
      "End                           2020-01-05 00:00:00\n",
      "Period                            5 days 00:00:00\n",
      "Start Value                                 100.0\n",
      "End Value                                98.88877\n",
      "Total Return [%]                         -1.11123\n",
      "Benchmark Return [%]                   283.333333\n",
      "Max Gross Exposure [%]                   2.059062\n",
      "Total Fees Paid                           0.42223\n",
      "Max Drawdown [%]                         1.645124\n",
      "Max Drawdown Duration             3 days 08:00:00\n",
      "Total Trades                                  2.0\n",
      "Total Closed Trades                      1.333333\n",
      "Total Open Trades                        0.666667\n",
      "Open Trade PnL                          -1.504206\n",
      "Win Rate [%]                            33.333333\n",
      "Best Trade [%]                         -98.380588\n",
      "Worst Trade [%]                       -100.803855\n",
      "Avg Winning Trade [%]                  143.916254\n",
      "Avg Losing Trade [%]                   -221.34646\n",
      "Avg Winning Trade Duration        2 days 12:00:00\n",
      "Avg Losing Trade Duration         2 days 00:00:00\n",
      "Profit Factor                                 inf\n",
      "Expectancy                               0.108273\n",
      "Sharpe Ratio                            -6.751008\n",
      "Calmar Ratio                         10378.930331\n",
      "Omega Ratio                                4.7687\n",
      "Sortino Ratio                           31.599761\n",
      "Name: agg_func_mean, dtype: object\n"
     ]
    },
    {
     "name": "stderr",
     "output_type": "stream",
     "text": [
      "/Users/olegpolakow/miniconda3/lib/python3.7/site-packages/ipykernel_launcher.py:1: UserWarning: Object has multiple columns. Aggregating using <function mean at 0x7ff110b83620>. Pass column to select a single column/group.\n",
      "  \"\"\"Entry point for launching an IPython kernel.\n"
     ]
    }
   ],
   "source": [
    "print(portfolio.stats())  # mean statistics"
   ]
  },
  {
   "cell_type": "code",
   "execution_count": 13,
   "metadata": {},
   "outputs": [
    {
     "name": "stdout",
     "output_type": "stream",
     "text": [
      "Start                         2020-01-01 00:00:00\n",
      "End                           2020-01-05 00:00:00\n",
      "Period                            5 days 00:00:00\n",
      "Start Value                                 100.0\n",
      "End Value                                99.68951\n",
      "Total Return [%]                         -0.31049\n",
      "Benchmark Return [%]                        150.0\n",
      "Max Gross Exposure [%]                   5.015573\n",
      "Total Fees Paid                           0.35549\n",
      "Max Drawdown [%]                          0.31049\n",
      "Max Drawdown Duration             4 days 00:00:00\n",
      "Total Trades                                    2\n",
      "Total Closed Trades                             1\n",
      "Total Open Trades                               1\n",
      "Open Trade PnL                            -0.2005\n",
      "Win Rate [%]                                  0.0\n",
      "Best Trade [%]                         -54.450495\n",
      "Worst Trade [%]                        -54.450495\n",
      "Avg Winning Trade [%]                         NaN\n",
      "Avg Losing Trade [%]                   -54.450495\n",
      "Avg Winning Trade Duration                    NaT\n",
      "Avg Losing Trade Duration         1 days 00:00:00\n",
      "Profit Factor                                 0.0\n",
      "Expectancy                               -0.10999\n",
      "Sharpe Ratio                           -13.308045\n",
      "Calmar Ratio                           -65.408686\n",
      "Omega Ratio                                   0.0\n",
      "Sortino Ratio                          -11.738865\n",
      "Name: a, dtype: object\n"
     ]
    }
   ],
   "source": [
    "print(portfolio['a'].stats())"
   ]
  },
  {
   "cell_type": "code",
   "execution_count": 14,
   "metadata": {},
   "outputs": [
    {
     "name": "stdout",
     "output_type": "stream",
     "text": [
      "Start                         2020-01-01 00:00:00\n",
      "End                           2020-01-05 00:00:00\n",
      "Period                            5 days 00:00:00\n",
      "Start Value                                 100.0\n",
      "End Value                                99.68951\n",
      "Total Return [%]                         -0.31049\n",
      "Benchmark Return [%]                        150.0\n",
      "Max Gross Exposure [%]                   5.015573\n",
      "Total Fees Paid                           0.35549\n",
      "Max Drawdown [%]                          0.31049\n",
      "Max Drawdown Duration             4 days 00:00:00\n",
      "Total Trades                                    2\n",
      "Total Closed Trades                             1\n",
      "Total Open Trades                               1\n",
      "Open Trade PnL                            -0.2005\n",
      "Win Rate [%]                                  0.0\n",
      "Best Trade [%]                         -54.450495\n",
      "Worst Trade [%]                        -54.450495\n",
      "Avg Winning Trade [%]                         NaN\n",
      "Avg Losing Trade [%]                   -54.450495\n",
      "Avg Winning Trade Duration                    NaT\n",
      "Avg Losing Trade Duration         1 days 00:00:00\n",
      "Profit Factor                                 0.0\n",
      "Expectancy                               -0.10999\n",
      "Sharpe Ratio                          -227.458628\n",
      "Calmar Ratio                           -65.408686\n",
      "Omega Ratio                                   0.0\n",
      "Sortino Ratio                          -19.104372\n",
      "Name: a, dtype: object\n"
     ]
    }
   ],
   "source": [
    "print(portfolio['a'].stats(settings=dict(required_return=0.1, risk_free=0.01)))  # test kwargs"
   ]
  },
  {
   "cell_type": "code",
   "execution_count": 15,
   "metadata": {},
   "outputs": [
    {
     "name": "stdout",
     "output_type": "stream",
     "text": [
      "Start                         2020-01-01 00:00:00\n",
      "End                           2020-01-05 00:00:00\n",
      "Period                            5 days 00:00:00\n",
      "Start Value                                 100.0\n",
      "End Value                                99.68951\n",
      "Total Return [%]                         -0.31049\n",
      "Benchmark Return [%]                        150.0\n",
      "Max Gross Exposure [%]                   5.015573\n",
      "Total Fees Paid                           0.35549\n",
      "Max Drawdown [%]                          0.31049\n",
      "Max Drawdown Duration             4 days 00:00:00\n",
      "Total Trades                                    2\n",
      "Total Closed Trades                             1\n",
      "Total Open Trades                               1\n",
      "Open Trade PnL                            -0.2005\n",
      "Win Rate [%]                                  0.0\n",
      "Best Trade [%]                          -3.970297\n",
      "Worst Trade [%]                        -54.450495\n",
      "Avg Winning Trade [%]                         NaN\n",
      "Avg Losing Trade [%]                   -29.210396\n",
      "Avg Winning Trade Duration                    NaT\n",
      "Avg Losing Trade Duration         1 days 00:00:00\n",
      "Profit Factor                                 0.0\n",
      "Expectancy                              -0.155245\n",
      "Sharpe Ratio                           -13.308045\n",
      "Calmar Ratio                           -65.408686\n",
      "Omega Ratio                                   0.0\n",
      "Sortino Ratio                          -11.738865\n",
      "Name: a, dtype: object\n"
     ]
    }
   ],
   "source": [
    "print(portfolio['a'].stats(settings=dict(incl_open=True)))  # test incl_open"
   ]
  },
  {
   "cell_type": "code",
   "execution_count": 16,
   "metadata": {},
   "outputs": [
    {
     "data": {
      "text/plain": [
       "Start                         2020-01-01 00:00:00\n",
       "End                           2020-01-05 00:00:00\n",
       "Period                            5 days 00:00:00\n",
       "Start Value                                 200.0\n",
       "End Value                               194.95809\n",
       "Total Return [%]                        -2.520955\n",
       "Benchmark Return [%]                        275.0\n",
       "Max Gross Exposure [%]                  -0.505305\n",
       "Total Fees Paid                           0.82091\n",
       "Max Drawdown [%]                         2.462481\n",
       "Max Drawdown Duration             4 days 00:00:00\n",
       "Total Trades                                    4\n",
       "Total Closed Trades                             2\n",
       "Total Open Trades                               2\n",
       "Open Trade PnL                          -4.512618\n",
       "Win Rate [%]                                  0.0\n",
       "Best Trade [%]                         -54.450495\n",
       "Worst Trade [%]                       -388.242424\n",
       "Avg Winning Trade [%]                         NaN\n",
       "Avg Losing Trade [%]                   -221.34646\n",
       "Avg Winning Trade Duration                    NaT\n",
       "Avg Losing Trade Duration         2 days 00:00:00\n",
       "Profit Factor                                 0.0\n",
       "Expectancy                              -0.264646\n",
       "Sharpe Ratio                           -20.095907\n",
       "Calmar Ratio                           -34.312217\n",
       "Omega Ratio                                   0.0\n",
       "Sortino Ratio                          -14.554512\n",
       "Name: first, dtype: object"
      ]
     },
     "execution_count": 16,
     "metadata": {},
     "output_type": "execute_result"
    }
   ],
   "source": [
    "portfolio_grouped['first'].stats()"
   ]
  },
  {
   "cell_type": "code",
   "execution_count": 17,
   "metadata": {
    "tags": []
   },
   "outputs": [],
   "source": [
    "pd.testing.assert_series_equal(portfolio['c'].stats(), portfolio.stats(column='c'))\n",
    "pd.testing.assert_series_equal(portfolio['c'].stats(), portfolio_grouped.stats(column='c', group_by=False))\n",
    "pd.testing.assert_series_equal(portfolio_grouped['second'].stats(), portfolio_grouped.stats(column='second'))"
   ]
  },
  {
   "cell_type": "code",
   "execution_count": 12,
   "metadata": {},
   "outputs": [
    {
     "name": "stdout",
     "output_type": "stream",
     "text": [
      "64.9 ms ± 525 µs per loop (mean ± std. dev. of 7 runs, 1 loop each)\n",
      "76 ms ± 478 µs per loop (mean ± std. dev. of 7 runs, 10 loops each)\n",
      "145 ms ± 588 µs per loop (mean ± std. dev. of 7 runs, 10 loops each)\n",
      "101 ms ± 87.9 µs per loop (mean ± std. dev. of 7 runs, 10 loops each)\n",
      "72.4 ms ± 151 µs per loop (mean ± std. dev. of 7 runs, 10 loops each)\n",
      "158 ms ± 1.02 ms per loop (mean ± std. dev. of 7 runs, 10 loops each)\n"
     ]
    }
   ],
   "source": [
    "# Calculates stats for one column\n",
    "%timeit big_portfolio.iloc[0].stats()\n",
    "%timeit big_portfolio_grouped.iloc[0].stats(group_by=False, column=0)\n",
    "%timeit big_portfolio_shared.iloc[0].stats(group_by=False, column=0)\n",
    "\n",
    "%timeit big_portfolio.iloc[0].stats(group_by=np.array([0]))\n",
    "%timeit big_portfolio_grouped.iloc[0].stats()\n",
    "%timeit big_portfolio_shared.iloc[0].stats()"
   ]
  },
  {
   "cell_type": "code",
   "execution_count": 12,
   "metadata": {},
   "outputs": [],
   "source": [
    "big_portfolio_one = big_portfolio.iloc[0]"
   ]
  },
  {
   "cell_type": "code",
   "execution_count": 13,
   "metadata": {},
   "outputs": [
    {
     "name": "stdout",
     "output_type": "stream",
     "text": [
      "start\n",
      "1.72 ms ± 643 µs per loop (mean ± std. dev. of 7 runs, 10 loops each)\n",
      "end\n",
      "1.17 ms ± 25.3 µs per loop (mean ± std. dev. of 7 runs, 10 loops each)\n",
      "period\n",
      "1.18 ms ± 33.2 µs per loop (mean ± std. dev. of 7 runs, 10 loops each)\n",
      "start_value\n",
      "1.23 ms ± 51.1 µs per loop (mean ± std. dev. of 7 runs, 10 loops each)\n",
      "end_value\n",
      "2.43 ms ± 126 µs per loop (mean ± std. dev. of 7 runs, 10 loops each)\n",
      "total_return\n",
      "2.38 ms ± 7.53 µs per loop (mean ± std. dev. of 7 runs, 10 loops each)\n",
      "benchmark_return\n",
      "1.56 ms ± 12.2 µs per loop (mean ± std. dev. of 7 runs, 10 loops each)\n",
      "max_gross_exposure\n",
      "5.51 ms ± 22.4 µs per loop (mean ± std. dev. of 7 runs, 10 loops each)\n",
      "total_fees_paid\n",
      "2.11 ms ± 132 µs per loop (mean ± std. dev. of 7 runs, 10 loops each)\n",
      "max_dd\n",
      "5.3 ms ± 22.5 µs per loop (mean ± std. dev. of 7 runs, 10 loops each)\n",
      "max_dd_duration\n",
      "5.39 ms ± 49.2 µs per loop (mean ± std. dev. of 7 runs, 10 loops each)\n",
      "total_trades\n",
      "2.68 ms ± 320 µs per loop (mean ± std. dev. of 7 runs, 10 loops each)\n",
      "total_closed_trades\n",
      "4.07 ms ± 111 µs per loop (mean ± std. dev. of 7 runs, 10 loops each)\n",
      "total_open_trades\n",
      "3.24 ms ± 28.8 µs per loop (mean ± std. dev. of 7 runs, 10 loops each)\n",
      "open_trade_pnl\n",
      "3.72 ms ± 136 µs per loop (mean ± std. dev. of 7 runs, 10 loops each)\n",
      "win_rate\n",
      "4.19 ms ± 128 µs per loop (mean ± std. dev. of 7 runs, 10 loops each)\n",
      "best_trade\n",
      "3.62 ms ± 44.6 µs per loop (mean ± std. dev. of 7 runs, 10 loops each)\n",
      "worst_trade\n",
      "3.71 ms ± 178 µs per loop (mean ± std. dev. of 7 runs, 10 loops each)\n",
      "avg_winning_trade\n",
      "4.54 ms ± 161 µs per loop (mean ± std. dev. of 7 runs, 10 loops each)\n",
      "avg_losing_trade\n",
      "4.46 ms ± 122 µs per loop (mean ± std. dev. of 7 runs, 10 loops each)\n",
      "avg_winning_trade_duration\n",
      "4.5 ms ± 140 µs per loop (mean ± std. dev. of 7 runs, 10 loops each)\n",
      "avg_losing_trade_duration\n",
      "4.99 ms ± 224 µs per loop (mean ± std. dev. of 7 runs, 10 loops each)\n",
      "profit_factor\n",
      "5.82 ms ± 86.1 µs per loop (mean ± std. dev. of 7 runs, 10 loops each)\n",
      "expectancy\n",
      "7.09 ms ± 288 µs per loop (mean ± std. dev. of 7 runs, 10 loops each)\n",
      "sharpe_ratio\n",
      "8.79 ms ± 613 µs per loop (mean ± std. dev. of 7 runs, 10 loops each)\n",
      "calmar_ratio\n",
      "8.56 ms ± 527 µs per loop (mean ± std. dev. of 7 runs, 10 loops each)\n",
      "omega_ratio\n",
      "8.38 ms ± 215 µs per loop (mean ± std. dev. of 7 runs, 10 loops each)\n",
      "sortino_ratio\n",
      "8.15 ms ± 101 µs per loop (mean ± std. dev. of 7 runs, 10 loops each)\n"
     ]
    }
   ],
   "source": [
    "for metric in big_portfolio_one.metrics:\n",
    "    print(metric)\n",
    "    %timeit -n 10 big_portfolio_one.stats(metrics=metric)"
   ]
  },
  {
   "cell_type": "code",
   "execution_count": 14,
   "metadata": {},
   "outputs": [
    {
     "name": "stdout",
     "output_type": "stream",
     "text": [
      "start\n",
      "1.51 ms ± 362 µs per loop (mean ± std. dev. of 7 runs, 10 loops each)\n",
      "end\n",
      "1.54 ms ± 74 µs per loop (mean ± std. dev. of 7 runs, 10 loops each)\n",
      "period\n",
      "1.92 ms ± 19.8 µs per loop (mean ± std. dev. of 7 runs, 10 loops each)\n",
      "start_value\n",
      "2.46 ms ± 117 µs per loop (mean ± std. dev. of 7 runs, 10 loops each)\n",
      "end_value\n",
      "4.1 ms ± 117 µs per loop (mean ± std. dev. of 7 runs, 10 loops each)\n",
      "total_return\n",
      "5.67 ms ± 12.9 µs per loop (mean ± std. dev. of 7 runs, 10 loops each)\n",
      "benchmark_return\n",
      "6.59 ms ± 46.7 µs per loop (mean ± std. dev. of 7 runs, 10 loops each)\n",
      "max_gross_exposure\n",
      "11.4 ms ± 33.9 µs per loop (mean ± std. dev. of 7 runs, 10 loops each)\n",
      "total_fees_paid\n",
      "12.8 ms ± 232 µs per loop (mean ± std. dev. of 7 runs, 10 loops each)\n",
      "max_dd\n",
      "17.6 ms ± 281 µs per loop (mean ± std. dev. of 7 runs, 10 loops each)\n",
      "max_dd_duration\n",
      "19.1 ms ± 833 µs per loop (mean ± std. dev. of 7 runs, 10 loops each)\n",
      "total_trades\n",
      "20.6 ms ± 434 µs per loop (mean ± std. dev. of 7 runs, 10 loops each)\n",
      "total_closed_trades\n",
      "22.5 ms ± 234 µs per loop (mean ± std. dev. of 7 runs, 10 loops each)\n",
      "total_open_trades\n",
      "23.9 ms ± 228 µs per loop (mean ± std. dev. of 7 runs, 10 loops each)\n",
      "open_trade_pnl\n",
      "25.7 ms ± 140 µs per loop (mean ± std. dev. of 7 runs, 10 loops each)\n",
      "win_rate\n",
      "28 ms ± 246 µs per loop (mean ± std. dev. of 7 runs, 10 loops each)\n",
      "best_trade\n",
      "30.3 ms ± 710 µs per loop (mean ± std. dev. of 7 runs, 10 loops each)\n",
      "worst_trade\n",
      "31.9 ms ± 606 µs per loop (mean ± std. dev. of 7 runs, 10 loops each)\n",
      "avg_winning_trade\n",
      "35.8 ms ± 1.27 ms per loop (mean ± std. dev. of 7 runs, 10 loops each)\n",
      "avg_losing_trade\n",
      "36.8 ms ± 183 µs per loop (mean ± std. dev. of 7 runs, 10 loops each)\n",
      "avg_winning_trade_duration\n",
      "39.5 ms ± 140 µs per loop (mean ± std. dev. of 7 runs, 10 loops each)\n",
      "avg_losing_trade_duration\n",
      "41.7 ms ± 235 µs per loop (mean ± std. dev. of 7 runs, 10 loops each)\n",
      "profit_factor\n",
      "45.8 ms ± 240 µs per loop (mean ± std. dev. of 7 runs, 10 loops each)\n",
      "expectancy\n",
      "50.6 ms ± 425 µs per loop (mean ± std. dev. of 7 runs, 10 loops each)\n",
      "sharpe_ratio\n",
      "58 ms ± 176 µs per loop (mean ± std. dev. of 7 runs, 10 loops each)\n",
      "calmar_ratio\n",
      "58.5 ms ± 182 µs per loop (mean ± std. dev. of 7 runs, 10 loops each)\n",
      "omega_ratio\n",
      "59.1 ms ± 227 µs per loop (mean ± std. dev. of 7 runs, 10 loops each)\n",
      "sortino_ratio\n",
      "60 ms ± 144 µs per loop (mean ± std. dev. of 7 runs, 10 loops each)\n"
     ]
    }
   ],
   "source": [
    "metrics = []\n",
    "for metric in big_portfolio_one.metrics:\n",
    "    print(metric)\n",
    "    metrics.append(metric)\n",
    "    %timeit -n 10 big_portfolio_one.stats(metrics=metrics)"
   ]
  },
  {
   "cell_type": "code",
   "execution_count": 15,
   "metadata": {},
   "outputs": [
    {
     "name": "stdout",
     "output_type": "stream",
     "text": [
      "38 ms ± 179 µs per loop (mean ± std. dev. of 7 runs, 10 loops each)\n",
      "47.3 ms ± 852 µs per loop (mean ± std. dev. of 7 runs, 1 loop each)\n",
      "94.6 ms ± 237 µs per loop (mean ± std. dev. of 7 runs, 10 loops each)\n",
      "68.4 ms ± 511 µs per loop (mean ± std. dev. of 7 runs, 10 loops each)\n",
      "40.1 ms ± 161 µs per loop (mean ± std. dev. of 7 runs, 10 loops each)\n",
      "90.3 ms ± 1.48 ms per loop (mean ± std. dev. of 7 runs, 10 loops each)\n"
     ]
    }
   ],
   "source": [
    "# Calculates stats for one column with caching enabled\n",
    "vbt.settings.caching.enabled = True\n",
    "%timeit big_portfolio.iloc[0].stats()\n",
    "%timeit big_portfolio_grouped.iloc[0].stats(group_by=False, column=0)\n",
    "%timeit big_portfolio_shared.iloc[0].stats(group_by=False, column=0)\n",
    "\n",
    "%timeit big_portfolio.iloc[0].stats(group_by=np.array([0]))\n",
    "%timeit big_portfolio_grouped.iloc[0].stats()\n",
    "%timeit big_portfolio_shared.iloc[0].stats()\n",
    "vbt.settings.caching.enabled = False"
   ]
  },
  {
   "cell_type": "code",
   "execution_count": 16,
   "metadata": {},
   "outputs": [
    {
     "name": "stdout",
     "output_type": "stream",
     "text": [
      "560 ms ± 29.3 ms per loop (mean ± std. dev. of 7 runs, 1 loop each)\n",
      "554 ms ± 13.2 ms per loop (mean ± std. dev. of 7 runs, 1 loop each)\n",
      "609 ms ± 4.04 ms per loop (mean ± std. dev. of 7 runs, 1 loop each)\n",
      "676 ms ± 10.3 ms per loop (mean ± std. dev. of 7 runs, 1 loop each)\n",
      "635 ms ± 12.1 ms per loop (mean ± std. dev. of 7 runs, 1 loop each)\n",
      "741 ms ± 14.1 ms per loop (mean ± std. dev. of 7 runs, 1 loop each)\n"
     ]
    }
   ],
   "source": [
    "# Calculates stats for all columns and selects one, takes advantage of caching (which is disabled here)\n",
    "# Thus some series are re-calculated multiple times, such as records and returns\n",
    "%timeit big_portfolio.stats(column=0)\n",
    "%timeit big_portfolio_grouped.stats(group_by=False, column=0)\n",
    "%timeit big_portfolio_shared.stats(group_by=False, column=0)\n",
    "\n",
    "%timeit big_portfolio.stats(group_by=big_group_by, column=0)\n",
    "%timeit big_portfolio_grouped.stats(column=0)\n",
    "%timeit big_portfolio_shared.stats(column=0)"
   ]
  },
  {
   "cell_type": "code",
   "execution_count": 17,
   "metadata": {},
   "outputs": [
    {
     "name": "stdout",
     "output_type": "stream",
     "text": [
      "Start                        2020-01-01 00:00:00\n",
      "End                          2020-01-05 00:00:00\n",
      "Period                           5 days 00:00:00\n",
      "Total Return [%]                        -1.11123\n",
      "Benchmark Return [%]                  283.333333\n",
      "Annualized Return [%]                  42.313666\n",
      "Annualized Volatility [%]               9.984895\n",
      "Max Drawdown [%]                        1.645124\n",
      "Max Drawdown Duration            3 days 08:00:00\n",
      "Sharpe Ratio                           -6.751008\n",
      "Calmar Ratio                        10378.930331\n",
      "Omega Ratio                               4.7687\n",
      "Sortino Ratio                          31.599761\n",
      "Skew                                   -0.399797\n",
      "Kurtosis                               -1.202541\n",
      "Tail Ratio                              3.164402\n",
      "Common Sense Ratio                     10.883528\n",
      "Value at Risk                           -0.00799\n",
      "Alpha                                   -0.35365\n",
      "Beta                                   -0.001234\n",
      "Name: agg_func_mean, dtype: object\n"
     ]
    },
    {
     "name": "stderr",
     "output_type": "stream",
     "text": [
      "/Users/olegpolakow/Documents/SourceTree/vectorbt/vectorbt/portfolio/base.py:4618: UserWarning: Object has multiple columns. Aggregating using <function mean at 0x7ffd1144a620>. Pass column to select a single column/group.\n",
      "  return getattr(returns_acc, 'stats')(settings=settings, **kwargs)\n"
     ]
    }
   ],
   "source": [
    "print(portfolio.returns_stats())  # mean statistics"
   ]
  },
  {
   "cell_type": "code",
   "execution_count": 18,
   "metadata": {},
   "outputs": [
    {
     "name": "stdout",
     "output_type": "stream",
     "text": [
      "Start                        2020-01-01 00:00:00\n",
      "End                          2020-01-05 00:00:00\n",
      "Period                           5 days 00:00:00\n",
      "Total Return [%]                        -0.31049\n",
      "Benchmark Return [%]                       150.0\n",
      "Annualized Return [%]                 -20.308743\n",
      "Annualized Volatility [%]               1.704408\n",
      "Max Drawdown [%]                         0.31049\n",
      "Max Drawdown Duration            4 days 00:00:00\n",
      "Sharpe Ratio                          -13.308045\n",
      "Calmar Ratio                          -65.408686\n",
      "Omega Ratio                                  0.0\n",
      "Sortino Ratio                         -11.738865\n",
      "Skew                                   -1.219107\n",
      "Kurtosis                                0.122976\n",
      "Tail Ratio                                   0.0\n",
      "Common Sense Ratio                           0.0\n",
      "Value at Risk                          -0.001814\n",
      "Alpha                                  -0.248883\n",
      "Beta                                    0.000749\n",
      "Name: a, dtype: object\n"
     ]
    }
   ],
   "source": [
    "print(portfolio['a'].returns_stats())"
   ]
  },
  {
   "cell_type": "code",
   "execution_count": 19,
   "metadata": {},
   "outputs": [
    {
     "name": "stdout",
     "output_type": "stream",
     "text": [
      "Start                        2020-01-01 00:00:00\n",
      "End                          2020-01-05 00:00:00\n",
      "Period                           5 days 00:00:00\n",
      "Total Return [%]                       -2.520955\n",
      "Benchmark Return [%]                       275.0\n",
      "Annualized Return [%]                 -84.493192\n",
      "Annualized Volatility [%]               9.234269\n",
      "Max Drawdown [%]                        2.462481\n",
      "Max Drawdown Duration            4 days 00:00:00\n",
      "Sharpe Ratio                          -20.095907\n",
      "Calmar Ratio                          -34.312217\n",
      "Omega Ratio                                  0.0\n",
      "Sortino Ratio                         -14.554512\n",
      "Skew                                   -0.254782\n",
      "Kurtosis                               -1.363876\n",
      "Tail Ratio                              0.013427\n",
      "Common Sense Ratio                      0.002082\n",
      "Value at Risk                           -0.01072\n",
      "Alpha                                  -0.053947\n",
      "Beta                                   -0.015121\n",
      "Name: first, dtype: object\n"
     ]
    }
   ],
   "source": [
    "print(portfolio_grouped['first'].returns_stats())"
   ]
  },
  {
   "cell_type": "code",
   "execution_count": 20,
   "metadata": {},
   "outputs": [],
   "source": [
    "pd.testing.assert_series_equal(\n",
    "    portfolio['c'].returns_stats(), \n",
    "    portfolio.returns_stats(column='c'))\n",
    "pd.testing.assert_series_equal(\n",
    "    portfolio['c'].returns_stats(), \n",
    "    portfolio_grouped.returns_stats(column='c', group_by=False))\n",
    "pd.testing.assert_series_equal(\n",
    "    portfolio_grouped['second'].returns_stats(), \n",
    "    portfolio_grouped.returns_stats(column='second'))"
   ]
  },
  {
   "cell_type": "code",
   "execution_count": 8,
   "metadata": {},
   "outputs": [
    {
     "data": {
      "image/svg+xml": [
       "<svg class=\"main-svg\" xmlns=\"http://www.w3.org/2000/svg\" xmlns:xlink=\"http://www.w3.org/1999/xlink\" width=\"750\" height=\"960\" style=\"\" viewBox=\"0 0 750 960\"><rect x=\"0\" y=\"0\" width=\"750\" height=\"960\" style=\"fill: rgb(255, 255, 255); fill-opacity: 1;\"/><defs id=\"defs-b6a393\"><g class=\"clips\"><clipPath id=\"clipb6a393xyplot\" class=\"plotclip\"><rect width=\"625\" height=\"249.6388888888889\"/></clipPath><clipPath id=\"clipb6a393x2y2plot\" class=\"plotclip\"><rect width=\"625\" height=\"249.63888888888883\"/></clipPath><clipPath id=\"clipb6a393x3y3plot\" class=\"plotclip\"><rect width=\"625\" height=\"249.63888888888886\"/></clipPath><clipPath class=\"axesclip\" id=\"clipb6a393x\"><rect x=\"95\" y=\"0\" width=\"625\" height=\"960\"/></clipPath><clipPath class=\"axesclip\" id=\"clipb6a393y\"><rect x=\"0\" y=\"75\" width=\"750\" height=\"249.6388888888889\"/></clipPath><clipPath class=\"axesclip\" id=\"clipb6a393xy\"><rect x=\"95\" y=\"75\" width=\"625\" height=\"249.6388888888889\"/></clipPath><clipPath class=\"axesclip\" id=\"clipb6a393y2\"><rect x=\"0\" y=\"358.68055555555566\" width=\"750\" height=\"249.63888888888883\"/></clipPath><clipPath class=\"axesclip\" id=\"clipb6a393xy2\"><rect x=\"95\" y=\"358.68055555555566\" width=\"625\" height=\"249.63888888888883\"/></clipPath><clipPath class=\"axesclip\" id=\"clipb6a393y3\"><rect x=\"0\" y=\"642.3611111111111\" width=\"750\" height=\"249.63888888888886\"/></clipPath><clipPath class=\"axesclip\" id=\"clipb6a393xy3\"><rect x=\"95\" y=\"642.3611111111111\" width=\"625\" height=\"249.63888888888886\"/></clipPath><clipPath class=\"axesclip\" id=\"clipb6a393x2\"><rect x=\"95\" y=\"0\" width=\"625\" height=\"960\"/></clipPath><clipPath class=\"axesclip\" id=\"clipb6a393x2y\"><rect x=\"95\" y=\"75\" width=\"625\" height=\"249.6388888888889\"/></clipPath><clipPath class=\"axesclip\" id=\"clipb6a393x2y2\"><rect x=\"95\" y=\"358.68055555555566\" width=\"625\" height=\"249.63888888888883\"/></clipPath><clipPath class=\"axesclip\" id=\"clipb6a393x2y3\"><rect x=\"95\" y=\"642.3611111111111\" width=\"625\" height=\"249.63888888888886\"/></clipPath><clipPath class=\"axesclip\" id=\"clipb6a393x3\"><rect x=\"95\" y=\"0\" width=\"625\" height=\"960\"/></clipPath><clipPath class=\"axesclip\" id=\"clipb6a393x3y\"><rect x=\"95\" y=\"75\" width=\"625\" height=\"249.6388888888889\"/></clipPath><clipPath class=\"axesclip\" id=\"clipb6a393x3y2\"><rect x=\"95\" y=\"358.68055555555566\" width=\"625\" height=\"249.63888888888883\"/></clipPath><clipPath class=\"axesclip\" id=\"clipb6a393x3y3\"><rect x=\"95\" y=\"642.3611111111111\" width=\"625\" height=\"249.63888888888886\"/></clipPath></g><g class=\"gradients\"/><g class=\"patterns\"/></defs><g class=\"bglayer\"><rect class=\"bg\" x=\"95\" y=\"75\" width=\"625\" height=\"249.6388888888889\" style=\"fill: rgb(229, 236, 246); fill-opacity: 1; stroke-width: 0;\"/><rect class=\"bg\" x=\"95\" y=\"358.68055555555566\" width=\"625\" height=\"249.63888888888883\" style=\"fill: rgb(229, 236, 246); fill-opacity: 1; stroke-width: 0;\"/><rect class=\"bg\" x=\"95\" y=\"642.3611111111111\" width=\"625\" height=\"249.63888888888886\" style=\"fill: rgb(229, 236, 246); fill-opacity: 1; stroke-width: 0;\"/></g><g class=\"layer-below\"><g class=\"imagelayer\"/><g class=\"shapelayer\"/></g><g class=\"cartesianlayer\"><g class=\"subplot xy\"><g class=\"layer-subplot\"><g class=\"shapelayer\"/><g class=\"imagelayer\"/></g><g class=\"gridlayer\"><g class=\"x\"><path class=\"xgrid crisp\" transform=\"translate(130,0)\" d=\"M0,75v249.6388888888889\" style=\"stroke: rgb(255, 255, 255); stroke-opacity: 1; stroke-width: 1px;\"/><path class=\"xgrid crisp\" transform=\"translate(268.44,0)\" d=\"M0,75v249.6388888888889\" style=\"stroke: rgb(255, 255, 255); stroke-opacity: 1; stroke-width: 1px;\"/><path class=\"xgrid crisp\" transform=\"translate(406.87,0)\" d=\"M0,75v249.6388888888889\" style=\"stroke: rgb(255, 255, 255); stroke-opacity: 1; stroke-width: 1px;\"/><path class=\"xgrid crisp\" transform=\"translate(545.31,0)\" d=\"M0,75v249.6388888888889\" style=\"stroke: rgb(255, 255, 255); stroke-opacity: 1; stroke-width: 1px;\"/><path class=\"xgrid crisp\" transform=\"translate(683.75,0)\" d=\"M0,75v249.6388888888889\" style=\"stroke: rgb(255, 255, 255); stroke-opacity: 1; stroke-width: 1px;\"/></g><g class=\"y\"><path class=\"ygrid crisp\" transform=\"translate(0,308.40999999999997)\" d=\"M95,0h625\" style=\"stroke: rgb(255, 255, 255); stroke-opacity: 1; stroke-width: 1px;\"/><path class=\"ygrid crisp\" transform=\"translate(0,273.01)\" d=\"M95,0h625\" style=\"stroke: rgb(255, 255, 255); stroke-opacity: 1; stroke-width: 1px;\"/><path class=\"ygrid crisp\" transform=\"translate(0,237.61)\" d=\"M95,0h625\" style=\"stroke: rgb(255, 255, 255); stroke-opacity: 1; stroke-width: 1px;\"/><path class=\"ygrid crisp\" transform=\"translate(0,202.20999999999998)\" d=\"M95,0h625\" style=\"stroke: rgb(255, 255, 255); stroke-opacity: 1; stroke-width: 1px;\"/><path class=\"ygrid crisp\" transform=\"translate(0,166.82)\" d=\"M95,0h625\" style=\"stroke: rgb(255, 255, 255); stroke-opacity: 1; stroke-width: 1px;\"/><path class=\"ygrid crisp\" transform=\"translate(0,131.42000000000002)\" d=\"M95,0h625\" style=\"stroke: rgb(255, 255, 255); stroke-opacity: 1; stroke-width: 1px;\"/><path class=\"ygrid crisp\" transform=\"translate(0,96.02)\" d=\"M95,0h625\" style=\"stroke: rgb(255, 255, 255); stroke-opacity: 1; stroke-width: 1px;\"/></g></g><g class=\"zerolinelayer\"/><path class=\"xlines-below\"/><path class=\"ylines-below\"/><g class=\"overlines-below\"/><g class=\"xaxislayer-below\"/><g class=\"yaxislayer-below\"/><g class=\"overaxes-below\"/><g class=\"plot\" transform=\"translate(95,75)\" clip-path=\"url(#clipb6a393xyplot)\"><g class=\"scatterlayer mlayer\"><g class=\"trace scatter trace53c90cfb-c878-4528-813e-bde7afacd426\" style=\"stroke-miterlimit: 2; opacity: 1;\"><g class=\"fills\"/><g class=\"errorbars\"/><g class=\"lines\"><path class=\"js-line\" d=\"M173.44,233.41L588.75,21.02\" style=\"vector-effect: non-scaling-stroke; fill: none; stroke: rgb(31, 119, 180); stroke-opacity: 1; stroke-width: 2px; opacity: 1;\"/></g><g class=\"points\"><path class=\"point\" transform=\"translate(173.44,233.41)\" d=\"M3,0A3,3 0 1,1 0,-3A3,3 0 0,1 3,0Z\" style=\"opacity: 1; stroke-width: 0px; fill: rgb(31, 119, 180); fill-opacity: 1;\"/><path class=\"point\" transform=\"translate(311.87,162.61)\" d=\"M3,0A3,3 0 1,1 0,-3A3,3 0 0,1 3,0Z\" style=\"opacity: 1; stroke-width: 0px; fill: rgb(31, 119, 180); fill-opacity: 1;\"/><path class=\"point\" transform=\"translate(450.31,91.82)\" d=\"M3,0A3,3 0 1,1 0,-3A3,3 0 0,1 3,0Z\" style=\"opacity: 1; stroke-width: 0px; fill: rgb(31, 119, 180); fill-opacity: 1;\"/><path class=\"point\" transform=\"translate(588.75,21.02)\" d=\"M3,0A3,3 0 1,1 0,-3A3,3 0 0,1 3,0Z\" style=\"opacity: 1; stroke-width: 0px; fill: rgb(31, 119, 180); fill-opacity: 1;\"/></g><g class=\"text\"/></g><g class=\"trace scatter trace47dc5e8e-e00a-4d4a-81fc-2f5e43e5bfb1\" style=\"stroke-miterlimit: 2; opacity: 1;\"><g class=\"fills\"/><g class=\"errorbars\"/><g class=\"lines\"/><g class=\"points\"><path class=\"point plotly-customdata\" transform=\"translate(173.44,231.99)\" d=\"M-4.62,2H4.62L0,-4Z\" style=\"opacity: 1; stroke-width: 1px; fill: rgb(55, 177, 63); fill-opacity: 1; stroke: rgb(38, 123, 44); stroke-opacity: 1;\"/><path class=\"point plotly-customdata\" transform=\"translate(588.75,17.48)\" d=\"M-4.62,2H4.62L0,-4Z\" style=\"opacity: 1; stroke-width: 1px; fill: rgb(55, 177, 63); fill-opacity: 1; stroke: rgb(38, 123, 44); stroke-opacity: 1;\"/></g><g class=\"text\"/></g><g class=\"trace scatter trace1a3a3a36-3074-4013-bb5a-1d5b99148062\" style=\"stroke-miterlimit: 2; opacity: 1;\"><g class=\"fills\"/><g class=\"errorbars\"/><g class=\"lines\"/><g class=\"points\"><path class=\"point plotly-customdata\" transform=\"translate(311.87,164.74)\" d=\"M-4.62,-2H4.62L0,4Z\" style=\"opacity: 1; stroke-width: 1px; fill: rgb(234, 67, 53); fill-opacity: 1; stroke: rgb(181, 31, 18); stroke-opacity: 1;\"/></g><g class=\"text\"/></g></g></g><g class=\"overplot\"/><path class=\"xlines-above crisp\" d=\"M0,0\" style=\"fill: none;\"/><path class=\"ylines-above crisp\" d=\"M0,0\" style=\"fill: none;\"/><g class=\"overlines-above\"/><g class=\"xaxislayer-above\"/><g class=\"yaxislayer-above\"><g class=\"ytick\"><text text-anchor=\"end\" x=\"94\" y=\"4.199999999999999\" transform=\"translate(0,308.40999999999997)\" style=\"font-family: 'Open Sans', verdana, arial, sans-serif; font-size: 12px; fill: rgb(42, 63, 95); fill-opacity: 1; white-space: pre; opacity: 1;\">2</text></g><g class=\"ytick\"><text text-anchor=\"end\" x=\"94\" y=\"4.199999999999999\" style=\"font-family: 'Open Sans', verdana, arial, sans-serif; font-size: 12px; fill: rgb(42, 63, 95); fill-opacity: 1; white-space: pre; opacity: 1;\" transform=\"translate(0,273.01)\">2.5</text></g><g class=\"ytick\"><text text-anchor=\"end\" x=\"94\" y=\"4.199999999999999\" style=\"font-family: 'Open Sans', verdana, arial, sans-serif; font-size: 12px; fill: rgb(42, 63, 95); fill-opacity: 1; white-space: pre; opacity: 1;\" transform=\"translate(0,237.61)\">3</text></g><g class=\"ytick\"><text text-anchor=\"end\" x=\"94\" y=\"4.199999999999999\" style=\"font-family: 'Open Sans', verdana, arial, sans-serif; font-size: 12px; fill: rgb(42, 63, 95); fill-opacity: 1; white-space: pre; opacity: 1;\" transform=\"translate(0,202.20999999999998)\">3.5</text></g><g class=\"ytick\"><text text-anchor=\"end\" x=\"94\" y=\"4.199999999999999\" style=\"font-family: 'Open Sans', verdana, arial, sans-serif; font-size: 12px; fill: rgb(42, 63, 95); fill-opacity: 1; white-space: pre; opacity: 1;\" transform=\"translate(0,166.82)\">4</text></g><g class=\"ytick\"><text text-anchor=\"end\" x=\"94\" y=\"4.199999999999999\" style=\"font-family: 'Open Sans', verdana, arial, sans-serif; font-size: 12px; fill: rgb(42, 63, 95); fill-opacity: 1; white-space: pre; opacity: 1;\" transform=\"translate(0,131.42000000000002)\">4.5</text></g><g class=\"ytick\"><text text-anchor=\"end\" x=\"94\" y=\"4.199999999999999\" style=\"font-family: 'Open Sans', verdana, arial, sans-serif; font-size: 12px; fill: rgb(42, 63, 95); fill-opacity: 1; white-space: pre; opacity: 1;\" transform=\"translate(0,96.02)\">5</text></g></g><g class=\"overaxes-above\"/></g><g class=\"subplot x2y2\"><g class=\"layer-subplot\"><g class=\"shapelayer\"/><g class=\"imagelayer\"/></g><g class=\"gridlayer\"><g class=\"x2\"><path class=\"x2grid crisp\" transform=\"translate(130,0)\" d=\"M0,358.68055555555566v249.63888888888883\" style=\"stroke: rgb(255, 255, 255); stroke-opacity: 1; stroke-width: 1px;\"/><path class=\"x2grid crisp\" transform=\"translate(268.44,0)\" d=\"M0,358.68055555555566v249.63888888888883\" style=\"stroke: rgb(255, 255, 255); stroke-opacity: 1; stroke-width: 1px;\"/><path class=\"x2grid crisp\" transform=\"translate(406.87,0)\" d=\"M0,358.68055555555566v249.63888888888883\" style=\"stroke: rgb(255, 255, 255); stroke-opacity: 1; stroke-width: 1px;\"/><path class=\"x2grid crisp\" transform=\"translate(545.31,0)\" d=\"M0,358.68055555555566v249.63888888888883\" style=\"stroke: rgb(255, 255, 255); stroke-opacity: 1; stroke-width: 1px;\"/><path class=\"x2grid crisp\" transform=\"translate(683.75,0)\" d=\"M0,358.68055555555566v249.63888888888883\" style=\"stroke: rgb(255, 255, 255); stroke-opacity: 1; stroke-width: 1px;\"/></g><g class=\"y2\"><path class=\"y2grid crisp\" transform=\"translate(0,568.5005555555556)\" d=\"M95,0h625\" style=\"stroke: rgb(255, 255, 255); stroke-opacity: 1; stroke-width: 1px;\"/><path class=\"y2grid crisp\" transform=\"translate(0,526.7405555555556)\" d=\"M95,0h625\" style=\"stroke: rgb(255, 255, 255); stroke-opacity: 1; stroke-width: 1px;\"/><path class=\"y2grid crisp\" transform=\"translate(0,484.9705555555557)\" d=\"M95,0h625\" style=\"stroke: rgb(255, 255, 255); stroke-opacity: 1; stroke-width: 1px;\"/><path class=\"y2grid crisp\" transform=\"translate(0,443.21055555555563)\" d=\"M95,0h625\" style=\"stroke: rgb(255, 255, 255); stroke-opacity: 1; stroke-width: 1px;\"/><path class=\"y2grid crisp\" transform=\"translate(0,401.44055555555565)\" d=\"M95,0h625\" style=\"stroke: rgb(255, 255, 255); stroke-opacity: 1; stroke-width: 1px;\"/></g></g><g class=\"zerolinelayer\"><path class=\"y2zl zl crisp\" transform=\"translate(0,359.68055555555566)\" d=\"M95,0h625\" style=\"stroke: rgb(255, 255, 255); stroke-opacity: 1; stroke-width: 2px;\"/></g><path class=\"xlines-below\"/><path class=\"ylines-below\"/><g class=\"overlines-below\"/><g class=\"xaxislayer-below\"/><g class=\"yaxislayer-below\"/><g class=\"overaxes-below\"/><g class=\"plot\" transform=\"translate(95,358.68055555555566)\" clip-path=\"url(#clipb6a393x2y2plot)\"><g class=\"scatterlayer mlayer\"><g class=\"trace scatter tracefa2bc0e9-ef16-4dad-bcf8-5d45e4b52516\" style=\"stroke-miterlimit: 2; opacity: 1;\"><g class=\"fills\"/><g class=\"errorbars\"/><g class=\"lines\"/><g class=\"points\"><path class=\"point plotly-customdata\" transform=\"translate(311.87,228.41)\" d=\"M7,0A7,7 0 1,1 0,-7A7,7 0 0,1 7,0Z\" style=\"opacity: 0.9; stroke-width: 1px; fill: rgb(234, 67, 53); fill-opacity: 1; stroke: rgb(181, 31, 18); stroke-opacity: 1;\"/></g><g class=\"text\"/></g><g class=\"trace scatter trace7d862395-5654-4585-b663-0426c90d7ff4\" style=\"stroke-miterlimit: 2; opacity: 1;\"><g class=\"fills\"/><g class=\"errorbars\"/><g class=\"lines\"/><g class=\"points\"><path class=\"point plotly-customdata\" transform=\"translate(588.75,17.58)\" d=\"M3.5,0A3.5,3.5 0 1,1 0,-3.5A3.5,3.5 0 0,1 3.5,0Z\" style=\"opacity: 0.75; stroke-width: 1px; fill: rgb(255, 170, 0); fill-opacity: 1; stroke: rgb(178, 118, 0); stroke-opacity: 1;\"/></g><g class=\"text\"/></g></g></g><g class=\"overplot\"/><path class=\"xlines-above crisp\" d=\"M0,0\" style=\"fill: none;\"/><path class=\"ylines-above crisp\" d=\"M0,0\" style=\"fill: none;\"/><g class=\"overlines-above\"/><g class=\"xaxislayer-above\"/><g class=\"yaxislayer-above\"><g class=\"y2tick\"><text text-anchor=\"end\" x=\"94\" y=\"4.199999999999999\" transform=\"translate(0,568.5005555555556)\" style=\"font-family: 'Open Sans', verdana, arial, sans-serif; font-size: 12px; fill: rgb(42, 63, 95); fill-opacity: 1; white-space: pre; opacity: 1;\">−50.00%</text></g><g class=\"y2tick\"><text text-anchor=\"end\" x=\"94\" y=\"4.199999999999999\" style=\"font-family: 'Open Sans', verdana, arial, sans-serif; font-size: 12px; fill: rgb(42, 63, 95); fill-opacity: 1; white-space: pre; opacity: 1;\" transform=\"translate(0,526.7405555555556)\">−40.00%</text></g><g class=\"y2tick\"><text text-anchor=\"end\" x=\"94\" y=\"4.199999999999999\" style=\"font-family: 'Open Sans', verdana, arial, sans-serif; font-size: 12px; fill: rgb(42, 63, 95); fill-opacity: 1; white-space: pre; opacity: 1;\" transform=\"translate(0,484.9705555555557)\">−30.00%</text></g><g class=\"y2tick\"><text text-anchor=\"end\" x=\"94\" y=\"4.199999999999999\" style=\"font-family: 'Open Sans', verdana, arial, sans-serif; font-size: 12px; fill: rgb(42, 63, 95); fill-opacity: 1; white-space: pre; opacity: 1;\" transform=\"translate(0,443.21055555555563)\">−20.00%</text></g><g class=\"y2tick\"><text text-anchor=\"end\" x=\"94\" y=\"4.199999999999999\" style=\"font-family: 'Open Sans', verdana, arial, sans-serif; font-size: 12px; fill: rgb(42, 63, 95); fill-opacity: 1; white-space: pre; opacity: 1;\" transform=\"translate(0,401.44055555555565)\">−10.00%</text></g><g class=\"y2tick\"><text text-anchor=\"end\" x=\"94\" y=\"4.199999999999999\" style=\"font-family: 'Open Sans', verdana, arial, sans-serif; font-size: 12px; fill: rgb(42, 63, 95); fill-opacity: 1; white-space: pre; opacity: 1;\" transform=\"translate(0,359.68055555555566)\">0.00%</text></g></g><g class=\"overaxes-above\"/></g><g class=\"subplot x3y3\"><g class=\"layer-subplot\"><g class=\"shapelayer\"/><g class=\"imagelayer\"/></g><g class=\"gridlayer\"><g class=\"x3\"><path class=\"x3grid crisp\" transform=\"translate(130,0)\" d=\"M0,642.3611111111111v249.63888888888886\" style=\"stroke: rgb(255, 255, 255); stroke-opacity: 1; stroke-width: 1px;\"/><path class=\"x3grid crisp\" transform=\"translate(268.44,0)\" d=\"M0,642.3611111111111v249.63888888888886\" style=\"stroke: rgb(255, 255, 255); stroke-opacity: 1; stroke-width: 1px;\"/><path class=\"x3grid crisp\" transform=\"translate(406.87,0)\" d=\"M0,642.3611111111111v249.63888888888886\" style=\"stroke: rgb(255, 255, 255); stroke-opacity: 1; stroke-width: 1px;\"/><path class=\"x3grid crisp\" transform=\"translate(545.31,0)\" d=\"M0,642.3611111111111v249.63888888888886\" style=\"stroke: rgb(255, 255, 255); stroke-opacity: 1; stroke-width: 1px;\"/><path class=\"x3grid crisp\" transform=\"translate(683.75,0)\" d=\"M0,642.3611111111111v249.63888888888886\" style=\"stroke: rgb(255, 255, 255); stroke-opacity: 1; stroke-width: 1px;\"/></g><g class=\"y3\"><path class=\"y3grid crisp\" transform=\"translate(0,875.3211111111111)\" d=\"M95,0h625\" style=\"stroke: rgb(255, 255, 255); stroke-opacity: 1; stroke-width: 1px;\"/><path class=\"y3grid crisp\" transform=\"translate(0,803.0811111111111)\" d=\"M95,0h625\" style=\"stroke: rgb(255, 255, 255); stroke-opacity: 1; stroke-width: 1px;\"/><path class=\"y3grid crisp\" transform=\"translate(0,730.8311111111111)\" d=\"M95,0h625\" style=\"stroke: rgb(255, 255, 255); stroke-opacity: 1; stroke-width: 1px;\"/><path class=\"y3grid crisp\" transform=\"translate(0,658.5911111111111)\" d=\"M95,0h625\" style=\"stroke: rgb(255, 255, 255); stroke-opacity: 1; stroke-width: 1px;\"/></g></g><g class=\"zerolinelayer\"/><path class=\"xlines-below\"/><path class=\"ylines-below\"/><g class=\"overlines-below\"/><g class=\"xaxislayer-below\"/><g class=\"yaxislayer-below\"/><g class=\"overaxes-below\"/><g class=\"plot\" transform=\"translate(95,642.3611111111111)\" clip-path=\"url(#clipb6a393x3y3plot)\"><g class=\"scatterlayer mlayer\"><g class=\"trace scatter trace9dae4667-0108-4d4e-9de1-9222340b6d5c\" style=\"stroke-miterlimit: 2; opacity: 1;\"><g class=\"fills\"/><g class=\"errorbars\"/><g class=\"lines\"><path class=\"js-line\" d=\"M35,232.96L173.44,232.96L311.87,160.72L588.75,16.23\" style=\"vector-effect: non-scaling-stroke; fill: none; stroke: rgb(127, 127, 127); stroke-opacity: 1; stroke-width: 2px; opacity: 1;\"/></g><g class=\"points\"><path class=\"point\" transform=\"translate(35,232.96)\" d=\"M3,0A3,3 0 1,1 0,-3A3,3 0 0,1 3,0Z\" style=\"opacity: 1; stroke-width: 0px; fill: rgb(127, 127, 127); fill-opacity: 1;\"/><path class=\"point\" transform=\"translate(173.44,232.96)\" d=\"M3,0A3,3 0 1,1 0,-3A3,3 0 0,1 3,0Z\" style=\"opacity: 1; stroke-width: 0px; fill: rgb(127, 127, 127); fill-opacity: 1;\"/><path class=\"point\" transform=\"translate(311.87,160.72)\" d=\"M3,0A3,3 0 1,1 0,-3A3,3 0 0,1 3,0Z\" style=\"opacity: 1; stroke-width: 0px; fill: rgb(127, 127, 127); fill-opacity: 1;\"/><path class=\"point\" transform=\"translate(450.31,88.47)\" d=\"M3,0A3,3 0 1,1 0,-3A3,3 0 0,1 3,0Z\" style=\"opacity: 1; stroke-width: 0px; fill: rgb(127, 127, 127); fill-opacity: 1;\"/><path class=\"point\" transform=\"translate(588.75,16.23)\" d=\"M3,0A3,3 0 1,1 0,-3A3,3 0 0,1 3,0Z\" style=\"opacity: 1; stroke-width: 0px; fill: rgb(127, 127, 127); fill-opacity: 1;\"/></g><g class=\"text\"/></g><g class=\"trace scatter trace4cad78a5-d0a3-4cb5-a517-bf717afd54cd\" style=\"stroke-miterlimit: 2;\"><g class=\"fills\"><g><path class=\"js-fill\" d=\"M35,232.96L588.75,233.41L588.75,232.96L35,232.96Z\" style=\"fill: rgb(255, 0, 0); fill-opacity: 0.3; stroke-width: 0;\"/></g></g><g class=\"errorbars\"/><g class=\"lines\"><path class=\"js-line\" d=\"M35,232.96L588.75,232.96\" style=\"vector-effect: non-scaling-stroke; fill: none; stroke: rgb(0, 0, 0); stroke-opacity: 0; stroke-width: 0px; opacity: 1;\"/></g><g class=\"points\"><path class=\"point\" transform=\"translate(35,232.96)\" d=\"M3,0A3,3 0 1,1 0,-3A3,3 0 0,1 3,0Z\" style=\"opacity: 1; stroke-width: 0px; fill: rgb(0, 0, 0); fill-opacity: 0;\"/><path class=\"point\" transform=\"translate(173.44,232.96)\" d=\"M3,0A3,3 0 1,1 0,-3A3,3 0 0,1 3,0Z\" style=\"opacity: 1; stroke-width: 0px; fill: rgb(0, 0, 0); fill-opacity: 0;\"/><path class=\"point\" transform=\"translate(311.87,232.96)\" d=\"M3,0A3,3 0 1,1 0,-3A3,3 0 0,1 3,0Z\" style=\"opacity: 1; stroke-width: 0px; fill: rgb(0, 0, 0); fill-opacity: 0;\"/><path class=\"point\" transform=\"translate(450.31,232.96)\" d=\"M3,0A3,3 0 1,1 0,-3A3,3 0 0,1 3,0Z\" style=\"opacity: 1; stroke-width: 0px; fill: rgb(0, 0, 0); fill-opacity: 0;\"/><path class=\"point\" transform=\"translate(588.75,232.96)\" d=\"M3,0A3,3 0 1,1 0,-3A3,3 0 0,1 3,0Z\" style=\"opacity: 1; stroke-width: 0px; fill: rgb(0, 0, 0); fill-opacity: 0;\"/></g><g class=\"text\"/></g><g class=\"trace scatter trace6d30713e-96e0-465e-aadd-e3f3a99b5106\" style=\"stroke-miterlimit: 2;\"><g class=\"fills\"/><g class=\"errorbars\"/><g class=\"lines\"><path class=\"js-line\" d=\"M35,232.96L588.75,233.41\" style=\"vector-effect: non-scaling-stroke; fill: none; stroke: rgb(0, 0, 0); stroke-opacity: 0; stroke-width: 0px; opacity: 1;\"/></g><g class=\"points\"><path class=\"point\" transform=\"translate(35,232.96)\" d=\"M3,0A3,3 0 1,1 0,-3A3,3 0 0,1 3,0Z\" style=\"opacity: 1; stroke-width: 0px; fill: rgb(0, 0, 0); fill-opacity: 0;\"/><path class=\"point\" transform=\"translate(173.44,233.11)\" d=\"M3,0A3,3 0 1,1 0,-3A3,3 0 0,1 3,0Z\" style=\"opacity: 1; stroke-width: 0px; fill: rgb(0, 0, 0); fill-opacity: 0;\"/><path class=\"point\" transform=\"translate(311.87,233.12)\" d=\"M3,0A3,3 0 1,1 0,-3A3,3 0 0,1 3,0Z\" style=\"opacity: 1; stroke-width: 0px; fill: rgb(0, 0, 0); fill-opacity: 0;\"/><path class=\"point\" transform=\"translate(450.31,233.12)\" d=\"M3,0A3,3 0 1,1 0,-3A3,3 0 0,1 3,0Z\" style=\"opacity: 1; stroke-width: 0px; fill: rgb(0, 0, 0); fill-opacity: 0;\"/><path class=\"point\" transform=\"translate(588.75,233.41)\" d=\"M3,0A3,3 0 1,1 0,-3A3,3 0 0,1 3,0Z\" style=\"opacity: 1; stroke-width: 0px; fill: rgb(0, 0, 0); fill-opacity: 0;\"/></g><g class=\"text\"/></g><g class=\"trace scatter trace9762176e-c891-4137-925b-8407d7ad9122\" style=\"stroke-miterlimit: 2; opacity: 1;\"><g class=\"fills\"/><g class=\"errorbars\"/><g class=\"lines\"><path class=\"js-line\" d=\"M35,232.96L588.75,233.41\" style=\"vector-effect: non-scaling-stroke; fill: none; stroke: rgb(148, 103, 189); stroke-opacity: 1; stroke-width: 2px; opacity: 1;\"/></g><g class=\"points\"><path class=\"point\" transform=\"translate(35,232.96)\" d=\"M3,0A3,3 0 1,1 0,-3A3,3 0 0,1 3,0Z\" style=\"opacity: 1; stroke-width: 0px; fill: rgb(148, 103, 189); fill-opacity: 1;\"/><path class=\"point\" transform=\"translate(173.44,233.11)\" d=\"M3,0A3,3 0 1,1 0,-3A3,3 0 0,1 3,0Z\" style=\"opacity: 1; stroke-width: 0px; fill: rgb(148, 103, 189); fill-opacity: 1;\"/><path class=\"point\" transform=\"translate(311.87,233.12)\" d=\"M3,0A3,3 0 1,1 0,-3A3,3 0 0,1 3,0Z\" style=\"opacity: 1; stroke-width: 0px; fill: rgb(148, 103, 189); fill-opacity: 1;\"/><path class=\"point\" transform=\"translate(450.31,233.12)\" d=\"M3,0A3,3 0 1,1 0,-3A3,3 0 0,1 3,0Z\" style=\"opacity: 1; stroke-width: 0px; fill: rgb(148, 103, 189); fill-opacity: 1;\"/><path class=\"point\" transform=\"translate(588.75,233.41)\" d=\"M3,0A3,3 0 1,1 0,-3A3,3 0 0,1 3,0Z\" style=\"opacity: 1; stroke-width: 0px; fill: rgb(148, 103, 189); fill-opacity: 1;\"/></g><g class=\"text\"/></g><g class=\"trace scatter trace58b27d0d-deb0-40b5-9b0b-a8fc434e5e49\" style=\"stroke-miterlimit: 2; opacity: 0;\"><g class=\"fills\"/><g class=\"errorbars\"/><g class=\"lines\"><path class=\"js-line\" d=\"M35,232.96L588.75,232.96\" style=\"vector-effect: non-scaling-stroke; fill: none; stroke: rgb(0, 0, 0); stroke-opacity: 0; stroke-width: 0px; opacity: 1;\"/></g><g class=\"points\"><path class=\"point\" transform=\"translate(35,232.96)\" d=\"M3,0A3,3 0 1,1 0,-3A3,3 0 0,1 3,0Z\" style=\"opacity: 1; stroke-width: 0px; fill: rgb(0, 0, 0); fill-opacity: 0;\"/><path class=\"point\" transform=\"translate(173.44,232.96)\" d=\"M3,0A3,3 0 1,1 0,-3A3,3 0 0,1 3,0Z\" style=\"opacity: 1; stroke-width: 0px; fill: rgb(0, 0, 0); fill-opacity: 0;\"/><path class=\"point\" transform=\"translate(311.87,232.96)\" d=\"M3,0A3,3 0 1,1 0,-3A3,3 0 0,1 3,0Z\" style=\"opacity: 1; stroke-width: 0px; fill: rgb(0, 0, 0); fill-opacity: 0;\"/><path class=\"point\" transform=\"translate(450.31,232.96)\" d=\"M3,0A3,3 0 1,1 0,-3A3,3 0 0,1 3,0Z\" style=\"opacity: 1; stroke-width: 0px; fill: rgb(0, 0, 0); fill-opacity: 0;\"/><path class=\"point\" transform=\"translate(588.75,232.96)\" d=\"M3,0A3,3 0 1,1 0,-3A3,3 0 0,1 3,0Z\" style=\"opacity: 1; stroke-width: 0px; fill: rgb(0, 0, 0); fill-opacity: 0;\"/></g><g class=\"text\"/></g></g></g><g class=\"overplot\"/><path class=\"xlines-above crisp\" d=\"M0,0\" style=\"fill: none;\"/><path class=\"ylines-above crisp\" d=\"M0,0\" style=\"fill: none;\"/><g class=\"overlines-above\"/><g class=\"xaxislayer-above\"><g class=\"x3tick\"><text text-anchor=\"middle\" x=\"0\" y=\"905\" transform=\"translate(130,0)\" style=\"font-family: 'Open Sans', verdana, arial, sans-serif; font-size: 12px; fill: rgb(42, 63, 95); fill-opacity: 1; white-space: pre; opacity: 1;\"><tspan class=\"line\" dy=\"0em\" x=\"0\" y=\"905\">Jan 1</tspan><tspan class=\"line\" dy=\"1.3em\" x=\"0\" y=\"905\">2020</tspan></text></g><g class=\"x3tick\"><text text-anchor=\"middle\" x=\"0\" y=\"905\" style=\"font-family: 'Open Sans', verdana, arial, sans-serif; font-size: 12px; fill: rgb(42, 63, 95); fill-opacity: 1; white-space: pre; opacity: 1;\" transform=\"translate(268.44,0)\">Jan 2</text></g><g class=\"x3tick\"><text text-anchor=\"middle\" x=\"0\" y=\"905\" style=\"font-family: 'Open Sans', verdana, arial, sans-serif; font-size: 12px; fill: rgb(42, 63, 95); fill-opacity: 1; white-space: pre; opacity: 1;\" transform=\"translate(406.87,0)\">Jan 3</text></g><g class=\"x3tick\"><text text-anchor=\"middle\" x=\"0\" y=\"905\" style=\"font-family: 'Open Sans', verdana, arial, sans-serif; font-size: 12px; fill: rgb(42, 63, 95); fill-opacity: 1; white-space: pre; opacity: 1;\" transform=\"translate(545.31,0)\">Jan 4</text></g><g class=\"x3tick\"><text text-anchor=\"middle\" x=\"0\" y=\"905\" style=\"font-family: 'Open Sans', verdana, arial, sans-serif; font-size: 12px; fill: rgb(42, 63, 95); fill-opacity: 1; white-space: pre; opacity: 1;\" transform=\"translate(683.75,0)\">Jan 5</text></g></g><g class=\"yaxislayer-above\"><g class=\"y3tick\"><text text-anchor=\"end\" x=\"94\" y=\"4.199999999999999\" transform=\"translate(0,875.3211111111111)\" style=\"font-family: 'Open Sans', verdana, arial, sans-serif; font-size: 12px; fill: rgb(42, 63, 95); fill-opacity: 1; white-space: pre; opacity: 1;\">1</text></g><g class=\"y3tick\"><text text-anchor=\"end\" x=\"94\" y=\"4.199999999999999\" style=\"font-family: 'Open Sans', verdana, arial, sans-serif; font-size: 12px; fill: rgb(42, 63, 95); fill-opacity: 1; white-space: pre; opacity: 1;\" transform=\"translate(0,803.0811111111111)\">1.5</text></g><g class=\"y3tick\"><text text-anchor=\"end\" x=\"94\" y=\"4.199999999999999\" style=\"font-family: 'Open Sans', verdana, arial, sans-serif; font-size: 12px; fill: rgb(42, 63, 95); fill-opacity: 1; white-space: pre; opacity: 1;\" transform=\"translate(0,730.8311111111111)\">2</text></g><g class=\"y3tick\"><text text-anchor=\"end\" x=\"94\" y=\"4.199999999999999\" style=\"font-family: 'Open Sans', verdana, arial, sans-serif; font-size: 12px; fill: rgb(42, 63, 95); fill-opacity: 1; white-space: pre; opacity: 1;\" transform=\"translate(0,658.5911111111111)\">2.5</text></g></g><g class=\"overaxes-above\"/></g></g><g class=\"polarlayer\"/><g class=\"ternarylayer\"/><g class=\"geolayer\"/><g class=\"funnelarealayer\"/><g class=\"pielayer\"/><g class=\"iciclelayer\"/><g class=\"treemaplayer\"/><g class=\"sunburstlayer\"/><g class=\"glimages\"/><defs id=\"topdefs-b6a393\"><g class=\"clips\"/><clipPath id=\"legendb6a393\"><rect width=\"606\" height=\"29\" x=\"0\" y=\"0\"/></clipPath></defs><g class=\"layer-above\"><g class=\"imagelayer\"/><g class=\"shapelayer\"><path data-index=\"0\" fill-rule=\"evenodd\" d=\"M95,359.68055555555566L720,359.68055555555566\" clip-path=\"url(#clipb6a393y2)\" style=\"opacity: 1; stroke: rgb(128, 128, 128); stroke-opacity: 1; fill: rgb(0, 0, 0); fill-opacity: 0; stroke-dasharray: 9px, 9px; stroke-width: 2px;\"/><path data-index=\"1\" fill-rule=\"evenodd\" d=\"M95,875.3211111111111L720,875.3211111111111\" clip-path=\"url(#clipb6a393y3)\" style=\"opacity: 1; stroke: rgb(128, 128, 128); stroke-opacity: 1; fill: rgb(0, 0, 0); fill-opacity: 0; stroke-dasharray: 9px, 9px; stroke-width: 2px;\"/></g></g><g class=\"infolayer\"><g class=\"legend\" pointer-events=\"all\" transform=\"translate(114,11.958333333333272)\"><rect class=\"bg\" shape-rendering=\"crispEdges\" style=\"stroke: rgb(68, 68, 68); stroke-opacity: 1; fill: rgb(255, 255, 255); fill-opacity: 1; stroke-width: 0px;\" width=\"606\" height=\"29\" x=\"0\" y=\"0\"/><g class=\"scrollbox\" transform=\"\" clip-path=\"url(#legendb6a393)\"><g class=\"groups\"><g class=\"traces\" transform=\"translate(0,14.5)\" style=\"opacity: 1;\"><text class=\"legendtext\" text-anchor=\"start\" x=\"40\" y=\"4.680000000000001\" style=\"font-family: 'Open Sans', verdana, arial, sans-serif; font-size: 12px; fill: rgb(42, 63, 95); fill-opacity: 1; white-space: pre;\">Close</text><g class=\"layers\" style=\"opacity: 1;\"><g class=\"legendfill\"/><g class=\"legendlines\"><path class=\"js-line\" d=\"M5,0h30\" style=\"fill: none; stroke: rgb(31, 119, 180); stroke-opacity: 1; stroke-width: 2px;\"/></g><g class=\"legendsymbols\"><g class=\"legendpoints\"><path class=\"scatterpts\" transform=\"translate(20,0)\" d=\"M3,0A3,3 0 1,1 0,-3A3,3 0 0,1 3,0Z\" style=\"opacity: 1; stroke-width: 0px; fill: rgb(31, 119, 180); fill-opacity: 1;\"/></g></g></g><rect class=\"legendtoggle\" x=\"0\" y=\"-9.5\" width=\"74.859375\" height=\"19\" style=\"fill: rgb(0, 0, 0); fill-opacity: 0;\"/></g><g class=\"traces\" transform=\"translate(77.359375,14.5)\" style=\"opacity: 1;\"><text class=\"legendtext\" text-anchor=\"start\" x=\"40\" y=\"4.680000000000001\" style=\"font-family: 'Open Sans', verdana, arial, sans-serif; font-size: 12px; fill: rgb(42, 63, 95); fill-opacity: 1; white-space: pre;\">Buy</text><g class=\"layers\" style=\"opacity: 1;\"><g class=\"legendfill\"/><g class=\"legendlines\"/><g class=\"legendsymbols\"><g class=\"legendpoints\"><path class=\"scatterpts\" transform=\"translate(20,0)\" d=\"M-4.62,2H4.62L0,-4Z\" style=\"opacity: 1; stroke-width: 1px; fill: rgb(55, 177, 63); fill-opacity: 1; stroke: rgb(38, 123, 44); stroke-opacity: 1;\"/></g></g></g><rect class=\"legendtoggle\" x=\"0\" y=\"-9.5\" width=\"65.421875\" height=\"19\" style=\"fill: rgb(0, 0, 0); fill-opacity: 0;\"/></g><g class=\"traces\" transform=\"translate(145.28125,14.5)\" style=\"opacity: 1;\"><text class=\"legendtext\" text-anchor=\"start\" x=\"40\" y=\"4.680000000000001\" style=\"font-family: 'Open Sans', verdana, arial, sans-serif; font-size: 12px; fill: rgb(42, 63, 95); fill-opacity: 1; white-space: pre;\">Sell</text><g class=\"layers\" style=\"opacity: 1;\"><g class=\"legendfill\"/><g class=\"legendlines\"/><g class=\"legendsymbols\"><g class=\"legendpoints\"><path class=\"scatterpts\" transform=\"translate(20,0)\" d=\"M-4.62,-2H4.62L0,4Z\" style=\"opacity: 1; stroke-width: 1px; fill: rgb(234, 67, 53); fill-opacity: 1; stroke: rgb(181, 31, 18); stroke-opacity: 1;\"/></g></g></g><rect class=\"legendtoggle\" x=\"0\" y=\"-9.5\" width=\"64.4375\" height=\"19\" style=\"fill: rgb(0, 0, 0); fill-opacity: 0;\"/></g><g class=\"traces\" transform=\"translate(212.21875,14.5)\" style=\"opacity: 1;\"><text class=\"legendtext\" text-anchor=\"start\" x=\"40\" y=\"4.680000000000001\" style=\"font-family: 'Open Sans', verdana, arial, sans-serif; font-size: 12px; fill: rgb(42, 63, 95); fill-opacity: 1; white-space: pre;\">Closed - Loss</text><g class=\"layers\" style=\"opacity: 1;\"><g class=\"legendfill\"/><g class=\"legendlines\"/><g class=\"legendsymbols\"><g class=\"legendpoints\"><path class=\"scatterpts\" transform=\"translate(20,0)\" d=\"M7,0A7,7 0 1,1 0,-7A7,7 0 0,1 7,0Z\" style=\"opacity: 0.9; stroke-width: 1px; fill: rgb(234, 67, 53); fill-opacity: 1; stroke: rgb(181, 31, 18); stroke-opacity: 1;\"/></g></g></g><rect class=\"legendtoggle\" x=\"0\" y=\"-9.5\" width=\"122.6875\" height=\"19\" style=\"fill: rgb(0, 0, 0); fill-opacity: 0;\"/></g><g class=\"traces\" transform=\"translate(337.40625,14.5)\" style=\"opacity: 1;\"><text class=\"legendtext\" text-anchor=\"start\" x=\"40\" y=\"4.680000000000001\" style=\"font-family: 'Open Sans', verdana, arial, sans-serif; font-size: 12px; fill: rgb(42, 63, 95); fill-opacity: 1; white-space: pre;\">Open</text><g class=\"layers\" style=\"opacity: 1;\"><g class=\"legendfill\"/><g class=\"legendlines\"/><g class=\"legendsymbols\"><g class=\"legendpoints\"><path class=\"scatterpts\" transform=\"translate(20,0)\" d=\"M3.5,0A3.5,3.5 0 1,1 0,-3.5A3.5,3.5 0 0,1 3.5,0Z\" style=\"opacity: 0.75; stroke-width: 1px; fill: rgb(255, 170, 0); fill-opacity: 1; stroke: rgb(178, 118, 0); stroke-opacity: 1;\"/></g></g></g><rect class=\"legendtoggle\" x=\"0\" y=\"-9.5\" width=\"74.171875\" height=\"19\" style=\"fill: rgb(0, 0, 0); fill-opacity: 0;\"/></g><g class=\"traces\" transform=\"translate(414.078125,14.5)\" style=\"opacity: 1;\"><text class=\"legendtext\" text-anchor=\"start\" x=\"40\" y=\"4.680000000000001\" style=\"font-family: 'Open Sans', verdana, arial, sans-serif; font-size: 12px; fill: rgb(42, 63, 95); fill-opacity: 1; white-space: pre;\">Benchmark</text><g class=\"layers\" style=\"opacity: 1;\"><g class=\"legendfill\"/><g class=\"legendlines\"><path class=\"js-line\" d=\"M5,0h30\" style=\"fill: none; stroke: rgb(127, 127, 127); stroke-opacity: 1; stroke-width: 2px;\"/></g><g class=\"legendsymbols\"><g class=\"legendpoints\"><path class=\"scatterpts\" transform=\"translate(20,0)\" d=\"M3,0A3,3 0 1,1 0,-3A3,3 0 0,1 3,0Z\" style=\"opacity: 1; stroke-width: 0px; fill: rgb(127, 127, 127); fill-opacity: 1;\"/></g></g></g><rect class=\"legendtoggle\" x=\"0\" y=\"-9.5\" width=\"110.421875\" height=\"19\" style=\"fill: rgb(0, 0, 0); fill-opacity: 0;\"/></g><g class=\"traces\" transform=\"translate(527,14.5)\" style=\"opacity: 1;\"><text class=\"legendtext\" text-anchor=\"start\" x=\"40\" y=\"4.680000000000001\" style=\"font-family: 'Open Sans', verdana, arial, sans-serif; font-size: 12px; fill: rgb(42, 63, 95); fill-opacity: 1; white-space: pre;\">Value</text><g class=\"layers\" style=\"opacity: 1;\"><g class=\"legendfill\"/><g class=\"legendlines\"><path class=\"js-line\" d=\"M5,0h30\" style=\"fill: none; stroke: rgb(148, 103, 189); stroke-opacity: 1; stroke-width: 2px;\"/></g><g class=\"legendsymbols\"><g class=\"legendpoints\"><path class=\"scatterpts\" transform=\"translate(20,0)\" d=\"M3,0A3,3 0 1,1 0,-3A3,3 0 0,1 3,0Z\" style=\"opacity: 1; stroke-width: 0px; fill: rgb(148, 103, 189); fill-opacity: 1;\"/></g></g></g><rect class=\"legendtoggle\" x=\"0\" y=\"-9.5\" width=\"75.953125\" height=\"19\" style=\"fill: rgb(0, 0, 0); fill-opacity: 0;\"/></g></g></g><rect class=\"scrollbar\" rx=\"20\" ry=\"3\" width=\"0\" height=\"0\" style=\"fill: rgb(128, 139, 164); fill-opacity: 1;\" x=\"0\" y=\"0\"/></g><g class=\"g-gtitle\"/><g class=\"g-xtitle\"/><g class=\"g-x2title\"/><g class=\"g-x3title\"><text class=\"x3title\" x=\"407.5\" y=\"947.909375\" text-anchor=\"middle\" style=\"font-family: 'Open Sans', verdana, arial, sans-serif; font-size: 14px; fill: rgb(42, 63, 95); opacity: 1; font-weight: normal; white-space: pre;\">Index</text></g><g class=\"g-ytitle\"><text class=\"ytitle\" transform=\"rotate(-90,49.575,199.81944444444446)\" x=\"49.575\" y=\"199.81944444444446\" text-anchor=\"middle\" style=\"font-family: 'Open Sans', verdana, arial, sans-serif; font-size: 14px; fill: rgb(42, 63, 95); opacity: 1; font-weight: normal; white-space: pre;\">Price</text></g><g class=\"g-y2title\" transform=\"translate(2.4248046875,0)\"><text class=\"y2title\" transform=\"rotate(-90,11.575000000000003,483.50000000000006)\" x=\"11.575000000000003\" y=\"483.50000000000006\" text-anchor=\"middle\" style=\"font-family: 'Open Sans', verdana, arial, sans-serif; font-size: 14px; fill: rgb(42, 63, 95); opacity: 1; font-weight: normal; white-space: pre;\">Trade PnL</text></g><g class=\"g-y3title\"><text class=\"y3title\" transform=\"rotate(-90,49.575,767.1805555555555)\" x=\"49.575\" y=\"767.1805555555555\" text-anchor=\"middle\" style=\"font-family: 'Open Sans', verdana, arial, sans-serif; font-size: 14px; fill: rgb(42, 63, 95); opacity: 1; font-weight: normal; white-space: pre;\">Cumulative returns</text></g><g class=\"annotation\" data-index=\"0\" style=\"opacity: 1;\"><g class=\"annotation-text-g\" transform=\"rotate(0,407.5,63)\"><g class=\"cursor-pointer\" transform=\"translate(379,51)\"><rect class=\"bg\" x=\"0.5\" y=\"0.5\" width=\"57\" height=\"23\" style=\"stroke-width: 1px; stroke: rgb(0, 0, 0); stroke-opacity: 0; fill: rgb(0, 0, 0); fill-opacity: 0;\"/><text class=\"annotation-text\" text-anchor=\"middle\" x=\"29.046875\" y=\"18\" style=\"font-family: 'Open Sans', verdana, arial, sans-serif; font-size: 16px; fill: rgb(42, 63, 95); fill-opacity: 1; white-space: pre;\">Orders</text></g></g></g><g class=\"annotation\" data-index=\"1\" style=\"opacity: 1;\"><g class=\"annotation-text-g\" transform=\"rotate(0,407.5,346.68055555555566)\"><g class=\"cursor-pointer\" transform=\"translate(366,335)\"><rect class=\"bg\" x=\"0.5\" y=\"0.5\" width=\"83\" height=\"23\" style=\"stroke-width: 1px; stroke: rgb(0, 0, 0); stroke-opacity: 0; fill: rgb(0, 0, 0); fill-opacity: 0;\"/><text class=\"annotation-text\" text-anchor=\"middle\" x=\"42.0625\" y=\"18\" style=\"font-family: 'Open Sans', verdana, arial, sans-serif; font-size: 16px; fill: rgb(42, 63, 95); fill-opacity: 1; white-space: pre;\">Trade PnL</text></g></g></g><g class=\"annotation\" data-index=\"2\" style=\"opacity: 1;\"><g class=\"annotation-text-g\" transform=\"rotate(0,407.5,630.3611111111111)\"><g class=\"cursor-pointer\" transform=\"translate(326,618)\"><rect class=\"bg\" x=\"0.5\" y=\"0.5\" width=\"162\" height=\"23\" style=\"stroke-width: 1px; stroke: rgb(0, 0, 0); stroke-opacity: 0; fill: rgb(0, 0, 0); fill-opacity: 0;\"/><text class=\"annotation-text\" text-anchor=\"middle\" x=\"81.34375\" y=\"18\" style=\"font-family: 'Open Sans', verdana, arial, sans-serif; font-size: 16px; fill: rgb(42, 63, 95); fill-opacity: 1; white-space: pre;\">Cumulative Returns</text></g></g></g></g></svg>"
      ]
     },
     "metadata": {},
     "output_type": "display_data"
    }
   ],
   "source": [
    "portfolio['a'].plot().show_svg()"
   ]
  },
  {
   "cell_type": "code",
   "execution_count": 9,
   "metadata": {},
   "outputs": [
    {
     "name": "stderr",
     "output_type": "stream",
     "text": [
      "/Users/olegpolakow/Documents/SourceTree/vectorbt/vectorbt/generic/plots_builder.py:340: UserWarning:\n",
      "\n",
      "Subplot 'orders' does not support grouped data\n",
      "\n",
      "/Users/olegpolakow/Documents/SourceTree/vectorbt/vectorbt/generic/plots_builder.py:340: UserWarning:\n",
      "\n",
      "Subplot 'trade_pnl' does not support grouped data\n",
      "\n"
     ]
    },
    {
     "data": {
      "image/svg+xml": [
       "<svg class=\"main-svg\" xmlns=\"http://www.w3.org/2000/svg\" xmlns:xlink=\"http://www.w3.org/1999/xlink\" width=\"750\" height=\"380\" style=\"\" viewBox=\"0 0 750 380\"><rect x=\"0\" y=\"0\" width=\"750\" height=\"380\" style=\"fill: rgb(255, 255, 255); fill-opacity: 1;\"/><defs id=\"defs-0ce4df\"><g class=\"clips\"><clipPath id=\"clip0ce4dfxyplot\" class=\"plotclip\"><rect width=\"663\" height=\"245\"/></clipPath><clipPath class=\"axesclip\" id=\"clip0ce4dfx\"><rect x=\"57\" y=\"0\" width=\"663\" height=\"380\"/></clipPath><clipPath class=\"axesclip\" id=\"clip0ce4dfy\"><rect x=\"0\" y=\"67\" width=\"750\" height=\"245\"/></clipPath><clipPath class=\"axesclip\" id=\"clip0ce4dfxy\"><rect x=\"57\" y=\"67\" width=\"663\" height=\"245\"/></clipPath></g><g class=\"gradients\"/><g class=\"patterns\"/></defs><g class=\"bglayer\"><rect class=\"bg\" x=\"57\" y=\"67\" width=\"663\" height=\"245\" style=\"fill: rgb(229, 236, 246); fill-opacity: 1; stroke-width: 0;\"/></g><g class=\"layer-below\"><g class=\"imagelayer\"/><g class=\"shapelayer\"/></g><g class=\"cartesianlayer\"><g class=\"subplot xy\"><g class=\"layer-subplot\"><g class=\"shapelayer\"/><g class=\"imagelayer\"/></g><g class=\"gridlayer\"><g class=\"x\"><path class=\"xgrid crisp\" transform=\"translate(93.9,0)\" d=\"M0,67v245\" style=\"stroke: rgb(255, 255, 255); stroke-opacity: 1; stroke-width: 1px;\"/><path class=\"xgrid crisp\" transform=\"translate(167.55,0)\" d=\"M0,67v245\" style=\"stroke: rgb(255, 255, 255); stroke-opacity: 1; stroke-width: 1px;\"/><path class=\"xgrid crisp\" transform=\"translate(241.2,0)\" d=\"M0,67v245\" style=\"stroke: rgb(255, 255, 255); stroke-opacity: 1; stroke-width: 1px;\"/><path class=\"xgrid crisp\" transform=\"translate(314.85,0)\" d=\"M0,67v245\" style=\"stroke: rgb(255, 255, 255); stroke-opacity: 1; stroke-width: 1px;\"/><path class=\"xgrid crisp\" transform=\"translate(388.5,0)\" d=\"M0,67v245\" style=\"stroke: rgb(255, 255, 255); stroke-opacity: 1; stroke-width: 1px;\"/><path class=\"xgrid crisp\" transform=\"translate(462.15,0)\" d=\"M0,67v245\" style=\"stroke: rgb(255, 255, 255); stroke-opacity: 1; stroke-width: 1px;\"/><path class=\"xgrid crisp\" transform=\"translate(535.8,0)\" d=\"M0,67v245\" style=\"stroke: rgb(255, 255, 255); stroke-opacity: 1; stroke-width: 1px;\"/><path class=\"xgrid crisp\" transform=\"translate(609.45,0)\" d=\"M0,67v245\" style=\"stroke: rgb(255, 255, 255); stroke-opacity: 1; stroke-width: 1px;\"/><path class=\"xgrid crisp\" transform=\"translate(683.1,0)\" d=\"M0,67v245\" style=\"stroke: rgb(255, 255, 255); stroke-opacity: 1; stroke-width: 1px;\"/></g><g class=\"y\"><path class=\"ygrid crisp\" transform=\"translate(0,294.07)\" d=\"M57,0h663\" style=\"stroke: rgb(255, 255, 255); stroke-opacity: 1; stroke-width: 1px;\"/><path class=\"ygrid crisp\" transform=\"translate(0,255.69)\" d=\"M57,0h663\" style=\"stroke: rgb(255, 255, 255); stroke-opacity: 1; stroke-width: 1px;\"/><path class=\"ygrid crisp\" transform=\"translate(0,217.31)\" d=\"M57,0h663\" style=\"stroke: rgb(255, 255, 255); stroke-opacity: 1; stroke-width: 1px;\"/><path class=\"ygrid crisp\" transform=\"translate(0,178.94)\" d=\"M57,0h663\" style=\"stroke: rgb(255, 255, 255); stroke-opacity: 1; stroke-width: 1px;\"/><path class=\"ygrid crisp\" transform=\"translate(0,140.56)\" d=\"M57,0h663\" style=\"stroke: rgb(255, 255, 255); stroke-opacity: 1; stroke-width: 1px;\"/><path class=\"ygrid crisp\" transform=\"translate(0,102.19)\" d=\"M57,0h663\" style=\"stroke: rgb(255, 255, 255); stroke-opacity: 1; stroke-width: 1px;\"/></g></g><g class=\"zerolinelayer\"/><path class=\"xlines-below\"/><path class=\"ylines-below\"/><g class=\"overlines-below\"/><g class=\"xaxislayer-below\"/><g class=\"yaxislayer-below\"/><g class=\"overaxes-below\"/><g class=\"plot\" transform=\"translate(57,67)\" clip-path=\"url(#clip0ce4dfxyplot)\"><g class=\"scatterlayer mlayer\"><g class=\"trace scatter traceddd4046b-8b90-4774-b712-166dd960fee6\" style=\"stroke-miterlimit: 2; opacity: 1;\"><g class=\"fills\"/><g class=\"errorbars\"/><g class=\"lines\"><path class=\"js-line\" d=\"M36.9,227.07L184.2,188.69L331.5,169.5L478.8,73.56L626.1,16\" style=\"vector-effect: non-scaling-stroke; fill: none; stroke: rgb(127, 127, 127); stroke-opacity: 1; stroke-width: 2px; opacity: 1;\"/></g><g class=\"points\"><path class=\"point\" transform=\"translate(36.9,227.07)\" d=\"M3,0A3,3 0 1,1 0,-3A3,3 0 0,1 3,0Z\" style=\"opacity: 1; stroke-width: 0px; fill: rgb(127, 127, 127); fill-opacity: 1;\"/><path class=\"point\" transform=\"translate(184.2,188.69)\" d=\"M3,0A3,3 0 1,1 0,-3A3,3 0 0,1 3,0Z\" style=\"opacity: 1; stroke-width: 0px; fill: rgb(127, 127, 127); fill-opacity: 1;\"/><path class=\"point\" transform=\"translate(331.5,169.5)\" d=\"M3,0A3,3 0 1,1 0,-3A3,3 0 0,1 3,0Z\" style=\"opacity: 1; stroke-width: 0px; fill: rgb(127, 127, 127); fill-opacity: 1;\"/><path class=\"point\" transform=\"translate(478.8,73.56)\" d=\"M3,0A3,3 0 1,1 0,-3A3,3 0 0,1 3,0Z\" style=\"opacity: 1; stroke-width: 0px; fill: rgb(127, 127, 127); fill-opacity: 1;\"/><path class=\"point\" transform=\"translate(626.1,16)\" d=\"M3,0A3,3 0 1,1 0,-3A3,3 0 0,1 3,0Z\" style=\"opacity: 1; stroke-width: 0px; fill: rgb(127, 127, 127); fill-opacity: 1;\"/></g><g class=\"text\"/></g><g class=\"trace scatter tracea9461414-fb6e-4a5e-a6aa-afebf0579a83\" style=\"stroke-miterlimit: 2;\"><g class=\"fills\"><g><path class=\"js-fill\" d=\"M36.9,227.11L626.1,229L626.1,227.07L36.9,227.07Z\" style=\"fill: rgb(255, 0, 0); fill-opacity: 0.3; stroke-width: 0;\"/></g></g><g class=\"errorbars\"/><g class=\"lines\"><path class=\"js-line\" d=\"M36.9,227.07L626.1,227.07\" style=\"vector-effect: non-scaling-stroke; fill: none; stroke: rgb(0, 0, 0); stroke-opacity: 0; stroke-width: 0px; opacity: 1;\"/></g><g class=\"points\"><path class=\"point\" transform=\"translate(36.9,227.07)\" d=\"M3,0A3,3 0 1,1 0,-3A3,3 0 0,1 3,0Z\" style=\"opacity: 1; stroke-width: 0px; fill: rgb(0, 0, 0); fill-opacity: 0;\"/><path class=\"point\" transform=\"translate(184.2,227.07)\" d=\"M3,0A3,3 0 1,1 0,-3A3,3 0 0,1 3,0Z\" style=\"opacity: 1; stroke-width: 0px; fill: rgb(0, 0, 0); fill-opacity: 0;\"/><path class=\"point\" transform=\"translate(331.5,227.07)\" d=\"M3,0A3,3 0 1,1 0,-3A3,3 0 0,1 3,0Z\" style=\"opacity: 1; stroke-width: 0px; fill: rgb(0, 0, 0); fill-opacity: 0;\"/><path class=\"point\" transform=\"translate(478.8,227.07)\" d=\"M3,0A3,3 0 1,1 0,-3A3,3 0 0,1 3,0Z\" style=\"opacity: 1; stroke-width: 0px; fill: rgb(0, 0, 0); fill-opacity: 0;\"/><path class=\"point\" transform=\"translate(626.1,227.07)\" d=\"M3,0A3,3 0 1,1 0,-3A3,3 0 0,1 3,0Z\" style=\"opacity: 1; stroke-width: 0px; fill: rgb(0, 0, 0); fill-opacity: 0;\"/></g><g class=\"text\"/></g><g class=\"trace scatter trace323141ff-8048-4d25-ad36-b4be2cc5856b\" style=\"stroke-miterlimit: 2;\"><g class=\"fills\"/><g class=\"errorbars\"/><g class=\"lines\"><path class=\"js-line\" d=\"M36.9,227.11L626.1,229\" style=\"vector-effect: non-scaling-stroke; fill: none; stroke: rgb(0, 0, 0); stroke-opacity: 0; stroke-width: 0px; opacity: 1;\"/></g><g class=\"points\"><path class=\"point\" transform=\"translate(36.9,227.11)\" d=\"M3,0A3,3 0 1,1 0,-3A3,3 0 0,1 3,0Z\" style=\"opacity: 1; stroke-width: 0px; fill: rgb(0, 0, 0); fill-opacity: 0;\"/><path class=\"point\" transform=\"translate(184.2,227.57)\" d=\"M3,0A3,3 0 1,1 0,-3A3,3 0 0,1 3,0Z\" style=\"opacity: 1; stroke-width: 0px; fill: rgb(0, 0, 0); fill-opacity: 0;\"/><path class=\"point\" transform=\"translate(331.5,227.58)\" d=\"M3,0A3,3 0 1,1 0,-3A3,3 0 0,1 3,0Z\" style=\"opacity: 1; stroke-width: 0px; fill: rgb(0, 0, 0); fill-opacity: 0;\"/><path class=\"point\" transform=\"translate(478.8,228.46)\" d=\"M3,0A3,3 0 1,1 0,-3A3,3 0 0,1 3,0Z\" style=\"opacity: 1; stroke-width: 0px; fill: rgb(0, 0, 0); fill-opacity: 0;\"/><path class=\"point\" transform=\"translate(626.1,229)\" d=\"M3,0A3,3 0 1,1 0,-3A3,3 0 0,1 3,0Z\" style=\"opacity: 1; stroke-width: 0px; fill: rgb(0, 0, 0); fill-opacity: 0;\"/></g><g class=\"text\"/></g><g class=\"trace scatter trace9baf8b42-8638-48c1-86d5-1444df509430\" style=\"stroke-miterlimit: 2; opacity: 1;\"><g class=\"fills\"/><g class=\"errorbars\"/><g class=\"lines\"><path class=\"js-line\" d=\"M36.9,227.11L626.1,229\" style=\"vector-effect: non-scaling-stroke; fill: none; stroke: rgb(148, 103, 189); stroke-opacity: 1; stroke-width: 2px; opacity: 1;\"/></g><g class=\"points\"><path class=\"point\" transform=\"translate(36.9,227.11)\" d=\"M3,0A3,3 0 1,1 0,-3A3,3 0 0,1 3,0Z\" style=\"opacity: 1; stroke-width: 0px; fill: rgb(148, 103, 189); fill-opacity: 1;\"/><path class=\"point\" transform=\"translate(184.2,227.57)\" d=\"M3,0A3,3 0 1,1 0,-3A3,3 0 0,1 3,0Z\" style=\"opacity: 1; stroke-width: 0px; fill: rgb(148, 103, 189); fill-opacity: 1;\"/><path class=\"point\" transform=\"translate(331.5,227.58)\" d=\"M3,0A3,3 0 1,1 0,-3A3,3 0 0,1 3,0Z\" style=\"opacity: 1; stroke-width: 0px; fill: rgb(148, 103, 189); fill-opacity: 1;\"/><path class=\"point\" transform=\"translate(478.8,228.46)\" d=\"M3,0A3,3 0 1,1 0,-3A3,3 0 0,1 3,0Z\" style=\"opacity: 1; stroke-width: 0px; fill: rgb(148, 103, 189); fill-opacity: 1;\"/><path class=\"point\" transform=\"translate(626.1,229)\" d=\"M3,0A3,3 0 1,1 0,-3A3,3 0 0,1 3,0Z\" style=\"opacity: 1; stroke-width: 0px; fill: rgb(148, 103, 189); fill-opacity: 1;\"/></g><g class=\"text\"/></g><g class=\"trace scatter trace76a23af4-45e2-4b37-a293-15a00e156418\" style=\"stroke-miterlimit: 2; opacity: 0;\"><g class=\"fills\"/><g class=\"errorbars\"/><g class=\"lines\"><path class=\"js-line\" d=\"M36.9,227.07L626.1,227.07\" style=\"vector-effect: non-scaling-stroke; fill: none; stroke: rgb(0, 0, 0); stroke-opacity: 0; stroke-width: 0px; opacity: 1;\"/></g><g class=\"points\"><path class=\"point\" transform=\"translate(36.9,227.07)\" d=\"M3,0A3,3 0 1,1 0,-3A3,3 0 0,1 3,0Z\" style=\"opacity: 1; stroke-width: 0px; fill: rgb(0, 0, 0); fill-opacity: 0;\"/><path class=\"point\" transform=\"translate(184.2,227.07)\" d=\"M3,0A3,3 0 1,1 0,-3A3,3 0 0,1 3,0Z\" style=\"opacity: 1; stroke-width: 0px; fill: rgb(0, 0, 0); fill-opacity: 0;\"/><path class=\"point\" transform=\"translate(331.5,227.07)\" d=\"M3,0A3,3 0 1,1 0,-3A3,3 0 0,1 3,0Z\" style=\"opacity: 1; stroke-width: 0px; fill: rgb(0, 0, 0); fill-opacity: 0;\"/><path class=\"point\" transform=\"translate(478.8,227.07)\" d=\"M3,0A3,3 0 1,1 0,-3A3,3 0 0,1 3,0Z\" style=\"opacity: 1; stroke-width: 0px; fill: rgb(0, 0, 0); fill-opacity: 0;\"/><path class=\"point\" transform=\"translate(626.1,227.07)\" d=\"M3,0A3,3 0 1,1 0,-3A3,3 0 0,1 3,0Z\" style=\"opacity: 1; stroke-width: 0px; fill: rgb(0, 0, 0); fill-opacity: 0;\"/></g><g class=\"text\"/></g></g></g><g class=\"overplot\"/><path class=\"xlines-above crisp\" d=\"M0,0\" style=\"fill: none;\"/><path class=\"ylines-above crisp\" d=\"M0,0\" style=\"fill: none;\"/><g class=\"overlines-above\"/><g class=\"xaxislayer-above\"><g class=\"xtick\"><text text-anchor=\"middle\" x=\"0\" y=\"325\" transform=\"translate(93.9,0)\" style=\"font-family: 'Open Sans', verdana, arial, sans-serif; font-size: 12px; fill: rgb(42, 63, 95); fill-opacity: 1; white-space: pre; opacity: 1;\"><tspan class=\"line\" dy=\"0em\" x=\"0\" y=\"325\">00:00</tspan><tspan class=\"line\" dy=\"1.3em\" x=\"0\" y=\"325\">Jan 1, 2020</tspan></text></g><g class=\"xtick\"><text text-anchor=\"middle\" x=\"0\" y=\"325\" style=\"font-family: 'Open Sans', verdana, arial, sans-serif; font-size: 12px; fill: rgb(42, 63, 95); fill-opacity: 1; white-space: pre; opacity: 1;\" transform=\"translate(167.55,0)\">12:00</text></g><g class=\"xtick\"><text text-anchor=\"middle\" x=\"0\" y=\"325\" style=\"font-family: 'Open Sans', verdana, arial, sans-serif; font-size: 12px; fill: rgb(42, 63, 95); fill-opacity: 1; white-space: pre; opacity: 1;\" transform=\"translate(241.2,0)\"><tspan class=\"line\" dy=\"0em\" x=\"0\" y=\"325\">00:00</tspan><tspan class=\"line\" dy=\"1.3em\" x=\"0\" y=\"325\">Jan 2, 2020</tspan></text></g><g class=\"xtick\"><text text-anchor=\"middle\" x=\"0\" y=\"325\" style=\"font-family: 'Open Sans', verdana, arial, sans-serif; font-size: 12px; fill: rgb(42, 63, 95); fill-opacity: 1; white-space: pre; opacity: 1;\" transform=\"translate(314.85,0)\">12:00</text></g><g class=\"xtick\"><text text-anchor=\"middle\" x=\"0\" y=\"325\" style=\"font-family: 'Open Sans', verdana, arial, sans-serif; font-size: 12px; fill: rgb(42, 63, 95); fill-opacity: 1; white-space: pre; opacity: 1;\" transform=\"translate(388.5,0)\"><tspan class=\"line\" dy=\"0em\" x=\"0\" y=\"325\">00:00</tspan><tspan class=\"line\" dy=\"1.3em\" x=\"0\" y=\"325\">Jan 3, 2020</tspan></text></g><g class=\"xtick\"><text text-anchor=\"middle\" x=\"0\" y=\"325\" style=\"font-family: 'Open Sans', verdana, arial, sans-serif; font-size: 12px; fill: rgb(42, 63, 95); fill-opacity: 1; white-space: pre; opacity: 1;\" transform=\"translate(462.15,0)\">12:00</text></g><g class=\"xtick\"><text text-anchor=\"middle\" x=\"0\" y=\"325\" style=\"font-family: 'Open Sans', verdana, arial, sans-serif; font-size: 12px; fill: rgb(42, 63, 95); fill-opacity: 1; white-space: pre; opacity: 1;\" transform=\"translate(535.8,0)\"><tspan class=\"line\" dy=\"0em\" x=\"0\" y=\"325\">00:00</tspan><tspan class=\"line\" dy=\"1.3em\" x=\"0\" y=\"325\">Jan 4, 2020</tspan></text></g><g class=\"xtick\"><text text-anchor=\"middle\" x=\"0\" y=\"325\" style=\"font-family: 'Open Sans', verdana, arial, sans-serif; font-size: 12px; fill: rgb(42, 63, 95); fill-opacity: 1; white-space: pre; opacity: 1;\" transform=\"translate(609.45,0)\">12:00</text></g><g class=\"xtick\"><text text-anchor=\"middle\" x=\"0\" y=\"325\" style=\"font-family: 'Open Sans', verdana, arial, sans-serif; font-size: 12px; fill: rgb(42, 63, 95); fill-opacity: 1; white-space: pre; opacity: 1;\" transform=\"translate(683.1,0)\"><tspan class=\"line\" dy=\"0em\" x=\"0\" y=\"325\">00:00</tspan><tspan class=\"line\" dy=\"1.3em\" x=\"0\" y=\"325\">Jan 5, 2020</tspan></text></g></g><g class=\"yaxislayer-above\"><g class=\"ytick\"><text text-anchor=\"end\" x=\"56\" y=\"4.199999999999999\" transform=\"translate(0,294.07)\" style=\"font-family: 'Open Sans', verdana, arial, sans-serif; font-size: 12px; fill: rgb(42, 63, 95); fill-opacity: 1; white-space: pre; opacity: 1;\">1</text></g><g class=\"ytick\"><text text-anchor=\"end\" x=\"56\" y=\"4.199999999999999\" style=\"font-family: 'Open Sans', verdana, arial, sans-serif; font-size: 12px; fill: rgb(42, 63, 95); fill-opacity: 1; white-space: pre; opacity: 1;\" transform=\"translate(0,255.69)\">1.5</text></g><g class=\"ytick\"><text text-anchor=\"end\" x=\"56\" y=\"4.199999999999999\" style=\"font-family: 'Open Sans', verdana, arial, sans-serif; font-size: 12px; fill: rgb(42, 63, 95); fill-opacity: 1; white-space: pre; opacity: 1;\" transform=\"translate(0,217.31)\">2</text></g><g class=\"ytick\"><text text-anchor=\"end\" x=\"56\" y=\"4.199999999999999\" style=\"font-family: 'Open Sans', verdana, arial, sans-serif; font-size: 12px; fill: rgb(42, 63, 95); fill-opacity: 1; white-space: pre; opacity: 1;\" transform=\"translate(0,178.94)\">2.5</text></g><g class=\"ytick\"><text text-anchor=\"end\" x=\"56\" y=\"4.199999999999999\" style=\"font-family: 'Open Sans', verdana, arial, sans-serif; font-size: 12px; fill: rgb(42, 63, 95); fill-opacity: 1; white-space: pre; opacity: 1;\" transform=\"translate(0,140.56)\">3</text></g><g class=\"ytick\"><text text-anchor=\"end\" x=\"56\" y=\"4.199999999999999\" style=\"font-family: 'Open Sans', verdana, arial, sans-serif; font-size: 12px; fill: rgb(42, 63, 95); fill-opacity: 1; white-space: pre; opacity: 1;\" transform=\"translate(0,102.19)\">3.5</text></g></g><g class=\"overaxes-above\"/></g></g><g class=\"polarlayer\"/><g class=\"ternarylayer\"/><g class=\"geolayer\"/><g class=\"funnelarealayer\"/><g class=\"pielayer\"/><g class=\"iciclelayer\"/><g class=\"treemaplayer\"/><g class=\"sunburstlayer\"/><g class=\"glimages\"/><defs id=\"topdefs-0ce4df\"><g class=\"clips\"/><clipPath id=\"legend0ce4df\"><rect width=\"192\" height=\"29\" x=\"0\" y=\"0\"/></clipPath></defs><g class=\"layer-above\"><g class=\"imagelayer\"/><g class=\"shapelayer\"><path data-index=\"0\" fill-rule=\"evenodd\" d=\"M57,294.07L720,294.07\" clip-path=\"url(#clip0ce4dfy)\" style=\"opacity: 1; stroke: rgb(128, 128, 128); stroke-opacity: 1; fill: rgb(0, 0, 0); fill-opacity: 0; stroke-dasharray: 9px, 9px; stroke-width: 2px;\"/></g></g><g class=\"infolayer\"><g class=\"legend\" pointer-events=\"all\" transform=\"translate(528,12.210526315789501)\"><rect class=\"bg\" shape-rendering=\"crispEdges\" width=\"192\" height=\"29\" x=\"0\" y=\"0\" style=\"stroke: rgb(68, 68, 68); stroke-opacity: 1; fill: rgb(255, 255, 255); fill-opacity: 1; stroke-width: 0px;\"/><g class=\"scrollbox\" transform=\"\" clip-path=\"url(#legend0ce4df)\"><g class=\"groups\"><g class=\"traces\" transform=\"translate(0,14.5)\" style=\"opacity: 1;\"><text class=\"legendtext\" text-anchor=\"start\" x=\"40\" y=\"4.680000000000001\" style=\"font-family: 'Open Sans', verdana, arial, sans-serif; font-size: 12px; fill: rgb(42, 63, 95); fill-opacity: 1; white-space: pre;\">Benchmark</text><g class=\"layers\" style=\"opacity: 1;\"><g class=\"legendfill\"/><g class=\"legendlines\"><path class=\"js-line\" d=\"M5,0h30\" style=\"fill: none; stroke: rgb(127, 127, 127); stroke-opacity: 1; stroke-width: 2px;\"/></g><g class=\"legendsymbols\"><g class=\"legendpoints\"><path class=\"scatterpts\" transform=\"translate(20,0)\" d=\"M3,0A3,3 0 1,1 0,-3A3,3 0 0,1 3,0Z\" style=\"opacity: 1; stroke-width: 0px; fill: rgb(127, 127, 127); fill-opacity: 1;\"/></g></g></g><rect class=\"legendtoggle\" x=\"0\" y=\"-9.5\" width=\"110.421875\" height=\"19\" style=\"fill: rgb(0, 0, 0); fill-opacity: 0;\"/></g><g class=\"traces\" transform=\"translate(112.921875,14.5)\" style=\"opacity: 1;\"><text class=\"legendtext\" text-anchor=\"start\" x=\"40\" y=\"4.680000000000001\" style=\"font-family: 'Open Sans', verdana, arial, sans-serif; font-size: 12px; fill: rgb(42, 63, 95); fill-opacity: 1; white-space: pre;\">Value</text><g class=\"layers\" style=\"opacity: 1;\"><g class=\"legendfill\"/><g class=\"legendlines\"><path class=\"js-line\" d=\"M5,0h30\" style=\"fill: none; stroke: rgb(148, 103, 189); stroke-opacity: 1; stroke-width: 2px;\"/></g><g class=\"legendsymbols\"><g class=\"legendpoints\"><path class=\"scatterpts\" transform=\"translate(20,0)\" d=\"M3,0A3,3 0 1,1 0,-3A3,3 0 0,1 3,0Z\" style=\"opacity: 1; stroke-width: 0px; fill: rgb(148, 103, 189); fill-opacity: 1;\"/></g></g></g><rect class=\"legendtoggle\" x=\"0\" y=\"-9.5\" width=\"75.953125\" height=\"19\" style=\"fill: rgb(0, 0, 0); fill-opacity: 0;\"/></g></g></g><rect class=\"scrollbar\" rx=\"20\" ry=\"3\" width=\"0\" height=\"0\" x=\"0\" y=\"0\" style=\"fill: rgb(128, 139, 164); fill-opacity: 1;\"/></g><g class=\"g-gtitle\"/><g class=\"g-xtitle\"><text class=\"xtitle\" x=\"388.5\" y=\"367.909375\" text-anchor=\"middle\" style=\"font-family: 'Open Sans', verdana, arial, sans-serif; font-size: 14px; fill: rgb(42, 63, 95); opacity: 1; font-weight: normal; white-space: pre;\">Index</text></g><g class=\"g-ytitle\" transform=\"translate(2.4248046875,0)\"><text class=\"ytitle\" transform=\"rotate(-90,11.575000000000003,189.5)\" x=\"11.575000000000003\" y=\"189.5\" text-anchor=\"middle\" style=\"font-family: 'Open Sans', verdana, arial, sans-serif; font-size: 14px; fill: rgb(42, 63, 95); opacity: 1; font-weight: normal; white-space: pre;\">Cumulative returns</text></g><g class=\"annotation\" data-index=\"0\" style=\"opacity: 1;\"><g class=\"annotation-text-g\" transform=\"rotate(0,388.5,54.99999999999999)\"><g class=\"cursor-pointer\" transform=\"translate(307,43)\"><rect class=\"bg\" x=\"0.5\" y=\"0.5\" width=\"162\" height=\"23\" style=\"stroke-width: 1px; stroke: rgb(0, 0, 0); stroke-opacity: 0; fill: rgb(0, 0, 0); fill-opacity: 0;\"/><text class=\"annotation-text\" text-anchor=\"middle\" x=\"81.34375\" y=\"18\" style=\"font-family: 'Open Sans', verdana, arial, sans-serif; font-size: 16px; fill: rgb(42, 63, 95); fill-opacity: 1; white-space: pre;\">Cumulative Returns</text></g></g></g></g></svg>"
      ]
     },
     "metadata": {},
     "output_type": "display_data"
    }
   ],
   "source": [
    "portfolio_shared['first'].plot().show_svg()"
   ]
  },
  {
   "cell_type": "code",
   "execution_count": 10,
   "metadata": {},
   "outputs": [
    {
     "data": {
      "image/svg+xml": [
       "<svg class=\"main-svg\" xmlns=\"http://www.w3.org/2000/svg\" xmlns:xlink=\"http://www.w3.org/1999/xlink\" width=\"750\" height=\"4150\" style=\"\" viewBox=\"0 0 750 4150\"><rect x=\"0\" y=\"0\" width=\"750\" height=\"4150\" style=\"fill: rgb(255, 255, 255); fill-opacity: 1;\"/><defs id=\"defs-fa6231\"><g class=\"clips\"><clipPath id=\"clipfa6231xyplot\" class=\"plotclip\"><rect width=\"625\" height=\"246.54010327022374\"/></clipPath><clipPath id=\"clipfa6231x2y2plot\" class=\"plotclip\"><rect width=\"625\" height=\"246.54010327022374\"/></clipPath><clipPath id=\"clipfa6231x3y3plot\" class=\"plotclip\"><rect width=\"625\" height=\"246.54010327022374\"/></clipPath><clipPath id=\"clipfa6231x4y4plot\" class=\"plotclip\"><rect width=\"625\" height=\"246.54010327022374\"/></clipPath><clipPath id=\"clipfa6231x5y5plot\" class=\"plotclip\"><rect width=\"625\" height=\"246.54010327022374\"/></clipPath><clipPath id=\"clipfa6231x6y6plot\" class=\"plotclip\"><rect width=\"625\" height=\"246.54010327022374\"/></clipPath><clipPath id=\"clipfa6231x7y7plot\" class=\"plotclip\"><rect width=\"625\" height=\"246.54010327022374\"/></clipPath><clipPath id=\"clipfa6231x8y8plot\" class=\"plotclip\"><rect width=\"625\" height=\"246.54010327022374\"/></clipPath><clipPath id=\"clipfa6231x9y9plot\" class=\"plotclip\"><rect width=\"625\" height=\"246.54010327022374\"/></clipPath><clipPath id=\"clipfa6231x10y10plot\" class=\"plotclip\"><rect width=\"625\" height=\"246.54010327022374\"/></clipPath><clipPath id=\"clipfa6231x11y11plot\" class=\"plotclip\"><rect width=\"625\" height=\"246.54010327022382\"/></clipPath><clipPath id=\"clipfa6231x12y12plot\" class=\"plotclip\"><rect width=\"625\" height=\"246.54010327022374\"/></clipPath><clipPath id=\"clipfa6231x13y13plot\" class=\"plotclip\"><rect width=\"625\" height=\"246.54010327022377\"/></clipPath><clipPath id=\"clipfa6231x14y14plot\" class=\"plotclip\"><rect width=\"625\" height=\"246.54010327022377\"/></clipPath><clipPath class=\"axesclip\" id=\"clipfa6231x\"><rect x=\"95\" y=\"0\" width=\"625\" height=\"4150\"/></clipPath><clipPath class=\"axesclip\" id=\"clipfa6231y\"><rect x=\"0\" y=\"136\" width=\"750\" height=\"246.54010327022374\"/></clipPath><clipPath class=\"axesclip\" id=\"clipfa6231xy\"><rect x=\"95\" y=\"136\" width=\"625\" height=\"246.54010327022374\"/></clipPath><clipPath class=\"axesclip\" id=\"clipfa6231y2\"><rect x=\"0\" y=\"420.5738382099826\" width=\"750\" height=\"246.54010327022374\"/></clipPath><clipPath class=\"axesclip\" id=\"clipfa6231xy2\"><rect x=\"95\" y=\"420.5738382099826\" width=\"625\" height=\"246.54010327022374\"/></clipPath><clipPath class=\"axesclip\" id=\"clipfa6231y3\"><rect x=\"0\" y=\"705.1476764199653\" width=\"750\" height=\"246.54010327022374\"/></clipPath><clipPath class=\"axesclip\" id=\"clipfa6231xy3\"><rect x=\"95\" y=\"705.1476764199653\" width=\"625\" height=\"246.54010327022374\"/></clipPath><clipPath class=\"axesclip\" id=\"clipfa6231y4\"><rect x=\"0\" y=\"989.7215146299483\" width=\"750\" height=\"246.54010327022374\"/></clipPath><clipPath class=\"axesclip\" id=\"clipfa6231xy4\"><rect x=\"95\" y=\"989.7215146299483\" width=\"625\" height=\"246.54010327022374\"/></clipPath><clipPath class=\"axesclip\" id=\"clipfa6231y5\"><rect x=\"0\" y=\"1274.295352839931\" width=\"750\" height=\"246.54010327022374\"/></clipPath><clipPath class=\"axesclip\" id=\"clipfa6231xy5\"><rect x=\"95\" y=\"1274.295352839931\" width=\"625\" height=\"246.54010327022374\"/></clipPath><clipPath class=\"axesclip\" id=\"clipfa6231y6\"><rect x=\"0\" y=\"1558.869191049914\" width=\"750\" height=\"246.54010327022374\"/></clipPath><clipPath class=\"axesclip\" id=\"clipfa6231xy6\"><rect x=\"95\" y=\"1558.869191049914\" width=\"625\" height=\"246.54010327022374\"/></clipPath><clipPath class=\"axesclip\" id=\"clipfa6231y7\"><rect x=\"0\" y=\"1843.4430292598965\" width=\"750\" height=\"246.54010327022374\"/></clipPath><clipPath class=\"axesclip\" id=\"clipfa6231xy7\"><rect x=\"95\" y=\"1843.4430292598965\" width=\"625\" height=\"246.54010327022374\"/></clipPath><clipPath class=\"axesclip\" id=\"clipfa6231y8\"><rect x=\"0\" y=\"2128.016867469879\" width=\"750\" height=\"246.54010327022374\"/></clipPath><clipPath class=\"axesclip\" id=\"clipfa6231xy8\"><rect x=\"95\" y=\"2128.016867469879\" width=\"625\" height=\"246.54010327022374\"/></clipPath><clipPath class=\"axesclip\" id=\"clipfa6231y9\"><rect x=\"0\" y=\"2412.5907056798624\" width=\"750\" height=\"246.54010327022374\"/></clipPath><clipPath class=\"axesclip\" id=\"clipfa6231xy9\"><rect x=\"95\" y=\"2412.5907056798624\" width=\"625\" height=\"246.54010327022374\"/></clipPath><clipPath class=\"axesclip\" id=\"clipfa6231y10\"><rect x=\"0\" y=\"2697.1645438898454\" width=\"750\" height=\"246.54010327022374\"/></clipPath><clipPath class=\"axesclip\" id=\"clipfa6231xy10\"><rect x=\"95\" y=\"2697.1645438898454\" width=\"625\" height=\"246.54010327022374\"/></clipPath><clipPath class=\"axesclip\" id=\"clipfa6231y11\"><rect x=\"0\" y=\"2981.738382099828\" width=\"750\" height=\"246.54010327022382\"/></clipPath><clipPath class=\"axesclip\" id=\"clipfa6231xy11\"><rect x=\"95\" y=\"2981.738382099828\" width=\"625\" height=\"246.54010327022382\"/></clipPath><clipPath class=\"axesclip\" id=\"clipfa6231y12\"><rect x=\"0\" y=\"3266.3122203098105\" width=\"750\" height=\"246.54010327022374\"/></clipPath><clipPath class=\"axesclip\" id=\"clipfa6231xy12\"><rect x=\"95\" y=\"3266.3122203098105\" width=\"625\" height=\"246.54010327022374\"/></clipPath><clipPath class=\"axesclip\" id=\"clipfa6231y13\"><rect x=\"0\" y=\"3550.886058519793\" width=\"750\" height=\"246.54010327022377\"/></clipPath><clipPath class=\"axesclip\" id=\"clipfa6231xy13\"><rect x=\"95\" y=\"3550.886058519793\" width=\"625\" height=\"246.54010327022377\"/></clipPath><clipPath class=\"axesclip\" id=\"clipfa6231y14\"><rect x=\"0\" y=\"3835.459896729776\" width=\"750\" height=\"246.54010327022377\"/></clipPath><clipPath class=\"axesclip\" id=\"clipfa6231xy14\"><rect x=\"95\" y=\"3835.459896729776\" width=\"625\" height=\"246.54010327022377\"/></clipPath><clipPath class=\"axesclip\" id=\"clipfa6231x2\"><rect x=\"95\" y=\"0\" width=\"625\" height=\"4150\"/></clipPath><clipPath class=\"axesclip\" id=\"clipfa6231x2y\"><rect x=\"95\" y=\"136\" width=\"625\" height=\"246.54010327022374\"/></clipPath><clipPath class=\"axesclip\" id=\"clipfa6231x2y2\"><rect x=\"95\" y=\"420.5738382099826\" width=\"625\" height=\"246.54010327022374\"/></clipPath><clipPath class=\"axesclip\" id=\"clipfa6231x2y3\"><rect x=\"95\" y=\"705.1476764199653\" width=\"625\" height=\"246.54010327022374\"/></clipPath><clipPath class=\"axesclip\" id=\"clipfa6231x2y4\"><rect x=\"95\" y=\"989.7215146299483\" width=\"625\" height=\"246.54010327022374\"/></clipPath><clipPath class=\"axesclip\" id=\"clipfa6231x2y5\"><rect x=\"95\" y=\"1274.295352839931\" width=\"625\" height=\"246.54010327022374\"/></clipPath><clipPath class=\"axesclip\" id=\"clipfa6231x2y6\"><rect x=\"95\" y=\"1558.869191049914\" width=\"625\" height=\"246.54010327022374\"/></clipPath><clipPath class=\"axesclip\" id=\"clipfa6231x2y7\"><rect x=\"95\" y=\"1843.4430292598965\" width=\"625\" height=\"246.54010327022374\"/></clipPath><clipPath class=\"axesclip\" id=\"clipfa6231x2y8\"><rect x=\"95\" y=\"2128.016867469879\" width=\"625\" height=\"246.54010327022374\"/></clipPath><clipPath class=\"axesclip\" id=\"clipfa6231x2y9\"><rect x=\"95\" y=\"2412.5907056798624\" width=\"625\" height=\"246.54010327022374\"/></clipPath><clipPath class=\"axesclip\" id=\"clipfa6231x2y10\"><rect x=\"95\" y=\"2697.1645438898454\" width=\"625\" height=\"246.54010327022374\"/></clipPath><clipPath class=\"axesclip\" id=\"clipfa6231x2y11\"><rect x=\"95\" y=\"2981.738382099828\" width=\"625\" height=\"246.54010327022382\"/></clipPath><clipPath class=\"axesclip\" id=\"clipfa6231x2y12\"><rect x=\"95\" y=\"3266.3122203098105\" width=\"625\" height=\"246.54010327022374\"/></clipPath><clipPath class=\"axesclip\" id=\"clipfa6231x2y13\"><rect x=\"95\" y=\"3550.886058519793\" width=\"625\" height=\"246.54010327022377\"/></clipPath><clipPath class=\"axesclip\" id=\"clipfa6231x2y14\"><rect x=\"95\" y=\"3835.459896729776\" width=\"625\" height=\"246.54010327022377\"/></clipPath><clipPath class=\"axesclip\" id=\"clipfa6231x3\"><rect x=\"95\" y=\"0\" width=\"625\" height=\"4150\"/></clipPath><clipPath class=\"axesclip\" id=\"clipfa6231x3y\"><rect x=\"95\" y=\"136\" width=\"625\" height=\"246.54010327022374\"/></clipPath><clipPath class=\"axesclip\" id=\"clipfa6231x3y2\"><rect x=\"95\" y=\"420.5738382099826\" width=\"625\" height=\"246.54010327022374\"/></clipPath><clipPath class=\"axesclip\" id=\"clipfa6231x3y3\"><rect x=\"95\" y=\"705.1476764199653\" width=\"625\" height=\"246.54010327022374\"/></clipPath><clipPath class=\"axesclip\" id=\"clipfa6231x3y4\"><rect x=\"95\" y=\"989.7215146299483\" width=\"625\" height=\"246.54010327022374\"/></clipPath><clipPath class=\"axesclip\" id=\"clipfa6231x3y5\"><rect x=\"95\" y=\"1274.295352839931\" width=\"625\" height=\"246.54010327022374\"/></clipPath><clipPath class=\"axesclip\" id=\"clipfa6231x3y6\"><rect x=\"95\" y=\"1558.869191049914\" width=\"625\" height=\"246.54010327022374\"/></clipPath><clipPath class=\"axesclip\" id=\"clipfa6231x3y7\"><rect x=\"95\" y=\"1843.4430292598965\" width=\"625\" height=\"246.54010327022374\"/></clipPath><clipPath class=\"axesclip\" id=\"clipfa6231x3y8\"><rect x=\"95\" y=\"2128.016867469879\" width=\"625\" height=\"246.54010327022374\"/></clipPath><clipPath class=\"axesclip\" id=\"clipfa6231x3y9\"><rect x=\"95\" y=\"2412.5907056798624\" width=\"625\" height=\"246.54010327022374\"/></clipPath><clipPath class=\"axesclip\" id=\"clipfa6231x3y10\"><rect x=\"95\" y=\"2697.1645438898454\" width=\"625\" height=\"246.54010327022374\"/></clipPath><clipPath class=\"axesclip\" id=\"clipfa6231x3y11\"><rect x=\"95\" y=\"2981.738382099828\" width=\"625\" height=\"246.54010327022382\"/></clipPath><clipPath class=\"axesclip\" id=\"clipfa6231x3y12\"><rect x=\"95\" y=\"3266.3122203098105\" width=\"625\" height=\"246.54010327022374\"/></clipPath><clipPath class=\"axesclip\" id=\"clipfa6231x3y13\"><rect x=\"95\" y=\"3550.886058519793\" width=\"625\" height=\"246.54010327022377\"/></clipPath><clipPath class=\"axesclip\" id=\"clipfa6231x3y14\"><rect x=\"95\" y=\"3835.459896729776\" width=\"625\" height=\"246.54010327022377\"/></clipPath><clipPath class=\"axesclip\" id=\"clipfa6231x4\"><rect x=\"95\" y=\"0\" width=\"625\" height=\"4150\"/></clipPath><clipPath class=\"axesclip\" id=\"clipfa6231x4y\"><rect x=\"95\" y=\"136\" width=\"625\" height=\"246.54010327022374\"/></clipPath><clipPath class=\"axesclip\" id=\"clipfa6231x4y2\"><rect x=\"95\" y=\"420.5738382099826\" width=\"625\" height=\"246.54010327022374\"/></clipPath><clipPath class=\"axesclip\" id=\"clipfa6231x4y3\"><rect x=\"95\" y=\"705.1476764199653\" width=\"625\" height=\"246.54010327022374\"/></clipPath><clipPath class=\"axesclip\" id=\"clipfa6231x4y4\"><rect x=\"95\" y=\"989.7215146299483\" width=\"625\" height=\"246.54010327022374\"/></clipPath><clipPath class=\"axesclip\" id=\"clipfa6231x4y5\"><rect x=\"95\" y=\"1274.295352839931\" width=\"625\" height=\"246.54010327022374\"/></clipPath><clipPath class=\"axesclip\" id=\"clipfa6231x4y6\"><rect x=\"95\" y=\"1558.869191049914\" width=\"625\" height=\"246.54010327022374\"/></clipPath><clipPath class=\"axesclip\" id=\"clipfa6231x4y7\"><rect x=\"95\" y=\"1843.4430292598965\" width=\"625\" height=\"246.54010327022374\"/></clipPath><clipPath class=\"axesclip\" id=\"clipfa6231x4y8\"><rect x=\"95\" y=\"2128.016867469879\" width=\"625\" height=\"246.54010327022374\"/></clipPath><clipPath class=\"axesclip\" id=\"clipfa6231x4y9\"><rect x=\"95\" y=\"2412.5907056798624\" width=\"625\" height=\"246.54010327022374\"/></clipPath><clipPath class=\"axesclip\" id=\"clipfa6231x4y10\"><rect x=\"95\" y=\"2697.1645438898454\" width=\"625\" height=\"246.54010327022374\"/></clipPath><clipPath class=\"axesclip\" id=\"clipfa6231x4y11\"><rect x=\"95\" y=\"2981.738382099828\" width=\"625\" height=\"246.54010327022382\"/></clipPath><clipPath class=\"axesclip\" id=\"clipfa6231x4y12\"><rect x=\"95\" y=\"3266.3122203098105\" width=\"625\" height=\"246.54010327022374\"/></clipPath><clipPath class=\"axesclip\" id=\"clipfa6231x4y13\"><rect x=\"95\" y=\"3550.886058519793\" width=\"625\" height=\"246.54010327022377\"/></clipPath><clipPath class=\"axesclip\" id=\"clipfa6231x4y14\"><rect x=\"95\" y=\"3835.459896729776\" width=\"625\" height=\"246.54010327022377\"/></clipPath><clipPath class=\"axesclip\" id=\"clipfa6231x5\"><rect x=\"95\" y=\"0\" width=\"625\" height=\"4150\"/></clipPath><clipPath class=\"axesclip\" id=\"clipfa6231x5y\"><rect x=\"95\" y=\"136\" width=\"625\" height=\"246.54010327022374\"/></clipPath><clipPath class=\"axesclip\" id=\"clipfa6231x5y2\"><rect x=\"95\" y=\"420.5738382099826\" width=\"625\" height=\"246.54010327022374\"/></clipPath><clipPath class=\"axesclip\" id=\"clipfa6231x5y3\"><rect x=\"95\" y=\"705.1476764199653\" width=\"625\" height=\"246.54010327022374\"/></clipPath><clipPath class=\"axesclip\" id=\"clipfa6231x5y4\"><rect x=\"95\" y=\"989.7215146299483\" width=\"625\" height=\"246.54010327022374\"/></clipPath><clipPath class=\"axesclip\" id=\"clipfa6231x5y5\"><rect x=\"95\" y=\"1274.295352839931\" width=\"625\" height=\"246.54010327022374\"/></clipPath><clipPath class=\"axesclip\" id=\"clipfa6231x5y6\"><rect x=\"95\" y=\"1558.869191049914\" width=\"625\" height=\"246.54010327022374\"/></clipPath><clipPath class=\"axesclip\" id=\"clipfa6231x5y7\"><rect x=\"95\" y=\"1843.4430292598965\" width=\"625\" height=\"246.54010327022374\"/></clipPath><clipPath class=\"axesclip\" id=\"clipfa6231x5y8\"><rect x=\"95\" y=\"2128.016867469879\" width=\"625\" height=\"246.54010327022374\"/></clipPath><clipPath class=\"axesclip\" id=\"clipfa6231x5y9\"><rect x=\"95\" y=\"2412.5907056798624\" width=\"625\" height=\"246.54010327022374\"/></clipPath><clipPath class=\"axesclip\" id=\"clipfa6231x5y10\"><rect x=\"95\" y=\"2697.1645438898454\" width=\"625\" height=\"246.54010327022374\"/></clipPath><clipPath class=\"axesclip\" id=\"clipfa6231x5y11\"><rect x=\"95\" y=\"2981.738382099828\" width=\"625\" height=\"246.54010327022382\"/></clipPath><clipPath class=\"axesclip\" id=\"clipfa6231x5y12\"><rect x=\"95\" y=\"3266.3122203098105\" width=\"625\" height=\"246.54010327022374\"/></clipPath><clipPath class=\"axesclip\" id=\"clipfa6231x5y13\"><rect x=\"95\" y=\"3550.886058519793\" width=\"625\" height=\"246.54010327022377\"/></clipPath><clipPath class=\"axesclip\" id=\"clipfa6231x5y14\"><rect x=\"95\" y=\"3835.459896729776\" width=\"625\" height=\"246.54010327022377\"/></clipPath><clipPath class=\"axesclip\" id=\"clipfa6231x6\"><rect x=\"95\" y=\"0\" width=\"625\" height=\"4150\"/></clipPath><clipPath class=\"axesclip\" id=\"clipfa6231x6y\"><rect x=\"95\" y=\"136\" width=\"625\" height=\"246.54010327022374\"/></clipPath><clipPath class=\"axesclip\" id=\"clipfa6231x6y2\"><rect x=\"95\" y=\"420.5738382099826\" width=\"625\" height=\"246.54010327022374\"/></clipPath><clipPath class=\"axesclip\" id=\"clipfa6231x6y3\"><rect x=\"95\" y=\"705.1476764199653\" width=\"625\" height=\"246.54010327022374\"/></clipPath><clipPath class=\"axesclip\" id=\"clipfa6231x6y4\"><rect x=\"95\" y=\"989.7215146299483\" width=\"625\" height=\"246.54010327022374\"/></clipPath><clipPath class=\"axesclip\" id=\"clipfa6231x6y5\"><rect x=\"95\" y=\"1274.295352839931\" width=\"625\" height=\"246.54010327022374\"/></clipPath><clipPath class=\"axesclip\" id=\"clipfa6231x6y6\"><rect x=\"95\" y=\"1558.869191049914\" width=\"625\" height=\"246.54010327022374\"/></clipPath><clipPath class=\"axesclip\" id=\"clipfa6231x6y7\"><rect x=\"95\" y=\"1843.4430292598965\" width=\"625\" height=\"246.54010327022374\"/></clipPath><clipPath class=\"axesclip\" id=\"clipfa6231x6y8\"><rect x=\"95\" y=\"2128.016867469879\" width=\"625\" height=\"246.54010327022374\"/></clipPath><clipPath class=\"axesclip\" id=\"clipfa6231x6y9\"><rect x=\"95\" y=\"2412.5907056798624\" width=\"625\" height=\"246.54010327022374\"/></clipPath><clipPath class=\"axesclip\" id=\"clipfa6231x6y10\"><rect x=\"95\" y=\"2697.1645438898454\" width=\"625\" height=\"246.54010327022374\"/></clipPath><clipPath class=\"axesclip\" id=\"clipfa6231x6y11\"><rect x=\"95\" y=\"2981.738382099828\" width=\"625\" height=\"246.54010327022382\"/></clipPath><clipPath class=\"axesclip\" id=\"clipfa6231x6y12\"><rect x=\"95\" y=\"3266.3122203098105\" width=\"625\" height=\"246.54010327022374\"/></clipPath><clipPath class=\"axesclip\" id=\"clipfa6231x6y13\"><rect x=\"95\" y=\"3550.886058519793\" width=\"625\" height=\"246.54010327022377\"/></clipPath><clipPath class=\"axesclip\" id=\"clipfa6231x6y14\"><rect x=\"95\" y=\"3835.459896729776\" width=\"625\" height=\"246.54010327022377\"/></clipPath><clipPath class=\"axesclip\" id=\"clipfa6231x7\"><rect x=\"95\" y=\"0\" width=\"625\" height=\"4150\"/></clipPath><clipPath class=\"axesclip\" id=\"clipfa6231x7y\"><rect x=\"95\" y=\"136\" width=\"625\" height=\"246.54010327022374\"/></clipPath><clipPath class=\"axesclip\" id=\"clipfa6231x7y2\"><rect x=\"95\" y=\"420.5738382099826\" width=\"625\" height=\"246.54010327022374\"/></clipPath><clipPath class=\"axesclip\" id=\"clipfa6231x7y3\"><rect x=\"95\" y=\"705.1476764199653\" width=\"625\" height=\"246.54010327022374\"/></clipPath><clipPath class=\"axesclip\" id=\"clipfa6231x7y4\"><rect x=\"95\" y=\"989.7215146299483\" width=\"625\" height=\"246.54010327022374\"/></clipPath><clipPath class=\"axesclip\" id=\"clipfa6231x7y5\"><rect x=\"95\" y=\"1274.295352839931\" width=\"625\" height=\"246.54010327022374\"/></clipPath><clipPath class=\"axesclip\" id=\"clipfa6231x7y6\"><rect x=\"95\" y=\"1558.869191049914\" width=\"625\" height=\"246.54010327022374\"/></clipPath><clipPath class=\"axesclip\" id=\"clipfa6231x7y7\"><rect x=\"95\" y=\"1843.4430292598965\" width=\"625\" height=\"246.54010327022374\"/></clipPath><clipPath class=\"axesclip\" id=\"clipfa6231x7y8\"><rect x=\"95\" y=\"2128.016867469879\" width=\"625\" height=\"246.54010327022374\"/></clipPath><clipPath class=\"axesclip\" id=\"clipfa6231x7y9\"><rect x=\"95\" y=\"2412.5907056798624\" width=\"625\" height=\"246.54010327022374\"/></clipPath><clipPath class=\"axesclip\" id=\"clipfa6231x7y10\"><rect x=\"95\" y=\"2697.1645438898454\" width=\"625\" height=\"246.54010327022374\"/></clipPath><clipPath class=\"axesclip\" id=\"clipfa6231x7y11\"><rect x=\"95\" y=\"2981.738382099828\" width=\"625\" height=\"246.54010327022382\"/></clipPath><clipPath class=\"axesclip\" id=\"clipfa6231x7y12\"><rect x=\"95\" y=\"3266.3122203098105\" width=\"625\" height=\"246.54010327022374\"/></clipPath><clipPath class=\"axesclip\" id=\"clipfa6231x7y13\"><rect x=\"95\" y=\"3550.886058519793\" width=\"625\" height=\"246.54010327022377\"/></clipPath><clipPath class=\"axesclip\" id=\"clipfa6231x7y14\"><rect x=\"95\" y=\"3835.459896729776\" width=\"625\" height=\"246.54010327022377\"/></clipPath><clipPath class=\"axesclip\" id=\"clipfa6231x8\"><rect x=\"95\" y=\"0\" width=\"625\" height=\"4150\"/></clipPath><clipPath class=\"axesclip\" id=\"clipfa6231x8y\"><rect x=\"95\" y=\"136\" width=\"625\" height=\"246.54010327022374\"/></clipPath><clipPath class=\"axesclip\" id=\"clipfa6231x8y2\"><rect x=\"95\" y=\"420.5738382099826\" width=\"625\" height=\"246.54010327022374\"/></clipPath><clipPath class=\"axesclip\" id=\"clipfa6231x8y3\"><rect x=\"95\" y=\"705.1476764199653\" width=\"625\" height=\"246.54010327022374\"/></clipPath><clipPath class=\"axesclip\" id=\"clipfa6231x8y4\"><rect x=\"95\" y=\"989.7215146299483\" width=\"625\" height=\"246.54010327022374\"/></clipPath><clipPath class=\"axesclip\" id=\"clipfa6231x8y5\"><rect x=\"95\" y=\"1274.295352839931\" width=\"625\" height=\"246.54010327022374\"/></clipPath><clipPath class=\"axesclip\" id=\"clipfa6231x8y6\"><rect x=\"95\" y=\"1558.869191049914\" width=\"625\" height=\"246.54010327022374\"/></clipPath><clipPath class=\"axesclip\" id=\"clipfa6231x8y7\"><rect x=\"95\" y=\"1843.4430292598965\" width=\"625\" height=\"246.54010327022374\"/></clipPath><clipPath class=\"axesclip\" id=\"clipfa6231x8y8\"><rect x=\"95\" y=\"2128.016867469879\" width=\"625\" height=\"246.54010327022374\"/></clipPath><clipPath class=\"axesclip\" id=\"clipfa6231x8y9\"><rect x=\"95\" y=\"2412.5907056798624\" width=\"625\" height=\"246.54010327022374\"/></clipPath><clipPath class=\"axesclip\" id=\"clipfa6231x8y10\"><rect x=\"95\" y=\"2697.1645438898454\" width=\"625\" height=\"246.54010327022374\"/></clipPath><clipPath class=\"axesclip\" id=\"clipfa6231x8y11\"><rect x=\"95\" y=\"2981.738382099828\" width=\"625\" height=\"246.54010327022382\"/></clipPath><clipPath class=\"axesclip\" id=\"clipfa6231x8y12\"><rect x=\"95\" y=\"3266.3122203098105\" width=\"625\" height=\"246.54010327022374\"/></clipPath><clipPath class=\"axesclip\" id=\"clipfa6231x8y13\"><rect x=\"95\" y=\"3550.886058519793\" width=\"625\" height=\"246.54010327022377\"/></clipPath><clipPath class=\"axesclip\" id=\"clipfa6231x8y14\"><rect x=\"95\" y=\"3835.459896729776\" width=\"625\" height=\"246.54010327022377\"/></clipPath><clipPath class=\"axesclip\" id=\"clipfa6231x9\"><rect x=\"95\" y=\"0\" width=\"625\" height=\"4150\"/></clipPath><clipPath class=\"axesclip\" id=\"clipfa6231x9y\"><rect x=\"95\" y=\"136\" width=\"625\" height=\"246.54010327022374\"/></clipPath><clipPath class=\"axesclip\" id=\"clipfa6231x9y2\"><rect x=\"95\" y=\"420.5738382099826\" width=\"625\" height=\"246.54010327022374\"/></clipPath><clipPath class=\"axesclip\" id=\"clipfa6231x9y3\"><rect x=\"95\" y=\"705.1476764199653\" width=\"625\" height=\"246.54010327022374\"/></clipPath><clipPath class=\"axesclip\" id=\"clipfa6231x9y4\"><rect x=\"95\" y=\"989.7215146299483\" width=\"625\" height=\"246.54010327022374\"/></clipPath><clipPath class=\"axesclip\" id=\"clipfa6231x9y5\"><rect x=\"95\" y=\"1274.295352839931\" width=\"625\" height=\"246.54010327022374\"/></clipPath><clipPath class=\"axesclip\" id=\"clipfa6231x9y6\"><rect x=\"95\" y=\"1558.869191049914\" width=\"625\" height=\"246.54010327022374\"/></clipPath><clipPath class=\"axesclip\" id=\"clipfa6231x9y7\"><rect x=\"95\" y=\"1843.4430292598965\" width=\"625\" height=\"246.54010327022374\"/></clipPath><clipPath class=\"axesclip\" id=\"clipfa6231x9y8\"><rect x=\"95\" y=\"2128.016867469879\" width=\"625\" height=\"246.54010327022374\"/></clipPath><clipPath class=\"axesclip\" id=\"clipfa6231x9y9\"><rect x=\"95\" y=\"2412.5907056798624\" width=\"625\" height=\"246.54010327022374\"/></clipPath><clipPath class=\"axesclip\" id=\"clipfa6231x9y10\"><rect x=\"95\" y=\"2697.1645438898454\" width=\"625\" height=\"246.54010327022374\"/></clipPath><clipPath class=\"axesclip\" id=\"clipfa6231x9y11\"><rect x=\"95\" y=\"2981.738382099828\" width=\"625\" height=\"246.54010327022382\"/></clipPath><clipPath class=\"axesclip\" id=\"clipfa6231x9y12\"><rect x=\"95\" y=\"3266.3122203098105\" width=\"625\" height=\"246.54010327022374\"/></clipPath><clipPath class=\"axesclip\" id=\"clipfa6231x9y13\"><rect x=\"95\" y=\"3550.886058519793\" width=\"625\" height=\"246.54010327022377\"/></clipPath><clipPath class=\"axesclip\" id=\"clipfa6231x9y14\"><rect x=\"95\" y=\"3835.459896729776\" width=\"625\" height=\"246.54010327022377\"/></clipPath><clipPath class=\"axesclip\" id=\"clipfa6231x10\"><rect x=\"95\" y=\"0\" width=\"625\" height=\"4150\"/></clipPath><clipPath class=\"axesclip\" id=\"clipfa6231x10y\"><rect x=\"95\" y=\"136\" width=\"625\" height=\"246.54010327022374\"/></clipPath><clipPath class=\"axesclip\" id=\"clipfa6231x10y2\"><rect x=\"95\" y=\"420.5738382099826\" width=\"625\" height=\"246.54010327022374\"/></clipPath><clipPath class=\"axesclip\" id=\"clipfa6231x10y3\"><rect x=\"95\" y=\"705.1476764199653\" width=\"625\" height=\"246.54010327022374\"/></clipPath><clipPath class=\"axesclip\" id=\"clipfa6231x10y4\"><rect x=\"95\" y=\"989.7215146299483\" width=\"625\" height=\"246.54010327022374\"/></clipPath><clipPath class=\"axesclip\" id=\"clipfa6231x10y5\"><rect x=\"95\" y=\"1274.295352839931\" width=\"625\" height=\"246.54010327022374\"/></clipPath><clipPath class=\"axesclip\" id=\"clipfa6231x10y6\"><rect x=\"95\" y=\"1558.869191049914\" width=\"625\" height=\"246.54010327022374\"/></clipPath><clipPath class=\"axesclip\" id=\"clipfa6231x10y7\"><rect x=\"95\" y=\"1843.4430292598965\" width=\"625\" height=\"246.54010327022374\"/></clipPath><clipPath class=\"axesclip\" id=\"clipfa6231x10y8\"><rect x=\"95\" y=\"2128.016867469879\" width=\"625\" height=\"246.54010327022374\"/></clipPath><clipPath class=\"axesclip\" id=\"clipfa6231x10y9\"><rect x=\"95\" y=\"2412.5907056798624\" width=\"625\" height=\"246.54010327022374\"/></clipPath><clipPath class=\"axesclip\" id=\"clipfa6231x10y10\"><rect x=\"95\" y=\"2697.1645438898454\" width=\"625\" height=\"246.54010327022374\"/></clipPath><clipPath class=\"axesclip\" id=\"clipfa6231x10y11\"><rect x=\"95\" y=\"2981.738382099828\" width=\"625\" height=\"246.54010327022382\"/></clipPath><clipPath class=\"axesclip\" id=\"clipfa6231x10y12\"><rect x=\"95\" y=\"3266.3122203098105\" width=\"625\" height=\"246.54010327022374\"/></clipPath><clipPath class=\"axesclip\" id=\"clipfa6231x10y13\"><rect x=\"95\" y=\"3550.886058519793\" width=\"625\" height=\"246.54010327022377\"/></clipPath><clipPath class=\"axesclip\" id=\"clipfa6231x10y14\"><rect x=\"95\" y=\"3835.459896729776\" width=\"625\" height=\"246.54010327022377\"/></clipPath><clipPath class=\"axesclip\" id=\"clipfa6231x11\"><rect x=\"95\" y=\"0\" width=\"625\" height=\"4150\"/></clipPath><clipPath class=\"axesclip\" id=\"clipfa6231x11y\"><rect x=\"95\" y=\"136\" width=\"625\" height=\"246.54010327022374\"/></clipPath><clipPath class=\"axesclip\" id=\"clipfa6231x11y2\"><rect x=\"95\" y=\"420.5738382099826\" width=\"625\" height=\"246.54010327022374\"/></clipPath><clipPath class=\"axesclip\" id=\"clipfa6231x11y3\"><rect x=\"95\" y=\"705.1476764199653\" width=\"625\" height=\"246.54010327022374\"/></clipPath><clipPath class=\"axesclip\" id=\"clipfa6231x11y4\"><rect x=\"95\" y=\"989.7215146299483\" width=\"625\" height=\"246.54010327022374\"/></clipPath><clipPath class=\"axesclip\" id=\"clipfa6231x11y5\"><rect x=\"95\" y=\"1274.295352839931\" width=\"625\" height=\"246.54010327022374\"/></clipPath><clipPath class=\"axesclip\" id=\"clipfa6231x11y6\"><rect x=\"95\" y=\"1558.869191049914\" width=\"625\" height=\"246.54010327022374\"/></clipPath><clipPath class=\"axesclip\" id=\"clipfa6231x11y7\"><rect x=\"95\" y=\"1843.4430292598965\" width=\"625\" height=\"246.54010327022374\"/></clipPath><clipPath class=\"axesclip\" id=\"clipfa6231x11y8\"><rect x=\"95\" y=\"2128.016867469879\" width=\"625\" height=\"246.54010327022374\"/></clipPath><clipPath class=\"axesclip\" id=\"clipfa6231x11y9\"><rect x=\"95\" y=\"2412.5907056798624\" width=\"625\" height=\"246.54010327022374\"/></clipPath><clipPath class=\"axesclip\" id=\"clipfa6231x11y10\"><rect x=\"95\" y=\"2697.1645438898454\" width=\"625\" height=\"246.54010327022374\"/></clipPath><clipPath class=\"axesclip\" id=\"clipfa6231x11y11\"><rect x=\"95\" y=\"2981.738382099828\" width=\"625\" height=\"246.54010327022382\"/></clipPath><clipPath class=\"axesclip\" id=\"clipfa6231x11y12\"><rect x=\"95\" y=\"3266.3122203098105\" width=\"625\" height=\"246.54010327022374\"/></clipPath><clipPath class=\"axesclip\" id=\"clipfa6231x11y13\"><rect x=\"95\" y=\"3550.886058519793\" width=\"625\" height=\"246.54010327022377\"/></clipPath><clipPath class=\"axesclip\" id=\"clipfa6231x11y14\"><rect x=\"95\" y=\"3835.459896729776\" width=\"625\" height=\"246.54010327022377\"/></clipPath><clipPath class=\"axesclip\" id=\"clipfa6231x12\"><rect x=\"95\" y=\"0\" width=\"625\" height=\"4150\"/></clipPath><clipPath class=\"axesclip\" id=\"clipfa6231x12y\"><rect x=\"95\" y=\"136\" width=\"625\" height=\"246.54010327022374\"/></clipPath><clipPath class=\"axesclip\" id=\"clipfa6231x12y2\"><rect x=\"95\" y=\"420.5738382099826\" width=\"625\" height=\"246.54010327022374\"/></clipPath><clipPath class=\"axesclip\" id=\"clipfa6231x12y3\"><rect x=\"95\" y=\"705.1476764199653\" width=\"625\" height=\"246.54010327022374\"/></clipPath><clipPath class=\"axesclip\" id=\"clipfa6231x12y4\"><rect x=\"95\" y=\"989.7215146299483\" width=\"625\" height=\"246.54010327022374\"/></clipPath><clipPath class=\"axesclip\" id=\"clipfa6231x12y5\"><rect x=\"95\" y=\"1274.295352839931\" width=\"625\" height=\"246.54010327022374\"/></clipPath><clipPath class=\"axesclip\" id=\"clipfa6231x12y6\"><rect x=\"95\" y=\"1558.869191049914\" width=\"625\" height=\"246.54010327022374\"/></clipPath><clipPath class=\"axesclip\" id=\"clipfa6231x12y7\"><rect x=\"95\" y=\"1843.4430292598965\" width=\"625\" height=\"246.54010327022374\"/></clipPath><clipPath class=\"axesclip\" id=\"clipfa6231x12y8\"><rect x=\"95\" y=\"2128.016867469879\" width=\"625\" height=\"246.54010327022374\"/></clipPath><clipPath class=\"axesclip\" id=\"clipfa6231x12y9\"><rect x=\"95\" y=\"2412.5907056798624\" width=\"625\" height=\"246.54010327022374\"/></clipPath><clipPath class=\"axesclip\" id=\"clipfa6231x12y10\"><rect x=\"95\" y=\"2697.1645438898454\" width=\"625\" height=\"246.54010327022374\"/></clipPath><clipPath class=\"axesclip\" id=\"clipfa6231x12y11\"><rect x=\"95\" y=\"2981.738382099828\" width=\"625\" height=\"246.54010327022382\"/></clipPath><clipPath class=\"axesclip\" id=\"clipfa6231x12y12\"><rect x=\"95\" y=\"3266.3122203098105\" width=\"625\" height=\"246.54010327022374\"/></clipPath><clipPath class=\"axesclip\" id=\"clipfa6231x12y13\"><rect x=\"95\" y=\"3550.886058519793\" width=\"625\" height=\"246.54010327022377\"/></clipPath><clipPath class=\"axesclip\" id=\"clipfa6231x12y14\"><rect x=\"95\" y=\"3835.459896729776\" width=\"625\" height=\"246.54010327022377\"/></clipPath><clipPath class=\"axesclip\" id=\"clipfa6231x13\"><rect x=\"95\" y=\"0\" width=\"625\" height=\"4150\"/></clipPath><clipPath class=\"axesclip\" id=\"clipfa6231x13y\"><rect x=\"95\" y=\"136\" width=\"625\" height=\"246.54010327022374\"/></clipPath><clipPath class=\"axesclip\" id=\"clipfa6231x13y2\"><rect x=\"95\" y=\"420.5738382099826\" width=\"625\" height=\"246.54010327022374\"/></clipPath><clipPath class=\"axesclip\" id=\"clipfa6231x13y3\"><rect x=\"95\" y=\"705.1476764199653\" width=\"625\" height=\"246.54010327022374\"/></clipPath><clipPath class=\"axesclip\" id=\"clipfa6231x13y4\"><rect x=\"95\" y=\"989.7215146299483\" width=\"625\" height=\"246.54010327022374\"/></clipPath><clipPath class=\"axesclip\" id=\"clipfa6231x13y5\"><rect x=\"95\" y=\"1274.295352839931\" width=\"625\" height=\"246.54010327022374\"/></clipPath><clipPath class=\"axesclip\" id=\"clipfa6231x13y6\"><rect x=\"95\" y=\"1558.869191049914\" width=\"625\" height=\"246.54010327022374\"/></clipPath><clipPath class=\"axesclip\" id=\"clipfa6231x13y7\"><rect x=\"95\" y=\"1843.4430292598965\" width=\"625\" height=\"246.54010327022374\"/></clipPath><clipPath class=\"axesclip\" id=\"clipfa6231x13y8\"><rect x=\"95\" y=\"2128.016867469879\" width=\"625\" height=\"246.54010327022374\"/></clipPath><clipPath class=\"axesclip\" id=\"clipfa6231x13y9\"><rect x=\"95\" y=\"2412.5907056798624\" width=\"625\" height=\"246.54010327022374\"/></clipPath><clipPath class=\"axesclip\" id=\"clipfa6231x13y10\"><rect x=\"95\" y=\"2697.1645438898454\" width=\"625\" height=\"246.54010327022374\"/></clipPath><clipPath class=\"axesclip\" id=\"clipfa6231x13y11\"><rect x=\"95\" y=\"2981.738382099828\" width=\"625\" height=\"246.54010327022382\"/></clipPath><clipPath class=\"axesclip\" id=\"clipfa6231x13y12\"><rect x=\"95\" y=\"3266.3122203098105\" width=\"625\" height=\"246.54010327022374\"/></clipPath><clipPath class=\"axesclip\" id=\"clipfa6231x13y13\"><rect x=\"95\" y=\"3550.886058519793\" width=\"625\" height=\"246.54010327022377\"/></clipPath><clipPath class=\"axesclip\" id=\"clipfa6231x13y14\"><rect x=\"95\" y=\"3835.459896729776\" width=\"625\" height=\"246.54010327022377\"/></clipPath><clipPath class=\"axesclip\" id=\"clipfa6231x14\"><rect x=\"95\" y=\"0\" width=\"625\" height=\"4150\"/></clipPath><clipPath class=\"axesclip\" id=\"clipfa6231x14y\"><rect x=\"95\" y=\"136\" width=\"625\" height=\"246.54010327022374\"/></clipPath><clipPath class=\"axesclip\" id=\"clipfa6231x14y2\"><rect x=\"95\" y=\"420.5738382099826\" width=\"625\" height=\"246.54010327022374\"/></clipPath><clipPath class=\"axesclip\" id=\"clipfa6231x14y3\"><rect x=\"95\" y=\"705.1476764199653\" width=\"625\" height=\"246.54010327022374\"/></clipPath><clipPath class=\"axesclip\" id=\"clipfa6231x14y4\"><rect x=\"95\" y=\"989.7215146299483\" width=\"625\" height=\"246.54010327022374\"/></clipPath><clipPath class=\"axesclip\" id=\"clipfa6231x14y5\"><rect x=\"95\" y=\"1274.295352839931\" width=\"625\" height=\"246.54010327022374\"/></clipPath><clipPath class=\"axesclip\" id=\"clipfa6231x14y6\"><rect x=\"95\" y=\"1558.869191049914\" width=\"625\" height=\"246.54010327022374\"/></clipPath><clipPath class=\"axesclip\" id=\"clipfa6231x14y7\"><rect x=\"95\" y=\"1843.4430292598965\" width=\"625\" height=\"246.54010327022374\"/></clipPath><clipPath class=\"axesclip\" id=\"clipfa6231x14y8\"><rect x=\"95\" y=\"2128.016867469879\" width=\"625\" height=\"246.54010327022374\"/></clipPath><clipPath class=\"axesclip\" id=\"clipfa6231x14y9\"><rect x=\"95\" y=\"2412.5907056798624\" width=\"625\" height=\"246.54010327022374\"/></clipPath><clipPath class=\"axesclip\" id=\"clipfa6231x14y10\"><rect x=\"95\" y=\"2697.1645438898454\" width=\"625\" height=\"246.54010327022374\"/></clipPath><clipPath class=\"axesclip\" id=\"clipfa6231x14y11\"><rect x=\"95\" y=\"2981.738382099828\" width=\"625\" height=\"246.54010327022382\"/></clipPath><clipPath class=\"axesclip\" id=\"clipfa6231x14y12\"><rect x=\"95\" y=\"3266.3122203098105\" width=\"625\" height=\"246.54010327022374\"/></clipPath><clipPath class=\"axesclip\" id=\"clipfa6231x14y13\"><rect x=\"95\" y=\"3550.886058519793\" width=\"625\" height=\"246.54010327022377\"/></clipPath><clipPath class=\"axesclip\" id=\"clipfa6231x14y14\"><rect x=\"95\" y=\"3835.459896729776\" width=\"625\" height=\"246.54010327022377\"/></clipPath></g><g class=\"gradients\"/><g class=\"patterns\"/></defs><g class=\"bglayer\"><rect class=\"bg\" x=\"95\" y=\"136\" width=\"625\" height=\"246.54010327022374\" style=\"fill: rgb(229, 236, 246); fill-opacity: 1; stroke-width: 0;\"/><rect class=\"bg\" x=\"95\" y=\"420.5738382099826\" width=\"625\" height=\"246.54010327022374\" style=\"fill: rgb(229, 236, 246); fill-opacity: 1; stroke-width: 0;\"/><rect class=\"bg\" x=\"95\" y=\"705.1476764199653\" width=\"625\" height=\"246.54010327022374\" style=\"fill: rgb(229, 236, 246); fill-opacity: 1; stroke-width: 0;\"/><rect class=\"bg\" x=\"95\" y=\"989.7215146299483\" width=\"625\" height=\"246.54010327022374\" style=\"fill: rgb(229, 236, 246); fill-opacity: 1; stroke-width: 0;\"/><rect class=\"bg\" x=\"95\" y=\"1274.295352839931\" width=\"625\" height=\"246.54010327022374\" style=\"fill: rgb(229, 236, 246); fill-opacity: 1; stroke-width: 0;\"/><rect class=\"bg\" x=\"95\" y=\"1558.869191049914\" width=\"625\" height=\"246.54010327022374\" style=\"fill: rgb(229, 236, 246); fill-opacity: 1; stroke-width: 0;\"/><rect class=\"bg\" x=\"95\" y=\"1843.4430292598965\" width=\"625\" height=\"246.54010327022374\" style=\"fill: rgb(229, 236, 246); fill-opacity: 1; stroke-width: 0;\"/><rect class=\"bg\" x=\"95\" y=\"2128.016867469879\" width=\"625\" height=\"246.54010327022374\" style=\"fill: rgb(229, 236, 246); fill-opacity: 1; stroke-width: 0;\"/><rect class=\"bg\" x=\"95\" y=\"2412.5907056798624\" width=\"625\" height=\"246.54010327022374\" style=\"fill: rgb(229, 236, 246); fill-opacity: 1; stroke-width: 0;\"/><rect class=\"bg\" x=\"95\" y=\"2697.1645438898454\" width=\"625\" height=\"246.54010327022374\" style=\"fill: rgb(229, 236, 246); fill-opacity: 1; stroke-width: 0;\"/><rect class=\"bg\" x=\"95\" y=\"2981.738382099828\" width=\"625\" height=\"246.54010327022382\" style=\"fill: rgb(229, 236, 246); fill-opacity: 1; stroke-width: 0;\"/><rect class=\"bg\" x=\"95\" y=\"3266.3122203098105\" width=\"625\" height=\"246.54010327022374\" style=\"fill: rgb(229, 236, 246); fill-opacity: 1; stroke-width: 0;\"/><rect class=\"bg\" x=\"95\" y=\"3550.886058519793\" width=\"625\" height=\"246.54010327022377\" style=\"fill: rgb(229, 236, 246); fill-opacity: 1; stroke-width: 0;\"/><rect class=\"bg\" x=\"95\" y=\"3835.459896729776\" width=\"625\" height=\"246.54010327022377\" style=\"fill: rgb(229, 236, 246); fill-opacity: 1; stroke-width: 0;\"/></g><g class=\"layer-below\"><g class=\"imagelayer\"/><g class=\"shapelayer\"><path data-index=\"10\" fill-rule=\"evenodd\" d=\"M130.21,3228.278485370052H683.75V2981.738382099828H130.21Z\" clip-path=\"url(#clipfa6231x11)\" style=\"opacity: 0.2; stroke: rgb(0, 0, 0); stroke-opacity: 0; fill: rgb(255, 165, 0); fill-opacity: 1; stroke-width: 0px;\"/></g></g><g class=\"cartesianlayer\"><g class=\"subplot xy\"><g class=\"layer-subplot\"><g class=\"shapelayer\"/><g class=\"imagelayer\"/></g><g class=\"gridlayer\"><g class=\"x\"><path class=\"xgrid crisp\" transform=\"translate(130.21,0)\" d=\"M0,136v246.54010327022374\" style=\"stroke: rgb(255, 255, 255); stroke-opacity: 1; stroke-width: 1px;\"/><path class=\"xgrid crisp\" transform=\"translate(268.6,0)\" d=\"M0,136v246.54010327022374\" style=\"stroke: rgb(255, 255, 255); stroke-opacity: 1; stroke-width: 1px;\"/><path class=\"xgrid crisp\" transform=\"translate(406.98,0)\" d=\"M0,136v246.54010327022374\" style=\"stroke: rgb(255, 255, 255); stroke-opacity: 1; stroke-width: 1px;\"/><path class=\"xgrid crisp\" transform=\"translate(545.37,0)\" d=\"M0,136v246.54010327022374\" style=\"stroke: rgb(255, 255, 255); stroke-opacity: 1; stroke-width: 1px;\"/><path class=\"xgrid crisp\" transform=\"translate(683.75,0)\" d=\"M0,136v246.54010327022374\" style=\"stroke: rgb(255, 255, 255); stroke-opacity: 1; stroke-width: 1px;\"/></g><g class=\"y\"><path class=\"ygrid crisp\" transform=\"translate(0,366.46000000000004)\" d=\"M95,0h625\" style=\"stroke: rgb(255, 255, 255); stroke-opacity: 1; stroke-width: 1px;\"/><path class=\"ygrid crisp\" transform=\"translate(0,331.52)\" d=\"M95,0h625\" style=\"stroke: rgb(255, 255, 255); stroke-opacity: 1; stroke-width: 1px;\"/><path class=\"ygrid crisp\" transform=\"translate(0,296.58000000000004)\" d=\"M95,0h625\" style=\"stroke: rgb(255, 255, 255); stroke-opacity: 1; stroke-width: 1px;\"/><path class=\"ygrid crisp\" transform=\"translate(0,261.64)\" d=\"M95,0h625\" style=\"stroke: rgb(255, 255, 255); stroke-opacity: 1; stroke-width: 1px;\"/><path class=\"ygrid crisp\" transform=\"translate(0,226.7)\" d=\"M95,0h625\" style=\"stroke: rgb(255, 255, 255); stroke-opacity: 1; stroke-width: 1px;\"/><path class=\"ygrid crisp\" transform=\"translate(0,191.76)\" d=\"M95,0h625\" style=\"stroke: rgb(255, 255, 255); stroke-opacity: 1; stroke-width: 1px;\"/><path class=\"ygrid crisp\" transform=\"translate(0,156.82)\" d=\"M95,0h625\" style=\"stroke: rgb(255, 255, 255); stroke-opacity: 1; stroke-width: 1px;\"/></g></g><g class=\"zerolinelayer\"/><path class=\"xlines-below\"/><path class=\"ylines-below\"/><g class=\"overlines-below\"/><g class=\"xaxislayer-below\"/><g class=\"yaxislayer-below\"/><g class=\"overaxes-below\"/><g class=\"plot\" transform=\"translate(95,136)\" clip-path=\"url(#clipfa6231xyplot)\"><g class=\"scatterlayer mlayer\"><g class=\"trace scatter trace3bff16ce-1a81-49e9-91ad-085d214f6f7d\" style=\"stroke-miterlimit: 2; opacity: 1;\"><g class=\"fills\"/><g class=\"errorbars\"/><g class=\"lines\"><path class=\"js-line\" d=\"M173.6,230.46L588.75,20.82\" style=\"vector-effect: non-scaling-stroke; fill: none; stroke: rgb(31, 119, 180); stroke-opacity: 1; stroke-width: 2px; opacity: 1;\"/></g><g class=\"points\"><path class=\"point\" transform=\"translate(173.6,230.46)\" d=\"M3,0A3,3 0 1,1 0,-3A3,3 0 0,1 3,0Z\" style=\"opacity: 1; stroke-width: 0px; fill: rgb(31, 119, 180); fill-opacity: 1;\"/><path class=\"point\" transform=\"translate(311.98,160.58)\" d=\"M3,0A3,3 0 1,1 0,-3A3,3 0 0,1 3,0Z\" style=\"opacity: 1; stroke-width: 0px; fill: rgb(31, 119, 180); fill-opacity: 1;\"/><path class=\"point\" transform=\"translate(450.37,90.7)\" d=\"M3,0A3,3 0 1,1 0,-3A3,3 0 0,1 3,0Z\" style=\"opacity: 1; stroke-width: 0px; fill: rgb(31, 119, 180); fill-opacity: 1;\"/><path class=\"point\" transform=\"translate(588.75,20.82)\" d=\"M3,0A3,3 0 1,1 0,-3A3,3 0 0,1 3,0Z\" style=\"opacity: 1; stroke-width: 0px; fill: rgb(31, 119, 180); fill-opacity: 1;\"/></g><g class=\"text\"/></g><g class=\"trace scatter tracebe1edb96-b8e3-4d6a-a406-ce1d51637a91\" style=\"stroke-miterlimit: 2; opacity: 1;\"><g class=\"fills\"/><g class=\"errorbars\"/><g class=\"lines\"/><g class=\"points\"><path class=\"point plotly-customdata\" transform=\"translate(173.6,229.07)\" d=\"M-4.62,2H4.62L0,-4Z\" style=\"opacity: 1; stroke-width: 1px; fill: rgb(55, 177, 63); fill-opacity: 1; stroke: rgb(38, 123, 44); stroke-opacity: 1;\"/><path class=\"point plotly-customdata\" transform=\"translate(588.75,17.33)\" d=\"M-4.62,2H4.62L0,-4Z\" style=\"opacity: 1; stroke-width: 1px; fill: rgb(55, 177, 63); fill-opacity: 1; stroke: rgb(38, 123, 44); stroke-opacity: 1;\"/></g><g class=\"text\"/></g><g class=\"trace scatter trace7f57b0fd-3344-4ef6-adbc-1897934302b5\" style=\"stroke-miterlimit: 2; opacity: 1;\"><g class=\"fills\"/><g class=\"errorbars\"/><g class=\"lines\"/><g class=\"points\"><path class=\"point plotly-customdata\" transform=\"translate(311.98,162.68)\" d=\"M-4.62,-2H4.62L0,4Z\" style=\"opacity: 1; stroke-width: 1px; fill: rgb(234, 67, 53); fill-opacity: 1; stroke: rgb(181, 31, 18); stroke-opacity: 1;\"/></g><g class=\"text\"/></g></g></g><g class=\"overplot\"/><path class=\"xlines-above crisp\" d=\"M0,0\" style=\"fill: none;\"/><path class=\"ylines-above crisp\" d=\"M0,0\" style=\"fill: none;\"/><g class=\"overlines-above\"/><g class=\"xaxislayer-above\"/><g class=\"yaxislayer-above\"><g class=\"ytick\"><text text-anchor=\"end\" x=\"94\" y=\"4.199999999999999\" transform=\"translate(0,366.46000000000004)\" style=\"font-family: 'Open Sans', verdana, arial, sans-serif; font-size: 12px; fill: rgb(42, 63, 95); fill-opacity: 1; white-space: pre; opacity: 1;\">2</text></g><g class=\"ytick\"><text text-anchor=\"end\" x=\"94\" y=\"4.199999999999999\" style=\"font-family: 'Open Sans', verdana, arial, sans-serif; font-size: 12px; fill: rgb(42, 63, 95); fill-opacity: 1; white-space: pre; opacity: 1;\" transform=\"translate(0,331.52)\">2.5</text></g><g class=\"ytick\"><text text-anchor=\"end\" x=\"94\" y=\"4.199999999999999\" style=\"font-family: 'Open Sans', verdana, arial, sans-serif; font-size: 12px; fill: rgb(42, 63, 95); fill-opacity: 1; white-space: pre; opacity: 1;\" transform=\"translate(0,296.58000000000004)\">3</text></g><g class=\"ytick\"><text text-anchor=\"end\" x=\"94\" y=\"4.199999999999999\" style=\"font-family: 'Open Sans', verdana, arial, sans-serif; font-size: 12px; fill: rgb(42, 63, 95); fill-opacity: 1; white-space: pre; opacity: 1;\" transform=\"translate(0,261.64)\">3.5</text></g><g class=\"ytick\"><text text-anchor=\"end\" x=\"94\" y=\"4.199999999999999\" style=\"font-family: 'Open Sans', verdana, arial, sans-serif; font-size: 12px; fill: rgb(42, 63, 95); fill-opacity: 1; white-space: pre; opacity: 1;\" transform=\"translate(0,226.7)\">4</text></g><g class=\"ytick\"><text text-anchor=\"end\" x=\"94\" y=\"4.199999999999999\" style=\"font-family: 'Open Sans', verdana, arial, sans-serif; font-size: 12px; fill: rgb(42, 63, 95); fill-opacity: 1; white-space: pre; opacity: 1;\" transform=\"translate(0,191.76)\">4.5</text></g><g class=\"ytick\"><text text-anchor=\"end\" x=\"94\" y=\"4.199999999999999\" style=\"font-family: 'Open Sans', verdana, arial, sans-serif; font-size: 12px; fill: rgb(42, 63, 95); fill-opacity: 1; white-space: pre; opacity: 1;\" transform=\"translate(0,156.82)\">5</text></g></g><g class=\"overaxes-above\"/></g><g class=\"subplot x2y2\"><g class=\"layer-subplot\"><g class=\"shapelayer\"><path data-index=\"0\" fill-rule=\"evenodd\" d=\"M268.6,649.6338382099826H406.98V583.0538382099826H268.6Z\" clip-path=\"url(#clipfa6231x2y2)\" style=\"opacity: 0.2; stroke: rgb(0, 0, 0); stroke-opacity: 0; fill: rgb(255, 0, 0); fill-opacity: 1; stroke-width: 0px;\"/><path data-index=\"1\" fill-rule=\"evenodd\" d=\"M683.75,437.2738382099826H683.75V440.7838382099826H683.75Z\" clip-path=\"url(#clipfa6231x2y2)\" style=\"opacity: 0.2; stroke: rgb(0, 0, 0); stroke-opacity: 0; fill: rgb(255, 0, 0); fill-opacity: 1; stroke-width: 0px;\"/></g><g class=\"imagelayer\"/></g><g class=\"gridlayer\"><g class=\"x2\"><path class=\"x2grid crisp\" transform=\"translate(130.21,0)\" d=\"M0,420.5738382099826v246.54010327022374\" style=\"stroke: rgb(255, 255, 255); stroke-opacity: 1; stroke-width: 1px;\"/><path class=\"x2grid crisp\" transform=\"translate(268.6,0)\" d=\"M0,420.5738382099826v246.54010327022374\" style=\"stroke: rgb(255, 255, 255); stroke-opacity: 1; stroke-width: 1px;\"/><path class=\"x2grid crisp\" transform=\"translate(406.98,0)\" d=\"M0,420.5738382099826v246.54010327022374\" style=\"stroke: rgb(255, 255, 255); stroke-opacity: 1; stroke-width: 1px;\"/><path class=\"x2grid crisp\" transform=\"translate(545.37,0)\" d=\"M0,420.5738382099826v246.54010327022374\" style=\"stroke: rgb(255, 255, 255); stroke-opacity: 1; stroke-width: 1px;\"/><path class=\"x2grid crisp\" transform=\"translate(683.75,0)\" d=\"M0,420.5738382099826v246.54010327022374\" style=\"stroke: rgb(255, 255, 255); stroke-opacity: 1; stroke-width: 1px;\"/></g><g class=\"y2\"><path class=\"y2grid crisp\" transform=\"translate(0,651.0338382099826)\" d=\"M95,0h625\" style=\"stroke: rgb(255, 255, 255); stroke-opacity: 1; stroke-width: 1px;\"/><path class=\"y2grid crisp\" transform=\"translate(0,615.9938382099826)\" d=\"M95,0h625\" style=\"stroke: rgb(255, 255, 255); stroke-opacity: 1; stroke-width: 1px;\"/><path class=\"y2grid crisp\" transform=\"translate(0,580.9538382099827)\" d=\"M95,0h625\" style=\"stroke: rgb(255, 255, 255); stroke-opacity: 1; stroke-width: 1px;\"/><path class=\"y2grid crisp\" transform=\"translate(0,545.9038382099826)\" d=\"M95,0h625\" style=\"stroke: rgb(255, 255, 255); stroke-opacity: 1; stroke-width: 1px;\"/><path class=\"y2grid crisp\" transform=\"translate(0,510.86383820998265)\" d=\"M95,0h625\" style=\"stroke: rgb(255, 255, 255); stroke-opacity: 1; stroke-width: 1px;\"/><path class=\"y2grid crisp\" transform=\"translate(0,475.8238382099826)\" d=\"M95,0h625\" style=\"stroke: rgb(255, 255, 255); stroke-opacity: 1; stroke-width: 1px;\"/><path class=\"y2grid crisp\" transform=\"translate(0,440.7838382099826)\" d=\"M95,0h625\" style=\"stroke: rgb(255, 255, 255); stroke-opacity: 1; stroke-width: 1px;\"/></g></g><g class=\"zerolinelayer\"/><path class=\"xlines-below\"/><path class=\"ylines-below\"/><g class=\"overlines-below\"/><g class=\"xaxislayer-below\"/><g class=\"yaxislayer-below\"/><g class=\"overaxes-below\"/><g class=\"plot\" transform=\"translate(95,420.5738382099826)\" clip-path=\"url(#clipfa6231x2y2plot)\"><g class=\"scatterlayer mlayer\"><g class=\"trace scatter trace58eb5227-64f6-4190-a060-98c7d0065c23\" style=\"stroke-miterlimit: 2; opacity: 1;\"><g class=\"fills\"/><g class=\"errorbars\"/><g class=\"lines\"><path class=\"js-line\" d=\"M173.6,230.46L588.75,20.21\" style=\"vector-effect: non-scaling-stroke; fill: none; stroke: rgb(31, 119, 180); stroke-opacity: 1; stroke-width: 2px; opacity: 1;\"/></g><g class=\"points\"><path class=\"point\" transform=\"translate(173.6,230.46)\" d=\"M3,0A3,3 0 1,1 0,-3A3,3 0 0,1 3,0Z\" style=\"opacity: 1; stroke-width: 0px; fill: rgb(31, 119, 180); fill-opacity: 1;\"/><path class=\"point\" transform=\"translate(311.98,160.38)\" d=\"M3,0A3,3 0 1,1 0,-3A3,3 0 0,1 3,0Z\" style=\"opacity: 1; stroke-width: 0px; fill: rgb(31, 119, 180); fill-opacity: 1;\"/><path class=\"point\" transform=\"translate(450.37,90.29)\" d=\"M3,0A3,3 0 1,1 0,-3A3,3 0 0,1 3,0Z\" style=\"opacity: 1; stroke-width: 0px; fill: rgb(31, 119, 180); fill-opacity: 1;\"/><path class=\"point\" transform=\"translate(588.75,20.21)\" d=\"M3,0A3,3 0 1,1 0,-3A3,3 0 0,1 3,0Z\" style=\"opacity: 1; stroke-width: 0px; fill: rgb(31, 119, 180); fill-opacity: 1;\"/></g><g class=\"text\"/></g><g class=\"trace scatter traced08ebea1-c130-43ec-9b5f-2e6177b7ad76\" style=\"stroke-miterlimit: 2; opacity: 1;\"><g class=\"fills\"/><g class=\"errorbars\"/><g class=\"lines\"/><g class=\"points\"><path class=\"point plotly-customdata\" transform=\"translate(173.6,229.06)\" d=\"M3.5,3.5H-3.5V-3.5H3.5Z\" style=\"opacity: 1; stroke-width: 1px; fill: rgb(66, 133, 244); fill-opacity: 1; stroke: rgb(11, 84, 205); stroke-opacity: 1;\"/><path class=\"point plotly-customdata\" transform=\"translate(588.75,16.7)\" d=\"M3.5,3.5H-3.5V-3.5H3.5Z\" style=\"opacity: 1; stroke-width: 1px; fill: rgb(66, 133, 244); fill-opacity: 1; stroke: rgb(11, 84, 205); stroke-opacity: 1;\"/></g><g class=\"text\"/></g><g class=\"trace scatter trace86d6cfe7-2b4b-41d0-a54f-9562c6685bd4\" style=\"stroke-miterlimit: 2; opacity: 1;\"><g class=\"fills\"/><g class=\"errorbars\"/><g class=\"lines\"/><g class=\"points\"><path class=\"point plotly-customdata\" transform=\"translate(311.98,162.48)\" d=\"M3.5,3.5H-3.5V-3.5H3.5Z\" style=\"opacity: 1; stroke-width: 1px; fill: rgb(234, 67, 53); fill-opacity: 1; stroke: rgb(181, 31, 18); stroke-opacity: 1;\"/></g><g class=\"text\"/></g><g class=\"trace scatter trace8f0aeca2-7a4a-446d-a787-9e25d23bef71\" style=\"stroke-miterlimit: 2; opacity: 1;\"><g class=\"fills\"/><g class=\"errorbars\"/><g class=\"lines\"/><g class=\"points\"><path class=\"point plotly-customdata\" transform=\"translate(588.75,20.21)\" d=\"M3.5,3.5H-3.5V-3.5H3.5Z\" style=\"opacity: 1; stroke-width: 1px; fill: rgb(255, 170, 0); fill-opacity: 1; stroke: rgb(178, 118, 0); stroke-opacity: 1;\"/></g><g class=\"text\"/></g></g></g><g class=\"overplot\"/><path class=\"xlines-above crisp\" d=\"M0,0\" style=\"fill: none;\"/><path class=\"ylines-above crisp\" d=\"M0,0\" style=\"fill: none;\"/><g class=\"overlines-above\"/><g class=\"xaxislayer-above\"/><g class=\"yaxislayer-above\"><g class=\"y2tick\"><text text-anchor=\"end\" x=\"94\" y=\"4.199999999999999\" transform=\"translate(0,651.0338382099826)\" style=\"font-family: 'Open Sans', verdana, arial, sans-serif; font-size: 12px; fill: rgb(42, 63, 95); fill-opacity: 1; white-space: pre; opacity: 1;\">2</text></g><g class=\"y2tick\"><text text-anchor=\"end\" x=\"94\" y=\"4.199999999999999\" style=\"font-family: 'Open Sans', verdana, arial, sans-serif; font-size: 12px; fill: rgb(42, 63, 95); fill-opacity: 1; white-space: pre; opacity: 1;\" transform=\"translate(0,615.9938382099826)\">2.5</text></g><g class=\"y2tick\"><text text-anchor=\"end\" x=\"94\" y=\"4.199999999999999\" style=\"font-family: 'Open Sans', verdana, arial, sans-serif; font-size: 12px; fill: rgb(42, 63, 95); fill-opacity: 1; white-space: pre; opacity: 1;\" transform=\"translate(0,580.9538382099827)\">3</text></g><g class=\"y2tick\"><text text-anchor=\"end\" x=\"94\" y=\"4.199999999999999\" style=\"font-family: 'Open Sans', verdana, arial, sans-serif; font-size: 12px; fill: rgb(42, 63, 95); fill-opacity: 1; white-space: pre; opacity: 1;\" transform=\"translate(0,545.9038382099826)\">3.5</text></g><g class=\"y2tick\"><text text-anchor=\"end\" x=\"94\" y=\"4.199999999999999\" style=\"font-family: 'Open Sans', verdana, arial, sans-serif; font-size: 12px; fill: rgb(42, 63, 95); fill-opacity: 1; white-space: pre; opacity: 1;\" transform=\"translate(0,510.86383820998265)\">4</text></g><g class=\"y2tick\"><text text-anchor=\"end\" x=\"94\" y=\"4.199999999999999\" style=\"font-family: 'Open Sans', verdana, arial, sans-serif; font-size: 12px; fill: rgb(42, 63, 95); fill-opacity: 1; white-space: pre; opacity: 1;\" transform=\"translate(0,475.8238382099826)\">4.5</text></g><g class=\"y2tick\"><text text-anchor=\"end\" x=\"94\" y=\"4.199999999999999\" style=\"font-family: 'Open Sans', verdana, arial, sans-serif; font-size: 12px; fill: rgb(42, 63, 95); fill-opacity: 1; white-space: pre; opacity: 1;\" transform=\"translate(0,440.7838382099826)\">5</text></g></g><g class=\"overaxes-above\"/></g><g class=\"subplot x3y3\"><g class=\"layer-subplot\"><g class=\"shapelayer\"/><g class=\"imagelayer\"/></g><g class=\"gridlayer\"><g class=\"x3\"><path class=\"x3grid crisp\" transform=\"translate(130.21,0)\" d=\"M0,705.1476764199653v246.54010327022374\" style=\"stroke: rgb(255, 255, 255); stroke-opacity: 1; stroke-width: 1px;\"/><path class=\"x3grid crisp\" transform=\"translate(268.6,0)\" d=\"M0,705.1476764199653v246.54010327022374\" style=\"stroke: rgb(255, 255, 255); stroke-opacity: 1; stroke-width: 1px;\"/><path class=\"x3grid crisp\" transform=\"translate(406.98,0)\" d=\"M0,705.1476764199653v246.54010327022374\" style=\"stroke: rgb(255, 255, 255); stroke-opacity: 1; stroke-width: 1px;\"/><path class=\"x3grid crisp\" transform=\"translate(545.37,0)\" d=\"M0,705.1476764199653v246.54010327022374\" style=\"stroke: rgb(255, 255, 255); stroke-opacity: 1; stroke-width: 1px;\"/><path class=\"x3grid crisp\" transform=\"translate(683.75,0)\" d=\"M0,705.1476764199653v246.54010327022374\" style=\"stroke: rgb(255, 255, 255); stroke-opacity: 1; stroke-width: 1px;\"/></g><g class=\"y3\"><path class=\"y3grid crisp\" transform=\"translate(0,912.2676764199653)\" d=\"M95,0h625\" style=\"stroke: rgb(255, 255, 255); stroke-opacity: 1; stroke-width: 1px;\"/><path class=\"y3grid crisp\" transform=\"translate(0,871.0376764199652)\" d=\"M95,0h625\" style=\"stroke: rgb(255, 255, 255); stroke-opacity: 1; stroke-width: 1px;\"/><path class=\"y3grid crisp\" transform=\"translate(0,829.8176764199652)\" d=\"M95,0h625\" style=\"stroke: rgb(255, 255, 255); stroke-opacity: 1; stroke-width: 1px;\"/><path class=\"y3grid crisp\" transform=\"translate(0,788.5976764199653)\" d=\"M95,0h625\" style=\"stroke: rgb(255, 255, 255); stroke-opacity: 1; stroke-width: 1px;\"/><path class=\"y3grid crisp\" transform=\"translate(0,747.3676764199653)\" d=\"M95,0h625\" style=\"stroke: rgb(255, 255, 255); stroke-opacity: 1; stroke-width: 1px;\"/></g></g><g class=\"zerolinelayer\"><path class=\"y3zl zl crisp\" transform=\"translate(0,706.1476764199653)\" d=\"M95,0h625\" style=\"stroke: rgb(255, 255, 255); stroke-opacity: 1; stroke-width: 2px;\"/></g><path class=\"xlines-below\"/><path class=\"ylines-below\"/><g class=\"overlines-below\"/><g class=\"xaxislayer-below\"/><g class=\"yaxislayer-below\"/><g class=\"overaxes-below\"/><g class=\"plot\" transform=\"translate(95,705.1476764199653)\" clip-path=\"url(#clipfa6231x3y3plot)\"><g class=\"scatterlayer mlayer\"><g class=\"trace scatter trace8644d42c-98ca-42d3-9da8-087c03be7303\" style=\"stroke-miterlimit: 2; opacity: 1;\"><g class=\"fills\"/><g class=\"errorbars\"/><g class=\"lines\"/><g class=\"points\"><path class=\"point plotly-customdata\" transform=\"translate(311.98,225.46)\" d=\"M7,0A7,7 0 1,1 0,-7A7,7 0 0,1 7,0Z\" style=\"opacity: 0.9; stroke-width: 1px; fill: rgb(234, 67, 53); fill-opacity: 1; stroke: rgb(181, 31, 18); stroke-opacity: 1;\"/></g><g class=\"text\"/></g><g class=\"trace scatter trace0a1ecf13-32a3-48f0-b049-51f5e7846347\" style=\"stroke-miterlimit: 2; opacity: 1;\"><g class=\"fills\"/><g class=\"errorbars\"/><g class=\"lines\"/><g class=\"points\"><path class=\"point plotly-customdata\" transform=\"translate(588.75,17.37)\" d=\"M3.5,0A3.5,3.5 0 1,1 0,-3.5A3.5,3.5 0 0,1 3.5,0Z\" style=\"opacity: 0.75; stroke-width: 1px; fill: rgb(255, 170, 0); fill-opacity: 1; stroke: rgb(178, 118, 0); stroke-opacity: 1;\"/></g><g class=\"text\"/></g></g></g><g class=\"overplot\"/><path class=\"xlines-above crisp\" d=\"M0,0\" style=\"fill: none;\"/><path class=\"ylines-above crisp\" d=\"M0,0\" style=\"fill: none;\"/><g class=\"overlines-above\"/><g class=\"xaxislayer-above\"/><g class=\"yaxislayer-above\"><g class=\"y3tick\"><text text-anchor=\"end\" x=\"94\" y=\"4.199999999999999\" transform=\"translate(0,912.2676764199653)\" style=\"font-family: 'Open Sans', verdana, arial, sans-serif; font-size: 12px; fill: rgb(42, 63, 95); fill-opacity: 1; white-space: pre; opacity: 1;\">−50.00%</text></g><g class=\"y3tick\"><text text-anchor=\"end\" x=\"94\" y=\"4.199999999999999\" style=\"font-family: 'Open Sans', verdana, arial, sans-serif; font-size: 12px; fill: rgb(42, 63, 95); fill-opacity: 1; white-space: pre; opacity: 1;\" transform=\"translate(0,871.0376764199652)\">−40.00%</text></g><g class=\"y3tick\"><text text-anchor=\"end\" x=\"94\" y=\"4.199999999999999\" style=\"font-family: 'Open Sans', verdana, arial, sans-serif; font-size: 12px; fill: rgb(42, 63, 95); fill-opacity: 1; white-space: pre; opacity: 1;\" transform=\"translate(0,829.8176764199652)\">−30.00%</text></g><g class=\"y3tick\"><text text-anchor=\"end\" x=\"94\" y=\"4.199999999999999\" style=\"font-family: 'Open Sans', verdana, arial, sans-serif; font-size: 12px; fill: rgb(42, 63, 95); fill-opacity: 1; white-space: pre; opacity: 1;\" transform=\"translate(0,788.5976764199653)\">−20.00%</text></g><g class=\"y3tick\"><text text-anchor=\"end\" x=\"94\" y=\"4.199999999999999\" style=\"font-family: 'Open Sans', verdana, arial, sans-serif; font-size: 12px; fill: rgb(42, 63, 95); fill-opacity: 1; white-space: pre; opacity: 1;\" transform=\"translate(0,747.3676764199653)\">−10.00%</text></g><g class=\"y3tick\"><text text-anchor=\"end\" x=\"94\" y=\"4.199999999999999\" style=\"font-family: 'Open Sans', verdana, arial, sans-serif; font-size: 12px; fill: rgb(42, 63, 95); fill-opacity: 1; white-space: pre; opacity: 1;\" transform=\"translate(0,706.1476764199653)\">0.00%</text></g></g><g class=\"overaxes-above\"/></g><g class=\"subplot x4y4\"><g class=\"layer-subplot\"><g class=\"shapelayer\"/><g class=\"imagelayer\"/></g><g class=\"gridlayer\"><g class=\"x4\"><path class=\"x4grid crisp\" transform=\"translate(130.21,0)\" d=\"M0,989.7215146299483v246.54010327022374\" style=\"stroke: rgb(255, 255, 255); stroke-opacity: 1; stroke-width: 1px;\"/><path class=\"x4grid crisp\" transform=\"translate(268.6,0)\" d=\"M0,989.7215146299483v246.54010327022374\" style=\"stroke: rgb(255, 255, 255); stroke-opacity: 1; stroke-width: 1px;\"/><path class=\"x4grid crisp\" transform=\"translate(406.98,0)\" d=\"M0,989.7215146299483v246.54010327022374\" style=\"stroke: rgb(255, 255, 255); stroke-opacity: 1; stroke-width: 1px;\"/><path class=\"x4grid crisp\" transform=\"translate(545.37,0)\" d=\"M0,989.7215146299483v246.54010327022374\" style=\"stroke: rgb(255, 255, 255); stroke-opacity: 1; stroke-width: 1px;\"/><path class=\"x4grid crisp\" transform=\"translate(683.75,0)\" d=\"M0,989.7215146299483v246.54010327022374\" style=\"stroke: rgb(255, 255, 255); stroke-opacity: 1; stroke-width: 1px;\"/></g><g class=\"y4\"><path class=\"y4grid crisp\" transform=\"translate(0,1161.7115146299484)\" d=\"M95,0h625\" style=\"stroke: rgb(255, 255, 255); stroke-opacity: 1; stroke-width: 1px;\"/><path class=\"y4grid crisp\" transform=\"translate(0,1122.7315146299484)\" d=\"M95,0h625\" style=\"stroke: rgb(255, 255, 255); stroke-opacity: 1; stroke-width: 1px;\"/><path class=\"y4grid crisp\" transform=\"translate(0,1083.7615146299484)\" d=\"M95,0h625\" style=\"stroke: rgb(255, 255, 255); stroke-opacity: 1; stroke-width: 1px;\"/><path class=\"y4grid crisp\" transform=\"translate(0,1044.7815146299483)\" d=\"M95,0h625\" style=\"stroke: rgb(255, 255, 255); stroke-opacity: 1; stroke-width: 1px;\"/><path class=\"y4grid crisp\" transform=\"translate(0,1005.8015146299483)\" d=\"M95,0h625\" style=\"stroke: rgb(255, 255, 255); stroke-opacity: 1; stroke-width: 1px;\"/></g></g><g class=\"zerolinelayer\"><path class=\"y4zl zl crisp\" transform=\"translate(0,1200.6915146299482)\" d=\"M95,0h625\" style=\"stroke: rgb(255, 255, 255); stroke-opacity: 1; stroke-width: 2px;\"/></g><path class=\"xlines-below\"/><path class=\"ylines-below\"/><g class=\"overlines-below\"/><g class=\"xaxislayer-below\"/><g class=\"yaxislayer-below\"/><g class=\"overaxes-below\"/><g class=\"plot\" transform=\"translate(95,989.7215146299483)\" clip-path=\"url(#clipfa6231x4y4plot)\"><g class=\"scatterlayer mlayer\"><g class=\"trace scatter trace5e853e2d-8aaf-405f-b19f-d6a93f3ba015\" style=\"stroke-miterlimit: 2; opacity: 1;\"><g class=\"fills\"/><g class=\"errorbars\"/><g class=\"lines\"><path class=\"js-line\" d=\"M35.21,210.97L173.6,191.48L311.98,230.46L450.37,210.97L588.75,16.08\" style=\"vector-effect: non-scaling-stroke; fill: none; stroke: rgb(140, 86, 75); stroke-opacity: 1; stroke-width: 2px; opacity: 1;\"/></g><g class=\"points\"><path class=\"point\" transform=\"translate(35.21,210.97)\" d=\"M3,0A3,3 0 1,1 0,-3A3,3 0 0,1 3,0Z\" style=\"opacity: 1; stroke-width: 0px; fill: rgb(140, 86, 75); fill-opacity: 1;\"/><path class=\"point\" transform=\"translate(173.6,191.48)\" d=\"M3,0A3,3 0 1,1 0,-3A3,3 0 0,1 3,0Z\" style=\"opacity: 1; stroke-width: 0px; fill: rgb(140, 86, 75); fill-opacity: 1;\"/><path class=\"point\" transform=\"translate(311.98,230.46)\" d=\"M3,0A3,3 0 1,1 0,-3A3,3 0 0,1 3,0Z\" style=\"opacity: 1; stroke-width: 0px; fill: rgb(140, 86, 75); fill-opacity: 1;\"/><path class=\"point\" transform=\"translate(450.37,210.97)\" d=\"M3,0A3,3 0 1,1 0,-3A3,3 0 0,1 3,0Z\" style=\"opacity: 1; stroke-width: 0px; fill: rgb(140, 86, 75); fill-opacity: 1;\"/><path class=\"point\" transform=\"translate(588.75,16.08)\" d=\"M3,0A3,3 0 1,1 0,-3A3,3 0 0,1 3,0Z\" style=\"opacity: 1; stroke-width: 0px; fill: rgb(140, 86, 75); fill-opacity: 1;\"/></g><g class=\"text\"/></g></g></g><g class=\"overplot\"/><path class=\"xlines-above crisp\" d=\"M0,0\" style=\"fill: none;\"/><path class=\"ylines-above crisp\" d=\"M0,0\" style=\"fill: none;\"/><g class=\"overlines-above\"/><g class=\"xaxislayer-above\"/><g class=\"yaxislayer-above\"><g class=\"y4tick\"><text text-anchor=\"end\" x=\"94\" y=\"4.199999999999999\" transform=\"translate(0,1200.6915146299482)\" style=\"font-family: 'Open Sans', verdana, arial, sans-serif; font-size: 12px; fill: rgb(42, 63, 95); fill-opacity: 1; white-space: pre; opacity: 1;\">0</text></g><g class=\"y4tick\"><text text-anchor=\"end\" x=\"94\" y=\"4.199999999999999\" style=\"font-family: 'Open Sans', verdana, arial, sans-serif; font-size: 12px; fill: rgb(42, 63, 95); fill-opacity: 1; white-space: pre; opacity: 1;\" transform=\"translate(0,1161.7115146299484)\">0.2</text></g><g class=\"y4tick\"><text text-anchor=\"end\" x=\"94\" y=\"4.199999999999999\" style=\"font-family: 'Open Sans', verdana, arial, sans-serif; font-size: 12px; fill: rgb(42, 63, 95); fill-opacity: 1; white-space: pre; opacity: 1;\" transform=\"translate(0,1122.7315146299484)\">0.4</text></g><g class=\"y4tick\"><text text-anchor=\"end\" x=\"94\" y=\"4.199999999999999\" style=\"font-family: 'Open Sans', verdana, arial, sans-serif; font-size: 12px; fill: rgb(42, 63, 95); fill-opacity: 1; white-space: pre; opacity: 1;\" transform=\"translate(0,1083.7615146299484)\">0.6</text></g><g class=\"y4tick\"><text text-anchor=\"end\" x=\"94\" y=\"4.199999999999999\" style=\"font-family: 'Open Sans', verdana, arial, sans-serif; font-size: 12px; fill: rgb(42, 63, 95); fill-opacity: 1; white-space: pre; opacity: 1;\" transform=\"translate(0,1044.7815146299483)\">0.8</text></g><g class=\"y4tick\"><text text-anchor=\"end\" x=\"94\" y=\"4.199999999999999\" style=\"font-family: 'Open Sans', verdana, arial, sans-serif; font-size: 12px; fill: rgb(42, 63, 95); fill-opacity: 1; white-space: pre; opacity: 1;\" transform=\"translate(0,1005.8015146299483)\">1</text></g></g><g class=\"overaxes-above\"/></g><g class=\"subplot x5y5\"><g class=\"layer-subplot\"><g class=\"shapelayer\"/><g class=\"imagelayer\"/></g><g class=\"gridlayer\"><g class=\"x5\"><path class=\"x5grid crisp\" transform=\"translate(130.21,0)\" d=\"M0,1274.295352839931v246.54010327022374\" style=\"stroke: rgb(255, 255, 255); stroke-opacity: 1; stroke-width: 1px;\"/><path class=\"x5grid crisp\" transform=\"translate(268.6,0)\" d=\"M0,1274.295352839931v246.54010327022374\" style=\"stroke: rgb(255, 255, 255); stroke-opacity: 1; stroke-width: 1px;\"/><path class=\"x5grid crisp\" transform=\"translate(406.98,0)\" d=\"M0,1274.295352839931v246.54010327022374\" style=\"stroke: rgb(255, 255, 255); stroke-opacity: 1; stroke-width: 1px;\"/><path class=\"x5grid crisp\" transform=\"translate(545.37,0)\" d=\"M0,1274.295352839931v246.54010327022374\" style=\"stroke: rgb(255, 255, 255); stroke-opacity: 1; stroke-width: 1px;\"/><path class=\"x5grid crisp\" transform=\"translate(683.75,0)\" d=\"M0,1274.295352839931v246.54010327022374\" style=\"stroke: rgb(255, 255, 255); stroke-opacity: 1; stroke-width: 1px;\"/></g><g class=\"y5\"><path class=\"y5grid crisp\" transform=\"translate(0,1496.785352839931)\" d=\"M95,0h625\" style=\"stroke: rgb(255, 255, 255); stroke-opacity: 1; stroke-width: 1px;\"/><path class=\"y5grid crisp\" transform=\"translate(0,1457.045352839931)\" d=\"M95,0h625\" style=\"stroke: rgb(255, 255, 255); stroke-opacity: 1; stroke-width: 1px;\"/><path class=\"y5grid crisp\" transform=\"translate(0,1417.305352839931)\" d=\"M95,0h625\" style=\"stroke: rgb(255, 255, 255); stroke-opacity: 1; stroke-width: 1px;\"/><path class=\"y5grid crisp\" transform=\"translate(0,1377.565352839931)\" d=\"M95,0h625\" style=\"stroke: rgb(255, 255, 255); stroke-opacity: 1; stroke-width: 1px;\"/><path class=\"y5grid crisp\" transform=\"translate(0,1337.825352839931)\" d=\"M95,0h625\" style=\"stroke: rgb(255, 255, 255); stroke-opacity: 1; stroke-width: 1px;\"/></g></g><g class=\"zerolinelayer\"><path class=\"y5zl zl crisp\" transform=\"translate(0,1298.085352839931)\" d=\"M95,0h625\" style=\"stroke: rgb(255, 255, 255); stroke-opacity: 1; stroke-width: 2px;\"/></g><path class=\"xlines-below\"/><path class=\"ylines-below\"/><g class=\"overlines-below\"/><g class=\"xaxislayer-below\"/><g class=\"yaxislayer-below\"/><g class=\"overaxes-below\"/><g class=\"plot\" transform=\"translate(95,1274.295352839931)\" clip-path=\"url(#clipfa6231x5y5plot)\"><g class=\"scatterlayer mlayer\"><g class=\"trace scatter tracee5b42e94-3ec6-4648-b502-9fa58674a695\" style=\"stroke-miterlimit: 2; opacity: 1;\"><g class=\"fills\"/><g class=\"errorbars\"/><g class=\"lines\"><path class=\"js-line\" d=\"M35.21,23.79L173.6,35.87L311.98,16.08L450.37,23.79L588.75,230.46\" style=\"vector-effect: non-scaling-stroke; fill: none; stroke: rgb(44, 160, 44); stroke-opacity: 1; stroke-width: 2px; opacity: 1;\"/></g><g class=\"points\"><path class=\"point\" transform=\"translate(35.21,23.79)\" d=\"M3,0A3,3 0 1,1 0,-3A3,3 0 0,1 3,0Z\" style=\"opacity: 1; stroke-width: 0px; fill: rgb(44, 160, 44); fill-opacity: 1;\"/><path class=\"point\" transform=\"translate(173.6,35.87)\" d=\"M3,0A3,3 0 1,1 0,-3A3,3 0 0,1 3,0Z\" style=\"opacity: 1; stroke-width: 0px; fill: rgb(44, 160, 44); fill-opacity: 1;\"/><path class=\"point\" transform=\"translate(311.98,16.08)\" d=\"M3,0A3,3 0 1,1 0,-3A3,3 0 0,1 3,0Z\" style=\"opacity: 1; stroke-width: 0px; fill: rgb(44, 160, 44); fill-opacity: 1;\"/><path class=\"point\" transform=\"translate(450.37,23.79)\" d=\"M3,0A3,3 0 1,1 0,-3A3,3 0 0,1 3,0Z\" style=\"opacity: 1; stroke-width: 0px; fill: rgb(44, 160, 44); fill-opacity: 1;\"/><path class=\"point\" transform=\"translate(588.75,230.46)\" d=\"M3,0A3,3 0 1,1 0,-3A3,3 0 0,1 3,0Z\" style=\"opacity: 1; stroke-width: 0px; fill: rgb(44, 160, 44); fill-opacity: 1;\"/></g><g class=\"text\"/></g></g></g><g class=\"overplot\"/><path class=\"xlines-above crisp\" d=\"M0,0\" style=\"fill: none;\"/><path class=\"ylines-above crisp\" d=\"M0,0\" style=\"fill: none;\"/><g class=\"overlines-above\"/><g class=\"xaxislayer-above\"/><g class=\"yaxislayer-above\"><g class=\"y5tick\"><text text-anchor=\"end\" x=\"94\" y=\"4.199999999999999\" transform=\"translate(0,1496.785352839931)\" style=\"font-family: 'Open Sans', verdana, arial, sans-serif; font-size: 12px; fill: rgb(42, 63, 95); fill-opacity: 1; white-space: pre; opacity: 1;\">−5</text></g><g class=\"y5tick\"><text text-anchor=\"end\" x=\"94\" y=\"4.199999999999999\" style=\"font-family: 'Open Sans', verdana, arial, sans-serif; font-size: 12px; fill: rgb(42, 63, 95); fill-opacity: 1; white-space: pre; opacity: 1;\" transform=\"translate(0,1457.045352839931)\">−4</text></g><g class=\"y5tick\"><text text-anchor=\"end\" x=\"94\" y=\"4.199999999999999\" style=\"font-family: 'Open Sans', verdana, arial, sans-serif; font-size: 12px; fill: rgb(42, 63, 95); fill-opacity: 1; white-space: pre; opacity: 1;\" transform=\"translate(0,1417.305352839931)\">−3</text></g><g class=\"y5tick\"><text text-anchor=\"end\" x=\"94\" y=\"4.199999999999999\" style=\"font-family: 'Open Sans', verdana, arial, sans-serif; font-size: 12px; fill: rgb(42, 63, 95); fill-opacity: 1; white-space: pre; opacity: 1;\" transform=\"translate(0,1377.565352839931)\">−2</text></g><g class=\"y5tick\"><text text-anchor=\"end\" x=\"94\" y=\"4.199999999999999\" style=\"font-family: 'Open Sans', verdana, arial, sans-serif; font-size: 12px; fill: rgb(42, 63, 95); fill-opacity: 1; white-space: pre; opacity: 1;\" transform=\"translate(0,1337.825352839931)\">−1</text></g><g class=\"y5tick\"><text text-anchor=\"end\" x=\"94\" y=\"4.199999999999999\" style=\"font-family: 'Open Sans', verdana, arial, sans-serif; font-size: 12px; fill: rgb(42, 63, 95); fill-opacity: 1; white-space: pre; opacity: 1;\" transform=\"translate(0,1298.085352839931)\">0</text></g></g><g class=\"overaxes-above\"/></g><g class=\"subplot x6y6\"><g class=\"layer-subplot\"><g class=\"shapelayer\"/><g class=\"imagelayer\"/></g><g class=\"gridlayer\"><g class=\"x6\"><path class=\"x6grid crisp\" transform=\"translate(130.21,0)\" d=\"M0,1558.869191049914v246.54010327022374\" style=\"stroke: rgb(255, 255, 255); stroke-opacity: 1; stroke-width: 1px;\"/><path class=\"x6grid crisp\" transform=\"translate(268.6,0)\" d=\"M0,1558.869191049914v246.54010327022374\" style=\"stroke: rgb(255, 255, 255); stroke-opacity: 1; stroke-width: 1px;\"/><path class=\"x6grid crisp\" transform=\"translate(406.98,0)\" d=\"M0,1558.869191049914v246.54010327022374\" style=\"stroke: rgb(255, 255, 255); stroke-opacity: 1; stroke-width: 1px;\"/><path class=\"x6grid crisp\" transform=\"translate(545.37,0)\" d=\"M0,1558.869191049914v246.54010327022374\" style=\"stroke: rgb(255, 255, 255); stroke-opacity: 1; stroke-width: 1px;\"/><path class=\"x6grid crisp\" transform=\"translate(683.75,0)\" d=\"M0,1558.869191049914v246.54010327022374\" style=\"stroke: rgb(255, 255, 255); stroke-opacity: 1; stroke-width: 1px;\"/></g><g class=\"y6\"><path class=\"y6grid crisp\" transform=\"translate(0,1746.459191049914)\" d=\"M95,0h625\" style=\"stroke: rgb(255, 255, 255); stroke-opacity: 1; stroke-width: 1px;\"/><path class=\"y6grid crisp\" transform=\"translate(0,1703.579191049914)\" d=\"M95,0h625\" style=\"stroke: rgb(255, 255, 255); stroke-opacity: 1; stroke-width: 1px;\"/><path class=\"y6grid crisp\" transform=\"translate(0,1660.699191049914)\" d=\"M95,0h625\" style=\"stroke: rgb(255, 255, 255); stroke-opacity: 1; stroke-width: 1px;\"/><path class=\"y6grid crisp\" transform=\"translate(0,1617.819191049914)\" d=\"M95,0h625\" style=\"stroke: rgb(255, 255, 255); stroke-opacity: 1; stroke-width: 1px;\"/><path class=\"y6grid crisp\" transform=\"translate(0,1574.949191049914)\" d=\"M95,0h625\" style=\"stroke: rgb(255, 255, 255); stroke-opacity: 1; stroke-width: 1px;\"/></g></g><g class=\"zerolinelayer\"><path class=\"y6zl zl crisp\" transform=\"translate(0,1789.329191049914)\" d=\"M95,0h625\" style=\"stroke: rgb(255, 255, 255); stroke-opacity: 1; stroke-width: 2px;\"/></g><path class=\"xlines-below\"/><path class=\"ylines-below\"/><g class=\"overlines-below\"/><g class=\"xaxislayer-below\"/><g class=\"yaxislayer-below\"/><g class=\"overaxes-below\"/><g class=\"plot\" transform=\"translate(95,1558.869191049914)\" clip-path=\"url(#clipfa6231x6y6plot)\"><g class=\"scatterlayer mlayer\"><g class=\"trace scatter traceded66dc6-8c13-4072-a029-c9aaee9f19dd\" style=\"stroke-miterlimit: 2;\"><g class=\"fills\"><g><path class=\"js-fill\" d=\"M35.21,230.46L173.6,209.02L311.98,230.46L450.37,230.46L588.75,16.08L588.75,230.46L35.21,230.46Z\" style=\"fill: rgb(140, 86, 75); fill-opacity: 0.3; stroke-width: 0;\"/></g></g><g class=\"errorbars\"/><g class=\"lines\"><path class=\"js-line\" d=\"M35.21,230.46L588.75,230.46\" style=\"vector-effect: non-scaling-stroke; fill: none; stroke: rgb(0, 0, 0); stroke-opacity: 0; stroke-width: 0px; opacity: 1;\"/></g><g class=\"points\"><path class=\"point\" transform=\"translate(35.21,230.46)\" d=\"M3,0A3,3 0 1,1 0,-3A3,3 0 0,1 3,0Z\" style=\"opacity: 1; stroke-width: 0px; fill: rgb(0, 0, 0); fill-opacity: 0;\"/><path class=\"point\" transform=\"translate(173.6,230.46)\" d=\"M3,0A3,3 0 1,1 0,-3A3,3 0 0,1 3,0Z\" style=\"opacity: 1; stroke-width: 0px; fill: rgb(0, 0, 0); fill-opacity: 0;\"/><path class=\"point\" transform=\"translate(311.98,230.46)\" d=\"M3,0A3,3 0 1,1 0,-3A3,3 0 0,1 3,0Z\" style=\"opacity: 1; stroke-width: 0px; fill: rgb(0, 0, 0); fill-opacity: 0;\"/><path class=\"point\" transform=\"translate(450.37,230.46)\" d=\"M3,0A3,3 0 1,1 0,-3A3,3 0 0,1 3,0Z\" style=\"opacity: 1; stroke-width: 0px; fill: rgb(0, 0, 0); fill-opacity: 0;\"/><path class=\"point\" transform=\"translate(588.75,230.46)\" d=\"M3,0A3,3 0 1,1 0,-3A3,3 0 0,1 3,0Z\" style=\"opacity: 1; stroke-width: 0px; fill: rgb(0, 0, 0); fill-opacity: 0;\"/></g><g class=\"text\"/></g><g class=\"trace scatter trace336c0b10-4be7-4dba-a4be-4ce8ca6241fd\" style=\"stroke-miterlimit: 2;\"><g class=\"fills\"/><g class=\"errorbars\"/><g class=\"lines\"><path class=\"js-line\" d=\"M35.21,230.46L173.6,209.02L311.98,230.46L450.37,230.46L588.75,16.08\" style=\"vector-effect: non-scaling-stroke; fill: none; stroke: rgb(0, 0, 0); stroke-opacity: 0; stroke-width: 0px; opacity: 1;\"/></g><g class=\"points\"><path class=\"point\" transform=\"translate(35.21,230.46)\" d=\"M3,0A3,3 0 1,1 0,-3A3,3 0 0,1 3,0Z\" style=\"opacity: 1; stroke-width: 0px; fill: rgb(0, 0, 0); fill-opacity: 0;\"/><path class=\"point\" transform=\"translate(173.6,209.02)\" d=\"M3,0A3,3 0 1,1 0,-3A3,3 0 0,1 3,0Z\" style=\"opacity: 1; stroke-width: 0px; fill: rgb(0, 0, 0); fill-opacity: 0;\"/><path class=\"point\" transform=\"translate(311.98,230.46)\" d=\"M3,0A3,3 0 1,1 0,-3A3,3 0 0,1 3,0Z\" style=\"opacity: 1; stroke-width: 0px; fill: rgb(0, 0, 0); fill-opacity: 0;\"/><path class=\"point\" transform=\"translate(450.37,230.46)\" d=\"M3,0A3,3 0 1,1 0,-3A3,3 0 0,1 3,0Z\" style=\"opacity: 1; stroke-width: 0px; fill: rgb(0, 0, 0); fill-opacity: 0;\"/><path class=\"point\" transform=\"translate(588.75,16.08)\" d=\"M3,0A3,3 0 1,1 0,-3A3,3 0 0,1 3,0Z\" style=\"opacity: 1; stroke-width: 0px; fill: rgb(0, 0, 0); fill-opacity: 0;\"/></g><g class=\"text\"/></g><g class=\"trace scatter trace1d2a99e9-ee7f-4bb2-b00d-d20357c701f1\" style=\"stroke-miterlimit: 2; opacity: 1;\"><g class=\"fills\"/><g class=\"errorbars\"/><g class=\"lines\"><path class=\"js-line\" d=\"M35.21,230.46L173.6,209.02L311.98,230.46L450.37,230.46L588.75,16.08\" style=\"vector-effect: non-scaling-stroke; fill: none; stroke: rgb(140, 86, 75); stroke-opacity: 1; stroke-width: 2px; opacity: 1;\"/></g><g class=\"points\"><path class=\"point\" transform=\"translate(35.21,230.46)\" d=\"M3,0A3,3 0 1,1 0,-3A3,3 0 0,1 3,0Z\" style=\"opacity: 1; stroke-width: 0px; fill: rgb(140, 86, 75); fill-opacity: 1;\"/><path class=\"point\" transform=\"translate(173.6,209.02)\" d=\"M3,0A3,3 0 1,1 0,-3A3,3 0 0,1 3,0Z\" style=\"opacity: 1; stroke-width: 0px; fill: rgb(140, 86, 75); fill-opacity: 1;\"/><path class=\"point\" transform=\"translate(311.98,230.46)\" d=\"M3,0A3,3 0 1,1 0,-3A3,3 0 0,1 3,0Z\" style=\"opacity: 1; stroke-width: 0px; fill: rgb(140, 86, 75); fill-opacity: 1;\"/><path class=\"point\" transform=\"translate(450.37,230.46)\" d=\"M3,0A3,3 0 1,1 0,-3A3,3 0 0,1 3,0Z\" style=\"opacity: 1; stroke-width: 0px; fill: rgb(140, 86, 75); fill-opacity: 1;\"/><path class=\"point\" transform=\"translate(588.75,16.08)\" d=\"M3,0A3,3 0 1,1 0,-3A3,3 0 0,1 3,0Z\" style=\"opacity: 1; stroke-width: 0px; fill: rgb(140, 86, 75); fill-opacity: 1;\"/></g><g class=\"text\"/></g><g class=\"trace scatter trace26723c72-46f8-4614-bb42-87bac07a8b0f\" style=\"stroke-miterlimit: 2; opacity: 0;\"><g class=\"fills\"/><g class=\"errorbars\"/><g class=\"lines\"><path class=\"js-line\" d=\"M35.21,230.46L588.75,230.46\" style=\"vector-effect: non-scaling-stroke; fill: none; stroke: rgb(0, 0, 0); stroke-opacity: 0; stroke-width: 0px; opacity: 1;\"/></g><g class=\"points\"><path class=\"point\" transform=\"translate(35.21,230.46)\" d=\"M3,0A3,3 0 1,1 0,-3A3,3 0 0,1 3,0Z\" style=\"opacity: 1; stroke-width: 0px; fill: rgb(0, 0, 0); fill-opacity: 0;\"/><path class=\"point\" transform=\"translate(173.6,230.46)\" d=\"M3,0A3,3 0 1,1 0,-3A3,3 0 0,1 3,0Z\" style=\"opacity: 1; stroke-width: 0px; fill: rgb(0, 0, 0); fill-opacity: 0;\"/><path class=\"point\" transform=\"translate(311.98,230.46)\" d=\"M3,0A3,3 0 1,1 0,-3A3,3 0 0,1 3,0Z\" style=\"opacity: 1; stroke-width: 0px; fill: rgb(0, 0, 0); fill-opacity: 0;\"/><path class=\"point\" transform=\"translate(450.37,230.46)\" d=\"M3,0A3,3 0 1,1 0,-3A3,3 0 0,1 3,0Z\" style=\"opacity: 1; stroke-width: 0px; fill: rgb(0, 0, 0); fill-opacity: 0;\"/><path class=\"point\" transform=\"translate(588.75,230.46)\" d=\"M3,0A3,3 0 1,1 0,-3A3,3 0 0,1 3,0Z\" style=\"opacity: 1; stroke-width: 0px; fill: rgb(0, 0, 0); fill-opacity: 0;\"/></g><g class=\"text\"/></g></g></g><g class=\"overplot\"/><path class=\"xlines-above crisp\" d=\"M0,0\" style=\"fill: none;\"/><path class=\"ylines-above crisp\" d=\"M0,0\" style=\"fill: none;\"/><g class=\"overlines-above\"/><g class=\"xaxislayer-above\"/><g class=\"yaxislayer-above\"><g class=\"y6tick\"><text text-anchor=\"end\" x=\"94\" y=\"4.199999999999999\" transform=\"translate(0,1789.329191049914)\" style=\"font-family: 'Open Sans', verdana, arial, sans-serif; font-size: 12px; fill: rgb(42, 63, 95); fill-opacity: 1; white-space: pre; opacity: 1;\">0</text></g><g class=\"y6tick\"><text text-anchor=\"end\" x=\"94\" y=\"4.199999999999999\" style=\"font-family: 'Open Sans', verdana, arial, sans-serif; font-size: 12px; fill: rgb(42, 63, 95); fill-opacity: 1; white-space: pre; opacity: 1;\" transform=\"translate(0,1746.459191049914)\">0.2</text></g><g class=\"y6tick\"><text text-anchor=\"end\" x=\"94\" y=\"4.199999999999999\" style=\"font-family: 'Open Sans', verdana, arial, sans-serif; font-size: 12px; fill: rgb(42, 63, 95); fill-opacity: 1; white-space: pre; opacity: 1;\" transform=\"translate(0,1703.579191049914)\">0.4</text></g><g class=\"y6tick\"><text text-anchor=\"end\" x=\"94\" y=\"4.199999999999999\" style=\"font-family: 'Open Sans', verdana, arial, sans-serif; font-size: 12px; fill: rgb(42, 63, 95); fill-opacity: 1; white-space: pre; opacity: 1;\" transform=\"translate(0,1660.699191049914)\">0.6</text></g><g class=\"y6tick\"><text text-anchor=\"end\" x=\"94\" y=\"4.199999999999999\" style=\"font-family: 'Open Sans', verdana, arial, sans-serif; font-size: 12px; fill: rgb(42, 63, 95); fill-opacity: 1; white-space: pre; opacity: 1;\" transform=\"translate(0,1617.819191049914)\">0.8</text></g><g class=\"y6tick\"><text text-anchor=\"end\" x=\"94\" y=\"4.199999999999999\" style=\"font-family: 'Open Sans', verdana, arial, sans-serif; font-size: 12px; fill: rgb(42, 63, 95); fill-opacity: 1; white-space: pre; opacity: 1;\" transform=\"translate(0,1574.949191049914)\">1</text></g></g><g class=\"overaxes-above\"/></g><g class=\"subplot x7y7\"><g class=\"layer-subplot\"><g class=\"shapelayer\"/><g class=\"imagelayer\"/></g><g class=\"gridlayer\"><g class=\"x7\"><path class=\"x7grid crisp\" transform=\"translate(130.21,0)\" d=\"M0,1843.4430292598965v246.54010327022374\" style=\"stroke: rgb(255, 255, 255); stroke-opacity: 1; stroke-width: 1px;\"/><path class=\"x7grid crisp\" transform=\"translate(268.6,0)\" d=\"M0,1843.4430292598965v246.54010327022374\" style=\"stroke: rgb(255, 255, 255); stroke-opacity: 1; stroke-width: 1px;\"/><path class=\"x7grid crisp\" transform=\"translate(406.98,0)\" d=\"M0,1843.4430292598965v246.54010327022374\" style=\"stroke: rgb(255, 255, 255); stroke-opacity: 1; stroke-width: 1px;\"/><path class=\"x7grid crisp\" transform=\"translate(545.37,0)\" d=\"M0,1843.4430292598965v246.54010327022374\" style=\"stroke: rgb(255, 255, 255); stroke-opacity: 1; stroke-width: 1px;\"/><path class=\"x7grid crisp\" transform=\"translate(683.75,0)\" d=\"M0,1843.4430292598965v246.54010327022374\" style=\"stroke: rgb(255, 255, 255); stroke-opacity: 1; stroke-width: 1px;\"/></g><g class=\"y7\"><path class=\"y7grid crisp\" transform=\"translate(0,2061.3730292598966)\" d=\"M95,0h625\" style=\"stroke: rgb(255, 255, 255); stroke-opacity: 1; stroke-width: 1px;\"/><path class=\"y7grid crisp\" transform=\"translate(0,2021.0030292598965)\" d=\"M95,0h625\" style=\"stroke: rgb(255, 255, 255); stroke-opacity: 1; stroke-width: 1px;\"/><path class=\"y7grid crisp\" transform=\"translate(0,1980.6330292598966)\" d=\"M95,0h625\" style=\"stroke: rgb(255, 255, 255); stroke-opacity: 1; stroke-width: 1px;\"/><path class=\"y7grid crisp\" transform=\"translate(0,1940.2630292598965)\" d=\"M95,0h625\" style=\"stroke: rgb(255, 255, 255); stroke-opacity: 1; stroke-width: 1px;\"/><path class=\"y7grid crisp\" transform=\"translate(0,1899.8930292598966)\" d=\"M95,0h625\" style=\"stroke: rgb(255, 255, 255); stroke-opacity: 1; stroke-width: 1px;\"/><path class=\"y7grid crisp\" transform=\"translate(0,1859.5230292598965)\" d=\"M95,0h625\" style=\"stroke: rgb(255, 255, 255); stroke-opacity: 1; stroke-width: 1px;\"/></g></g><g class=\"zerolinelayer\"/><path class=\"xlines-below\"/><path class=\"ylines-below\"/><g class=\"overlines-below\"/><g class=\"xaxislayer-below\"/><g class=\"yaxislayer-below\"/><g class=\"overaxes-below\"/><g class=\"plot\" transform=\"translate(95,1843.4430292598965)\" clip-path=\"url(#clipfa6231x7y7plot)\"><g class=\"scatterlayer mlayer\"><g class=\"trace scatter tracec8794183-47cb-4d1e-983d-502d300f781c\" style=\"stroke-miterlimit: 2;\"><g class=\"fills\"><g><path class=\"js-fill\" d=\"M35.21,16.08L173.6,28.35L311.98,20.52L450.37,20.52L588.75,230.46L588.75,16.08L35.21,16.08Z\" style=\"fill: rgb(220, 57, 18); fill-opacity: 0.3; stroke-width: 0;\"/></g></g><g class=\"errorbars\"/><g class=\"lines\"><path class=\"js-line\" d=\"M35.21,16.08L588.75,16.08\" style=\"vector-effect: non-scaling-stroke; fill: none; stroke: rgb(0, 0, 0); stroke-opacity: 0; stroke-width: 0px; opacity: 1;\"/></g><g class=\"points\"><path class=\"point\" transform=\"translate(35.21,16.08)\" d=\"M3,0A3,3 0 1,1 0,-3A3,3 0 0,1 3,0Z\" style=\"opacity: 1; stroke-width: 0px; fill: rgb(0, 0, 0); fill-opacity: 0;\"/><path class=\"point\" transform=\"translate(173.6,16.08)\" d=\"M3,0A3,3 0 1,1 0,-3A3,3 0 0,1 3,0Z\" style=\"opacity: 1; stroke-width: 0px; fill: rgb(0, 0, 0); fill-opacity: 0;\"/><path class=\"point\" transform=\"translate(311.98,16.08)\" d=\"M3,0A3,3 0 1,1 0,-3A3,3 0 0,1 3,0Z\" style=\"opacity: 1; stroke-width: 0px; fill: rgb(0, 0, 0); fill-opacity: 0;\"/><path class=\"point\" transform=\"translate(450.37,16.08)\" d=\"M3,0A3,3 0 1,1 0,-3A3,3 0 0,1 3,0Z\" style=\"opacity: 1; stroke-width: 0px; fill: rgb(0, 0, 0); fill-opacity: 0;\"/><path class=\"point\" transform=\"translate(588.75,16.08)\" d=\"M3,0A3,3 0 1,1 0,-3A3,3 0 0,1 3,0Z\" style=\"opacity: 1; stroke-width: 0px; fill: rgb(0, 0, 0); fill-opacity: 0;\"/></g><g class=\"text\"/></g><g class=\"trace scatter tracec20123a6-2edb-4890-ba2f-825eb026cf63\" style=\"stroke-miterlimit: 2;\"><g class=\"fills\"/><g class=\"errorbars\"/><g class=\"lines\"><path class=\"js-line\" d=\"M35.21,16.08L173.6,28.35L311.98,20.52L450.37,20.52L588.75,230.46\" style=\"vector-effect: non-scaling-stroke; fill: none; stroke: rgb(0, 0, 0); stroke-opacity: 0; stroke-width: 0px; opacity: 1;\"/></g><g class=\"points\"><path class=\"point\" transform=\"translate(35.21,16.08)\" d=\"M3,0A3,3 0 1,1 0,-3A3,3 0 0,1 3,0Z\" style=\"opacity: 1; stroke-width: 0px; fill: rgb(0, 0, 0); fill-opacity: 0;\"/><path class=\"point\" transform=\"translate(173.6,28.35)\" d=\"M3,0A3,3 0 1,1 0,-3A3,3 0 0,1 3,0Z\" style=\"opacity: 1; stroke-width: 0px; fill: rgb(0, 0, 0); fill-opacity: 0;\"/><path class=\"point\" transform=\"translate(311.98,20.52)\" d=\"M3,0A3,3 0 1,1 0,-3A3,3 0 0,1 3,0Z\" style=\"opacity: 1; stroke-width: 0px; fill: rgb(0, 0, 0); fill-opacity: 0;\"/><path class=\"point\" transform=\"translate(450.37,20.52)\" d=\"M3,0A3,3 0 1,1 0,-3A3,3 0 0,1 3,0Z\" style=\"opacity: 1; stroke-width: 0px; fill: rgb(0, 0, 0); fill-opacity: 0;\"/><path class=\"point\" transform=\"translate(588.75,230.46)\" d=\"M3,0A3,3 0 1,1 0,-3A3,3 0 0,1 3,0Z\" style=\"opacity: 1; stroke-width: 0px; fill: rgb(0, 0, 0); fill-opacity: 0;\"/></g><g class=\"text\"/></g><g class=\"trace scatter tracea51d290f-67a0-486b-86bc-df569f547444\" style=\"stroke-miterlimit: 2; opacity: 1;\"><g class=\"fills\"/><g class=\"errorbars\"/><g class=\"lines\"><path class=\"js-line\" d=\"M35.21,16.08L173.6,28.35L311.98,20.52L450.37,20.52L588.75,230.46\" style=\"vector-effect: non-scaling-stroke; fill: none; stroke: rgb(44, 160, 44); stroke-opacity: 1; stroke-width: 2px; opacity: 1;\"/></g><g class=\"points\"><path class=\"point\" transform=\"translate(35.21,16.08)\" d=\"M3,0A3,3 0 1,1 0,-3A3,3 0 0,1 3,0Z\" style=\"opacity: 1; stroke-width: 0px; fill: rgb(44, 160, 44); fill-opacity: 1;\"/><path class=\"point\" transform=\"translate(173.6,28.35)\" d=\"M3,0A3,3 0 1,1 0,-3A3,3 0 0,1 3,0Z\" style=\"opacity: 1; stroke-width: 0px; fill: rgb(44, 160, 44); fill-opacity: 1;\"/><path class=\"point\" transform=\"translate(311.98,20.52)\" d=\"M3,0A3,3 0 1,1 0,-3A3,3 0 0,1 3,0Z\" style=\"opacity: 1; stroke-width: 0px; fill: rgb(44, 160, 44); fill-opacity: 1;\"/><path class=\"point\" transform=\"translate(450.37,20.52)\" d=\"M3,0A3,3 0 1,1 0,-3A3,3 0 0,1 3,0Z\" style=\"opacity: 1; stroke-width: 0px; fill: rgb(44, 160, 44); fill-opacity: 1;\"/><path class=\"point\" transform=\"translate(588.75,230.46)\" d=\"M3,0A3,3 0 1,1 0,-3A3,3 0 0,1 3,0Z\" style=\"opacity: 1; stroke-width: 0px; fill: rgb(44, 160, 44); fill-opacity: 1;\"/></g><g class=\"text\"/></g><g class=\"trace scatter trace505db1a6-2772-4199-8980-c290ac8b0db7\" style=\"stroke-miterlimit: 2; opacity: 0;\"><g class=\"fills\"/><g class=\"errorbars\"/><g class=\"lines\"><path class=\"js-line\" d=\"M35.21,16.08L588.75,16.08\" style=\"vector-effect: non-scaling-stroke; fill: none; stroke: rgb(0, 0, 0); stroke-opacity: 0; stroke-width: 0px; opacity: 1;\"/></g><g class=\"points\"><path class=\"point\" transform=\"translate(35.21,16.08)\" d=\"M3,0A3,3 0 1,1 0,-3A3,3 0 0,1 3,0Z\" style=\"opacity: 1; stroke-width: 0px; fill: rgb(0, 0, 0); fill-opacity: 0;\"/><path class=\"point\" transform=\"translate(173.6,16.08)\" d=\"M3,0A3,3 0 1,1 0,-3A3,3 0 0,1 3,0Z\" style=\"opacity: 1; stroke-width: 0px; fill: rgb(0, 0, 0); fill-opacity: 0;\"/><path class=\"point\" transform=\"translate(311.98,16.08)\" d=\"M3,0A3,3 0 1,1 0,-3A3,3 0 0,1 3,0Z\" style=\"opacity: 1; stroke-width: 0px; fill: rgb(0, 0, 0); fill-opacity: 0;\"/><path class=\"point\" transform=\"translate(450.37,16.08)\" d=\"M3,0A3,3 0 1,1 0,-3A3,3 0 0,1 3,0Z\" style=\"opacity: 1; stroke-width: 0px; fill: rgb(0, 0, 0); fill-opacity: 0;\"/><path class=\"point\" transform=\"translate(588.75,16.08)\" d=\"M3,0A3,3 0 1,1 0,-3A3,3 0 0,1 3,0Z\" style=\"opacity: 1; stroke-width: 0px; fill: rgb(0, 0, 0); fill-opacity: 0;\"/></g><g class=\"text\"/></g></g></g><g class=\"overplot\"/><path class=\"xlines-above crisp\" d=\"M0,0\" style=\"fill: none;\"/><path class=\"ylines-above crisp\" d=\"M0,0\" style=\"fill: none;\"/><g class=\"overlines-above\"/><g class=\"xaxislayer-above\"/><g class=\"yaxislayer-above\"><g class=\"y7tick\"><text text-anchor=\"end\" x=\"94\" y=\"4.199999999999999\" transform=\"translate(0,2061.3730292598966)\" style=\"font-family: 'Open Sans', verdana, arial, sans-serif; font-size: 12px; fill: rgb(42, 63, 95); fill-opacity: 1; white-space: pre; opacity: 1;\">95</text></g><g class=\"y7tick\"><text text-anchor=\"end\" x=\"94\" y=\"4.199999999999999\" style=\"font-family: 'Open Sans', verdana, arial, sans-serif; font-size: 12px; fill: rgb(42, 63, 95); fill-opacity: 1; white-space: pre; opacity: 1;\" transform=\"translate(0,2021.0030292598965)\">96</text></g><g class=\"y7tick\"><text text-anchor=\"end\" x=\"94\" y=\"4.199999999999999\" style=\"font-family: 'Open Sans', verdana, arial, sans-serif; font-size: 12px; fill: rgb(42, 63, 95); fill-opacity: 1; white-space: pre; opacity: 1;\" transform=\"translate(0,1980.6330292598966)\">97</text></g><g class=\"y7tick\"><text text-anchor=\"end\" x=\"94\" y=\"4.199999999999999\" style=\"font-family: 'Open Sans', verdana, arial, sans-serif; font-size: 12px; fill: rgb(42, 63, 95); fill-opacity: 1; white-space: pre; opacity: 1;\" transform=\"translate(0,1940.2630292598965)\">98</text></g><g class=\"y7tick\"><text text-anchor=\"end\" x=\"94\" y=\"4.199999999999999\" style=\"font-family: 'Open Sans', verdana, arial, sans-serif; font-size: 12px; fill: rgb(42, 63, 95); fill-opacity: 1; white-space: pre; opacity: 1;\" transform=\"translate(0,1899.8930292598966)\">99</text></g><g class=\"y7tick\"><text text-anchor=\"end\" x=\"94\" y=\"4.199999999999999\" style=\"font-family: 'Open Sans', verdana, arial, sans-serif; font-size: 12px; fill: rgb(42, 63, 95); fill-opacity: 1; white-space: pre; opacity: 1;\" transform=\"translate(0,1859.5230292598965)\">100</text></g></g><g class=\"overaxes-above\"/></g><g class=\"subplot x8y8\"><g class=\"layer-subplot\"><g class=\"shapelayer\"/><g class=\"imagelayer\"/></g><g class=\"gridlayer\"><g class=\"x8\"><path class=\"x8grid crisp\" transform=\"translate(130.21,0)\" d=\"M0,2128.016867469879v246.54010327022374\" style=\"stroke: rgb(255, 255, 255); stroke-opacity: 1; stroke-width: 1px;\"/><path class=\"x8grid crisp\" transform=\"translate(268.6,0)\" d=\"M0,2128.016867469879v246.54010327022374\" style=\"stroke: rgb(255, 255, 255); stroke-opacity: 1; stroke-width: 1px;\"/><path class=\"x8grid crisp\" transform=\"translate(406.98,0)\" d=\"M0,2128.016867469879v246.54010327022374\" style=\"stroke: rgb(255, 255, 255); stroke-opacity: 1; stroke-width: 1px;\"/><path class=\"x8grid crisp\" transform=\"translate(545.37,0)\" d=\"M0,2128.016867469879v246.54010327022374\" style=\"stroke: rgb(255, 255, 255); stroke-opacity: 1; stroke-width: 1px;\"/><path class=\"x8grid crisp\" transform=\"translate(683.75,0)\" d=\"M0,2128.016867469879v246.54010327022374\" style=\"stroke: rgb(255, 255, 255); stroke-opacity: 1; stroke-width: 1px;\"/></g><g class=\"y8\"><path class=\"y8grid crisp\" transform=\"translate(0,2315.606867469879)\" d=\"M95,0h625\" style=\"stroke: rgb(255, 255, 255); stroke-opacity: 1; stroke-width: 1px;\"/><path class=\"y8grid crisp\" transform=\"translate(0,2272.726867469879)\" d=\"M95,0h625\" style=\"stroke: rgb(255, 255, 255); stroke-opacity: 1; stroke-width: 1px;\"/><path class=\"y8grid crisp\" transform=\"translate(0,2229.846867469879)\" d=\"M95,0h625\" style=\"stroke: rgb(255, 255, 255); stroke-opacity: 1; stroke-width: 1px;\"/><path class=\"y8grid crisp\" transform=\"translate(0,2186.9668674698787)\" d=\"M95,0h625\" style=\"stroke: rgb(255, 255, 255); stroke-opacity: 1; stroke-width: 1px;\"/><path class=\"y8grid crisp\" transform=\"translate(0,2144.096867469879)\" d=\"M95,0h625\" style=\"stroke: rgb(255, 255, 255); stroke-opacity: 1; stroke-width: 1px;\"/></g></g><g class=\"zerolinelayer\"><path class=\"y8zl zl crisp\" transform=\"translate(0,2358.476867469879)\" d=\"M95,0h625\" style=\"stroke: rgb(255, 255, 255); stroke-opacity: 1; stroke-width: 2px;\"/></g><path class=\"xlines-below\"/><path class=\"ylines-below\"/><g class=\"overlines-below\"/><g class=\"xaxislayer-below\"/><g class=\"yaxislayer-below\"/><g class=\"overaxes-below\"/><g class=\"plot\" transform=\"translate(95,2128.016867469879)\" clip-path=\"url(#clipfa6231x8y8plot)\"><g class=\"scatterlayer mlayer\"><g class=\"trace scatter tracef7113a22-dfbf-4fbe-b69b-cccfd339d1f7\" style=\"stroke-miterlimit: 2;\"><g class=\"fills\"><g><path class=\"js-fill\" d=\"M35.21,230.46L173.6,221.89L311.98,230.46L450.37,230.46L588.75,16.08L588.75,230.46L35.21,230.46Z\" style=\"fill: rgb(23, 190, 207); fill-opacity: 0.3; stroke-width: 0;\"/></g></g><g class=\"errorbars\"/><g class=\"lines\"><path class=\"js-line\" d=\"M35.21,230.46L588.75,230.46\" style=\"vector-effect: non-scaling-stroke; fill: none; stroke: rgb(0, 0, 0); stroke-opacity: 0; stroke-width: 0px; opacity: 1;\"/></g><g class=\"points\"><path class=\"point\" transform=\"translate(35.21,230.46)\" d=\"M3,0A3,3 0 1,1 0,-3A3,3 0 0,1 3,0Z\" style=\"opacity: 1; stroke-width: 0px; fill: rgb(0, 0, 0); fill-opacity: 0;\"/><path class=\"point\" transform=\"translate(173.6,230.46)\" d=\"M3,0A3,3 0 1,1 0,-3A3,3 0 0,1 3,0Z\" style=\"opacity: 1; stroke-width: 0px; fill: rgb(0, 0, 0); fill-opacity: 0;\"/><path class=\"point\" transform=\"translate(311.98,230.46)\" d=\"M3,0A3,3 0 1,1 0,-3A3,3 0 0,1 3,0Z\" style=\"opacity: 1; stroke-width: 0px; fill: rgb(0, 0, 0); fill-opacity: 0;\"/><path class=\"point\" transform=\"translate(450.37,230.46)\" d=\"M3,0A3,3 0 1,1 0,-3A3,3 0 0,1 3,0Z\" style=\"opacity: 1; stroke-width: 0px; fill: rgb(0, 0, 0); fill-opacity: 0;\"/><path class=\"point\" transform=\"translate(588.75,230.46)\" d=\"M3,0A3,3 0 1,1 0,-3A3,3 0 0,1 3,0Z\" style=\"opacity: 1; stroke-width: 0px; fill: rgb(0, 0, 0); fill-opacity: 0;\"/></g><g class=\"text\"/></g><g class=\"trace scatter trace171f2fb1-900f-4f8a-9b4f-8804e4e465d4\" style=\"stroke-miterlimit: 2;\"><g class=\"fills\"/><g class=\"errorbars\"/><g class=\"lines\"><path class=\"js-line\" d=\"M35.21,230.46L173.6,221.89L311.98,230.46L450.37,230.46L588.75,16.08\" style=\"vector-effect: non-scaling-stroke; fill: none; stroke: rgb(0, 0, 0); stroke-opacity: 0; stroke-width: 0px; opacity: 1;\"/></g><g class=\"points\"><path class=\"point\" transform=\"translate(35.21,230.46)\" d=\"M3,0A3,3 0 1,1 0,-3A3,3 0 0,1 3,0Z\" style=\"opacity: 1; stroke-width: 0px; fill: rgb(0, 0, 0); fill-opacity: 0;\"/><path class=\"point\" transform=\"translate(173.6,221.89)\" d=\"M3,0A3,3 0 1,1 0,-3A3,3 0 0,1 3,0Z\" style=\"opacity: 1; stroke-width: 0px; fill: rgb(0, 0, 0); fill-opacity: 0;\"/><path class=\"point\" transform=\"translate(311.98,230.46)\" d=\"M3,0A3,3 0 1,1 0,-3A3,3 0 0,1 3,0Z\" style=\"opacity: 1; stroke-width: 0px; fill: rgb(0, 0, 0); fill-opacity: 0;\"/><path class=\"point\" transform=\"translate(450.37,230.46)\" d=\"M3,0A3,3 0 1,1 0,-3A3,3 0 0,1 3,0Z\" style=\"opacity: 1; stroke-width: 0px; fill: rgb(0, 0, 0); fill-opacity: 0;\"/><path class=\"point\" transform=\"translate(588.75,16.08)\" d=\"M3,0A3,3 0 1,1 0,-3A3,3 0 0,1 3,0Z\" style=\"opacity: 1; stroke-width: 0px; fill: rgb(0, 0, 0); fill-opacity: 0;\"/></g><g class=\"text\"/></g><g class=\"trace scatter trace2c448396-dcd6-494c-8f84-d11f6b411fb1\" style=\"stroke-miterlimit: 2; opacity: 1;\"><g class=\"fills\"/><g class=\"errorbars\"/><g class=\"lines\"><path class=\"js-line\" d=\"M35.21,230.46L173.6,221.89L311.98,230.46L450.37,230.46L588.75,16.08\" style=\"vector-effect: non-scaling-stroke; fill: none; stroke: rgb(23, 190, 207); stroke-opacity: 1; stroke-width: 2px; opacity: 1;\"/></g><g class=\"points\"><path class=\"point\" transform=\"translate(35.21,230.46)\" d=\"M3,0A3,3 0 1,1 0,-3A3,3 0 0,1 3,0Z\" style=\"opacity: 1; stroke-width: 0px; fill: rgb(23, 190, 207); fill-opacity: 1;\"/><path class=\"point\" transform=\"translate(173.6,221.89)\" d=\"M3,0A3,3 0 1,1 0,-3A3,3 0 0,1 3,0Z\" style=\"opacity: 1; stroke-width: 0px; fill: rgb(23, 190, 207); fill-opacity: 1;\"/><path class=\"point\" transform=\"translate(311.98,230.46)\" d=\"M3,0A3,3 0 1,1 0,-3A3,3 0 0,1 3,0Z\" style=\"opacity: 1; stroke-width: 0px; fill: rgb(23, 190, 207); fill-opacity: 1;\"/><path class=\"point\" transform=\"translate(450.37,230.46)\" d=\"M3,0A3,3 0 1,1 0,-3A3,3 0 0,1 3,0Z\" style=\"opacity: 1; stroke-width: 0px; fill: rgb(23, 190, 207); fill-opacity: 1;\"/><path class=\"point\" transform=\"translate(588.75,16.08)\" d=\"M3,0A3,3 0 1,1 0,-3A3,3 0 0,1 3,0Z\" style=\"opacity: 1; stroke-width: 0px; fill: rgb(23, 190, 207); fill-opacity: 1;\"/></g><g class=\"text\"/></g><g class=\"trace scatter trace8617cab2-5f96-48cb-a8f4-57002db6b808\" style=\"stroke-miterlimit: 2; opacity: 0;\"><g class=\"fills\"/><g class=\"errorbars\"/><g class=\"lines\"><path class=\"js-line\" d=\"M35.21,230.46L588.75,230.46\" style=\"vector-effect: non-scaling-stroke; fill: none; stroke: rgb(0, 0, 0); stroke-opacity: 0; stroke-width: 0px; opacity: 1;\"/></g><g class=\"points\"><path class=\"point\" transform=\"translate(35.21,230.46)\" d=\"M3,0A3,3 0 1,1 0,-3A3,3 0 0,1 3,0Z\" style=\"opacity: 1; stroke-width: 0px; fill: rgb(0, 0, 0); fill-opacity: 0;\"/><path class=\"point\" transform=\"translate(173.6,230.46)\" d=\"M3,0A3,3 0 1,1 0,-3A3,3 0 0,1 3,0Z\" style=\"opacity: 1; stroke-width: 0px; fill: rgb(0, 0, 0); fill-opacity: 0;\"/><path class=\"point\" transform=\"translate(311.98,230.46)\" d=\"M3,0A3,3 0 1,1 0,-3A3,3 0 0,1 3,0Z\" style=\"opacity: 1; stroke-width: 0px; fill: rgb(0, 0, 0); fill-opacity: 0;\"/><path class=\"point\" transform=\"translate(450.37,230.46)\" d=\"M3,0A3,3 0 1,1 0,-3A3,3 0 0,1 3,0Z\" style=\"opacity: 1; stroke-width: 0px; fill: rgb(0, 0, 0); fill-opacity: 0;\"/><path class=\"point\" transform=\"translate(588.75,230.46)\" d=\"M3,0A3,3 0 1,1 0,-3A3,3 0 0,1 3,0Z\" style=\"opacity: 1; stroke-width: 0px; fill: rgb(0, 0, 0); fill-opacity: 0;\"/></g><g class=\"text\"/></g></g></g><g class=\"overplot\"/><path class=\"xlines-above crisp\" d=\"M0,0\" style=\"fill: none;\"/><path class=\"ylines-above crisp\" d=\"M0,0\" style=\"fill: none;\"/><g class=\"overlines-above\"/><g class=\"xaxislayer-above\"/><g class=\"yaxislayer-above\"><g class=\"y8tick\"><text text-anchor=\"end\" x=\"94\" y=\"4.199999999999999\" transform=\"translate(0,2358.476867469879)\" style=\"font-family: 'Open Sans', verdana, arial, sans-serif; font-size: 12px; fill: rgb(42, 63, 95); fill-opacity: 1; white-space: pre; opacity: 1;\">0</text></g><g class=\"y8tick\"><text text-anchor=\"end\" x=\"94\" y=\"4.199999999999999\" style=\"font-family: 'Open Sans', verdana, arial, sans-serif; font-size: 12px; fill: rgb(42, 63, 95); fill-opacity: 1; white-space: pre; opacity: 1;\" transform=\"translate(0,2315.606867469879)\">1</text></g><g class=\"y8tick\"><text text-anchor=\"end\" x=\"94\" y=\"4.199999999999999\" style=\"font-family: 'Open Sans', verdana, arial, sans-serif; font-size: 12px; fill: rgb(42, 63, 95); fill-opacity: 1; white-space: pre; opacity: 1;\" transform=\"translate(0,2272.726867469879)\">2</text></g><g class=\"y8tick\"><text text-anchor=\"end\" x=\"94\" y=\"4.199999999999999\" style=\"font-family: 'Open Sans', verdana, arial, sans-serif; font-size: 12px; fill: rgb(42, 63, 95); fill-opacity: 1; white-space: pre; opacity: 1;\" transform=\"translate(0,2229.846867469879)\">3</text></g><g class=\"y8tick\"><text text-anchor=\"end\" x=\"94\" y=\"4.199999999999999\" style=\"font-family: 'Open Sans', verdana, arial, sans-serif; font-size: 12px; fill: rgb(42, 63, 95); fill-opacity: 1; white-space: pre; opacity: 1;\" transform=\"translate(0,2186.9668674698787)\">4</text></g><g class=\"y8tick\"><text text-anchor=\"end\" x=\"94\" y=\"4.199999999999999\" style=\"font-family: 'Open Sans', verdana, arial, sans-serif; font-size: 12px; fill: rgb(42, 63, 95); fill-opacity: 1; white-space: pre; opacity: 1;\" transform=\"translate(0,2144.096867469879)\">5</text></g></g><g class=\"overaxes-above\"/></g><g class=\"subplot x9y9\"><g class=\"layer-subplot\"><g class=\"shapelayer\"/><g class=\"imagelayer\"/></g><g class=\"gridlayer\"><g class=\"x9\"><path class=\"x9grid crisp\" transform=\"translate(130.21,0)\" d=\"M0,2412.5907056798624v246.54010327022374\" style=\"stroke: rgb(255, 255, 255); stroke-opacity: 1; stroke-width: 1px;\"/><path class=\"x9grid crisp\" transform=\"translate(268.6,0)\" d=\"M0,2412.5907056798624v246.54010327022374\" style=\"stroke: rgb(255, 255, 255); stroke-opacity: 1; stroke-width: 1px;\"/><path class=\"x9grid crisp\" transform=\"translate(406.98,0)\" d=\"M0,2412.5907056798624v246.54010327022374\" style=\"stroke: rgb(255, 255, 255); stroke-opacity: 1; stroke-width: 1px;\"/><path class=\"x9grid crisp\" transform=\"translate(545.37,0)\" d=\"M0,2412.5907056798624v246.54010327022374\" style=\"stroke: rgb(255, 255, 255); stroke-opacity: 1; stroke-width: 1px;\"/><path class=\"x9grid crisp\" transform=\"translate(683.75,0)\" d=\"M0,2412.5907056798624v246.54010327022374\" style=\"stroke: rgb(255, 255, 255); stroke-opacity: 1; stroke-width: 1px;\"/></g><g class=\"y9\"><path class=\"y9grid crisp\" transform=\"translate(0,2635.810705679862)\" d=\"M95,0h625\" style=\"stroke: rgb(255, 255, 255); stroke-opacity: 1; stroke-width: 1px;\"/><path class=\"y9grid crisp\" transform=\"translate(0,2601.290705679862)\" d=\"M95,0h625\" style=\"stroke: rgb(255, 255, 255); stroke-opacity: 1; stroke-width: 1px;\"/><path class=\"y9grid crisp\" transform=\"translate(0,2566.7607056798624)\" d=\"M95,0h625\" style=\"stroke: rgb(255, 255, 255); stroke-opacity: 1; stroke-width: 1px;\"/><path class=\"y9grid crisp\" transform=\"translate(0,2532.2407056798625)\" d=\"M95,0h625\" style=\"stroke: rgb(255, 255, 255); stroke-opacity: 1; stroke-width: 1px;\"/><path class=\"y9grid crisp\" transform=\"translate(0,2497.7107056798623)\" d=\"M95,0h625\" style=\"stroke: rgb(255, 255, 255); stroke-opacity: 1; stroke-width: 1px;\"/><path class=\"y9grid crisp\" transform=\"translate(0,2463.1907056798623)\" d=\"M95,0h625\" style=\"stroke: rgb(255, 255, 255); stroke-opacity: 1; stroke-width: 1px;\"/><path class=\"y9grid crisp\" transform=\"translate(0,2428.6707056798623)\" d=\"M95,0h625\" style=\"stroke: rgb(255, 255, 255); stroke-opacity: 1; stroke-width: 1px;\"/></g></g><g class=\"zerolinelayer\"/><path class=\"xlines-below\"/><path class=\"ylines-below\"/><g class=\"overlines-below\"/><g class=\"xaxislayer-below\"/><g class=\"yaxislayer-below\"/><g class=\"overaxes-below\"/><g class=\"plot\" transform=\"translate(95,2412.5907056798624)\" clip-path=\"url(#clipfa6231x9y9plot)\"><g class=\"scatterlayer mlayer\"><g class=\"trace scatter traceecaae4a0-6721-448a-8ad3-96b381453f22\" style=\"stroke-miterlimit: 2;\"><g class=\"fills\"><g><path class=\"js-fill\" d=\"M35.21,16.08L173.6,87.9L311.98,92.02L450.37,92.02L588.75,230.46L588.75,16.08L35.21,16.08Z\" style=\"fill: rgb(255, 0, 0); fill-opacity: 0.3; stroke-width: 0;\"/></g></g><g class=\"errorbars\"/><g class=\"lines\"><path class=\"js-line\" d=\"M35.21,16.08L588.75,16.08\" style=\"vector-effect: non-scaling-stroke; fill: none; stroke: rgb(0, 0, 0); stroke-opacity: 0; stroke-width: 0px; opacity: 1;\"/></g><g class=\"points\"><path class=\"point\" transform=\"translate(35.21,16.08)\" d=\"M3,0A3,3 0 1,1 0,-3A3,3 0 0,1 3,0Z\" style=\"opacity: 1; stroke-width: 0px; fill: rgb(0, 0, 0); fill-opacity: 0;\"/><path class=\"point\" transform=\"translate(173.6,16.08)\" d=\"M3,0A3,3 0 1,1 0,-3A3,3 0 0,1 3,0Z\" style=\"opacity: 1; stroke-width: 0px; fill: rgb(0, 0, 0); fill-opacity: 0;\"/><path class=\"point\" transform=\"translate(311.98,16.08)\" d=\"M3,0A3,3 0 1,1 0,-3A3,3 0 0,1 3,0Z\" style=\"opacity: 1; stroke-width: 0px; fill: rgb(0, 0, 0); fill-opacity: 0;\"/><path class=\"point\" transform=\"translate(450.37,16.08)\" d=\"M3,0A3,3 0 1,1 0,-3A3,3 0 0,1 3,0Z\" style=\"opacity: 1; stroke-width: 0px; fill: rgb(0, 0, 0); fill-opacity: 0;\"/><path class=\"point\" transform=\"translate(588.75,16.08)\" d=\"M3,0A3,3 0 1,1 0,-3A3,3 0 0,1 3,0Z\" style=\"opacity: 1; stroke-width: 0px; fill: rgb(0, 0, 0); fill-opacity: 0;\"/></g><g class=\"text\"/></g><g class=\"trace scatter tracee8c660be-5f1f-4b66-838c-ce4acf8fea1a\" style=\"stroke-miterlimit: 2;\"><g class=\"fills\"/><g class=\"errorbars\"/><g class=\"lines\"><path class=\"js-line\" d=\"M35.21,16.08L173.6,87.9L311.98,92.02L450.37,92.02L588.75,230.46\" style=\"vector-effect: non-scaling-stroke; fill: none; stroke: rgb(0, 0, 0); stroke-opacity: 0; stroke-width: 0px; opacity: 1;\"/></g><g class=\"points\"><path class=\"point\" transform=\"translate(35.21,16.08)\" d=\"M3,0A3,3 0 1,1 0,-3A3,3 0 0,1 3,0Z\" style=\"opacity: 1; stroke-width: 0px; fill: rgb(0, 0, 0); fill-opacity: 0;\"/><path class=\"point\" transform=\"translate(173.6,87.9)\" d=\"M3,0A3,3 0 1,1 0,-3A3,3 0 0,1 3,0Z\" style=\"opacity: 1; stroke-width: 0px; fill: rgb(0, 0, 0); fill-opacity: 0;\"/><path class=\"point\" transform=\"translate(311.98,92.02)\" d=\"M3,0A3,3 0 1,1 0,-3A3,3 0 0,1 3,0Z\" style=\"opacity: 1; stroke-width: 0px; fill: rgb(0, 0, 0); fill-opacity: 0;\"/><path class=\"point\" transform=\"translate(450.37,92.02)\" d=\"M3,0A3,3 0 1,1 0,-3A3,3 0 0,1 3,0Z\" style=\"opacity: 1; stroke-width: 0px; fill: rgb(0, 0, 0); fill-opacity: 0;\"/><path class=\"point\" transform=\"translate(588.75,230.46)\" d=\"M3,0A3,3 0 1,1 0,-3A3,3 0 0,1 3,0Z\" style=\"opacity: 1; stroke-width: 0px; fill: rgb(0, 0, 0); fill-opacity: 0;\"/></g><g class=\"text\"/></g><g class=\"trace scatter trace1e2251ec-83f4-4ba7-b43b-492d2977ef9c\" style=\"stroke-miterlimit: 2; opacity: 1;\"><g class=\"fills\"/><g class=\"errorbars\"/><g class=\"lines\"><path class=\"js-line\" d=\"M35.21,16.08L173.6,87.9L311.98,92.02L450.37,92.02L588.75,230.46\" style=\"vector-effect: non-scaling-stroke; fill: none; stroke: rgb(148, 103, 189); stroke-opacity: 1; stroke-width: 2px; opacity: 1;\"/></g><g class=\"points\"><path class=\"point\" transform=\"translate(35.21,16.08)\" d=\"M3,0A3,3 0 1,1 0,-3A3,3 0 0,1 3,0Z\" style=\"opacity: 1; stroke-width: 0px; fill: rgb(148, 103, 189); fill-opacity: 1;\"/><path class=\"point\" transform=\"translate(173.6,87.9)\" d=\"M3,0A3,3 0 1,1 0,-3A3,3 0 0,1 3,0Z\" style=\"opacity: 1; stroke-width: 0px; fill: rgb(148, 103, 189); fill-opacity: 1;\"/><path class=\"point\" transform=\"translate(311.98,92.02)\" d=\"M3,0A3,3 0 1,1 0,-3A3,3 0 0,1 3,0Z\" style=\"opacity: 1; stroke-width: 0px; fill: rgb(148, 103, 189); fill-opacity: 1;\"/><path class=\"point\" transform=\"translate(450.37,92.02)\" d=\"M3,0A3,3 0 1,1 0,-3A3,3 0 0,1 3,0Z\" style=\"opacity: 1; stroke-width: 0px; fill: rgb(148, 103, 189); fill-opacity: 1;\"/><path class=\"point\" transform=\"translate(588.75,230.46)\" d=\"M3,0A3,3 0 1,1 0,-3A3,3 0 0,1 3,0Z\" style=\"opacity: 1; stroke-width: 0px; fill: rgb(148, 103, 189); fill-opacity: 1;\"/></g><g class=\"text\"/></g><g class=\"trace scatter traced911f338-386c-4b73-81e2-30d1622fa84c\" style=\"stroke-miterlimit: 2; opacity: 0;\"><g class=\"fills\"/><g class=\"errorbars\"/><g class=\"lines\"><path class=\"js-line\" d=\"M35.21,16.08L588.75,16.08\" style=\"vector-effect: non-scaling-stroke; fill: none; stroke: rgb(0, 0, 0); stroke-opacity: 0; stroke-width: 0px; opacity: 1;\"/></g><g class=\"points\"><path class=\"point\" transform=\"translate(35.21,16.08)\" d=\"M3,0A3,3 0 1,1 0,-3A3,3 0 0,1 3,0Z\" style=\"opacity: 1; stroke-width: 0px; fill: rgb(0, 0, 0); fill-opacity: 0;\"/><path class=\"point\" transform=\"translate(173.6,16.08)\" d=\"M3,0A3,3 0 1,1 0,-3A3,3 0 0,1 3,0Z\" style=\"opacity: 1; stroke-width: 0px; fill: rgb(0, 0, 0); fill-opacity: 0;\"/><path class=\"point\" transform=\"translate(311.98,16.08)\" d=\"M3,0A3,3 0 1,1 0,-3A3,3 0 0,1 3,0Z\" style=\"opacity: 1; stroke-width: 0px; fill: rgb(0, 0, 0); fill-opacity: 0;\"/><path class=\"point\" transform=\"translate(450.37,16.08)\" d=\"M3,0A3,3 0 1,1 0,-3A3,3 0 0,1 3,0Z\" style=\"opacity: 1; stroke-width: 0px; fill: rgb(0, 0, 0); fill-opacity: 0;\"/><path class=\"point\" transform=\"translate(588.75,16.08)\" d=\"M3,0A3,3 0 1,1 0,-3A3,3 0 0,1 3,0Z\" style=\"opacity: 1; stroke-width: 0px; fill: rgb(0, 0, 0); fill-opacity: 0;\"/></g><g class=\"text\"/></g></g></g><g class=\"overplot\"/><path class=\"xlines-above crisp\" d=\"M0,0\" style=\"fill: none;\"/><path class=\"ylines-above crisp\" d=\"M0,0\" style=\"fill: none;\"/><g class=\"overlines-above\"/><g class=\"xaxislayer-above\"/><g class=\"yaxislayer-above\"><g class=\"y9tick\"><text text-anchor=\"end\" x=\"94\" y=\"4.199999999999999\" transform=\"translate(0,2635.810705679862)\" style=\"font-family: 'Open Sans', verdana, arial, sans-serif; font-size: 12px; fill: rgb(42, 63, 95); fill-opacity: 1; white-space: pre; opacity: 1;\">99.7</text></g><g class=\"y9tick\"><text text-anchor=\"end\" x=\"94\" y=\"4.199999999999999\" style=\"font-family: 'Open Sans', verdana, arial, sans-serif; font-size: 12px; fill: rgb(42, 63, 95); fill-opacity: 1; white-space: pre; opacity: 1;\" transform=\"translate(0,2601.290705679862)\">99.75</text></g><g class=\"y9tick\"><text text-anchor=\"end\" x=\"94\" y=\"4.199999999999999\" style=\"font-family: 'Open Sans', verdana, arial, sans-serif; font-size: 12px; fill: rgb(42, 63, 95); fill-opacity: 1; white-space: pre; opacity: 1;\" transform=\"translate(0,2566.7607056798624)\">99.8</text></g><g class=\"y9tick\"><text text-anchor=\"end\" x=\"94\" y=\"4.199999999999999\" style=\"font-family: 'Open Sans', verdana, arial, sans-serif; font-size: 12px; fill: rgb(42, 63, 95); fill-opacity: 1; white-space: pre; opacity: 1;\" transform=\"translate(0,2532.2407056798625)\">99.85</text></g><g class=\"y9tick\"><text text-anchor=\"end\" x=\"94\" y=\"4.199999999999999\" style=\"font-family: 'Open Sans', verdana, arial, sans-serif; font-size: 12px; fill: rgb(42, 63, 95); fill-opacity: 1; white-space: pre; opacity: 1;\" transform=\"translate(0,2497.7107056798623)\">99.9</text></g><g class=\"y9tick\"><text text-anchor=\"end\" x=\"94\" y=\"4.199999999999999\" style=\"font-family: 'Open Sans', verdana, arial, sans-serif; font-size: 12px; fill: rgb(42, 63, 95); fill-opacity: 1; white-space: pre; opacity: 1;\" transform=\"translate(0,2463.1907056798623)\">99.95</text></g><g class=\"y9tick\"><text text-anchor=\"end\" x=\"94\" y=\"4.199999999999999\" style=\"font-family: 'Open Sans', verdana, arial, sans-serif; font-size: 12px; fill: rgb(42, 63, 95); fill-opacity: 1; white-space: pre; opacity: 1;\" transform=\"translate(0,2428.6707056798623)\">100</text></g></g><g class=\"overaxes-above\"/></g><g class=\"subplot x10y10\"><g class=\"layer-subplot\"><g class=\"shapelayer\"/><g class=\"imagelayer\"/></g><g class=\"gridlayer\"><g class=\"x10\"><path class=\"x10grid crisp\" transform=\"translate(130.21,0)\" d=\"M0,2697.1645438898454v246.54010327022374\" style=\"stroke: rgb(255, 255, 255); stroke-opacity: 1; stroke-width: 1px;\"/><path class=\"x10grid crisp\" transform=\"translate(268.6,0)\" d=\"M0,2697.1645438898454v246.54010327022374\" style=\"stroke: rgb(255, 255, 255); stroke-opacity: 1; stroke-width: 1px;\"/><path class=\"x10grid crisp\" transform=\"translate(406.98,0)\" d=\"M0,2697.1645438898454v246.54010327022374\" style=\"stroke: rgb(255, 255, 255); stroke-opacity: 1; stroke-width: 1px;\"/><path class=\"x10grid crisp\" transform=\"translate(545.37,0)\" d=\"M0,2697.1645438898454v246.54010327022374\" style=\"stroke: rgb(255, 255, 255); stroke-opacity: 1; stroke-width: 1px;\"/><path class=\"x10grid crisp\" transform=\"translate(683.75,0)\" d=\"M0,2697.1645438898454v246.54010327022374\" style=\"stroke: rgb(255, 255, 255); stroke-opacity: 1; stroke-width: 1px;\"/></g><g class=\"y10\"><path class=\"y10grid crisp\" transform=\"translate(0,2927.1845438898454)\" d=\"M95,0h625\" style=\"stroke: rgb(255, 255, 255); stroke-opacity: 1; stroke-width: 1px;\"/><path class=\"y10grid crisp\" transform=\"translate(0,2855.8745438898454)\" d=\"M95,0h625\" style=\"stroke: rgb(255, 255, 255); stroke-opacity: 1; stroke-width: 1px;\"/><path class=\"y10grid crisp\" transform=\"translate(0,2784.5545438898453)\" d=\"M95,0h625\" style=\"stroke: rgb(255, 255, 255); stroke-opacity: 1; stroke-width: 1px;\"/><path class=\"y10grid crisp\" transform=\"translate(0,2713.2445438898453)\" d=\"M95,0h625\" style=\"stroke: rgb(255, 255, 255); stroke-opacity: 1; stroke-width: 1px;\"/></g></g><g class=\"zerolinelayer\"/><path class=\"xlines-below\"/><path class=\"ylines-below\"/><g class=\"overlines-below\"/><g class=\"xaxislayer-below\"/><g class=\"yaxislayer-below\"/><g class=\"overaxes-below\"/><g class=\"plot\" transform=\"translate(95,2697.1645438898454)\" clip-path=\"url(#clipfa6231x10y10plot)\"><g class=\"scatterlayer mlayer\"><g class=\"trace scatter trace3148ecb2-97ff-4025-bacf-cf9bc50ad889\" style=\"stroke-miterlimit: 2; opacity: 1;\"><g class=\"fills\"/><g class=\"errorbars\"/><g class=\"lines\"><path class=\"js-line\" d=\"M35.21,230.02L173.6,230.02L311.98,158.71L588.75,16.08\" style=\"vector-effect: non-scaling-stroke; fill: none; stroke: rgb(127, 127, 127); stroke-opacity: 1; stroke-width: 2px; opacity: 1;\"/></g><g class=\"points\"><path class=\"point\" transform=\"translate(35.21,230.02)\" d=\"M3,0A3,3 0 1,1 0,-3A3,3 0 0,1 3,0Z\" style=\"opacity: 1; stroke-width: 0px; fill: rgb(127, 127, 127); fill-opacity: 1;\"/><path class=\"point\" transform=\"translate(173.6,230.02)\" d=\"M3,0A3,3 0 1,1 0,-3A3,3 0 0,1 3,0Z\" style=\"opacity: 1; stroke-width: 0px; fill: rgb(127, 127, 127); fill-opacity: 1;\"/><path class=\"point\" transform=\"translate(311.98,158.71)\" d=\"M3,0A3,3 0 1,1 0,-3A3,3 0 0,1 3,0Z\" style=\"opacity: 1; stroke-width: 0px; fill: rgb(127, 127, 127); fill-opacity: 1;\"/><path class=\"point\" transform=\"translate(450.37,87.39)\" d=\"M3,0A3,3 0 1,1 0,-3A3,3 0 0,1 3,0Z\" style=\"opacity: 1; stroke-width: 0px; fill: rgb(127, 127, 127); fill-opacity: 1;\"/><path class=\"point\" transform=\"translate(588.75,16.08)\" d=\"M3,0A3,3 0 1,1 0,-3A3,3 0 0,1 3,0Z\" style=\"opacity: 1; stroke-width: 0px; fill: rgb(127, 127, 127); fill-opacity: 1;\"/></g><g class=\"text\"/></g><g class=\"trace scatter trace0e0e444c-14ad-4e6d-8192-524f000e3028\" style=\"stroke-miterlimit: 2;\"><g class=\"fills\"><g><path class=\"js-fill\" d=\"M35.21,230.02L588.75,230.46L588.75,230.02L35.21,230.02Z\" style=\"fill: rgb(255, 0, 0); fill-opacity: 0.3; stroke-width: 0;\"/></g></g><g class=\"errorbars\"/><g class=\"lines\"><path class=\"js-line\" d=\"M35.21,230.02L588.75,230.02\" style=\"vector-effect: non-scaling-stroke; fill: none; stroke: rgb(0, 0, 0); stroke-opacity: 0; stroke-width: 0px; opacity: 1;\"/></g><g class=\"points\"><path class=\"point\" transform=\"translate(35.21,230.02)\" d=\"M3,0A3,3 0 1,1 0,-3A3,3 0 0,1 3,0Z\" style=\"opacity: 1; stroke-width: 0px; fill: rgb(0, 0, 0); fill-opacity: 0;\"/><path class=\"point\" transform=\"translate(173.6,230.02)\" d=\"M3,0A3,3 0 1,1 0,-3A3,3 0 0,1 3,0Z\" style=\"opacity: 1; stroke-width: 0px; fill: rgb(0, 0, 0); fill-opacity: 0;\"/><path class=\"point\" transform=\"translate(311.98,230.02)\" d=\"M3,0A3,3 0 1,1 0,-3A3,3 0 0,1 3,0Z\" style=\"opacity: 1; stroke-width: 0px; fill: rgb(0, 0, 0); fill-opacity: 0;\"/><path class=\"point\" transform=\"translate(450.37,230.02)\" d=\"M3,0A3,3 0 1,1 0,-3A3,3 0 0,1 3,0Z\" style=\"opacity: 1; stroke-width: 0px; fill: rgb(0, 0, 0); fill-opacity: 0;\"/><path class=\"point\" transform=\"translate(588.75,230.02)\" d=\"M3,0A3,3 0 1,1 0,-3A3,3 0 0,1 3,0Z\" style=\"opacity: 1; stroke-width: 0px; fill: rgb(0, 0, 0); fill-opacity: 0;\"/></g><g class=\"text\"/></g><g class=\"trace scatter tracef8d9d7ad-d7c1-46b3-b470-b8bd30282a40\" style=\"stroke-miterlimit: 2;\"><g class=\"fills\"/><g class=\"errorbars\"/><g class=\"lines\"><path class=\"js-line\" d=\"M35.21,230.02L588.75,230.46\" style=\"vector-effect: non-scaling-stroke; fill: none; stroke: rgb(0, 0, 0); stroke-opacity: 0; stroke-width: 0px; opacity: 1;\"/></g><g class=\"points\"><path class=\"point\" transform=\"translate(35.21,230.02)\" d=\"M3,0A3,3 0 1,1 0,-3A3,3 0 0,1 3,0Z\" style=\"opacity: 1; stroke-width: 0px; fill: rgb(0, 0, 0); fill-opacity: 0;\"/><path class=\"point\" transform=\"translate(173.6,230.17)\" d=\"M3,0A3,3 0 1,1 0,-3A3,3 0 0,1 3,0Z\" style=\"opacity: 1; stroke-width: 0px; fill: rgb(0, 0, 0); fill-opacity: 0;\"/><path class=\"point\" transform=\"translate(311.98,230.18)\" d=\"M3,0A3,3 0 1,1 0,-3A3,3 0 0,1 3,0Z\" style=\"opacity: 1; stroke-width: 0px; fill: rgb(0, 0, 0); fill-opacity: 0;\"/><path class=\"point\" transform=\"translate(450.37,230.18)\" d=\"M3,0A3,3 0 1,1 0,-3A3,3 0 0,1 3,0Z\" style=\"opacity: 1; stroke-width: 0px; fill: rgb(0, 0, 0); fill-opacity: 0;\"/><path class=\"point\" transform=\"translate(588.75,230.46)\" d=\"M3,0A3,3 0 1,1 0,-3A3,3 0 0,1 3,0Z\" style=\"opacity: 1; stroke-width: 0px; fill: rgb(0, 0, 0); fill-opacity: 0;\"/></g><g class=\"text\"/></g><g class=\"trace scatter trace87fedce9-18f4-41c4-9cb1-677190613153\" style=\"stroke-miterlimit: 2; opacity: 1;\"><g class=\"fills\"/><g class=\"errorbars\"/><g class=\"lines\"><path class=\"js-line\" d=\"M35.21,230.02L588.75,230.46\" style=\"vector-effect: non-scaling-stroke; fill: none; stroke: rgb(148, 103, 189); stroke-opacity: 1; stroke-width: 2px; opacity: 1;\"/></g><g class=\"points\"><path class=\"point\" transform=\"translate(35.21,230.02)\" d=\"M3,0A3,3 0 1,1 0,-3A3,3 0 0,1 3,0Z\" style=\"opacity: 1; stroke-width: 0px; fill: rgb(148, 103, 189); fill-opacity: 1;\"/><path class=\"point\" transform=\"translate(173.6,230.17)\" d=\"M3,0A3,3 0 1,1 0,-3A3,3 0 0,1 3,0Z\" style=\"opacity: 1; stroke-width: 0px; fill: rgb(148, 103, 189); fill-opacity: 1;\"/><path class=\"point\" transform=\"translate(311.98,230.18)\" d=\"M3,0A3,3 0 1,1 0,-3A3,3 0 0,1 3,0Z\" style=\"opacity: 1; stroke-width: 0px; fill: rgb(148, 103, 189); fill-opacity: 1;\"/><path class=\"point\" transform=\"translate(450.37,230.18)\" d=\"M3,0A3,3 0 1,1 0,-3A3,3 0 0,1 3,0Z\" style=\"opacity: 1; stroke-width: 0px; fill: rgb(148, 103, 189); fill-opacity: 1;\"/><path class=\"point\" transform=\"translate(588.75,230.46)\" d=\"M3,0A3,3 0 1,1 0,-3A3,3 0 0,1 3,0Z\" style=\"opacity: 1; stroke-width: 0px; fill: rgb(148, 103, 189); fill-opacity: 1;\"/></g><g class=\"text\"/></g><g class=\"trace scatter trace9f4ac6f3-057e-4da2-8a9e-d6688295872d\" style=\"stroke-miterlimit: 2; opacity: 0;\"><g class=\"fills\"/><g class=\"errorbars\"/><g class=\"lines\"><path class=\"js-line\" d=\"M35.21,230.02L588.75,230.02\" style=\"vector-effect: non-scaling-stroke; fill: none; stroke: rgb(0, 0, 0); stroke-opacity: 0; stroke-width: 0px; opacity: 1;\"/></g><g class=\"points\"><path class=\"point\" transform=\"translate(35.21,230.02)\" d=\"M3,0A3,3 0 1,1 0,-3A3,3 0 0,1 3,0Z\" style=\"opacity: 1; stroke-width: 0px; fill: rgb(0, 0, 0); fill-opacity: 0;\"/><path class=\"point\" transform=\"translate(173.6,230.02)\" d=\"M3,0A3,3 0 1,1 0,-3A3,3 0 0,1 3,0Z\" style=\"opacity: 1; stroke-width: 0px; fill: rgb(0, 0, 0); fill-opacity: 0;\"/><path class=\"point\" transform=\"translate(311.98,230.02)\" d=\"M3,0A3,3 0 1,1 0,-3A3,3 0 0,1 3,0Z\" style=\"opacity: 1; stroke-width: 0px; fill: rgb(0, 0, 0); fill-opacity: 0;\"/><path class=\"point\" transform=\"translate(450.37,230.02)\" d=\"M3,0A3,3 0 1,1 0,-3A3,3 0 0,1 3,0Z\" style=\"opacity: 1; stroke-width: 0px; fill: rgb(0, 0, 0); fill-opacity: 0;\"/><path class=\"point\" transform=\"translate(588.75,230.02)\" d=\"M3,0A3,3 0 1,1 0,-3A3,3 0 0,1 3,0Z\" style=\"opacity: 1; stroke-width: 0px; fill: rgb(0, 0, 0); fill-opacity: 0;\"/></g><g class=\"text\"/></g></g></g><g class=\"overplot\"/><path class=\"xlines-above crisp\" d=\"M0,0\" style=\"fill: none;\"/><path class=\"ylines-above crisp\" d=\"M0,0\" style=\"fill: none;\"/><g class=\"overlines-above\"/><g class=\"xaxislayer-above\"/><g class=\"yaxislayer-above\"><g class=\"y10tick\"><text text-anchor=\"end\" x=\"94\" y=\"4.199999999999999\" transform=\"translate(0,2927.1845438898454)\" style=\"font-family: 'Open Sans', verdana, arial, sans-serif; font-size: 12px; fill: rgb(42, 63, 95); fill-opacity: 1; white-space: pre; opacity: 1;\">1</text></g><g class=\"y10tick\"><text text-anchor=\"end\" x=\"94\" y=\"4.199999999999999\" style=\"font-family: 'Open Sans', verdana, arial, sans-serif; font-size: 12px; fill: rgb(42, 63, 95); fill-opacity: 1; white-space: pre; opacity: 1;\" transform=\"translate(0,2855.8745438898454)\">1.5</text></g><g class=\"y10tick\"><text text-anchor=\"end\" x=\"94\" y=\"4.199999999999999\" style=\"font-family: 'Open Sans', verdana, arial, sans-serif; font-size: 12px; fill: rgb(42, 63, 95); fill-opacity: 1; white-space: pre; opacity: 1;\" transform=\"translate(0,2784.5545438898453)\">2</text></g><g class=\"y10tick\"><text text-anchor=\"end\" x=\"94\" y=\"4.199999999999999\" style=\"font-family: 'Open Sans', verdana, arial, sans-serif; font-size: 12px; fill: rgb(42, 63, 95); fill-opacity: 1; white-space: pre; opacity: 1;\" transform=\"translate(0,2713.2445438898453)\">2.5</text></g></g><g class=\"overaxes-above\"/></g><g class=\"subplot x11y11\"><g class=\"layer-subplot\"><g class=\"shapelayer\"/><g class=\"imagelayer\"/></g><g class=\"gridlayer\"><g class=\"x11\"><path class=\"x11grid crisp\" transform=\"translate(130.21,0)\" d=\"M0,2981.738382099828v246.54010327022382\" style=\"stroke: rgb(255, 255, 255); stroke-opacity: 1; stroke-width: 1px;\"/><path class=\"x11grid crisp\" transform=\"translate(268.6,0)\" d=\"M0,2981.738382099828v246.54010327022382\" style=\"stroke: rgb(255, 255, 255); stroke-opacity: 1; stroke-width: 1px;\"/><path class=\"x11grid crisp\" transform=\"translate(406.98,0)\" d=\"M0,2981.738382099828v246.54010327022382\" style=\"stroke: rgb(255, 255, 255); stroke-opacity: 1; stroke-width: 1px;\"/><path class=\"x11grid crisp\" transform=\"translate(545.37,0)\" d=\"M0,2981.738382099828v246.54010327022382\" style=\"stroke: rgb(255, 255, 255); stroke-opacity: 1; stroke-width: 1px;\"/><path class=\"x11grid crisp\" transform=\"translate(683.75,0)\" d=\"M0,2981.738382099828v246.54010327022382\" style=\"stroke: rgb(255, 255, 255); stroke-opacity: 1; stroke-width: 1px;\"/></g><g class=\"y11\"><path class=\"y11grid crisp\" transform=\"translate(0,3204.378382099828)\" d=\"M95,0h625\" style=\"stroke: rgb(255, 255, 255); stroke-opacity: 1; stroke-width: 1px;\"/><path class=\"y11grid crisp\" transform=\"translate(0,3135.728382099828)\" d=\"M95,0h625\" style=\"stroke: rgb(255, 255, 255); stroke-opacity: 1; stroke-width: 1px;\"/><path class=\"y11grid crisp\" transform=\"translate(0,3067.088382099828)\" d=\"M95,0h625\" style=\"stroke: rgb(255, 255, 255); stroke-opacity: 1; stroke-width: 1px;\"/><path class=\"y11grid crisp\" transform=\"translate(0,2998.438382099828)\" d=\"M95,0h625\" style=\"stroke: rgb(255, 255, 255); stroke-opacity: 1; stroke-width: 1px;\"/></g></g><g class=\"zerolinelayer\"/><path class=\"xlines-below\"/><path class=\"ylines-below\"/><g class=\"overlines-below\"/><g class=\"xaxislayer-below\"/><g class=\"yaxislayer-below\"/><g class=\"overaxes-below\"/><g class=\"plot\" transform=\"translate(95,2981.738382099828)\" clip-path=\"url(#clipfa6231x11y11plot)\"><g class=\"scatterlayer mlayer\"><g class=\"trace scatter trace2885fbe5-b86e-4e46-8cb6-ebd817dc4134\" style=\"stroke-miterlimit: 2; opacity: 1;\"><g class=\"fills\"/><g class=\"errorbars\"/><g class=\"lines\"><path class=\"js-line\" d=\"M35.21,16.7L173.6,88.11L311.98,92.2L450.37,92.2L588.75,229.84\" style=\"vector-effect: non-scaling-stroke; fill: none; stroke: rgb(148, 103, 189); stroke-opacity: 1; stroke-width: 2px; opacity: 1;\"/></g><g class=\"points\"><path class=\"point\" transform=\"translate(35.21,16.7)\" d=\"M3,0A3,3 0 1,1 0,-3A3,3 0 0,1 3,0Z\" style=\"opacity: 1; stroke-width: 0px; fill: rgb(148, 103, 189); fill-opacity: 1;\"/><path class=\"point\" transform=\"translate(173.6,88.11)\" d=\"M3,0A3,3 0 1,1 0,-3A3,3 0 0,1 3,0Z\" style=\"opacity: 1; stroke-width: 0px; fill: rgb(148, 103, 189); fill-opacity: 1;\"/><path class=\"point\" transform=\"translate(311.98,92.2)\" d=\"M3,0A3,3 0 1,1 0,-3A3,3 0 0,1 3,0Z\" style=\"opacity: 1; stroke-width: 0px; fill: rgb(148, 103, 189); fill-opacity: 1;\"/><path class=\"point\" transform=\"translate(450.37,92.2)\" d=\"M3,0A3,3 0 1,1 0,-3A3,3 0 0,1 3,0Z\" style=\"opacity: 1; stroke-width: 0px; fill: rgb(148, 103, 189); fill-opacity: 1;\"/><path class=\"point\" transform=\"translate(588.75,229.84)\" d=\"M3,0A3,3 0 1,1 0,-3A3,3 0 0,1 3,0Z\" style=\"opacity: 1; stroke-width: 0px; fill: rgb(148, 103, 189); fill-opacity: 1;\"/></g><g class=\"text\"/></g><g class=\"trace scatter trace6fb76474-5c47-4170-b309-2cfa98748628\" style=\"stroke-miterlimit: 2; opacity: 1;\"><g class=\"fills\"/><g class=\"errorbars\"/><g class=\"lines\"/><g class=\"points\"><path class=\"point plotly-customdata\" transform=\"translate(35.21,16.7)\" d=\"M4.55,0L0,4.55L-4.55,0L0,-4.55Z\" style=\"opacity: 1; stroke-width: 1px; fill: rgb(66, 133, 244); fill-opacity: 1; stroke: rgb(11, 84, 205); stroke-opacity: 1;\"/></g><g class=\"text\"/></g><g class=\"trace scatter tracef9c99816-80c0-452b-bdde-a7705ef453dd\" style=\"stroke-miterlimit: 2; opacity: 1;\"><g class=\"fills\"/><g class=\"errorbars\"/><g class=\"lines\"/><g class=\"points\"><path class=\"point plotly-customdata\" transform=\"translate(588.75,229.84)\" d=\"M4.55,0L0,4.55L-4.55,0L0,-4.55Z\" style=\"opacity: 1; stroke-width: 1px; fill: rgb(255, 170, 0); fill-opacity: 1; stroke: rgb(178, 118, 0); stroke-opacity: 1;\"/></g><g class=\"text\"/></g></g></g><g class=\"overplot\"/><path class=\"xlines-above crisp\" d=\"M0,0\" style=\"fill: none;\"/><path class=\"ylines-above crisp\" d=\"M0,0\" style=\"fill: none;\"/><g class=\"overlines-above\"/><g class=\"xaxislayer-above\"/><g class=\"yaxislayer-above\"><g class=\"y11tick\"><text text-anchor=\"end\" x=\"94\" y=\"4.199999999999999\" transform=\"translate(0,3204.378382099828)\" style=\"font-family: 'Open Sans', verdana, arial, sans-serif; font-size: 12px; fill: rgb(42, 63, 95); fill-opacity: 1; white-space: pre; opacity: 1;\">99.7</text></g><g class=\"y11tick\"><text text-anchor=\"end\" x=\"94\" y=\"4.199999999999999\" style=\"font-family: 'Open Sans', verdana, arial, sans-serif; font-size: 12px; fill: rgb(42, 63, 95); fill-opacity: 1; white-space: pre; opacity: 1;\" transform=\"translate(0,3135.728382099828)\">99.8</text></g><g class=\"y11tick\"><text text-anchor=\"end\" x=\"94\" y=\"4.199999999999999\" style=\"font-family: 'Open Sans', verdana, arial, sans-serif; font-size: 12px; fill: rgb(42, 63, 95); fill-opacity: 1; white-space: pre; opacity: 1;\" transform=\"translate(0,3067.088382099828)\">99.9</text></g><g class=\"y11tick\"><text text-anchor=\"end\" x=\"94\" y=\"4.199999999999999\" style=\"font-family: 'Open Sans', verdana, arial, sans-serif; font-size: 12px; fill: rgb(42, 63, 95); fill-opacity: 1; white-space: pre; opacity: 1;\" transform=\"translate(0,2998.438382099828)\">100</text></g></g><g class=\"overaxes-above\"/></g><g class=\"subplot x12y12\"><g class=\"layer-subplot\"><g class=\"shapelayer\"/><g class=\"imagelayer\"/></g><g class=\"gridlayer\"><g class=\"x12\"><path class=\"x12grid crisp\" transform=\"translate(130.21,0)\" d=\"M0,3266.3122203098105v246.54010327022374\" style=\"stroke: rgb(255, 255, 255); stroke-opacity: 1; stroke-width: 1px;\"/><path class=\"x12grid crisp\" transform=\"translate(268.6,0)\" d=\"M0,3266.3122203098105v246.54010327022374\" style=\"stroke: rgb(255, 255, 255); stroke-opacity: 1; stroke-width: 1px;\"/><path class=\"x12grid crisp\" transform=\"translate(406.98,0)\" d=\"M0,3266.3122203098105v246.54010327022374\" style=\"stroke: rgb(255, 255, 255); stroke-opacity: 1; stroke-width: 1px;\"/><path class=\"x12grid crisp\" transform=\"translate(545.37,0)\" d=\"M0,3266.3122203098105v246.54010327022374\" style=\"stroke: rgb(255, 255, 255); stroke-opacity: 1; stroke-width: 1px;\"/><path class=\"x12grid crisp\" transform=\"translate(683.75,0)\" d=\"M0,3266.3122203098105v246.54010327022374\" style=\"stroke: rgb(255, 255, 255); stroke-opacity: 1; stroke-width: 1px;\"/></g><g class=\"y12\"><path class=\"y12grid crisp\" transform=\"translate(0,3489.0222203098106)\" d=\"M95,0h625\" style=\"stroke: rgb(255, 255, 255); stroke-opacity: 1; stroke-width: 1px;\"/><path class=\"y12grid crisp\" transform=\"translate(0,3452.0722203098103)\" d=\"M95,0h625\" style=\"stroke: rgb(255, 255, 255); stroke-opacity: 1; stroke-width: 1px;\"/><path class=\"y12grid crisp\" transform=\"translate(0,3415.1222203098105)\" d=\"M95,0h625\" style=\"stroke: rgb(255, 255, 255); stroke-opacity: 1; stroke-width: 1px;\"/><path class=\"y12grid crisp\" transform=\"translate(0,3378.1722203098107)\" d=\"M95,0h625\" style=\"stroke: rgb(255, 255, 255); stroke-opacity: 1; stroke-width: 1px;\"/><path class=\"y12grid crisp\" transform=\"translate(0,3341.2122203098106)\" d=\"M95,0h625\" style=\"stroke: rgb(255, 255, 255); stroke-opacity: 1; stroke-width: 1px;\"/><path class=\"y12grid crisp\" transform=\"translate(0,3304.2622203098103)\" d=\"M95,0h625\" style=\"stroke: rgb(255, 255, 255); stroke-opacity: 1; stroke-width: 1px;\"/></g></g><g class=\"zerolinelayer\"><path class=\"y12zl zl crisp\" transform=\"translate(0,3267.3122203098105)\" d=\"M95,0h625\" style=\"stroke: rgb(255, 255, 255); stroke-opacity: 1; stroke-width: 2px;\"/></g><path class=\"xlines-below\"/><path class=\"ylines-below\"/><g class=\"overlines-below\"/><g class=\"xaxislayer-below\"/><g class=\"yaxislayer-below\"/><g class=\"overaxes-below\"/><g class=\"plot\" transform=\"translate(95,3266.3122203098105)\" clip-path=\"url(#clipfa6231x12y12plot)\"><g class=\"scatterlayer mlayer\"><g class=\"trace scatter trace3f43e1ce-de7a-4072-83a4-762acfd1634b\" style=\"stroke-miterlimit: 2;\"><g class=\"fills\"><g><path class=\"js-fill\" d=\"M588.75,1L35.21,1L35.21,1L173.6,77.87L311.98,82.29L450.37,82.29L588.75,230.46\" style=\"fill: rgb(220, 57, 18); fill-opacity: 0.3; stroke-width: 0;\"/></g></g><g class=\"errorbars\"/><g class=\"lines\"><path class=\"js-line\" d=\"M35.21,1L173.6,77.87L311.98,82.29L450.37,82.29L588.75,230.46\" style=\"vector-effect: non-scaling-stroke; fill: none; stroke: rgb(220, 57, 18); stroke-opacity: 1; stroke-width: 2px; opacity: 1;\"/></g><g class=\"points\"><path class=\"point\" transform=\"translate(35.21,1)\" d=\"M3,0A3,3 0 1,1 0,-3A3,3 0 0,1 3,0Z\" style=\"opacity: 1; stroke-width: 0px; fill: rgb(220, 57, 18); fill-opacity: 1;\"/><path class=\"point\" transform=\"translate(173.6,77.87)\" d=\"M3,0A3,3 0 1,1 0,-3A3,3 0 0,1 3,0Z\" style=\"opacity: 1; stroke-width: 0px; fill: rgb(220, 57, 18); fill-opacity: 1;\"/><path class=\"point\" transform=\"translate(311.98,82.29)\" d=\"M3,0A3,3 0 1,1 0,-3A3,3 0 0,1 3,0Z\" style=\"opacity: 1; stroke-width: 0px; fill: rgb(220, 57, 18); fill-opacity: 1;\"/><path class=\"point\" transform=\"translate(450.37,82.29)\" d=\"M3,0A3,3 0 1,1 0,-3A3,3 0 0,1 3,0Z\" style=\"opacity: 1; stroke-width: 0px; fill: rgb(220, 57, 18); fill-opacity: 1;\"/><path class=\"point\" transform=\"translate(588.75,230.46)\" d=\"M3,0A3,3 0 1,1 0,-3A3,3 0 0,1 3,0Z\" style=\"opacity: 1; stroke-width: 0px; fill: rgb(220, 57, 18); fill-opacity: 1;\"/></g><g class=\"text\"/></g></g></g><g class=\"overplot\"/><path class=\"xlines-above crisp\" d=\"M0,0\" style=\"fill: none;\"/><path class=\"ylines-above crisp\" d=\"M0,0\" style=\"fill: none;\"/><g class=\"overlines-above\"/><g class=\"xaxislayer-above\"/><g class=\"yaxislayer-above\"><g class=\"y12tick\"><text text-anchor=\"end\" x=\"94\" y=\"4.199999999999999\" transform=\"translate(0,3489.0222203098106)\" style=\"font-family: 'Open Sans', verdana, arial, sans-serif; font-size: 12px; fill: rgb(42, 63, 95); fill-opacity: 1; white-space: pre; opacity: 1;\">−0%</text></g><g class=\"y12tick\"><text text-anchor=\"end\" x=\"94\" y=\"4.199999999999999\" style=\"font-family: 'Open Sans', verdana, arial, sans-serif; font-size: 12px; fill: rgb(42, 63, 95); fill-opacity: 1; white-space: pre; opacity: 1;\" transform=\"translate(0,3452.0722203098103)\">−0%</text></g><g class=\"y12tick\"><text text-anchor=\"end\" x=\"94\" y=\"4.199999999999999\" style=\"font-family: 'Open Sans', verdana, arial, sans-serif; font-size: 12px; fill: rgb(42, 63, 95); fill-opacity: 1; white-space: pre; opacity: 1;\" transform=\"translate(0,3415.1222203098105)\">−0%</text></g><g class=\"y12tick\"><text text-anchor=\"end\" x=\"94\" y=\"4.199999999999999\" style=\"font-family: 'Open Sans', verdana, arial, sans-serif; font-size: 12px; fill: rgb(42, 63, 95); fill-opacity: 1; white-space: pre; opacity: 1;\" transform=\"translate(0,3378.1722203098107)\">−0%</text></g><g class=\"y12tick\"><text text-anchor=\"end\" x=\"94\" y=\"4.199999999999999\" style=\"font-family: 'Open Sans', verdana, arial, sans-serif; font-size: 12px; fill: rgb(42, 63, 95); fill-opacity: 1; white-space: pre; opacity: 1;\" transform=\"translate(0,3341.2122203098106)\">−0%</text></g><g class=\"y12tick\"><text text-anchor=\"end\" x=\"94\" y=\"4.199999999999999\" style=\"font-family: 'Open Sans', verdana, arial, sans-serif; font-size: 12px; fill: rgb(42, 63, 95); fill-opacity: 1; white-space: pre; opacity: 1;\" transform=\"translate(0,3304.2622203098103)\">−0%</text></g><g class=\"y12tick\"><text text-anchor=\"end\" x=\"94\" y=\"4.199999999999999\" style=\"font-family: 'Open Sans', verdana, arial, sans-serif; font-size: 12px; fill: rgb(42, 63, 95); fill-opacity: 1; white-space: pre; opacity: 1;\" transform=\"translate(0,3267.3122203098105)\">0%</text></g></g><g class=\"overaxes-above\"/></g><g class=\"subplot x13y13\"><g class=\"layer-subplot\"><g class=\"shapelayer\"/><g class=\"imagelayer\"/></g><g class=\"gridlayer\"><g class=\"x13\"><path class=\"x13grid crisp\" transform=\"translate(130.21,0)\" d=\"M0,3550.886058519793v246.54010327022377\" style=\"stroke: rgb(255, 255, 255); stroke-opacity: 1; stroke-width: 1px;\"/><path class=\"x13grid crisp\" transform=\"translate(268.6,0)\" d=\"M0,3550.886058519793v246.54010327022377\" style=\"stroke: rgb(255, 255, 255); stroke-opacity: 1; stroke-width: 1px;\"/><path class=\"x13grid crisp\" transform=\"translate(406.98,0)\" d=\"M0,3550.886058519793v246.54010327022377\" style=\"stroke: rgb(255, 255, 255); stroke-opacity: 1; stroke-width: 1px;\"/><path class=\"x13grid crisp\" transform=\"translate(545.37,0)\" d=\"M0,3550.886058519793v246.54010327022377\" style=\"stroke: rgb(255, 255, 255); stroke-opacity: 1; stroke-width: 1px;\"/><path class=\"x13grid crisp\" transform=\"translate(683.75,0)\" d=\"M0,3550.886058519793v246.54010327022377\" style=\"stroke: rgb(255, 255, 255); stroke-opacity: 1; stroke-width: 1px;\"/></g><g class=\"y13\"><path class=\"y13grid crisp\" transform=\"translate(0,3738.4760585197932)\" d=\"M95,0h625\" style=\"stroke: rgb(255, 255, 255); stroke-opacity: 1; stroke-width: 1px;\"/><path class=\"y13grid crisp\" transform=\"translate(0,3695.596058519793)\" d=\"M95,0h625\" style=\"stroke: rgb(255, 255, 255); stroke-opacity: 1; stroke-width: 1px;\"/><path class=\"y13grid crisp\" transform=\"translate(0,3652.716058519793)\" d=\"M95,0h625\" style=\"stroke: rgb(255, 255, 255); stroke-opacity: 1; stroke-width: 1px;\"/><path class=\"y13grid crisp\" transform=\"translate(0,3609.836058519793)\" d=\"M95,0h625\" style=\"stroke: rgb(255, 255, 255); stroke-opacity: 1; stroke-width: 1px;\"/><path class=\"y13grid crisp\" transform=\"translate(0,3566.966058519793)\" d=\"M95,0h625\" style=\"stroke: rgb(255, 255, 255); stroke-opacity: 1; stroke-width: 1px;\"/></g></g><g class=\"zerolinelayer\"><path class=\"y13zl zl crisp\" transform=\"translate(0,3781.346058519793)\" d=\"M95,0h625\" style=\"stroke: rgb(255, 255, 255); stroke-opacity: 1; stroke-width: 2px;\"/></g><path class=\"xlines-below\"/><path class=\"ylines-below\"/><g class=\"overlines-below\"/><g class=\"xaxislayer-below\"/><g class=\"yaxislayer-below\"/><g class=\"overaxes-below\"/><g class=\"plot\" transform=\"translate(95,3550.886058519793)\" clip-path=\"url(#clipfa6231x13y13plot)\"><g class=\"scatterlayer mlayer\"><g class=\"trace scatter trace1a055ef5-72cd-482d-99fc-00fdf6b6d35d\" style=\"stroke-miterlimit: 2;\"><g class=\"fills\"><g><path class=\"js-fill\" d=\"M35.21,230.46L173.6,230.03L311.98,230.46L450.37,230.46L588.75,219.71L588.75,16.08L35.21,16.08Z\" style=\"fill: rgb(227, 119, 194); fill-opacity: 0.3; stroke-width: 0;\"/></g></g><g class=\"errorbars\"/><g class=\"lines\"><path class=\"js-line\" d=\"M35.21,16.08L588.75,16.08\" style=\"vector-effect: non-scaling-stroke; fill: none; stroke: rgb(0, 0, 0); stroke-opacity: 0; stroke-width: 0px; opacity: 1;\"/></g><g class=\"points\"><path class=\"point\" transform=\"translate(35.21,16.08)\" d=\"M3,0A3,3 0 1,1 0,-3A3,3 0 0,1 3,0Z\" style=\"opacity: 1; stroke-width: 0px; fill: rgb(0, 0, 0); fill-opacity: 0;\"/><path class=\"point\" transform=\"translate(173.6,16.08)\" d=\"M3,0A3,3 0 1,1 0,-3A3,3 0 0,1 3,0Z\" style=\"opacity: 1; stroke-width: 0px; fill: rgb(0, 0, 0); fill-opacity: 0;\"/><path class=\"point\" transform=\"translate(311.98,16.08)\" d=\"M3,0A3,3 0 1,1 0,-3A3,3 0 0,1 3,0Z\" style=\"opacity: 1; stroke-width: 0px; fill: rgb(0, 0, 0); fill-opacity: 0;\"/><path class=\"point\" transform=\"translate(450.37,16.08)\" d=\"M3,0A3,3 0 1,1 0,-3A3,3 0 0,1 3,0Z\" style=\"opacity: 1; stroke-width: 0px; fill: rgb(0, 0, 0); fill-opacity: 0;\"/><path class=\"point\" transform=\"translate(588.75,16.08)\" d=\"M3,0A3,3 0 1,1 0,-3A3,3 0 0,1 3,0Z\" style=\"opacity: 1; stroke-width: 0px; fill: rgb(0, 0, 0); fill-opacity: 0;\"/></g><g class=\"text\"/></g><g class=\"trace scatter tracef58c8598-e9eb-4cb4-b7a5-f95874a75cce\" style=\"stroke-miterlimit: 2;\"><g class=\"fills\"/><g class=\"errorbars\"/><g class=\"lines\"><path class=\"js-line\" d=\"M35.21,230.46L173.6,230.03L311.98,230.46L450.37,230.46L588.75,219.71\" style=\"vector-effect: non-scaling-stroke; fill: none; stroke: rgb(0, 0, 0); stroke-opacity: 0; stroke-width: 0px; opacity: 1;\"/></g><g class=\"points\"><path class=\"point\" transform=\"translate(35.21,230.46)\" d=\"M3,0A3,3 0 1,1 0,-3A3,3 0 0,1 3,0Z\" style=\"opacity: 1; stroke-width: 0px; fill: rgb(0, 0, 0); fill-opacity: 0;\"/><path class=\"point\" transform=\"translate(173.6,230.03)\" d=\"M3,0A3,3 0 1,1 0,-3A3,3 0 0,1 3,0Z\" style=\"opacity: 1; stroke-width: 0px; fill: rgb(0, 0, 0); fill-opacity: 0;\"/><path class=\"point\" transform=\"translate(311.98,230.46)\" d=\"M3,0A3,3 0 1,1 0,-3A3,3 0 0,1 3,0Z\" style=\"opacity: 1; stroke-width: 0px; fill: rgb(0, 0, 0); fill-opacity: 0;\"/><path class=\"point\" transform=\"translate(450.37,230.46)\" d=\"M3,0A3,3 0 1,1 0,-3A3,3 0 0,1 3,0Z\" style=\"opacity: 1; stroke-width: 0px; fill: rgb(0, 0, 0); fill-opacity: 0;\"/><path class=\"point\" transform=\"translate(588.75,219.71)\" d=\"M3,0A3,3 0 1,1 0,-3A3,3 0 0,1 3,0Z\" style=\"opacity: 1; stroke-width: 0px; fill: rgb(0, 0, 0); fill-opacity: 0;\"/></g><g class=\"text\"/></g><g class=\"trace scatter trace71e6e70e-46d2-4c2f-9c05-3b97b2472f50\" style=\"stroke-miterlimit: 2; opacity: 1;\"><g class=\"fills\"/><g class=\"errorbars\"/><g class=\"lines\"><path class=\"js-line\" d=\"M35.21,230.46L173.6,230.03L311.98,230.46L450.37,230.46L588.75,219.71\" style=\"vector-effect: non-scaling-stroke; fill: none; stroke: rgb(227, 119, 194); stroke-opacity: 1; stroke-width: 2px; opacity: 1;\"/></g><g class=\"points\"><path class=\"point\" transform=\"translate(35.21,230.46)\" d=\"M3,0A3,3 0 1,1 0,-3A3,3 0 0,1 3,0Z\" style=\"opacity: 1; stroke-width: 0px; fill: rgb(227, 119, 194); fill-opacity: 1;\"/><path class=\"point\" transform=\"translate(173.6,230.03)\" d=\"M3,0A3,3 0 1,1 0,-3A3,3 0 0,1 3,0Z\" style=\"opacity: 1; stroke-width: 0px; fill: rgb(227, 119, 194); fill-opacity: 1;\"/><path class=\"point\" transform=\"translate(311.98,230.46)\" d=\"M3,0A3,3 0 1,1 0,-3A3,3 0 0,1 3,0Z\" style=\"opacity: 1; stroke-width: 0px; fill: rgb(227, 119, 194); fill-opacity: 1;\"/><path class=\"point\" transform=\"translate(450.37,230.46)\" d=\"M3,0A3,3 0 1,1 0,-3A3,3 0 0,1 3,0Z\" style=\"opacity: 1; stroke-width: 0px; fill: rgb(227, 119, 194); fill-opacity: 1;\"/><path class=\"point\" transform=\"translate(588.75,219.71)\" d=\"M3,0A3,3 0 1,1 0,-3A3,3 0 0,1 3,0Z\" style=\"opacity: 1; stroke-width: 0px; fill: rgb(227, 119, 194); fill-opacity: 1;\"/></g><g class=\"text\"/></g><g class=\"trace scatter trace828992ed-bf67-416c-b1d8-f11f9e7f6f21\" style=\"stroke-miterlimit: 2; opacity: 0;\"><g class=\"fills\"/><g class=\"errorbars\"/><g class=\"lines\"><path class=\"js-line\" d=\"M35.21,16.08L588.75,16.08\" style=\"vector-effect: non-scaling-stroke; fill: none; stroke: rgb(0, 0, 0); stroke-opacity: 0; stroke-width: 0px; opacity: 1;\"/></g><g class=\"points\"><path class=\"point\" transform=\"translate(35.21,16.08)\" d=\"M3,0A3,3 0 1,1 0,-3A3,3 0 0,1 3,0Z\" style=\"opacity: 1; stroke-width: 0px; fill: rgb(0, 0, 0); fill-opacity: 0;\"/><path class=\"point\" transform=\"translate(173.6,16.08)\" d=\"M3,0A3,3 0 1,1 0,-3A3,3 0 0,1 3,0Z\" style=\"opacity: 1; stroke-width: 0px; fill: rgb(0, 0, 0); fill-opacity: 0;\"/><path class=\"point\" transform=\"translate(311.98,16.08)\" d=\"M3,0A3,3 0 1,1 0,-3A3,3 0 0,1 3,0Z\" style=\"opacity: 1; stroke-width: 0px; fill: rgb(0, 0, 0); fill-opacity: 0;\"/><path class=\"point\" transform=\"translate(450.37,16.08)\" d=\"M3,0A3,3 0 1,1 0,-3A3,3 0 0,1 3,0Z\" style=\"opacity: 1; stroke-width: 0px; fill: rgb(0, 0, 0); fill-opacity: 0;\"/><path class=\"point\" transform=\"translate(588.75,16.08)\" d=\"M3,0A3,3 0 1,1 0,-3A3,3 0 0,1 3,0Z\" style=\"opacity: 1; stroke-width: 0px; fill: rgb(0, 0, 0); fill-opacity: 0;\"/></g><g class=\"text\"/></g></g></g><g class=\"overplot\"/><path class=\"xlines-above crisp\" d=\"M0,0\" style=\"fill: none;\"/><path class=\"ylines-above crisp\" d=\"M0,0\" style=\"fill: none;\"/><g class=\"overlines-above\"/><g class=\"xaxislayer-above\"/><g class=\"yaxislayer-above\"><g class=\"y13tick\"><text text-anchor=\"end\" x=\"94\" y=\"4.199999999999999\" transform=\"translate(0,3781.346058519793)\" style=\"font-family: 'Open Sans', verdana, arial, sans-serif; font-size: 12px; fill: rgb(42, 63, 95); fill-opacity: 1; white-space: pre; opacity: 1;\">0</text></g><g class=\"y13tick\"><text text-anchor=\"end\" x=\"94\" y=\"4.199999999999999\" style=\"font-family: 'Open Sans', verdana, arial, sans-serif; font-size: 12px; fill: rgb(42, 63, 95); fill-opacity: 1; white-space: pre; opacity: 1;\" transform=\"translate(0,3738.4760585197932)\">0.2</text></g><g class=\"y13tick\"><text text-anchor=\"end\" x=\"94\" y=\"4.199999999999999\" style=\"font-family: 'Open Sans', verdana, arial, sans-serif; font-size: 12px; fill: rgb(42, 63, 95); fill-opacity: 1; white-space: pre; opacity: 1;\" transform=\"translate(0,3695.596058519793)\">0.4</text></g><g class=\"y13tick\"><text text-anchor=\"end\" x=\"94\" y=\"4.199999999999999\" style=\"font-family: 'Open Sans', verdana, arial, sans-serif; font-size: 12px; fill: rgb(42, 63, 95); fill-opacity: 1; white-space: pre; opacity: 1;\" transform=\"translate(0,3652.716058519793)\">0.6</text></g><g class=\"y13tick\"><text text-anchor=\"end\" x=\"94\" y=\"4.199999999999999\" style=\"font-family: 'Open Sans', verdana, arial, sans-serif; font-size: 12px; fill: rgb(42, 63, 95); fill-opacity: 1; white-space: pre; opacity: 1;\" transform=\"translate(0,3609.836058519793)\">0.8</text></g><g class=\"y13tick\"><text text-anchor=\"end\" x=\"94\" y=\"4.199999999999999\" style=\"font-family: 'Open Sans', verdana, arial, sans-serif; font-size: 12px; fill: rgb(42, 63, 95); fill-opacity: 1; white-space: pre; opacity: 1;\" transform=\"translate(0,3566.966058519793)\">1</text></g></g><g class=\"overaxes-above\"/></g><g class=\"subplot x14y14\"><g class=\"layer-subplot\"><g class=\"shapelayer\"/><g class=\"imagelayer\"/></g><g class=\"gridlayer\"><g class=\"x14\"><path class=\"x14grid crisp\" transform=\"translate(130.21,0)\" d=\"M0,3835.459896729776v246.54010327022377\" style=\"stroke: rgb(255, 255, 255); stroke-opacity: 1; stroke-width: 1px;\"/><path class=\"x14grid crisp\" transform=\"translate(268.6,0)\" d=\"M0,3835.459896729776v246.54010327022377\" style=\"stroke: rgb(255, 255, 255); stroke-opacity: 1; stroke-width: 1px;\"/><path class=\"x14grid crisp\" transform=\"translate(406.98,0)\" d=\"M0,3835.459896729776v246.54010327022377\" style=\"stroke: rgb(255, 255, 255); stroke-opacity: 1; stroke-width: 1px;\"/><path class=\"x14grid crisp\" transform=\"translate(545.37,0)\" d=\"M0,3835.459896729776v246.54010327022377\" style=\"stroke: rgb(255, 255, 255); stroke-opacity: 1; stroke-width: 1px;\"/><path class=\"x14grid crisp\" transform=\"translate(683.75,0)\" d=\"M0,3835.459896729776v246.54010327022377\" style=\"stroke: rgb(255, 255, 255); stroke-opacity: 1; stroke-width: 1px;\"/></g><g class=\"y14\"><path class=\"y14grid crisp\" transform=\"translate(0,4023.179896729776)\" d=\"M95,0h625\" style=\"stroke: rgb(255, 255, 255); stroke-opacity: 1; stroke-width: 1px;\"/><path class=\"y14grid crisp\" transform=\"translate(0,3980.429896729776)\" d=\"M95,0h625\" style=\"stroke: rgb(255, 255, 255); stroke-opacity: 1; stroke-width: 1px;\"/><path class=\"y14grid crisp\" transform=\"translate(0,3937.689896729776)\" d=\"M95,0h625\" style=\"stroke: rgb(255, 255, 255); stroke-opacity: 1; stroke-width: 1px;\"/><path class=\"y14grid crisp\" transform=\"translate(0,3894.949896729776)\" d=\"M95,0h625\" style=\"stroke: rgb(255, 255, 255); stroke-opacity: 1; stroke-width: 1px;\"/><path class=\"y14grid crisp\" transform=\"translate(0,3852.199896729776)\" d=\"M95,0h625\" style=\"stroke: rgb(255, 255, 255); stroke-opacity: 1; stroke-width: 1px;\"/></g></g><g class=\"zerolinelayer\"><path class=\"y14zl zl crisp\" transform=\"translate(0,4065.919896729776)\" d=\"M95,0h625\" style=\"stroke: rgb(255, 255, 255); stroke-opacity: 1; stroke-width: 2px;\"/></g><path class=\"xlines-below\"/><path class=\"ylines-below\"/><g class=\"overlines-below\"/><g class=\"xaxislayer-below\"/><g class=\"yaxislayer-below\"/><g class=\"overaxes-below\"/><g class=\"plot\" transform=\"translate(95,3835.459896729776)\" clip-path=\"url(#clipfa6231x14y14plot)\"><g class=\"scatterlayer mlayer\"><g class=\"trace scatter trace6031c292-c026-464b-bbe0-9cb49ef7a2c1\" style=\"stroke-miterlimit: 2;\"><g class=\"fills\"><g><path class=\"js-fill\" d=\"M35.21,230.46L173.6,221.91L311.98,230.46L450.37,230.46L588.75,16.08L588.75,230.46L35.21,230.46Z\" style=\"fill: rgb(227, 119, 194); fill-opacity: 0.3; stroke-width: 0;\"/></g></g><g class=\"errorbars\"/><g class=\"lines\"><path class=\"js-line\" d=\"M35.21,230.46L588.75,230.46\" style=\"vector-effect: non-scaling-stroke; fill: none; stroke: rgb(0, 0, 0); stroke-opacity: 0; stroke-width: 0px; opacity: 1;\"/></g><g class=\"points\"><path class=\"point\" transform=\"translate(35.21,230.46)\" d=\"M3,0A3,3 0 1,1 0,-3A3,3 0 0,1 3,0Z\" style=\"opacity: 1; stroke-width: 0px; fill: rgb(0, 0, 0); fill-opacity: 0;\"/><path class=\"point\" transform=\"translate(173.6,230.46)\" d=\"M3,0A3,3 0 1,1 0,-3A3,3 0 0,1 3,0Z\" style=\"opacity: 1; stroke-width: 0px; fill: rgb(0, 0, 0); fill-opacity: 0;\"/><path class=\"point\" transform=\"translate(311.98,230.46)\" d=\"M3,0A3,3 0 1,1 0,-3A3,3 0 0,1 3,0Z\" style=\"opacity: 1; stroke-width: 0px; fill: rgb(0, 0, 0); fill-opacity: 0;\"/><path class=\"point\" transform=\"translate(450.37,230.46)\" d=\"M3,0A3,3 0 1,1 0,-3A3,3 0 0,1 3,0Z\" style=\"opacity: 1; stroke-width: 0px; fill: rgb(0, 0, 0); fill-opacity: 0;\"/><path class=\"point\" transform=\"translate(588.75,230.46)\" d=\"M3,0A3,3 0 1,1 0,-3A3,3 0 0,1 3,0Z\" style=\"opacity: 1; stroke-width: 0px; fill: rgb(0, 0, 0); fill-opacity: 0;\"/></g><g class=\"text\"/></g><g class=\"trace scatter traceb4d40b2f-606c-4cfa-a5b3-3266cba62639\" style=\"stroke-miterlimit: 2;\"><g class=\"fills\"/><g class=\"errorbars\"/><g class=\"lines\"><path class=\"js-line\" d=\"M35.21,230.46L173.6,221.91L311.98,230.46L450.37,230.46L588.75,16.08\" style=\"vector-effect: non-scaling-stroke; fill: none; stroke: rgb(0, 0, 0); stroke-opacity: 0; stroke-width: 0px; opacity: 1;\"/></g><g class=\"points\"><path class=\"point\" transform=\"translate(35.21,230.46)\" d=\"M3,0A3,3 0 1,1 0,-3A3,3 0 0,1 3,0Z\" style=\"opacity: 1; stroke-width: 0px; fill: rgb(0, 0, 0); fill-opacity: 0;\"/><path class=\"point\" transform=\"translate(173.6,221.91)\" d=\"M3,0A3,3 0 1,1 0,-3A3,3 0 0,1 3,0Z\" style=\"opacity: 1; stroke-width: 0px; fill: rgb(0, 0, 0); fill-opacity: 0;\"/><path class=\"point\" transform=\"translate(311.98,230.46)\" d=\"M3,0A3,3 0 1,1 0,-3A3,3 0 0,1 3,0Z\" style=\"opacity: 1; stroke-width: 0px; fill: rgb(0, 0, 0); fill-opacity: 0;\"/><path class=\"point\" transform=\"translate(450.37,230.46)\" d=\"M3,0A3,3 0 1,1 0,-3A3,3 0 0,1 3,0Z\" style=\"opacity: 1; stroke-width: 0px; fill: rgb(0, 0, 0); fill-opacity: 0;\"/><path class=\"point\" transform=\"translate(588.75,16.08)\" d=\"M3,0A3,3 0 1,1 0,-3A3,3 0 0,1 3,0Z\" style=\"opacity: 1; stroke-width: 0px; fill: rgb(0, 0, 0); fill-opacity: 0;\"/></g><g class=\"text\"/></g><g class=\"trace scatter tracef4e04ae7-10f8-4a76-ac34-5d1e77290ef1\" style=\"stroke-miterlimit: 2; opacity: 1;\"><g class=\"fills\"/><g class=\"errorbars\"/><g class=\"lines\"><path class=\"js-line\" d=\"M35.21,230.46L173.6,221.91L311.98,230.46L450.37,230.46L588.75,16.08\" style=\"vector-effect: non-scaling-stroke; fill: none; stroke: rgb(227, 119, 194); stroke-opacity: 1; stroke-width: 2px; opacity: 1;\"/></g><g class=\"points\"><path class=\"point\" transform=\"translate(35.21,230.46)\" d=\"M3,0A3,3 0 1,1 0,-3A3,3 0 0,1 3,0Z\" style=\"opacity: 1; stroke-width: 0px; fill: rgb(227, 119, 194); fill-opacity: 1;\"/><path class=\"point\" transform=\"translate(173.6,221.91)\" d=\"M3,0A3,3 0 1,1 0,-3A3,3 0 0,1 3,0Z\" style=\"opacity: 1; stroke-width: 0px; fill: rgb(227, 119, 194); fill-opacity: 1;\"/><path class=\"point\" transform=\"translate(311.98,230.46)\" d=\"M3,0A3,3 0 1,1 0,-3A3,3 0 0,1 3,0Z\" style=\"opacity: 1; stroke-width: 0px; fill: rgb(227, 119, 194); fill-opacity: 1;\"/><path class=\"point\" transform=\"translate(450.37,230.46)\" d=\"M3,0A3,3 0 1,1 0,-3A3,3 0 0,1 3,0Z\" style=\"opacity: 1; stroke-width: 0px; fill: rgb(227, 119, 194); fill-opacity: 1;\"/><path class=\"point\" transform=\"translate(588.75,16.08)\" d=\"M3,0A3,3 0 1,1 0,-3A3,3 0 0,1 3,0Z\" style=\"opacity: 1; stroke-width: 0px; fill: rgb(227, 119, 194); fill-opacity: 1;\"/></g><g class=\"text\"/></g><g class=\"trace scatter tracebdb5c40f-400d-4e25-9940-dffaa4308b9b\" style=\"stroke-miterlimit: 2; opacity: 0;\"><g class=\"fills\"/><g class=\"errorbars\"/><g class=\"lines\"><path class=\"js-line\" d=\"M35.21,230.46L588.75,230.46\" style=\"vector-effect: non-scaling-stroke; fill: none; stroke: rgb(0, 0, 0); stroke-opacity: 0; stroke-width: 0px; opacity: 1;\"/></g><g class=\"points\"><path class=\"point\" transform=\"translate(35.21,230.46)\" d=\"M3,0A3,3 0 1,1 0,-3A3,3 0 0,1 3,0Z\" style=\"opacity: 1; stroke-width: 0px; fill: rgb(0, 0, 0); fill-opacity: 0;\"/><path class=\"point\" transform=\"translate(173.6,230.46)\" d=\"M3,0A3,3 0 1,1 0,-3A3,3 0 0,1 3,0Z\" style=\"opacity: 1; stroke-width: 0px; fill: rgb(0, 0, 0); fill-opacity: 0;\"/><path class=\"point\" transform=\"translate(311.98,230.46)\" d=\"M3,0A3,3 0 1,1 0,-3A3,3 0 0,1 3,0Z\" style=\"opacity: 1; stroke-width: 0px; fill: rgb(0, 0, 0); fill-opacity: 0;\"/><path class=\"point\" transform=\"translate(450.37,230.46)\" d=\"M3,0A3,3 0 1,1 0,-3A3,3 0 0,1 3,0Z\" style=\"opacity: 1; stroke-width: 0px; fill: rgb(0, 0, 0); fill-opacity: 0;\"/><path class=\"point\" transform=\"translate(588.75,230.46)\" d=\"M3,0A3,3 0 1,1 0,-3A3,3 0 0,1 3,0Z\" style=\"opacity: 1; stroke-width: 0px; fill: rgb(0, 0, 0); fill-opacity: 0;\"/></g><g class=\"text\"/></g></g></g><g class=\"overplot\"/><path class=\"xlines-above crisp\" d=\"M0,0\" style=\"fill: none;\"/><path class=\"ylines-above crisp\" d=\"M0,0\" style=\"fill: none;\"/><g class=\"overlines-above\"/><g class=\"xaxislayer-above\"><g class=\"x14tick\"><text text-anchor=\"middle\" x=\"0\" y=\"4095\" transform=\"translate(130.21,0)\" style=\"font-family: 'Open Sans', verdana, arial, sans-serif; font-size: 12px; fill: rgb(42, 63, 95); fill-opacity: 1; white-space: pre; opacity: 1;\"><tspan class=\"line\" dy=\"0em\" x=\"0\" y=\"4095\">Jan 1</tspan><tspan class=\"line\" dy=\"1.3em\" x=\"0\" y=\"4095\">2020</tspan></text></g><g class=\"x14tick\"><text text-anchor=\"middle\" x=\"0\" y=\"4095\" style=\"font-family: 'Open Sans', verdana, arial, sans-serif; font-size: 12px; fill: rgb(42, 63, 95); fill-opacity: 1; white-space: pre; opacity: 1;\" transform=\"translate(268.6,0)\">Jan 2</text></g><g class=\"x14tick\"><text text-anchor=\"middle\" x=\"0\" y=\"4095\" style=\"font-family: 'Open Sans', verdana, arial, sans-serif; font-size: 12px; fill: rgb(42, 63, 95); fill-opacity: 1; white-space: pre; opacity: 1;\" transform=\"translate(406.98,0)\">Jan 3</text></g><g class=\"x14tick\"><text text-anchor=\"middle\" x=\"0\" y=\"4095\" style=\"font-family: 'Open Sans', verdana, arial, sans-serif; font-size: 12px; fill: rgb(42, 63, 95); fill-opacity: 1; white-space: pre; opacity: 1;\" transform=\"translate(545.37,0)\">Jan 4</text></g><g class=\"x14tick\"><text text-anchor=\"middle\" x=\"0\" y=\"4095\" style=\"font-family: 'Open Sans', verdana, arial, sans-serif; font-size: 12px; fill: rgb(42, 63, 95); fill-opacity: 1; white-space: pre; opacity: 1;\" transform=\"translate(683.75,0)\">Jan 5</text></g></g><g class=\"yaxislayer-above\"><g class=\"y14tick\"><text text-anchor=\"end\" x=\"94\" y=\"4.199999999999999\" transform=\"translate(0,4065.919896729776)\" style=\"font-family: 'Open Sans', verdana, arial, sans-serif; font-size: 12px; fill: rgb(42, 63, 95); fill-opacity: 1; white-space: pre; opacity: 1;\">0</text></g><g class=\"y14tick\"><text text-anchor=\"end\" x=\"94\" y=\"4.199999999999999\" style=\"font-family: 'Open Sans', verdana, arial, sans-serif; font-size: 12px; fill: rgb(42, 63, 95); fill-opacity: 1; white-space: pre; opacity: 1;\" transform=\"translate(0,4023.179896729776)\">0.01</text></g><g class=\"y14tick\"><text text-anchor=\"end\" x=\"94\" y=\"4.199999999999999\" style=\"font-family: 'Open Sans', verdana, arial, sans-serif; font-size: 12px; fill: rgb(42, 63, 95); fill-opacity: 1; white-space: pre; opacity: 1;\" transform=\"translate(0,3980.429896729776)\">0.02</text></g><g class=\"y14tick\"><text text-anchor=\"end\" x=\"94\" y=\"4.199999999999999\" style=\"font-family: 'Open Sans', verdana, arial, sans-serif; font-size: 12px; fill: rgb(42, 63, 95); fill-opacity: 1; white-space: pre; opacity: 1;\" transform=\"translate(0,3937.689896729776)\">0.03</text></g><g class=\"y14tick\"><text text-anchor=\"end\" x=\"94\" y=\"4.199999999999999\" style=\"font-family: 'Open Sans', verdana, arial, sans-serif; font-size: 12px; fill: rgb(42, 63, 95); fill-opacity: 1; white-space: pre; opacity: 1;\" transform=\"translate(0,3894.949896729776)\">0.04</text></g><g class=\"y14tick\"><text text-anchor=\"end\" x=\"94\" y=\"4.199999999999999\" style=\"font-family: 'Open Sans', verdana, arial, sans-serif; font-size: 12px; fill: rgb(42, 63, 95); fill-opacity: 1; white-space: pre; opacity: 1;\" transform=\"translate(0,3852.199896729776)\">0.05</text></g></g><g class=\"overaxes-above\"/></g></g><g class=\"polarlayer\"/><g class=\"ternarylayer\"/><g class=\"geolayer\"/><g class=\"funnelarealayer\"/><g class=\"pielayer\"/><g class=\"iciclelayer\"/><g class=\"treemaplayer\"/><g class=\"sunburstlayer\"/><g class=\"glimages\"/><defs id=\"topdefs-fa6231\"><g class=\"clips\"/><clipPath id=\"legendfa6231\"><rect width=\"609\" height=\"86\" x=\"0\" y=\"0\"/></clipPath></defs><g class=\"layer-above\"><g class=\"imagelayer\"/><g class=\"shapelayer\"><path data-index=\"2\" fill-rule=\"evenodd\" d=\"M95,706.1476764199653L720,706.1476764199653\" clip-path=\"url(#clipfa6231y3)\" style=\"opacity: 1; stroke: rgb(128, 128, 128); stroke-opacity: 1; fill: rgb(0, 0, 0); fill-opacity: 0; stroke-dasharray: 9px, 9px; stroke-width: 2px;\"/><path data-index=\"3\" fill-rule=\"evenodd\" d=\"M95,1200.6915146299482L720,1200.6915146299482\" clip-path=\"url(#clipfa6231y4)\" style=\"opacity: 1; stroke: rgb(128, 128, 128); stroke-opacity: 1; fill: rgb(0, 0, 0); fill-opacity: 0; stroke-dasharray: 9px, 9px; stroke-width: 2px;\"/><path data-index=\"4\" fill-rule=\"evenodd\" d=\"M95,1298.085352839931L720,1298.085352839931\" clip-path=\"url(#clipfa6231y5)\" style=\"opacity: 1; stroke: rgb(128, 128, 128); stroke-opacity: 1; fill: rgb(0, 0, 0); fill-opacity: 0; stroke-dasharray: 9px, 9px; stroke-width: 2px;\"/><path data-index=\"5\" fill-rule=\"evenodd\" d=\"M95,1789.329191049914L720,1789.329191049914\" clip-path=\"url(#clipfa6231y6)\" style=\"opacity: 1; stroke: rgb(128, 128, 128); stroke-opacity: 1; fill: rgb(0, 0, 0); fill-opacity: 0; stroke-dasharray: 9px, 9px; stroke-width: 2px;\"/><path data-index=\"6\" fill-rule=\"evenodd\" d=\"M95,1859.5230292598965L720,1859.5230292598965\" clip-path=\"url(#clipfa6231y7)\" style=\"opacity: 1; stroke: rgb(128, 128, 128); stroke-opacity: 1; fill: rgb(0, 0, 0); fill-opacity: 0; stroke-dasharray: 9px, 9px; stroke-width: 2px;\"/><path data-index=\"7\" fill-rule=\"evenodd\" d=\"M95,2358.476867469879L720,2358.476867469879\" clip-path=\"url(#clipfa6231y8)\" style=\"opacity: 1; stroke: rgb(128, 128, 128); stroke-opacity: 1; fill: rgb(0, 0, 0); fill-opacity: 0; stroke-dasharray: 9px, 9px; stroke-width: 2px;\"/><path data-index=\"8\" fill-rule=\"evenodd\" d=\"M95,2428.6707056798623L720,2428.6707056798623\" clip-path=\"url(#clipfa6231y9)\" style=\"opacity: 1; stroke: rgb(128, 128, 128); stroke-opacity: 1; fill: rgb(0, 0, 0); fill-opacity: 0; stroke-dasharray: 9px, 9px; stroke-width: 2px;\"/><path data-index=\"9\" fill-rule=\"evenodd\" d=\"M95,2927.1845438898454L720,2927.1845438898454\" clip-path=\"url(#clipfa6231y10)\" style=\"opacity: 1; stroke: rgb(128, 128, 128); stroke-opacity: 1; fill: rgb(0, 0, 0); fill-opacity: 0; stroke-dasharray: 9px, 9px; stroke-width: 2px;\"/><path data-index=\"11\" fill-rule=\"evenodd\" d=\"M95,3267.3122203098105L720,3267.3122203098105\" clip-path=\"url(#clipfa6231y12)\" style=\"opacity: 1; stroke: rgb(128, 128, 128); stroke-opacity: 1; fill: rgb(0, 0, 0); fill-opacity: 0; stroke-dasharray: 9px, 9px; stroke-width: 2px;\"/><path data-index=\"12\" fill-rule=\"evenodd\" d=\"M95,3566.966058519793L720,3566.966058519793\" clip-path=\"url(#clipfa6231y13)\" style=\"opacity: 1; stroke: rgb(128, 128, 128); stroke-opacity: 1; fill: rgb(0, 0, 0); fill-opacity: 0; stroke-dasharray: 9px, 9px; stroke-width: 2px;\"/><path data-index=\"13\" fill-rule=\"evenodd\" d=\"M95,4065.919896729776L720,4065.919896729776\" clip-path=\"url(#clipfa6231y14)\" style=\"opacity: 1; stroke: rgb(128, 128, 128); stroke-opacity: 1; fill: rgb(0, 0, 0); fill-opacity: 0; stroke-dasharray: 9px, 9px; stroke-width: 2px;\"/></g></g><g class=\"infolayer\"><g class=\"legend\" pointer-events=\"all\" transform=\"translate(111,11.966265060240659)\"><rect class=\"bg\" shape-rendering=\"crispEdges\" style=\"stroke: rgb(68, 68, 68); stroke-opacity: 1; fill: rgb(255, 255, 255); fill-opacity: 1; stroke-width: 0px;\" width=\"609\" height=\"86\" x=\"0\" y=\"0\"/><g class=\"scrollbox\" transform=\"\" clip-path=\"url(#legendfa6231)\"><g class=\"groups\"><g class=\"traces\" transform=\"translate(0,14.5)\" style=\"opacity: 1;\"><text class=\"legendtext\" text-anchor=\"start\" x=\"40\" y=\"4.680000000000001\" style=\"font-family: 'Open Sans', verdana, arial, sans-serif; font-size: 12px; fill: rgb(42, 63, 95); fill-opacity: 1; white-space: pre;\">Close</text><g class=\"layers\" style=\"opacity: 1;\"><g class=\"legendfill\"/><g class=\"legendlines\"><path class=\"js-line\" d=\"M5,0h30\" style=\"fill: none; stroke: rgb(31, 119, 180); stroke-opacity: 1; stroke-width: 2px;\"/></g><g class=\"legendsymbols\"><g class=\"legendpoints\"><path class=\"scatterpts\" transform=\"translate(20,0)\" d=\"M3,0A3,3 0 1,1 0,-3A3,3 0 0,1 3,0Z\" style=\"opacity: 1; stroke-width: 0px; fill: rgb(31, 119, 180); fill-opacity: 1;\"/></g></g></g><rect class=\"legendtoggle\" x=\"0\" y=\"-9.5\" width=\"74.859375\" height=\"19\" style=\"fill: rgb(0, 0, 0); fill-opacity: 0;\"/></g><g class=\"traces\" transform=\"translate(125.1875,14.5)\" style=\"opacity: 1;\"><text class=\"legendtext\" text-anchor=\"start\" x=\"40\" y=\"4.680000000000001\" style=\"font-family: 'Open Sans', verdana, arial, sans-serif; font-size: 12px; fill: rgb(42, 63, 95); fill-opacity: 1; white-space: pre;\">Buy</text><g class=\"layers\" style=\"opacity: 1;\"><g class=\"legendfill\"/><g class=\"legendlines\"/><g class=\"legendsymbols\"><g class=\"legendpoints\"><path class=\"scatterpts\" transform=\"translate(20,0)\" d=\"M-4.62,2H4.62L0,-4Z\" style=\"opacity: 1; stroke-width: 1px; fill: rgb(55, 177, 63); fill-opacity: 1; stroke: rgb(38, 123, 44); stroke-opacity: 1;\"/></g></g></g><rect class=\"legendtoggle\" x=\"0\" y=\"-9.5\" width=\"65.421875\" height=\"19\" style=\"fill: rgb(0, 0, 0); fill-opacity: 0;\"/></g><g class=\"traces\" transform=\"translate(250.375,14.5)\" style=\"opacity: 1;\"><text class=\"legendtext\" text-anchor=\"start\" x=\"40\" y=\"4.680000000000001\" style=\"font-family: 'Open Sans', verdana, arial, sans-serif; font-size: 12px; fill: rgb(42, 63, 95); fill-opacity: 1; white-space: pre;\">Sell</text><g class=\"layers\" style=\"opacity: 1;\"><g class=\"legendfill\"/><g class=\"legendlines\"/><g class=\"legendsymbols\"><g class=\"legendpoints\"><path class=\"scatterpts\" transform=\"translate(20,0)\" d=\"M-4.62,-2H4.62L0,4Z\" style=\"opacity: 1; stroke-width: 1px; fill: rgb(234, 67, 53); fill-opacity: 1; stroke: rgb(181, 31, 18); stroke-opacity: 1;\"/></g></g></g><rect class=\"legendtoggle\" x=\"0\" y=\"-9.5\" width=\"64.4375\" height=\"19\" style=\"fill: rgb(0, 0, 0); fill-opacity: 0;\"/></g><g class=\"traces\" transform=\"translate(375.5625,14.5)\" style=\"opacity: 1;\"><text class=\"legendtext\" text-anchor=\"start\" x=\"40\" y=\"4.680000000000001\" style=\"font-family: 'Open Sans', verdana, arial, sans-serif; font-size: 12px; fill: rgb(42, 63, 95); fill-opacity: 1; white-space: pre;\">Entry</text><g class=\"layers\" style=\"opacity: 1;\"><g class=\"legendfill\"/><g class=\"legendlines\"/><g class=\"legendsymbols\"><g class=\"legendpoints\"><path class=\"scatterpts\" transform=\"translate(20,0)\" d=\"M3.5,3.5H-3.5V-3.5H3.5Z\" style=\"opacity: 1; stroke-width: 1px; fill: rgb(66, 133, 244); fill-opacity: 1; stroke: rgb(11, 84, 205); stroke-opacity: 1;\"/></g></g></g><rect class=\"legendtoggle\" x=\"0\" y=\"-9.5\" width=\"74.640625\" height=\"19\" style=\"fill: rgb(0, 0, 0); fill-opacity: 0;\"/></g><g class=\"traces\" transform=\"translate(500.75,14.5)\" style=\"opacity: 1;\"><text class=\"legendtext\" text-anchor=\"start\" x=\"40\" y=\"4.680000000000001\" style=\"font-family: 'Open Sans', verdana, arial, sans-serif; font-size: 12px; fill: rgb(42, 63, 95); fill-opacity: 1; white-space: pre;\">Exit - Loss</text><g class=\"layers\" style=\"opacity: 1;\"><g class=\"legendfill\"/><g class=\"legendlines\"/><g class=\"legendsymbols\"><g class=\"legendpoints\"><path class=\"scatterpts\" transform=\"translate(20,0)\" d=\"M3.5,3.5H-3.5V-3.5H3.5Z\" style=\"opacity: 1; stroke-width: 1px; fill: rgb(234, 67, 53); fill-opacity: 1; stroke: rgb(181, 31, 18); stroke-opacity: 1;\"/></g></g></g><rect class=\"legendtoggle\" x=\"0\" y=\"-9.5\" width=\"105.578125\" height=\"19\" style=\"fill: rgb(0, 0, 0); fill-opacity: 0;\"/></g><g class=\"traces\" transform=\"translate(0,33.5)\" style=\"opacity: 1;\"><text class=\"legendtext\" text-anchor=\"start\" x=\"40\" y=\"4.680000000000001\" style=\"font-family: 'Open Sans', verdana, arial, sans-serif; font-size: 12px; fill: rgb(42, 63, 95); fill-opacity: 1; white-space: pre;\">Active</text><g class=\"layers\" style=\"opacity: 1;\"><g class=\"legendfill\"/><g class=\"legendlines\"/><g class=\"legendsymbols\"><g class=\"legendpoints\"><path class=\"scatterpts\" transform=\"translate(20,0)\" d=\"M3.5,3.5H-3.5V-3.5H3.5Z\" style=\"opacity: 1; stroke-width: 1px; fill: rgb(255, 170, 0); fill-opacity: 1; stroke: rgb(178, 118, 0); stroke-opacity: 1;\"/></g></g></g><rect class=\"legendtoggle\" x=\"0\" y=\"-9.5\" width=\"79.234375\" height=\"19\" style=\"fill: rgb(0, 0, 0); fill-opacity: 0;\"/></g><g class=\"traces\" transform=\"translate(125.1875,33.5)\" style=\"opacity: 1;\"><text class=\"legendtext\" text-anchor=\"start\" x=\"40\" y=\"4.680000000000001\" style=\"font-family: 'Open Sans', verdana, arial, sans-serif; font-size: 12px; fill: rgb(42, 63, 95); fill-opacity: 1; white-space: pre;\">Closed - Loss</text><g class=\"layers\" style=\"opacity: 1;\"><g class=\"legendfill\"/><g class=\"legendlines\"/><g class=\"legendsymbols\"><g class=\"legendpoints\"><path class=\"scatterpts\" transform=\"translate(20,0)\" d=\"M7,0A7,7 0 1,1 0,-7A7,7 0 0,1 7,0Z\" style=\"opacity: 0.9; stroke-width: 1px; fill: rgb(234, 67, 53); fill-opacity: 1; stroke: rgb(181, 31, 18); stroke-opacity: 1;\"/></g></g></g><rect class=\"legendtoggle\" x=\"0\" y=\"-9.5\" width=\"122.6875\" height=\"19\" style=\"fill: rgb(0, 0, 0); fill-opacity: 0;\"/></g><g class=\"traces\" transform=\"translate(250.375,33.5)\" style=\"opacity: 1;\"><text class=\"legendtext\" text-anchor=\"start\" x=\"40\" y=\"4.680000000000001\" style=\"font-family: 'Open Sans', verdana, arial, sans-serif; font-size: 12px; fill: rgb(42, 63, 95); fill-opacity: 1; white-space: pre;\">Open</text><g class=\"layers\" style=\"opacity: 1;\"><g class=\"legendfill\"/><g class=\"legendlines\"/><g class=\"legendsymbols\"><g class=\"legendpoints\"><path class=\"scatterpts\" transform=\"translate(20,0)\" d=\"M3.5,0A3.5,3.5 0 1,1 0,-3.5A3.5,3.5 0 0,1 3.5,0Z\" style=\"opacity: 0.75; stroke-width: 1px; fill: rgb(255, 170, 0); fill-opacity: 1; stroke: rgb(178, 118, 0); stroke-opacity: 1;\"/></g></g></g><rect class=\"legendtoggle\" x=\"0\" y=\"-9.5\" width=\"74.171875\" height=\"19\" style=\"fill: rgb(0, 0, 0); fill-opacity: 0;\"/></g><g class=\"traces\" transform=\"translate(375.5625,33.5)\" style=\"opacity: 1;\"><text class=\"legendtext\" text-anchor=\"start\" x=\"40\" y=\"4.680000000000001\" style=\"font-family: 'Open Sans', verdana, arial, sans-serif; font-size: 12px; fill: rgb(42, 63, 95); fill-opacity: 1; white-space: pre;\">Assets</text><g class=\"layers\" style=\"opacity: 1;\"><g class=\"legendfill\"/><g class=\"legendlines\"><path class=\"js-line\" d=\"M5,0h30\" style=\"fill: none; stroke: rgb(140, 86, 75); stroke-opacity: 1; stroke-width: 2px;\"/></g><g class=\"legendsymbols\"><g class=\"legendpoints\"><path class=\"scatterpts\" transform=\"translate(20,0)\" d=\"M3,0A3,3 0 1,1 0,-3A3,3 0 0,1 3,0Z\" style=\"opacity: 1; stroke-width: 0px; fill: rgb(140, 86, 75); fill-opacity: 1;\"/></g></g></g><rect class=\"legendtoggle\" x=\"0\" y=\"-9.5\" width=\"81.34375\" height=\"19\" style=\"fill: rgb(0, 0, 0); fill-opacity: 0;\"/></g><g class=\"traces\" transform=\"translate(500.75,33.5)\" style=\"opacity: 1;\"><text class=\"legendtext\" text-anchor=\"start\" x=\"40\" y=\"4.680000000000001\" style=\"font-family: 'Open Sans', verdana, arial, sans-serif; font-size: 12px; fill: rgb(42, 63, 95); fill-opacity: 1; white-space: pre;\">Cash</text><g class=\"layers\" style=\"opacity: 1;\"><g class=\"legendfill\"/><g class=\"legendlines\"><path class=\"js-line\" d=\"M5,0h30\" style=\"fill: none; stroke: rgb(44, 160, 44); stroke-opacity: 1; stroke-width: 2px;\"/></g><g class=\"legendsymbols\"><g class=\"legendpoints\"><path class=\"scatterpts\" transform=\"translate(20,0)\" d=\"M3,0A3,3 0 1,1 0,-3A3,3 0 0,1 3,0Z\" style=\"opacity: 1; stroke-width: 0px; fill: rgb(44, 160, 44); fill-opacity: 1;\"/></g></g></g><rect class=\"legendtoggle\" x=\"0\" y=\"-9.5\" width=\"71.9375\" height=\"19\" style=\"fill: rgb(0, 0, 0); fill-opacity: 0;\"/></g><g class=\"traces\" transform=\"translate(0,52.5)\" style=\"opacity: 1;\"><text class=\"legendtext\" text-anchor=\"start\" x=\"40\" y=\"4.680000000000001\" style=\"font-family: 'Open Sans', verdana, arial, sans-serif; font-size: 12px; fill: rgb(42, 63, 95); fill-opacity: 1; white-space: pre;\">Asset Value</text><g class=\"layers\" style=\"opacity: 1;\"><g class=\"legendfill\"/><g class=\"legendlines\"><path class=\"js-line\" d=\"M5,0h30\" style=\"fill: none; stroke: rgb(23, 190, 207); stroke-opacity: 1; stroke-width: 2px;\"/></g><g class=\"legendsymbols\"><g class=\"legendpoints\"><path class=\"scatterpts\" transform=\"translate(20,0)\" d=\"M3,0A3,3 0 1,1 0,-3A3,3 0 0,1 3,0Z\" style=\"opacity: 1; stroke-width: 0px; fill: rgb(23, 190, 207); fill-opacity: 1;\"/></g></g></g><rect class=\"legendtoggle\" x=\"0\" y=\"-9.5\" width=\"112.75\" height=\"19\" style=\"fill: rgb(0, 0, 0); fill-opacity: 0;\"/></g><g class=\"traces\" transform=\"translate(125.1875,52.5)\" style=\"opacity: 1;\"><text class=\"legendtext\" text-anchor=\"start\" x=\"40\" y=\"4.680000000000001\" style=\"font-family: 'Open Sans', verdana, arial, sans-serif; font-size: 12px; fill: rgb(42, 63, 95); fill-opacity: 1; white-space: pre;\">Value</text><g class=\"layers\" style=\"opacity: 1;\"><g class=\"legendfill\"/><g class=\"legendlines\"><path class=\"js-line\" d=\"M5,0h30\" style=\"fill: none; stroke: rgb(148, 103, 189); stroke-opacity: 1; stroke-width: 2px;\"/></g><g class=\"legendsymbols\"><g class=\"legendpoints\"><path class=\"scatterpts\" transform=\"translate(20,0)\" d=\"M3,0A3,3 0 1,1 0,-3A3,3 0 0,1 3,0Z\" style=\"opacity: 1; stroke-width: 0px; fill: rgb(148, 103, 189); fill-opacity: 1;\"/></g></g></g><rect class=\"legendtoggle\" x=\"0\" y=\"-9.5\" width=\"75.953125\" height=\"19\" style=\"fill: rgb(0, 0, 0); fill-opacity: 0;\"/></g><g class=\"traces\" transform=\"translate(250.375,52.5)\" style=\"opacity: 1;\"><text class=\"legendtext\" text-anchor=\"start\" x=\"40\" y=\"4.680000000000001\" style=\"font-family: 'Open Sans', verdana, arial, sans-serif; font-size: 12px; fill: rgb(42, 63, 95); fill-opacity: 1; white-space: pre;\">Benchmark</text><g class=\"layers\" style=\"opacity: 1;\"><g class=\"legendfill\"/><g class=\"legendlines\"><path class=\"js-line\" d=\"M5,0h30\" style=\"fill: none; stroke: rgb(127, 127, 127); stroke-opacity: 1; stroke-width: 2px;\"/></g><g class=\"legendsymbols\"><g class=\"legendpoints\"><path class=\"scatterpts\" transform=\"translate(20,0)\" d=\"M3,0A3,3 0 1,1 0,-3A3,3 0 0,1 3,0Z\" style=\"opacity: 1; stroke-width: 0px; fill: rgb(127, 127, 127); fill-opacity: 1;\"/></g></g></g><rect class=\"legendtoggle\" x=\"0\" y=\"-9.5\" width=\"110.421875\" height=\"19\" style=\"fill: rgb(0, 0, 0); fill-opacity: 0;\"/></g><g class=\"traces\" transform=\"translate(375.5625,52.5)\" style=\"opacity: 1;\"><text class=\"legendtext\" text-anchor=\"start\" x=\"40\" y=\"4.680000000000001\" style=\"font-family: 'Open Sans', verdana, arial, sans-serif; font-size: 12px; fill: rgb(42, 63, 95); fill-opacity: 1; white-space: pre;\">Peak</text><g class=\"layers\" style=\"opacity: 1;\"><g class=\"legendfill\"/><g class=\"legendlines\"/><g class=\"legendsymbols\"><g class=\"legendpoints\"><path class=\"scatterpts\" transform=\"translate(20,0)\" d=\"M4.55,0L0,4.55L-4.55,0L0,-4.55Z\" style=\"opacity: 1; stroke-width: 1px; fill: rgb(66, 133, 244); fill-opacity: 1; stroke: rgb(11, 84, 205); stroke-opacity: 1;\"/></g></g></g><rect class=\"legendtoggle\" x=\"0\" y=\"-9.5\" width=\"71.203125\" height=\"19\" style=\"fill: rgb(0, 0, 0); fill-opacity: 0;\"/></g><g class=\"traces\" transform=\"translate(500.75,52.5)\" style=\"opacity: 1;\"><text class=\"legendtext\" text-anchor=\"start\" x=\"40\" y=\"4.680000000000001\" style=\"font-family: 'Open Sans', verdana, arial, sans-serif; font-size: 12px; fill: rgb(42, 63, 95); fill-opacity: 1; white-space: pre;\">Active</text><g class=\"layers\" style=\"opacity: 1;\"><g class=\"legendfill\"/><g class=\"legendlines\"/><g class=\"legendsymbols\"><g class=\"legendpoints\"><path class=\"scatterpts\" transform=\"translate(20,0)\" d=\"M4.55,0L0,4.55L-4.55,0L0,-4.55Z\" style=\"opacity: 1; stroke-width: 1px; fill: rgb(255, 170, 0); fill-opacity: 1; stroke: rgb(178, 118, 0); stroke-opacity: 1;\"/></g></g></g><rect class=\"legendtoggle\" x=\"0\" y=\"-9.5\" width=\"79.234375\" height=\"19\" style=\"fill: rgb(0, 0, 0); fill-opacity: 0;\"/></g><g class=\"traces\" transform=\"translate(0,71.5)\" style=\"opacity: 1;\"><text class=\"legendtext\" text-anchor=\"start\" x=\"40\" y=\"4.680000000000001\" style=\"font-family: 'Open Sans', verdana, arial, sans-serif; font-size: 12px; fill: rgb(42, 63, 95); fill-opacity: 1; white-space: pre;\">Drawdown</text><g class=\"layers\"><g class=\"legendfill\"><path class=\"js-fill\" d=\"M5,0h30v6h-30z\" style=\"stroke-width: 0; fill: rgb(220, 57, 18); fill-opacity: 0.3;\"/></g><g class=\"legendlines\"><path class=\"js-line\" d=\"M5,0h30\" style=\"fill: none; stroke: rgb(220, 57, 18); stroke-opacity: 1; stroke-width: 2px;\"/></g><g class=\"legendsymbols\"><g class=\"legendpoints\"><path class=\"scatterpts\" transform=\"translate(20,0)\" d=\"M3,0A3,3 0 1,1 0,-3A3,3 0 0,1 3,0Z\" style=\"opacity: 1; stroke-width: 0px; fill: rgb(220, 57, 18); fill-opacity: 1;\"/></g></g></g><rect class=\"legendtoggle\" x=\"0\" y=\"-9.5\" width=\"106.078125\" height=\"19\" style=\"fill: rgb(0, 0, 0); fill-opacity: 0;\"/></g><g class=\"traces\" transform=\"translate(125.1875,71.5)\" style=\"opacity: 1;\"><text class=\"legendtext\" text-anchor=\"start\" x=\"40\" y=\"4.680000000000001\" style=\"font-family: 'Open Sans', verdana, arial, sans-serif; font-size: 12px; fill: rgb(42, 63, 95); fill-opacity: 1; white-space: pre;\">Exposure</text><g class=\"layers\" style=\"opacity: 1;\"><g class=\"legendfill\"/><g class=\"legendlines\"><path class=\"js-line\" d=\"M5,0h30\" style=\"fill: none; stroke: rgb(227, 119, 194); stroke-opacity: 1; stroke-width: 2px;\"/></g><g class=\"legendsymbols\"><g class=\"legendpoints\"><path class=\"scatterpts\" transform=\"translate(20,0)\" d=\"M3,0A3,3 0 1,1 0,-3A3,3 0 0,1 3,0Z\" style=\"opacity: 1; stroke-width: 0px; fill: rgb(227, 119, 194); fill-opacity: 1;\"/></g></g></g><rect class=\"legendtoggle\" x=\"0\" y=\"-9.5\" width=\"98.078125\" height=\"19\" style=\"fill: rgb(0, 0, 0); fill-opacity: 0;\"/></g></g></g><rect class=\"scrollbar\" rx=\"20\" ry=\"3\" width=\"0\" height=\"0\" style=\"fill: rgb(128, 139, 164); fill-opacity: 1;\" x=\"0\" y=\"0\"/></g><g class=\"g-gtitle\"/><g class=\"g-xtitle\"/><g class=\"g-x2title\"/><g class=\"g-x3title\"/><g class=\"g-x4title\"/><g class=\"g-x5title\"/><g class=\"g-x6title\"/><g class=\"g-x7title\"/><g class=\"g-x8title\"/><g class=\"g-x9title\"/><g class=\"g-x10title\"/><g class=\"g-x11title\"/><g class=\"g-x12title\"/><g class=\"g-x13title\"/><g class=\"g-x14title\"><text class=\"x14title\" x=\"407.5\" y=\"4137.909375\" text-anchor=\"middle\" style=\"font-family: 'Open Sans', verdana, arial, sans-serif; font-size: 14px; fill: rgb(42, 63, 95); opacity: 1; font-weight: normal; white-space: pre;\">Index</text></g><g class=\"g-ytitle\"><text class=\"ytitle\" transform=\"rotate(-90,49.575,259.2700516351119)\" x=\"49.575\" y=\"259.2700516351119\" text-anchor=\"middle\" style=\"font-family: 'Open Sans', verdana, arial, sans-serif; font-size: 14px; fill: rgb(42, 63, 95); opacity: 1; font-weight: normal; white-space: pre;\">Price</text></g><g class=\"g-y2title\"><text class=\"y2title\" transform=\"rotate(-90,49.575,543.8438898450945)\" x=\"49.575\" y=\"543.8438898450945\" text-anchor=\"middle\" style=\"font-family: 'Open Sans', verdana, arial, sans-serif; font-size: 14px; fill: rgb(42, 63, 95); opacity: 1; font-weight: normal; white-space: pre;\">Price</text></g><g class=\"g-y3title\" transform=\"translate(2.4365234375,0)\"><text class=\"y3title\" transform=\"rotate(-90,11.575000000000003,828.4177280550771)\" x=\"11.575000000000003\" y=\"828.4177280550771\" text-anchor=\"middle\" style=\"font-family: 'Open Sans', verdana, arial, sans-serif; font-size: 14px; fill: rgb(42, 63, 95); opacity: 1; font-weight: normal; white-space: pre;\">Trade PnL</text></g><g class=\"g-y4title\"><text class=\"y4title\" transform=\"rotate(-90,49.575,1112.99156626506)\" x=\"49.575\" y=\"1112.99156626506\" text-anchor=\"middle\" style=\"font-family: 'Open Sans', verdana, arial, sans-serif; font-size: 14px; fill: rgb(42, 63, 95); opacity: 1; font-weight: normal; white-space: pre;\">Asset flow</text></g><g class=\"g-y5title\"><text class=\"y5title\" transform=\"rotate(-90,51.746875,1397.565404475043)\" x=\"51.746875\" y=\"1397.565404475043\" text-anchor=\"middle\" style=\"font-family: 'Open Sans', verdana, arial, sans-serif; font-size: 14px; fill: rgb(42, 63, 95); opacity: 1; font-weight: normal; white-space: pre;\">Cash flow</text></g><g class=\"g-y6title\"><text class=\"y6title\" transform=\"rotate(-90,49.575,1682.139242685026)\" x=\"49.575\" y=\"1682.139242685026\" text-anchor=\"middle\" style=\"font-family: 'Open Sans', verdana, arial, sans-serif; font-size: 14px; fill: rgb(42, 63, 95); opacity: 1; font-weight: normal; white-space: pre;\">Assets</text></g><g class=\"g-y7title\"><text class=\"y7title\" transform=\"rotate(-90,46.309375,1966.7130808950085)\" x=\"46.309375\" y=\"1966.7130808950085\" text-anchor=\"middle\" style=\"font-family: 'Open Sans', verdana, arial, sans-serif; font-size: 14px; fill: rgb(42, 63, 95); opacity: 1; font-weight: normal; white-space: pre;\">Cash</text></g><g class=\"g-y8title\"><text class=\"y8title\" transform=\"rotate(-90,61.559375,2251.286919104991)\" x=\"61.559375\" y=\"2251.286919104991\" text-anchor=\"middle\" style=\"font-family: 'Open Sans', verdana, arial, sans-serif; font-size: 14px; fill: rgb(42, 63, 95); opacity: 1; font-weight: normal; white-space: pre;\">Asset value</text></g><g class=\"g-y9title\"><text class=\"y9title\" transform=\"rotate(-90,34.309375,2535.8607573149743)\" x=\"34.309375\" y=\"2535.8607573149743\" text-anchor=\"middle\" style=\"font-family: 'Open Sans', verdana, arial, sans-serif; font-size: 14px; fill: rgb(42, 63, 95); opacity: 1; font-weight: normal; white-space: pre;\">Value</text></g><g class=\"g-y10title\"><text class=\"y10title\" transform=\"rotate(-90,49.575,2820.4345955249573)\" x=\"49.575\" y=\"2820.4345955249573\" text-anchor=\"middle\" style=\"font-family: 'Open Sans', verdana, arial, sans-serif; font-size: 14px; fill: rgb(42, 63, 95); opacity: 1; font-weight: normal; white-space: pre;\">Cumulative returns</text></g><g class=\"g-y11title\"><text class=\"y11title\" transform=\"rotate(-90,41.934375,3105.00843373494)\" x=\"41.934375\" y=\"3105.00843373494\" text-anchor=\"middle\" style=\"font-family: 'Open Sans', verdana, arial, sans-serif; font-size: 14px; fill: rgb(42, 63, 95); opacity: 1; font-weight: normal; white-space: pre;\">Value</text></g><g class=\"g-y12title\"><text class=\"y12title\" transform=\"rotate(-90,38.825,3389.5822719449225)\" x=\"38.825\" y=\"3389.5822719449225\" text-anchor=\"middle\" style=\"font-family: 'Open Sans', verdana, arial, sans-serif; font-size: 14px; fill: rgb(42, 63, 95); opacity: 1; font-weight: normal; white-space: pre;\">Drawdown</text></g><g class=\"g-y13title\"><text class=\"y13title\" transform=\"rotate(-90,49.575,3674.156110154905)\" x=\"49.575\" y=\"3674.156110154905\" text-anchor=\"middle\" style=\"font-family: 'Open Sans', verdana, arial, sans-serif; font-size: 14px; fill: rgb(42, 63, 95); opacity: 1; font-weight: normal; white-space: pre;\">Gross exposure</text></g><g class=\"g-y14title\"><text class=\"y14title\" transform=\"rotate(-90,41.934375,3958.729948364888)\" x=\"41.934375\" y=\"3958.729948364888\" text-anchor=\"middle\" style=\"font-family: 'Open Sans', verdana, arial, sans-serif; font-size: 14px; fill: rgb(42, 63, 95); opacity: 1; font-weight: normal; white-space: pre;\">Net exposure</text></g><g class=\"annotation\" data-index=\"0\" style=\"opacity: 1;\"><g class=\"annotation-text-g\" transform=\"rotate(0,407.5,124)\"><g class=\"cursor-pointer\" transform=\"translate(379,112)\"><rect class=\"bg\" x=\"0.5\" y=\"0.5\" width=\"57\" height=\"23\" style=\"stroke-width: 1px; stroke: rgb(0, 0, 0); stroke-opacity: 0; fill: rgb(0, 0, 0); fill-opacity: 0;\"/><text class=\"annotation-text\" text-anchor=\"middle\" x=\"29.046875\" y=\"18\" style=\"font-family: 'Open Sans', verdana, arial, sans-serif; font-size: 16px; fill: rgb(42, 63, 95); fill-opacity: 1; white-space: pre;\">Orders</text></g></g></g><g class=\"annotation\" data-index=\"1\" style=\"opacity: 1;\"><g class=\"annotation-text-g\" transform=\"rotate(0,407.5,408.5738382099826)\"><g class=\"cursor-pointer\" transform=\"translate(379,397)\"><rect class=\"bg\" x=\"0.5\" y=\"0.5\" width=\"57\" height=\"23\" style=\"stroke-width: 1px; stroke: rgb(0, 0, 0); stroke-opacity: 0; fill: rgb(0, 0, 0); fill-opacity: 0;\"/><text class=\"annotation-text\" text-anchor=\"middle\" x=\"29.078125\" y=\"18\" style=\"font-family: 'Open Sans', verdana, arial, sans-serif; font-size: 16px; fill: rgb(42, 63, 95); fill-opacity: 1; white-space: pre;\">Trades</text></g></g></g><g class=\"annotation\" data-index=\"2\" style=\"opacity: 1;\"><g class=\"annotation-text-g\" transform=\"rotate(0,407.5,693.1476764199653)\"><g class=\"cursor-pointer\" transform=\"translate(366,681)\"><rect class=\"bg\" x=\"0.5\" y=\"0.5\" width=\"83\" height=\"23\" style=\"stroke-width: 1px; stroke: rgb(0, 0, 0); stroke-opacity: 0; fill: rgb(0, 0, 0); fill-opacity: 0;\"/><text class=\"annotation-text\" text-anchor=\"middle\" x=\"42.0625\" y=\"18\" style=\"font-family: 'Open Sans', verdana, arial, sans-serif; font-size: 16px; fill: rgb(42, 63, 95); fill-opacity: 1; white-space: pre;\">Trade PnL</text></g></g></g><g class=\"annotation\" data-index=\"3\" style=\"opacity: 1;\"><g class=\"annotation-text-g\" transform=\"rotate(0,407.5,977.7215146299483)\"><g class=\"cursor-pointer\" transform=\"translate(363,966)\"><rect class=\"bg\" x=\"0.5\" y=\"0.5\" width=\"88\" height=\"23\" style=\"stroke-width: 1px; stroke: rgb(0, 0, 0); stroke-opacity: 0; fill: rgb(0, 0, 0); fill-opacity: 0;\"/><text class=\"annotation-text\" text-anchor=\"middle\" x=\"44.734375\" y=\"18\" style=\"font-family: 'Open Sans', verdana, arial, sans-serif; font-size: 16px; fill: rgb(42, 63, 95); fill-opacity: 1; white-space: pre;\">Asset Flow</text></g></g></g><g class=\"annotation\" data-index=\"4\" style=\"opacity: 1;\"><g class=\"annotation-text-g\" transform=\"rotate(0,407.5,1262.295352839931)\"><g class=\"cursor-pointer\" transform=\"translate(365,1250)\"><rect class=\"bg\" x=\"0.5\" y=\"0.5\" width=\"84\" height=\"23\" style=\"stroke-width: 1px; stroke: rgb(0, 0, 0); stroke-opacity: 0; fill: rgb(0, 0, 0); fill-opacity: 0;\"/><text class=\"annotation-text\" text-anchor=\"middle\" x=\"42.640625\" y=\"18\" style=\"font-family: 'Open Sans', verdana, arial, sans-serif; font-size: 16px; fill: rgb(42, 63, 95); fill-opacity: 1; white-space: pre;\">Cash Flow</text></g></g></g><g class=\"annotation\" data-index=\"5\" style=\"opacity: 1;\"><g class=\"annotation-text-g\" transform=\"rotate(0,407.5,1546.869191049914)\"><g class=\"cursor-pointer\" transform=\"translate(380,1535)\"><rect class=\"bg\" x=\"0.5\" y=\"0.5\" width=\"55\" height=\"23\" style=\"stroke-width: 1px; stroke: rgb(0, 0, 0); stroke-opacity: 0; fill: rgb(0, 0, 0); fill-opacity: 0;\"/><text class=\"annotation-text\" text-anchor=\"middle\" x=\"27.890625\" y=\"18\" style=\"font-family: 'Open Sans', verdana, arial, sans-serif; font-size: 16px; fill: rgb(42, 63, 95); fill-opacity: 1; white-space: pre;\">Assets</text></g></g></g><g class=\"annotation\" data-index=\"6\" style=\"opacity: 1;\"><g class=\"annotation-text-g\" transform=\"rotate(0,407.5,1831.4430292598965)\"><g class=\"cursor-pointer\" transform=\"translate(386,1819)\"><rect class=\"bg\" x=\"0.5\" y=\"0.5\" width=\"42\" height=\"23\" style=\"stroke-width: 1px; stroke: rgb(0, 0, 0); stroke-opacity: 0; fill: rgb(0, 0, 0); fill-opacity: 0;\"/><text class=\"annotation-text\" text-anchor=\"middle\" x=\"21.625\" y=\"18\" style=\"font-family: 'Open Sans', verdana, arial, sans-serif; font-size: 16px; fill: rgb(42, 63, 95); fill-opacity: 1; white-space: pre;\">Cash</text></g></g></g><g class=\"annotation\" data-index=\"7\" style=\"opacity: 1;\"><g class=\"annotation-text-g\" transform=\"rotate(0,407.5,2116.016867469879)\"><g class=\"cursor-pointer\" transform=\"translate(359,2104)\"><rect class=\"bg\" x=\"0.5\" y=\"0.5\" width=\"97\" height=\"23\" style=\"stroke-width: 1px; stroke: rgb(0, 0, 0); stroke-opacity: 0; fill: rgb(0, 0, 0); fill-opacity: 0;\"/><text class=\"annotation-text\" text-anchor=\"middle\" x=\"48.84375\" y=\"18\" style=\"font-family: 'Open Sans', verdana, arial, sans-serif; font-size: 16px; fill: rgb(42, 63, 95); fill-opacity: 1; white-space: pre;\">Asset Value</text></g></g></g><g class=\"annotation\" data-index=\"8\" style=\"opacity: 1;\"><g class=\"annotation-text-g\" transform=\"rotate(0,407.5,2400.5907056798624)\"><g class=\"cursor-pointer\" transform=\"translate(383,2389)\"><rect class=\"bg\" x=\"0.5\" y=\"0.5\" width=\"48\" height=\"23\" style=\"stroke-width: 1px; stroke: rgb(0, 0, 0); stroke-opacity: 0; fill: rgb(0, 0, 0); fill-opacity: 0;\"/><text class=\"annotation-text\" text-anchor=\"middle\" x=\"24.296875\" y=\"18\" style=\"font-family: 'Open Sans', verdana, arial, sans-serif; font-size: 16px; fill: rgb(42, 63, 95); fill-opacity: 1; white-space: pre;\">Value</text></g></g></g><g class=\"annotation\" data-index=\"9\" style=\"opacity: 1;\"><g class=\"annotation-text-g\" transform=\"rotate(0,407.5,2685.1645438898454)\"><g class=\"cursor-pointer\" transform=\"translate(326,2673)\"><rect class=\"bg\" x=\"0.5\" y=\"0.5\" width=\"162\" height=\"23\" style=\"stroke-width: 1px; stroke: rgb(0, 0, 0); stroke-opacity: 0; fill: rgb(0, 0, 0); fill-opacity: 0;\"/><text class=\"annotation-text\" text-anchor=\"middle\" x=\"81.34375\" y=\"18\" style=\"font-family: 'Open Sans', verdana, arial, sans-serif; font-size: 16px; fill: rgb(42, 63, 95); fill-opacity: 1; white-space: pre;\">Cumulative Returns</text></g></g></g><g class=\"annotation\" data-index=\"10\" style=\"opacity: 1;\"><g class=\"annotation-text-g\" transform=\"rotate(0,407.5,2969.738382099828)\"><g class=\"cursor-pointer\" transform=\"translate(359,2958)\"><rect class=\"bg\" x=\"0.5\" y=\"0.5\" width=\"96\" height=\"23\" style=\"stroke-width: 1px; stroke: rgb(0, 0, 0); stroke-opacity: 0; fill: rgb(0, 0, 0); fill-opacity: 0;\"/><text class=\"annotation-text\" text-anchor=\"middle\" x=\"48.546875\" y=\"18\" style=\"font-family: 'Open Sans', verdana, arial, sans-serif; font-size: 16px; fill: rgb(42, 63, 95); fill-opacity: 1; white-space: pre;\">Drawdowns</text></g></g></g><g class=\"annotation\" data-index=\"11\" style=\"opacity: 1;\"><g class=\"annotation-text-g\" transform=\"rotate(0,407.5,3254.3122203098105)\"><g class=\"cursor-pointer\" transform=\"translate(359,3242)\"><rect class=\"bg\" x=\"0.5\" y=\"0.5\" width=\"97\" height=\"23\" style=\"stroke-width: 1px; stroke: rgb(0, 0, 0); stroke-opacity: 0; fill: rgb(0, 0, 0); fill-opacity: 0;\"/><text class=\"annotation-text\" text-anchor=\"middle\" x=\"48.765625\" y=\"18\" style=\"font-family: 'Open Sans', verdana, arial, sans-serif; font-size: 16px; fill: rgb(42, 63, 95); fill-opacity: 1; white-space: pre;\">Underwater</text></g></g></g><g class=\"annotation\" data-index=\"12\" style=\"opacity: 1;\"><g class=\"annotation-text-g\" transform=\"rotate(0,407.5,3538.886058519793)\"><g class=\"cursor-pointer\" transform=\"translate(343,3527)\"><rect class=\"bg\" x=\"0.5\" y=\"0.5\" width=\"128\" height=\"23\" style=\"stroke-width: 1px; stroke: rgb(0, 0, 0); stroke-opacity: 0; fill: rgb(0, 0, 0); fill-opacity: 0;\"/><text class=\"annotation-text\" text-anchor=\"middle\" x=\"64.671875\" y=\"18\" style=\"font-family: 'Open Sans', verdana, arial, sans-serif; font-size: 16px; fill: rgb(42, 63, 95); fill-opacity: 1; white-space: pre;\">Gross Exposure</text></g></g></g><g class=\"annotation\" data-index=\"13\" style=\"opacity: 1;\"><g class=\"annotation-text-g\" transform=\"rotate(0,407.5,3823.459896729776)\"><g class=\"cursor-pointer\" transform=\"translate(352,3811)\"><rect class=\"bg\" x=\"0.5\" y=\"0.5\" width=\"111\" height=\"23\" style=\"stroke-width: 1px; stroke: rgb(0, 0, 0); stroke-opacity: 0; fill: rgb(0, 0, 0); fill-opacity: 0;\"/><text class=\"annotation-text\" text-anchor=\"middle\" x=\"55.765625\" y=\"18\" style=\"font-family: 'Open Sans', verdana, arial, sans-serif; font-size: 16px; fill: rgb(42, 63, 95); fill-opacity: 1; white-space: pre;\">Net Exposure</text></g></g></g></g></svg>"
      ]
     },
     "metadata": {},
     "output_type": "display_data"
    }
   ],
   "source": [
    "portfolio['a'].plot(subplots='all').show_svg()"
   ]
  },
  {
   "cell_type": "code",
   "execution_count": 11,
   "metadata": {},
   "outputs": [
    {
     "name": "stderr",
     "output_type": "stream",
     "text": [
      "/Users/olegpolakow/Documents/SourceTree/vectorbt/vectorbt/generic/plots_builder.py:340: UserWarning:\n",
      "\n",
      "Subplot 'orders' does not support grouped data\n",
      "\n",
      "/Users/olegpolakow/Documents/SourceTree/vectorbt/vectorbt/generic/plots_builder.py:340: UserWarning:\n",
      "\n",
      "Subplot 'trades' does not support grouped data\n",
      "\n",
      "/Users/olegpolakow/Documents/SourceTree/vectorbt/vectorbt/generic/plots_builder.py:340: UserWarning:\n",
      "\n",
      "Subplot 'trade_pnl' does not support grouped data\n",
      "\n",
      "/Users/olegpolakow/Documents/SourceTree/vectorbt/vectorbt/generic/plots_builder.py:340: UserWarning:\n",
      "\n",
      "Subplot 'asset_flow' does not support grouped data\n",
      "\n",
      "/Users/olegpolakow/Documents/SourceTree/vectorbt/vectorbt/generic/plots_builder.py:340: UserWarning:\n",
      "\n",
      "Subplot 'assets' does not support grouped data\n",
      "\n"
     ]
    },
    {
     "data": {
      "image/svg+xml": [
       "<svg class=\"main-svg\" xmlns=\"http://www.w3.org/2000/svg\" xmlns:xlink=\"http://www.w3.org/1999/xlink\" width=\"750\" height=\"2700\" style=\"\" viewBox=\"0 0 750 2700\"><rect x=\"0\" y=\"0\" width=\"750\" height=\"2700\" style=\"fill: rgb(255, 255, 255); fill-opacity: 1;\"/><defs id=\"defs-65ca99\"><g class=\"clips\"><clipPath id=\"clip65ca99xyplot\" class=\"plotclip\"><rect width=\"637\" height=\"248.1860082304525\"/></clipPath><clipPath id=\"clip65ca99x2y2plot\" class=\"plotclip\"><rect width=\"637\" height=\"248.18600823045279\"/></clipPath><clipPath id=\"clip65ca99x3y3plot\" class=\"plotclip\"><rect width=\"637\" height=\"248.18600823045279\"/></clipPath><clipPath id=\"clip65ca99x4y4plot\" class=\"plotclip\"><rect width=\"637\" height=\"248.18600823045279\"/></clipPath><clipPath id=\"clip65ca99x5y5plot\" class=\"plotclip\"><rect width=\"637\" height=\"248.18600823045279\"/></clipPath><clipPath id=\"clip65ca99x6y6plot\" class=\"plotclip\"><rect width=\"637\" height=\"248.18600823045264\"/></clipPath><clipPath id=\"clip65ca99x7y7plot\" class=\"plotclip\"><rect width=\"637\" height=\"248.18600823045264\"/></clipPath><clipPath id=\"clip65ca99x8y8plot\" class=\"plotclip\"><rect width=\"637\" height=\"248.18600823045264\"/></clipPath><clipPath id=\"clip65ca99x9y9plot\" class=\"plotclip\"><rect width=\"637\" height=\"248.18600823045267\"/></clipPath><clipPath class=\"axesclip\" id=\"clip65ca99x\"><rect x=\"83\" y=\"0\" width=\"637\" height=\"2700\"/></clipPath><clipPath class=\"axesclip\" id=\"clip65ca99y\"><rect x=\"0\" y=\"98\" width=\"750\" height=\"248.1860082304525\"/></clipPath><clipPath class=\"axesclip\" id=\"clip65ca99xy\"><rect x=\"83\" y=\"98\" width=\"637\" height=\"248.1860082304525\"/></clipPath><clipPath class=\"axesclip\" id=\"clip65ca99y2\"><rect x=\"0\" y=\"383.726748971193\" width=\"750\" height=\"248.18600823045279\"/></clipPath><clipPath class=\"axesclip\" id=\"clip65ca99xy2\"><rect x=\"83\" y=\"383.726748971193\" width=\"637\" height=\"248.18600823045279\"/></clipPath><clipPath class=\"axesclip\" id=\"clip65ca99y3\"><rect x=\"0\" y=\"669.4534979423865\" width=\"750\" height=\"248.18600823045279\"/></clipPath><clipPath class=\"axesclip\" id=\"clip65ca99xy3\"><rect x=\"83\" y=\"669.4534979423865\" width=\"637\" height=\"248.18600823045279\"/></clipPath><clipPath class=\"axesclip\" id=\"clip65ca99y4\"><rect x=\"0\" y=\"955.1802469135802\" width=\"750\" height=\"248.18600823045279\"/></clipPath><clipPath class=\"axesclip\" id=\"clip65ca99xy4\"><rect x=\"83\" y=\"955.1802469135802\" width=\"637\" height=\"248.18600823045279\"/></clipPath><clipPath class=\"axesclip\" id=\"clip65ca99y5\"><rect x=\"0\" y=\"1240.9069958847736\" width=\"750\" height=\"248.18600823045279\"/></clipPath><clipPath class=\"axesclip\" id=\"clip65ca99xy5\"><rect x=\"83\" y=\"1240.9069958847736\" width=\"637\" height=\"248.18600823045279\"/></clipPath><clipPath class=\"axesclip\" id=\"clip65ca99y6\"><rect x=\"0\" y=\"1526.633744855967\" width=\"750\" height=\"248.18600823045264\"/></clipPath><clipPath class=\"axesclip\" id=\"clip65ca99xy6\"><rect x=\"83\" y=\"1526.633744855967\" width=\"637\" height=\"248.18600823045264\"/></clipPath><clipPath class=\"axesclip\" id=\"clip65ca99y7\"><rect x=\"0\" y=\"1812.3604938271603\" width=\"750\" height=\"248.18600823045264\"/></clipPath><clipPath class=\"axesclip\" id=\"clip65ca99xy7\"><rect x=\"83\" y=\"1812.3604938271603\" width=\"637\" height=\"248.18600823045264\"/></clipPath><clipPath class=\"axesclip\" id=\"clip65ca99y8\"><rect x=\"0\" y=\"2098.087242798354\" width=\"750\" height=\"248.18600823045264\"/></clipPath><clipPath class=\"axesclip\" id=\"clip65ca99xy8\"><rect x=\"83\" y=\"2098.087242798354\" width=\"637\" height=\"248.18600823045264\"/></clipPath><clipPath class=\"axesclip\" id=\"clip65ca99y9\"><rect x=\"0\" y=\"2383.813991769547\" width=\"750\" height=\"248.18600823045267\"/></clipPath><clipPath class=\"axesclip\" id=\"clip65ca99xy9\"><rect x=\"83\" y=\"2383.813991769547\" width=\"637\" height=\"248.18600823045267\"/></clipPath><clipPath class=\"axesclip\" id=\"clip65ca99x2\"><rect x=\"83\" y=\"0\" width=\"637\" height=\"2700\"/></clipPath><clipPath class=\"axesclip\" id=\"clip65ca99x2y\"><rect x=\"83\" y=\"98\" width=\"637\" height=\"248.1860082304525\"/></clipPath><clipPath class=\"axesclip\" id=\"clip65ca99x2y2\"><rect x=\"83\" y=\"383.726748971193\" width=\"637\" height=\"248.18600823045279\"/></clipPath><clipPath class=\"axesclip\" id=\"clip65ca99x2y3\"><rect x=\"83\" y=\"669.4534979423865\" width=\"637\" height=\"248.18600823045279\"/></clipPath><clipPath class=\"axesclip\" id=\"clip65ca99x2y4\"><rect x=\"83\" y=\"955.1802469135802\" width=\"637\" height=\"248.18600823045279\"/></clipPath><clipPath class=\"axesclip\" id=\"clip65ca99x2y5\"><rect x=\"83\" y=\"1240.9069958847736\" width=\"637\" height=\"248.18600823045279\"/></clipPath><clipPath class=\"axesclip\" id=\"clip65ca99x2y6\"><rect x=\"83\" y=\"1526.633744855967\" width=\"637\" height=\"248.18600823045264\"/></clipPath><clipPath class=\"axesclip\" id=\"clip65ca99x2y7\"><rect x=\"83\" y=\"1812.3604938271603\" width=\"637\" height=\"248.18600823045264\"/></clipPath><clipPath class=\"axesclip\" id=\"clip65ca99x2y8\"><rect x=\"83\" y=\"2098.087242798354\" width=\"637\" height=\"248.18600823045264\"/></clipPath><clipPath class=\"axesclip\" id=\"clip65ca99x2y9\"><rect x=\"83\" y=\"2383.813991769547\" width=\"637\" height=\"248.18600823045267\"/></clipPath><clipPath class=\"axesclip\" id=\"clip65ca99x3\"><rect x=\"83\" y=\"0\" width=\"637\" height=\"2700\"/></clipPath><clipPath class=\"axesclip\" id=\"clip65ca99x3y\"><rect x=\"83\" y=\"98\" width=\"637\" height=\"248.1860082304525\"/></clipPath><clipPath class=\"axesclip\" id=\"clip65ca99x3y2\"><rect x=\"83\" y=\"383.726748971193\" width=\"637\" height=\"248.18600823045279\"/></clipPath><clipPath class=\"axesclip\" id=\"clip65ca99x3y3\"><rect x=\"83\" y=\"669.4534979423865\" width=\"637\" height=\"248.18600823045279\"/></clipPath><clipPath class=\"axesclip\" id=\"clip65ca99x3y4\"><rect x=\"83\" y=\"955.1802469135802\" width=\"637\" height=\"248.18600823045279\"/></clipPath><clipPath class=\"axesclip\" id=\"clip65ca99x3y5\"><rect x=\"83\" y=\"1240.9069958847736\" width=\"637\" height=\"248.18600823045279\"/></clipPath><clipPath class=\"axesclip\" id=\"clip65ca99x3y6\"><rect x=\"83\" y=\"1526.633744855967\" width=\"637\" height=\"248.18600823045264\"/></clipPath><clipPath class=\"axesclip\" id=\"clip65ca99x3y7\"><rect x=\"83\" y=\"1812.3604938271603\" width=\"637\" height=\"248.18600823045264\"/></clipPath><clipPath class=\"axesclip\" id=\"clip65ca99x3y8\"><rect x=\"83\" y=\"2098.087242798354\" width=\"637\" height=\"248.18600823045264\"/></clipPath><clipPath class=\"axesclip\" id=\"clip65ca99x3y9\"><rect x=\"83\" y=\"2383.813991769547\" width=\"637\" height=\"248.18600823045267\"/></clipPath><clipPath class=\"axesclip\" id=\"clip65ca99x4\"><rect x=\"83\" y=\"0\" width=\"637\" height=\"2700\"/></clipPath><clipPath class=\"axesclip\" id=\"clip65ca99x4y\"><rect x=\"83\" y=\"98\" width=\"637\" height=\"248.1860082304525\"/></clipPath><clipPath class=\"axesclip\" id=\"clip65ca99x4y2\"><rect x=\"83\" y=\"383.726748971193\" width=\"637\" height=\"248.18600823045279\"/></clipPath><clipPath class=\"axesclip\" id=\"clip65ca99x4y3\"><rect x=\"83\" y=\"669.4534979423865\" width=\"637\" height=\"248.18600823045279\"/></clipPath><clipPath class=\"axesclip\" id=\"clip65ca99x4y4\"><rect x=\"83\" y=\"955.1802469135802\" width=\"637\" height=\"248.18600823045279\"/></clipPath><clipPath class=\"axesclip\" id=\"clip65ca99x4y5\"><rect x=\"83\" y=\"1240.9069958847736\" width=\"637\" height=\"248.18600823045279\"/></clipPath><clipPath class=\"axesclip\" id=\"clip65ca99x4y6\"><rect x=\"83\" y=\"1526.633744855967\" width=\"637\" height=\"248.18600823045264\"/></clipPath><clipPath class=\"axesclip\" id=\"clip65ca99x4y7\"><rect x=\"83\" y=\"1812.3604938271603\" width=\"637\" height=\"248.18600823045264\"/></clipPath><clipPath class=\"axesclip\" id=\"clip65ca99x4y8\"><rect x=\"83\" y=\"2098.087242798354\" width=\"637\" height=\"248.18600823045264\"/></clipPath><clipPath class=\"axesclip\" id=\"clip65ca99x4y9\"><rect x=\"83\" y=\"2383.813991769547\" width=\"637\" height=\"248.18600823045267\"/></clipPath><clipPath class=\"axesclip\" id=\"clip65ca99x5\"><rect x=\"83\" y=\"0\" width=\"637\" height=\"2700\"/></clipPath><clipPath class=\"axesclip\" id=\"clip65ca99x5y\"><rect x=\"83\" y=\"98\" width=\"637\" height=\"248.1860082304525\"/></clipPath><clipPath class=\"axesclip\" id=\"clip65ca99x5y2\"><rect x=\"83\" y=\"383.726748971193\" width=\"637\" height=\"248.18600823045279\"/></clipPath><clipPath class=\"axesclip\" id=\"clip65ca99x5y3\"><rect x=\"83\" y=\"669.4534979423865\" width=\"637\" height=\"248.18600823045279\"/></clipPath><clipPath class=\"axesclip\" id=\"clip65ca99x5y4\"><rect x=\"83\" y=\"955.1802469135802\" width=\"637\" height=\"248.18600823045279\"/></clipPath><clipPath class=\"axesclip\" id=\"clip65ca99x5y5\"><rect x=\"83\" y=\"1240.9069958847736\" width=\"637\" height=\"248.18600823045279\"/></clipPath><clipPath class=\"axesclip\" id=\"clip65ca99x5y6\"><rect x=\"83\" y=\"1526.633744855967\" width=\"637\" height=\"248.18600823045264\"/></clipPath><clipPath class=\"axesclip\" id=\"clip65ca99x5y7\"><rect x=\"83\" y=\"1812.3604938271603\" width=\"637\" height=\"248.18600823045264\"/></clipPath><clipPath class=\"axesclip\" id=\"clip65ca99x5y8\"><rect x=\"83\" y=\"2098.087242798354\" width=\"637\" height=\"248.18600823045264\"/></clipPath><clipPath class=\"axesclip\" id=\"clip65ca99x5y9\"><rect x=\"83\" y=\"2383.813991769547\" width=\"637\" height=\"248.18600823045267\"/></clipPath><clipPath class=\"axesclip\" id=\"clip65ca99x6\"><rect x=\"83\" y=\"0\" width=\"637\" height=\"2700\"/></clipPath><clipPath class=\"axesclip\" id=\"clip65ca99x6y\"><rect x=\"83\" y=\"98\" width=\"637\" height=\"248.1860082304525\"/></clipPath><clipPath class=\"axesclip\" id=\"clip65ca99x6y2\"><rect x=\"83\" y=\"383.726748971193\" width=\"637\" height=\"248.18600823045279\"/></clipPath><clipPath class=\"axesclip\" id=\"clip65ca99x6y3\"><rect x=\"83\" y=\"669.4534979423865\" width=\"637\" height=\"248.18600823045279\"/></clipPath><clipPath class=\"axesclip\" id=\"clip65ca99x6y4\"><rect x=\"83\" y=\"955.1802469135802\" width=\"637\" height=\"248.18600823045279\"/></clipPath><clipPath class=\"axesclip\" id=\"clip65ca99x6y5\"><rect x=\"83\" y=\"1240.9069958847736\" width=\"637\" height=\"248.18600823045279\"/></clipPath><clipPath class=\"axesclip\" id=\"clip65ca99x6y6\"><rect x=\"83\" y=\"1526.633744855967\" width=\"637\" height=\"248.18600823045264\"/></clipPath><clipPath class=\"axesclip\" id=\"clip65ca99x6y7\"><rect x=\"83\" y=\"1812.3604938271603\" width=\"637\" height=\"248.18600823045264\"/></clipPath><clipPath class=\"axesclip\" id=\"clip65ca99x6y8\"><rect x=\"83\" y=\"2098.087242798354\" width=\"637\" height=\"248.18600823045264\"/></clipPath><clipPath class=\"axesclip\" id=\"clip65ca99x6y9\"><rect x=\"83\" y=\"2383.813991769547\" width=\"637\" height=\"248.18600823045267\"/></clipPath><clipPath class=\"axesclip\" id=\"clip65ca99x7\"><rect x=\"83\" y=\"0\" width=\"637\" height=\"2700\"/></clipPath><clipPath class=\"axesclip\" id=\"clip65ca99x7y\"><rect x=\"83\" y=\"98\" width=\"637\" height=\"248.1860082304525\"/></clipPath><clipPath class=\"axesclip\" id=\"clip65ca99x7y2\"><rect x=\"83\" y=\"383.726748971193\" width=\"637\" height=\"248.18600823045279\"/></clipPath><clipPath class=\"axesclip\" id=\"clip65ca99x7y3\"><rect x=\"83\" y=\"669.4534979423865\" width=\"637\" height=\"248.18600823045279\"/></clipPath><clipPath class=\"axesclip\" id=\"clip65ca99x7y4\"><rect x=\"83\" y=\"955.1802469135802\" width=\"637\" height=\"248.18600823045279\"/></clipPath><clipPath class=\"axesclip\" id=\"clip65ca99x7y5\"><rect x=\"83\" y=\"1240.9069958847736\" width=\"637\" height=\"248.18600823045279\"/></clipPath><clipPath class=\"axesclip\" id=\"clip65ca99x7y6\"><rect x=\"83\" y=\"1526.633744855967\" width=\"637\" height=\"248.18600823045264\"/></clipPath><clipPath class=\"axesclip\" id=\"clip65ca99x7y7\"><rect x=\"83\" y=\"1812.3604938271603\" width=\"637\" height=\"248.18600823045264\"/></clipPath><clipPath class=\"axesclip\" id=\"clip65ca99x7y8\"><rect x=\"83\" y=\"2098.087242798354\" width=\"637\" height=\"248.18600823045264\"/></clipPath><clipPath class=\"axesclip\" id=\"clip65ca99x7y9\"><rect x=\"83\" y=\"2383.813991769547\" width=\"637\" height=\"248.18600823045267\"/></clipPath><clipPath class=\"axesclip\" id=\"clip65ca99x8\"><rect x=\"83\" y=\"0\" width=\"637\" height=\"2700\"/></clipPath><clipPath class=\"axesclip\" id=\"clip65ca99x8y\"><rect x=\"83\" y=\"98\" width=\"637\" height=\"248.1860082304525\"/></clipPath><clipPath class=\"axesclip\" id=\"clip65ca99x8y2\"><rect x=\"83\" y=\"383.726748971193\" width=\"637\" height=\"248.18600823045279\"/></clipPath><clipPath class=\"axesclip\" id=\"clip65ca99x8y3\"><rect x=\"83\" y=\"669.4534979423865\" width=\"637\" height=\"248.18600823045279\"/></clipPath><clipPath class=\"axesclip\" id=\"clip65ca99x8y4\"><rect x=\"83\" y=\"955.1802469135802\" width=\"637\" height=\"248.18600823045279\"/></clipPath><clipPath class=\"axesclip\" id=\"clip65ca99x8y5\"><rect x=\"83\" y=\"1240.9069958847736\" width=\"637\" height=\"248.18600823045279\"/></clipPath><clipPath class=\"axesclip\" id=\"clip65ca99x8y6\"><rect x=\"83\" y=\"1526.633744855967\" width=\"637\" height=\"248.18600823045264\"/></clipPath><clipPath class=\"axesclip\" id=\"clip65ca99x8y7\"><rect x=\"83\" y=\"1812.3604938271603\" width=\"637\" height=\"248.18600823045264\"/></clipPath><clipPath class=\"axesclip\" id=\"clip65ca99x8y8\"><rect x=\"83\" y=\"2098.087242798354\" width=\"637\" height=\"248.18600823045264\"/></clipPath><clipPath class=\"axesclip\" id=\"clip65ca99x8y9\"><rect x=\"83\" y=\"2383.813991769547\" width=\"637\" height=\"248.18600823045267\"/></clipPath><clipPath class=\"axesclip\" id=\"clip65ca99x9\"><rect x=\"83\" y=\"0\" width=\"637\" height=\"2700\"/></clipPath><clipPath class=\"axesclip\" id=\"clip65ca99x9y\"><rect x=\"83\" y=\"98\" width=\"637\" height=\"248.1860082304525\"/></clipPath><clipPath class=\"axesclip\" id=\"clip65ca99x9y2\"><rect x=\"83\" y=\"383.726748971193\" width=\"637\" height=\"248.18600823045279\"/></clipPath><clipPath class=\"axesclip\" id=\"clip65ca99x9y3\"><rect x=\"83\" y=\"669.4534979423865\" width=\"637\" height=\"248.18600823045279\"/></clipPath><clipPath class=\"axesclip\" id=\"clip65ca99x9y4\"><rect x=\"83\" y=\"955.1802469135802\" width=\"637\" height=\"248.18600823045279\"/></clipPath><clipPath class=\"axesclip\" id=\"clip65ca99x9y5\"><rect x=\"83\" y=\"1240.9069958847736\" width=\"637\" height=\"248.18600823045279\"/></clipPath><clipPath class=\"axesclip\" id=\"clip65ca99x9y6\"><rect x=\"83\" y=\"1526.633744855967\" width=\"637\" height=\"248.18600823045264\"/></clipPath><clipPath class=\"axesclip\" id=\"clip65ca99x9y7\"><rect x=\"83\" y=\"1812.3604938271603\" width=\"637\" height=\"248.18600823045264\"/></clipPath><clipPath class=\"axesclip\" id=\"clip65ca99x9y8\"><rect x=\"83\" y=\"2098.087242798354\" width=\"637\" height=\"248.18600823045264\"/></clipPath><clipPath class=\"axesclip\" id=\"clip65ca99x9y9\"><rect x=\"83\" y=\"2383.813991769547\" width=\"637\" height=\"248.18600823045267\"/></clipPath></g><g class=\"gradients\"/><g class=\"patterns\"/></defs><g class=\"bglayer\"><rect class=\"bg\" x=\"83\" y=\"98\" width=\"637\" height=\"248.1860082304525\" style=\"fill: rgb(229, 236, 246); fill-opacity: 1; stroke-width: 0;\"/><rect class=\"bg\" x=\"83\" y=\"383.726748971193\" width=\"637\" height=\"248.18600823045279\" style=\"fill: rgb(229, 236, 246); fill-opacity: 1; stroke-width: 0;\"/><rect class=\"bg\" x=\"83\" y=\"669.4534979423865\" width=\"637\" height=\"248.18600823045279\" style=\"fill: rgb(229, 236, 246); fill-opacity: 1; stroke-width: 0;\"/><rect class=\"bg\" x=\"83\" y=\"955.1802469135802\" width=\"637\" height=\"248.18600823045279\" style=\"fill: rgb(229, 236, 246); fill-opacity: 1; stroke-width: 0;\"/><rect class=\"bg\" x=\"83\" y=\"1240.9069958847736\" width=\"637\" height=\"248.18600823045279\" style=\"fill: rgb(229, 236, 246); fill-opacity: 1; stroke-width: 0;\"/><rect class=\"bg\" x=\"83\" y=\"1526.633744855967\" width=\"637\" height=\"248.18600823045264\" style=\"fill: rgb(229, 236, 246); fill-opacity: 1; stroke-width: 0;\"/><rect class=\"bg\" x=\"83\" y=\"1812.3604938271603\" width=\"637\" height=\"248.18600823045264\" style=\"fill: rgb(229, 236, 246); fill-opacity: 1; stroke-width: 0;\"/><rect class=\"bg\" x=\"83\" y=\"2098.087242798354\" width=\"637\" height=\"248.18600823045264\" style=\"fill: rgb(229, 236, 246); fill-opacity: 1; stroke-width: 0;\"/><rect class=\"bg\" x=\"83\" y=\"2383.813991769547\" width=\"637\" height=\"248.18600823045267\" style=\"fill: rgb(229, 236, 246); fill-opacity: 1; stroke-width: 0;\"/></g><g class=\"layer-below\"><g class=\"imagelayer\"/><g class=\"shapelayer\"><path data-index=\"5\" fill-rule=\"evenodd\" d=\"M118.89,1774.8197530864195H684.11V1526.633744855967H118.89Z\" clip-path=\"url(#clip65ca99x6)\" style=\"opacity: 0.2; stroke: rgb(0, 0, 0); stroke-opacity: 0; fill: rgb(255, 165, 0); fill-opacity: 1; stroke-width: 0px;\"/></g></g><g class=\"cartesianlayer\"><g class=\"subplot xy\"><g class=\"layer-subplot\"><g class=\"shapelayer\"/><g class=\"imagelayer\"/></g><g class=\"gridlayer\"><g class=\"x\"><path class=\"xgrid crisp\" transform=\"translate(118.89,0)\" d=\"M0,98v248.1860082304525\" style=\"stroke: rgb(255, 255, 255); stroke-opacity: 1; stroke-width: 1px;\"/><path class=\"xgrid crisp\" transform=\"translate(260.19,0)\" d=\"M0,98v248.1860082304525\" style=\"stroke: rgb(255, 255, 255); stroke-opacity: 1; stroke-width: 1px;\"/><path class=\"xgrid crisp\" transform=\"translate(401.5,0)\" d=\"M0,98v248.1860082304525\" style=\"stroke: rgb(255, 255, 255); stroke-opacity: 1; stroke-width: 1px;\"/><path class=\"xgrid crisp\" transform=\"translate(542.81,0)\" d=\"M0,98v248.1860082304525\" style=\"stroke: rgb(255, 255, 255); stroke-opacity: 1; stroke-width: 1px;\"/><path class=\"xgrid crisp\" transform=\"translate(684.11,0)\" d=\"M0,98v248.1860082304525\" style=\"stroke: rgb(255, 255, 255); stroke-opacity: 1; stroke-width: 1px;\"/></g><g class=\"y\"><path class=\"ygrid crisp\" transform=\"translate(0,328.78)\" d=\"M83,0h637\" style=\"stroke: rgb(255, 255, 255); stroke-opacity: 1; stroke-width: 1px;\"/><path class=\"ygrid crisp\" transform=\"translate(0,173.26999999999998)\" d=\"M83,0h637\" style=\"stroke: rgb(255, 255, 255); stroke-opacity: 1; stroke-width: 1px;\"/></g></g><g class=\"zerolinelayer\"><path class=\"yzl zl crisp\" transform=\"translate(0,251.02)\" d=\"M83,0h637\" style=\"stroke: rgb(255, 255, 255); stroke-opacity: 1; stroke-width: 2px;\"/></g><path class=\"xlines-below\"/><path class=\"ylines-below\"/><g class=\"overlines-below\"/><g class=\"xaxislayer-below\"/><g class=\"yaxislayer-below\"/><g class=\"overaxes-below\"/><g class=\"plot\" transform=\"translate(83,98)\" clip-path=\"url(#clip65ca99xyplot)\"><g class=\"scatterlayer mlayer\"><g class=\"trace scatter trace2a3eed68-6a1a-454c-be8f-84b38020c3cf\" style=\"stroke-miterlimit: 2; opacity: 1;\"><g class=\"fills\"/><g class=\"errorbars\"/><g class=\"lines\"><path class=\"js-line\" d=\"M35.89,16.16L177.19,185.37L318.5,122.85L459.81,232.03L601.11,215.23\" style=\"vector-effect: non-scaling-stroke; fill: none; stroke: rgb(44, 160, 44); stroke-opacity: 1; stroke-width: 2px; opacity: 1;\"/></g><g class=\"points\"><path class=\"point\" transform=\"translate(35.89,16.16)\" d=\"M3,0A3,3 0 1,1 0,-3A3,3 0 0,1 3,0Z\" style=\"opacity: 1; stroke-width: 0px; fill: rgb(44, 160, 44); fill-opacity: 1;\"/><path class=\"point\" transform=\"translate(177.19,185.37)\" d=\"M3,0A3,3 0 1,1 0,-3A3,3 0 0,1 3,0Z\" style=\"opacity: 1; stroke-width: 0px; fill: rgb(44, 160, 44); fill-opacity: 1;\"/><path class=\"point\" transform=\"translate(318.5,122.85)\" d=\"M3,0A3,3 0 1,1 0,-3A3,3 0 0,1 3,0Z\" style=\"opacity: 1; stroke-width: 0px; fill: rgb(44, 160, 44); fill-opacity: 1;\"/><path class=\"point\" transform=\"translate(459.81,232.03)\" d=\"M3,0A3,3 0 1,1 0,-3A3,3 0 0,1 3,0Z\" style=\"opacity: 1; stroke-width: 0px; fill: rgb(44, 160, 44); fill-opacity: 1;\"/><path class=\"point\" transform=\"translate(601.11,215.23)\" d=\"M3,0A3,3 0 1,1 0,-3A3,3 0 0,1 3,0Z\" style=\"opacity: 1; stroke-width: 0px; fill: rgb(44, 160, 44); fill-opacity: 1;\"/></g><g class=\"text\"/></g></g></g><g class=\"overplot\"/><path class=\"xlines-above crisp\" d=\"M0,0\" style=\"fill: none;\"/><path class=\"ylines-above crisp\" d=\"M0,0\" style=\"fill: none;\"/><g class=\"overlines-above\"/><g class=\"xaxislayer-above\"/><g class=\"yaxislayer-above\"><g class=\"ytick\"><text text-anchor=\"end\" x=\"82\" y=\"4.199999999999999\" transform=\"translate(0,328.78)\" style=\"font-family: 'Open Sans', verdana, arial, sans-serif; font-size: 12px; fill: rgb(42, 63, 95); fill-opacity: 1; white-space: pre; opacity: 1;\">−0.5</text></g><g class=\"ytick\"><text text-anchor=\"end\" x=\"82\" y=\"4.199999999999999\" style=\"font-family: 'Open Sans', verdana, arial, sans-serif; font-size: 12px; fill: rgb(42, 63, 95); fill-opacity: 1; white-space: pre; opacity: 1;\" transform=\"translate(0,251.02)\">0</text></g><g class=\"ytick\"><text text-anchor=\"end\" x=\"82\" y=\"4.199999999999999\" style=\"font-family: 'Open Sans', verdana, arial, sans-serif; font-size: 12px; fill: rgb(42, 63, 95); fill-opacity: 1; white-space: pre; opacity: 1;\" transform=\"translate(0,173.26999999999998)\">0.5</text></g></g><g class=\"overaxes-above\"/></g><g class=\"subplot x2y2\"><g class=\"layer-subplot\"><g class=\"shapelayer\"/><g class=\"imagelayer\"/></g><g class=\"gridlayer\"><g class=\"x2\"><path class=\"x2grid crisp\" transform=\"translate(118.89,0)\" d=\"M0,383.726748971193v248.18600823045279\" style=\"stroke: rgb(255, 255, 255); stroke-opacity: 1; stroke-width: 1px;\"/><path class=\"x2grid crisp\" transform=\"translate(260.19,0)\" d=\"M0,383.726748971193v248.18600823045279\" style=\"stroke: rgb(255, 255, 255); stroke-opacity: 1; stroke-width: 1px;\"/><path class=\"x2grid crisp\" transform=\"translate(401.5,0)\" d=\"M0,383.726748971193v248.18600823045279\" style=\"stroke: rgb(255, 255, 255); stroke-opacity: 1; stroke-width: 1px;\"/><path class=\"x2grid crisp\" transform=\"translate(542.81,0)\" d=\"M0,383.726748971193v248.18600823045279\" style=\"stroke: rgb(255, 255, 255); stroke-opacity: 1; stroke-width: 1px;\"/><path class=\"x2grid crisp\" transform=\"translate(684.11,0)\" d=\"M0,383.726748971193v248.18600823045279\" style=\"stroke: rgb(255, 255, 255); stroke-opacity: 1; stroke-width: 1px;\"/></g><g class=\"y2\"><path class=\"y2grid crisp\" transform=\"translate(0,605.936748971193)\" d=\"M83,0h637\" style=\"stroke: rgb(255, 255, 255); stroke-opacity: 1; stroke-width: 1px;\"/><path class=\"y2grid crisp\" transform=\"translate(0,559.1167489711929)\" d=\"M83,0h637\" style=\"stroke: rgb(255, 255, 255); stroke-opacity: 1; stroke-width: 1px;\"/><path class=\"y2grid crisp\" transform=\"translate(0,512.286748971193)\" d=\"M83,0h637\" style=\"stroke: rgb(255, 255, 255); stroke-opacity: 1; stroke-width: 1px;\"/><path class=\"y2grid crisp\" transform=\"translate(0,465.466748971193)\" d=\"M83,0h637\" style=\"stroke: rgb(255, 255, 255); stroke-opacity: 1; stroke-width: 1px;\"/><path class=\"y2grid crisp\" transform=\"translate(0,418.636748971193)\" d=\"M83,0h637\" style=\"stroke: rgb(255, 255, 255); stroke-opacity: 1; stroke-width: 1px;\"/></g></g><g class=\"zerolinelayer\"/><path class=\"xlines-below\"/><path class=\"ylines-below\"/><g class=\"overlines-below\"/><g class=\"xaxislayer-below\"/><g class=\"yaxislayer-below\"/><g class=\"overaxes-below\"/><g class=\"plot\" transform=\"translate(83,383.726748971193)\" clip-path=\"url(#clip65ca99x2y2plot)\"><g class=\"scatterlayer mlayer\"><g class=\"trace scatter trace16703e1b-a9a8-4dfa-b9f3-c51626b67bd7\" style=\"stroke-miterlimit: 2;\"><g class=\"fills\"><g><path class=\"js-fill\" d=\"M35.89,16.16L177.19,64.86L318.5,19.43L459.81,138.38L601.11,222.21L601.11,222.21L35.89,222.21Z\" style=\"fill: rgb(44, 160, 44); fill-opacity: 0.3; stroke-width: 0;\"/></g></g><g class=\"errorbars\"/><g class=\"lines\"><path class=\"js-line\" d=\"M35.89,222.21L601.11,222.21\" style=\"vector-effect: non-scaling-stroke; fill: none; stroke: rgb(0, 0, 0); stroke-opacity: 0; stroke-width: 0px; opacity: 1;\"/></g><g class=\"points\"><path class=\"point\" transform=\"translate(35.89,222.21)\" d=\"M3,0A3,3 0 1,1 0,-3A3,3 0 0,1 3,0Z\" style=\"opacity: 1; stroke-width: 0px; fill: rgb(0, 0, 0); fill-opacity: 0;\"/><path class=\"point\" transform=\"translate(177.19,222.21)\" d=\"M3,0A3,3 0 1,1 0,-3A3,3 0 0,1 3,0Z\" style=\"opacity: 1; stroke-width: 0px; fill: rgb(0, 0, 0); fill-opacity: 0;\"/><path class=\"point\" transform=\"translate(318.5,222.21)\" d=\"M3,0A3,3 0 1,1 0,-3A3,3 0 0,1 3,0Z\" style=\"opacity: 1; stroke-width: 0px; fill: rgb(0, 0, 0); fill-opacity: 0;\"/><path class=\"point\" transform=\"translate(459.81,222.21)\" d=\"M3,0A3,3 0 1,1 0,-3A3,3 0 0,1 3,0Z\" style=\"opacity: 1; stroke-width: 0px; fill: rgb(0, 0, 0); fill-opacity: 0;\"/><path class=\"point\" transform=\"translate(601.11,222.21)\" d=\"M3,0A3,3 0 1,1 0,-3A3,3 0 0,1 3,0Z\" style=\"opacity: 1; stroke-width: 0px; fill: rgb(0, 0, 0); fill-opacity: 0;\"/></g><g class=\"text\"/></g><g class=\"trace scatter trace9f862791-2fb3-48a9-b6a4-97769fa565e6\" style=\"stroke-miterlimit: 2;\"><g class=\"fills\"/><g class=\"errorbars\"/><g class=\"lines\"><path class=\"js-line\" d=\"M35.89,16.16L177.19,64.86L318.5,19.43L459.81,138.38L601.11,222.21\" style=\"vector-effect: non-scaling-stroke; fill: none; stroke: rgb(0, 0, 0); stroke-opacity: 0; stroke-width: 0px; opacity: 1;\"/></g><g class=\"points\"><path class=\"point\" transform=\"translate(35.89,16.16)\" d=\"M3,0A3,3 0 1,1 0,-3A3,3 0 0,1 3,0Z\" style=\"opacity: 1; stroke-width: 0px; fill: rgb(0, 0, 0); fill-opacity: 0;\"/><path class=\"point\" transform=\"translate(177.19,64.86)\" d=\"M3,0A3,3 0 1,1 0,-3A3,3 0 0,1 3,0Z\" style=\"opacity: 1; stroke-width: 0px; fill: rgb(0, 0, 0); fill-opacity: 0;\"/><path class=\"point\" transform=\"translate(318.5,19.43)\" d=\"M3,0A3,3 0 1,1 0,-3A3,3 0 0,1 3,0Z\" style=\"opacity: 1; stroke-width: 0px; fill: rgb(0, 0, 0); fill-opacity: 0;\"/><path class=\"point\" transform=\"translate(459.81,138.38)\" d=\"M3,0A3,3 0 1,1 0,-3A3,3 0 0,1 3,0Z\" style=\"opacity: 1; stroke-width: 0px; fill: rgb(0, 0, 0); fill-opacity: 0;\"/><path class=\"point\" transform=\"translate(601.11,222.21)\" d=\"M3,0A3,3 0 1,1 0,-3A3,3 0 0,1 3,0Z\" style=\"opacity: 1; stroke-width: 0px; fill: rgb(0, 0, 0); fill-opacity: 0;\"/></g><g class=\"text\"/></g><g class=\"trace scatter trace94b027bc-c3e3-428c-8733-7c52ecf7d7ba\" style=\"stroke-miterlimit: 2;\"><g class=\"fills\"><g><path class=\"js-fill\" d=\"M35.89,222.21L459.81,222.21L601.11,232.03L601.11,222.21L35.89,222.21Z\" style=\"fill: rgb(220, 57, 18); fill-opacity: 0.3; stroke-width: 0;\"/></g></g><g class=\"errorbars\"/><g class=\"lines\"><path class=\"js-line\" d=\"M35.89,222.21L601.11,222.21\" style=\"vector-effect: non-scaling-stroke; fill: none; stroke: rgb(0, 0, 0); stroke-opacity: 0; stroke-width: 0px; opacity: 1;\"/></g><g class=\"points\"><path class=\"point\" transform=\"translate(35.89,222.21)\" d=\"M3,0A3,3 0 1,1 0,-3A3,3 0 0,1 3,0Z\" style=\"opacity: 1; stroke-width: 0px; fill: rgb(0, 0, 0); fill-opacity: 0;\"/><path class=\"point\" transform=\"translate(177.19,222.21)\" d=\"M3,0A3,3 0 1,1 0,-3A3,3 0 0,1 3,0Z\" style=\"opacity: 1; stroke-width: 0px; fill: rgb(0, 0, 0); fill-opacity: 0;\"/><path class=\"point\" transform=\"translate(318.5,222.21)\" d=\"M3,0A3,3 0 1,1 0,-3A3,3 0 0,1 3,0Z\" style=\"opacity: 1; stroke-width: 0px; fill: rgb(0, 0, 0); fill-opacity: 0;\"/><path class=\"point\" transform=\"translate(459.81,222.21)\" d=\"M3,0A3,3 0 1,1 0,-3A3,3 0 0,1 3,0Z\" style=\"opacity: 1; stroke-width: 0px; fill: rgb(0, 0, 0); fill-opacity: 0;\"/><path class=\"point\" transform=\"translate(601.11,222.21)\" d=\"M3,0A3,3 0 1,1 0,-3A3,3 0 0,1 3,0Z\" style=\"opacity: 1; stroke-width: 0px; fill: rgb(0, 0, 0); fill-opacity: 0;\"/></g><g class=\"text\"/></g><g class=\"trace scatter tracec43f7c60-f684-4ff9-888b-30454a3d8b8b\" style=\"stroke-miterlimit: 2;\"><g class=\"fills\"/><g class=\"errorbars\"/><g class=\"lines\"><path class=\"js-line\" d=\"M35.89,222.21L459.81,222.21L601.11,232.03\" style=\"vector-effect: non-scaling-stroke; fill: none; stroke: rgb(0, 0, 0); stroke-opacity: 0; stroke-width: 0px; opacity: 1;\"/></g><g class=\"points\"><path class=\"point\" transform=\"translate(35.89,222.21)\" d=\"M3,0A3,3 0 1,1 0,-3A3,3 0 0,1 3,0Z\" style=\"opacity: 1; stroke-width: 0px; fill: rgb(0, 0, 0); fill-opacity: 0;\"/><path class=\"point\" transform=\"translate(177.19,222.21)\" d=\"M3,0A3,3 0 1,1 0,-3A3,3 0 0,1 3,0Z\" style=\"opacity: 1; stroke-width: 0px; fill: rgb(0, 0, 0); fill-opacity: 0;\"/><path class=\"point\" transform=\"translate(318.5,222.21)\" d=\"M3,0A3,3 0 1,1 0,-3A3,3 0 0,1 3,0Z\" style=\"opacity: 1; stroke-width: 0px; fill: rgb(0, 0, 0); fill-opacity: 0;\"/><path class=\"point\" transform=\"translate(459.81,222.21)\" d=\"M3,0A3,3 0 1,1 0,-3A3,3 0 0,1 3,0Z\" style=\"opacity: 1; stroke-width: 0px; fill: rgb(0, 0, 0); fill-opacity: 0;\"/><path class=\"point\" transform=\"translate(601.11,232.03)\" d=\"M3,0A3,3 0 1,1 0,-3A3,3 0 0,1 3,0Z\" style=\"opacity: 1; stroke-width: 0px; fill: rgb(0, 0, 0); fill-opacity: 0;\"/></g><g class=\"text\"/></g><g class=\"trace scatter trace245133c4-ecdb-4c89-93a7-e3ea3b3926c5\" style=\"stroke-miterlimit: 2; opacity: 1;\"><g class=\"fills\"/><g class=\"errorbars\"/><g class=\"lines\"><path class=\"js-line\" d=\"M35.89,16.16L177.19,64.86L318.5,19.43L459.81,138.38L601.11,232.03\" style=\"vector-effect: non-scaling-stroke; fill: none; stroke: rgb(44, 160, 44); stroke-opacity: 1; stroke-width: 2px; opacity: 1;\"/></g><g class=\"points\"><path class=\"point\" transform=\"translate(35.89,16.16)\" d=\"M3,0A3,3 0 1,1 0,-3A3,3 0 0,1 3,0Z\" style=\"opacity: 1; stroke-width: 0px; fill: rgb(44, 160, 44); fill-opacity: 1;\"/><path class=\"point\" transform=\"translate(177.19,64.86)\" d=\"M3,0A3,3 0 1,1 0,-3A3,3 0 0,1 3,0Z\" style=\"opacity: 1; stroke-width: 0px; fill: rgb(44, 160, 44); fill-opacity: 1;\"/><path class=\"point\" transform=\"translate(318.5,19.43)\" d=\"M3,0A3,3 0 1,1 0,-3A3,3 0 0,1 3,0Z\" style=\"opacity: 1; stroke-width: 0px; fill: rgb(44, 160, 44); fill-opacity: 1;\"/><path class=\"point\" transform=\"translate(459.81,138.38)\" d=\"M3,0A3,3 0 1,1 0,-3A3,3 0 0,1 3,0Z\" style=\"opacity: 1; stroke-width: 0px; fill: rgb(44, 160, 44); fill-opacity: 1;\"/><path class=\"point\" transform=\"translate(601.11,232.03)\" d=\"M3,0A3,3 0 1,1 0,-3A3,3 0 0,1 3,0Z\" style=\"opacity: 1; stroke-width: 0px; fill: rgb(44, 160, 44); fill-opacity: 1;\"/></g><g class=\"text\"/></g><g class=\"trace scatter trace93d2abb1-d807-4135-8b6e-59a4d1a50e3a\" style=\"stroke-miterlimit: 2; opacity: 0;\"><g class=\"fills\"/><g class=\"errorbars\"/><g class=\"lines\"><path class=\"js-line\" d=\"M35.89,222.21L601.11,222.21\" style=\"vector-effect: non-scaling-stroke; fill: none; stroke: rgb(0, 0, 0); stroke-opacity: 0; stroke-width: 0px; opacity: 1;\"/></g><g class=\"points\"><path class=\"point\" transform=\"translate(35.89,222.21)\" d=\"M3,0A3,3 0 1,1 0,-3A3,3 0 0,1 3,0Z\" style=\"opacity: 1; stroke-width: 0px; fill: rgb(0, 0, 0); fill-opacity: 0;\"/><path class=\"point\" transform=\"translate(177.19,222.21)\" d=\"M3,0A3,3 0 1,1 0,-3A3,3 0 0,1 3,0Z\" style=\"opacity: 1; stroke-width: 0px; fill: rgb(0, 0, 0); fill-opacity: 0;\"/><path class=\"point\" transform=\"translate(318.5,222.21)\" d=\"M3,0A3,3 0 1,1 0,-3A3,3 0 0,1 3,0Z\" style=\"opacity: 1; stroke-width: 0px; fill: rgb(0, 0, 0); fill-opacity: 0;\"/><path class=\"point\" transform=\"translate(459.81,222.21)\" d=\"M3,0A3,3 0 1,1 0,-3A3,3 0 0,1 3,0Z\" style=\"opacity: 1; stroke-width: 0px; fill: rgb(0, 0, 0); fill-opacity: 0;\"/><path class=\"point\" transform=\"translate(601.11,222.21)\" d=\"M3,0A3,3 0 1,1 0,-3A3,3 0 0,1 3,0Z\" style=\"opacity: 1; stroke-width: 0px; fill: rgb(0, 0, 0); fill-opacity: 0;\"/></g><g class=\"text\"/></g></g></g><g class=\"overplot\"/><path class=\"xlines-above crisp\" d=\"M0,0\" style=\"fill: none;\"/><path class=\"ylines-above crisp\" d=\"M0,0\" style=\"fill: none;\"/><g class=\"overlines-above\"/><g class=\"xaxislayer-above\"/><g class=\"yaxislayer-above\"><g class=\"y2tick\"><text text-anchor=\"end\" x=\"82\" y=\"4.199999999999999\" transform=\"translate(0,605.936748971193)\" style=\"font-family: 'Open Sans', verdana, arial, sans-serif; font-size: 12px; fill: rgb(42, 63, 95); fill-opacity: 1; white-space: pre; opacity: 1;\">200</text></g><g class=\"y2tick\"><text text-anchor=\"end\" x=\"82\" y=\"4.199999999999999\" style=\"font-family: 'Open Sans', verdana, arial, sans-serif; font-size: 12px; fill: rgb(42, 63, 95); fill-opacity: 1; white-space: pre; opacity: 1;\" transform=\"translate(0,559.1167489711929)\">200.2</text></g><g class=\"y2tick\"><text text-anchor=\"end\" x=\"82\" y=\"4.199999999999999\" style=\"font-family: 'Open Sans', verdana, arial, sans-serif; font-size: 12px; fill: rgb(42, 63, 95); fill-opacity: 1; white-space: pre; opacity: 1;\" transform=\"translate(0,512.286748971193)\">200.4</text></g><g class=\"y2tick\"><text text-anchor=\"end\" x=\"82\" y=\"4.199999999999999\" style=\"font-family: 'Open Sans', verdana, arial, sans-serif; font-size: 12px; fill: rgb(42, 63, 95); fill-opacity: 1; white-space: pre; opacity: 1;\" transform=\"translate(0,465.466748971193)\">200.6</text></g><g class=\"y2tick\"><text text-anchor=\"end\" x=\"82\" y=\"4.199999999999999\" style=\"font-family: 'Open Sans', verdana, arial, sans-serif; font-size: 12px; fill: rgb(42, 63, 95); fill-opacity: 1; white-space: pre; opacity: 1;\" transform=\"translate(0,418.636748971193)\">200.8</text></g></g><g class=\"overaxes-above\"/></g><g class=\"subplot x3y3\"><g class=\"layer-subplot\"><g class=\"shapelayer\"/><g class=\"imagelayer\"/></g><g class=\"gridlayer\"><g class=\"x3\"><path class=\"x3grid crisp\" transform=\"translate(118.89,0)\" d=\"M0,669.4534979423865v248.18600823045279\" style=\"stroke: rgb(255, 255, 255); stroke-opacity: 1; stroke-width: 1px;\"/><path class=\"x3grid crisp\" transform=\"translate(260.19,0)\" d=\"M0,669.4534979423865v248.18600823045279\" style=\"stroke: rgb(255, 255, 255); stroke-opacity: 1; stroke-width: 1px;\"/><path class=\"x3grid crisp\" transform=\"translate(401.5,0)\" d=\"M0,669.4534979423865v248.18600823045279\" style=\"stroke: rgb(255, 255, 255); stroke-opacity: 1; stroke-width: 1px;\"/><path class=\"x3grid crisp\" transform=\"translate(542.81,0)\" d=\"M0,669.4534979423865v248.18600823045279\" style=\"stroke: rgb(255, 255, 255); stroke-opacity: 1; stroke-width: 1px;\"/><path class=\"x3grid crisp\" transform=\"translate(684.11,0)\" d=\"M0,669.4534979423865v248.18600823045279\" style=\"stroke: rgb(255, 255, 255); stroke-opacity: 1; stroke-width: 1px;\"/></g><g class=\"y3\"><path class=\"y3grid crisp\" transform=\"translate(0,901.4834979423865)\" d=\"M83,0h637\" style=\"stroke: rgb(255, 255, 255); stroke-opacity: 1; stroke-width: 1px;\"/><path class=\"y3grid crisp\" transform=\"translate(0,858.3034979423866)\" d=\"M83,0h637\" style=\"stroke: rgb(255, 255, 255); stroke-opacity: 1; stroke-width: 1px;\"/><path class=\"y3grid crisp\" transform=\"translate(0,815.1334979423866)\" d=\"M83,0h637\" style=\"stroke: rgb(255, 255, 255); stroke-opacity: 1; stroke-width: 1px;\"/><path class=\"y3grid crisp\" transform=\"translate(0,771.9634979423865)\" d=\"M83,0h637\" style=\"stroke: rgb(255, 255, 255); stroke-opacity: 1; stroke-width: 1px;\"/><path class=\"y3grid crisp\" transform=\"translate(0,728.7834979423866)\" d=\"M83,0h637\" style=\"stroke: rgb(255, 255, 255); stroke-opacity: 1; stroke-width: 1px;\"/></g></g><g class=\"zerolinelayer\"><path class=\"y3zl zl crisp\" transform=\"translate(0,685.6134979423865)\" d=\"M83,0h637\" style=\"stroke: rgb(255, 255, 255); stroke-opacity: 1; stroke-width: 2px;\"/></g><path class=\"xlines-below\"/><path class=\"ylines-below\"/><g class=\"overlines-below\"/><g class=\"xaxislayer-below\"/><g class=\"yaxislayer-below\"/><g class=\"overaxes-below\"/><g class=\"plot\" transform=\"translate(83,669.4534979423865)\" clip-path=\"url(#clip65ca99x3y3plot)\"><g class=\"scatterlayer mlayer\"><g class=\"trace scatter tracefed1f463-d097-43ae-a69b-555a0d893be7\" style=\"stroke-miterlimit: 2;\"><g class=\"fills\"><g><path class=\"js-fill\" d=\"M35.89,59.33L177.19,102.51L318.5,111.14L459.81,188.85L601.11,232.03L601.11,16.16L35.89,16.16Z\" style=\"fill: rgb(255, 127, 14); fill-opacity: 0.3; stroke-width: 0;\"/></g></g><g class=\"errorbars\"/><g class=\"lines\"><path class=\"js-line\" d=\"M35.89,16.16L601.11,16.16\" style=\"vector-effect: non-scaling-stroke; fill: none; stroke: rgb(0, 0, 0); stroke-opacity: 0; stroke-width: 0px; opacity: 1;\"/></g><g class=\"points\"><path class=\"point\" transform=\"translate(35.89,16.16)\" d=\"M3,0A3,3 0 1,1 0,-3A3,3 0 0,1 3,0Z\" style=\"opacity: 1; stroke-width: 0px; fill: rgb(0, 0, 0); fill-opacity: 0;\"/><path class=\"point\" transform=\"translate(177.19,16.16)\" d=\"M3,0A3,3 0 1,1 0,-3A3,3 0 0,1 3,0Z\" style=\"opacity: 1; stroke-width: 0px; fill: rgb(0, 0, 0); fill-opacity: 0;\"/><path class=\"point\" transform=\"translate(318.5,16.16)\" d=\"M3,0A3,3 0 1,1 0,-3A3,3 0 0,1 3,0Z\" style=\"opacity: 1; stroke-width: 0px; fill: rgb(0, 0, 0); fill-opacity: 0;\"/><path class=\"point\" transform=\"translate(459.81,16.16)\" d=\"M3,0A3,3 0 1,1 0,-3A3,3 0 0,1 3,0Z\" style=\"opacity: 1; stroke-width: 0px; fill: rgb(0, 0, 0); fill-opacity: 0;\"/><path class=\"point\" transform=\"translate(601.11,16.16)\" d=\"M3,0A3,3 0 1,1 0,-3A3,3 0 0,1 3,0Z\" style=\"opacity: 1; stroke-width: 0px; fill: rgb(0, 0, 0); fill-opacity: 0;\"/></g><g class=\"text\"/></g><g class=\"trace scatter tracecf0b1869-74f2-4f86-98df-db41120b39ba\" style=\"stroke-miterlimit: 2;\"><g class=\"fills\"/><g class=\"errorbars\"/><g class=\"lines\"><path class=\"js-line\" d=\"M35.89,59.33L177.19,102.51L318.5,111.14L459.81,188.85L601.11,232.03\" style=\"vector-effect: non-scaling-stroke; fill: none; stroke: rgb(0, 0, 0); stroke-opacity: 0; stroke-width: 0px; opacity: 1;\"/></g><g class=\"points\"><path class=\"point\" transform=\"translate(35.89,59.33)\" d=\"M3,0A3,3 0 1,1 0,-3A3,3 0 0,1 3,0Z\" style=\"opacity: 1; stroke-width: 0px; fill: rgb(0, 0, 0); fill-opacity: 0;\"/><path class=\"point\" transform=\"translate(177.19,102.51)\" d=\"M3,0A3,3 0 1,1 0,-3A3,3 0 0,1 3,0Z\" style=\"opacity: 1; stroke-width: 0px; fill: rgb(0, 0, 0); fill-opacity: 0;\"/><path class=\"point\" transform=\"translate(318.5,111.14)\" d=\"M3,0A3,3 0 1,1 0,-3A3,3 0 0,1 3,0Z\" style=\"opacity: 1; stroke-width: 0px; fill: rgb(0, 0, 0); fill-opacity: 0;\"/><path class=\"point\" transform=\"translate(459.81,188.85)\" d=\"M3,0A3,3 0 1,1 0,-3A3,3 0 0,1 3,0Z\" style=\"opacity: 1; stroke-width: 0px; fill: rgb(0, 0, 0); fill-opacity: 0;\"/><path class=\"point\" transform=\"translate(601.11,232.03)\" d=\"M3,0A3,3 0 1,1 0,-3A3,3 0 0,1 3,0Z\" style=\"opacity: 1; stroke-width: 0px; fill: rgb(0, 0, 0); fill-opacity: 0;\"/></g><g class=\"text\"/></g><g class=\"trace scatter trace7680633c-ce15-4e72-ac33-32c91412ed91\" style=\"stroke-miterlimit: 2; opacity: 1;\"><g class=\"fills\"/><g class=\"errorbars\"/><g class=\"lines\"><path class=\"js-line\" d=\"M35.89,59.33L177.19,102.51L318.5,111.14L459.81,188.85L601.11,232.03\" style=\"vector-effect: non-scaling-stroke; fill: none; stroke: rgb(23, 190, 207); stroke-opacity: 1; stroke-width: 2px; opacity: 1;\"/></g><g class=\"points\"><path class=\"point\" transform=\"translate(35.89,59.33)\" d=\"M3,0A3,3 0 1,1 0,-3A3,3 0 0,1 3,0Z\" style=\"opacity: 1; stroke-width: 0px; fill: rgb(23, 190, 207); fill-opacity: 1;\"/><path class=\"point\" transform=\"translate(177.19,102.51)\" d=\"M3,0A3,3 0 1,1 0,-3A3,3 0 0,1 3,0Z\" style=\"opacity: 1; stroke-width: 0px; fill: rgb(23, 190, 207); fill-opacity: 1;\"/><path class=\"point\" transform=\"translate(318.5,111.14)\" d=\"M3,0A3,3 0 1,1 0,-3A3,3 0 0,1 3,0Z\" style=\"opacity: 1; stroke-width: 0px; fill: rgb(23, 190, 207); fill-opacity: 1;\"/><path class=\"point\" transform=\"translate(459.81,188.85)\" d=\"M3,0A3,3 0 1,1 0,-3A3,3 0 0,1 3,0Z\" style=\"opacity: 1; stroke-width: 0px; fill: rgb(23, 190, 207); fill-opacity: 1;\"/><path class=\"point\" transform=\"translate(601.11,232.03)\" d=\"M3,0A3,3 0 1,1 0,-3A3,3 0 0,1 3,0Z\" style=\"opacity: 1; stroke-width: 0px; fill: rgb(23, 190, 207); fill-opacity: 1;\"/></g><g class=\"text\"/></g><g class=\"trace scatter tracecc4385c9-1415-45e4-878f-a689dd2e42fb\" style=\"stroke-miterlimit: 2; opacity: 0;\"><g class=\"fills\"/><g class=\"errorbars\"/><g class=\"lines\"><path class=\"js-line\" d=\"M35.89,16.16L601.11,16.16\" style=\"vector-effect: non-scaling-stroke; fill: none; stroke: rgb(0, 0, 0); stroke-opacity: 0; stroke-width: 0px; opacity: 1;\"/></g><g class=\"points\"><path class=\"point\" transform=\"translate(35.89,16.16)\" d=\"M3,0A3,3 0 1,1 0,-3A3,3 0 0,1 3,0Z\" style=\"opacity: 1; stroke-width: 0px; fill: rgb(0, 0, 0); fill-opacity: 0;\"/><path class=\"point\" transform=\"translate(177.19,16.16)\" d=\"M3,0A3,3 0 1,1 0,-3A3,3 0 0,1 3,0Z\" style=\"opacity: 1; stroke-width: 0px; fill: rgb(0, 0, 0); fill-opacity: 0;\"/><path class=\"point\" transform=\"translate(318.5,16.16)\" d=\"M3,0A3,3 0 1,1 0,-3A3,3 0 0,1 3,0Z\" style=\"opacity: 1; stroke-width: 0px; fill: rgb(0, 0, 0); fill-opacity: 0;\"/><path class=\"point\" transform=\"translate(459.81,16.16)\" d=\"M3,0A3,3 0 1,1 0,-3A3,3 0 0,1 3,0Z\" style=\"opacity: 1; stroke-width: 0px; fill: rgb(0, 0, 0); fill-opacity: 0;\"/><path class=\"point\" transform=\"translate(601.11,16.16)\" d=\"M3,0A3,3 0 1,1 0,-3A3,3 0 0,1 3,0Z\" style=\"opacity: 1; stroke-width: 0px; fill: rgb(0, 0, 0); fill-opacity: 0;\"/></g><g class=\"text\"/></g></g></g><g class=\"overplot\"/><path class=\"xlines-above crisp\" d=\"M0,0\" style=\"fill: none;\"/><path class=\"ylines-above crisp\" d=\"M0,0\" style=\"fill: none;\"/><g class=\"overlines-above\"/><g class=\"xaxislayer-above\"/><g class=\"yaxislayer-above\"><g class=\"y3tick\"><text text-anchor=\"end\" x=\"82\" y=\"4.199999999999999\" transform=\"translate(0,901.4834979423865)\" style=\"font-family: 'Open Sans', verdana, arial, sans-serif; font-size: 12px; fill: rgb(42, 63, 95); fill-opacity: 1; white-space: pre; opacity: 1;\">−5</text></g><g class=\"y3tick\"><text text-anchor=\"end\" x=\"82\" y=\"4.199999999999999\" style=\"font-family: 'Open Sans', verdana, arial, sans-serif; font-size: 12px; fill: rgb(42, 63, 95); fill-opacity: 1; white-space: pre; opacity: 1;\" transform=\"translate(0,858.3034979423866)\">−4</text></g><g class=\"y3tick\"><text text-anchor=\"end\" x=\"82\" y=\"4.199999999999999\" style=\"font-family: 'Open Sans', verdana, arial, sans-serif; font-size: 12px; fill: rgb(42, 63, 95); fill-opacity: 1; white-space: pre; opacity: 1;\" transform=\"translate(0,815.1334979423866)\">−3</text></g><g class=\"y3tick\"><text text-anchor=\"end\" x=\"82\" y=\"4.199999999999999\" style=\"font-family: 'Open Sans', verdana, arial, sans-serif; font-size: 12px; fill: rgb(42, 63, 95); fill-opacity: 1; white-space: pre; opacity: 1;\" transform=\"translate(0,771.9634979423865)\">−2</text></g><g class=\"y3tick\"><text text-anchor=\"end\" x=\"82\" y=\"4.199999999999999\" style=\"font-family: 'Open Sans', verdana, arial, sans-serif; font-size: 12px; fill: rgb(42, 63, 95); fill-opacity: 1; white-space: pre; opacity: 1;\" transform=\"translate(0,728.7834979423866)\">−1</text></g><g class=\"y3tick\"><text text-anchor=\"end\" x=\"82\" y=\"4.199999999999999\" style=\"font-family: 'Open Sans', verdana, arial, sans-serif; font-size: 12px; fill: rgb(42, 63, 95); fill-opacity: 1; white-space: pre; opacity: 1;\" transform=\"translate(0,685.6134979423865)\">0</text></g></g><g class=\"overaxes-above\"/></g><g class=\"subplot x4y4\"><g class=\"layer-subplot\"><g class=\"shapelayer\"/><g class=\"imagelayer\"/></g><g class=\"gridlayer\"><g class=\"x4\"><path class=\"x4grid crisp\" transform=\"translate(118.89,0)\" d=\"M0,955.1802469135802v248.18600823045279\" style=\"stroke: rgb(255, 255, 255); stroke-opacity: 1; stroke-width: 1px;\"/><path class=\"x4grid crisp\" transform=\"translate(260.19,0)\" d=\"M0,955.1802469135802v248.18600823045279\" style=\"stroke: rgb(255, 255, 255); stroke-opacity: 1; stroke-width: 1px;\"/><path class=\"x4grid crisp\" transform=\"translate(401.5,0)\" d=\"M0,955.1802469135802v248.18600823045279\" style=\"stroke: rgb(255, 255, 255); stroke-opacity: 1; stroke-width: 1px;\"/><path class=\"x4grid crisp\" transform=\"translate(542.81,0)\" d=\"M0,955.1802469135802v248.18600823045279\" style=\"stroke: rgb(255, 255, 255); stroke-opacity: 1; stroke-width: 1px;\"/><path class=\"x4grid crisp\" transform=\"translate(684.11,0)\" d=\"M0,955.1802469135802v248.18600823045279\" style=\"stroke: rgb(255, 255, 255); stroke-opacity: 1; stroke-width: 1px;\"/></g><g class=\"y4\"><path class=\"y4grid crisp\" transform=\"translate(0,1185.41024691358)\" d=\"M83,0h637\" style=\"stroke: rgb(255, 255, 255); stroke-opacity: 1; stroke-width: 1px;\"/><path class=\"y4grid crisp\" transform=\"translate(0,1142.6002469135801)\" d=\"M83,0h637\" style=\"stroke: rgb(255, 255, 255); stroke-opacity: 1; stroke-width: 1px;\"/><path class=\"y4grid crisp\" transform=\"translate(0,1099.7802469135802)\" d=\"M83,0h637\" style=\"stroke: rgb(255, 255, 255); stroke-opacity: 1; stroke-width: 1px;\"/><path class=\"y4grid crisp\" transform=\"translate(0,1056.9702469135802)\" d=\"M83,0h637\" style=\"stroke: rgb(255, 255, 255); stroke-opacity: 1; stroke-width: 1px;\"/><path class=\"y4grid crisp\" transform=\"translate(0,1014.1502469135802)\" d=\"M83,0h637\" style=\"stroke: rgb(255, 255, 255); stroke-opacity: 1; stroke-width: 1px;\"/><path class=\"y4grid crisp\" transform=\"translate(0,971.3402469135801)\" d=\"M83,0h637\" style=\"stroke: rgb(255, 255, 255); stroke-opacity: 1; stroke-width: 1px;\"/></g></g><g class=\"zerolinelayer\"/><path class=\"xlines-below\"/><path class=\"ylines-below\"/><g class=\"overlines-below\"/><g class=\"xaxislayer-below\"/><g class=\"yaxislayer-below\"/><g class=\"overaxes-below\"/><g class=\"plot\" transform=\"translate(83,955.1802469135802)\" clip-path=\"url(#clip65ca99x4y4plot)\"><g class=\"scatterlayer mlayer\"><g class=\"trace scatter trace8deacf3d-5edc-4872-8570-308df97e5a99\" style=\"stroke-miterlimit: 2;\"><g class=\"fills\"><g><path class=\"js-fill\" d=\"M35.89,21.29L177.19,73.01L318.5,73.27L459.81,172.09L601.11,232.03L601.11,16.16L35.89,16.16Z\" style=\"fill: rgb(255, 0, 0); fill-opacity: 0.3; stroke-width: 0;\"/></g></g><g class=\"errorbars\"/><g class=\"lines\"><path class=\"js-line\" d=\"M35.89,16.16L601.11,16.16\" style=\"vector-effect: non-scaling-stroke; fill: none; stroke: rgb(0, 0, 0); stroke-opacity: 0; stroke-width: 0px; opacity: 1;\"/></g><g class=\"points\"><path class=\"point\" transform=\"translate(35.89,16.16)\" d=\"M3,0A3,3 0 1,1 0,-3A3,3 0 0,1 3,0Z\" style=\"opacity: 1; stroke-width: 0px; fill: rgb(0, 0, 0); fill-opacity: 0;\"/><path class=\"point\" transform=\"translate(177.19,16.16)\" d=\"M3,0A3,3 0 1,1 0,-3A3,3 0 0,1 3,0Z\" style=\"opacity: 1; stroke-width: 0px; fill: rgb(0, 0, 0); fill-opacity: 0;\"/><path class=\"point\" transform=\"translate(318.5,16.16)\" d=\"M3,0A3,3 0 1,1 0,-3A3,3 0 0,1 3,0Z\" style=\"opacity: 1; stroke-width: 0px; fill: rgb(0, 0, 0); fill-opacity: 0;\"/><path class=\"point\" transform=\"translate(459.81,16.16)\" d=\"M3,0A3,3 0 1,1 0,-3A3,3 0 0,1 3,0Z\" style=\"opacity: 1; stroke-width: 0px; fill: rgb(0, 0, 0); fill-opacity: 0;\"/><path class=\"point\" transform=\"translate(601.11,16.16)\" d=\"M3,0A3,3 0 1,1 0,-3A3,3 0 0,1 3,0Z\" style=\"opacity: 1; stroke-width: 0px; fill: rgb(0, 0, 0); fill-opacity: 0;\"/></g><g class=\"text\"/></g><g class=\"trace scatter trace2c6f246c-a398-4514-ba67-1ebcceaddab1\" style=\"stroke-miterlimit: 2;\"><g class=\"fills\"/><g class=\"errorbars\"/><g class=\"lines\"><path class=\"js-line\" d=\"M35.89,21.29L177.19,73.01L318.5,73.27L459.81,172.09L601.11,232.03\" style=\"vector-effect: non-scaling-stroke; fill: none; stroke: rgb(0, 0, 0); stroke-opacity: 0; stroke-width: 0px; opacity: 1;\"/></g><g class=\"points\"><path class=\"point\" transform=\"translate(35.89,21.29)\" d=\"M3,0A3,3 0 1,1 0,-3A3,3 0 0,1 3,0Z\" style=\"opacity: 1; stroke-width: 0px; fill: rgb(0, 0, 0); fill-opacity: 0;\"/><path class=\"point\" transform=\"translate(177.19,73.01)\" d=\"M3,0A3,3 0 1,1 0,-3A3,3 0 0,1 3,0Z\" style=\"opacity: 1; stroke-width: 0px; fill: rgb(0, 0, 0); fill-opacity: 0;\"/><path class=\"point\" transform=\"translate(318.5,73.27)\" d=\"M3,0A3,3 0 1,1 0,-3A3,3 0 0,1 3,0Z\" style=\"opacity: 1; stroke-width: 0px; fill: rgb(0, 0, 0); fill-opacity: 0;\"/><path class=\"point\" transform=\"translate(459.81,172.09)\" d=\"M3,0A3,3 0 1,1 0,-3A3,3 0 0,1 3,0Z\" style=\"opacity: 1; stroke-width: 0px; fill: rgb(0, 0, 0); fill-opacity: 0;\"/><path class=\"point\" transform=\"translate(601.11,232.03)\" d=\"M3,0A3,3 0 1,1 0,-3A3,3 0 0,1 3,0Z\" style=\"opacity: 1; stroke-width: 0px; fill: rgb(0, 0, 0); fill-opacity: 0;\"/></g><g class=\"text\"/></g><g class=\"trace scatter trace775c00a0-5482-4b74-8ae6-7c107e253eb5\" style=\"stroke-miterlimit: 2; opacity: 1;\"><g class=\"fills\"/><g class=\"errorbars\"/><g class=\"lines\"><path class=\"js-line\" d=\"M35.89,21.29L177.19,73.01L318.5,73.27L459.81,172.09L601.11,232.03\" style=\"vector-effect: non-scaling-stroke; fill: none; stroke: rgb(148, 103, 189); stroke-opacity: 1; stroke-width: 2px; opacity: 1;\"/></g><g class=\"points\"><path class=\"point\" transform=\"translate(35.89,21.29)\" d=\"M3,0A3,3 0 1,1 0,-3A3,3 0 0,1 3,0Z\" style=\"opacity: 1; stroke-width: 0px; fill: rgb(148, 103, 189); fill-opacity: 1;\"/><path class=\"point\" transform=\"translate(177.19,73.01)\" d=\"M3,0A3,3 0 1,1 0,-3A3,3 0 0,1 3,0Z\" style=\"opacity: 1; stroke-width: 0px; fill: rgb(148, 103, 189); fill-opacity: 1;\"/><path class=\"point\" transform=\"translate(318.5,73.27)\" d=\"M3,0A3,3 0 1,1 0,-3A3,3 0 0,1 3,0Z\" style=\"opacity: 1; stroke-width: 0px; fill: rgb(148, 103, 189); fill-opacity: 1;\"/><path class=\"point\" transform=\"translate(459.81,172.09)\" d=\"M3,0A3,3 0 1,1 0,-3A3,3 0 0,1 3,0Z\" style=\"opacity: 1; stroke-width: 0px; fill: rgb(148, 103, 189); fill-opacity: 1;\"/><path class=\"point\" transform=\"translate(601.11,232.03)\" d=\"M3,0A3,3 0 1,1 0,-3A3,3 0 0,1 3,0Z\" style=\"opacity: 1; stroke-width: 0px; fill: rgb(148, 103, 189); fill-opacity: 1;\"/></g><g class=\"text\"/></g><g class=\"trace scatter traced4c543ad-93c0-4752-98d2-c2b5445c935b\" style=\"stroke-miterlimit: 2; opacity: 0;\"><g class=\"fills\"/><g class=\"errorbars\"/><g class=\"lines\"><path class=\"js-line\" d=\"M35.89,16.16L601.11,16.16\" style=\"vector-effect: non-scaling-stroke; fill: none; stroke: rgb(0, 0, 0); stroke-opacity: 0; stroke-width: 0px; opacity: 1;\"/></g><g class=\"points\"><path class=\"point\" transform=\"translate(35.89,16.16)\" d=\"M3,0A3,3 0 1,1 0,-3A3,3 0 0,1 3,0Z\" style=\"opacity: 1; stroke-width: 0px; fill: rgb(0, 0, 0); fill-opacity: 0;\"/><path class=\"point\" transform=\"translate(177.19,16.16)\" d=\"M3,0A3,3 0 1,1 0,-3A3,3 0 0,1 3,0Z\" style=\"opacity: 1; stroke-width: 0px; fill: rgb(0, 0, 0); fill-opacity: 0;\"/><path class=\"point\" transform=\"translate(318.5,16.16)\" d=\"M3,0A3,3 0 1,1 0,-3A3,3 0 0,1 3,0Z\" style=\"opacity: 1; stroke-width: 0px; fill: rgb(0, 0, 0); fill-opacity: 0;\"/><path class=\"point\" transform=\"translate(459.81,16.16)\" d=\"M3,0A3,3 0 1,1 0,-3A3,3 0 0,1 3,0Z\" style=\"opacity: 1; stroke-width: 0px; fill: rgb(0, 0, 0); fill-opacity: 0;\"/><path class=\"point\" transform=\"translate(601.11,16.16)\" d=\"M3,0A3,3 0 1,1 0,-3A3,3 0 0,1 3,0Z\" style=\"opacity: 1; stroke-width: 0px; fill: rgb(0, 0, 0); fill-opacity: 0;\"/></g><g class=\"text\"/></g></g></g><g class=\"overplot\"/><path class=\"xlines-above crisp\" d=\"M0,0\" style=\"fill: none;\"/><path class=\"ylines-above crisp\" d=\"M0,0\" style=\"fill: none;\"/><g class=\"overlines-above\"/><g class=\"xaxislayer-above\"/><g class=\"yaxislayer-above\"><g class=\"y4tick\"><text text-anchor=\"end\" x=\"82\" y=\"4.199999999999999\" transform=\"translate(0,1185.41024691358)\" style=\"font-family: 'Open Sans', verdana, arial, sans-serif; font-size: 12px; fill: rgb(42, 63, 95); fill-opacity: 1; white-space: pre; opacity: 1;\">195</text></g><g class=\"y4tick\"><text text-anchor=\"end\" x=\"82\" y=\"4.199999999999999\" style=\"font-family: 'Open Sans', verdana, arial, sans-serif; font-size: 12px; fill: rgb(42, 63, 95); fill-opacity: 1; white-space: pre; opacity: 1;\" transform=\"translate(0,1142.6002469135801)\">196</text></g><g class=\"y4tick\"><text text-anchor=\"end\" x=\"82\" y=\"4.199999999999999\" style=\"font-family: 'Open Sans', verdana, arial, sans-serif; font-size: 12px; fill: rgb(42, 63, 95); fill-opacity: 1; white-space: pre; opacity: 1;\" transform=\"translate(0,1099.7802469135802)\">197</text></g><g class=\"y4tick\"><text text-anchor=\"end\" x=\"82\" y=\"4.199999999999999\" style=\"font-family: 'Open Sans', verdana, arial, sans-serif; font-size: 12px; fill: rgb(42, 63, 95); fill-opacity: 1; white-space: pre; opacity: 1;\" transform=\"translate(0,1056.9702469135802)\">198</text></g><g class=\"y4tick\"><text text-anchor=\"end\" x=\"82\" y=\"4.199999999999999\" style=\"font-family: 'Open Sans', verdana, arial, sans-serif; font-size: 12px; fill: rgb(42, 63, 95); fill-opacity: 1; white-space: pre; opacity: 1;\" transform=\"translate(0,1014.1502469135802)\">199</text></g><g class=\"y4tick\"><text text-anchor=\"end\" x=\"82\" y=\"4.199999999999999\" style=\"font-family: 'Open Sans', verdana, arial, sans-serif; font-size: 12px; fill: rgb(42, 63, 95); fill-opacity: 1; white-space: pre; opacity: 1;\" transform=\"translate(0,971.3402469135801)\">200</text></g></g><g class=\"overaxes-above\"/></g><g class=\"subplot x5y5\"><g class=\"layer-subplot\"><g class=\"shapelayer\"/><g class=\"imagelayer\"/></g><g class=\"gridlayer\"><g class=\"x5\"><path class=\"x5grid crisp\" transform=\"translate(118.89,0)\" d=\"M0,1240.9069958847736v248.18600823045279\" style=\"stroke: rgb(255, 255, 255); stroke-opacity: 1; stroke-width: 1px;\"/><path class=\"x5grid crisp\" transform=\"translate(260.19,0)\" d=\"M0,1240.9069958847736v248.18600823045279\" style=\"stroke: rgb(255, 255, 255); stroke-opacity: 1; stroke-width: 1px;\"/><path class=\"x5grid crisp\" transform=\"translate(401.5,0)\" d=\"M0,1240.9069958847736v248.18600823045279\" style=\"stroke: rgb(255, 255, 255); stroke-opacity: 1; stroke-width: 1px;\"/><path class=\"x5grid crisp\" transform=\"translate(542.81,0)\" d=\"M0,1240.9069958847736v248.18600823045279\" style=\"stroke: rgb(255, 255, 255); stroke-opacity: 1; stroke-width: 1px;\"/><path class=\"x5grid crisp\" transform=\"translate(684.11,0)\" d=\"M0,1240.9069958847736v248.18600823045279\" style=\"stroke: rgb(255, 255, 255); stroke-opacity: 1; stroke-width: 1px;\"/></g><g class=\"y5\"><path class=\"y5grid crisp\" transform=\"translate(0,1470.9769958847735)\" d=\"M83,0h637\" style=\"stroke: rgb(255, 255, 255); stroke-opacity: 1; stroke-width: 1px;\"/><path class=\"y5grid crisp\" transform=\"translate(0,1432.0769958847736)\" d=\"M83,0h637\" style=\"stroke: rgb(255, 255, 255); stroke-opacity: 1; stroke-width: 1px;\"/><path class=\"y5grid crisp\" transform=\"translate(0,1393.1869958847735)\" d=\"M83,0h637\" style=\"stroke: rgb(255, 255, 255); stroke-opacity: 1; stroke-width: 1px;\"/><path class=\"y5grid crisp\" transform=\"translate(0,1354.2969958847737)\" d=\"M83,0h637\" style=\"stroke: rgb(255, 255, 255); stroke-opacity: 1; stroke-width: 1px;\"/><path class=\"y5grid crisp\" transform=\"translate(0,1315.4069958847736)\" d=\"M83,0h637\" style=\"stroke: rgb(255, 255, 255); stroke-opacity: 1; stroke-width: 1px;\"/><path class=\"y5grid crisp\" transform=\"translate(0,1276.5169958847735)\" d=\"M83,0h637\" style=\"stroke: rgb(255, 255, 255); stroke-opacity: 1; stroke-width: 1px;\"/></g></g><g class=\"zerolinelayer\"/><path class=\"xlines-below\"/><path class=\"ylines-below\"/><g class=\"overlines-below\"/><g class=\"xaxislayer-below\"/><g class=\"yaxislayer-below\"/><g class=\"overaxes-below\"/><g class=\"plot\" transform=\"translate(83,1240.9069958847736)\" clip-path=\"url(#clip65ca99x5y5plot)\"><g class=\"scatterlayer mlayer\"><g class=\"trace scatter trace874b6e7c-b528-4c20-9009-a7317988e04a\" style=\"stroke-miterlimit: 2; opacity: 1;\"><g class=\"fills\"/><g class=\"errorbars\"/><g class=\"lines\"><path class=\"js-line\" d=\"M35.89,230.07L177.19,191.17L318.5,171.73L459.81,74.5L601.11,16.16\" style=\"vector-effect: non-scaling-stroke; fill: none; stroke: rgb(127, 127, 127); stroke-opacity: 1; stroke-width: 2px; opacity: 1;\"/></g><g class=\"points\"><path class=\"point\" transform=\"translate(35.89,230.07)\" d=\"M3,0A3,3 0 1,1 0,-3A3,3 0 0,1 3,0Z\" style=\"opacity: 1; stroke-width: 0px; fill: rgb(127, 127, 127); fill-opacity: 1;\"/><path class=\"point\" transform=\"translate(177.19,191.17)\" d=\"M3,0A3,3 0 1,1 0,-3A3,3 0 0,1 3,0Z\" style=\"opacity: 1; stroke-width: 0px; fill: rgb(127, 127, 127); fill-opacity: 1;\"/><path class=\"point\" transform=\"translate(318.5,171.73)\" d=\"M3,0A3,3 0 1,1 0,-3A3,3 0 0,1 3,0Z\" style=\"opacity: 1; stroke-width: 0px; fill: rgb(127, 127, 127); fill-opacity: 1;\"/><path class=\"point\" transform=\"translate(459.81,74.5)\" d=\"M3,0A3,3 0 1,1 0,-3A3,3 0 0,1 3,0Z\" style=\"opacity: 1; stroke-width: 0px; fill: rgb(127, 127, 127); fill-opacity: 1;\"/><path class=\"point\" transform=\"translate(601.11,16.16)\" d=\"M3,0A3,3 0 1,1 0,-3A3,3 0 0,1 3,0Z\" style=\"opacity: 1; stroke-width: 0px; fill: rgb(127, 127, 127); fill-opacity: 1;\"/></g><g class=\"text\"/></g><g class=\"trace scatter tracecc99d64d-4a32-4be9-9954-8819a2852dcf\" style=\"stroke-miterlimit: 2;\"><g class=\"fills\"><g><path class=\"js-fill\" d=\"M35.89,230.11L601.11,232.03L601.11,230.07L35.89,230.07Z\" style=\"fill: rgb(255, 0, 0); fill-opacity: 0.3; stroke-width: 0;\"/></g></g><g class=\"errorbars\"/><g class=\"lines\"><path class=\"js-line\" d=\"M35.89,230.07L601.11,230.07\" style=\"vector-effect: non-scaling-stroke; fill: none; stroke: rgb(0, 0, 0); stroke-opacity: 0; stroke-width: 0px; opacity: 1;\"/></g><g class=\"points\"><path class=\"point\" transform=\"translate(35.89,230.07)\" d=\"M3,0A3,3 0 1,1 0,-3A3,3 0 0,1 3,0Z\" style=\"opacity: 1; stroke-width: 0px; fill: rgb(0, 0, 0); fill-opacity: 0;\"/><path class=\"point\" transform=\"translate(177.19,230.07)\" d=\"M3,0A3,3 0 1,1 0,-3A3,3 0 0,1 3,0Z\" style=\"opacity: 1; stroke-width: 0px; fill: rgb(0, 0, 0); fill-opacity: 0;\"/><path class=\"point\" transform=\"translate(318.5,230.07)\" d=\"M3,0A3,3 0 1,1 0,-3A3,3 0 0,1 3,0Z\" style=\"opacity: 1; stroke-width: 0px; fill: rgb(0, 0, 0); fill-opacity: 0;\"/><path class=\"point\" transform=\"translate(459.81,230.07)\" d=\"M3,0A3,3 0 1,1 0,-3A3,3 0 0,1 3,0Z\" style=\"opacity: 1; stroke-width: 0px; fill: rgb(0, 0, 0); fill-opacity: 0;\"/><path class=\"point\" transform=\"translate(601.11,230.07)\" d=\"M3,0A3,3 0 1,1 0,-3A3,3 0 0,1 3,0Z\" style=\"opacity: 1; stroke-width: 0px; fill: rgb(0, 0, 0); fill-opacity: 0;\"/></g><g class=\"text\"/></g><g class=\"trace scatter trace90a2aa87-c500-451e-ba20-938901b517c7\" style=\"stroke-miterlimit: 2;\"><g class=\"fills\"/><g class=\"errorbars\"/><g class=\"lines\"><path class=\"js-line\" d=\"M35.89,230.11L601.11,232.03\" style=\"vector-effect: non-scaling-stroke; fill: none; stroke: rgb(0, 0, 0); stroke-opacity: 0; stroke-width: 0px; opacity: 1;\"/></g><g class=\"points\"><path class=\"point\" transform=\"translate(35.89,230.11)\" d=\"M3,0A3,3 0 1,1 0,-3A3,3 0 0,1 3,0Z\" style=\"opacity: 1; stroke-width: 0px; fill: rgb(0, 0, 0); fill-opacity: 0;\"/><path class=\"point\" transform=\"translate(177.19,230.58)\" d=\"M3,0A3,3 0 1,1 0,-3A3,3 0 0,1 3,0Z\" style=\"opacity: 1; stroke-width: 0px; fill: rgb(0, 0, 0); fill-opacity: 0;\"/><path class=\"point\" transform=\"translate(318.5,230.58)\" d=\"M3,0A3,3 0 1,1 0,-3A3,3 0 0,1 3,0Z\" style=\"opacity: 1; stroke-width: 0px; fill: rgb(0, 0, 0); fill-opacity: 0;\"/><path class=\"point\" transform=\"translate(459.81,231.48)\" d=\"M3,0A3,3 0 1,1 0,-3A3,3 0 0,1 3,0Z\" style=\"opacity: 1; stroke-width: 0px; fill: rgb(0, 0, 0); fill-opacity: 0;\"/><path class=\"point\" transform=\"translate(601.11,232.03)\" d=\"M3,0A3,3 0 1,1 0,-3A3,3 0 0,1 3,0Z\" style=\"opacity: 1; stroke-width: 0px; fill: rgb(0, 0, 0); fill-opacity: 0;\"/></g><g class=\"text\"/></g><g class=\"trace scatter trace69e04ffe-e295-43a7-ba4d-ea11d8798044\" style=\"stroke-miterlimit: 2; opacity: 1;\"><g class=\"fills\"/><g class=\"errorbars\"/><g class=\"lines\"><path class=\"js-line\" d=\"M35.89,230.11L601.11,232.03\" style=\"vector-effect: non-scaling-stroke; fill: none; stroke: rgb(148, 103, 189); stroke-opacity: 1; stroke-width: 2px; opacity: 1;\"/></g><g class=\"points\"><path class=\"point\" transform=\"translate(35.89,230.11)\" d=\"M3,0A3,3 0 1,1 0,-3A3,3 0 0,1 3,0Z\" style=\"opacity: 1; stroke-width: 0px; fill: rgb(148, 103, 189); fill-opacity: 1;\"/><path class=\"point\" transform=\"translate(177.19,230.58)\" d=\"M3,0A3,3 0 1,1 0,-3A3,3 0 0,1 3,0Z\" style=\"opacity: 1; stroke-width: 0px; fill: rgb(148, 103, 189); fill-opacity: 1;\"/><path class=\"point\" transform=\"translate(318.5,230.58)\" d=\"M3,0A3,3 0 1,1 0,-3A3,3 0 0,1 3,0Z\" style=\"opacity: 1; stroke-width: 0px; fill: rgb(148, 103, 189); fill-opacity: 1;\"/><path class=\"point\" transform=\"translate(459.81,231.48)\" d=\"M3,0A3,3 0 1,1 0,-3A3,3 0 0,1 3,0Z\" style=\"opacity: 1; stroke-width: 0px; fill: rgb(148, 103, 189); fill-opacity: 1;\"/><path class=\"point\" transform=\"translate(601.11,232.03)\" d=\"M3,0A3,3 0 1,1 0,-3A3,3 0 0,1 3,0Z\" style=\"opacity: 1; stroke-width: 0px; fill: rgb(148, 103, 189); fill-opacity: 1;\"/></g><g class=\"text\"/></g><g class=\"trace scatter tracee5b9065e-0209-4f45-a037-f1a5b8ad3cf9\" style=\"stroke-miterlimit: 2; opacity: 0;\"><g class=\"fills\"/><g class=\"errorbars\"/><g class=\"lines\"><path class=\"js-line\" d=\"M35.89,230.07L601.11,230.07\" style=\"vector-effect: non-scaling-stroke; fill: none; stroke: rgb(0, 0, 0); stroke-opacity: 0; stroke-width: 0px; opacity: 1;\"/></g><g class=\"points\"><path class=\"point\" transform=\"translate(35.89,230.07)\" d=\"M3,0A3,3 0 1,1 0,-3A3,3 0 0,1 3,0Z\" style=\"opacity: 1; stroke-width: 0px; fill: rgb(0, 0, 0); fill-opacity: 0;\"/><path class=\"point\" transform=\"translate(177.19,230.07)\" d=\"M3,0A3,3 0 1,1 0,-3A3,3 0 0,1 3,0Z\" style=\"opacity: 1; stroke-width: 0px; fill: rgb(0, 0, 0); fill-opacity: 0;\"/><path class=\"point\" transform=\"translate(318.5,230.07)\" d=\"M3,0A3,3 0 1,1 0,-3A3,3 0 0,1 3,0Z\" style=\"opacity: 1; stroke-width: 0px; fill: rgb(0, 0, 0); fill-opacity: 0;\"/><path class=\"point\" transform=\"translate(459.81,230.07)\" d=\"M3,0A3,3 0 1,1 0,-3A3,3 0 0,1 3,0Z\" style=\"opacity: 1; stroke-width: 0px; fill: rgb(0, 0, 0); fill-opacity: 0;\"/><path class=\"point\" transform=\"translate(601.11,230.07)\" d=\"M3,0A3,3 0 1,1 0,-3A3,3 0 0,1 3,0Z\" style=\"opacity: 1; stroke-width: 0px; fill: rgb(0, 0, 0); fill-opacity: 0;\"/></g><g class=\"text\"/></g></g></g><g class=\"overplot\"/><path class=\"xlines-above crisp\" d=\"M0,0\" style=\"fill: none;\"/><path class=\"ylines-above crisp\" d=\"M0,0\" style=\"fill: none;\"/><g class=\"overlines-above\"/><g class=\"xaxislayer-above\"/><g class=\"yaxislayer-above\"><g class=\"y5tick\"><text text-anchor=\"end\" x=\"82\" y=\"4.199999999999999\" transform=\"translate(0,1470.9769958847735)\" style=\"font-family: 'Open Sans', verdana, arial, sans-serif; font-size: 12px; fill: rgb(42, 63, 95); fill-opacity: 1; white-space: pre; opacity: 1;\">1</text></g><g class=\"y5tick\"><text text-anchor=\"end\" x=\"82\" y=\"4.199999999999999\" style=\"font-family: 'Open Sans', verdana, arial, sans-serif; font-size: 12px; fill: rgb(42, 63, 95); fill-opacity: 1; white-space: pre; opacity: 1;\" transform=\"translate(0,1432.0769958847736)\">1.5</text></g><g class=\"y5tick\"><text text-anchor=\"end\" x=\"82\" y=\"4.199999999999999\" style=\"font-family: 'Open Sans', verdana, arial, sans-serif; font-size: 12px; fill: rgb(42, 63, 95); fill-opacity: 1; white-space: pre; opacity: 1;\" transform=\"translate(0,1393.1869958847735)\">2</text></g><g class=\"y5tick\"><text text-anchor=\"end\" x=\"82\" y=\"4.199999999999999\" style=\"font-family: 'Open Sans', verdana, arial, sans-serif; font-size: 12px; fill: rgb(42, 63, 95); fill-opacity: 1; white-space: pre; opacity: 1;\" transform=\"translate(0,1354.2969958847737)\">2.5</text></g><g class=\"y5tick\"><text text-anchor=\"end\" x=\"82\" y=\"4.199999999999999\" style=\"font-family: 'Open Sans', verdana, arial, sans-serif; font-size: 12px; fill: rgb(42, 63, 95); fill-opacity: 1; white-space: pre; opacity: 1;\" transform=\"translate(0,1315.4069958847736)\">3</text></g><g class=\"y5tick\"><text text-anchor=\"end\" x=\"82\" y=\"4.199999999999999\" style=\"font-family: 'Open Sans', verdana, arial, sans-serif; font-size: 12px; fill: rgb(42, 63, 95); fill-opacity: 1; white-space: pre; opacity: 1;\" transform=\"translate(0,1276.5169958847735)\">3.5</text></g></g><g class=\"overaxes-above\"/></g><g class=\"subplot x6y6\"><g class=\"layer-subplot\"><g class=\"shapelayer\"/><g class=\"imagelayer\"/></g><g class=\"gridlayer\"><g class=\"x6\"><path class=\"x6grid crisp\" transform=\"translate(118.89,0)\" d=\"M0,1526.633744855967v248.18600823045264\" style=\"stroke: rgb(255, 255, 255); stroke-opacity: 1; stroke-width: 1px;\"/><path class=\"x6grid crisp\" transform=\"translate(260.19,0)\" d=\"M0,1526.633744855967v248.18600823045264\" style=\"stroke: rgb(255, 255, 255); stroke-opacity: 1; stroke-width: 1px;\"/><path class=\"x6grid crisp\" transform=\"translate(401.5,0)\" d=\"M0,1526.633744855967v248.18600823045264\" style=\"stroke: rgb(255, 255, 255); stroke-opacity: 1; stroke-width: 1px;\"/><path class=\"x6grid crisp\" transform=\"translate(542.81,0)\" d=\"M0,1526.633744855967v248.18600823045264\" style=\"stroke: rgb(255, 255, 255); stroke-opacity: 1; stroke-width: 1px;\"/><path class=\"x6grid crisp\" transform=\"translate(684.11,0)\" d=\"M0,1526.633744855967v248.18600823045264\" style=\"stroke: rgb(255, 255, 255); stroke-opacity: 1; stroke-width: 1px;\"/></g><g class=\"y6\"><path class=\"y6grid crisp\" transform=\"translate(0,1756.203744855967)\" d=\"M83,0h637\" style=\"stroke: rgb(255, 255, 255); stroke-opacity: 1; stroke-width: 1px;\"/><path class=\"y6grid crisp\" transform=\"translate(0,1712.603744855967)\" d=\"M83,0h637\" style=\"stroke: rgb(255, 255, 255); stroke-opacity: 1; stroke-width: 1px;\"/><path class=\"y6grid crisp\" transform=\"translate(0,1669.003744855967)\" d=\"M83,0h637\" style=\"stroke: rgb(255, 255, 255); stroke-opacity: 1; stroke-width: 1px;\"/><path class=\"y6grid crisp\" transform=\"translate(0,1625.393744855967)\" d=\"M83,0h637\" style=\"stroke: rgb(255, 255, 255); stroke-opacity: 1; stroke-width: 1px;\"/><path class=\"y6grid crisp\" transform=\"translate(0,1581.7937448559671)\" d=\"M83,0h637\" style=\"stroke: rgb(255, 255, 255); stroke-opacity: 1; stroke-width: 1px;\"/><path class=\"y6grid crisp\" transform=\"translate(0,1538.193744855967)\" d=\"M83,0h637\" style=\"stroke: rgb(255, 255, 255); stroke-opacity: 1; stroke-width: 1px;\"/></g></g><g class=\"zerolinelayer\"/><path class=\"xlines-below\"/><path class=\"ylines-below\"/><g class=\"overlines-below\"/><g class=\"xaxislayer-below\"/><g class=\"yaxislayer-below\"/><g class=\"overaxes-below\"/><g class=\"plot\" transform=\"translate(83,1526.633744855967)\" clip-path=\"url(#clip65ca99x6y6plot)\"><g class=\"scatterlayer mlayer\"><g class=\"trace scatter trace81562e13-b572-47f9-a99e-d0d87c263ad1\" style=\"stroke-miterlimit: 2; opacity: 1;\"><g class=\"fills\"/><g class=\"errorbars\"/><g class=\"lines\"><path class=\"js-line\" d=\"M35.89,16.78L177.19,69.46L318.5,69.72L459.81,170.36L601.11,231.4\" style=\"vector-effect: non-scaling-stroke; fill: none; stroke: rgb(148, 103, 189); stroke-opacity: 1; stroke-width: 2px; opacity: 1;\"/></g><g class=\"points\"><path class=\"point\" transform=\"translate(35.89,16.78)\" d=\"M3,0A3,3 0 1,1 0,-3A3,3 0 0,1 3,0Z\" style=\"opacity: 1; stroke-width: 0px; fill: rgb(148, 103, 189); fill-opacity: 1;\"/><path class=\"point\" transform=\"translate(177.19,69.46)\" d=\"M3,0A3,3 0 1,1 0,-3A3,3 0 0,1 3,0Z\" style=\"opacity: 1; stroke-width: 0px; fill: rgb(148, 103, 189); fill-opacity: 1;\"/><path class=\"point\" transform=\"translate(318.5,69.72)\" d=\"M3,0A3,3 0 1,1 0,-3A3,3 0 0,1 3,0Z\" style=\"opacity: 1; stroke-width: 0px; fill: rgb(148, 103, 189); fill-opacity: 1;\"/><path class=\"point\" transform=\"translate(459.81,170.36)\" d=\"M3,0A3,3 0 1,1 0,-3A3,3 0 0,1 3,0Z\" style=\"opacity: 1; stroke-width: 0px; fill: rgb(148, 103, 189); fill-opacity: 1;\"/><path class=\"point\" transform=\"translate(601.11,231.4)\" d=\"M3,0A3,3 0 1,1 0,-3A3,3 0 0,1 3,0Z\" style=\"opacity: 1; stroke-width: 0px; fill: rgb(148, 103, 189); fill-opacity: 1;\"/></g><g class=\"text\"/></g><g class=\"trace scatter traced9d5e13f-27a6-4b63-b7a3-bd4c98c36d00\" style=\"stroke-miterlimit: 2; opacity: 1;\"><g class=\"fills\"/><g class=\"errorbars\"/><g class=\"lines\"/><g class=\"points\"><path class=\"point plotly-customdata\" transform=\"translate(35.89,16.78)\" d=\"M4.55,0L0,4.55L-4.55,0L0,-4.55Z\" style=\"opacity: 1; stroke-width: 1px; fill: rgb(66, 133, 244); fill-opacity: 1; stroke: rgb(11, 84, 205); stroke-opacity: 1;\"/></g><g class=\"text\"/></g><g class=\"trace scatter tracebeee5d24-7548-4848-bd09-41ed16d5511c\" style=\"stroke-miterlimit: 2; opacity: 1;\"><g class=\"fills\"/><g class=\"errorbars\"/><g class=\"lines\"/><g class=\"points\"><path class=\"point plotly-customdata\" transform=\"translate(601.11,231.4)\" d=\"M4.55,0L0,4.55L-4.55,0L0,-4.55Z\" style=\"opacity: 1; stroke-width: 1px; fill: rgb(255, 170, 0); fill-opacity: 1; stroke: rgb(178, 118, 0); stroke-opacity: 1;\"/></g><g class=\"text\"/></g></g></g><g class=\"overplot\"/><path class=\"xlines-above crisp\" d=\"M0,0\" style=\"fill: none;\"/><path class=\"ylines-above crisp\" d=\"M0,0\" style=\"fill: none;\"/><g class=\"overlines-above\"/><g class=\"xaxislayer-above\"/><g class=\"yaxislayer-above\"><g class=\"y6tick\"><text text-anchor=\"end\" x=\"82\" y=\"4.199999999999999\" transform=\"translate(0,1756.203744855967)\" style=\"font-family: 'Open Sans', verdana, arial, sans-serif; font-size: 12px; fill: rgb(42, 63, 95); fill-opacity: 1; white-space: pre; opacity: 1;\">195</text></g><g class=\"y6tick\"><text text-anchor=\"end\" x=\"82\" y=\"4.199999999999999\" style=\"font-family: 'Open Sans', verdana, arial, sans-serif; font-size: 12px; fill: rgb(42, 63, 95); fill-opacity: 1; white-space: pre; opacity: 1;\" transform=\"translate(0,1712.603744855967)\">196</text></g><g class=\"y6tick\"><text text-anchor=\"end\" x=\"82\" y=\"4.199999999999999\" style=\"font-family: 'Open Sans', verdana, arial, sans-serif; font-size: 12px; fill: rgb(42, 63, 95); fill-opacity: 1; white-space: pre; opacity: 1;\" transform=\"translate(0,1669.003744855967)\">197</text></g><g class=\"y6tick\"><text text-anchor=\"end\" x=\"82\" y=\"4.199999999999999\" style=\"font-family: 'Open Sans', verdana, arial, sans-serif; font-size: 12px; fill: rgb(42, 63, 95); fill-opacity: 1; white-space: pre; opacity: 1;\" transform=\"translate(0,1625.393744855967)\">198</text></g><g class=\"y6tick\"><text text-anchor=\"end\" x=\"82\" y=\"4.199999999999999\" style=\"font-family: 'Open Sans', verdana, arial, sans-serif; font-size: 12px; fill: rgb(42, 63, 95); fill-opacity: 1; white-space: pre; opacity: 1;\" transform=\"translate(0,1581.7937448559671)\">199</text></g><g class=\"y6tick\"><text text-anchor=\"end\" x=\"82\" y=\"4.199999999999999\" style=\"font-family: 'Open Sans', verdana, arial, sans-serif; font-size: 12px; fill: rgb(42, 63, 95); fill-opacity: 1; white-space: pre; opacity: 1;\" transform=\"translate(0,1538.193744855967)\">200</text></g></g><g class=\"overaxes-above\"/></g><g class=\"subplot x7y7\"><g class=\"layer-subplot\"><g class=\"shapelayer\"/><g class=\"imagelayer\"/></g><g class=\"gridlayer\"><g class=\"x7\"><path class=\"x7grid crisp\" transform=\"translate(118.89,0)\" d=\"M0,1812.3604938271603v248.18600823045264\" style=\"stroke: rgb(255, 255, 255); stroke-opacity: 1; stroke-width: 1px;\"/><path class=\"x7grid crisp\" transform=\"translate(260.19,0)\" d=\"M0,1812.3604938271603v248.18600823045264\" style=\"stroke: rgb(255, 255, 255); stroke-opacity: 1; stroke-width: 1px;\"/><path class=\"x7grid crisp\" transform=\"translate(401.5,0)\" d=\"M0,1812.3604938271603v248.18600823045264\" style=\"stroke: rgb(255, 255, 255); stroke-opacity: 1; stroke-width: 1px;\"/><path class=\"x7grid crisp\" transform=\"translate(542.81,0)\" d=\"M0,1812.3604938271603v248.18600823045264\" style=\"stroke: rgb(255, 255, 255); stroke-opacity: 1; stroke-width: 1px;\"/><path class=\"x7grid crisp\" transform=\"translate(684.11,0)\" d=\"M0,1812.3604938271603v248.18600823045264\" style=\"stroke: rgb(255, 255, 255); stroke-opacity: 1; stroke-width: 1px;\"/></g><g class=\"y7\"><path class=\"y7grid crisp\" transform=\"translate(0,2047.9104938271603)\" d=\"M83,0h637\" style=\"stroke: rgb(255, 255, 255); stroke-opacity: 1; stroke-width: 1px;\"/><path class=\"y7grid crisp\" transform=\"translate(0,2001.0004938271604)\" d=\"M83,0h637\" style=\"stroke: rgb(255, 255, 255); stroke-opacity: 1; stroke-width: 1px;\"/><path class=\"y7grid crisp\" transform=\"translate(0,1954.0904938271603)\" d=\"M83,0h637\" style=\"stroke: rgb(255, 255, 255); stroke-opacity: 1; stroke-width: 1px;\"/><path class=\"y7grid crisp\" transform=\"translate(0,1907.1804938271603)\" d=\"M83,0h637\" style=\"stroke: rgb(255, 255, 255); stroke-opacity: 1; stroke-width: 1px;\"/><path class=\"y7grid crisp\" transform=\"translate(0,1860.2704938271604)\" d=\"M83,0h637\" style=\"stroke: rgb(255, 255, 255); stroke-opacity: 1; stroke-width: 1px;\"/></g></g><g class=\"zerolinelayer\"><path class=\"y7zl zl crisp\" transform=\"translate(0,1813.3604938271603)\" d=\"M83,0h637\" style=\"stroke: rgb(255, 255, 255); stroke-opacity: 1; stroke-width: 2px;\"/></g><path class=\"xlines-below\"/><path class=\"ylines-below\"/><g class=\"overlines-below\"/><g class=\"xaxislayer-below\"/><g class=\"yaxislayer-below\"/><g class=\"overaxes-below\"/><g class=\"plot\" transform=\"translate(83,1812.3604938271603)\" clip-path=\"url(#clip65ca99x7y7plot)\"><g class=\"scatterlayer mlayer\"><g class=\"trace scatter trace42a8fff6-a69e-406c-953a-2de5d8840f6e\" style=\"stroke-miterlimit: 2;\"><g class=\"fills\"><g><path class=\"js-fill\" d=\"M601.11,1L35.89,1L35.89,1L177.19,57.7L318.5,57.98L459.81,166.31L601.11,232.03\" style=\"fill: rgb(220, 57, 18); fill-opacity: 0.3; stroke-width: 0;\"/></g></g><g class=\"errorbars\"/><g class=\"lines\"><path class=\"js-line\" d=\"M35.89,1L177.19,57.7L318.5,57.98L459.81,166.31L601.11,232.03\" style=\"vector-effect: non-scaling-stroke; fill: none; stroke: rgb(220, 57, 18); stroke-opacity: 1; stroke-width: 2px; opacity: 1;\"/></g><g class=\"points\"><path class=\"point\" transform=\"translate(35.89,1)\" d=\"M3,0A3,3 0 1,1 0,-3A3,3 0 0,1 3,0Z\" style=\"opacity: 1; stroke-width: 0px; fill: rgb(220, 57, 18); fill-opacity: 1;\"/><path class=\"point\" transform=\"translate(177.19,57.7)\" d=\"M3,0A3,3 0 1,1 0,-3A3,3 0 0,1 3,0Z\" style=\"opacity: 1; stroke-width: 0px; fill: rgb(220, 57, 18); fill-opacity: 1;\"/><path class=\"point\" transform=\"translate(318.5,57.98)\" d=\"M3,0A3,3 0 1,1 0,-3A3,3 0 0,1 3,0Z\" style=\"opacity: 1; stroke-width: 0px; fill: rgb(220, 57, 18); fill-opacity: 1;\"/><path class=\"point\" transform=\"translate(459.81,166.31)\" d=\"M3,0A3,3 0 1,1 0,-3A3,3 0 0,1 3,0Z\" style=\"opacity: 1; stroke-width: 0px; fill: rgb(220, 57, 18); fill-opacity: 1;\"/><path class=\"point\" transform=\"translate(601.11,232.03)\" d=\"M3,0A3,3 0 1,1 0,-3A3,3 0 0,1 3,0Z\" style=\"opacity: 1; stroke-width: 0px; fill: rgb(220, 57, 18); fill-opacity: 1;\"/></g><g class=\"text\"/></g></g></g><g class=\"overplot\"/><path class=\"xlines-above crisp\" d=\"M0,0\" style=\"fill: none;\"/><path class=\"ylines-above crisp\" d=\"M0,0\" style=\"fill: none;\"/><g class=\"overlines-above\"/><g class=\"xaxislayer-above\"/><g class=\"yaxislayer-above\"><g class=\"y7tick\"><text text-anchor=\"end\" x=\"82\" y=\"4.199999999999999\" transform=\"translate(0,2047.9104938271603)\" style=\"font-family: 'Open Sans', verdana, arial, sans-serif; font-size: 12px; fill: rgb(42, 63, 95); fill-opacity: 1; white-space: pre; opacity: 1;\">−3%</text></g><g class=\"y7tick\"><text text-anchor=\"end\" x=\"82\" y=\"4.199999999999999\" style=\"font-family: 'Open Sans', verdana, arial, sans-serif; font-size: 12px; fill: rgb(42, 63, 95); fill-opacity: 1; white-space: pre; opacity: 1;\" transform=\"translate(0,2001.0004938271604)\">−2%</text></g><g class=\"y7tick\"><text text-anchor=\"end\" x=\"82\" y=\"4.199999999999999\" style=\"font-family: 'Open Sans', verdana, arial, sans-serif; font-size: 12px; fill: rgb(42, 63, 95); fill-opacity: 1; white-space: pre; opacity: 1;\" transform=\"translate(0,1954.0904938271603)\">−2%</text></g><g class=\"y7tick\"><text text-anchor=\"end\" x=\"82\" y=\"4.199999999999999\" style=\"font-family: 'Open Sans', verdana, arial, sans-serif; font-size: 12px; fill: rgb(42, 63, 95); fill-opacity: 1; white-space: pre; opacity: 1;\" transform=\"translate(0,1907.1804938271603)\">−1%</text></g><g class=\"y7tick\"><text text-anchor=\"end\" x=\"82\" y=\"4.199999999999999\" style=\"font-family: 'Open Sans', verdana, arial, sans-serif; font-size: 12px; fill: rgb(42, 63, 95); fill-opacity: 1; white-space: pre; opacity: 1;\" transform=\"translate(0,1860.2704938271604)\">−1%</text></g><g class=\"y7tick\"><text text-anchor=\"end\" x=\"82\" y=\"4.199999999999999\" style=\"font-family: 'Open Sans', verdana, arial, sans-serif; font-size: 12px; fill: rgb(42, 63, 95); fill-opacity: 1; white-space: pre; opacity: 1;\" transform=\"translate(0,1813.3604938271603)\">0%</text></g></g><g class=\"overaxes-above\"/></g><g class=\"subplot x8y8\"><g class=\"layer-subplot\"><g class=\"shapelayer\"/><g class=\"imagelayer\"/></g><g class=\"gridlayer\"><g class=\"x8\"><path class=\"x8grid crisp\" transform=\"translate(118.89,0)\" d=\"M0,2098.087242798354v248.18600823045264\" style=\"stroke: rgb(255, 255, 255); stroke-opacity: 1; stroke-width: 1px;\"/><path class=\"x8grid crisp\" transform=\"translate(260.19,0)\" d=\"M0,2098.087242798354v248.18600823045264\" style=\"stroke: rgb(255, 255, 255); stroke-opacity: 1; stroke-width: 1px;\"/><path class=\"x8grid crisp\" transform=\"translate(401.5,0)\" d=\"M0,2098.087242798354v248.18600823045264\" style=\"stroke: rgb(255, 255, 255); stroke-opacity: 1; stroke-width: 1px;\"/><path class=\"x8grid crisp\" transform=\"translate(542.81,0)\" d=\"M0,2098.087242798354v248.18600823045264\" style=\"stroke: rgb(255, 255, 255); stroke-opacity: 1; stroke-width: 1px;\"/><path class=\"x8grid crisp\" transform=\"translate(684.11,0)\" d=\"M0,2098.087242798354v248.18600823045264\" style=\"stroke: rgb(255, 255, 255); stroke-opacity: 1; stroke-width: 1px;\"/></g><g class=\"y8\"><path class=\"y8grid crisp\" transform=\"translate(0,2282.3472427983543)\" d=\"M83,0h637\" style=\"stroke: rgb(255, 255, 255); stroke-opacity: 1; stroke-width: 1px;\"/><path class=\"y8grid crisp\" transform=\"translate(0,2240.317242798354)\" d=\"M83,0h637\" style=\"stroke: rgb(255, 255, 255); stroke-opacity: 1; stroke-width: 1px;\"/><path class=\"y8grid crisp\" transform=\"translate(0,2198.297242798354)\" d=\"M83,0h637\" style=\"stroke: rgb(255, 255, 255); stroke-opacity: 1; stroke-width: 1px;\"/><path class=\"y8grid crisp\" transform=\"translate(0,2156.267242798354)\" d=\"M83,0h637\" style=\"stroke: rgb(255, 255, 255); stroke-opacity: 1; stroke-width: 1px;\"/><path class=\"y8grid crisp\" transform=\"translate(0,2114.247242798354)\" d=\"M83,0h637\" style=\"stroke: rgb(255, 255, 255); stroke-opacity: 1; stroke-width: 1px;\"/></g></g><g class=\"zerolinelayer\"><path class=\"y8zl zl crisp\" transform=\"translate(0,2324.3672427983543)\" d=\"M83,0h637\" style=\"stroke: rgb(255, 255, 255); stroke-opacity: 1; stroke-width: 2px;\"/></g><path class=\"xlines-below\"/><path class=\"ylines-below\"/><g class=\"overlines-below\"/><g class=\"xaxislayer-below\"/><g class=\"yaxislayer-below\"/><g class=\"overaxes-below\"/><g class=\"plot\" transform=\"translate(83,2098.087242798354)\" clip-path=\"url(#clip65ca99x8y8plot)\"><g class=\"scatterlayer mlayer\"><g class=\"trace scatter traceee826a75-0236-47f1-832e-d3594ff5bb80\" style=\"stroke-miterlimit: 2;\"><g class=\"fills\"><g><path class=\"js-fill\" d=\"M35.89,227.34L177.19,228.42L318.5,228.64L601.11,232.03L601.11,16.16L35.89,16.16Z\" style=\"fill: rgb(227, 119, 194); fill-opacity: 0.3; stroke-width: 0;\"/></g></g><g class=\"errorbars\"/><g class=\"lines\"><path class=\"js-line\" d=\"M35.89,16.16L601.11,16.16\" style=\"vector-effect: non-scaling-stroke; fill: none; stroke: rgb(0, 0, 0); stroke-opacity: 0; stroke-width: 0px; opacity: 1;\"/></g><g class=\"points\"><path class=\"point\" transform=\"translate(35.89,16.16)\" d=\"M3,0A3,3 0 1,1 0,-3A3,3 0 0,1 3,0Z\" style=\"opacity: 1; stroke-width: 0px; fill: rgb(0, 0, 0); fill-opacity: 0;\"/><path class=\"point\" transform=\"translate(177.19,16.16)\" d=\"M3,0A3,3 0 1,1 0,-3A3,3 0 0,1 3,0Z\" style=\"opacity: 1; stroke-width: 0px; fill: rgb(0, 0, 0); fill-opacity: 0;\"/><path class=\"point\" transform=\"translate(318.5,16.16)\" d=\"M3,0A3,3 0 1,1 0,-3A3,3 0 0,1 3,0Z\" style=\"opacity: 1; stroke-width: 0px; fill: rgb(0, 0, 0); fill-opacity: 0;\"/><path class=\"point\" transform=\"translate(459.81,16.16)\" d=\"M3,0A3,3 0 1,1 0,-3A3,3 0 0,1 3,0Z\" style=\"opacity: 1; stroke-width: 0px; fill: rgb(0, 0, 0); fill-opacity: 0;\"/><path class=\"point\" transform=\"translate(601.11,16.16)\" d=\"M3,0A3,3 0 1,1 0,-3A3,3 0 0,1 3,0Z\" style=\"opacity: 1; stroke-width: 0px; fill: rgb(0, 0, 0); fill-opacity: 0;\"/></g><g class=\"text\"/></g><g class=\"trace scatter trace23b6f71c-91db-45cf-9e6a-ecf2eda85735\" style=\"stroke-miterlimit: 2;\"><g class=\"fills\"/><g class=\"errorbars\"/><g class=\"lines\"><path class=\"js-line\" d=\"M35.89,227.34L177.19,228.42L318.5,228.64L601.11,232.03\" style=\"vector-effect: non-scaling-stroke; fill: none; stroke: rgb(0, 0, 0); stroke-opacity: 0; stroke-width: 0px; opacity: 1;\"/></g><g class=\"points\"><path class=\"point\" transform=\"translate(35.89,227.34)\" d=\"M3,0A3,3 0 1,1 0,-3A3,3 0 0,1 3,0Z\" style=\"opacity: 1; stroke-width: 0px; fill: rgb(0, 0, 0); fill-opacity: 0;\"/><path class=\"point\" transform=\"translate(177.19,228.42)\" d=\"M3,0A3,3 0 1,1 0,-3A3,3 0 0,1 3,0Z\" style=\"opacity: 1; stroke-width: 0px; fill: rgb(0, 0, 0); fill-opacity: 0;\"/><path class=\"point\" transform=\"translate(318.5,228.64)\" d=\"M3,0A3,3 0 1,1 0,-3A3,3 0 0,1 3,0Z\" style=\"opacity: 1; stroke-width: 0px; fill: rgb(0, 0, 0); fill-opacity: 0;\"/><path class=\"point\" transform=\"translate(459.81,230.61)\" d=\"M3,0A3,3 0 1,1 0,-3A3,3 0 0,1 3,0Z\" style=\"opacity: 1; stroke-width: 0px; fill: rgb(0, 0, 0); fill-opacity: 0;\"/><path class=\"point\" transform=\"translate(601.11,232.03)\" d=\"M3,0A3,3 0 1,1 0,-3A3,3 0 0,1 3,0Z\" style=\"opacity: 1; stroke-width: 0px; fill: rgb(0, 0, 0); fill-opacity: 0;\"/></g><g class=\"text\"/></g><g class=\"trace scatter trace1b9de9f3-8f30-40cf-9bf9-ff8a5fa12807\" style=\"stroke-miterlimit: 2; opacity: 1;\"><g class=\"fills\"/><g class=\"errorbars\"/><g class=\"lines\"><path class=\"js-line\" d=\"M35.89,227.34L177.19,228.42L318.5,228.64L601.11,232.03\" style=\"vector-effect: non-scaling-stroke; fill: none; stroke: rgb(227, 119, 194); stroke-opacity: 1; stroke-width: 2px; opacity: 1;\"/></g><g class=\"points\"><path class=\"point\" transform=\"translate(35.89,227.34)\" d=\"M3,0A3,3 0 1,1 0,-3A3,3 0 0,1 3,0Z\" style=\"opacity: 1; stroke-width: 0px; fill: rgb(227, 119, 194); fill-opacity: 1;\"/><path class=\"point\" transform=\"translate(177.19,228.42)\" d=\"M3,0A3,3 0 1,1 0,-3A3,3 0 0,1 3,0Z\" style=\"opacity: 1; stroke-width: 0px; fill: rgb(227, 119, 194); fill-opacity: 1;\"/><path class=\"point\" transform=\"translate(318.5,228.64)\" d=\"M3,0A3,3 0 1,1 0,-3A3,3 0 0,1 3,0Z\" style=\"opacity: 1; stroke-width: 0px; fill: rgb(227, 119, 194); fill-opacity: 1;\"/><path class=\"point\" transform=\"translate(459.81,230.61)\" d=\"M3,0A3,3 0 1,1 0,-3A3,3 0 0,1 3,0Z\" style=\"opacity: 1; stroke-width: 0px; fill: rgb(227, 119, 194); fill-opacity: 1;\"/><path class=\"point\" transform=\"translate(601.11,232.03)\" d=\"M3,0A3,3 0 1,1 0,-3A3,3 0 0,1 3,0Z\" style=\"opacity: 1; stroke-width: 0px; fill: rgb(227, 119, 194); fill-opacity: 1;\"/></g><g class=\"text\"/></g><g class=\"trace scatter tracef34a3978-c53f-4082-93a2-e0be43b715e1\" style=\"stroke-miterlimit: 2; opacity: 0;\"><g class=\"fills\"/><g class=\"errorbars\"/><g class=\"lines\"><path class=\"js-line\" d=\"M35.89,16.16L601.11,16.16\" style=\"vector-effect: non-scaling-stroke; fill: none; stroke: rgb(0, 0, 0); stroke-opacity: 0; stroke-width: 0px; opacity: 1;\"/></g><g class=\"points\"><path class=\"point\" transform=\"translate(35.89,16.16)\" d=\"M3,0A3,3 0 1,1 0,-3A3,3 0 0,1 3,0Z\" style=\"opacity: 1; stroke-width: 0px; fill: rgb(0, 0, 0); fill-opacity: 0;\"/><path class=\"point\" transform=\"translate(177.19,16.16)\" d=\"M3,0A3,3 0 1,1 0,-3A3,3 0 0,1 3,0Z\" style=\"opacity: 1; stroke-width: 0px; fill: rgb(0, 0, 0); fill-opacity: 0;\"/><path class=\"point\" transform=\"translate(318.5,16.16)\" d=\"M3,0A3,3 0 1,1 0,-3A3,3 0 0,1 3,0Z\" style=\"opacity: 1; stroke-width: 0px; fill: rgb(0, 0, 0); fill-opacity: 0;\"/><path class=\"point\" transform=\"translate(459.81,16.16)\" d=\"M3,0A3,3 0 1,1 0,-3A3,3 0 0,1 3,0Z\" style=\"opacity: 1; stroke-width: 0px; fill: rgb(0, 0, 0); fill-opacity: 0;\"/><path class=\"point\" transform=\"translate(601.11,16.16)\" d=\"M3,0A3,3 0 1,1 0,-3A3,3 0 0,1 3,0Z\" style=\"opacity: 1; stroke-width: 0px; fill: rgb(0, 0, 0); fill-opacity: 0;\"/></g><g class=\"text\"/></g></g></g><g class=\"overplot\"/><path class=\"xlines-above crisp\" d=\"M0,0\" style=\"fill: none;\"/><path class=\"ylines-above crisp\" d=\"M0,0\" style=\"fill: none;\"/><g class=\"overlines-above\"/><g class=\"xaxislayer-above\"/><g class=\"yaxislayer-above\"><g class=\"y8tick\"><text text-anchor=\"end\" x=\"82\" y=\"4.199999999999999\" transform=\"translate(0,2324.3672427983543)\" style=\"font-family: 'Open Sans', verdana, arial, sans-serif; font-size: 12px; fill: rgb(42, 63, 95); fill-opacity: 1; white-space: pre; opacity: 1;\">0</text></g><g class=\"y8tick\"><text text-anchor=\"end\" x=\"82\" y=\"4.199999999999999\" style=\"font-family: 'Open Sans', verdana, arial, sans-serif; font-size: 12px; fill: rgb(42, 63, 95); fill-opacity: 1; white-space: pre; opacity: 1;\" transform=\"translate(0,2282.3472427983543)\">0.2</text></g><g class=\"y8tick\"><text text-anchor=\"end\" x=\"82\" y=\"4.199999999999999\" style=\"font-family: 'Open Sans', verdana, arial, sans-serif; font-size: 12px; fill: rgb(42, 63, 95); fill-opacity: 1; white-space: pre; opacity: 1;\" transform=\"translate(0,2240.317242798354)\">0.4</text></g><g class=\"y8tick\"><text text-anchor=\"end\" x=\"82\" y=\"4.199999999999999\" style=\"font-family: 'Open Sans', verdana, arial, sans-serif; font-size: 12px; fill: rgb(42, 63, 95); fill-opacity: 1; white-space: pre; opacity: 1;\" transform=\"translate(0,2198.297242798354)\">0.6</text></g><g class=\"y8tick\"><text text-anchor=\"end\" x=\"82\" y=\"4.199999999999999\" style=\"font-family: 'Open Sans', verdana, arial, sans-serif; font-size: 12px; fill: rgb(42, 63, 95); fill-opacity: 1; white-space: pre; opacity: 1;\" transform=\"translate(0,2156.267242798354)\">0.8</text></g><g class=\"y8tick\"><text text-anchor=\"end\" x=\"82\" y=\"4.199999999999999\" style=\"font-family: 'Open Sans', verdana, arial, sans-serif; font-size: 12px; fill: rgb(42, 63, 95); fill-opacity: 1; white-space: pre; opacity: 1;\" transform=\"translate(0,2114.247242798354)\">1</text></g></g><g class=\"overaxes-above\"/></g><g class=\"subplot x9y9\"><g class=\"layer-subplot\"><g class=\"shapelayer\"/><g class=\"imagelayer\"/></g><g class=\"gridlayer\"><g class=\"x9\"><path class=\"x9grid crisp\" transform=\"translate(118.89,0)\" d=\"M0,2383.813991769547v248.18600823045267\" style=\"stroke: rgb(255, 255, 255); stroke-opacity: 1; stroke-width: 1px;\"/><path class=\"x9grid crisp\" transform=\"translate(260.19,0)\" d=\"M0,2383.813991769547v248.18600823045267\" style=\"stroke: rgb(255, 255, 255); stroke-opacity: 1; stroke-width: 1px;\"/><path class=\"x9grid crisp\" transform=\"translate(401.5,0)\" d=\"M0,2383.813991769547v248.18600823045267\" style=\"stroke: rgb(255, 255, 255); stroke-opacity: 1; stroke-width: 1px;\"/><path class=\"x9grid crisp\" transform=\"translate(542.81,0)\" d=\"M0,2383.813991769547v248.18600823045267\" style=\"stroke: rgb(255, 255, 255); stroke-opacity: 1; stroke-width: 1px;\"/><path class=\"x9grid crisp\" transform=\"translate(684.11,0)\" d=\"M0,2383.813991769547v248.18600823045267\" style=\"stroke: rgb(255, 255, 255); stroke-opacity: 1; stroke-width: 1px;\"/></g><g class=\"y9\"><path class=\"y9grid crisp\" transform=\"translate(0,2619.253991769547)\" d=\"M83,0h637\" style=\"stroke: rgb(255, 255, 255); stroke-opacity: 1; stroke-width: 1px;\"/><path class=\"y9grid crisp\" transform=\"translate(0,2575.4039917695472)\" d=\"M83,0h637\" style=\"stroke: rgb(255, 255, 255); stroke-opacity: 1; stroke-width: 1px;\"/><path class=\"y9grid crisp\" transform=\"translate(0,2531.543991769547)\" d=\"M83,0h637\" style=\"stroke: rgb(255, 255, 255); stroke-opacity: 1; stroke-width: 1px;\"/><path class=\"y9grid crisp\" transform=\"translate(0,2487.683991769547)\" d=\"M83,0h637\" style=\"stroke: rgb(255, 255, 255); stroke-opacity: 1; stroke-width: 1px;\"/><path class=\"y9grid crisp\" transform=\"translate(0,2443.833991769547)\" d=\"M83,0h637\" style=\"stroke: rgb(255, 255, 255); stroke-opacity: 1; stroke-width: 1px;\"/></g></g><g class=\"zerolinelayer\"><path class=\"y9zl zl crisp\" transform=\"translate(0,2399.973991769547)\" d=\"M83,0h637\" style=\"stroke: rgb(255, 255, 255); stroke-opacity: 1; stroke-width: 2px;\"/></g><path class=\"xlines-below\"/><path class=\"ylines-below\"/><g class=\"overlines-below\"/><g class=\"xaxislayer-below\"/><g class=\"yaxislayer-below\"/><g class=\"overaxes-below\"/><g class=\"plot\" transform=\"translate(83,2383.813991769547)\" clip-path=\"url(#clip65ca99x9y9plot)\"><g class=\"scatterlayer mlayer\"><g class=\"trace scatter tracee129dfa5-7b66-480c-9525-e25fcd0fb76c\" style=\"stroke-miterlimit: 2;\"><g class=\"fills\"><g><path class=\"js-fill\" d=\"M35.89,60.04L177.19,103.57L318.5,112.31L459.81,189.68L601.11,232.03L601.11,16.16L35.89,16.16Z\" style=\"fill: rgb(255, 127, 14); fill-opacity: 0.3; stroke-width: 0;\"/></g></g><g class=\"errorbars\"/><g class=\"lines\"><path class=\"js-line\" d=\"M35.89,16.16L601.11,16.16\" style=\"vector-effect: non-scaling-stroke; fill: none; stroke: rgb(0, 0, 0); stroke-opacity: 0; stroke-width: 0px; opacity: 1;\"/></g><g class=\"points\"><path class=\"point\" transform=\"translate(35.89,16.16)\" d=\"M3,0A3,3 0 1,1 0,-3A3,3 0 0,1 3,0Z\" style=\"opacity: 1; stroke-width: 0px; fill: rgb(0, 0, 0); fill-opacity: 0;\"/><path class=\"point\" transform=\"translate(177.19,16.16)\" d=\"M3,0A3,3 0 1,1 0,-3A3,3 0 0,1 3,0Z\" style=\"opacity: 1; stroke-width: 0px; fill: rgb(0, 0, 0); fill-opacity: 0;\"/><path class=\"point\" transform=\"translate(318.5,16.16)\" d=\"M3,0A3,3 0 1,1 0,-3A3,3 0 0,1 3,0Z\" style=\"opacity: 1; stroke-width: 0px; fill: rgb(0, 0, 0); fill-opacity: 0;\"/><path class=\"point\" transform=\"translate(459.81,16.16)\" d=\"M3,0A3,3 0 1,1 0,-3A3,3 0 0,1 3,0Z\" style=\"opacity: 1; stroke-width: 0px; fill: rgb(0, 0, 0); fill-opacity: 0;\"/><path class=\"point\" transform=\"translate(601.11,16.16)\" d=\"M3,0A3,3 0 1,1 0,-3A3,3 0 0,1 3,0Z\" style=\"opacity: 1; stroke-width: 0px; fill: rgb(0, 0, 0); fill-opacity: 0;\"/></g><g class=\"text\"/></g><g class=\"trace scatter trace8eddad81-a35e-4772-bb0a-9cc93365f8b1\" style=\"stroke-miterlimit: 2;\"><g class=\"fills\"/><g class=\"errorbars\"/><g class=\"lines\"><path class=\"js-line\" d=\"M35.89,60.04L177.19,103.57L318.5,112.31L459.81,189.68L601.11,232.03\" style=\"vector-effect: non-scaling-stroke; fill: none; stroke: rgb(0, 0, 0); stroke-opacity: 0; stroke-width: 0px; opacity: 1;\"/></g><g class=\"points\"><path class=\"point\" transform=\"translate(35.89,60.04)\" d=\"M3,0A3,3 0 1,1 0,-3A3,3 0 0,1 3,0Z\" style=\"opacity: 1; stroke-width: 0px; fill: rgb(0, 0, 0); fill-opacity: 0;\"/><path class=\"point\" transform=\"translate(177.19,103.57)\" d=\"M3,0A3,3 0 1,1 0,-3A3,3 0 0,1 3,0Z\" style=\"opacity: 1; stroke-width: 0px; fill: rgb(0, 0, 0); fill-opacity: 0;\"/><path class=\"point\" transform=\"translate(318.5,112.31)\" d=\"M3,0A3,3 0 1,1 0,-3A3,3 0 0,1 3,0Z\" style=\"opacity: 1; stroke-width: 0px; fill: rgb(0, 0, 0); fill-opacity: 0;\"/><path class=\"point\" transform=\"translate(459.81,189.68)\" d=\"M3,0A3,3 0 1,1 0,-3A3,3 0 0,1 3,0Z\" style=\"opacity: 1; stroke-width: 0px; fill: rgb(0, 0, 0); fill-opacity: 0;\"/><path class=\"point\" transform=\"translate(601.11,232.03)\" d=\"M3,0A3,3 0 1,1 0,-3A3,3 0 0,1 3,0Z\" style=\"opacity: 1; stroke-width: 0px; fill: rgb(0, 0, 0); fill-opacity: 0;\"/></g><g class=\"text\"/></g><g class=\"trace scatter trace2fe28368-4799-4969-a104-850d1bc3c7c3\" style=\"stroke-miterlimit: 2; opacity: 1;\"><g class=\"fills\"/><g class=\"errorbars\"/><g class=\"lines\"><path class=\"js-line\" d=\"M35.89,60.04L177.19,103.57L318.5,112.31L459.81,189.68L601.11,232.03\" style=\"vector-effect: non-scaling-stroke; fill: none; stroke: rgb(227, 119, 194); stroke-opacity: 1; stroke-width: 2px; opacity: 1;\"/></g><g class=\"points\"><path class=\"point\" transform=\"translate(35.89,60.04)\" d=\"M3,0A3,3 0 1,1 0,-3A3,3 0 0,1 3,0Z\" style=\"opacity: 1; stroke-width: 0px; fill: rgb(227, 119, 194); fill-opacity: 1;\"/><path class=\"point\" transform=\"translate(177.19,103.57)\" d=\"M3,0A3,3 0 1,1 0,-3A3,3 0 0,1 3,0Z\" style=\"opacity: 1; stroke-width: 0px; fill: rgb(227, 119, 194); fill-opacity: 1;\"/><path class=\"point\" transform=\"translate(318.5,112.31)\" d=\"M3,0A3,3 0 1,1 0,-3A3,3 0 0,1 3,0Z\" style=\"opacity: 1; stroke-width: 0px; fill: rgb(227, 119, 194); fill-opacity: 1;\"/><path class=\"point\" transform=\"translate(459.81,189.68)\" d=\"M3,0A3,3 0 1,1 0,-3A3,3 0 0,1 3,0Z\" style=\"opacity: 1; stroke-width: 0px; fill: rgb(227, 119, 194); fill-opacity: 1;\"/><path class=\"point\" transform=\"translate(601.11,232.03)\" d=\"M3,0A3,3 0 1,1 0,-3A3,3 0 0,1 3,0Z\" style=\"opacity: 1; stroke-width: 0px; fill: rgb(227, 119, 194); fill-opacity: 1;\"/></g><g class=\"text\"/></g><g class=\"trace scatter tracea7668e62-8121-4692-b2c8-accde722d751\" style=\"stroke-miterlimit: 2; opacity: 0;\"><g class=\"fills\"/><g class=\"errorbars\"/><g class=\"lines\"><path class=\"js-line\" d=\"M35.89,16.16L601.11,16.16\" style=\"vector-effect: non-scaling-stroke; fill: none; stroke: rgb(0, 0, 0); stroke-opacity: 0; stroke-width: 0px; opacity: 1;\"/></g><g class=\"points\"><path class=\"point\" transform=\"translate(35.89,16.16)\" d=\"M3,0A3,3 0 1,1 0,-3A3,3 0 0,1 3,0Z\" style=\"opacity: 1; stroke-width: 0px; fill: rgb(0, 0, 0); fill-opacity: 0;\"/><path class=\"point\" transform=\"translate(177.19,16.16)\" d=\"M3,0A3,3 0 1,1 0,-3A3,3 0 0,1 3,0Z\" style=\"opacity: 1; stroke-width: 0px; fill: rgb(0, 0, 0); fill-opacity: 0;\"/><path class=\"point\" transform=\"translate(318.5,16.16)\" d=\"M3,0A3,3 0 1,1 0,-3A3,3 0 0,1 3,0Z\" style=\"opacity: 1; stroke-width: 0px; fill: rgb(0, 0, 0); fill-opacity: 0;\"/><path class=\"point\" transform=\"translate(459.81,16.16)\" d=\"M3,0A3,3 0 1,1 0,-3A3,3 0 0,1 3,0Z\" style=\"opacity: 1; stroke-width: 0px; fill: rgb(0, 0, 0); fill-opacity: 0;\"/><path class=\"point\" transform=\"translate(601.11,16.16)\" d=\"M3,0A3,3 0 1,1 0,-3A3,3 0 0,1 3,0Z\" style=\"opacity: 1; stroke-width: 0px; fill: rgb(0, 0, 0); fill-opacity: 0;\"/></g><g class=\"text\"/></g></g></g><g class=\"overplot\"/><path class=\"xlines-above crisp\" d=\"M0,0\" style=\"fill: none;\"/><path class=\"ylines-above crisp\" d=\"M0,0\" style=\"fill: none;\"/><g class=\"overlines-above\"/><g class=\"xaxislayer-above\"><g class=\"x9tick\"><text text-anchor=\"middle\" x=\"0\" y=\"2645\" transform=\"translate(118.89,0)\" style=\"font-family: 'Open Sans', verdana, arial, sans-serif; font-size: 12px; fill: rgb(42, 63, 95); fill-opacity: 1; white-space: pre; opacity: 1;\"><tspan class=\"line\" dy=\"0em\" x=\"0\" y=\"2645\">Jan 1</tspan><tspan class=\"line\" dy=\"1.3em\" x=\"0\" y=\"2645\">2020</tspan></text></g><g class=\"x9tick\"><text text-anchor=\"middle\" x=\"0\" y=\"2645\" style=\"font-family: 'Open Sans', verdana, arial, sans-serif; font-size: 12px; fill: rgb(42, 63, 95); fill-opacity: 1; white-space: pre; opacity: 1;\" transform=\"translate(260.19,0)\">Jan 2</text></g><g class=\"x9tick\"><text text-anchor=\"middle\" x=\"0\" y=\"2645\" style=\"font-family: 'Open Sans', verdana, arial, sans-serif; font-size: 12px; fill: rgb(42, 63, 95); fill-opacity: 1; white-space: pre; opacity: 1;\" transform=\"translate(401.5,0)\">Jan 3</text></g><g class=\"x9tick\"><text text-anchor=\"middle\" x=\"0\" y=\"2645\" style=\"font-family: 'Open Sans', verdana, arial, sans-serif; font-size: 12px; fill: rgb(42, 63, 95); fill-opacity: 1; white-space: pre; opacity: 1;\" transform=\"translate(542.81,0)\">Jan 4</text></g><g class=\"x9tick\"><text text-anchor=\"middle\" x=\"0\" y=\"2645\" style=\"font-family: 'Open Sans', verdana, arial, sans-serif; font-size: 12px; fill: rgb(42, 63, 95); fill-opacity: 1; white-space: pre; opacity: 1;\" transform=\"translate(684.11,0)\">Jan 5</text></g></g><g class=\"yaxislayer-above\"><g class=\"y9tick\"><text text-anchor=\"end\" x=\"82\" y=\"4.199999999999999\" transform=\"translate(0,2619.253991769547)\" style=\"font-family: 'Open Sans', verdana, arial, sans-serif; font-size: 12px; fill: rgb(42, 63, 95); fill-opacity: 1; white-space: pre; opacity: 1;\">−0.025</text></g><g class=\"y9tick\"><text text-anchor=\"end\" x=\"82\" y=\"4.199999999999999\" style=\"font-family: 'Open Sans', verdana, arial, sans-serif; font-size: 12px; fill: rgb(42, 63, 95); fill-opacity: 1; white-space: pre; opacity: 1;\" transform=\"translate(0,2575.4039917695472)\">−0.02</text></g><g class=\"y9tick\"><text text-anchor=\"end\" x=\"82\" y=\"4.199999999999999\" style=\"font-family: 'Open Sans', verdana, arial, sans-serif; font-size: 12px; fill: rgb(42, 63, 95); fill-opacity: 1; white-space: pre; opacity: 1;\" transform=\"translate(0,2531.543991769547)\">−0.015</text></g><g class=\"y9tick\"><text text-anchor=\"end\" x=\"82\" y=\"4.199999999999999\" style=\"font-family: 'Open Sans', verdana, arial, sans-serif; font-size: 12px; fill: rgb(42, 63, 95); fill-opacity: 1; white-space: pre; opacity: 1;\" transform=\"translate(0,2487.683991769547)\">−0.01</text></g><g class=\"y9tick\"><text text-anchor=\"end\" x=\"82\" y=\"4.199999999999999\" style=\"font-family: 'Open Sans', verdana, arial, sans-serif; font-size: 12px; fill: rgb(42, 63, 95); fill-opacity: 1; white-space: pre; opacity: 1;\" transform=\"translate(0,2443.833991769547)\">−0.005</text></g><g class=\"y9tick\"><text text-anchor=\"end\" x=\"82\" y=\"4.199999999999999\" style=\"font-family: 'Open Sans', verdana, arial, sans-serif; font-size: 12px; fill: rgb(42, 63, 95); fill-opacity: 1; white-space: pre; opacity: 1;\" transform=\"translate(0,2399.973991769547)\">0</text></g></g><g class=\"overaxes-above\"/></g></g><g class=\"polarlayer\"/><g class=\"ternarylayer\"/><g class=\"geolayer\"/><g class=\"funnelarealayer\"/><g class=\"pielayer\"/><g class=\"iciclelayer\"/><g class=\"treemaplayer\"/><g class=\"sunburstlayer\"/><g class=\"glimages\"/><defs id=\"topdefs-65ca99\"><g class=\"clips\"/><clipPath id=\"legend65ca99\"><rect width=\"535\" height=\"48\" x=\"0\" y=\"0\"/></clipPath></defs><g class=\"layer-above\"><g class=\"imagelayer\"/><g class=\"shapelayer\"><path data-index=\"0\" fill-rule=\"evenodd\" d=\"M83,251.02L720,251.02\" clip-path=\"url(#clip65ca99y)\" style=\"opacity: 1; stroke: rgb(128, 128, 128); stroke-opacity: 1; fill: rgb(0, 0, 0); fill-opacity: 0; stroke-dasharray: 9px, 9px; stroke-width: 2px;\"/><path data-index=\"1\" fill-rule=\"evenodd\" d=\"M83,605.936748971193L720,605.936748971193\" clip-path=\"url(#clip65ca99y2)\" style=\"opacity: 1; stroke: rgb(128, 128, 128); stroke-opacity: 1; fill: rgb(0, 0, 0); fill-opacity: 0; stroke-dasharray: 9px, 9px; stroke-width: 2px;\"/><path data-index=\"2\" fill-rule=\"evenodd\" d=\"M83,685.6134979423865L720,685.6134979423865\" clip-path=\"url(#clip65ca99y3)\" style=\"opacity: 1; stroke: rgb(128, 128, 128); stroke-opacity: 1; fill: rgb(0, 0, 0); fill-opacity: 0; stroke-dasharray: 9px, 9px; stroke-width: 2px;\"/><path data-index=\"3\" fill-rule=\"evenodd\" d=\"M83,971.3402469135801L720,971.3402469135801\" clip-path=\"url(#clip65ca99y4)\" style=\"opacity: 1; stroke: rgb(128, 128, 128); stroke-opacity: 1; fill: rgb(0, 0, 0); fill-opacity: 0; stroke-dasharray: 9px, 9px; stroke-width: 2px;\"/><path data-index=\"4\" fill-rule=\"evenodd\" d=\"M83,1470.9769958847735L720,1470.9769958847735\" clip-path=\"url(#clip65ca99y5)\" style=\"opacity: 1; stroke: rgb(128, 128, 128); stroke-opacity: 1; fill: rgb(0, 0, 0); fill-opacity: 0; stroke-dasharray: 9px, 9px; stroke-width: 2px;\"/><path data-index=\"6\" fill-rule=\"evenodd\" d=\"M83,1813.3604938271603L720,1813.3604938271603\" clip-path=\"url(#clip65ca99y7)\" style=\"opacity: 1; stroke: rgb(128, 128, 128); stroke-opacity: 1; fill: rgb(0, 0, 0); fill-opacity: 0; stroke-dasharray: 9px, 9px; stroke-width: 2px;\"/><path data-index=\"7\" fill-rule=\"evenodd\" d=\"M83,2114.247242798354L720,2114.247242798354\" clip-path=\"url(#clip65ca99y8)\" style=\"opacity: 1; stroke: rgb(128, 128, 128); stroke-opacity: 1; fill: rgb(0, 0, 0); fill-opacity: 0; stroke-dasharray: 9px, 9px; stroke-width: 2px;\"/><path data-index=\"8\" fill-rule=\"evenodd\" d=\"M83,2399.973991769547L720,2399.973991769547\" clip-path=\"url(#clip65ca99y9)\" style=\"opacity: 1; stroke: rgb(128, 128, 128); stroke-opacity: 1; fill: rgb(0, 0, 0); fill-opacity: 0; stroke-dasharray: 9px, 9px; stroke-width: 2px;\"/></g></g><g class=\"infolayer\"><g class=\"legend\" pointer-events=\"all\" transform=\"translate(185,12.459259259259206)\"><rect class=\"bg\" shape-rendering=\"crispEdges\" width=\"535\" height=\"48\" x=\"0\" y=\"0\" style=\"stroke: rgb(68, 68, 68); stroke-opacity: 1; fill: rgb(255, 255, 255); fill-opacity: 1; stroke-width: 0px;\"/><g class=\"scrollbox\" transform=\"\" clip-path=\"url(#legend65ca99)\"><g class=\"groups\"><g class=\"traces\" transform=\"translate(0,14.5)\" style=\"opacity: 1;\"><text class=\"legendtext\" text-anchor=\"start\" x=\"40\" y=\"4.680000000000001\" style=\"font-family: 'Open Sans', verdana, arial, sans-serif; font-size: 12px; fill: rgb(42, 63, 95); fill-opacity: 1; white-space: pre;\">Cash</text><g class=\"layers\" style=\"opacity: 1;\"><g class=\"legendfill\"/><g class=\"legendlines\"><path class=\"js-line\" d=\"M5,0h30\" style=\"fill: none; stroke: rgb(44, 160, 44); stroke-opacity: 1; stroke-width: 2px;\"/></g><g class=\"legendsymbols\"><g class=\"legendpoints\"><path class=\"scatterpts\" transform=\"translate(20,0)\" d=\"M3,0A3,3 0 1,1 0,-3A3,3 0 0,1 3,0Z\" style=\"opacity: 1; stroke-width: 0px; fill: rgb(44, 160, 44); fill-opacity: 1;\"/></g></g></g><rect class=\"legendtoggle\" x=\"0\" y=\"-9.5\" width=\"71.9375\" height=\"19\" style=\"fill: rgb(0, 0, 0); fill-opacity: 0;\"/></g><g class=\"traces\" transform=\"translate(115.25,14.5)\" style=\"opacity: 1;\"><text class=\"legendtext\" text-anchor=\"start\" x=\"40\" y=\"4.680000000000001\" style=\"font-family: 'Open Sans', verdana, arial, sans-serif; font-size: 12px; fill: rgb(42, 63, 95); fill-opacity: 1; white-space: pre;\">Asset Value</text><g class=\"layers\" style=\"opacity: 1;\"><g class=\"legendfill\"/><g class=\"legendlines\"><path class=\"js-line\" d=\"M5,0h30\" style=\"fill: none; stroke: rgb(23, 190, 207); stroke-opacity: 1; stroke-width: 2px;\"/></g><g class=\"legendsymbols\"><g class=\"legendpoints\"><path class=\"scatterpts\" transform=\"translate(20,0)\" d=\"M3,0A3,3 0 1,1 0,-3A3,3 0 0,1 3,0Z\" style=\"opacity: 1; stroke-width: 0px; fill: rgb(23, 190, 207); fill-opacity: 1;\"/></g></g></g><rect class=\"legendtoggle\" x=\"0\" y=\"-9.5\" width=\"112.75\" height=\"19\" style=\"fill: rgb(0, 0, 0); fill-opacity: 0;\"/></g><g class=\"traces\" transform=\"translate(230.5,14.5)\" style=\"opacity: 1;\"><text class=\"legendtext\" text-anchor=\"start\" x=\"40\" y=\"4.680000000000001\" style=\"font-family: 'Open Sans', verdana, arial, sans-serif; font-size: 12px; fill: rgb(42, 63, 95); fill-opacity: 1; white-space: pre;\">Value</text><g class=\"layers\" style=\"opacity: 1;\"><g class=\"legendfill\"/><g class=\"legendlines\"><path class=\"js-line\" d=\"M5,0h30\" style=\"fill: none; stroke: rgb(148, 103, 189); stroke-opacity: 1; stroke-width: 2px;\"/></g><g class=\"legendsymbols\"><g class=\"legendpoints\"><path class=\"scatterpts\" transform=\"translate(20,0)\" d=\"M3,0A3,3 0 1,1 0,-3A3,3 0 0,1 3,0Z\" style=\"opacity: 1; stroke-width: 0px; fill: rgb(148, 103, 189); fill-opacity: 1;\"/></g></g></g><rect class=\"legendtoggle\" x=\"0\" y=\"-9.5\" width=\"75.953125\" height=\"19\" style=\"fill: rgb(0, 0, 0); fill-opacity: 0;\"/></g><g class=\"traces\" transform=\"translate(345.75,14.5)\" style=\"opacity: 1;\"><text class=\"legendtext\" text-anchor=\"start\" x=\"40\" y=\"4.680000000000001\" style=\"font-family: 'Open Sans', verdana, arial, sans-serif; font-size: 12px; fill: rgb(42, 63, 95); fill-opacity: 1; white-space: pre;\">Benchmark</text><g class=\"layers\" style=\"opacity: 1;\"><g class=\"legendfill\"/><g class=\"legendlines\"><path class=\"js-line\" d=\"M5,0h30\" style=\"fill: none; stroke: rgb(127, 127, 127); stroke-opacity: 1; stroke-width: 2px;\"/></g><g class=\"legendsymbols\"><g class=\"legendpoints\"><path class=\"scatterpts\" transform=\"translate(20,0)\" d=\"M3,0A3,3 0 1,1 0,-3A3,3 0 0,1 3,0Z\" style=\"opacity: 1; stroke-width: 0px; fill: rgb(127, 127, 127); fill-opacity: 1;\"/></g></g></g><rect class=\"legendtoggle\" x=\"0\" y=\"-9.5\" width=\"110.421875\" height=\"19\" style=\"fill: rgb(0, 0, 0); fill-opacity: 0;\"/></g><g class=\"traces\" transform=\"translate(461,14.5)\" style=\"opacity: 1;\"><text class=\"legendtext\" text-anchor=\"start\" x=\"40\" y=\"4.680000000000001\" style=\"font-family: 'Open Sans', verdana, arial, sans-serif; font-size: 12px; fill: rgb(42, 63, 95); fill-opacity: 1; white-space: pre;\">Peak</text><g class=\"layers\" style=\"opacity: 1;\"><g class=\"legendfill\"/><g class=\"legendlines\"/><g class=\"legendsymbols\"><g class=\"legendpoints\"><path class=\"scatterpts\" transform=\"translate(20,0)\" d=\"M4.55,0L0,4.55L-4.55,0L0,-4.55Z\" style=\"opacity: 1; stroke-width: 1px; fill: rgb(66, 133, 244); fill-opacity: 1; stroke: rgb(11, 84, 205); stroke-opacity: 1;\"/></g></g></g><rect class=\"legendtoggle\" x=\"0\" y=\"-9.5\" width=\"71.203125\" height=\"19\" style=\"fill: rgb(0, 0, 0); fill-opacity: 0;\"/></g><g class=\"traces\" transform=\"translate(0,33.5)\" style=\"opacity: 1;\"><text class=\"legendtext\" text-anchor=\"start\" x=\"40\" y=\"4.680000000000001\" style=\"font-family: 'Open Sans', verdana, arial, sans-serif; font-size: 12px; fill: rgb(42, 63, 95); fill-opacity: 1; white-space: pre;\">Active</text><g class=\"layers\" style=\"opacity: 1;\"><g class=\"legendfill\"/><g class=\"legendlines\"/><g class=\"legendsymbols\"><g class=\"legendpoints\"><path class=\"scatterpts\" transform=\"translate(20,0)\" d=\"M4.55,0L0,4.55L-4.55,0L0,-4.55Z\" style=\"opacity: 1; stroke-width: 1px; fill: rgb(255, 170, 0); fill-opacity: 1; stroke: rgb(178, 118, 0); stroke-opacity: 1;\"/></g></g></g><rect class=\"legendtoggle\" x=\"0\" y=\"-9.5\" width=\"79.234375\" height=\"19\" style=\"fill: rgb(0, 0, 0); fill-opacity: 0;\"/></g><g class=\"traces\" transform=\"translate(115.25,33.5)\" style=\"opacity: 1;\"><text class=\"legendtext\" text-anchor=\"start\" x=\"40\" y=\"4.680000000000001\" style=\"font-family: 'Open Sans', verdana, arial, sans-serif; font-size: 12px; fill: rgb(42, 63, 95); fill-opacity: 1; white-space: pre;\">Drawdown</text><g class=\"layers\"><g class=\"legendfill\"><path class=\"js-fill\" d=\"M5,0h30v6h-30z\" style=\"stroke-width: 0; fill: rgb(220, 57, 18); fill-opacity: 0.3;\"/></g><g class=\"legendlines\"><path class=\"js-line\" d=\"M5,0h30\" style=\"fill: none; stroke: rgb(220, 57, 18); stroke-opacity: 1; stroke-width: 2px;\"/></g><g class=\"legendsymbols\"><g class=\"legendpoints\"><path class=\"scatterpts\" transform=\"translate(20,0)\" d=\"M3,0A3,3 0 1,1 0,-3A3,3 0 0,1 3,0Z\" style=\"opacity: 1; stroke-width: 0px; fill: rgb(220, 57, 18); fill-opacity: 1;\"/></g></g></g><rect class=\"legendtoggle\" x=\"0\" y=\"-9.5\" width=\"106.078125\" height=\"19\" style=\"fill: rgb(0, 0, 0); fill-opacity: 0;\"/></g><g class=\"traces\" transform=\"translate(230.5,33.5)\" style=\"opacity: 1;\"><text class=\"legendtext\" text-anchor=\"start\" x=\"40\" y=\"4.680000000000001\" style=\"font-family: 'Open Sans', verdana, arial, sans-serif; font-size: 12px; fill: rgb(42, 63, 95); fill-opacity: 1; white-space: pre;\">Exposure</text><g class=\"layers\" style=\"opacity: 1;\"><g class=\"legendfill\"/><g class=\"legendlines\"><path class=\"js-line\" d=\"M5,0h30\" style=\"fill: none; stroke: rgb(227, 119, 194); stroke-opacity: 1; stroke-width: 2px;\"/></g><g class=\"legendsymbols\"><g class=\"legendpoints\"><path class=\"scatterpts\" transform=\"translate(20,0)\" d=\"M3,0A3,3 0 1,1 0,-3A3,3 0 0,1 3,0Z\" style=\"opacity: 1; stroke-width: 0px; fill: rgb(227, 119, 194); fill-opacity: 1;\"/></g></g></g><rect class=\"legendtoggle\" x=\"0\" y=\"-9.5\" width=\"98.078125\" height=\"19\" style=\"fill: rgb(0, 0, 0); fill-opacity: 0;\"/></g></g></g><rect class=\"scrollbar\" rx=\"20\" ry=\"3\" width=\"0\" height=\"0\" x=\"0\" y=\"0\" style=\"fill: rgb(128, 139, 164); fill-opacity: 1;\"/></g><g class=\"g-gtitle\"/><g class=\"g-xtitle\"/><g class=\"g-x2title\"/><g class=\"g-x3title\"/><g class=\"g-x4title\"/><g class=\"g-x5title\"/><g class=\"g-x6title\"/><g class=\"g-x7title\"/><g class=\"g-x8title\"/><g class=\"g-x9title\"><text class=\"x9title\" x=\"401.5\" y=\"2687.909375\" text-anchor=\"middle\" style=\"font-family: 'Open Sans', verdana, arial, sans-serif; font-size: 14px; fill: rgb(42, 63, 95); opacity: 1; font-weight: normal; white-space: pre;\">Index</text></g><g class=\"g-ytitle\"><text class=\"ytitle\" transform=\"rotate(-90,27.746875000000003,222.09300411522625)\" x=\"27.746875000000003\" y=\"222.09300411522625\" text-anchor=\"middle\" style=\"font-family: 'Open Sans', verdana, arial, sans-serif; font-size: 14px; fill: rgb(42, 63, 95); opacity: 1; font-weight: normal; white-space: pre;\">Cash flow</text></g><g class=\"g-y2title\"><text class=\"y2title\" transform=\"rotate(-90,22.309375000000003,507.8197530864194)\" x=\"22.309375000000003\" y=\"507.8197530864194\" text-anchor=\"middle\" style=\"font-family: 'Open Sans', verdana, arial, sans-serif; font-size: 14px; fill: rgb(42, 63, 95); opacity: 1; font-weight: normal; white-space: pre;\">Cash</text></g><g class=\"g-y3title\"><text class=\"y3title\" transform=\"rotate(-90,39.746875,793.546502057613)\" x=\"39.746875\" y=\"793.546502057613\" text-anchor=\"middle\" style=\"font-family: 'Open Sans', verdana, arial, sans-serif; font-size: 14px; fill: rgb(42, 63, 95); opacity: 1; font-weight: normal; white-space: pre;\">Asset value</text></g><g class=\"g-y4title\"><text class=\"y4title\" transform=\"rotate(-90,34.309375,1079.2732510288065)\" x=\"34.309375\" y=\"1079.2732510288065\" text-anchor=\"middle\" style=\"font-family: 'Open Sans', verdana, arial, sans-serif; font-size: 14px; fill: rgb(42, 63, 95); opacity: 1; font-weight: normal; white-space: pre;\">Value</text></g><g class=\"g-y5title\"><text class=\"y5title\" transform=\"rotate(-90,37.575,1365)\" x=\"37.575\" y=\"1365\" text-anchor=\"middle\" style=\"font-family: 'Open Sans', verdana, arial, sans-serif; font-size: 14px; fill: rgb(42, 63, 95); opacity: 1; font-weight: normal; white-space: pre;\">Cumulative returns</text></g><g class=\"g-y6title\"><text class=\"y6title\" transform=\"rotate(-90,34.309375,1650.7267489711933)\" x=\"34.309375\" y=\"1650.7267489711933\" text-anchor=\"middle\" style=\"font-family: 'Open Sans', verdana, arial, sans-serif; font-size: 14px; fill: rgb(42, 63, 95); opacity: 1; font-weight: normal; white-space: pre;\">Value</text></g><g class=\"g-y7title\"><text class=\"y7title\" transform=\"rotate(-90,26.825000000000003,1936.4534979423865)\" x=\"26.825000000000003\" y=\"1936.4534979423865\" text-anchor=\"middle\" style=\"font-family: 'Open Sans', verdana, arial, sans-serif; font-size: 14px; fill: rgb(42, 63, 95); opacity: 1; font-weight: normal; white-space: pre;\">Drawdown</text></g><g class=\"g-y8title\"><text class=\"y8title\" transform=\"rotate(-90,37.575,2222.1802469135805)\" x=\"37.575\" y=\"2222.1802469135805\" text-anchor=\"middle\" style=\"font-family: 'Open Sans', verdana, arial, sans-serif; font-size: 14px; fill: rgb(42, 63, 95); opacity: 1; font-weight: normal; white-space: pre;\">Gross exposure</text></g><g class=\"g-y9title\" transform=\"translate(1.50390625,0)\"><text class=\"y9title\" transform=\"rotate(-90,12.496875000000003,2507.9069958847736)\" x=\"12.496875000000003\" y=\"2507.9069958847736\" text-anchor=\"middle\" style=\"font-family: 'Open Sans', verdana, arial, sans-serif; font-size: 14px; fill: rgb(42, 63, 95); opacity: 1; font-weight: normal; white-space: pre;\">Net exposure</text></g><g class=\"annotation\" data-index=\"0\" style=\"opacity: 1;\"><g class=\"annotation-text-g\" transform=\"rotate(0,401.5,86)\"><g class=\"cursor-pointer\" transform=\"translate(359,74)\"><rect class=\"bg\" x=\"0.5\" y=\"0.5\" width=\"84\" height=\"23\" style=\"stroke-width: 1px; stroke: rgb(0, 0, 0); stroke-opacity: 0; fill: rgb(0, 0, 0); fill-opacity: 0;\"/><text class=\"annotation-text\" text-anchor=\"middle\" x=\"42.640625\" y=\"18\" style=\"font-family: 'Open Sans', verdana, arial, sans-serif; font-size: 16px; fill: rgb(42, 63, 95); fill-opacity: 1; white-space: pre;\">Cash Flow</text></g></g></g><g class=\"annotation\" data-index=\"1\" style=\"opacity: 1;\"><g class=\"annotation-text-g\" transform=\"rotate(0,401.5,371.726748971193)\"><g class=\"cursor-pointer\" transform=\"translate(380,360)\"><rect class=\"bg\" x=\"0.5\" y=\"0.5\" width=\"42\" height=\"23\" style=\"stroke-width: 1px; stroke: rgb(0, 0, 0); stroke-opacity: 0; fill: rgb(0, 0, 0); fill-opacity: 0;\"/><text class=\"annotation-text\" text-anchor=\"middle\" x=\"21.625\" y=\"18\" style=\"font-family: 'Open Sans', verdana, arial, sans-serif; font-size: 16px; fill: rgb(42, 63, 95); fill-opacity: 1; white-space: pre;\">Cash</text></g></g></g><g class=\"annotation\" data-index=\"2\" style=\"opacity: 1;\"><g class=\"annotation-text-g\" transform=\"rotate(0,401.5,657.4534979423865)\"><g class=\"cursor-pointer\" transform=\"translate(353,645)\"><rect class=\"bg\" x=\"0.5\" y=\"0.5\" width=\"97\" height=\"23\" style=\"stroke-width: 1px; stroke: rgb(0, 0, 0); stroke-opacity: 0; fill: rgb(0, 0, 0); fill-opacity: 0;\"/><text class=\"annotation-text\" text-anchor=\"middle\" x=\"48.84375\" y=\"18\" style=\"font-family: 'Open Sans', verdana, arial, sans-serif; font-size: 16px; fill: rgb(42, 63, 95); fill-opacity: 1; white-space: pre;\">Asset Value</text></g></g></g><g class=\"annotation\" data-index=\"3\" style=\"opacity: 1;\"><g class=\"annotation-text-g\" transform=\"rotate(0,401.5,943.1802469135802)\"><g class=\"cursor-pointer\" transform=\"translate(377,931)\"><rect class=\"bg\" x=\"0.5\" y=\"0.5\" width=\"48\" height=\"23\" style=\"stroke-width: 1px; stroke: rgb(0, 0, 0); stroke-opacity: 0; fill: rgb(0, 0, 0); fill-opacity: 0;\"/><text class=\"annotation-text\" text-anchor=\"middle\" x=\"24.296875\" y=\"18\" style=\"font-family: 'Open Sans', verdana, arial, sans-serif; font-size: 16px; fill: rgb(42, 63, 95); fill-opacity: 1; white-space: pre;\">Value</text></g></g></g><g class=\"annotation\" data-index=\"4\" style=\"opacity: 1;\"><g class=\"annotation-text-g\" transform=\"rotate(0,401.5,1228.9069958847736)\"><g class=\"cursor-pointer\" transform=\"translate(320,1217)\"><rect class=\"bg\" x=\"0.5\" y=\"0.5\" width=\"162\" height=\"23\" style=\"stroke-width: 1px; stroke: rgb(0, 0, 0); stroke-opacity: 0; fill: rgb(0, 0, 0); fill-opacity: 0;\"/><text class=\"annotation-text\" text-anchor=\"middle\" x=\"81.34375\" y=\"18\" style=\"font-family: 'Open Sans', verdana, arial, sans-serif; font-size: 16px; fill: rgb(42, 63, 95); fill-opacity: 1; white-space: pre;\">Cumulative Returns</text></g></g></g><g class=\"annotation\" data-index=\"5\" style=\"opacity: 1;\"><g class=\"annotation-text-g\" transform=\"rotate(0,401.5,1514.633744855967)\"><g class=\"cursor-pointer\" transform=\"translate(353,1503)\"><rect class=\"bg\" x=\"0.5\" y=\"0.5\" width=\"96\" height=\"23\" style=\"stroke-width: 1px; stroke: rgb(0, 0, 0); stroke-opacity: 0; fill: rgb(0, 0, 0); fill-opacity: 0;\"/><text class=\"annotation-text\" text-anchor=\"middle\" x=\"48.546875\" y=\"18\" style=\"font-family: 'Open Sans', verdana, arial, sans-serif; font-size: 16px; fill: rgb(42, 63, 95); fill-opacity: 1; white-space: pre;\">Drawdowns</text></g></g></g><g class=\"annotation\" data-index=\"6\" style=\"opacity: 1;\"><g class=\"annotation-text-g\" transform=\"rotate(0,401.5,1800.3604938271603)\"><g class=\"cursor-pointer\" transform=\"translate(353,1788)\"><rect class=\"bg\" x=\"0.5\" y=\"0.5\" width=\"97\" height=\"23\" style=\"stroke-width: 1px; stroke: rgb(0, 0, 0); stroke-opacity: 0; fill: rgb(0, 0, 0); fill-opacity: 0;\"/><text class=\"annotation-text\" text-anchor=\"middle\" x=\"48.765625\" y=\"18\" style=\"font-family: 'Open Sans', verdana, arial, sans-serif; font-size: 16px; fill: rgb(42, 63, 95); fill-opacity: 1; white-space: pre;\">Underwater</text></g></g></g><g class=\"annotation\" data-index=\"7\" style=\"opacity: 1;\"><g class=\"annotation-text-g\" transform=\"rotate(0,401.5,2086.087242798354)\"><g class=\"cursor-pointer\" transform=\"translate(337,2074)\"><rect class=\"bg\" x=\"0.5\" y=\"0.5\" width=\"128\" height=\"23\" style=\"stroke-width: 1px; stroke: rgb(0, 0, 0); stroke-opacity: 0; fill: rgb(0, 0, 0); fill-opacity: 0;\"/><text class=\"annotation-text\" text-anchor=\"middle\" x=\"64.671875\" y=\"18\" style=\"font-family: 'Open Sans', verdana, arial, sans-serif; font-size: 16px; fill: rgb(42, 63, 95); fill-opacity: 1; white-space: pre;\">Gross Exposure</text></g></g></g><g class=\"annotation\" data-index=\"8\" style=\"opacity: 1;\"><g class=\"annotation-text-g\" transform=\"rotate(0,401.5,2371.813991769547)\"><g class=\"cursor-pointer\" transform=\"translate(346,2360)\"><rect class=\"bg\" x=\"0.5\" y=\"0.5\" width=\"111\" height=\"23\" style=\"stroke-width: 1px; stroke: rgb(0, 0, 0); stroke-opacity: 0; fill: rgb(0, 0, 0); fill-opacity: 0;\"/><text class=\"annotation-text\" text-anchor=\"middle\" x=\"55.765625\" y=\"18\" style=\"font-family: 'Open Sans', verdana, arial, sans-serif; font-size: 16px; fill: rgb(42, 63, 95); fill-opacity: 1; white-space: pre;\">Net Exposure</text></g></g></g></g></svg>"
      ]
     },
     "metadata": {},
     "output_type": "display_data"
    }
   ],
   "source": [
    "portfolio_shared['first'].plot(subplots='all').show_svg()"
   ]
  },
  {
   "cell_type": "code",
   "execution_count": 12,
   "metadata": {},
   "outputs": [
    {
     "name": "stderr",
     "output_type": "stream",
     "text": [
      "/Users/olegpolakow/Documents/SourceTree/vectorbt/vectorbt/generic/plots_builder.py:340: UserWarning:\n",
      "\n",
      "Subplot 'orders' does not support grouped data\n",
      "\n",
      "/Users/olegpolakow/Documents/SourceTree/vectorbt/vectorbt/generic/plots_builder.py:340: UserWarning:\n",
      "\n",
      "Subplot 'trades' does not support grouped data\n",
      "\n",
      "/Users/olegpolakow/Documents/SourceTree/vectorbt/vectorbt/generic/plots_builder.py:340: UserWarning:\n",
      "\n",
      "Subplot 'trade_pnl' does not support grouped data\n",
      "\n",
      "/Users/olegpolakow/Documents/SourceTree/vectorbt/vectorbt/generic/plots_builder.py:340: UserWarning:\n",
      "\n",
      "Subplot 'asset_flow' does not support grouped data\n",
      "\n",
      "/Users/olegpolakow/Documents/SourceTree/vectorbt/vectorbt/generic/plots_builder.py:340: UserWarning:\n",
      "\n",
      "Subplot 'assets' does not support grouped data\n",
      "\n"
     ]
    },
    {
     "data": {
      "image/svg+xml": [
       "<svg class=\"main-svg\" xmlns=\"http://www.w3.org/2000/svg\" xmlns:xlink=\"http://www.w3.org/1999/xlink\" width=\"750\" height=\"2700\" style=\"\" viewBox=\"0 0 750 2700\"><rect x=\"0\" y=\"0\" width=\"750\" height=\"2700\" style=\"fill: rgb(255, 255, 255); fill-opacity: 1;\"/><defs id=\"defs-bdddc0\"><g class=\"clips\"><clipPath id=\"clipbdddc0xyplot\" class=\"plotclip\"><rect width=\"637\" height=\"248.1860082304525\"/></clipPath><clipPath id=\"clipbdddc0x2y2plot\" class=\"plotclip\"><rect width=\"637\" height=\"248.18600823045279\"/></clipPath><clipPath id=\"clipbdddc0x3y3plot\" class=\"plotclip\"><rect width=\"637\" height=\"248.18600823045279\"/></clipPath><clipPath id=\"clipbdddc0x4y4plot\" class=\"plotclip\"><rect width=\"637\" height=\"248.18600823045279\"/></clipPath><clipPath id=\"clipbdddc0x5y5plot\" class=\"plotclip\"><rect width=\"637\" height=\"248.18600823045279\"/></clipPath><clipPath id=\"clipbdddc0x6y6plot\" class=\"plotclip\"><rect width=\"637\" height=\"248.18600823045264\"/></clipPath><clipPath id=\"clipbdddc0x7y7plot\" class=\"plotclip\"><rect width=\"637\" height=\"248.18600823045264\"/></clipPath><clipPath id=\"clipbdddc0x8y8plot\" class=\"plotclip\"><rect width=\"637\" height=\"248.18600823045264\"/></clipPath><clipPath id=\"clipbdddc0x9y9plot\" class=\"plotclip\"><rect width=\"637\" height=\"248.18600823045267\"/></clipPath><clipPath class=\"axesclip\" id=\"clipbdddc0x\"><rect x=\"83\" y=\"0\" width=\"637\" height=\"2700\"/></clipPath><clipPath class=\"axesclip\" id=\"clipbdddc0y\"><rect x=\"0\" y=\"98\" width=\"750\" height=\"248.1860082304525\"/></clipPath><clipPath class=\"axesclip\" id=\"clipbdddc0xy\"><rect x=\"83\" y=\"98\" width=\"637\" height=\"248.1860082304525\"/></clipPath><clipPath class=\"axesclip\" id=\"clipbdddc0y2\"><rect x=\"0\" y=\"383.726748971193\" width=\"750\" height=\"248.18600823045279\"/></clipPath><clipPath class=\"axesclip\" id=\"clipbdddc0xy2\"><rect x=\"83\" y=\"383.726748971193\" width=\"637\" height=\"248.18600823045279\"/></clipPath><clipPath class=\"axesclip\" id=\"clipbdddc0y3\"><rect x=\"0\" y=\"669.4534979423865\" width=\"750\" height=\"248.18600823045279\"/></clipPath><clipPath class=\"axesclip\" id=\"clipbdddc0xy3\"><rect x=\"83\" y=\"669.4534979423865\" width=\"637\" height=\"248.18600823045279\"/></clipPath><clipPath class=\"axesclip\" id=\"clipbdddc0y4\"><rect x=\"0\" y=\"955.1802469135802\" width=\"750\" height=\"248.18600823045279\"/></clipPath><clipPath class=\"axesclip\" id=\"clipbdddc0xy4\"><rect x=\"83\" y=\"955.1802469135802\" width=\"637\" height=\"248.18600823045279\"/></clipPath><clipPath class=\"axesclip\" id=\"clipbdddc0y5\"><rect x=\"0\" y=\"1240.9069958847736\" width=\"750\" height=\"248.18600823045279\"/></clipPath><clipPath class=\"axesclip\" id=\"clipbdddc0xy5\"><rect x=\"83\" y=\"1240.9069958847736\" width=\"637\" height=\"248.18600823045279\"/></clipPath><clipPath class=\"axesclip\" id=\"clipbdddc0y6\"><rect x=\"0\" y=\"1526.633744855967\" width=\"750\" height=\"248.18600823045264\"/></clipPath><clipPath class=\"axesclip\" id=\"clipbdddc0xy6\"><rect x=\"83\" y=\"1526.633744855967\" width=\"637\" height=\"248.18600823045264\"/></clipPath><clipPath class=\"axesclip\" id=\"clipbdddc0y7\"><rect x=\"0\" y=\"1812.3604938271603\" width=\"750\" height=\"248.18600823045264\"/></clipPath><clipPath class=\"axesclip\" id=\"clipbdddc0xy7\"><rect x=\"83\" y=\"1812.3604938271603\" width=\"637\" height=\"248.18600823045264\"/></clipPath><clipPath class=\"axesclip\" id=\"clipbdddc0y8\"><rect x=\"0\" y=\"2098.087242798354\" width=\"750\" height=\"248.18600823045264\"/></clipPath><clipPath class=\"axesclip\" id=\"clipbdddc0xy8\"><rect x=\"83\" y=\"2098.087242798354\" width=\"637\" height=\"248.18600823045264\"/></clipPath><clipPath class=\"axesclip\" id=\"clipbdddc0y9\"><rect x=\"0\" y=\"2383.813991769547\" width=\"750\" height=\"248.18600823045267\"/></clipPath><clipPath class=\"axesclip\" id=\"clipbdddc0xy9\"><rect x=\"83\" y=\"2383.813991769547\" width=\"637\" height=\"248.18600823045267\"/></clipPath><clipPath class=\"axesclip\" id=\"clipbdddc0x2\"><rect x=\"83\" y=\"0\" width=\"637\" height=\"2700\"/></clipPath><clipPath class=\"axesclip\" id=\"clipbdddc0x2y\"><rect x=\"83\" y=\"98\" width=\"637\" height=\"248.1860082304525\"/></clipPath><clipPath class=\"axesclip\" id=\"clipbdddc0x2y2\"><rect x=\"83\" y=\"383.726748971193\" width=\"637\" height=\"248.18600823045279\"/></clipPath><clipPath class=\"axesclip\" id=\"clipbdddc0x2y3\"><rect x=\"83\" y=\"669.4534979423865\" width=\"637\" height=\"248.18600823045279\"/></clipPath><clipPath class=\"axesclip\" id=\"clipbdddc0x2y4\"><rect x=\"83\" y=\"955.1802469135802\" width=\"637\" height=\"248.18600823045279\"/></clipPath><clipPath class=\"axesclip\" id=\"clipbdddc0x2y5\"><rect x=\"83\" y=\"1240.9069958847736\" width=\"637\" height=\"248.18600823045279\"/></clipPath><clipPath class=\"axesclip\" id=\"clipbdddc0x2y6\"><rect x=\"83\" y=\"1526.633744855967\" width=\"637\" height=\"248.18600823045264\"/></clipPath><clipPath class=\"axesclip\" id=\"clipbdddc0x2y7\"><rect x=\"83\" y=\"1812.3604938271603\" width=\"637\" height=\"248.18600823045264\"/></clipPath><clipPath class=\"axesclip\" id=\"clipbdddc0x2y8\"><rect x=\"83\" y=\"2098.087242798354\" width=\"637\" height=\"248.18600823045264\"/></clipPath><clipPath class=\"axesclip\" id=\"clipbdddc0x2y9\"><rect x=\"83\" y=\"2383.813991769547\" width=\"637\" height=\"248.18600823045267\"/></clipPath><clipPath class=\"axesclip\" id=\"clipbdddc0x3\"><rect x=\"83\" y=\"0\" width=\"637\" height=\"2700\"/></clipPath><clipPath class=\"axesclip\" id=\"clipbdddc0x3y\"><rect x=\"83\" y=\"98\" width=\"637\" height=\"248.1860082304525\"/></clipPath><clipPath class=\"axesclip\" id=\"clipbdddc0x3y2\"><rect x=\"83\" y=\"383.726748971193\" width=\"637\" height=\"248.18600823045279\"/></clipPath><clipPath class=\"axesclip\" id=\"clipbdddc0x3y3\"><rect x=\"83\" y=\"669.4534979423865\" width=\"637\" height=\"248.18600823045279\"/></clipPath><clipPath class=\"axesclip\" id=\"clipbdddc0x3y4\"><rect x=\"83\" y=\"955.1802469135802\" width=\"637\" height=\"248.18600823045279\"/></clipPath><clipPath class=\"axesclip\" id=\"clipbdddc0x3y5\"><rect x=\"83\" y=\"1240.9069958847736\" width=\"637\" height=\"248.18600823045279\"/></clipPath><clipPath class=\"axesclip\" id=\"clipbdddc0x3y6\"><rect x=\"83\" y=\"1526.633744855967\" width=\"637\" height=\"248.18600823045264\"/></clipPath><clipPath class=\"axesclip\" id=\"clipbdddc0x3y7\"><rect x=\"83\" y=\"1812.3604938271603\" width=\"637\" height=\"248.18600823045264\"/></clipPath><clipPath class=\"axesclip\" id=\"clipbdddc0x3y8\"><rect x=\"83\" y=\"2098.087242798354\" width=\"637\" height=\"248.18600823045264\"/></clipPath><clipPath class=\"axesclip\" id=\"clipbdddc0x3y9\"><rect x=\"83\" y=\"2383.813991769547\" width=\"637\" height=\"248.18600823045267\"/></clipPath><clipPath class=\"axesclip\" id=\"clipbdddc0x4\"><rect x=\"83\" y=\"0\" width=\"637\" height=\"2700\"/></clipPath><clipPath class=\"axesclip\" id=\"clipbdddc0x4y\"><rect x=\"83\" y=\"98\" width=\"637\" height=\"248.1860082304525\"/></clipPath><clipPath class=\"axesclip\" id=\"clipbdddc0x4y2\"><rect x=\"83\" y=\"383.726748971193\" width=\"637\" height=\"248.18600823045279\"/></clipPath><clipPath class=\"axesclip\" id=\"clipbdddc0x4y3\"><rect x=\"83\" y=\"669.4534979423865\" width=\"637\" height=\"248.18600823045279\"/></clipPath><clipPath class=\"axesclip\" id=\"clipbdddc0x4y4\"><rect x=\"83\" y=\"955.1802469135802\" width=\"637\" height=\"248.18600823045279\"/></clipPath><clipPath class=\"axesclip\" id=\"clipbdddc0x4y5\"><rect x=\"83\" y=\"1240.9069958847736\" width=\"637\" height=\"248.18600823045279\"/></clipPath><clipPath class=\"axesclip\" id=\"clipbdddc0x4y6\"><rect x=\"83\" y=\"1526.633744855967\" width=\"637\" height=\"248.18600823045264\"/></clipPath><clipPath class=\"axesclip\" id=\"clipbdddc0x4y7\"><rect x=\"83\" y=\"1812.3604938271603\" width=\"637\" height=\"248.18600823045264\"/></clipPath><clipPath class=\"axesclip\" id=\"clipbdddc0x4y8\"><rect x=\"83\" y=\"2098.087242798354\" width=\"637\" height=\"248.18600823045264\"/></clipPath><clipPath class=\"axesclip\" id=\"clipbdddc0x4y9\"><rect x=\"83\" y=\"2383.813991769547\" width=\"637\" height=\"248.18600823045267\"/></clipPath><clipPath class=\"axesclip\" id=\"clipbdddc0x5\"><rect x=\"83\" y=\"0\" width=\"637\" height=\"2700\"/></clipPath><clipPath class=\"axesclip\" id=\"clipbdddc0x5y\"><rect x=\"83\" y=\"98\" width=\"637\" height=\"248.1860082304525\"/></clipPath><clipPath class=\"axesclip\" id=\"clipbdddc0x5y2\"><rect x=\"83\" y=\"383.726748971193\" width=\"637\" height=\"248.18600823045279\"/></clipPath><clipPath class=\"axesclip\" id=\"clipbdddc0x5y3\"><rect x=\"83\" y=\"669.4534979423865\" width=\"637\" height=\"248.18600823045279\"/></clipPath><clipPath class=\"axesclip\" id=\"clipbdddc0x5y4\"><rect x=\"83\" y=\"955.1802469135802\" width=\"637\" height=\"248.18600823045279\"/></clipPath><clipPath class=\"axesclip\" id=\"clipbdddc0x5y5\"><rect x=\"83\" y=\"1240.9069958847736\" width=\"637\" height=\"248.18600823045279\"/></clipPath><clipPath class=\"axesclip\" id=\"clipbdddc0x5y6\"><rect x=\"83\" y=\"1526.633744855967\" width=\"637\" height=\"248.18600823045264\"/></clipPath><clipPath class=\"axesclip\" id=\"clipbdddc0x5y7\"><rect x=\"83\" y=\"1812.3604938271603\" width=\"637\" height=\"248.18600823045264\"/></clipPath><clipPath class=\"axesclip\" id=\"clipbdddc0x5y8\"><rect x=\"83\" y=\"2098.087242798354\" width=\"637\" height=\"248.18600823045264\"/></clipPath><clipPath class=\"axesclip\" id=\"clipbdddc0x5y9\"><rect x=\"83\" y=\"2383.813991769547\" width=\"637\" height=\"248.18600823045267\"/></clipPath><clipPath class=\"axesclip\" id=\"clipbdddc0x6\"><rect x=\"83\" y=\"0\" width=\"637\" height=\"2700\"/></clipPath><clipPath class=\"axesclip\" id=\"clipbdddc0x6y\"><rect x=\"83\" y=\"98\" width=\"637\" height=\"248.1860082304525\"/></clipPath><clipPath class=\"axesclip\" id=\"clipbdddc0x6y2\"><rect x=\"83\" y=\"383.726748971193\" width=\"637\" height=\"248.18600823045279\"/></clipPath><clipPath class=\"axesclip\" id=\"clipbdddc0x6y3\"><rect x=\"83\" y=\"669.4534979423865\" width=\"637\" height=\"248.18600823045279\"/></clipPath><clipPath class=\"axesclip\" id=\"clipbdddc0x6y4\"><rect x=\"83\" y=\"955.1802469135802\" width=\"637\" height=\"248.18600823045279\"/></clipPath><clipPath class=\"axesclip\" id=\"clipbdddc0x6y5\"><rect x=\"83\" y=\"1240.9069958847736\" width=\"637\" height=\"248.18600823045279\"/></clipPath><clipPath class=\"axesclip\" id=\"clipbdddc0x6y6\"><rect x=\"83\" y=\"1526.633744855967\" width=\"637\" height=\"248.18600823045264\"/></clipPath><clipPath class=\"axesclip\" id=\"clipbdddc0x6y7\"><rect x=\"83\" y=\"1812.3604938271603\" width=\"637\" height=\"248.18600823045264\"/></clipPath><clipPath class=\"axesclip\" id=\"clipbdddc0x6y8\"><rect x=\"83\" y=\"2098.087242798354\" width=\"637\" height=\"248.18600823045264\"/></clipPath><clipPath class=\"axesclip\" id=\"clipbdddc0x6y9\"><rect x=\"83\" y=\"2383.813991769547\" width=\"637\" height=\"248.18600823045267\"/></clipPath><clipPath class=\"axesclip\" id=\"clipbdddc0x7\"><rect x=\"83\" y=\"0\" width=\"637\" height=\"2700\"/></clipPath><clipPath class=\"axesclip\" id=\"clipbdddc0x7y\"><rect x=\"83\" y=\"98\" width=\"637\" height=\"248.1860082304525\"/></clipPath><clipPath class=\"axesclip\" id=\"clipbdddc0x7y2\"><rect x=\"83\" y=\"383.726748971193\" width=\"637\" height=\"248.18600823045279\"/></clipPath><clipPath class=\"axesclip\" id=\"clipbdddc0x7y3\"><rect x=\"83\" y=\"669.4534979423865\" width=\"637\" height=\"248.18600823045279\"/></clipPath><clipPath class=\"axesclip\" id=\"clipbdddc0x7y4\"><rect x=\"83\" y=\"955.1802469135802\" width=\"637\" height=\"248.18600823045279\"/></clipPath><clipPath class=\"axesclip\" id=\"clipbdddc0x7y5\"><rect x=\"83\" y=\"1240.9069958847736\" width=\"637\" height=\"248.18600823045279\"/></clipPath><clipPath class=\"axesclip\" id=\"clipbdddc0x7y6\"><rect x=\"83\" y=\"1526.633744855967\" width=\"637\" height=\"248.18600823045264\"/></clipPath><clipPath class=\"axesclip\" id=\"clipbdddc0x7y7\"><rect x=\"83\" y=\"1812.3604938271603\" width=\"637\" height=\"248.18600823045264\"/></clipPath><clipPath class=\"axesclip\" id=\"clipbdddc0x7y8\"><rect x=\"83\" y=\"2098.087242798354\" width=\"637\" height=\"248.18600823045264\"/></clipPath><clipPath class=\"axesclip\" id=\"clipbdddc0x7y9\"><rect x=\"83\" y=\"2383.813991769547\" width=\"637\" height=\"248.18600823045267\"/></clipPath><clipPath class=\"axesclip\" id=\"clipbdddc0x8\"><rect x=\"83\" y=\"0\" width=\"637\" height=\"2700\"/></clipPath><clipPath class=\"axesclip\" id=\"clipbdddc0x8y\"><rect x=\"83\" y=\"98\" width=\"637\" height=\"248.1860082304525\"/></clipPath><clipPath class=\"axesclip\" id=\"clipbdddc0x8y2\"><rect x=\"83\" y=\"383.726748971193\" width=\"637\" height=\"248.18600823045279\"/></clipPath><clipPath class=\"axesclip\" id=\"clipbdddc0x8y3\"><rect x=\"83\" y=\"669.4534979423865\" width=\"637\" height=\"248.18600823045279\"/></clipPath><clipPath class=\"axesclip\" id=\"clipbdddc0x8y4\"><rect x=\"83\" y=\"955.1802469135802\" width=\"637\" height=\"248.18600823045279\"/></clipPath><clipPath class=\"axesclip\" id=\"clipbdddc0x8y5\"><rect x=\"83\" y=\"1240.9069958847736\" width=\"637\" height=\"248.18600823045279\"/></clipPath><clipPath class=\"axesclip\" id=\"clipbdddc0x8y6\"><rect x=\"83\" y=\"1526.633744855967\" width=\"637\" height=\"248.18600823045264\"/></clipPath><clipPath class=\"axesclip\" id=\"clipbdddc0x8y7\"><rect x=\"83\" y=\"1812.3604938271603\" width=\"637\" height=\"248.18600823045264\"/></clipPath><clipPath class=\"axesclip\" id=\"clipbdddc0x8y8\"><rect x=\"83\" y=\"2098.087242798354\" width=\"637\" height=\"248.18600823045264\"/></clipPath><clipPath class=\"axesclip\" id=\"clipbdddc0x8y9\"><rect x=\"83\" y=\"2383.813991769547\" width=\"637\" height=\"248.18600823045267\"/></clipPath><clipPath class=\"axesclip\" id=\"clipbdddc0x9\"><rect x=\"83\" y=\"0\" width=\"637\" height=\"2700\"/></clipPath><clipPath class=\"axesclip\" id=\"clipbdddc0x9y\"><rect x=\"83\" y=\"98\" width=\"637\" height=\"248.1860082304525\"/></clipPath><clipPath class=\"axesclip\" id=\"clipbdddc0x9y2\"><rect x=\"83\" y=\"383.726748971193\" width=\"637\" height=\"248.18600823045279\"/></clipPath><clipPath class=\"axesclip\" id=\"clipbdddc0x9y3\"><rect x=\"83\" y=\"669.4534979423865\" width=\"637\" height=\"248.18600823045279\"/></clipPath><clipPath class=\"axesclip\" id=\"clipbdddc0x9y4\"><rect x=\"83\" y=\"955.1802469135802\" width=\"637\" height=\"248.18600823045279\"/></clipPath><clipPath class=\"axesclip\" id=\"clipbdddc0x9y5\"><rect x=\"83\" y=\"1240.9069958847736\" width=\"637\" height=\"248.18600823045279\"/></clipPath><clipPath class=\"axesclip\" id=\"clipbdddc0x9y6\"><rect x=\"83\" y=\"1526.633744855967\" width=\"637\" height=\"248.18600823045264\"/></clipPath><clipPath class=\"axesclip\" id=\"clipbdddc0x9y7\"><rect x=\"83\" y=\"1812.3604938271603\" width=\"637\" height=\"248.18600823045264\"/></clipPath><clipPath class=\"axesclip\" id=\"clipbdddc0x9y8\"><rect x=\"83\" y=\"2098.087242798354\" width=\"637\" height=\"248.18600823045264\"/></clipPath><clipPath class=\"axesclip\" id=\"clipbdddc0x9y9\"><rect x=\"83\" y=\"2383.813991769547\" width=\"637\" height=\"248.18600823045267\"/></clipPath></g><g class=\"gradients\"/><g class=\"patterns\"/></defs><g class=\"bglayer\"><rect class=\"bg\" x=\"83\" y=\"98\" width=\"637\" height=\"248.1860082304525\" style=\"fill: rgb(229, 236, 246); fill-opacity: 1; stroke-width: 0;\"/><rect class=\"bg\" x=\"83\" y=\"383.726748971193\" width=\"637\" height=\"248.18600823045279\" style=\"fill: rgb(229, 236, 246); fill-opacity: 1; stroke-width: 0;\"/><rect class=\"bg\" x=\"83\" y=\"669.4534979423865\" width=\"637\" height=\"248.18600823045279\" style=\"fill: rgb(229, 236, 246); fill-opacity: 1; stroke-width: 0;\"/><rect class=\"bg\" x=\"83\" y=\"955.1802469135802\" width=\"637\" height=\"248.18600823045279\" style=\"fill: rgb(229, 236, 246); fill-opacity: 1; stroke-width: 0;\"/><rect class=\"bg\" x=\"83\" y=\"1240.9069958847736\" width=\"637\" height=\"248.18600823045279\" style=\"fill: rgb(229, 236, 246); fill-opacity: 1; stroke-width: 0;\"/><rect class=\"bg\" x=\"83\" y=\"1526.633744855967\" width=\"637\" height=\"248.18600823045264\" style=\"fill: rgb(229, 236, 246); fill-opacity: 1; stroke-width: 0;\"/><rect class=\"bg\" x=\"83\" y=\"1812.3604938271603\" width=\"637\" height=\"248.18600823045264\" style=\"fill: rgb(229, 236, 246); fill-opacity: 1; stroke-width: 0;\"/><rect class=\"bg\" x=\"83\" y=\"2098.087242798354\" width=\"637\" height=\"248.18600823045264\" style=\"fill: rgb(229, 236, 246); fill-opacity: 1; stroke-width: 0;\"/><rect class=\"bg\" x=\"83\" y=\"2383.813991769547\" width=\"637\" height=\"248.18600823045267\" style=\"fill: rgb(229, 236, 246); fill-opacity: 1; stroke-width: 0;\"/></g><g class=\"layer-below\"><g class=\"imagelayer\"/><g class=\"shapelayer\"><path data-index=\"5\" fill-rule=\"evenodd\" d=\"M118.89,1774.8197530864195H684.11V1526.633744855967H118.89Z\" clip-path=\"url(#clipbdddc0x6)\" style=\"opacity: 0.2; stroke: rgb(0, 0, 0); stroke-opacity: 0; fill: rgb(255, 165, 0); fill-opacity: 1; stroke-width: 0px;\"/></g></g><g class=\"cartesianlayer\"><g class=\"subplot xy\"><g class=\"layer-subplot\"><g class=\"shapelayer\"/><g class=\"imagelayer\"/></g><g class=\"gridlayer\"><g class=\"x\"><path class=\"xgrid crisp\" transform=\"translate(118.89,0)\" d=\"M0,98v248.1860082304525\" style=\"stroke: rgb(255, 255, 255); stroke-opacity: 1; stroke-width: 1px;\"/><path class=\"xgrid crisp\" transform=\"translate(260.19,0)\" d=\"M0,98v248.1860082304525\" style=\"stroke: rgb(255, 255, 255); stroke-opacity: 1; stroke-width: 1px;\"/><path class=\"xgrid crisp\" transform=\"translate(401.5,0)\" d=\"M0,98v248.1860082304525\" style=\"stroke: rgb(255, 255, 255); stroke-opacity: 1; stroke-width: 1px;\"/><path class=\"xgrid crisp\" transform=\"translate(542.81,0)\" d=\"M0,98v248.1860082304525\" style=\"stroke: rgb(255, 255, 255); stroke-opacity: 1; stroke-width: 1px;\"/><path class=\"xgrid crisp\" transform=\"translate(684.11,0)\" d=\"M0,98v248.1860082304525\" style=\"stroke: rgb(255, 255, 255); stroke-opacity: 1; stroke-width: 1px;\"/></g><g class=\"y\"><path class=\"ygrid crisp\" transform=\"translate(0,328.78)\" d=\"M83,0h637\" style=\"stroke: rgb(255, 255, 255); stroke-opacity: 1; stroke-width: 1px;\"/><path class=\"ygrid crisp\" transform=\"translate(0,173.26999999999998)\" d=\"M83,0h637\" style=\"stroke: rgb(255, 255, 255); stroke-opacity: 1; stroke-width: 1px;\"/></g></g><g class=\"zerolinelayer\"><path class=\"yzl zl crisp\" transform=\"translate(0,251.02)\" d=\"M83,0h637\" style=\"stroke: rgb(255, 255, 255); stroke-opacity: 1; stroke-width: 2px;\"/></g><path class=\"xlines-below\"/><path class=\"ylines-below\"/><g class=\"overlines-below\"/><g class=\"xaxislayer-below\"/><g class=\"yaxislayer-below\"/><g class=\"overaxes-below\"/><g class=\"plot\" transform=\"translate(83,98)\" clip-path=\"url(#clipbdddc0xyplot)\"><g class=\"scatterlayer mlayer\"><g class=\"trace scatter trace71ab4af4-a475-4e6c-8005-24faee2375b8\" style=\"stroke-miterlimit: 2; opacity: 1;\"><g class=\"fills\"/><g class=\"errorbars\"/><g class=\"lines\"><path class=\"js-line\" d=\"M35.89,16.16L177.19,185.37L318.5,122.85L459.81,232.03L601.11,215.23\" style=\"vector-effect: non-scaling-stroke; fill: none; stroke: rgb(44, 160, 44); stroke-opacity: 1; stroke-width: 2px; opacity: 1;\"/></g><g class=\"points\"><path class=\"point\" transform=\"translate(35.89,16.16)\" d=\"M3,0A3,3 0 1,1 0,-3A3,3 0 0,1 3,0Z\" style=\"opacity: 1; stroke-width: 0px; fill: rgb(44, 160, 44); fill-opacity: 1;\"/><path class=\"point\" transform=\"translate(177.19,185.37)\" d=\"M3,0A3,3 0 1,1 0,-3A3,3 0 0,1 3,0Z\" style=\"opacity: 1; stroke-width: 0px; fill: rgb(44, 160, 44); fill-opacity: 1;\"/><path class=\"point\" transform=\"translate(318.5,122.85)\" d=\"M3,0A3,3 0 1,1 0,-3A3,3 0 0,1 3,0Z\" style=\"opacity: 1; stroke-width: 0px; fill: rgb(44, 160, 44); fill-opacity: 1;\"/><path class=\"point\" transform=\"translate(459.81,232.03)\" d=\"M3,0A3,3 0 1,1 0,-3A3,3 0 0,1 3,0Z\" style=\"opacity: 1; stroke-width: 0px; fill: rgb(44, 160, 44); fill-opacity: 1;\"/><path class=\"point\" transform=\"translate(601.11,215.23)\" d=\"M3,0A3,3 0 1,1 0,-3A3,3 0 0,1 3,0Z\" style=\"opacity: 1; stroke-width: 0px; fill: rgb(44, 160, 44); fill-opacity: 1;\"/></g><g class=\"text\"/></g></g></g><g class=\"overplot\"/><path class=\"xlines-above crisp\" d=\"M0,0\" style=\"fill: none;\"/><path class=\"ylines-above crisp\" d=\"M0,0\" style=\"fill: none;\"/><g class=\"overlines-above\"/><g class=\"xaxislayer-above\"/><g class=\"yaxislayer-above\"><g class=\"ytick\"><text text-anchor=\"end\" x=\"82\" y=\"4.199999999999999\" transform=\"translate(0,328.78)\" style=\"font-family: 'Open Sans', verdana, arial, sans-serif; font-size: 12px; fill: rgb(42, 63, 95); fill-opacity: 1; white-space: pre; opacity: 1;\">−0.5</text></g><g class=\"ytick\"><text text-anchor=\"end\" x=\"82\" y=\"4.199999999999999\" style=\"font-family: 'Open Sans', verdana, arial, sans-serif; font-size: 12px; fill: rgb(42, 63, 95); fill-opacity: 1; white-space: pre; opacity: 1;\" transform=\"translate(0,251.02)\">0</text></g><g class=\"ytick\"><text text-anchor=\"end\" x=\"82\" y=\"4.199999999999999\" style=\"font-family: 'Open Sans', verdana, arial, sans-serif; font-size: 12px; fill: rgb(42, 63, 95); fill-opacity: 1; white-space: pre; opacity: 1;\" transform=\"translate(0,173.26999999999998)\">0.5</text></g></g><g class=\"overaxes-above\"/></g><g class=\"subplot x2y2\"><g class=\"layer-subplot\"><g class=\"shapelayer\"/><g class=\"imagelayer\"/></g><g class=\"gridlayer\"><g class=\"x2\"><path class=\"x2grid crisp\" transform=\"translate(118.89,0)\" d=\"M0,383.726748971193v248.18600823045279\" style=\"stroke: rgb(255, 255, 255); stroke-opacity: 1; stroke-width: 1px;\"/><path class=\"x2grid crisp\" transform=\"translate(260.19,0)\" d=\"M0,383.726748971193v248.18600823045279\" style=\"stroke: rgb(255, 255, 255); stroke-opacity: 1; stroke-width: 1px;\"/><path class=\"x2grid crisp\" transform=\"translate(401.5,0)\" d=\"M0,383.726748971193v248.18600823045279\" style=\"stroke: rgb(255, 255, 255); stroke-opacity: 1; stroke-width: 1px;\"/><path class=\"x2grid crisp\" transform=\"translate(542.81,0)\" d=\"M0,383.726748971193v248.18600823045279\" style=\"stroke: rgb(255, 255, 255); stroke-opacity: 1; stroke-width: 1px;\"/><path class=\"x2grid crisp\" transform=\"translate(684.11,0)\" d=\"M0,383.726748971193v248.18600823045279\" style=\"stroke: rgb(255, 255, 255); stroke-opacity: 1; stroke-width: 1px;\"/></g><g class=\"y2\"><path class=\"y2grid crisp\" transform=\"translate(0,605.936748971193)\" d=\"M83,0h637\" style=\"stroke: rgb(255, 255, 255); stroke-opacity: 1; stroke-width: 1px;\"/><path class=\"y2grid crisp\" transform=\"translate(0,559.1167489711929)\" d=\"M83,0h637\" style=\"stroke: rgb(255, 255, 255); stroke-opacity: 1; stroke-width: 1px;\"/><path class=\"y2grid crisp\" transform=\"translate(0,512.286748971193)\" d=\"M83,0h637\" style=\"stroke: rgb(255, 255, 255); stroke-opacity: 1; stroke-width: 1px;\"/><path class=\"y2grid crisp\" transform=\"translate(0,465.466748971193)\" d=\"M83,0h637\" style=\"stroke: rgb(255, 255, 255); stroke-opacity: 1; stroke-width: 1px;\"/><path class=\"y2grid crisp\" transform=\"translate(0,418.636748971193)\" d=\"M83,0h637\" style=\"stroke: rgb(255, 255, 255); stroke-opacity: 1; stroke-width: 1px;\"/></g></g><g class=\"zerolinelayer\"/><path class=\"xlines-below\"/><path class=\"ylines-below\"/><g class=\"overlines-below\"/><g class=\"xaxislayer-below\"/><g class=\"yaxislayer-below\"/><g class=\"overaxes-below\"/><g class=\"plot\" transform=\"translate(83,383.726748971193)\" clip-path=\"url(#clipbdddc0x2y2plot)\"><g class=\"scatterlayer mlayer\"><g class=\"trace scatter trace87a6eacf-07a5-472d-8273-0e8f1df6d564\" style=\"stroke-miterlimit: 2;\"><g class=\"fills\"><g><path class=\"js-fill\" d=\"M35.89,16.16L177.19,64.86L318.5,19.43L459.81,138.38L601.11,222.21L601.11,222.21L35.89,222.21Z\" style=\"fill: rgb(44, 160, 44); fill-opacity: 0.3; stroke-width: 0;\"/></g></g><g class=\"errorbars\"/><g class=\"lines\"><path class=\"js-line\" d=\"M35.89,222.21L601.11,222.21\" style=\"vector-effect: non-scaling-stroke; fill: none; stroke: rgb(0, 0, 0); stroke-opacity: 0; stroke-width: 0px; opacity: 1;\"/></g><g class=\"points\"><path class=\"point\" transform=\"translate(35.89,222.21)\" d=\"M3,0A3,3 0 1,1 0,-3A3,3 0 0,1 3,0Z\" style=\"opacity: 1; stroke-width: 0px; fill: rgb(0, 0, 0); fill-opacity: 0;\"/><path class=\"point\" transform=\"translate(177.19,222.21)\" d=\"M3,0A3,3 0 1,1 0,-3A3,3 0 0,1 3,0Z\" style=\"opacity: 1; stroke-width: 0px; fill: rgb(0, 0, 0); fill-opacity: 0;\"/><path class=\"point\" transform=\"translate(318.5,222.21)\" d=\"M3,0A3,3 0 1,1 0,-3A3,3 0 0,1 3,0Z\" style=\"opacity: 1; stroke-width: 0px; fill: rgb(0, 0, 0); fill-opacity: 0;\"/><path class=\"point\" transform=\"translate(459.81,222.21)\" d=\"M3,0A3,3 0 1,1 0,-3A3,3 0 0,1 3,0Z\" style=\"opacity: 1; stroke-width: 0px; fill: rgb(0, 0, 0); fill-opacity: 0;\"/><path class=\"point\" transform=\"translate(601.11,222.21)\" d=\"M3,0A3,3 0 1,1 0,-3A3,3 0 0,1 3,0Z\" style=\"opacity: 1; stroke-width: 0px; fill: rgb(0, 0, 0); fill-opacity: 0;\"/></g><g class=\"text\"/></g><g class=\"trace scatter trace2ba7a124-aa31-4a7f-bed4-c5d524792966\" style=\"stroke-miterlimit: 2;\"><g class=\"fills\"/><g class=\"errorbars\"/><g class=\"lines\"><path class=\"js-line\" d=\"M35.89,16.16L177.19,64.86L318.5,19.43L459.81,138.38L601.11,222.21\" style=\"vector-effect: non-scaling-stroke; fill: none; stroke: rgb(0, 0, 0); stroke-opacity: 0; stroke-width: 0px; opacity: 1;\"/></g><g class=\"points\"><path class=\"point\" transform=\"translate(35.89,16.16)\" d=\"M3,0A3,3 0 1,1 0,-3A3,3 0 0,1 3,0Z\" style=\"opacity: 1; stroke-width: 0px; fill: rgb(0, 0, 0); fill-opacity: 0;\"/><path class=\"point\" transform=\"translate(177.19,64.86)\" d=\"M3,0A3,3 0 1,1 0,-3A3,3 0 0,1 3,0Z\" style=\"opacity: 1; stroke-width: 0px; fill: rgb(0, 0, 0); fill-opacity: 0;\"/><path class=\"point\" transform=\"translate(318.5,19.43)\" d=\"M3,0A3,3 0 1,1 0,-3A3,3 0 0,1 3,0Z\" style=\"opacity: 1; stroke-width: 0px; fill: rgb(0, 0, 0); fill-opacity: 0;\"/><path class=\"point\" transform=\"translate(459.81,138.38)\" d=\"M3,0A3,3 0 1,1 0,-3A3,3 0 0,1 3,0Z\" style=\"opacity: 1; stroke-width: 0px; fill: rgb(0, 0, 0); fill-opacity: 0;\"/><path class=\"point\" transform=\"translate(601.11,222.21)\" d=\"M3,0A3,3 0 1,1 0,-3A3,3 0 0,1 3,0Z\" style=\"opacity: 1; stroke-width: 0px; fill: rgb(0, 0, 0); fill-opacity: 0;\"/></g><g class=\"text\"/></g><g class=\"trace scatter traced3931548-af72-4d90-aba3-1c28d086f25a\" style=\"stroke-miterlimit: 2;\"><g class=\"fills\"><g><path class=\"js-fill\" d=\"M35.89,222.21L459.81,222.21L601.11,232.03L601.11,222.21L35.89,222.21Z\" style=\"fill: rgb(220, 57, 18); fill-opacity: 0.3; stroke-width: 0;\"/></g></g><g class=\"errorbars\"/><g class=\"lines\"><path class=\"js-line\" d=\"M35.89,222.21L601.11,222.21\" style=\"vector-effect: non-scaling-stroke; fill: none; stroke: rgb(0, 0, 0); stroke-opacity: 0; stroke-width: 0px; opacity: 1;\"/></g><g class=\"points\"><path class=\"point\" transform=\"translate(35.89,222.21)\" d=\"M3,0A3,3 0 1,1 0,-3A3,3 0 0,1 3,0Z\" style=\"opacity: 1; stroke-width: 0px; fill: rgb(0, 0, 0); fill-opacity: 0;\"/><path class=\"point\" transform=\"translate(177.19,222.21)\" d=\"M3,0A3,3 0 1,1 0,-3A3,3 0 0,1 3,0Z\" style=\"opacity: 1; stroke-width: 0px; fill: rgb(0, 0, 0); fill-opacity: 0;\"/><path class=\"point\" transform=\"translate(318.5,222.21)\" d=\"M3,0A3,3 0 1,1 0,-3A3,3 0 0,1 3,0Z\" style=\"opacity: 1; stroke-width: 0px; fill: rgb(0, 0, 0); fill-opacity: 0;\"/><path class=\"point\" transform=\"translate(459.81,222.21)\" d=\"M3,0A3,3 0 1,1 0,-3A3,3 0 0,1 3,0Z\" style=\"opacity: 1; stroke-width: 0px; fill: rgb(0, 0, 0); fill-opacity: 0;\"/><path class=\"point\" transform=\"translate(601.11,222.21)\" d=\"M3,0A3,3 0 1,1 0,-3A3,3 0 0,1 3,0Z\" style=\"opacity: 1; stroke-width: 0px; fill: rgb(0, 0, 0); fill-opacity: 0;\"/></g><g class=\"text\"/></g><g class=\"trace scatter traceb6d45552-bd2d-4c97-9986-ad80ff2c12d2\" style=\"stroke-miterlimit: 2;\"><g class=\"fills\"/><g class=\"errorbars\"/><g class=\"lines\"><path class=\"js-line\" d=\"M35.89,222.21L459.81,222.21L601.11,232.03\" style=\"vector-effect: non-scaling-stroke; fill: none; stroke: rgb(0, 0, 0); stroke-opacity: 0; stroke-width: 0px; opacity: 1;\"/></g><g class=\"points\"><path class=\"point\" transform=\"translate(35.89,222.21)\" d=\"M3,0A3,3 0 1,1 0,-3A3,3 0 0,1 3,0Z\" style=\"opacity: 1; stroke-width: 0px; fill: rgb(0, 0, 0); fill-opacity: 0;\"/><path class=\"point\" transform=\"translate(177.19,222.21)\" d=\"M3,0A3,3 0 1,1 0,-3A3,3 0 0,1 3,0Z\" style=\"opacity: 1; stroke-width: 0px; fill: rgb(0, 0, 0); fill-opacity: 0;\"/><path class=\"point\" transform=\"translate(318.5,222.21)\" d=\"M3,0A3,3 0 1,1 0,-3A3,3 0 0,1 3,0Z\" style=\"opacity: 1; stroke-width: 0px; fill: rgb(0, 0, 0); fill-opacity: 0;\"/><path class=\"point\" transform=\"translate(459.81,222.21)\" d=\"M3,0A3,3 0 1,1 0,-3A3,3 0 0,1 3,0Z\" style=\"opacity: 1; stroke-width: 0px; fill: rgb(0, 0, 0); fill-opacity: 0;\"/><path class=\"point\" transform=\"translate(601.11,232.03)\" d=\"M3,0A3,3 0 1,1 0,-3A3,3 0 0,1 3,0Z\" style=\"opacity: 1; stroke-width: 0px; fill: rgb(0, 0, 0); fill-opacity: 0;\"/></g><g class=\"text\"/></g><g class=\"trace scatter tracefa8acf52-c472-481f-b9bd-bc4137b957b7\" style=\"stroke-miterlimit: 2; opacity: 1;\"><g class=\"fills\"/><g class=\"errorbars\"/><g class=\"lines\"><path class=\"js-line\" d=\"M35.89,16.16L177.19,64.86L318.5,19.43L459.81,138.38L601.11,232.03\" style=\"vector-effect: non-scaling-stroke; fill: none; stroke: rgb(44, 160, 44); stroke-opacity: 1; stroke-width: 2px; opacity: 1;\"/></g><g class=\"points\"><path class=\"point\" transform=\"translate(35.89,16.16)\" d=\"M3,0A3,3 0 1,1 0,-3A3,3 0 0,1 3,0Z\" style=\"opacity: 1; stroke-width: 0px; fill: rgb(44, 160, 44); fill-opacity: 1;\"/><path class=\"point\" transform=\"translate(177.19,64.86)\" d=\"M3,0A3,3 0 1,1 0,-3A3,3 0 0,1 3,0Z\" style=\"opacity: 1; stroke-width: 0px; fill: rgb(44, 160, 44); fill-opacity: 1;\"/><path class=\"point\" transform=\"translate(318.5,19.43)\" d=\"M3,0A3,3 0 1,1 0,-3A3,3 0 0,1 3,0Z\" style=\"opacity: 1; stroke-width: 0px; fill: rgb(44, 160, 44); fill-opacity: 1;\"/><path class=\"point\" transform=\"translate(459.81,138.38)\" d=\"M3,0A3,3 0 1,1 0,-3A3,3 0 0,1 3,0Z\" style=\"opacity: 1; stroke-width: 0px; fill: rgb(44, 160, 44); fill-opacity: 1;\"/><path class=\"point\" transform=\"translate(601.11,232.03)\" d=\"M3,0A3,3 0 1,1 0,-3A3,3 0 0,1 3,0Z\" style=\"opacity: 1; stroke-width: 0px; fill: rgb(44, 160, 44); fill-opacity: 1;\"/></g><g class=\"text\"/></g><g class=\"trace scatter trace127a4293-a76a-4722-a3ce-ca768d79537a\" style=\"stroke-miterlimit: 2; opacity: 0;\"><g class=\"fills\"/><g class=\"errorbars\"/><g class=\"lines\"><path class=\"js-line\" d=\"M35.89,222.21L601.11,222.21\" style=\"vector-effect: non-scaling-stroke; fill: none; stroke: rgb(0, 0, 0); stroke-opacity: 0; stroke-width: 0px; opacity: 1;\"/></g><g class=\"points\"><path class=\"point\" transform=\"translate(35.89,222.21)\" d=\"M3,0A3,3 0 1,1 0,-3A3,3 0 0,1 3,0Z\" style=\"opacity: 1; stroke-width: 0px; fill: rgb(0, 0, 0); fill-opacity: 0;\"/><path class=\"point\" transform=\"translate(177.19,222.21)\" d=\"M3,0A3,3 0 1,1 0,-3A3,3 0 0,1 3,0Z\" style=\"opacity: 1; stroke-width: 0px; fill: rgb(0, 0, 0); fill-opacity: 0;\"/><path class=\"point\" transform=\"translate(318.5,222.21)\" d=\"M3,0A3,3 0 1,1 0,-3A3,3 0 0,1 3,0Z\" style=\"opacity: 1; stroke-width: 0px; fill: rgb(0, 0, 0); fill-opacity: 0;\"/><path class=\"point\" transform=\"translate(459.81,222.21)\" d=\"M3,0A3,3 0 1,1 0,-3A3,3 0 0,1 3,0Z\" style=\"opacity: 1; stroke-width: 0px; fill: rgb(0, 0, 0); fill-opacity: 0;\"/><path class=\"point\" transform=\"translate(601.11,222.21)\" d=\"M3,0A3,3 0 1,1 0,-3A3,3 0 0,1 3,0Z\" style=\"opacity: 1; stroke-width: 0px; fill: rgb(0, 0, 0); fill-opacity: 0;\"/></g><g class=\"text\"/></g></g></g><g class=\"overplot\"/><path class=\"xlines-above crisp\" d=\"M0,0\" style=\"fill: none;\"/><path class=\"ylines-above crisp\" d=\"M0,0\" style=\"fill: none;\"/><g class=\"overlines-above\"/><g class=\"xaxislayer-above\"/><g class=\"yaxislayer-above\"><g class=\"y2tick\"><text text-anchor=\"end\" x=\"82\" y=\"4.199999999999999\" transform=\"translate(0,605.936748971193)\" style=\"font-family: 'Open Sans', verdana, arial, sans-serif; font-size: 12px; fill: rgb(42, 63, 95); fill-opacity: 1; white-space: pre; opacity: 1;\">200</text></g><g class=\"y2tick\"><text text-anchor=\"end\" x=\"82\" y=\"4.199999999999999\" style=\"font-family: 'Open Sans', verdana, arial, sans-serif; font-size: 12px; fill: rgb(42, 63, 95); fill-opacity: 1; white-space: pre; opacity: 1;\" transform=\"translate(0,559.1167489711929)\">200.2</text></g><g class=\"y2tick\"><text text-anchor=\"end\" x=\"82\" y=\"4.199999999999999\" style=\"font-family: 'Open Sans', verdana, arial, sans-serif; font-size: 12px; fill: rgb(42, 63, 95); fill-opacity: 1; white-space: pre; opacity: 1;\" transform=\"translate(0,512.286748971193)\">200.4</text></g><g class=\"y2tick\"><text text-anchor=\"end\" x=\"82\" y=\"4.199999999999999\" style=\"font-family: 'Open Sans', verdana, arial, sans-serif; font-size: 12px; fill: rgb(42, 63, 95); fill-opacity: 1; white-space: pre; opacity: 1;\" transform=\"translate(0,465.466748971193)\">200.6</text></g><g class=\"y2tick\"><text text-anchor=\"end\" x=\"82\" y=\"4.199999999999999\" style=\"font-family: 'Open Sans', verdana, arial, sans-serif; font-size: 12px; fill: rgb(42, 63, 95); fill-opacity: 1; white-space: pre; opacity: 1;\" transform=\"translate(0,418.636748971193)\">200.8</text></g></g><g class=\"overaxes-above\"/></g><g class=\"subplot x3y3\"><g class=\"layer-subplot\"><g class=\"shapelayer\"/><g class=\"imagelayer\"/></g><g class=\"gridlayer\"><g class=\"x3\"><path class=\"x3grid crisp\" transform=\"translate(118.89,0)\" d=\"M0,669.4534979423865v248.18600823045279\" style=\"stroke: rgb(255, 255, 255); stroke-opacity: 1; stroke-width: 1px;\"/><path class=\"x3grid crisp\" transform=\"translate(260.19,0)\" d=\"M0,669.4534979423865v248.18600823045279\" style=\"stroke: rgb(255, 255, 255); stroke-opacity: 1; stroke-width: 1px;\"/><path class=\"x3grid crisp\" transform=\"translate(401.5,0)\" d=\"M0,669.4534979423865v248.18600823045279\" style=\"stroke: rgb(255, 255, 255); stroke-opacity: 1; stroke-width: 1px;\"/><path class=\"x3grid crisp\" transform=\"translate(542.81,0)\" d=\"M0,669.4534979423865v248.18600823045279\" style=\"stroke: rgb(255, 255, 255); stroke-opacity: 1; stroke-width: 1px;\"/><path class=\"x3grid crisp\" transform=\"translate(684.11,0)\" d=\"M0,669.4534979423865v248.18600823045279\" style=\"stroke: rgb(255, 255, 255); stroke-opacity: 1; stroke-width: 1px;\"/></g><g class=\"y3\"><path class=\"y3grid crisp\" transform=\"translate(0,901.4834979423865)\" d=\"M83,0h637\" style=\"stroke: rgb(255, 255, 255); stroke-opacity: 1; stroke-width: 1px;\"/><path class=\"y3grid crisp\" transform=\"translate(0,858.3034979423866)\" d=\"M83,0h637\" style=\"stroke: rgb(255, 255, 255); stroke-opacity: 1; stroke-width: 1px;\"/><path class=\"y3grid crisp\" transform=\"translate(0,815.1334979423866)\" d=\"M83,0h637\" style=\"stroke: rgb(255, 255, 255); stroke-opacity: 1; stroke-width: 1px;\"/><path class=\"y3grid crisp\" transform=\"translate(0,771.9634979423865)\" d=\"M83,0h637\" style=\"stroke: rgb(255, 255, 255); stroke-opacity: 1; stroke-width: 1px;\"/><path class=\"y3grid crisp\" transform=\"translate(0,728.7834979423866)\" d=\"M83,0h637\" style=\"stroke: rgb(255, 255, 255); stroke-opacity: 1; stroke-width: 1px;\"/></g></g><g class=\"zerolinelayer\"><path class=\"y3zl zl crisp\" transform=\"translate(0,685.6134979423865)\" d=\"M83,0h637\" style=\"stroke: rgb(255, 255, 255); stroke-opacity: 1; stroke-width: 2px;\"/></g><path class=\"xlines-below\"/><path class=\"ylines-below\"/><g class=\"overlines-below\"/><g class=\"xaxislayer-below\"/><g class=\"yaxislayer-below\"/><g class=\"overaxes-below\"/><g class=\"plot\" transform=\"translate(83,669.4534979423865)\" clip-path=\"url(#clipbdddc0x3y3plot)\"><g class=\"scatterlayer mlayer\"><g class=\"trace scatter tracefa56975a-d16e-4db1-93c3-5131c47b00fe\" style=\"stroke-miterlimit: 2;\"><g class=\"fills\"><g><path class=\"js-fill\" d=\"M35.89,59.33L177.19,102.51L318.5,111.14L459.81,188.85L601.11,232.03L601.11,16.16L35.89,16.16Z\" style=\"fill: rgb(255, 127, 14); fill-opacity: 0.3; stroke-width: 0;\"/></g></g><g class=\"errorbars\"/><g class=\"lines\"><path class=\"js-line\" d=\"M35.89,16.16L601.11,16.16\" style=\"vector-effect: non-scaling-stroke; fill: none; stroke: rgb(0, 0, 0); stroke-opacity: 0; stroke-width: 0px; opacity: 1;\"/></g><g class=\"points\"><path class=\"point\" transform=\"translate(35.89,16.16)\" d=\"M3,0A3,3 0 1,1 0,-3A3,3 0 0,1 3,0Z\" style=\"opacity: 1; stroke-width: 0px; fill: rgb(0, 0, 0); fill-opacity: 0;\"/><path class=\"point\" transform=\"translate(177.19,16.16)\" d=\"M3,0A3,3 0 1,1 0,-3A3,3 0 0,1 3,0Z\" style=\"opacity: 1; stroke-width: 0px; fill: rgb(0, 0, 0); fill-opacity: 0;\"/><path class=\"point\" transform=\"translate(318.5,16.16)\" d=\"M3,0A3,3 0 1,1 0,-3A3,3 0 0,1 3,0Z\" style=\"opacity: 1; stroke-width: 0px; fill: rgb(0, 0, 0); fill-opacity: 0;\"/><path class=\"point\" transform=\"translate(459.81,16.16)\" d=\"M3,0A3,3 0 1,1 0,-3A3,3 0 0,1 3,0Z\" style=\"opacity: 1; stroke-width: 0px; fill: rgb(0, 0, 0); fill-opacity: 0;\"/><path class=\"point\" transform=\"translate(601.11,16.16)\" d=\"M3,0A3,3 0 1,1 0,-3A3,3 0 0,1 3,0Z\" style=\"opacity: 1; stroke-width: 0px; fill: rgb(0, 0, 0); fill-opacity: 0;\"/></g><g class=\"text\"/></g><g class=\"trace scatter traced85cccd9-d409-4a16-a375-498284e8b53e\" style=\"stroke-miterlimit: 2;\"><g class=\"fills\"/><g class=\"errorbars\"/><g class=\"lines\"><path class=\"js-line\" d=\"M35.89,59.33L177.19,102.51L318.5,111.14L459.81,188.85L601.11,232.03\" style=\"vector-effect: non-scaling-stroke; fill: none; stroke: rgb(0, 0, 0); stroke-opacity: 0; stroke-width: 0px; opacity: 1;\"/></g><g class=\"points\"><path class=\"point\" transform=\"translate(35.89,59.33)\" d=\"M3,0A3,3 0 1,1 0,-3A3,3 0 0,1 3,0Z\" style=\"opacity: 1; stroke-width: 0px; fill: rgb(0, 0, 0); fill-opacity: 0;\"/><path class=\"point\" transform=\"translate(177.19,102.51)\" d=\"M3,0A3,3 0 1,1 0,-3A3,3 0 0,1 3,0Z\" style=\"opacity: 1; stroke-width: 0px; fill: rgb(0, 0, 0); fill-opacity: 0;\"/><path class=\"point\" transform=\"translate(318.5,111.14)\" d=\"M3,0A3,3 0 1,1 0,-3A3,3 0 0,1 3,0Z\" style=\"opacity: 1; stroke-width: 0px; fill: rgb(0, 0, 0); fill-opacity: 0;\"/><path class=\"point\" transform=\"translate(459.81,188.85)\" d=\"M3,0A3,3 0 1,1 0,-3A3,3 0 0,1 3,0Z\" style=\"opacity: 1; stroke-width: 0px; fill: rgb(0, 0, 0); fill-opacity: 0;\"/><path class=\"point\" transform=\"translate(601.11,232.03)\" d=\"M3,0A3,3 0 1,1 0,-3A3,3 0 0,1 3,0Z\" style=\"opacity: 1; stroke-width: 0px; fill: rgb(0, 0, 0); fill-opacity: 0;\"/></g><g class=\"text\"/></g><g class=\"trace scatter traceb68156d7-077c-42de-bdb5-37fa5382de18\" style=\"stroke-miterlimit: 2; opacity: 1;\"><g class=\"fills\"/><g class=\"errorbars\"/><g class=\"lines\"><path class=\"js-line\" d=\"M35.89,59.33L177.19,102.51L318.5,111.14L459.81,188.85L601.11,232.03\" style=\"vector-effect: non-scaling-stroke; fill: none; stroke: rgb(23, 190, 207); stroke-opacity: 1; stroke-width: 2px; opacity: 1;\"/></g><g class=\"points\"><path class=\"point\" transform=\"translate(35.89,59.33)\" d=\"M3,0A3,3 0 1,1 0,-3A3,3 0 0,1 3,0Z\" style=\"opacity: 1; stroke-width: 0px; fill: rgb(23, 190, 207); fill-opacity: 1;\"/><path class=\"point\" transform=\"translate(177.19,102.51)\" d=\"M3,0A3,3 0 1,1 0,-3A3,3 0 0,1 3,0Z\" style=\"opacity: 1; stroke-width: 0px; fill: rgb(23, 190, 207); fill-opacity: 1;\"/><path class=\"point\" transform=\"translate(318.5,111.14)\" d=\"M3,0A3,3 0 1,1 0,-3A3,3 0 0,1 3,0Z\" style=\"opacity: 1; stroke-width: 0px; fill: rgb(23, 190, 207); fill-opacity: 1;\"/><path class=\"point\" transform=\"translate(459.81,188.85)\" d=\"M3,0A3,3 0 1,1 0,-3A3,3 0 0,1 3,0Z\" style=\"opacity: 1; stroke-width: 0px; fill: rgb(23, 190, 207); fill-opacity: 1;\"/><path class=\"point\" transform=\"translate(601.11,232.03)\" d=\"M3,0A3,3 0 1,1 0,-3A3,3 0 0,1 3,0Z\" style=\"opacity: 1; stroke-width: 0px; fill: rgb(23, 190, 207); fill-opacity: 1;\"/></g><g class=\"text\"/></g><g class=\"trace scatter tracef45e2a88-5690-486d-a551-374ef57fdfcf\" style=\"stroke-miterlimit: 2; opacity: 0;\"><g class=\"fills\"/><g class=\"errorbars\"/><g class=\"lines\"><path class=\"js-line\" d=\"M35.89,16.16L601.11,16.16\" style=\"vector-effect: non-scaling-stroke; fill: none; stroke: rgb(0, 0, 0); stroke-opacity: 0; stroke-width: 0px; opacity: 1;\"/></g><g class=\"points\"><path class=\"point\" transform=\"translate(35.89,16.16)\" d=\"M3,0A3,3 0 1,1 0,-3A3,3 0 0,1 3,0Z\" style=\"opacity: 1; stroke-width: 0px; fill: rgb(0, 0, 0); fill-opacity: 0;\"/><path class=\"point\" transform=\"translate(177.19,16.16)\" d=\"M3,0A3,3 0 1,1 0,-3A3,3 0 0,1 3,0Z\" style=\"opacity: 1; stroke-width: 0px; fill: rgb(0, 0, 0); fill-opacity: 0;\"/><path class=\"point\" transform=\"translate(318.5,16.16)\" d=\"M3,0A3,3 0 1,1 0,-3A3,3 0 0,1 3,0Z\" style=\"opacity: 1; stroke-width: 0px; fill: rgb(0, 0, 0); fill-opacity: 0;\"/><path class=\"point\" transform=\"translate(459.81,16.16)\" d=\"M3,0A3,3 0 1,1 0,-3A3,3 0 0,1 3,0Z\" style=\"opacity: 1; stroke-width: 0px; fill: rgb(0, 0, 0); fill-opacity: 0;\"/><path class=\"point\" transform=\"translate(601.11,16.16)\" d=\"M3,0A3,3 0 1,1 0,-3A3,3 0 0,1 3,0Z\" style=\"opacity: 1; stroke-width: 0px; fill: rgb(0, 0, 0); fill-opacity: 0;\"/></g><g class=\"text\"/></g></g></g><g class=\"overplot\"/><path class=\"xlines-above crisp\" d=\"M0,0\" style=\"fill: none;\"/><path class=\"ylines-above crisp\" d=\"M0,0\" style=\"fill: none;\"/><g class=\"overlines-above\"/><g class=\"xaxislayer-above\"/><g class=\"yaxislayer-above\"><g class=\"y3tick\"><text text-anchor=\"end\" x=\"82\" y=\"4.199999999999999\" transform=\"translate(0,901.4834979423865)\" style=\"font-family: 'Open Sans', verdana, arial, sans-serif; font-size: 12px; fill: rgb(42, 63, 95); fill-opacity: 1; white-space: pre; opacity: 1;\">−5</text></g><g class=\"y3tick\"><text text-anchor=\"end\" x=\"82\" y=\"4.199999999999999\" style=\"font-family: 'Open Sans', verdana, arial, sans-serif; font-size: 12px; fill: rgb(42, 63, 95); fill-opacity: 1; white-space: pre; opacity: 1;\" transform=\"translate(0,858.3034979423866)\">−4</text></g><g class=\"y3tick\"><text text-anchor=\"end\" x=\"82\" y=\"4.199999999999999\" style=\"font-family: 'Open Sans', verdana, arial, sans-serif; font-size: 12px; fill: rgb(42, 63, 95); fill-opacity: 1; white-space: pre; opacity: 1;\" transform=\"translate(0,815.1334979423866)\">−3</text></g><g class=\"y3tick\"><text text-anchor=\"end\" x=\"82\" y=\"4.199999999999999\" style=\"font-family: 'Open Sans', verdana, arial, sans-serif; font-size: 12px; fill: rgb(42, 63, 95); fill-opacity: 1; white-space: pre; opacity: 1;\" transform=\"translate(0,771.9634979423865)\">−2</text></g><g class=\"y3tick\"><text text-anchor=\"end\" x=\"82\" y=\"4.199999999999999\" style=\"font-family: 'Open Sans', verdana, arial, sans-serif; font-size: 12px; fill: rgb(42, 63, 95); fill-opacity: 1; white-space: pre; opacity: 1;\" transform=\"translate(0,728.7834979423866)\">−1</text></g><g class=\"y3tick\"><text text-anchor=\"end\" x=\"82\" y=\"4.199999999999999\" style=\"font-family: 'Open Sans', verdana, arial, sans-serif; font-size: 12px; fill: rgb(42, 63, 95); fill-opacity: 1; white-space: pre; opacity: 1;\" transform=\"translate(0,685.6134979423865)\">0</text></g></g><g class=\"overaxes-above\"/></g><g class=\"subplot x4y4\"><g class=\"layer-subplot\"><g class=\"shapelayer\"/><g class=\"imagelayer\"/></g><g class=\"gridlayer\"><g class=\"x4\"><path class=\"x4grid crisp\" transform=\"translate(118.89,0)\" d=\"M0,955.1802469135802v248.18600823045279\" style=\"stroke: rgb(255, 255, 255); stroke-opacity: 1; stroke-width: 1px;\"/><path class=\"x4grid crisp\" transform=\"translate(260.19,0)\" d=\"M0,955.1802469135802v248.18600823045279\" style=\"stroke: rgb(255, 255, 255); stroke-opacity: 1; stroke-width: 1px;\"/><path class=\"x4grid crisp\" transform=\"translate(401.5,0)\" d=\"M0,955.1802469135802v248.18600823045279\" style=\"stroke: rgb(255, 255, 255); stroke-opacity: 1; stroke-width: 1px;\"/><path class=\"x4grid crisp\" transform=\"translate(542.81,0)\" d=\"M0,955.1802469135802v248.18600823045279\" style=\"stroke: rgb(255, 255, 255); stroke-opacity: 1; stroke-width: 1px;\"/><path class=\"x4grid crisp\" transform=\"translate(684.11,0)\" d=\"M0,955.1802469135802v248.18600823045279\" style=\"stroke: rgb(255, 255, 255); stroke-opacity: 1; stroke-width: 1px;\"/></g><g class=\"y4\"><path class=\"y4grid crisp\" transform=\"translate(0,1185.41024691358)\" d=\"M83,0h637\" style=\"stroke: rgb(255, 255, 255); stroke-opacity: 1; stroke-width: 1px;\"/><path class=\"y4grid crisp\" transform=\"translate(0,1142.6002469135801)\" d=\"M83,0h637\" style=\"stroke: rgb(255, 255, 255); stroke-opacity: 1; stroke-width: 1px;\"/><path class=\"y4grid crisp\" transform=\"translate(0,1099.7802469135802)\" d=\"M83,0h637\" style=\"stroke: rgb(255, 255, 255); stroke-opacity: 1; stroke-width: 1px;\"/><path class=\"y4grid crisp\" transform=\"translate(0,1056.9702469135802)\" d=\"M83,0h637\" style=\"stroke: rgb(255, 255, 255); stroke-opacity: 1; stroke-width: 1px;\"/><path class=\"y4grid crisp\" transform=\"translate(0,1014.1502469135802)\" d=\"M83,0h637\" style=\"stroke: rgb(255, 255, 255); stroke-opacity: 1; stroke-width: 1px;\"/><path class=\"y4grid crisp\" transform=\"translate(0,971.3402469135801)\" d=\"M83,0h637\" style=\"stroke: rgb(255, 255, 255); stroke-opacity: 1; stroke-width: 1px;\"/></g></g><g class=\"zerolinelayer\"/><path class=\"xlines-below\"/><path class=\"ylines-below\"/><g class=\"overlines-below\"/><g class=\"xaxislayer-below\"/><g class=\"yaxislayer-below\"/><g class=\"overaxes-below\"/><g class=\"plot\" transform=\"translate(83,955.1802469135802)\" clip-path=\"url(#clipbdddc0x4y4plot)\"><g class=\"scatterlayer mlayer\"><g class=\"trace scatter traceccab6ab2-e90e-4f8f-822e-faa43c5df77c\" style=\"stroke-miterlimit: 2;\"><g class=\"fills\"><g><path class=\"js-fill\" d=\"M35.89,21.29L177.19,73.01L318.5,73.27L459.81,172.09L601.11,232.03L601.11,16.16L35.89,16.16Z\" style=\"fill: rgb(255, 0, 0); fill-opacity: 0.3; stroke-width: 0;\"/></g></g><g class=\"errorbars\"/><g class=\"lines\"><path class=\"js-line\" d=\"M35.89,16.16L601.11,16.16\" style=\"vector-effect: non-scaling-stroke; fill: none; stroke: rgb(0, 0, 0); stroke-opacity: 0; stroke-width: 0px; opacity: 1;\"/></g><g class=\"points\"><path class=\"point\" transform=\"translate(35.89,16.16)\" d=\"M3,0A3,3 0 1,1 0,-3A3,3 0 0,1 3,0Z\" style=\"opacity: 1; stroke-width: 0px; fill: rgb(0, 0, 0); fill-opacity: 0;\"/><path class=\"point\" transform=\"translate(177.19,16.16)\" d=\"M3,0A3,3 0 1,1 0,-3A3,3 0 0,1 3,0Z\" style=\"opacity: 1; stroke-width: 0px; fill: rgb(0, 0, 0); fill-opacity: 0;\"/><path class=\"point\" transform=\"translate(318.5,16.16)\" d=\"M3,0A3,3 0 1,1 0,-3A3,3 0 0,1 3,0Z\" style=\"opacity: 1; stroke-width: 0px; fill: rgb(0, 0, 0); fill-opacity: 0;\"/><path class=\"point\" transform=\"translate(459.81,16.16)\" d=\"M3,0A3,3 0 1,1 0,-3A3,3 0 0,1 3,0Z\" style=\"opacity: 1; stroke-width: 0px; fill: rgb(0, 0, 0); fill-opacity: 0;\"/><path class=\"point\" transform=\"translate(601.11,16.16)\" d=\"M3,0A3,3 0 1,1 0,-3A3,3 0 0,1 3,0Z\" style=\"opacity: 1; stroke-width: 0px; fill: rgb(0, 0, 0); fill-opacity: 0;\"/></g><g class=\"text\"/></g><g class=\"trace scatter trace87c124bd-c8bb-4f21-a5ac-9a4a789f6d26\" style=\"stroke-miterlimit: 2;\"><g class=\"fills\"/><g class=\"errorbars\"/><g class=\"lines\"><path class=\"js-line\" d=\"M35.89,21.29L177.19,73.01L318.5,73.27L459.81,172.09L601.11,232.03\" style=\"vector-effect: non-scaling-stroke; fill: none; stroke: rgb(0, 0, 0); stroke-opacity: 0; stroke-width: 0px; opacity: 1;\"/></g><g class=\"points\"><path class=\"point\" transform=\"translate(35.89,21.29)\" d=\"M3,0A3,3 0 1,1 0,-3A3,3 0 0,1 3,0Z\" style=\"opacity: 1; stroke-width: 0px; fill: rgb(0, 0, 0); fill-opacity: 0;\"/><path class=\"point\" transform=\"translate(177.19,73.01)\" d=\"M3,0A3,3 0 1,1 0,-3A3,3 0 0,1 3,0Z\" style=\"opacity: 1; stroke-width: 0px; fill: rgb(0, 0, 0); fill-opacity: 0;\"/><path class=\"point\" transform=\"translate(318.5,73.27)\" d=\"M3,0A3,3 0 1,1 0,-3A3,3 0 0,1 3,0Z\" style=\"opacity: 1; stroke-width: 0px; fill: rgb(0, 0, 0); fill-opacity: 0;\"/><path class=\"point\" transform=\"translate(459.81,172.09)\" d=\"M3,0A3,3 0 1,1 0,-3A3,3 0 0,1 3,0Z\" style=\"opacity: 1; stroke-width: 0px; fill: rgb(0, 0, 0); fill-opacity: 0;\"/><path class=\"point\" transform=\"translate(601.11,232.03)\" d=\"M3,0A3,3 0 1,1 0,-3A3,3 0 0,1 3,0Z\" style=\"opacity: 1; stroke-width: 0px; fill: rgb(0, 0, 0); fill-opacity: 0;\"/></g><g class=\"text\"/></g><g class=\"trace scatter trace24783d05-a2ab-4340-82e8-0d526d2b1d97\" style=\"stroke-miterlimit: 2; opacity: 1;\"><g class=\"fills\"/><g class=\"errorbars\"/><g class=\"lines\"><path class=\"js-line\" d=\"M35.89,21.29L177.19,73.01L318.5,73.27L459.81,172.09L601.11,232.03\" style=\"vector-effect: non-scaling-stroke; fill: none; stroke: rgb(148, 103, 189); stroke-opacity: 1; stroke-width: 2px; opacity: 1;\"/></g><g class=\"points\"><path class=\"point\" transform=\"translate(35.89,21.29)\" d=\"M3,0A3,3 0 1,1 0,-3A3,3 0 0,1 3,0Z\" style=\"opacity: 1; stroke-width: 0px; fill: rgb(148, 103, 189); fill-opacity: 1;\"/><path class=\"point\" transform=\"translate(177.19,73.01)\" d=\"M3,0A3,3 0 1,1 0,-3A3,3 0 0,1 3,0Z\" style=\"opacity: 1; stroke-width: 0px; fill: rgb(148, 103, 189); fill-opacity: 1;\"/><path class=\"point\" transform=\"translate(318.5,73.27)\" d=\"M3,0A3,3 0 1,1 0,-3A3,3 0 0,1 3,0Z\" style=\"opacity: 1; stroke-width: 0px; fill: rgb(148, 103, 189); fill-opacity: 1;\"/><path class=\"point\" transform=\"translate(459.81,172.09)\" d=\"M3,0A3,3 0 1,1 0,-3A3,3 0 0,1 3,0Z\" style=\"opacity: 1; stroke-width: 0px; fill: rgb(148, 103, 189); fill-opacity: 1;\"/><path class=\"point\" transform=\"translate(601.11,232.03)\" d=\"M3,0A3,3 0 1,1 0,-3A3,3 0 0,1 3,0Z\" style=\"opacity: 1; stroke-width: 0px; fill: rgb(148, 103, 189); fill-opacity: 1;\"/></g><g class=\"text\"/></g><g class=\"trace scatter trace8015c132-cbe5-4356-b71a-b27dd8bbf707\" style=\"stroke-miterlimit: 2; opacity: 0;\"><g class=\"fills\"/><g class=\"errorbars\"/><g class=\"lines\"><path class=\"js-line\" d=\"M35.89,16.16L601.11,16.16\" style=\"vector-effect: non-scaling-stroke; fill: none; stroke: rgb(0, 0, 0); stroke-opacity: 0; stroke-width: 0px; opacity: 1;\"/></g><g class=\"points\"><path class=\"point\" transform=\"translate(35.89,16.16)\" d=\"M3,0A3,3 0 1,1 0,-3A3,3 0 0,1 3,0Z\" style=\"opacity: 1; stroke-width: 0px; fill: rgb(0, 0, 0); fill-opacity: 0;\"/><path class=\"point\" transform=\"translate(177.19,16.16)\" d=\"M3,0A3,3 0 1,1 0,-3A3,3 0 0,1 3,0Z\" style=\"opacity: 1; stroke-width: 0px; fill: rgb(0, 0, 0); fill-opacity: 0;\"/><path class=\"point\" transform=\"translate(318.5,16.16)\" d=\"M3,0A3,3 0 1,1 0,-3A3,3 0 0,1 3,0Z\" style=\"opacity: 1; stroke-width: 0px; fill: rgb(0, 0, 0); fill-opacity: 0;\"/><path class=\"point\" transform=\"translate(459.81,16.16)\" d=\"M3,0A3,3 0 1,1 0,-3A3,3 0 0,1 3,0Z\" style=\"opacity: 1; stroke-width: 0px; fill: rgb(0, 0, 0); fill-opacity: 0;\"/><path class=\"point\" transform=\"translate(601.11,16.16)\" d=\"M3,0A3,3 0 1,1 0,-3A3,3 0 0,1 3,0Z\" style=\"opacity: 1; stroke-width: 0px; fill: rgb(0, 0, 0); fill-opacity: 0;\"/></g><g class=\"text\"/></g></g></g><g class=\"overplot\"/><path class=\"xlines-above crisp\" d=\"M0,0\" style=\"fill: none;\"/><path class=\"ylines-above crisp\" d=\"M0,0\" style=\"fill: none;\"/><g class=\"overlines-above\"/><g class=\"xaxislayer-above\"/><g class=\"yaxislayer-above\"><g class=\"y4tick\"><text text-anchor=\"end\" x=\"82\" y=\"4.199999999999999\" transform=\"translate(0,1185.41024691358)\" style=\"font-family: 'Open Sans', verdana, arial, sans-serif; font-size: 12px; fill: rgb(42, 63, 95); fill-opacity: 1; white-space: pre; opacity: 1;\">195</text></g><g class=\"y4tick\"><text text-anchor=\"end\" x=\"82\" y=\"4.199999999999999\" style=\"font-family: 'Open Sans', verdana, arial, sans-serif; font-size: 12px; fill: rgb(42, 63, 95); fill-opacity: 1; white-space: pre; opacity: 1;\" transform=\"translate(0,1142.6002469135801)\">196</text></g><g class=\"y4tick\"><text text-anchor=\"end\" x=\"82\" y=\"4.199999999999999\" style=\"font-family: 'Open Sans', verdana, arial, sans-serif; font-size: 12px; fill: rgb(42, 63, 95); fill-opacity: 1; white-space: pre; opacity: 1;\" transform=\"translate(0,1099.7802469135802)\">197</text></g><g class=\"y4tick\"><text text-anchor=\"end\" x=\"82\" y=\"4.199999999999999\" style=\"font-family: 'Open Sans', verdana, arial, sans-serif; font-size: 12px; fill: rgb(42, 63, 95); fill-opacity: 1; white-space: pre; opacity: 1;\" transform=\"translate(0,1056.9702469135802)\">198</text></g><g class=\"y4tick\"><text text-anchor=\"end\" x=\"82\" y=\"4.199999999999999\" style=\"font-family: 'Open Sans', verdana, arial, sans-serif; font-size: 12px; fill: rgb(42, 63, 95); fill-opacity: 1; white-space: pre; opacity: 1;\" transform=\"translate(0,1014.1502469135802)\">199</text></g><g class=\"y4tick\"><text text-anchor=\"end\" x=\"82\" y=\"4.199999999999999\" style=\"font-family: 'Open Sans', verdana, arial, sans-serif; font-size: 12px; fill: rgb(42, 63, 95); fill-opacity: 1; white-space: pre; opacity: 1;\" transform=\"translate(0,971.3402469135801)\">200</text></g></g><g class=\"overaxes-above\"/></g><g class=\"subplot x5y5\"><g class=\"layer-subplot\"><g class=\"shapelayer\"/><g class=\"imagelayer\"/></g><g class=\"gridlayer\"><g class=\"x5\"><path class=\"x5grid crisp\" transform=\"translate(118.89,0)\" d=\"M0,1240.9069958847736v248.18600823045279\" style=\"stroke: rgb(255, 255, 255); stroke-opacity: 1; stroke-width: 1px;\"/><path class=\"x5grid crisp\" transform=\"translate(260.19,0)\" d=\"M0,1240.9069958847736v248.18600823045279\" style=\"stroke: rgb(255, 255, 255); stroke-opacity: 1; stroke-width: 1px;\"/><path class=\"x5grid crisp\" transform=\"translate(401.5,0)\" d=\"M0,1240.9069958847736v248.18600823045279\" style=\"stroke: rgb(255, 255, 255); stroke-opacity: 1; stroke-width: 1px;\"/><path class=\"x5grid crisp\" transform=\"translate(542.81,0)\" d=\"M0,1240.9069958847736v248.18600823045279\" style=\"stroke: rgb(255, 255, 255); stroke-opacity: 1; stroke-width: 1px;\"/><path class=\"x5grid crisp\" transform=\"translate(684.11,0)\" d=\"M0,1240.9069958847736v248.18600823045279\" style=\"stroke: rgb(255, 255, 255); stroke-opacity: 1; stroke-width: 1px;\"/></g><g class=\"y5\"><path class=\"y5grid crisp\" transform=\"translate(0,1470.9769958847735)\" d=\"M83,0h637\" style=\"stroke: rgb(255, 255, 255); stroke-opacity: 1; stroke-width: 1px;\"/><path class=\"y5grid crisp\" transform=\"translate(0,1432.0769958847736)\" d=\"M83,0h637\" style=\"stroke: rgb(255, 255, 255); stroke-opacity: 1; stroke-width: 1px;\"/><path class=\"y5grid crisp\" transform=\"translate(0,1393.1869958847735)\" d=\"M83,0h637\" style=\"stroke: rgb(255, 255, 255); stroke-opacity: 1; stroke-width: 1px;\"/><path class=\"y5grid crisp\" transform=\"translate(0,1354.2969958847737)\" d=\"M83,0h637\" style=\"stroke: rgb(255, 255, 255); stroke-opacity: 1; stroke-width: 1px;\"/><path class=\"y5grid crisp\" transform=\"translate(0,1315.4069958847736)\" d=\"M83,0h637\" style=\"stroke: rgb(255, 255, 255); stroke-opacity: 1; stroke-width: 1px;\"/><path class=\"y5grid crisp\" transform=\"translate(0,1276.5169958847735)\" d=\"M83,0h637\" style=\"stroke: rgb(255, 255, 255); stroke-opacity: 1; stroke-width: 1px;\"/></g></g><g class=\"zerolinelayer\"/><path class=\"xlines-below\"/><path class=\"ylines-below\"/><g class=\"overlines-below\"/><g class=\"xaxislayer-below\"/><g class=\"yaxislayer-below\"/><g class=\"overaxes-below\"/><g class=\"plot\" transform=\"translate(83,1240.9069958847736)\" clip-path=\"url(#clipbdddc0x5y5plot)\"><g class=\"scatterlayer mlayer\"><g class=\"trace scatter traceab795ed8-a71c-442f-972d-4e724f06889a\" style=\"stroke-miterlimit: 2; opacity: 1;\"><g class=\"fills\"/><g class=\"errorbars\"/><g class=\"lines\"><path class=\"js-line\" d=\"M35.89,230.07L177.19,191.17L318.5,171.73L459.81,74.5L601.11,16.16\" style=\"vector-effect: non-scaling-stroke; fill: none; stroke: rgb(127, 127, 127); stroke-opacity: 1; stroke-width: 2px; opacity: 1;\"/></g><g class=\"points\"><path class=\"point\" transform=\"translate(35.89,230.07)\" d=\"M3,0A3,3 0 1,1 0,-3A3,3 0 0,1 3,0Z\" style=\"opacity: 1; stroke-width: 0px; fill: rgb(127, 127, 127); fill-opacity: 1;\"/><path class=\"point\" transform=\"translate(177.19,191.17)\" d=\"M3,0A3,3 0 1,1 0,-3A3,3 0 0,1 3,0Z\" style=\"opacity: 1; stroke-width: 0px; fill: rgb(127, 127, 127); fill-opacity: 1;\"/><path class=\"point\" transform=\"translate(318.5,171.73)\" d=\"M3,0A3,3 0 1,1 0,-3A3,3 0 0,1 3,0Z\" style=\"opacity: 1; stroke-width: 0px; fill: rgb(127, 127, 127); fill-opacity: 1;\"/><path class=\"point\" transform=\"translate(459.81,74.5)\" d=\"M3,0A3,3 0 1,1 0,-3A3,3 0 0,1 3,0Z\" style=\"opacity: 1; stroke-width: 0px; fill: rgb(127, 127, 127); fill-opacity: 1;\"/><path class=\"point\" transform=\"translate(601.11,16.16)\" d=\"M3,0A3,3 0 1,1 0,-3A3,3 0 0,1 3,0Z\" style=\"opacity: 1; stroke-width: 0px; fill: rgb(127, 127, 127); fill-opacity: 1;\"/></g><g class=\"text\"/></g><g class=\"trace scatter trace376103f5-3052-4bd6-a5bd-68675320e322\" style=\"stroke-miterlimit: 2;\"><g class=\"fills\"><g><path class=\"js-fill\" d=\"M35.89,230.11L601.11,232.03L601.11,230.07L35.89,230.07Z\" style=\"fill: rgb(255, 0, 0); fill-opacity: 0.3; stroke-width: 0;\"/></g></g><g class=\"errorbars\"/><g class=\"lines\"><path class=\"js-line\" d=\"M35.89,230.07L601.11,230.07\" style=\"vector-effect: non-scaling-stroke; fill: none; stroke: rgb(0, 0, 0); stroke-opacity: 0; stroke-width: 0px; opacity: 1;\"/></g><g class=\"points\"><path class=\"point\" transform=\"translate(35.89,230.07)\" d=\"M3,0A3,3 0 1,1 0,-3A3,3 0 0,1 3,0Z\" style=\"opacity: 1; stroke-width: 0px; fill: rgb(0, 0, 0); fill-opacity: 0;\"/><path class=\"point\" transform=\"translate(177.19,230.07)\" d=\"M3,0A3,3 0 1,1 0,-3A3,3 0 0,1 3,0Z\" style=\"opacity: 1; stroke-width: 0px; fill: rgb(0, 0, 0); fill-opacity: 0;\"/><path class=\"point\" transform=\"translate(318.5,230.07)\" d=\"M3,0A3,3 0 1,1 0,-3A3,3 0 0,1 3,0Z\" style=\"opacity: 1; stroke-width: 0px; fill: rgb(0, 0, 0); fill-opacity: 0;\"/><path class=\"point\" transform=\"translate(459.81,230.07)\" d=\"M3,0A3,3 0 1,1 0,-3A3,3 0 0,1 3,0Z\" style=\"opacity: 1; stroke-width: 0px; fill: rgb(0, 0, 0); fill-opacity: 0;\"/><path class=\"point\" transform=\"translate(601.11,230.07)\" d=\"M3,0A3,3 0 1,1 0,-3A3,3 0 0,1 3,0Z\" style=\"opacity: 1; stroke-width: 0px; fill: rgb(0, 0, 0); fill-opacity: 0;\"/></g><g class=\"text\"/></g><g class=\"trace scatter trace4e637509-e2ee-4dfd-9818-40528f894176\" style=\"stroke-miterlimit: 2;\"><g class=\"fills\"/><g class=\"errorbars\"/><g class=\"lines\"><path class=\"js-line\" d=\"M35.89,230.11L601.11,232.03\" style=\"vector-effect: non-scaling-stroke; fill: none; stroke: rgb(0, 0, 0); stroke-opacity: 0; stroke-width: 0px; opacity: 1;\"/></g><g class=\"points\"><path class=\"point\" transform=\"translate(35.89,230.11)\" d=\"M3,0A3,3 0 1,1 0,-3A3,3 0 0,1 3,0Z\" style=\"opacity: 1; stroke-width: 0px; fill: rgb(0, 0, 0); fill-opacity: 0;\"/><path class=\"point\" transform=\"translate(177.19,230.58)\" d=\"M3,0A3,3 0 1,1 0,-3A3,3 0 0,1 3,0Z\" style=\"opacity: 1; stroke-width: 0px; fill: rgb(0, 0, 0); fill-opacity: 0;\"/><path class=\"point\" transform=\"translate(318.5,230.58)\" d=\"M3,0A3,3 0 1,1 0,-3A3,3 0 0,1 3,0Z\" style=\"opacity: 1; stroke-width: 0px; fill: rgb(0, 0, 0); fill-opacity: 0;\"/><path class=\"point\" transform=\"translate(459.81,231.48)\" d=\"M3,0A3,3 0 1,1 0,-3A3,3 0 0,1 3,0Z\" style=\"opacity: 1; stroke-width: 0px; fill: rgb(0, 0, 0); fill-opacity: 0;\"/><path class=\"point\" transform=\"translate(601.11,232.03)\" d=\"M3,0A3,3 0 1,1 0,-3A3,3 0 0,1 3,0Z\" style=\"opacity: 1; stroke-width: 0px; fill: rgb(0, 0, 0); fill-opacity: 0;\"/></g><g class=\"text\"/></g><g class=\"trace scatter trace5e216c8d-04b4-4f3b-84a2-fce1956c9b82\" style=\"stroke-miterlimit: 2; opacity: 1;\"><g class=\"fills\"/><g class=\"errorbars\"/><g class=\"lines\"><path class=\"js-line\" d=\"M35.89,230.11L601.11,232.03\" style=\"vector-effect: non-scaling-stroke; fill: none; stroke: rgb(148, 103, 189); stroke-opacity: 1; stroke-width: 2px; opacity: 1;\"/></g><g class=\"points\"><path class=\"point\" transform=\"translate(35.89,230.11)\" d=\"M3,0A3,3 0 1,1 0,-3A3,3 0 0,1 3,0Z\" style=\"opacity: 1; stroke-width: 0px; fill: rgb(148, 103, 189); fill-opacity: 1;\"/><path class=\"point\" transform=\"translate(177.19,230.58)\" d=\"M3,0A3,3 0 1,1 0,-3A3,3 0 0,1 3,0Z\" style=\"opacity: 1; stroke-width: 0px; fill: rgb(148, 103, 189); fill-opacity: 1;\"/><path class=\"point\" transform=\"translate(318.5,230.58)\" d=\"M3,0A3,3 0 1,1 0,-3A3,3 0 0,1 3,0Z\" style=\"opacity: 1; stroke-width: 0px; fill: rgb(148, 103, 189); fill-opacity: 1;\"/><path class=\"point\" transform=\"translate(459.81,231.48)\" d=\"M3,0A3,3 0 1,1 0,-3A3,3 0 0,1 3,0Z\" style=\"opacity: 1; stroke-width: 0px; fill: rgb(148, 103, 189); fill-opacity: 1;\"/><path class=\"point\" transform=\"translate(601.11,232.03)\" d=\"M3,0A3,3 0 1,1 0,-3A3,3 0 0,1 3,0Z\" style=\"opacity: 1; stroke-width: 0px; fill: rgb(148, 103, 189); fill-opacity: 1;\"/></g><g class=\"text\"/></g><g class=\"trace scatter trace70ff9ad4-6470-4958-ab44-9be84bc71d29\" style=\"stroke-miterlimit: 2; opacity: 0;\"><g class=\"fills\"/><g class=\"errorbars\"/><g class=\"lines\"><path class=\"js-line\" d=\"M35.89,230.07L601.11,230.07\" style=\"vector-effect: non-scaling-stroke; fill: none; stroke: rgb(0, 0, 0); stroke-opacity: 0; stroke-width: 0px; opacity: 1;\"/></g><g class=\"points\"><path class=\"point\" transform=\"translate(35.89,230.07)\" d=\"M3,0A3,3 0 1,1 0,-3A3,3 0 0,1 3,0Z\" style=\"opacity: 1; stroke-width: 0px; fill: rgb(0, 0, 0); fill-opacity: 0;\"/><path class=\"point\" transform=\"translate(177.19,230.07)\" d=\"M3,0A3,3 0 1,1 0,-3A3,3 0 0,1 3,0Z\" style=\"opacity: 1; stroke-width: 0px; fill: rgb(0, 0, 0); fill-opacity: 0;\"/><path class=\"point\" transform=\"translate(318.5,230.07)\" d=\"M3,0A3,3 0 1,1 0,-3A3,3 0 0,1 3,0Z\" style=\"opacity: 1; stroke-width: 0px; fill: rgb(0, 0, 0); fill-opacity: 0;\"/><path class=\"point\" transform=\"translate(459.81,230.07)\" d=\"M3,0A3,3 0 1,1 0,-3A3,3 0 0,1 3,0Z\" style=\"opacity: 1; stroke-width: 0px; fill: rgb(0, 0, 0); fill-opacity: 0;\"/><path class=\"point\" transform=\"translate(601.11,230.07)\" d=\"M3,0A3,3 0 1,1 0,-3A3,3 0 0,1 3,0Z\" style=\"opacity: 1; stroke-width: 0px; fill: rgb(0, 0, 0); fill-opacity: 0;\"/></g><g class=\"text\"/></g></g></g><g class=\"overplot\"/><path class=\"xlines-above crisp\" d=\"M0,0\" style=\"fill: none;\"/><path class=\"ylines-above crisp\" d=\"M0,0\" style=\"fill: none;\"/><g class=\"overlines-above\"/><g class=\"xaxislayer-above\"/><g class=\"yaxislayer-above\"><g class=\"y5tick\"><text text-anchor=\"end\" x=\"82\" y=\"4.199999999999999\" transform=\"translate(0,1470.9769958847735)\" style=\"font-family: 'Open Sans', verdana, arial, sans-serif; font-size: 12px; fill: rgb(42, 63, 95); fill-opacity: 1; white-space: pre; opacity: 1;\">1</text></g><g class=\"y5tick\"><text text-anchor=\"end\" x=\"82\" y=\"4.199999999999999\" style=\"font-family: 'Open Sans', verdana, arial, sans-serif; font-size: 12px; fill: rgb(42, 63, 95); fill-opacity: 1; white-space: pre; opacity: 1;\" transform=\"translate(0,1432.0769958847736)\">1.5</text></g><g class=\"y5tick\"><text text-anchor=\"end\" x=\"82\" y=\"4.199999999999999\" style=\"font-family: 'Open Sans', verdana, arial, sans-serif; font-size: 12px; fill: rgb(42, 63, 95); fill-opacity: 1; white-space: pre; opacity: 1;\" transform=\"translate(0,1393.1869958847735)\">2</text></g><g class=\"y5tick\"><text text-anchor=\"end\" x=\"82\" y=\"4.199999999999999\" style=\"font-family: 'Open Sans', verdana, arial, sans-serif; font-size: 12px; fill: rgb(42, 63, 95); fill-opacity: 1; white-space: pre; opacity: 1;\" transform=\"translate(0,1354.2969958847737)\">2.5</text></g><g class=\"y5tick\"><text text-anchor=\"end\" x=\"82\" y=\"4.199999999999999\" style=\"font-family: 'Open Sans', verdana, arial, sans-serif; font-size: 12px; fill: rgb(42, 63, 95); fill-opacity: 1; white-space: pre; opacity: 1;\" transform=\"translate(0,1315.4069958847736)\">3</text></g><g class=\"y5tick\"><text text-anchor=\"end\" x=\"82\" y=\"4.199999999999999\" style=\"font-family: 'Open Sans', verdana, arial, sans-serif; font-size: 12px; fill: rgb(42, 63, 95); fill-opacity: 1; white-space: pre; opacity: 1;\" transform=\"translate(0,1276.5169958847735)\">3.5</text></g></g><g class=\"overaxes-above\"/></g><g class=\"subplot x6y6\"><g class=\"layer-subplot\"><g class=\"shapelayer\"/><g class=\"imagelayer\"/></g><g class=\"gridlayer\"><g class=\"x6\"><path class=\"x6grid crisp\" transform=\"translate(118.89,0)\" d=\"M0,1526.633744855967v248.18600823045264\" style=\"stroke: rgb(255, 255, 255); stroke-opacity: 1; stroke-width: 1px;\"/><path class=\"x6grid crisp\" transform=\"translate(260.19,0)\" d=\"M0,1526.633744855967v248.18600823045264\" style=\"stroke: rgb(255, 255, 255); stroke-opacity: 1; stroke-width: 1px;\"/><path class=\"x6grid crisp\" transform=\"translate(401.5,0)\" d=\"M0,1526.633744855967v248.18600823045264\" style=\"stroke: rgb(255, 255, 255); stroke-opacity: 1; stroke-width: 1px;\"/><path class=\"x6grid crisp\" transform=\"translate(542.81,0)\" d=\"M0,1526.633744855967v248.18600823045264\" style=\"stroke: rgb(255, 255, 255); stroke-opacity: 1; stroke-width: 1px;\"/><path class=\"x6grid crisp\" transform=\"translate(684.11,0)\" d=\"M0,1526.633744855967v248.18600823045264\" style=\"stroke: rgb(255, 255, 255); stroke-opacity: 1; stroke-width: 1px;\"/></g><g class=\"y6\"><path class=\"y6grid crisp\" transform=\"translate(0,1756.203744855967)\" d=\"M83,0h637\" style=\"stroke: rgb(255, 255, 255); stroke-opacity: 1; stroke-width: 1px;\"/><path class=\"y6grid crisp\" transform=\"translate(0,1712.603744855967)\" d=\"M83,0h637\" style=\"stroke: rgb(255, 255, 255); stroke-opacity: 1; stroke-width: 1px;\"/><path class=\"y6grid crisp\" transform=\"translate(0,1669.003744855967)\" d=\"M83,0h637\" style=\"stroke: rgb(255, 255, 255); stroke-opacity: 1; stroke-width: 1px;\"/><path class=\"y6grid crisp\" transform=\"translate(0,1625.393744855967)\" d=\"M83,0h637\" style=\"stroke: rgb(255, 255, 255); stroke-opacity: 1; stroke-width: 1px;\"/><path class=\"y6grid crisp\" transform=\"translate(0,1581.7937448559671)\" d=\"M83,0h637\" style=\"stroke: rgb(255, 255, 255); stroke-opacity: 1; stroke-width: 1px;\"/><path class=\"y6grid crisp\" transform=\"translate(0,1538.193744855967)\" d=\"M83,0h637\" style=\"stroke: rgb(255, 255, 255); stroke-opacity: 1; stroke-width: 1px;\"/></g></g><g class=\"zerolinelayer\"/><path class=\"xlines-below\"/><path class=\"ylines-below\"/><g class=\"overlines-below\"/><g class=\"xaxislayer-below\"/><g class=\"yaxislayer-below\"/><g class=\"overaxes-below\"/><g class=\"plot\" transform=\"translate(83,1526.633744855967)\" clip-path=\"url(#clipbdddc0x6y6plot)\"><g class=\"scatterlayer mlayer\"><g class=\"trace scatter trace34593b79-282e-4c26-a70a-fd0c34e87121\" style=\"stroke-miterlimit: 2; opacity: 1;\"><g class=\"fills\"/><g class=\"errorbars\"/><g class=\"lines\"><path class=\"js-line\" d=\"M35.89,16.78L177.19,69.46L318.5,69.72L459.81,170.36L601.11,231.4\" style=\"vector-effect: non-scaling-stroke; fill: none; stroke: rgb(148, 103, 189); stroke-opacity: 1; stroke-width: 2px; opacity: 1;\"/></g><g class=\"points\"><path class=\"point\" transform=\"translate(35.89,16.78)\" d=\"M3,0A3,3 0 1,1 0,-3A3,3 0 0,1 3,0Z\" style=\"opacity: 1; stroke-width: 0px; fill: rgb(148, 103, 189); fill-opacity: 1;\"/><path class=\"point\" transform=\"translate(177.19,69.46)\" d=\"M3,0A3,3 0 1,1 0,-3A3,3 0 0,1 3,0Z\" style=\"opacity: 1; stroke-width: 0px; fill: rgb(148, 103, 189); fill-opacity: 1;\"/><path class=\"point\" transform=\"translate(318.5,69.72)\" d=\"M3,0A3,3 0 1,1 0,-3A3,3 0 0,1 3,0Z\" style=\"opacity: 1; stroke-width: 0px; fill: rgb(148, 103, 189); fill-opacity: 1;\"/><path class=\"point\" transform=\"translate(459.81,170.36)\" d=\"M3,0A3,3 0 1,1 0,-3A3,3 0 0,1 3,0Z\" style=\"opacity: 1; stroke-width: 0px; fill: rgb(148, 103, 189); fill-opacity: 1;\"/><path class=\"point\" transform=\"translate(601.11,231.4)\" d=\"M3,0A3,3 0 1,1 0,-3A3,3 0 0,1 3,0Z\" style=\"opacity: 1; stroke-width: 0px; fill: rgb(148, 103, 189); fill-opacity: 1;\"/></g><g class=\"text\"/></g><g class=\"trace scatter trace6f44a25c-ed43-4863-9fe9-179f1649085d\" style=\"stroke-miterlimit: 2; opacity: 1;\"><g class=\"fills\"/><g class=\"errorbars\"/><g class=\"lines\"/><g class=\"points\"><path class=\"point plotly-customdata\" transform=\"translate(35.89,16.78)\" d=\"M4.55,0L0,4.55L-4.55,0L0,-4.55Z\" style=\"opacity: 1; stroke-width: 1px; fill: rgb(66, 133, 244); fill-opacity: 1; stroke: rgb(11, 84, 205); stroke-opacity: 1;\"/></g><g class=\"text\"/></g><g class=\"trace scatter trace01a89514-56fd-42dc-ac8c-3f3b012f297c\" style=\"stroke-miterlimit: 2; opacity: 1;\"><g class=\"fills\"/><g class=\"errorbars\"/><g class=\"lines\"/><g class=\"points\"><path class=\"point plotly-customdata\" transform=\"translate(601.11,231.4)\" d=\"M4.55,0L0,4.55L-4.55,0L0,-4.55Z\" style=\"opacity: 1; stroke-width: 1px; fill: rgb(255, 170, 0); fill-opacity: 1; stroke: rgb(178, 118, 0); stroke-opacity: 1;\"/></g><g class=\"text\"/></g></g></g><g class=\"overplot\"/><path class=\"xlines-above crisp\" d=\"M0,0\" style=\"fill: none;\"/><path class=\"ylines-above crisp\" d=\"M0,0\" style=\"fill: none;\"/><g class=\"overlines-above\"/><g class=\"xaxislayer-above\"/><g class=\"yaxislayer-above\"><g class=\"y6tick\"><text text-anchor=\"end\" x=\"82\" y=\"4.199999999999999\" transform=\"translate(0,1756.203744855967)\" style=\"font-family: 'Open Sans', verdana, arial, sans-serif; font-size: 12px; fill: rgb(42, 63, 95); fill-opacity: 1; white-space: pre; opacity: 1;\">195</text></g><g class=\"y6tick\"><text text-anchor=\"end\" x=\"82\" y=\"4.199999999999999\" style=\"font-family: 'Open Sans', verdana, arial, sans-serif; font-size: 12px; fill: rgb(42, 63, 95); fill-opacity: 1; white-space: pre; opacity: 1;\" transform=\"translate(0,1712.603744855967)\">196</text></g><g class=\"y6tick\"><text text-anchor=\"end\" x=\"82\" y=\"4.199999999999999\" style=\"font-family: 'Open Sans', verdana, arial, sans-serif; font-size: 12px; fill: rgb(42, 63, 95); fill-opacity: 1; white-space: pre; opacity: 1;\" transform=\"translate(0,1669.003744855967)\">197</text></g><g class=\"y6tick\"><text text-anchor=\"end\" x=\"82\" y=\"4.199999999999999\" style=\"font-family: 'Open Sans', verdana, arial, sans-serif; font-size: 12px; fill: rgb(42, 63, 95); fill-opacity: 1; white-space: pre; opacity: 1;\" transform=\"translate(0,1625.393744855967)\">198</text></g><g class=\"y6tick\"><text text-anchor=\"end\" x=\"82\" y=\"4.199999999999999\" style=\"font-family: 'Open Sans', verdana, arial, sans-serif; font-size: 12px; fill: rgb(42, 63, 95); fill-opacity: 1; white-space: pre; opacity: 1;\" transform=\"translate(0,1581.7937448559671)\">199</text></g><g class=\"y6tick\"><text text-anchor=\"end\" x=\"82\" y=\"4.199999999999999\" style=\"font-family: 'Open Sans', verdana, arial, sans-serif; font-size: 12px; fill: rgb(42, 63, 95); fill-opacity: 1; white-space: pre; opacity: 1;\" transform=\"translate(0,1538.193744855967)\">200</text></g></g><g class=\"overaxes-above\"/></g><g class=\"subplot x7y7\"><g class=\"layer-subplot\"><g class=\"shapelayer\"/><g class=\"imagelayer\"/></g><g class=\"gridlayer\"><g class=\"x7\"><path class=\"x7grid crisp\" transform=\"translate(118.89,0)\" d=\"M0,1812.3604938271603v248.18600823045264\" style=\"stroke: rgb(255, 255, 255); stroke-opacity: 1; stroke-width: 1px;\"/><path class=\"x7grid crisp\" transform=\"translate(260.19,0)\" d=\"M0,1812.3604938271603v248.18600823045264\" style=\"stroke: rgb(255, 255, 255); stroke-opacity: 1; stroke-width: 1px;\"/><path class=\"x7grid crisp\" transform=\"translate(401.5,0)\" d=\"M0,1812.3604938271603v248.18600823045264\" style=\"stroke: rgb(255, 255, 255); stroke-opacity: 1; stroke-width: 1px;\"/><path class=\"x7grid crisp\" transform=\"translate(542.81,0)\" d=\"M0,1812.3604938271603v248.18600823045264\" style=\"stroke: rgb(255, 255, 255); stroke-opacity: 1; stroke-width: 1px;\"/><path class=\"x7grid crisp\" transform=\"translate(684.11,0)\" d=\"M0,1812.3604938271603v248.18600823045264\" style=\"stroke: rgb(255, 255, 255); stroke-opacity: 1; stroke-width: 1px;\"/></g><g class=\"y7\"><path class=\"y7grid crisp\" transform=\"translate(0,2047.9104938271603)\" d=\"M83,0h637\" style=\"stroke: rgb(255, 255, 255); stroke-opacity: 1; stroke-width: 1px;\"/><path class=\"y7grid crisp\" transform=\"translate(0,2001.0004938271604)\" d=\"M83,0h637\" style=\"stroke: rgb(255, 255, 255); stroke-opacity: 1; stroke-width: 1px;\"/><path class=\"y7grid crisp\" transform=\"translate(0,1954.0904938271603)\" d=\"M83,0h637\" style=\"stroke: rgb(255, 255, 255); stroke-opacity: 1; stroke-width: 1px;\"/><path class=\"y7grid crisp\" transform=\"translate(0,1907.1804938271603)\" d=\"M83,0h637\" style=\"stroke: rgb(255, 255, 255); stroke-opacity: 1; stroke-width: 1px;\"/><path class=\"y7grid crisp\" transform=\"translate(0,1860.2704938271604)\" d=\"M83,0h637\" style=\"stroke: rgb(255, 255, 255); stroke-opacity: 1; stroke-width: 1px;\"/></g></g><g class=\"zerolinelayer\"><path class=\"y7zl zl crisp\" transform=\"translate(0,1813.3604938271603)\" d=\"M83,0h637\" style=\"stroke: rgb(255, 255, 255); stroke-opacity: 1; stroke-width: 2px;\"/></g><path class=\"xlines-below\"/><path class=\"ylines-below\"/><g class=\"overlines-below\"/><g class=\"xaxislayer-below\"/><g class=\"yaxislayer-below\"/><g class=\"overaxes-below\"/><g class=\"plot\" transform=\"translate(83,1812.3604938271603)\" clip-path=\"url(#clipbdddc0x7y7plot)\"><g class=\"scatterlayer mlayer\"><g class=\"trace scatter trace16bb4429-781a-4e8e-9323-229187055cd0\" style=\"stroke-miterlimit: 2;\"><g class=\"fills\"><g><path class=\"js-fill\" d=\"M601.11,1L35.89,1L35.89,1L177.19,57.7L318.5,57.98L459.81,166.31L601.11,232.03\" style=\"fill: rgb(220, 57, 18); fill-opacity: 0.3; stroke-width: 0;\"/></g></g><g class=\"errorbars\"/><g class=\"lines\"><path class=\"js-line\" d=\"M35.89,1L177.19,57.7L318.5,57.98L459.81,166.31L601.11,232.03\" style=\"vector-effect: non-scaling-stroke; fill: none; stroke: rgb(220, 57, 18); stroke-opacity: 1; stroke-width: 2px; opacity: 1;\"/></g><g class=\"points\"><path class=\"point\" transform=\"translate(35.89,1)\" d=\"M3,0A3,3 0 1,1 0,-3A3,3 0 0,1 3,0Z\" style=\"opacity: 1; stroke-width: 0px; fill: rgb(220, 57, 18); fill-opacity: 1;\"/><path class=\"point\" transform=\"translate(177.19,57.7)\" d=\"M3,0A3,3 0 1,1 0,-3A3,3 0 0,1 3,0Z\" style=\"opacity: 1; stroke-width: 0px; fill: rgb(220, 57, 18); fill-opacity: 1;\"/><path class=\"point\" transform=\"translate(318.5,57.98)\" d=\"M3,0A3,3 0 1,1 0,-3A3,3 0 0,1 3,0Z\" style=\"opacity: 1; stroke-width: 0px; fill: rgb(220, 57, 18); fill-opacity: 1;\"/><path class=\"point\" transform=\"translate(459.81,166.31)\" d=\"M3,0A3,3 0 1,1 0,-3A3,3 0 0,1 3,0Z\" style=\"opacity: 1; stroke-width: 0px; fill: rgb(220, 57, 18); fill-opacity: 1;\"/><path class=\"point\" transform=\"translate(601.11,232.03)\" d=\"M3,0A3,3 0 1,1 0,-3A3,3 0 0,1 3,0Z\" style=\"opacity: 1; stroke-width: 0px; fill: rgb(220, 57, 18); fill-opacity: 1;\"/></g><g class=\"text\"/></g></g></g><g class=\"overplot\"/><path class=\"xlines-above crisp\" d=\"M0,0\" style=\"fill: none;\"/><path class=\"ylines-above crisp\" d=\"M0,0\" style=\"fill: none;\"/><g class=\"overlines-above\"/><g class=\"xaxislayer-above\"/><g class=\"yaxislayer-above\"><g class=\"y7tick\"><text text-anchor=\"end\" x=\"82\" y=\"4.199999999999999\" transform=\"translate(0,2047.9104938271603)\" style=\"font-family: 'Open Sans', verdana, arial, sans-serif; font-size: 12px; fill: rgb(42, 63, 95); fill-opacity: 1; white-space: pre; opacity: 1;\">−3%</text></g><g class=\"y7tick\"><text text-anchor=\"end\" x=\"82\" y=\"4.199999999999999\" style=\"font-family: 'Open Sans', verdana, arial, sans-serif; font-size: 12px; fill: rgb(42, 63, 95); fill-opacity: 1; white-space: pre; opacity: 1;\" transform=\"translate(0,2001.0004938271604)\">−2%</text></g><g class=\"y7tick\"><text text-anchor=\"end\" x=\"82\" y=\"4.199999999999999\" style=\"font-family: 'Open Sans', verdana, arial, sans-serif; font-size: 12px; fill: rgb(42, 63, 95); fill-opacity: 1; white-space: pre; opacity: 1;\" transform=\"translate(0,1954.0904938271603)\">−2%</text></g><g class=\"y7tick\"><text text-anchor=\"end\" x=\"82\" y=\"4.199999999999999\" style=\"font-family: 'Open Sans', verdana, arial, sans-serif; font-size: 12px; fill: rgb(42, 63, 95); fill-opacity: 1; white-space: pre; opacity: 1;\" transform=\"translate(0,1907.1804938271603)\">−1%</text></g><g class=\"y7tick\"><text text-anchor=\"end\" x=\"82\" y=\"4.199999999999999\" style=\"font-family: 'Open Sans', verdana, arial, sans-serif; font-size: 12px; fill: rgb(42, 63, 95); fill-opacity: 1; white-space: pre; opacity: 1;\" transform=\"translate(0,1860.2704938271604)\">−1%</text></g><g class=\"y7tick\"><text text-anchor=\"end\" x=\"82\" y=\"4.199999999999999\" style=\"font-family: 'Open Sans', verdana, arial, sans-serif; font-size: 12px; fill: rgb(42, 63, 95); fill-opacity: 1; white-space: pre; opacity: 1;\" transform=\"translate(0,1813.3604938271603)\">0%</text></g></g><g class=\"overaxes-above\"/></g><g class=\"subplot x8y8\"><g class=\"layer-subplot\"><g class=\"shapelayer\"/><g class=\"imagelayer\"/></g><g class=\"gridlayer\"><g class=\"x8\"><path class=\"x8grid crisp\" transform=\"translate(118.89,0)\" d=\"M0,2098.087242798354v248.18600823045264\" style=\"stroke: rgb(255, 255, 255); stroke-opacity: 1; stroke-width: 1px;\"/><path class=\"x8grid crisp\" transform=\"translate(260.19,0)\" d=\"M0,2098.087242798354v248.18600823045264\" style=\"stroke: rgb(255, 255, 255); stroke-opacity: 1; stroke-width: 1px;\"/><path class=\"x8grid crisp\" transform=\"translate(401.5,0)\" d=\"M0,2098.087242798354v248.18600823045264\" style=\"stroke: rgb(255, 255, 255); stroke-opacity: 1; stroke-width: 1px;\"/><path class=\"x8grid crisp\" transform=\"translate(542.81,0)\" d=\"M0,2098.087242798354v248.18600823045264\" style=\"stroke: rgb(255, 255, 255); stroke-opacity: 1; stroke-width: 1px;\"/><path class=\"x8grid crisp\" transform=\"translate(684.11,0)\" d=\"M0,2098.087242798354v248.18600823045264\" style=\"stroke: rgb(255, 255, 255); stroke-opacity: 1; stroke-width: 1px;\"/></g><g class=\"y8\"><path class=\"y8grid crisp\" transform=\"translate(0,2282.3472427983543)\" d=\"M83,0h637\" style=\"stroke: rgb(255, 255, 255); stroke-opacity: 1; stroke-width: 1px;\"/><path class=\"y8grid crisp\" transform=\"translate(0,2240.317242798354)\" d=\"M83,0h637\" style=\"stroke: rgb(255, 255, 255); stroke-opacity: 1; stroke-width: 1px;\"/><path class=\"y8grid crisp\" transform=\"translate(0,2198.297242798354)\" d=\"M83,0h637\" style=\"stroke: rgb(255, 255, 255); stroke-opacity: 1; stroke-width: 1px;\"/><path class=\"y8grid crisp\" transform=\"translate(0,2156.267242798354)\" d=\"M83,0h637\" style=\"stroke: rgb(255, 255, 255); stroke-opacity: 1; stroke-width: 1px;\"/><path class=\"y8grid crisp\" transform=\"translate(0,2114.247242798354)\" d=\"M83,0h637\" style=\"stroke: rgb(255, 255, 255); stroke-opacity: 1; stroke-width: 1px;\"/></g></g><g class=\"zerolinelayer\"><path class=\"y8zl zl crisp\" transform=\"translate(0,2324.3672427983543)\" d=\"M83,0h637\" style=\"stroke: rgb(255, 255, 255); stroke-opacity: 1; stroke-width: 2px;\"/></g><path class=\"xlines-below\"/><path class=\"ylines-below\"/><g class=\"overlines-below\"/><g class=\"xaxislayer-below\"/><g class=\"yaxislayer-below\"/><g class=\"overaxes-below\"/><g class=\"plot\" transform=\"translate(83,2098.087242798354)\" clip-path=\"url(#clipbdddc0x8y8plot)\"><g class=\"scatterlayer mlayer\"><g class=\"trace scatter traced766b3e6-8fc4-49ff-9983-08b5d7514e36\" style=\"stroke-miterlimit: 2;\"><g class=\"fills\"><g><path class=\"js-fill\" d=\"M35.89,227.34L177.19,228.42L318.5,228.64L601.11,232.03L601.11,16.16L35.89,16.16Z\" style=\"fill: rgb(227, 119, 194); fill-opacity: 0.3; stroke-width: 0;\"/></g></g><g class=\"errorbars\"/><g class=\"lines\"><path class=\"js-line\" d=\"M35.89,16.16L601.11,16.16\" style=\"vector-effect: non-scaling-stroke; fill: none; stroke: rgb(0, 0, 0); stroke-opacity: 0; stroke-width: 0px; opacity: 1;\"/></g><g class=\"points\"><path class=\"point\" transform=\"translate(35.89,16.16)\" d=\"M3,0A3,3 0 1,1 0,-3A3,3 0 0,1 3,0Z\" style=\"opacity: 1; stroke-width: 0px; fill: rgb(0, 0, 0); fill-opacity: 0;\"/><path class=\"point\" transform=\"translate(177.19,16.16)\" d=\"M3,0A3,3 0 1,1 0,-3A3,3 0 0,1 3,0Z\" style=\"opacity: 1; stroke-width: 0px; fill: rgb(0, 0, 0); fill-opacity: 0;\"/><path class=\"point\" transform=\"translate(318.5,16.16)\" d=\"M3,0A3,3 0 1,1 0,-3A3,3 0 0,1 3,0Z\" style=\"opacity: 1; stroke-width: 0px; fill: rgb(0, 0, 0); fill-opacity: 0;\"/><path class=\"point\" transform=\"translate(459.81,16.16)\" d=\"M3,0A3,3 0 1,1 0,-3A3,3 0 0,1 3,0Z\" style=\"opacity: 1; stroke-width: 0px; fill: rgb(0, 0, 0); fill-opacity: 0;\"/><path class=\"point\" transform=\"translate(601.11,16.16)\" d=\"M3,0A3,3 0 1,1 0,-3A3,3 0 0,1 3,0Z\" style=\"opacity: 1; stroke-width: 0px; fill: rgb(0, 0, 0); fill-opacity: 0;\"/></g><g class=\"text\"/></g><g class=\"trace scatter tracea849b5f7-99da-49ee-beed-6a0ee3af1e57\" style=\"stroke-miterlimit: 2;\"><g class=\"fills\"/><g class=\"errorbars\"/><g class=\"lines\"><path class=\"js-line\" d=\"M35.89,227.34L177.19,228.42L318.5,228.64L601.11,232.03\" style=\"vector-effect: non-scaling-stroke; fill: none; stroke: rgb(0, 0, 0); stroke-opacity: 0; stroke-width: 0px; opacity: 1;\"/></g><g class=\"points\"><path class=\"point\" transform=\"translate(35.89,227.34)\" d=\"M3,0A3,3 0 1,1 0,-3A3,3 0 0,1 3,0Z\" style=\"opacity: 1; stroke-width: 0px; fill: rgb(0, 0, 0); fill-opacity: 0;\"/><path class=\"point\" transform=\"translate(177.19,228.42)\" d=\"M3,0A3,3 0 1,1 0,-3A3,3 0 0,1 3,0Z\" style=\"opacity: 1; stroke-width: 0px; fill: rgb(0, 0, 0); fill-opacity: 0;\"/><path class=\"point\" transform=\"translate(318.5,228.64)\" d=\"M3,0A3,3 0 1,1 0,-3A3,3 0 0,1 3,0Z\" style=\"opacity: 1; stroke-width: 0px; fill: rgb(0, 0, 0); fill-opacity: 0;\"/><path class=\"point\" transform=\"translate(459.81,230.61)\" d=\"M3,0A3,3 0 1,1 0,-3A3,3 0 0,1 3,0Z\" style=\"opacity: 1; stroke-width: 0px; fill: rgb(0, 0, 0); fill-opacity: 0;\"/><path class=\"point\" transform=\"translate(601.11,232.03)\" d=\"M3,0A3,3 0 1,1 0,-3A3,3 0 0,1 3,0Z\" style=\"opacity: 1; stroke-width: 0px; fill: rgb(0, 0, 0); fill-opacity: 0;\"/></g><g class=\"text\"/></g><g class=\"trace scatter tracee75ffab0-4cbd-404a-8a57-9610f699964a\" style=\"stroke-miterlimit: 2; opacity: 1;\"><g class=\"fills\"/><g class=\"errorbars\"/><g class=\"lines\"><path class=\"js-line\" d=\"M35.89,227.34L177.19,228.42L318.5,228.64L601.11,232.03\" style=\"vector-effect: non-scaling-stroke; fill: none; stroke: rgb(227, 119, 194); stroke-opacity: 1; stroke-width: 2px; opacity: 1;\"/></g><g class=\"points\"><path class=\"point\" transform=\"translate(35.89,227.34)\" d=\"M3,0A3,3 0 1,1 0,-3A3,3 0 0,1 3,0Z\" style=\"opacity: 1; stroke-width: 0px; fill: rgb(227, 119, 194); fill-opacity: 1;\"/><path class=\"point\" transform=\"translate(177.19,228.42)\" d=\"M3,0A3,3 0 1,1 0,-3A3,3 0 0,1 3,0Z\" style=\"opacity: 1; stroke-width: 0px; fill: rgb(227, 119, 194); fill-opacity: 1;\"/><path class=\"point\" transform=\"translate(318.5,228.64)\" d=\"M3,0A3,3 0 1,1 0,-3A3,3 0 0,1 3,0Z\" style=\"opacity: 1; stroke-width: 0px; fill: rgb(227, 119, 194); fill-opacity: 1;\"/><path class=\"point\" transform=\"translate(459.81,230.61)\" d=\"M3,0A3,3 0 1,1 0,-3A3,3 0 0,1 3,0Z\" style=\"opacity: 1; stroke-width: 0px; fill: rgb(227, 119, 194); fill-opacity: 1;\"/><path class=\"point\" transform=\"translate(601.11,232.03)\" d=\"M3,0A3,3 0 1,1 0,-3A3,3 0 0,1 3,0Z\" style=\"opacity: 1; stroke-width: 0px; fill: rgb(227, 119, 194); fill-opacity: 1;\"/></g><g class=\"text\"/></g><g class=\"trace scatter tracecf11ac29-9854-495a-a6e1-dbd209a9a37c\" style=\"stroke-miterlimit: 2; opacity: 0;\"><g class=\"fills\"/><g class=\"errorbars\"/><g class=\"lines\"><path class=\"js-line\" d=\"M35.89,16.16L601.11,16.16\" style=\"vector-effect: non-scaling-stroke; fill: none; stroke: rgb(0, 0, 0); stroke-opacity: 0; stroke-width: 0px; opacity: 1;\"/></g><g class=\"points\"><path class=\"point\" transform=\"translate(35.89,16.16)\" d=\"M3,0A3,3 0 1,1 0,-3A3,3 0 0,1 3,0Z\" style=\"opacity: 1; stroke-width: 0px; fill: rgb(0, 0, 0); fill-opacity: 0;\"/><path class=\"point\" transform=\"translate(177.19,16.16)\" d=\"M3,0A3,3 0 1,1 0,-3A3,3 0 0,1 3,0Z\" style=\"opacity: 1; stroke-width: 0px; fill: rgb(0, 0, 0); fill-opacity: 0;\"/><path class=\"point\" transform=\"translate(318.5,16.16)\" d=\"M3,0A3,3 0 1,1 0,-3A3,3 0 0,1 3,0Z\" style=\"opacity: 1; stroke-width: 0px; fill: rgb(0, 0, 0); fill-opacity: 0;\"/><path class=\"point\" transform=\"translate(459.81,16.16)\" d=\"M3,0A3,3 0 1,1 0,-3A3,3 0 0,1 3,0Z\" style=\"opacity: 1; stroke-width: 0px; fill: rgb(0, 0, 0); fill-opacity: 0;\"/><path class=\"point\" transform=\"translate(601.11,16.16)\" d=\"M3,0A3,3 0 1,1 0,-3A3,3 0 0,1 3,0Z\" style=\"opacity: 1; stroke-width: 0px; fill: rgb(0, 0, 0); fill-opacity: 0;\"/></g><g class=\"text\"/></g></g></g><g class=\"overplot\"/><path class=\"xlines-above crisp\" d=\"M0,0\" style=\"fill: none;\"/><path class=\"ylines-above crisp\" d=\"M0,0\" style=\"fill: none;\"/><g class=\"overlines-above\"/><g class=\"xaxislayer-above\"/><g class=\"yaxislayer-above\"><g class=\"y8tick\"><text text-anchor=\"end\" x=\"82\" y=\"4.199999999999999\" transform=\"translate(0,2324.3672427983543)\" style=\"font-family: 'Open Sans', verdana, arial, sans-serif; font-size: 12px; fill: rgb(42, 63, 95); fill-opacity: 1; white-space: pre; opacity: 1;\">0</text></g><g class=\"y8tick\"><text text-anchor=\"end\" x=\"82\" y=\"4.199999999999999\" style=\"font-family: 'Open Sans', verdana, arial, sans-serif; font-size: 12px; fill: rgb(42, 63, 95); fill-opacity: 1; white-space: pre; opacity: 1;\" transform=\"translate(0,2282.3472427983543)\">0.2</text></g><g class=\"y8tick\"><text text-anchor=\"end\" x=\"82\" y=\"4.199999999999999\" style=\"font-family: 'Open Sans', verdana, arial, sans-serif; font-size: 12px; fill: rgb(42, 63, 95); fill-opacity: 1; white-space: pre; opacity: 1;\" transform=\"translate(0,2240.317242798354)\">0.4</text></g><g class=\"y8tick\"><text text-anchor=\"end\" x=\"82\" y=\"4.199999999999999\" style=\"font-family: 'Open Sans', verdana, arial, sans-serif; font-size: 12px; fill: rgb(42, 63, 95); fill-opacity: 1; white-space: pre; opacity: 1;\" transform=\"translate(0,2198.297242798354)\">0.6</text></g><g class=\"y8tick\"><text text-anchor=\"end\" x=\"82\" y=\"4.199999999999999\" style=\"font-family: 'Open Sans', verdana, arial, sans-serif; font-size: 12px; fill: rgb(42, 63, 95); fill-opacity: 1; white-space: pre; opacity: 1;\" transform=\"translate(0,2156.267242798354)\">0.8</text></g><g class=\"y8tick\"><text text-anchor=\"end\" x=\"82\" y=\"4.199999999999999\" style=\"font-family: 'Open Sans', verdana, arial, sans-serif; font-size: 12px; fill: rgb(42, 63, 95); fill-opacity: 1; white-space: pre; opacity: 1;\" transform=\"translate(0,2114.247242798354)\">1</text></g></g><g class=\"overaxes-above\"/></g><g class=\"subplot x9y9\"><g class=\"layer-subplot\"><g class=\"shapelayer\"/><g class=\"imagelayer\"/></g><g class=\"gridlayer\"><g class=\"x9\"><path class=\"x9grid crisp\" transform=\"translate(118.89,0)\" d=\"M0,2383.813991769547v248.18600823045267\" style=\"stroke: rgb(255, 255, 255); stroke-opacity: 1; stroke-width: 1px;\"/><path class=\"x9grid crisp\" transform=\"translate(260.19,0)\" d=\"M0,2383.813991769547v248.18600823045267\" style=\"stroke: rgb(255, 255, 255); stroke-opacity: 1; stroke-width: 1px;\"/><path class=\"x9grid crisp\" transform=\"translate(401.5,0)\" d=\"M0,2383.813991769547v248.18600823045267\" style=\"stroke: rgb(255, 255, 255); stroke-opacity: 1; stroke-width: 1px;\"/><path class=\"x9grid crisp\" transform=\"translate(542.81,0)\" d=\"M0,2383.813991769547v248.18600823045267\" style=\"stroke: rgb(255, 255, 255); stroke-opacity: 1; stroke-width: 1px;\"/><path class=\"x9grid crisp\" transform=\"translate(684.11,0)\" d=\"M0,2383.813991769547v248.18600823045267\" style=\"stroke: rgb(255, 255, 255); stroke-opacity: 1; stroke-width: 1px;\"/></g><g class=\"y9\"><path class=\"y9grid crisp\" transform=\"translate(0,2619.253991769547)\" d=\"M83,0h637\" style=\"stroke: rgb(255, 255, 255); stroke-opacity: 1; stroke-width: 1px;\"/><path class=\"y9grid crisp\" transform=\"translate(0,2575.4039917695472)\" d=\"M83,0h637\" style=\"stroke: rgb(255, 255, 255); stroke-opacity: 1; stroke-width: 1px;\"/><path class=\"y9grid crisp\" transform=\"translate(0,2531.543991769547)\" d=\"M83,0h637\" style=\"stroke: rgb(255, 255, 255); stroke-opacity: 1; stroke-width: 1px;\"/><path class=\"y9grid crisp\" transform=\"translate(0,2487.683991769547)\" d=\"M83,0h637\" style=\"stroke: rgb(255, 255, 255); stroke-opacity: 1; stroke-width: 1px;\"/><path class=\"y9grid crisp\" transform=\"translate(0,2443.833991769547)\" d=\"M83,0h637\" style=\"stroke: rgb(255, 255, 255); stroke-opacity: 1; stroke-width: 1px;\"/></g></g><g class=\"zerolinelayer\"><path class=\"y9zl zl crisp\" transform=\"translate(0,2399.973991769547)\" d=\"M83,0h637\" style=\"stroke: rgb(255, 255, 255); stroke-opacity: 1; stroke-width: 2px;\"/></g><path class=\"xlines-below\"/><path class=\"ylines-below\"/><g class=\"overlines-below\"/><g class=\"xaxislayer-below\"/><g class=\"yaxislayer-below\"/><g class=\"overaxes-below\"/><g class=\"plot\" transform=\"translate(83,2383.813991769547)\" clip-path=\"url(#clipbdddc0x9y9plot)\"><g class=\"scatterlayer mlayer\"><g class=\"trace scatter trace24d7e697-023e-4185-95ea-da0da1f5ac06\" style=\"stroke-miterlimit: 2;\"><g class=\"fills\"><g><path class=\"js-fill\" d=\"M35.89,60.04L177.19,103.57L318.5,112.31L459.81,189.68L601.11,232.03L601.11,16.16L35.89,16.16Z\" style=\"fill: rgb(255, 127, 14); fill-opacity: 0.3; stroke-width: 0;\"/></g></g><g class=\"errorbars\"/><g class=\"lines\"><path class=\"js-line\" d=\"M35.89,16.16L601.11,16.16\" style=\"vector-effect: non-scaling-stroke; fill: none; stroke: rgb(0, 0, 0); stroke-opacity: 0; stroke-width: 0px; opacity: 1;\"/></g><g class=\"points\"><path class=\"point\" transform=\"translate(35.89,16.16)\" d=\"M3,0A3,3 0 1,1 0,-3A3,3 0 0,1 3,0Z\" style=\"opacity: 1; stroke-width: 0px; fill: rgb(0, 0, 0); fill-opacity: 0;\"/><path class=\"point\" transform=\"translate(177.19,16.16)\" d=\"M3,0A3,3 0 1,1 0,-3A3,3 0 0,1 3,0Z\" style=\"opacity: 1; stroke-width: 0px; fill: rgb(0, 0, 0); fill-opacity: 0;\"/><path class=\"point\" transform=\"translate(318.5,16.16)\" d=\"M3,0A3,3 0 1,1 0,-3A3,3 0 0,1 3,0Z\" style=\"opacity: 1; stroke-width: 0px; fill: rgb(0, 0, 0); fill-opacity: 0;\"/><path class=\"point\" transform=\"translate(459.81,16.16)\" d=\"M3,0A3,3 0 1,1 0,-3A3,3 0 0,1 3,0Z\" style=\"opacity: 1; stroke-width: 0px; fill: rgb(0, 0, 0); fill-opacity: 0;\"/><path class=\"point\" transform=\"translate(601.11,16.16)\" d=\"M3,0A3,3 0 1,1 0,-3A3,3 0 0,1 3,0Z\" style=\"opacity: 1; stroke-width: 0px; fill: rgb(0, 0, 0); fill-opacity: 0;\"/></g><g class=\"text\"/></g><g class=\"trace scatter tracec8eb6b81-e492-4787-aad4-c665183bb52f\" style=\"stroke-miterlimit: 2;\"><g class=\"fills\"/><g class=\"errorbars\"/><g class=\"lines\"><path class=\"js-line\" d=\"M35.89,60.04L177.19,103.57L318.5,112.31L459.81,189.68L601.11,232.03\" style=\"vector-effect: non-scaling-stroke; fill: none; stroke: rgb(0, 0, 0); stroke-opacity: 0; stroke-width: 0px; opacity: 1;\"/></g><g class=\"points\"><path class=\"point\" transform=\"translate(35.89,60.04)\" d=\"M3,0A3,3 0 1,1 0,-3A3,3 0 0,1 3,0Z\" style=\"opacity: 1; stroke-width: 0px; fill: rgb(0, 0, 0); fill-opacity: 0;\"/><path class=\"point\" transform=\"translate(177.19,103.57)\" d=\"M3,0A3,3 0 1,1 0,-3A3,3 0 0,1 3,0Z\" style=\"opacity: 1; stroke-width: 0px; fill: rgb(0, 0, 0); fill-opacity: 0;\"/><path class=\"point\" transform=\"translate(318.5,112.31)\" d=\"M3,0A3,3 0 1,1 0,-3A3,3 0 0,1 3,0Z\" style=\"opacity: 1; stroke-width: 0px; fill: rgb(0, 0, 0); fill-opacity: 0;\"/><path class=\"point\" transform=\"translate(459.81,189.68)\" d=\"M3,0A3,3 0 1,1 0,-3A3,3 0 0,1 3,0Z\" style=\"opacity: 1; stroke-width: 0px; fill: rgb(0, 0, 0); fill-opacity: 0;\"/><path class=\"point\" transform=\"translate(601.11,232.03)\" d=\"M3,0A3,3 0 1,1 0,-3A3,3 0 0,1 3,0Z\" style=\"opacity: 1; stroke-width: 0px; fill: rgb(0, 0, 0); fill-opacity: 0;\"/></g><g class=\"text\"/></g><g class=\"trace scatter trace21977d9f-d73a-416d-8684-d9327c18c3da\" style=\"stroke-miterlimit: 2; opacity: 1;\"><g class=\"fills\"/><g class=\"errorbars\"/><g class=\"lines\"><path class=\"js-line\" d=\"M35.89,60.04L177.19,103.57L318.5,112.31L459.81,189.68L601.11,232.03\" style=\"vector-effect: non-scaling-stroke; fill: none; stroke: rgb(227, 119, 194); stroke-opacity: 1; stroke-width: 2px; opacity: 1;\"/></g><g class=\"points\"><path class=\"point\" transform=\"translate(35.89,60.04)\" d=\"M3,0A3,3 0 1,1 0,-3A3,3 0 0,1 3,0Z\" style=\"opacity: 1; stroke-width: 0px; fill: rgb(227, 119, 194); fill-opacity: 1;\"/><path class=\"point\" transform=\"translate(177.19,103.57)\" d=\"M3,0A3,3 0 1,1 0,-3A3,3 0 0,1 3,0Z\" style=\"opacity: 1; stroke-width: 0px; fill: rgb(227, 119, 194); fill-opacity: 1;\"/><path class=\"point\" transform=\"translate(318.5,112.31)\" d=\"M3,0A3,3 0 1,1 0,-3A3,3 0 0,1 3,0Z\" style=\"opacity: 1; stroke-width: 0px; fill: rgb(227, 119, 194); fill-opacity: 1;\"/><path class=\"point\" transform=\"translate(459.81,189.68)\" d=\"M3,0A3,3 0 1,1 0,-3A3,3 0 0,1 3,0Z\" style=\"opacity: 1; stroke-width: 0px; fill: rgb(227, 119, 194); fill-opacity: 1;\"/><path class=\"point\" transform=\"translate(601.11,232.03)\" d=\"M3,0A3,3 0 1,1 0,-3A3,3 0 0,1 3,0Z\" style=\"opacity: 1; stroke-width: 0px; fill: rgb(227, 119, 194); fill-opacity: 1;\"/></g><g class=\"text\"/></g><g class=\"trace scatter tracea3059ce4-ac38-4ccc-9f21-58e00be946d2\" style=\"stroke-miterlimit: 2; opacity: 0;\"><g class=\"fills\"/><g class=\"errorbars\"/><g class=\"lines\"><path class=\"js-line\" d=\"M35.89,16.16L601.11,16.16\" style=\"vector-effect: non-scaling-stroke; fill: none; stroke: rgb(0, 0, 0); stroke-opacity: 0; stroke-width: 0px; opacity: 1;\"/></g><g class=\"points\"><path class=\"point\" transform=\"translate(35.89,16.16)\" d=\"M3,0A3,3 0 1,1 0,-3A3,3 0 0,1 3,0Z\" style=\"opacity: 1; stroke-width: 0px; fill: rgb(0, 0, 0); fill-opacity: 0;\"/><path class=\"point\" transform=\"translate(177.19,16.16)\" d=\"M3,0A3,3 0 1,1 0,-3A3,3 0 0,1 3,0Z\" style=\"opacity: 1; stroke-width: 0px; fill: rgb(0, 0, 0); fill-opacity: 0;\"/><path class=\"point\" transform=\"translate(318.5,16.16)\" d=\"M3,0A3,3 0 1,1 0,-3A3,3 0 0,1 3,0Z\" style=\"opacity: 1; stroke-width: 0px; fill: rgb(0, 0, 0); fill-opacity: 0;\"/><path class=\"point\" transform=\"translate(459.81,16.16)\" d=\"M3,0A3,3 0 1,1 0,-3A3,3 0 0,1 3,0Z\" style=\"opacity: 1; stroke-width: 0px; fill: rgb(0, 0, 0); fill-opacity: 0;\"/><path class=\"point\" transform=\"translate(601.11,16.16)\" d=\"M3,0A3,3 0 1,1 0,-3A3,3 0 0,1 3,0Z\" style=\"opacity: 1; stroke-width: 0px; fill: rgb(0, 0, 0); fill-opacity: 0;\"/></g><g class=\"text\"/></g></g></g><g class=\"overplot\"/><path class=\"xlines-above crisp\" d=\"M0,0\" style=\"fill: none;\"/><path class=\"ylines-above crisp\" d=\"M0,0\" style=\"fill: none;\"/><g class=\"overlines-above\"/><g class=\"xaxislayer-above\"><g class=\"x9tick\"><text text-anchor=\"middle\" x=\"0\" y=\"2645\" transform=\"translate(118.89,0)\" style=\"font-family: 'Open Sans', verdana, arial, sans-serif; font-size: 12px; fill: rgb(42, 63, 95); fill-opacity: 1; white-space: pre; opacity: 1;\"><tspan class=\"line\" dy=\"0em\" x=\"0\" y=\"2645\">Jan 1</tspan><tspan class=\"line\" dy=\"1.3em\" x=\"0\" y=\"2645\">2020</tspan></text></g><g class=\"x9tick\"><text text-anchor=\"middle\" x=\"0\" y=\"2645\" style=\"font-family: 'Open Sans', verdana, arial, sans-serif; font-size: 12px; fill: rgb(42, 63, 95); fill-opacity: 1; white-space: pre; opacity: 1;\" transform=\"translate(260.19,0)\">Jan 2</text></g><g class=\"x9tick\"><text text-anchor=\"middle\" x=\"0\" y=\"2645\" style=\"font-family: 'Open Sans', verdana, arial, sans-serif; font-size: 12px; fill: rgb(42, 63, 95); fill-opacity: 1; white-space: pre; opacity: 1;\" transform=\"translate(401.5,0)\">Jan 3</text></g><g class=\"x9tick\"><text text-anchor=\"middle\" x=\"0\" y=\"2645\" style=\"font-family: 'Open Sans', verdana, arial, sans-serif; font-size: 12px; fill: rgb(42, 63, 95); fill-opacity: 1; white-space: pre; opacity: 1;\" transform=\"translate(542.81,0)\">Jan 4</text></g><g class=\"x9tick\"><text text-anchor=\"middle\" x=\"0\" y=\"2645\" style=\"font-family: 'Open Sans', verdana, arial, sans-serif; font-size: 12px; fill: rgb(42, 63, 95); fill-opacity: 1; white-space: pre; opacity: 1;\" transform=\"translate(684.11,0)\">Jan 5</text></g></g><g class=\"yaxislayer-above\"><g class=\"y9tick\"><text text-anchor=\"end\" x=\"82\" y=\"4.199999999999999\" transform=\"translate(0,2619.253991769547)\" style=\"font-family: 'Open Sans', verdana, arial, sans-serif; font-size: 12px; fill: rgb(42, 63, 95); fill-opacity: 1; white-space: pre; opacity: 1;\">−0.025</text></g><g class=\"y9tick\"><text text-anchor=\"end\" x=\"82\" y=\"4.199999999999999\" style=\"font-family: 'Open Sans', verdana, arial, sans-serif; font-size: 12px; fill: rgb(42, 63, 95); fill-opacity: 1; white-space: pre; opacity: 1;\" transform=\"translate(0,2575.4039917695472)\">−0.02</text></g><g class=\"y9tick\"><text text-anchor=\"end\" x=\"82\" y=\"4.199999999999999\" style=\"font-family: 'Open Sans', verdana, arial, sans-serif; font-size: 12px; fill: rgb(42, 63, 95); fill-opacity: 1; white-space: pre; opacity: 1;\" transform=\"translate(0,2531.543991769547)\">−0.015</text></g><g class=\"y9tick\"><text text-anchor=\"end\" x=\"82\" y=\"4.199999999999999\" style=\"font-family: 'Open Sans', verdana, arial, sans-serif; font-size: 12px; fill: rgb(42, 63, 95); fill-opacity: 1; white-space: pre; opacity: 1;\" transform=\"translate(0,2487.683991769547)\">−0.01</text></g><g class=\"y9tick\"><text text-anchor=\"end\" x=\"82\" y=\"4.199999999999999\" style=\"font-family: 'Open Sans', verdana, arial, sans-serif; font-size: 12px; fill: rgb(42, 63, 95); fill-opacity: 1; white-space: pre; opacity: 1;\" transform=\"translate(0,2443.833991769547)\">−0.005</text></g><g class=\"y9tick\"><text text-anchor=\"end\" x=\"82\" y=\"4.199999999999999\" style=\"font-family: 'Open Sans', verdana, arial, sans-serif; font-size: 12px; fill: rgb(42, 63, 95); fill-opacity: 1; white-space: pre; opacity: 1;\" transform=\"translate(0,2399.973991769547)\">0</text></g></g><g class=\"overaxes-above\"/></g></g><g class=\"polarlayer\"/><g class=\"ternarylayer\"/><g class=\"geolayer\"/><g class=\"funnelarealayer\"/><g class=\"pielayer\"/><g class=\"iciclelayer\"/><g class=\"treemaplayer\"/><g class=\"sunburstlayer\"/><g class=\"glimages\"/><defs id=\"topdefs-bdddc0\"><g class=\"clips\"/><clipPath id=\"legendbdddc0\"><rect width=\"535\" height=\"48\" x=\"0\" y=\"0\"/></clipPath></defs><g class=\"layer-above\"><g class=\"imagelayer\"/><g class=\"shapelayer\"><path data-index=\"0\" fill-rule=\"evenodd\" d=\"M83,251.02L720,251.02\" clip-path=\"url(#clipbdddc0y)\" style=\"opacity: 1; stroke: rgb(128, 128, 128); stroke-opacity: 1; fill: rgb(0, 0, 0); fill-opacity: 0; stroke-dasharray: 9px, 9px; stroke-width: 2px;\"/><path data-index=\"1\" fill-rule=\"evenodd\" d=\"M83,605.936748971193L720,605.936748971193\" clip-path=\"url(#clipbdddc0y2)\" style=\"opacity: 1; stroke: rgb(128, 128, 128); stroke-opacity: 1; fill: rgb(0, 0, 0); fill-opacity: 0; stroke-dasharray: 9px, 9px; stroke-width: 2px;\"/><path data-index=\"2\" fill-rule=\"evenodd\" d=\"M83,685.6134979423865L720,685.6134979423865\" clip-path=\"url(#clipbdddc0y3)\" style=\"opacity: 1; stroke: rgb(128, 128, 128); stroke-opacity: 1; fill: rgb(0, 0, 0); fill-opacity: 0; stroke-dasharray: 9px, 9px; stroke-width: 2px;\"/><path data-index=\"3\" fill-rule=\"evenodd\" d=\"M83,971.3402469135801L720,971.3402469135801\" clip-path=\"url(#clipbdddc0y4)\" style=\"opacity: 1; stroke: rgb(128, 128, 128); stroke-opacity: 1; fill: rgb(0, 0, 0); fill-opacity: 0; stroke-dasharray: 9px, 9px; stroke-width: 2px;\"/><path data-index=\"4\" fill-rule=\"evenodd\" d=\"M83,1470.9769958847735L720,1470.9769958847735\" clip-path=\"url(#clipbdddc0y5)\" style=\"opacity: 1; stroke: rgb(128, 128, 128); stroke-opacity: 1; fill: rgb(0, 0, 0); fill-opacity: 0; stroke-dasharray: 9px, 9px; stroke-width: 2px;\"/><path data-index=\"6\" fill-rule=\"evenodd\" d=\"M83,1813.3604938271603L720,1813.3604938271603\" clip-path=\"url(#clipbdddc0y7)\" style=\"opacity: 1; stroke: rgb(128, 128, 128); stroke-opacity: 1; fill: rgb(0, 0, 0); fill-opacity: 0; stroke-dasharray: 9px, 9px; stroke-width: 2px;\"/><path data-index=\"7\" fill-rule=\"evenodd\" d=\"M83,2114.247242798354L720,2114.247242798354\" clip-path=\"url(#clipbdddc0y8)\" style=\"opacity: 1; stroke: rgb(128, 128, 128); stroke-opacity: 1; fill: rgb(0, 0, 0); fill-opacity: 0; stroke-dasharray: 9px, 9px; stroke-width: 2px;\"/><path data-index=\"8\" fill-rule=\"evenodd\" d=\"M83,2399.973991769547L720,2399.973991769547\" clip-path=\"url(#clipbdddc0y9)\" style=\"opacity: 1; stroke: rgb(128, 128, 128); stroke-opacity: 1; fill: rgb(0, 0, 0); fill-opacity: 0; stroke-dasharray: 9px, 9px; stroke-width: 2px;\"/></g></g><g class=\"infolayer\"><g class=\"legend\" pointer-events=\"all\" transform=\"translate(185,12.459259259259206)\"><rect class=\"bg\" shape-rendering=\"crispEdges\" width=\"535\" height=\"48\" x=\"0\" y=\"0\" style=\"stroke: rgb(68, 68, 68); stroke-opacity: 1; fill: rgb(255, 255, 255); fill-opacity: 1; stroke-width: 0px;\"/><g class=\"scrollbox\" transform=\"\" clip-path=\"url(#legendbdddc0)\"><g class=\"groups\"><g class=\"traces\" transform=\"translate(0,14.5)\" style=\"opacity: 1;\"><text class=\"legendtext\" text-anchor=\"start\" x=\"40\" y=\"4.680000000000001\" style=\"font-family: 'Open Sans', verdana, arial, sans-serif; font-size: 12px; fill: rgb(42, 63, 95); fill-opacity: 1; white-space: pre;\">Cash</text><g class=\"layers\" style=\"opacity: 1;\"><g class=\"legendfill\"/><g class=\"legendlines\"><path class=\"js-line\" d=\"M5,0h30\" style=\"fill: none; stroke: rgb(44, 160, 44); stroke-opacity: 1; stroke-width: 2px;\"/></g><g class=\"legendsymbols\"><g class=\"legendpoints\"><path class=\"scatterpts\" transform=\"translate(20,0)\" d=\"M3,0A3,3 0 1,1 0,-3A3,3 0 0,1 3,0Z\" style=\"opacity: 1; stroke-width: 0px; fill: rgb(44, 160, 44); fill-opacity: 1;\"/></g></g></g><rect class=\"legendtoggle\" x=\"0\" y=\"-9.5\" width=\"71.9375\" height=\"19\" style=\"fill: rgb(0, 0, 0); fill-opacity: 0;\"/></g><g class=\"traces\" transform=\"translate(115.25,14.5)\" style=\"opacity: 1;\"><text class=\"legendtext\" text-anchor=\"start\" x=\"40\" y=\"4.680000000000001\" style=\"font-family: 'Open Sans', verdana, arial, sans-serif; font-size: 12px; fill: rgb(42, 63, 95); fill-opacity: 1; white-space: pre;\">Asset Value</text><g class=\"layers\" style=\"opacity: 1;\"><g class=\"legendfill\"/><g class=\"legendlines\"><path class=\"js-line\" d=\"M5,0h30\" style=\"fill: none; stroke: rgb(23, 190, 207); stroke-opacity: 1; stroke-width: 2px;\"/></g><g class=\"legendsymbols\"><g class=\"legendpoints\"><path class=\"scatterpts\" transform=\"translate(20,0)\" d=\"M3,0A3,3 0 1,1 0,-3A3,3 0 0,1 3,0Z\" style=\"opacity: 1; stroke-width: 0px; fill: rgb(23, 190, 207); fill-opacity: 1;\"/></g></g></g><rect class=\"legendtoggle\" x=\"0\" y=\"-9.5\" width=\"112.75\" height=\"19\" style=\"fill: rgb(0, 0, 0); fill-opacity: 0;\"/></g><g class=\"traces\" transform=\"translate(230.5,14.5)\" style=\"opacity: 1;\"><text class=\"legendtext\" text-anchor=\"start\" x=\"40\" y=\"4.680000000000001\" style=\"font-family: 'Open Sans', verdana, arial, sans-serif; font-size: 12px; fill: rgb(42, 63, 95); fill-opacity: 1; white-space: pre;\">Value</text><g class=\"layers\" style=\"opacity: 1;\"><g class=\"legendfill\"/><g class=\"legendlines\"><path class=\"js-line\" d=\"M5,0h30\" style=\"fill: none; stroke: rgb(148, 103, 189); stroke-opacity: 1; stroke-width: 2px;\"/></g><g class=\"legendsymbols\"><g class=\"legendpoints\"><path class=\"scatterpts\" transform=\"translate(20,0)\" d=\"M3,0A3,3 0 1,1 0,-3A3,3 0 0,1 3,0Z\" style=\"opacity: 1; stroke-width: 0px; fill: rgb(148, 103, 189); fill-opacity: 1;\"/></g></g></g><rect class=\"legendtoggle\" x=\"0\" y=\"-9.5\" width=\"75.953125\" height=\"19\" style=\"fill: rgb(0, 0, 0); fill-opacity: 0;\"/></g><g class=\"traces\" transform=\"translate(345.75,14.5)\" style=\"opacity: 1;\"><text class=\"legendtext\" text-anchor=\"start\" x=\"40\" y=\"4.680000000000001\" style=\"font-family: 'Open Sans', verdana, arial, sans-serif; font-size: 12px; fill: rgb(42, 63, 95); fill-opacity: 1; white-space: pre;\">Benchmark</text><g class=\"layers\" style=\"opacity: 1;\"><g class=\"legendfill\"/><g class=\"legendlines\"><path class=\"js-line\" d=\"M5,0h30\" style=\"fill: none; stroke: rgb(127, 127, 127); stroke-opacity: 1; stroke-width: 2px;\"/></g><g class=\"legendsymbols\"><g class=\"legendpoints\"><path class=\"scatterpts\" transform=\"translate(20,0)\" d=\"M3,0A3,3 0 1,1 0,-3A3,3 0 0,1 3,0Z\" style=\"opacity: 1; stroke-width: 0px; fill: rgb(127, 127, 127); fill-opacity: 1;\"/></g></g></g><rect class=\"legendtoggle\" x=\"0\" y=\"-9.5\" width=\"110.421875\" height=\"19\" style=\"fill: rgb(0, 0, 0); fill-opacity: 0;\"/></g><g class=\"traces\" transform=\"translate(461,14.5)\" style=\"opacity: 1;\"><text class=\"legendtext\" text-anchor=\"start\" x=\"40\" y=\"4.680000000000001\" style=\"font-family: 'Open Sans', verdana, arial, sans-serif; font-size: 12px; fill: rgb(42, 63, 95); fill-opacity: 1; white-space: pre;\">Peak</text><g class=\"layers\" style=\"opacity: 1;\"><g class=\"legendfill\"/><g class=\"legendlines\"/><g class=\"legendsymbols\"><g class=\"legendpoints\"><path class=\"scatterpts\" transform=\"translate(20,0)\" d=\"M4.55,0L0,4.55L-4.55,0L0,-4.55Z\" style=\"opacity: 1; stroke-width: 1px; fill: rgb(66, 133, 244); fill-opacity: 1; stroke: rgb(11, 84, 205); stroke-opacity: 1;\"/></g></g></g><rect class=\"legendtoggle\" x=\"0\" y=\"-9.5\" width=\"71.203125\" height=\"19\" style=\"fill: rgb(0, 0, 0); fill-opacity: 0;\"/></g><g class=\"traces\" transform=\"translate(0,33.5)\" style=\"opacity: 1;\"><text class=\"legendtext\" text-anchor=\"start\" x=\"40\" y=\"4.680000000000001\" style=\"font-family: 'Open Sans', verdana, arial, sans-serif; font-size: 12px; fill: rgb(42, 63, 95); fill-opacity: 1; white-space: pre;\">Active</text><g class=\"layers\" style=\"opacity: 1;\"><g class=\"legendfill\"/><g class=\"legendlines\"/><g class=\"legendsymbols\"><g class=\"legendpoints\"><path class=\"scatterpts\" transform=\"translate(20,0)\" d=\"M4.55,0L0,4.55L-4.55,0L0,-4.55Z\" style=\"opacity: 1; stroke-width: 1px; fill: rgb(255, 170, 0); fill-opacity: 1; stroke: rgb(178, 118, 0); stroke-opacity: 1;\"/></g></g></g><rect class=\"legendtoggle\" x=\"0\" y=\"-9.5\" width=\"79.234375\" height=\"19\" style=\"fill: rgb(0, 0, 0); fill-opacity: 0;\"/></g><g class=\"traces\" transform=\"translate(115.25,33.5)\" style=\"opacity: 1;\"><text class=\"legendtext\" text-anchor=\"start\" x=\"40\" y=\"4.680000000000001\" style=\"font-family: 'Open Sans', verdana, arial, sans-serif; font-size: 12px; fill: rgb(42, 63, 95); fill-opacity: 1; white-space: pre;\">Drawdown</text><g class=\"layers\"><g class=\"legendfill\"><path class=\"js-fill\" d=\"M5,0h30v6h-30z\" style=\"stroke-width: 0; fill: rgb(220, 57, 18); fill-opacity: 0.3;\"/></g><g class=\"legendlines\"><path class=\"js-line\" d=\"M5,0h30\" style=\"fill: none; stroke: rgb(220, 57, 18); stroke-opacity: 1; stroke-width: 2px;\"/></g><g class=\"legendsymbols\"><g class=\"legendpoints\"><path class=\"scatterpts\" transform=\"translate(20,0)\" d=\"M3,0A3,3 0 1,1 0,-3A3,3 0 0,1 3,0Z\" style=\"opacity: 1; stroke-width: 0px; fill: rgb(220, 57, 18); fill-opacity: 1;\"/></g></g></g><rect class=\"legendtoggle\" x=\"0\" y=\"-9.5\" width=\"106.078125\" height=\"19\" style=\"fill: rgb(0, 0, 0); fill-opacity: 0;\"/></g><g class=\"traces\" transform=\"translate(230.5,33.5)\" style=\"opacity: 1;\"><text class=\"legendtext\" text-anchor=\"start\" x=\"40\" y=\"4.680000000000001\" style=\"font-family: 'Open Sans', verdana, arial, sans-serif; font-size: 12px; fill: rgb(42, 63, 95); fill-opacity: 1; white-space: pre;\">Exposure</text><g class=\"layers\" style=\"opacity: 1;\"><g class=\"legendfill\"/><g class=\"legendlines\"><path class=\"js-line\" d=\"M5,0h30\" style=\"fill: none; stroke: rgb(227, 119, 194); stroke-opacity: 1; stroke-width: 2px;\"/></g><g class=\"legendsymbols\"><g class=\"legendpoints\"><path class=\"scatterpts\" transform=\"translate(20,0)\" d=\"M3,0A3,3 0 1,1 0,-3A3,3 0 0,1 3,0Z\" style=\"opacity: 1; stroke-width: 0px; fill: rgb(227, 119, 194); fill-opacity: 1;\"/></g></g></g><rect class=\"legendtoggle\" x=\"0\" y=\"-9.5\" width=\"98.078125\" height=\"19\" style=\"fill: rgb(0, 0, 0); fill-opacity: 0;\"/></g></g></g><rect class=\"scrollbar\" rx=\"20\" ry=\"3\" width=\"0\" height=\"0\" x=\"0\" y=\"0\" style=\"fill: rgb(128, 139, 164); fill-opacity: 1;\"/></g><g class=\"g-gtitle\"/><g class=\"g-xtitle\"/><g class=\"g-x2title\"/><g class=\"g-x3title\"/><g class=\"g-x4title\"/><g class=\"g-x5title\"/><g class=\"g-x6title\"/><g class=\"g-x7title\"/><g class=\"g-x8title\"/><g class=\"g-x9title\"><text class=\"x9title\" x=\"401.5\" y=\"2687.909375\" text-anchor=\"middle\" style=\"font-family: 'Open Sans', verdana, arial, sans-serif; font-size: 14px; fill: rgb(42, 63, 95); opacity: 1; font-weight: normal; white-space: pre;\">Index</text></g><g class=\"g-ytitle\"><text class=\"ytitle\" transform=\"rotate(-90,27.746875000000003,222.09300411522625)\" x=\"27.746875000000003\" y=\"222.09300411522625\" text-anchor=\"middle\" style=\"font-family: 'Open Sans', verdana, arial, sans-serif; font-size: 14px; fill: rgb(42, 63, 95); opacity: 1; font-weight: normal; white-space: pre;\">Cash flow</text></g><g class=\"g-y2title\"><text class=\"y2title\" transform=\"rotate(-90,22.309375000000003,507.8197530864194)\" x=\"22.309375000000003\" y=\"507.8197530864194\" text-anchor=\"middle\" style=\"font-family: 'Open Sans', verdana, arial, sans-serif; font-size: 14px; fill: rgb(42, 63, 95); opacity: 1; font-weight: normal; white-space: pre;\">Cash</text></g><g class=\"g-y3title\"><text class=\"y3title\" transform=\"rotate(-90,39.746875,793.546502057613)\" x=\"39.746875\" y=\"793.546502057613\" text-anchor=\"middle\" style=\"font-family: 'Open Sans', verdana, arial, sans-serif; font-size: 14px; fill: rgb(42, 63, 95); opacity: 1; font-weight: normal; white-space: pre;\">Asset value</text></g><g class=\"g-y4title\"><text class=\"y4title\" transform=\"rotate(-90,34.309375,1079.2732510288065)\" x=\"34.309375\" y=\"1079.2732510288065\" text-anchor=\"middle\" style=\"font-family: 'Open Sans', verdana, arial, sans-serif; font-size: 14px; fill: rgb(42, 63, 95); opacity: 1; font-weight: normal; white-space: pre;\">Value</text></g><g class=\"g-y5title\"><text class=\"y5title\" transform=\"rotate(-90,37.575,1365)\" x=\"37.575\" y=\"1365\" text-anchor=\"middle\" style=\"font-family: 'Open Sans', verdana, arial, sans-serif; font-size: 14px; fill: rgb(42, 63, 95); opacity: 1; font-weight: normal; white-space: pre;\">Cumulative returns</text></g><g class=\"g-y6title\"><text class=\"y6title\" transform=\"rotate(-90,34.309375,1650.7267489711933)\" x=\"34.309375\" y=\"1650.7267489711933\" text-anchor=\"middle\" style=\"font-family: 'Open Sans', verdana, arial, sans-serif; font-size: 14px; fill: rgb(42, 63, 95); opacity: 1; font-weight: normal; white-space: pre;\">Value</text></g><g class=\"g-y7title\"><text class=\"y7title\" transform=\"rotate(-90,26.825000000000003,1936.4534979423865)\" x=\"26.825000000000003\" y=\"1936.4534979423865\" text-anchor=\"middle\" style=\"font-family: 'Open Sans', verdana, arial, sans-serif; font-size: 14px; fill: rgb(42, 63, 95); opacity: 1; font-weight: normal; white-space: pre;\">Drawdown</text></g><g class=\"g-y8title\"><text class=\"y8title\" transform=\"rotate(-90,37.575,2222.1802469135805)\" x=\"37.575\" y=\"2222.1802469135805\" text-anchor=\"middle\" style=\"font-family: 'Open Sans', verdana, arial, sans-serif; font-size: 14px; fill: rgb(42, 63, 95); opacity: 1; font-weight: normal; white-space: pre;\">Gross exposure</text></g><g class=\"g-y9title\" transform=\"translate(1.50390625,0)\"><text class=\"y9title\" transform=\"rotate(-90,12.496875000000003,2507.9069958847736)\" x=\"12.496875000000003\" y=\"2507.9069958847736\" text-anchor=\"middle\" style=\"font-family: 'Open Sans', verdana, arial, sans-serif; font-size: 14px; fill: rgb(42, 63, 95); opacity: 1; font-weight: normal; white-space: pre;\">Net exposure</text></g><g class=\"annotation\" data-index=\"0\" style=\"opacity: 1;\"><g class=\"annotation-text-g\" transform=\"rotate(0,401.5,86)\"><g class=\"cursor-pointer\" transform=\"translate(359,74)\"><rect class=\"bg\" x=\"0.5\" y=\"0.5\" width=\"84\" height=\"23\" style=\"stroke-width: 1px; stroke: rgb(0, 0, 0); stroke-opacity: 0; fill: rgb(0, 0, 0); fill-opacity: 0;\"/><text class=\"annotation-text\" text-anchor=\"middle\" x=\"42.640625\" y=\"18\" style=\"font-family: 'Open Sans', verdana, arial, sans-serif; font-size: 16px; fill: rgb(42, 63, 95); fill-opacity: 1; white-space: pre;\">Cash Flow</text></g></g></g><g class=\"annotation\" data-index=\"1\" style=\"opacity: 1;\"><g class=\"annotation-text-g\" transform=\"rotate(0,401.5,371.726748971193)\"><g class=\"cursor-pointer\" transform=\"translate(380,360)\"><rect class=\"bg\" x=\"0.5\" y=\"0.5\" width=\"42\" height=\"23\" style=\"stroke-width: 1px; stroke: rgb(0, 0, 0); stroke-opacity: 0; fill: rgb(0, 0, 0); fill-opacity: 0;\"/><text class=\"annotation-text\" text-anchor=\"middle\" x=\"21.625\" y=\"18\" style=\"font-family: 'Open Sans', verdana, arial, sans-serif; font-size: 16px; fill: rgb(42, 63, 95); fill-opacity: 1; white-space: pre;\">Cash</text></g></g></g><g class=\"annotation\" data-index=\"2\" style=\"opacity: 1;\"><g class=\"annotation-text-g\" transform=\"rotate(0,401.5,657.4534979423865)\"><g class=\"cursor-pointer\" transform=\"translate(353,645)\"><rect class=\"bg\" x=\"0.5\" y=\"0.5\" width=\"97\" height=\"23\" style=\"stroke-width: 1px; stroke: rgb(0, 0, 0); stroke-opacity: 0; fill: rgb(0, 0, 0); fill-opacity: 0;\"/><text class=\"annotation-text\" text-anchor=\"middle\" x=\"48.84375\" y=\"18\" style=\"font-family: 'Open Sans', verdana, arial, sans-serif; font-size: 16px; fill: rgb(42, 63, 95); fill-opacity: 1; white-space: pre;\">Asset Value</text></g></g></g><g class=\"annotation\" data-index=\"3\" style=\"opacity: 1;\"><g class=\"annotation-text-g\" transform=\"rotate(0,401.5,943.1802469135802)\"><g class=\"cursor-pointer\" transform=\"translate(377,931)\"><rect class=\"bg\" x=\"0.5\" y=\"0.5\" width=\"48\" height=\"23\" style=\"stroke-width: 1px; stroke: rgb(0, 0, 0); stroke-opacity: 0; fill: rgb(0, 0, 0); fill-opacity: 0;\"/><text class=\"annotation-text\" text-anchor=\"middle\" x=\"24.296875\" y=\"18\" style=\"font-family: 'Open Sans', verdana, arial, sans-serif; font-size: 16px; fill: rgb(42, 63, 95); fill-opacity: 1; white-space: pre;\">Value</text></g></g></g><g class=\"annotation\" data-index=\"4\" style=\"opacity: 1;\"><g class=\"annotation-text-g\" transform=\"rotate(0,401.5,1228.9069958847736)\"><g class=\"cursor-pointer\" transform=\"translate(320,1217)\"><rect class=\"bg\" x=\"0.5\" y=\"0.5\" width=\"162\" height=\"23\" style=\"stroke-width: 1px; stroke: rgb(0, 0, 0); stroke-opacity: 0; fill: rgb(0, 0, 0); fill-opacity: 0;\"/><text class=\"annotation-text\" text-anchor=\"middle\" x=\"81.34375\" y=\"18\" style=\"font-family: 'Open Sans', verdana, arial, sans-serif; font-size: 16px; fill: rgb(42, 63, 95); fill-opacity: 1; white-space: pre;\">Cumulative Returns</text></g></g></g><g class=\"annotation\" data-index=\"5\" style=\"opacity: 1;\"><g class=\"annotation-text-g\" transform=\"rotate(0,401.5,1514.633744855967)\"><g class=\"cursor-pointer\" transform=\"translate(353,1503)\"><rect class=\"bg\" x=\"0.5\" y=\"0.5\" width=\"96\" height=\"23\" style=\"stroke-width: 1px; stroke: rgb(0, 0, 0); stroke-opacity: 0; fill: rgb(0, 0, 0); fill-opacity: 0;\"/><text class=\"annotation-text\" text-anchor=\"middle\" x=\"48.546875\" y=\"18\" style=\"font-family: 'Open Sans', verdana, arial, sans-serif; font-size: 16px; fill: rgb(42, 63, 95); fill-opacity: 1; white-space: pre;\">Drawdowns</text></g></g></g><g class=\"annotation\" data-index=\"6\" style=\"opacity: 1;\"><g class=\"annotation-text-g\" transform=\"rotate(0,401.5,1800.3604938271603)\"><g class=\"cursor-pointer\" transform=\"translate(353,1788)\"><rect class=\"bg\" x=\"0.5\" y=\"0.5\" width=\"97\" height=\"23\" style=\"stroke-width: 1px; stroke: rgb(0, 0, 0); stroke-opacity: 0; fill: rgb(0, 0, 0); fill-opacity: 0;\"/><text class=\"annotation-text\" text-anchor=\"middle\" x=\"48.765625\" y=\"18\" style=\"font-family: 'Open Sans', verdana, arial, sans-serif; font-size: 16px; fill: rgb(42, 63, 95); fill-opacity: 1; white-space: pre;\">Underwater</text></g></g></g><g class=\"annotation\" data-index=\"7\" style=\"opacity: 1;\"><g class=\"annotation-text-g\" transform=\"rotate(0,401.5,2086.087242798354)\"><g class=\"cursor-pointer\" transform=\"translate(337,2074)\"><rect class=\"bg\" x=\"0.5\" y=\"0.5\" width=\"128\" height=\"23\" style=\"stroke-width: 1px; stroke: rgb(0, 0, 0); stroke-opacity: 0; fill: rgb(0, 0, 0); fill-opacity: 0;\"/><text class=\"annotation-text\" text-anchor=\"middle\" x=\"64.671875\" y=\"18\" style=\"font-family: 'Open Sans', verdana, arial, sans-serif; font-size: 16px; fill: rgb(42, 63, 95); fill-opacity: 1; white-space: pre;\">Gross Exposure</text></g></g></g><g class=\"annotation\" data-index=\"8\" style=\"opacity: 1;\"><g class=\"annotation-text-g\" transform=\"rotate(0,401.5,2371.813991769547)\"><g class=\"cursor-pointer\" transform=\"translate(346,2360)\"><rect class=\"bg\" x=\"0.5\" y=\"0.5\" width=\"111\" height=\"23\" style=\"stroke-width: 1px; stroke: rgb(0, 0, 0); stroke-opacity: 0; fill: rgb(0, 0, 0); fill-opacity: 0;\"/><text class=\"annotation-text\" text-anchor=\"middle\" x=\"55.765625\" y=\"18\" style=\"font-family: 'Open Sans', verdana, arial, sans-serif; font-size: 16px; fill: rgb(42, 63, 95); fill-opacity: 1; white-space: pre;\">Net Exposure</text></g></g></g></g></svg>"
      ]
     },
     "metadata": {},
     "output_type": "display_data"
    }
   ],
   "source": [
    "portfolio_shared.plot(subplots='all', column='first').show_svg()"
   ]
  },
  {
   "cell_type": "code",
   "execution_count": 13,
   "metadata": {},
   "outputs": [
    {
     "data": {
      "image/svg+xml": [
       "<svg class=\"main-svg\" xmlns=\"http://www.w3.org/2000/svg\" xmlns:xlink=\"http://www.w3.org/1999/xlink\" width=\"750\" height=\"4150\" style=\"\" viewBox=\"0 0 750 4150\"><rect x=\"0\" y=\"0\" width=\"750\" height=\"4150\" style=\"fill: rgb(255, 255, 255); fill-opacity: 1;\"/><defs id=\"defs-fa8056\"><g class=\"clips\"><clipPath id=\"clipfa8056xyplot\" class=\"plotclip\"><rect width=\"625\" height=\"246.54010327022374\"/></clipPath><clipPath id=\"clipfa8056x2y2plot\" class=\"plotclip\"><rect width=\"625\" height=\"246.54010327022374\"/></clipPath><clipPath id=\"clipfa8056x3y3plot\" class=\"plotclip\"><rect width=\"625\" height=\"246.54010327022374\"/></clipPath><clipPath id=\"clipfa8056x4y4plot\" class=\"plotclip\"><rect width=\"625\" height=\"246.54010327022374\"/></clipPath><clipPath id=\"clipfa8056x5y5plot\" class=\"plotclip\"><rect width=\"625\" height=\"246.54010327022374\"/></clipPath><clipPath id=\"clipfa8056x6y6plot\" class=\"plotclip\"><rect width=\"625\" height=\"246.54010327022374\"/></clipPath><clipPath id=\"clipfa8056x7y7plot\" class=\"plotclip\"><rect width=\"625\" height=\"246.54010327022374\"/></clipPath><clipPath id=\"clipfa8056x8y8plot\" class=\"plotclip\"><rect width=\"625\" height=\"246.54010327022374\"/></clipPath><clipPath id=\"clipfa8056x9y9plot\" class=\"plotclip\"><rect width=\"625\" height=\"246.54010327022374\"/></clipPath><clipPath id=\"clipfa8056x10y10plot\" class=\"plotclip\"><rect width=\"625\" height=\"246.54010327022374\"/></clipPath><clipPath id=\"clipfa8056x11y11plot\" class=\"plotclip\"><rect width=\"625\" height=\"246.54010327022382\"/></clipPath><clipPath id=\"clipfa8056x12y12plot\" class=\"plotclip\"><rect width=\"625\" height=\"246.54010327022374\"/></clipPath><clipPath id=\"clipfa8056x13y13plot\" class=\"plotclip\"><rect width=\"625\" height=\"246.54010327022377\"/></clipPath><clipPath id=\"clipfa8056x14y14plot\" class=\"plotclip\"><rect width=\"625\" height=\"246.54010327022377\"/></clipPath><clipPath class=\"axesclip\" id=\"clipfa8056x\"><rect x=\"95\" y=\"0\" width=\"625\" height=\"4150\"/></clipPath><clipPath class=\"axesclip\" id=\"clipfa8056y\"><rect x=\"0\" y=\"136\" width=\"750\" height=\"246.54010327022374\"/></clipPath><clipPath class=\"axesclip\" id=\"clipfa8056xy\"><rect x=\"95\" y=\"136\" width=\"625\" height=\"246.54010327022374\"/></clipPath><clipPath class=\"axesclip\" id=\"clipfa8056y2\"><rect x=\"0\" y=\"420.5738382099826\" width=\"750\" height=\"246.54010327022374\"/></clipPath><clipPath class=\"axesclip\" id=\"clipfa8056xy2\"><rect x=\"95\" y=\"420.5738382099826\" width=\"625\" height=\"246.54010327022374\"/></clipPath><clipPath class=\"axesclip\" id=\"clipfa8056y3\"><rect x=\"0\" y=\"705.1476764199653\" width=\"750\" height=\"246.54010327022374\"/></clipPath><clipPath class=\"axesclip\" id=\"clipfa8056xy3\"><rect x=\"95\" y=\"705.1476764199653\" width=\"625\" height=\"246.54010327022374\"/></clipPath><clipPath class=\"axesclip\" id=\"clipfa8056y4\"><rect x=\"0\" y=\"989.7215146299483\" width=\"750\" height=\"246.54010327022374\"/></clipPath><clipPath class=\"axesclip\" id=\"clipfa8056xy4\"><rect x=\"95\" y=\"989.7215146299483\" width=\"625\" height=\"246.54010327022374\"/></clipPath><clipPath class=\"axesclip\" id=\"clipfa8056y5\"><rect x=\"0\" y=\"1274.295352839931\" width=\"750\" height=\"246.54010327022374\"/></clipPath><clipPath class=\"axesclip\" id=\"clipfa8056xy5\"><rect x=\"95\" y=\"1274.295352839931\" width=\"625\" height=\"246.54010327022374\"/></clipPath><clipPath class=\"axesclip\" id=\"clipfa8056y6\"><rect x=\"0\" y=\"1558.869191049914\" width=\"750\" height=\"246.54010327022374\"/></clipPath><clipPath class=\"axesclip\" id=\"clipfa8056xy6\"><rect x=\"95\" y=\"1558.869191049914\" width=\"625\" height=\"246.54010327022374\"/></clipPath><clipPath class=\"axesclip\" id=\"clipfa8056y7\"><rect x=\"0\" y=\"1843.4430292598965\" width=\"750\" height=\"246.54010327022374\"/></clipPath><clipPath class=\"axesclip\" id=\"clipfa8056xy7\"><rect x=\"95\" y=\"1843.4430292598965\" width=\"625\" height=\"246.54010327022374\"/></clipPath><clipPath class=\"axesclip\" id=\"clipfa8056y8\"><rect x=\"0\" y=\"2128.016867469879\" width=\"750\" height=\"246.54010327022374\"/></clipPath><clipPath class=\"axesclip\" id=\"clipfa8056xy8\"><rect x=\"95\" y=\"2128.016867469879\" width=\"625\" height=\"246.54010327022374\"/></clipPath><clipPath class=\"axesclip\" id=\"clipfa8056y9\"><rect x=\"0\" y=\"2412.5907056798624\" width=\"750\" height=\"246.54010327022374\"/></clipPath><clipPath class=\"axesclip\" id=\"clipfa8056xy9\"><rect x=\"95\" y=\"2412.5907056798624\" width=\"625\" height=\"246.54010327022374\"/></clipPath><clipPath class=\"axesclip\" id=\"clipfa8056y10\"><rect x=\"0\" y=\"2697.1645438898454\" width=\"750\" height=\"246.54010327022374\"/></clipPath><clipPath class=\"axesclip\" id=\"clipfa8056xy10\"><rect x=\"95\" y=\"2697.1645438898454\" width=\"625\" height=\"246.54010327022374\"/></clipPath><clipPath class=\"axesclip\" id=\"clipfa8056y11\"><rect x=\"0\" y=\"2981.738382099828\" width=\"750\" height=\"246.54010327022382\"/></clipPath><clipPath class=\"axesclip\" id=\"clipfa8056xy11\"><rect x=\"95\" y=\"2981.738382099828\" width=\"625\" height=\"246.54010327022382\"/></clipPath><clipPath class=\"axesclip\" id=\"clipfa8056y12\"><rect x=\"0\" y=\"3266.3122203098105\" width=\"750\" height=\"246.54010327022374\"/></clipPath><clipPath class=\"axesclip\" id=\"clipfa8056xy12\"><rect x=\"95\" y=\"3266.3122203098105\" width=\"625\" height=\"246.54010327022374\"/></clipPath><clipPath class=\"axesclip\" id=\"clipfa8056y13\"><rect x=\"0\" y=\"3550.886058519793\" width=\"750\" height=\"246.54010327022377\"/></clipPath><clipPath class=\"axesclip\" id=\"clipfa8056xy13\"><rect x=\"95\" y=\"3550.886058519793\" width=\"625\" height=\"246.54010327022377\"/></clipPath><clipPath class=\"axesclip\" id=\"clipfa8056y14\"><rect x=\"0\" y=\"3835.459896729776\" width=\"750\" height=\"246.54010327022377\"/></clipPath><clipPath class=\"axesclip\" id=\"clipfa8056xy14\"><rect x=\"95\" y=\"3835.459896729776\" width=\"625\" height=\"246.54010327022377\"/></clipPath><clipPath class=\"axesclip\" id=\"clipfa8056x2\"><rect x=\"95\" y=\"0\" width=\"625\" height=\"4150\"/></clipPath><clipPath class=\"axesclip\" id=\"clipfa8056x2y\"><rect x=\"95\" y=\"136\" width=\"625\" height=\"246.54010327022374\"/></clipPath><clipPath class=\"axesclip\" id=\"clipfa8056x2y2\"><rect x=\"95\" y=\"420.5738382099826\" width=\"625\" height=\"246.54010327022374\"/></clipPath><clipPath class=\"axesclip\" id=\"clipfa8056x2y3\"><rect x=\"95\" y=\"705.1476764199653\" width=\"625\" height=\"246.54010327022374\"/></clipPath><clipPath class=\"axesclip\" id=\"clipfa8056x2y4\"><rect x=\"95\" y=\"989.7215146299483\" width=\"625\" height=\"246.54010327022374\"/></clipPath><clipPath class=\"axesclip\" id=\"clipfa8056x2y5\"><rect x=\"95\" y=\"1274.295352839931\" width=\"625\" height=\"246.54010327022374\"/></clipPath><clipPath class=\"axesclip\" id=\"clipfa8056x2y6\"><rect x=\"95\" y=\"1558.869191049914\" width=\"625\" height=\"246.54010327022374\"/></clipPath><clipPath class=\"axesclip\" id=\"clipfa8056x2y7\"><rect x=\"95\" y=\"1843.4430292598965\" width=\"625\" height=\"246.54010327022374\"/></clipPath><clipPath class=\"axesclip\" id=\"clipfa8056x2y8\"><rect x=\"95\" y=\"2128.016867469879\" width=\"625\" height=\"246.54010327022374\"/></clipPath><clipPath class=\"axesclip\" id=\"clipfa8056x2y9\"><rect x=\"95\" y=\"2412.5907056798624\" width=\"625\" height=\"246.54010327022374\"/></clipPath><clipPath class=\"axesclip\" id=\"clipfa8056x2y10\"><rect x=\"95\" y=\"2697.1645438898454\" width=\"625\" height=\"246.54010327022374\"/></clipPath><clipPath class=\"axesclip\" id=\"clipfa8056x2y11\"><rect x=\"95\" y=\"2981.738382099828\" width=\"625\" height=\"246.54010327022382\"/></clipPath><clipPath class=\"axesclip\" id=\"clipfa8056x2y12\"><rect x=\"95\" y=\"3266.3122203098105\" width=\"625\" height=\"246.54010327022374\"/></clipPath><clipPath class=\"axesclip\" id=\"clipfa8056x2y13\"><rect x=\"95\" y=\"3550.886058519793\" width=\"625\" height=\"246.54010327022377\"/></clipPath><clipPath class=\"axesclip\" id=\"clipfa8056x2y14\"><rect x=\"95\" y=\"3835.459896729776\" width=\"625\" height=\"246.54010327022377\"/></clipPath><clipPath class=\"axesclip\" id=\"clipfa8056x3\"><rect x=\"95\" y=\"0\" width=\"625\" height=\"4150\"/></clipPath><clipPath class=\"axesclip\" id=\"clipfa8056x3y\"><rect x=\"95\" y=\"136\" width=\"625\" height=\"246.54010327022374\"/></clipPath><clipPath class=\"axesclip\" id=\"clipfa8056x3y2\"><rect x=\"95\" y=\"420.5738382099826\" width=\"625\" height=\"246.54010327022374\"/></clipPath><clipPath class=\"axesclip\" id=\"clipfa8056x3y3\"><rect x=\"95\" y=\"705.1476764199653\" width=\"625\" height=\"246.54010327022374\"/></clipPath><clipPath class=\"axesclip\" id=\"clipfa8056x3y4\"><rect x=\"95\" y=\"989.7215146299483\" width=\"625\" height=\"246.54010327022374\"/></clipPath><clipPath class=\"axesclip\" id=\"clipfa8056x3y5\"><rect x=\"95\" y=\"1274.295352839931\" width=\"625\" height=\"246.54010327022374\"/></clipPath><clipPath class=\"axesclip\" id=\"clipfa8056x3y6\"><rect x=\"95\" y=\"1558.869191049914\" width=\"625\" height=\"246.54010327022374\"/></clipPath><clipPath class=\"axesclip\" id=\"clipfa8056x3y7\"><rect x=\"95\" y=\"1843.4430292598965\" width=\"625\" height=\"246.54010327022374\"/></clipPath><clipPath class=\"axesclip\" id=\"clipfa8056x3y8\"><rect x=\"95\" y=\"2128.016867469879\" width=\"625\" height=\"246.54010327022374\"/></clipPath><clipPath class=\"axesclip\" id=\"clipfa8056x3y9\"><rect x=\"95\" y=\"2412.5907056798624\" width=\"625\" height=\"246.54010327022374\"/></clipPath><clipPath class=\"axesclip\" id=\"clipfa8056x3y10\"><rect x=\"95\" y=\"2697.1645438898454\" width=\"625\" height=\"246.54010327022374\"/></clipPath><clipPath class=\"axesclip\" id=\"clipfa8056x3y11\"><rect x=\"95\" y=\"2981.738382099828\" width=\"625\" height=\"246.54010327022382\"/></clipPath><clipPath class=\"axesclip\" id=\"clipfa8056x3y12\"><rect x=\"95\" y=\"3266.3122203098105\" width=\"625\" height=\"246.54010327022374\"/></clipPath><clipPath class=\"axesclip\" id=\"clipfa8056x3y13\"><rect x=\"95\" y=\"3550.886058519793\" width=\"625\" height=\"246.54010327022377\"/></clipPath><clipPath class=\"axesclip\" id=\"clipfa8056x3y14\"><rect x=\"95\" y=\"3835.459896729776\" width=\"625\" height=\"246.54010327022377\"/></clipPath><clipPath class=\"axesclip\" id=\"clipfa8056x4\"><rect x=\"95\" y=\"0\" width=\"625\" height=\"4150\"/></clipPath><clipPath class=\"axesclip\" id=\"clipfa8056x4y\"><rect x=\"95\" y=\"136\" width=\"625\" height=\"246.54010327022374\"/></clipPath><clipPath class=\"axesclip\" id=\"clipfa8056x4y2\"><rect x=\"95\" y=\"420.5738382099826\" width=\"625\" height=\"246.54010327022374\"/></clipPath><clipPath class=\"axesclip\" id=\"clipfa8056x4y3\"><rect x=\"95\" y=\"705.1476764199653\" width=\"625\" height=\"246.54010327022374\"/></clipPath><clipPath class=\"axesclip\" id=\"clipfa8056x4y4\"><rect x=\"95\" y=\"989.7215146299483\" width=\"625\" height=\"246.54010327022374\"/></clipPath><clipPath class=\"axesclip\" id=\"clipfa8056x4y5\"><rect x=\"95\" y=\"1274.295352839931\" width=\"625\" height=\"246.54010327022374\"/></clipPath><clipPath class=\"axesclip\" id=\"clipfa8056x4y6\"><rect x=\"95\" y=\"1558.869191049914\" width=\"625\" height=\"246.54010327022374\"/></clipPath><clipPath class=\"axesclip\" id=\"clipfa8056x4y7\"><rect x=\"95\" y=\"1843.4430292598965\" width=\"625\" height=\"246.54010327022374\"/></clipPath><clipPath class=\"axesclip\" id=\"clipfa8056x4y8\"><rect x=\"95\" y=\"2128.016867469879\" width=\"625\" height=\"246.54010327022374\"/></clipPath><clipPath class=\"axesclip\" id=\"clipfa8056x4y9\"><rect x=\"95\" y=\"2412.5907056798624\" width=\"625\" height=\"246.54010327022374\"/></clipPath><clipPath class=\"axesclip\" id=\"clipfa8056x4y10\"><rect x=\"95\" y=\"2697.1645438898454\" width=\"625\" height=\"246.54010327022374\"/></clipPath><clipPath class=\"axesclip\" id=\"clipfa8056x4y11\"><rect x=\"95\" y=\"2981.738382099828\" width=\"625\" height=\"246.54010327022382\"/></clipPath><clipPath class=\"axesclip\" id=\"clipfa8056x4y12\"><rect x=\"95\" y=\"3266.3122203098105\" width=\"625\" height=\"246.54010327022374\"/></clipPath><clipPath class=\"axesclip\" id=\"clipfa8056x4y13\"><rect x=\"95\" y=\"3550.886058519793\" width=\"625\" height=\"246.54010327022377\"/></clipPath><clipPath class=\"axesclip\" id=\"clipfa8056x4y14\"><rect x=\"95\" y=\"3835.459896729776\" width=\"625\" height=\"246.54010327022377\"/></clipPath><clipPath class=\"axesclip\" id=\"clipfa8056x5\"><rect x=\"95\" y=\"0\" width=\"625\" height=\"4150\"/></clipPath><clipPath class=\"axesclip\" id=\"clipfa8056x5y\"><rect x=\"95\" y=\"136\" width=\"625\" height=\"246.54010327022374\"/></clipPath><clipPath class=\"axesclip\" id=\"clipfa8056x5y2\"><rect x=\"95\" y=\"420.5738382099826\" width=\"625\" height=\"246.54010327022374\"/></clipPath><clipPath class=\"axesclip\" id=\"clipfa8056x5y3\"><rect x=\"95\" y=\"705.1476764199653\" width=\"625\" height=\"246.54010327022374\"/></clipPath><clipPath class=\"axesclip\" id=\"clipfa8056x5y4\"><rect x=\"95\" y=\"989.7215146299483\" width=\"625\" height=\"246.54010327022374\"/></clipPath><clipPath class=\"axesclip\" id=\"clipfa8056x5y5\"><rect x=\"95\" y=\"1274.295352839931\" width=\"625\" height=\"246.54010327022374\"/></clipPath><clipPath class=\"axesclip\" id=\"clipfa8056x5y6\"><rect x=\"95\" y=\"1558.869191049914\" width=\"625\" height=\"246.54010327022374\"/></clipPath><clipPath class=\"axesclip\" id=\"clipfa8056x5y7\"><rect x=\"95\" y=\"1843.4430292598965\" width=\"625\" height=\"246.54010327022374\"/></clipPath><clipPath class=\"axesclip\" id=\"clipfa8056x5y8\"><rect x=\"95\" y=\"2128.016867469879\" width=\"625\" height=\"246.54010327022374\"/></clipPath><clipPath class=\"axesclip\" id=\"clipfa8056x5y9\"><rect x=\"95\" y=\"2412.5907056798624\" width=\"625\" height=\"246.54010327022374\"/></clipPath><clipPath class=\"axesclip\" id=\"clipfa8056x5y10\"><rect x=\"95\" y=\"2697.1645438898454\" width=\"625\" height=\"246.54010327022374\"/></clipPath><clipPath class=\"axesclip\" id=\"clipfa8056x5y11\"><rect x=\"95\" y=\"2981.738382099828\" width=\"625\" height=\"246.54010327022382\"/></clipPath><clipPath class=\"axesclip\" id=\"clipfa8056x5y12\"><rect x=\"95\" y=\"3266.3122203098105\" width=\"625\" height=\"246.54010327022374\"/></clipPath><clipPath class=\"axesclip\" id=\"clipfa8056x5y13\"><rect x=\"95\" y=\"3550.886058519793\" width=\"625\" height=\"246.54010327022377\"/></clipPath><clipPath class=\"axesclip\" id=\"clipfa8056x5y14\"><rect x=\"95\" y=\"3835.459896729776\" width=\"625\" height=\"246.54010327022377\"/></clipPath><clipPath class=\"axesclip\" id=\"clipfa8056x6\"><rect x=\"95\" y=\"0\" width=\"625\" height=\"4150\"/></clipPath><clipPath class=\"axesclip\" id=\"clipfa8056x6y\"><rect x=\"95\" y=\"136\" width=\"625\" height=\"246.54010327022374\"/></clipPath><clipPath class=\"axesclip\" id=\"clipfa8056x6y2\"><rect x=\"95\" y=\"420.5738382099826\" width=\"625\" height=\"246.54010327022374\"/></clipPath><clipPath class=\"axesclip\" id=\"clipfa8056x6y3\"><rect x=\"95\" y=\"705.1476764199653\" width=\"625\" height=\"246.54010327022374\"/></clipPath><clipPath class=\"axesclip\" id=\"clipfa8056x6y4\"><rect x=\"95\" y=\"989.7215146299483\" width=\"625\" height=\"246.54010327022374\"/></clipPath><clipPath class=\"axesclip\" id=\"clipfa8056x6y5\"><rect x=\"95\" y=\"1274.295352839931\" width=\"625\" height=\"246.54010327022374\"/></clipPath><clipPath class=\"axesclip\" id=\"clipfa8056x6y6\"><rect x=\"95\" y=\"1558.869191049914\" width=\"625\" height=\"246.54010327022374\"/></clipPath><clipPath class=\"axesclip\" id=\"clipfa8056x6y7\"><rect x=\"95\" y=\"1843.4430292598965\" width=\"625\" height=\"246.54010327022374\"/></clipPath><clipPath class=\"axesclip\" id=\"clipfa8056x6y8\"><rect x=\"95\" y=\"2128.016867469879\" width=\"625\" height=\"246.54010327022374\"/></clipPath><clipPath class=\"axesclip\" id=\"clipfa8056x6y9\"><rect x=\"95\" y=\"2412.5907056798624\" width=\"625\" height=\"246.54010327022374\"/></clipPath><clipPath class=\"axesclip\" id=\"clipfa8056x6y10\"><rect x=\"95\" y=\"2697.1645438898454\" width=\"625\" height=\"246.54010327022374\"/></clipPath><clipPath class=\"axesclip\" id=\"clipfa8056x6y11\"><rect x=\"95\" y=\"2981.738382099828\" width=\"625\" height=\"246.54010327022382\"/></clipPath><clipPath class=\"axesclip\" id=\"clipfa8056x6y12\"><rect x=\"95\" y=\"3266.3122203098105\" width=\"625\" height=\"246.54010327022374\"/></clipPath><clipPath class=\"axesclip\" id=\"clipfa8056x6y13\"><rect x=\"95\" y=\"3550.886058519793\" width=\"625\" height=\"246.54010327022377\"/></clipPath><clipPath class=\"axesclip\" id=\"clipfa8056x6y14\"><rect x=\"95\" y=\"3835.459896729776\" width=\"625\" height=\"246.54010327022377\"/></clipPath><clipPath class=\"axesclip\" id=\"clipfa8056x7\"><rect x=\"95\" y=\"0\" width=\"625\" height=\"4150\"/></clipPath><clipPath class=\"axesclip\" id=\"clipfa8056x7y\"><rect x=\"95\" y=\"136\" width=\"625\" height=\"246.54010327022374\"/></clipPath><clipPath class=\"axesclip\" id=\"clipfa8056x7y2\"><rect x=\"95\" y=\"420.5738382099826\" width=\"625\" height=\"246.54010327022374\"/></clipPath><clipPath class=\"axesclip\" id=\"clipfa8056x7y3\"><rect x=\"95\" y=\"705.1476764199653\" width=\"625\" height=\"246.54010327022374\"/></clipPath><clipPath class=\"axesclip\" id=\"clipfa8056x7y4\"><rect x=\"95\" y=\"989.7215146299483\" width=\"625\" height=\"246.54010327022374\"/></clipPath><clipPath class=\"axesclip\" id=\"clipfa8056x7y5\"><rect x=\"95\" y=\"1274.295352839931\" width=\"625\" height=\"246.54010327022374\"/></clipPath><clipPath class=\"axesclip\" id=\"clipfa8056x7y6\"><rect x=\"95\" y=\"1558.869191049914\" width=\"625\" height=\"246.54010327022374\"/></clipPath><clipPath class=\"axesclip\" id=\"clipfa8056x7y7\"><rect x=\"95\" y=\"1843.4430292598965\" width=\"625\" height=\"246.54010327022374\"/></clipPath><clipPath class=\"axesclip\" id=\"clipfa8056x7y8\"><rect x=\"95\" y=\"2128.016867469879\" width=\"625\" height=\"246.54010327022374\"/></clipPath><clipPath class=\"axesclip\" id=\"clipfa8056x7y9\"><rect x=\"95\" y=\"2412.5907056798624\" width=\"625\" height=\"246.54010327022374\"/></clipPath><clipPath class=\"axesclip\" id=\"clipfa8056x7y10\"><rect x=\"95\" y=\"2697.1645438898454\" width=\"625\" height=\"246.54010327022374\"/></clipPath><clipPath class=\"axesclip\" id=\"clipfa8056x7y11\"><rect x=\"95\" y=\"2981.738382099828\" width=\"625\" height=\"246.54010327022382\"/></clipPath><clipPath class=\"axesclip\" id=\"clipfa8056x7y12\"><rect x=\"95\" y=\"3266.3122203098105\" width=\"625\" height=\"246.54010327022374\"/></clipPath><clipPath class=\"axesclip\" id=\"clipfa8056x7y13\"><rect x=\"95\" y=\"3550.886058519793\" width=\"625\" height=\"246.54010327022377\"/></clipPath><clipPath class=\"axesclip\" id=\"clipfa8056x7y14\"><rect x=\"95\" y=\"3835.459896729776\" width=\"625\" height=\"246.54010327022377\"/></clipPath><clipPath class=\"axesclip\" id=\"clipfa8056x8\"><rect x=\"95\" y=\"0\" width=\"625\" height=\"4150\"/></clipPath><clipPath class=\"axesclip\" id=\"clipfa8056x8y\"><rect x=\"95\" y=\"136\" width=\"625\" height=\"246.54010327022374\"/></clipPath><clipPath class=\"axesclip\" id=\"clipfa8056x8y2\"><rect x=\"95\" y=\"420.5738382099826\" width=\"625\" height=\"246.54010327022374\"/></clipPath><clipPath class=\"axesclip\" id=\"clipfa8056x8y3\"><rect x=\"95\" y=\"705.1476764199653\" width=\"625\" height=\"246.54010327022374\"/></clipPath><clipPath class=\"axesclip\" id=\"clipfa8056x8y4\"><rect x=\"95\" y=\"989.7215146299483\" width=\"625\" height=\"246.54010327022374\"/></clipPath><clipPath class=\"axesclip\" id=\"clipfa8056x8y5\"><rect x=\"95\" y=\"1274.295352839931\" width=\"625\" height=\"246.54010327022374\"/></clipPath><clipPath class=\"axesclip\" id=\"clipfa8056x8y6\"><rect x=\"95\" y=\"1558.869191049914\" width=\"625\" height=\"246.54010327022374\"/></clipPath><clipPath class=\"axesclip\" id=\"clipfa8056x8y7\"><rect x=\"95\" y=\"1843.4430292598965\" width=\"625\" height=\"246.54010327022374\"/></clipPath><clipPath class=\"axesclip\" id=\"clipfa8056x8y8\"><rect x=\"95\" y=\"2128.016867469879\" width=\"625\" height=\"246.54010327022374\"/></clipPath><clipPath class=\"axesclip\" id=\"clipfa8056x8y9\"><rect x=\"95\" y=\"2412.5907056798624\" width=\"625\" height=\"246.54010327022374\"/></clipPath><clipPath class=\"axesclip\" id=\"clipfa8056x8y10\"><rect x=\"95\" y=\"2697.1645438898454\" width=\"625\" height=\"246.54010327022374\"/></clipPath><clipPath class=\"axesclip\" id=\"clipfa8056x8y11\"><rect x=\"95\" y=\"2981.738382099828\" width=\"625\" height=\"246.54010327022382\"/></clipPath><clipPath class=\"axesclip\" id=\"clipfa8056x8y12\"><rect x=\"95\" y=\"3266.3122203098105\" width=\"625\" height=\"246.54010327022374\"/></clipPath><clipPath class=\"axesclip\" id=\"clipfa8056x8y13\"><rect x=\"95\" y=\"3550.886058519793\" width=\"625\" height=\"246.54010327022377\"/></clipPath><clipPath class=\"axesclip\" id=\"clipfa8056x8y14\"><rect x=\"95\" y=\"3835.459896729776\" width=\"625\" height=\"246.54010327022377\"/></clipPath><clipPath class=\"axesclip\" id=\"clipfa8056x9\"><rect x=\"95\" y=\"0\" width=\"625\" height=\"4150\"/></clipPath><clipPath class=\"axesclip\" id=\"clipfa8056x9y\"><rect x=\"95\" y=\"136\" width=\"625\" height=\"246.54010327022374\"/></clipPath><clipPath class=\"axesclip\" id=\"clipfa8056x9y2\"><rect x=\"95\" y=\"420.5738382099826\" width=\"625\" height=\"246.54010327022374\"/></clipPath><clipPath class=\"axesclip\" id=\"clipfa8056x9y3\"><rect x=\"95\" y=\"705.1476764199653\" width=\"625\" height=\"246.54010327022374\"/></clipPath><clipPath class=\"axesclip\" id=\"clipfa8056x9y4\"><rect x=\"95\" y=\"989.7215146299483\" width=\"625\" height=\"246.54010327022374\"/></clipPath><clipPath class=\"axesclip\" id=\"clipfa8056x9y5\"><rect x=\"95\" y=\"1274.295352839931\" width=\"625\" height=\"246.54010327022374\"/></clipPath><clipPath class=\"axesclip\" id=\"clipfa8056x9y6\"><rect x=\"95\" y=\"1558.869191049914\" width=\"625\" height=\"246.54010327022374\"/></clipPath><clipPath class=\"axesclip\" id=\"clipfa8056x9y7\"><rect x=\"95\" y=\"1843.4430292598965\" width=\"625\" height=\"246.54010327022374\"/></clipPath><clipPath class=\"axesclip\" id=\"clipfa8056x9y8\"><rect x=\"95\" y=\"2128.016867469879\" width=\"625\" height=\"246.54010327022374\"/></clipPath><clipPath class=\"axesclip\" id=\"clipfa8056x9y9\"><rect x=\"95\" y=\"2412.5907056798624\" width=\"625\" height=\"246.54010327022374\"/></clipPath><clipPath class=\"axesclip\" id=\"clipfa8056x9y10\"><rect x=\"95\" y=\"2697.1645438898454\" width=\"625\" height=\"246.54010327022374\"/></clipPath><clipPath class=\"axesclip\" id=\"clipfa8056x9y11\"><rect x=\"95\" y=\"2981.738382099828\" width=\"625\" height=\"246.54010327022382\"/></clipPath><clipPath class=\"axesclip\" id=\"clipfa8056x9y12\"><rect x=\"95\" y=\"3266.3122203098105\" width=\"625\" height=\"246.54010327022374\"/></clipPath><clipPath class=\"axesclip\" id=\"clipfa8056x9y13\"><rect x=\"95\" y=\"3550.886058519793\" width=\"625\" height=\"246.54010327022377\"/></clipPath><clipPath class=\"axesclip\" id=\"clipfa8056x9y14\"><rect x=\"95\" y=\"3835.459896729776\" width=\"625\" height=\"246.54010327022377\"/></clipPath><clipPath class=\"axesclip\" id=\"clipfa8056x10\"><rect x=\"95\" y=\"0\" width=\"625\" height=\"4150\"/></clipPath><clipPath class=\"axesclip\" id=\"clipfa8056x10y\"><rect x=\"95\" y=\"136\" width=\"625\" height=\"246.54010327022374\"/></clipPath><clipPath class=\"axesclip\" id=\"clipfa8056x10y2\"><rect x=\"95\" y=\"420.5738382099826\" width=\"625\" height=\"246.54010327022374\"/></clipPath><clipPath class=\"axesclip\" id=\"clipfa8056x10y3\"><rect x=\"95\" y=\"705.1476764199653\" width=\"625\" height=\"246.54010327022374\"/></clipPath><clipPath class=\"axesclip\" id=\"clipfa8056x10y4\"><rect x=\"95\" y=\"989.7215146299483\" width=\"625\" height=\"246.54010327022374\"/></clipPath><clipPath class=\"axesclip\" id=\"clipfa8056x10y5\"><rect x=\"95\" y=\"1274.295352839931\" width=\"625\" height=\"246.54010327022374\"/></clipPath><clipPath class=\"axesclip\" id=\"clipfa8056x10y6\"><rect x=\"95\" y=\"1558.869191049914\" width=\"625\" height=\"246.54010327022374\"/></clipPath><clipPath class=\"axesclip\" id=\"clipfa8056x10y7\"><rect x=\"95\" y=\"1843.4430292598965\" width=\"625\" height=\"246.54010327022374\"/></clipPath><clipPath class=\"axesclip\" id=\"clipfa8056x10y8\"><rect x=\"95\" y=\"2128.016867469879\" width=\"625\" height=\"246.54010327022374\"/></clipPath><clipPath class=\"axesclip\" id=\"clipfa8056x10y9\"><rect x=\"95\" y=\"2412.5907056798624\" width=\"625\" height=\"246.54010327022374\"/></clipPath><clipPath class=\"axesclip\" id=\"clipfa8056x10y10\"><rect x=\"95\" y=\"2697.1645438898454\" width=\"625\" height=\"246.54010327022374\"/></clipPath><clipPath class=\"axesclip\" id=\"clipfa8056x10y11\"><rect x=\"95\" y=\"2981.738382099828\" width=\"625\" height=\"246.54010327022382\"/></clipPath><clipPath class=\"axesclip\" id=\"clipfa8056x10y12\"><rect x=\"95\" y=\"3266.3122203098105\" width=\"625\" height=\"246.54010327022374\"/></clipPath><clipPath class=\"axesclip\" id=\"clipfa8056x10y13\"><rect x=\"95\" y=\"3550.886058519793\" width=\"625\" height=\"246.54010327022377\"/></clipPath><clipPath class=\"axesclip\" id=\"clipfa8056x10y14\"><rect x=\"95\" y=\"3835.459896729776\" width=\"625\" height=\"246.54010327022377\"/></clipPath><clipPath class=\"axesclip\" id=\"clipfa8056x11\"><rect x=\"95\" y=\"0\" width=\"625\" height=\"4150\"/></clipPath><clipPath class=\"axesclip\" id=\"clipfa8056x11y\"><rect x=\"95\" y=\"136\" width=\"625\" height=\"246.54010327022374\"/></clipPath><clipPath class=\"axesclip\" id=\"clipfa8056x11y2\"><rect x=\"95\" y=\"420.5738382099826\" width=\"625\" height=\"246.54010327022374\"/></clipPath><clipPath class=\"axesclip\" id=\"clipfa8056x11y3\"><rect x=\"95\" y=\"705.1476764199653\" width=\"625\" height=\"246.54010327022374\"/></clipPath><clipPath class=\"axesclip\" id=\"clipfa8056x11y4\"><rect x=\"95\" y=\"989.7215146299483\" width=\"625\" height=\"246.54010327022374\"/></clipPath><clipPath class=\"axesclip\" id=\"clipfa8056x11y5\"><rect x=\"95\" y=\"1274.295352839931\" width=\"625\" height=\"246.54010327022374\"/></clipPath><clipPath class=\"axesclip\" id=\"clipfa8056x11y6\"><rect x=\"95\" y=\"1558.869191049914\" width=\"625\" height=\"246.54010327022374\"/></clipPath><clipPath class=\"axesclip\" id=\"clipfa8056x11y7\"><rect x=\"95\" y=\"1843.4430292598965\" width=\"625\" height=\"246.54010327022374\"/></clipPath><clipPath class=\"axesclip\" id=\"clipfa8056x11y8\"><rect x=\"95\" y=\"2128.016867469879\" width=\"625\" height=\"246.54010327022374\"/></clipPath><clipPath class=\"axesclip\" id=\"clipfa8056x11y9\"><rect x=\"95\" y=\"2412.5907056798624\" width=\"625\" height=\"246.54010327022374\"/></clipPath><clipPath class=\"axesclip\" id=\"clipfa8056x11y10\"><rect x=\"95\" y=\"2697.1645438898454\" width=\"625\" height=\"246.54010327022374\"/></clipPath><clipPath class=\"axesclip\" id=\"clipfa8056x11y11\"><rect x=\"95\" y=\"2981.738382099828\" width=\"625\" height=\"246.54010327022382\"/></clipPath><clipPath class=\"axesclip\" id=\"clipfa8056x11y12\"><rect x=\"95\" y=\"3266.3122203098105\" width=\"625\" height=\"246.54010327022374\"/></clipPath><clipPath class=\"axesclip\" id=\"clipfa8056x11y13\"><rect x=\"95\" y=\"3550.886058519793\" width=\"625\" height=\"246.54010327022377\"/></clipPath><clipPath class=\"axesclip\" id=\"clipfa8056x11y14\"><rect x=\"95\" y=\"3835.459896729776\" width=\"625\" height=\"246.54010327022377\"/></clipPath><clipPath class=\"axesclip\" id=\"clipfa8056x12\"><rect x=\"95\" y=\"0\" width=\"625\" height=\"4150\"/></clipPath><clipPath class=\"axesclip\" id=\"clipfa8056x12y\"><rect x=\"95\" y=\"136\" width=\"625\" height=\"246.54010327022374\"/></clipPath><clipPath class=\"axesclip\" id=\"clipfa8056x12y2\"><rect x=\"95\" y=\"420.5738382099826\" width=\"625\" height=\"246.54010327022374\"/></clipPath><clipPath class=\"axesclip\" id=\"clipfa8056x12y3\"><rect x=\"95\" y=\"705.1476764199653\" width=\"625\" height=\"246.54010327022374\"/></clipPath><clipPath class=\"axesclip\" id=\"clipfa8056x12y4\"><rect x=\"95\" y=\"989.7215146299483\" width=\"625\" height=\"246.54010327022374\"/></clipPath><clipPath class=\"axesclip\" id=\"clipfa8056x12y5\"><rect x=\"95\" y=\"1274.295352839931\" width=\"625\" height=\"246.54010327022374\"/></clipPath><clipPath class=\"axesclip\" id=\"clipfa8056x12y6\"><rect x=\"95\" y=\"1558.869191049914\" width=\"625\" height=\"246.54010327022374\"/></clipPath><clipPath class=\"axesclip\" id=\"clipfa8056x12y7\"><rect x=\"95\" y=\"1843.4430292598965\" width=\"625\" height=\"246.54010327022374\"/></clipPath><clipPath class=\"axesclip\" id=\"clipfa8056x12y8\"><rect x=\"95\" y=\"2128.016867469879\" width=\"625\" height=\"246.54010327022374\"/></clipPath><clipPath class=\"axesclip\" id=\"clipfa8056x12y9\"><rect x=\"95\" y=\"2412.5907056798624\" width=\"625\" height=\"246.54010327022374\"/></clipPath><clipPath class=\"axesclip\" id=\"clipfa8056x12y10\"><rect x=\"95\" y=\"2697.1645438898454\" width=\"625\" height=\"246.54010327022374\"/></clipPath><clipPath class=\"axesclip\" id=\"clipfa8056x12y11\"><rect x=\"95\" y=\"2981.738382099828\" width=\"625\" height=\"246.54010327022382\"/></clipPath><clipPath class=\"axesclip\" id=\"clipfa8056x12y12\"><rect x=\"95\" y=\"3266.3122203098105\" width=\"625\" height=\"246.54010327022374\"/></clipPath><clipPath class=\"axesclip\" id=\"clipfa8056x12y13\"><rect x=\"95\" y=\"3550.886058519793\" width=\"625\" height=\"246.54010327022377\"/></clipPath><clipPath class=\"axesclip\" id=\"clipfa8056x12y14\"><rect x=\"95\" y=\"3835.459896729776\" width=\"625\" height=\"246.54010327022377\"/></clipPath><clipPath class=\"axesclip\" id=\"clipfa8056x13\"><rect x=\"95\" y=\"0\" width=\"625\" height=\"4150\"/></clipPath><clipPath class=\"axesclip\" id=\"clipfa8056x13y\"><rect x=\"95\" y=\"136\" width=\"625\" height=\"246.54010327022374\"/></clipPath><clipPath class=\"axesclip\" id=\"clipfa8056x13y2\"><rect x=\"95\" y=\"420.5738382099826\" width=\"625\" height=\"246.54010327022374\"/></clipPath><clipPath class=\"axesclip\" id=\"clipfa8056x13y3\"><rect x=\"95\" y=\"705.1476764199653\" width=\"625\" height=\"246.54010327022374\"/></clipPath><clipPath class=\"axesclip\" id=\"clipfa8056x13y4\"><rect x=\"95\" y=\"989.7215146299483\" width=\"625\" height=\"246.54010327022374\"/></clipPath><clipPath class=\"axesclip\" id=\"clipfa8056x13y5\"><rect x=\"95\" y=\"1274.295352839931\" width=\"625\" height=\"246.54010327022374\"/></clipPath><clipPath class=\"axesclip\" id=\"clipfa8056x13y6\"><rect x=\"95\" y=\"1558.869191049914\" width=\"625\" height=\"246.54010327022374\"/></clipPath><clipPath class=\"axesclip\" id=\"clipfa8056x13y7\"><rect x=\"95\" y=\"1843.4430292598965\" width=\"625\" height=\"246.54010327022374\"/></clipPath><clipPath class=\"axesclip\" id=\"clipfa8056x13y8\"><rect x=\"95\" y=\"2128.016867469879\" width=\"625\" height=\"246.54010327022374\"/></clipPath><clipPath class=\"axesclip\" id=\"clipfa8056x13y9\"><rect x=\"95\" y=\"2412.5907056798624\" width=\"625\" height=\"246.54010327022374\"/></clipPath><clipPath class=\"axesclip\" id=\"clipfa8056x13y10\"><rect x=\"95\" y=\"2697.1645438898454\" width=\"625\" height=\"246.54010327022374\"/></clipPath><clipPath class=\"axesclip\" id=\"clipfa8056x13y11\"><rect x=\"95\" y=\"2981.738382099828\" width=\"625\" height=\"246.54010327022382\"/></clipPath><clipPath class=\"axesclip\" id=\"clipfa8056x13y12\"><rect x=\"95\" y=\"3266.3122203098105\" width=\"625\" height=\"246.54010327022374\"/></clipPath><clipPath class=\"axesclip\" id=\"clipfa8056x13y13\"><rect x=\"95\" y=\"3550.886058519793\" width=\"625\" height=\"246.54010327022377\"/></clipPath><clipPath class=\"axesclip\" id=\"clipfa8056x13y14\"><rect x=\"95\" y=\"3835.459896729776\" width=\"625\" height=\"246.54010327022377\"/></clipPath><clipPath class=\"axesclip\" id=\"clipfa8056x14\"><rect x=\"95\" y=\"0\" width=\"625\" height=\"4150\"/></clipPath><clipPath class=\"axesclip\" id=\"clipfa8056x14y\"><rect x=\"95\" y=\"136\" width=\"625\" height=\"246.54010327022374\"/></clipPath><clipPath class=\"axesclip\" id=\"clipfa8056x14y2\"><rect x=\"95\" y=\"420.5738382099826\" width=\"625\" height=\"246.54010327022374\"/></clipPath><clipPath class=\"axesclip\" id=\"clipfa8056x14y3\"><rect x=\"95\" y=\"705.1476764199653\" width=\"625\" height=\"246.54010327022374\"/></clipPath><clipPath class=\"axesclip\" id=\"clipfa8056x14y4\"><rect x=\"95\" y=\"989.7215146299483\" width=\"625\" height=\"246.54010327022374\"/></clipPath><clipPath class=\"axesclip\" id=\"clipfa8056x14y5\"><rect x=\"95\" y=\"1274.295352839931\" width=\"625\" height=\"246.54010327022374\"/></clipPath><clipPath class=\"axesclip\" id=\"clipfa8056x14y6\"><rect x=\"95\" y=\"1558.869191049914\" width=\"625\" height=\"246.54010327022374\"/></clipPath><clipPath class=\"axesclip\" id=\"clipfa8056x14y7\"><rect x=\"95\" y=\"1843.4430292598965\" width=\"625\" height=\"246.54010327022374\"/></clipPath><clipPath class=\"axesclip\" id=\"clipfa8056x14y8\"><rect x=\"95\" y=\"2128.016867469879\" width=\"625\" height=\"246.54010327022374\"/></clipPath><clipPath class=\"axesclip\" id=\"clipfa8056x14y9\"><rect x=\"95\" y=\"2412.5907056798624\" width=\"625\" height=\"246.54010327022374\"/></clipPath><clipPath class=\"axesclip\" id=\"clipfa8056x14y10\"><rect x=\"95\" y=\"2697.1645438898454\" width=\"625\" height=\"246.54010327022374\"/></clipPath><clipPath class=\"axesclip\" id=\"clipfa8056x14y11\"><rect x=\"95\" y=\"2981.738382099828\" width=\"625\" height=\"246.54010327022382\"/></clipPath><clipPath class=\"axesclip\" id=\"clipfa8056x14y12\"><rect x=\"95\" y=\"3266.3122203098105\" width=\"625\" height=\"246.54010327022374\"/></clipPath><clipPath class=\"axesclip\" id=\"clipfa8056x14y13\"><rect x=\"95\" y=\"3550.886058519793\" width=\"625\" height=\"246.54010327022377\"/></clipPath><clipPath class=\"axesclip\" id=\"clipfa8056x14y14\"><rect x=\"95\" y=\"3835.459896729776\" width=\"625\" height=\"246.54010327022377\"/></clipPath></g><g class=\"gradients\"/><g class=\"patterns\"/></defs><g class=\"bglayer\"><rect class=\"bg\" x=\"95\" y=\"136\" width=\"625\" height=\"246.54010327022374\" style=\"fill: rgb(229, 236, 246); fill-opacity: 1; stroke-width: 0;\"/><rect class=\"bg\" x=\"95\" y=\"420.5738382099826\" width=\"625\" height=\"246.54010327022374\" style=\"fill: rgb(229, 236, 246); fill-opacity: 1; stroke-width: 0;\"/><rect class=\"bg\" x=\"95\" y=\"705.1476764199653\" width=\"625\" height=\"246.54010327022374\" style=\"fill: rgb(229, 236, 246); fill-opacity: 1; stroke-width: 0;\"/><rect class=\"bg\" x=\"95\" y=\"989.7215146299483\" width=\"625\" height=\"246.54010327022374\" style=\"fill: rgb(229, 236, 246); fill-opacity: 1; stroke-width: 0;\"/><rect class=\"bg\" x=\"95\" y=\"1274.295352839931\" width=\"625\" height=\"246.54010327022374\" style=\"fill: rgb(229, 236, 246); fill-opacity: 1; stroke-width: 0;\"/><rect class=\"bg\" x=\"95\" y=\"1558.869191049914\" width=\"625\" height=\"246.54010327022374\" style=\"fill: rgb(229, 236, 246); fill-opacity: 1; stroke-width: 0;\"/><rect class=\"bg\" x=\"95\" y=\"1843.4430292598965\" width=\"625\" height=\"246.54010327022374\" style=\"fill: rgb(229, 236, 246); fill-opacity: 1; stroke-width: 0;\"/><rect class=\"bg\" x=\"95\" y=\"2128.016867469879\" width=\"625\" height=\"246.54010327022374\" style=\"fill: rgb(229, 236, 246); fill-opacity: 1; stroke-width: 0;\"/><rect class=\"bg\" x=\"95\" y=\"2412.5907056798624\" width=\"625\" height=\"246.54010327022374\" style=\"fill: rgb(229, 236, 246); fill-opacity: 1; stroke-width: 0;\"/><rect class=\"bg\" x=\"95\" y=\"2697.1645438898454\" width=\"625\" height=\"246.54010327022374\" style=\"fill: rgb(229, 236, 246); fill-opacity: 1; stroke-width: 0;\"/><rect class=\"bg\" x=\"95\" y=\"2981.738382099828\" width=\"625\" height=\"246.54010327022382\" style=\"fill: rgb(229, 236, 246); fill-opacity: 1; stroke-width: 0;\"/><rect class=\"bg\" x=\"95\" y=\"3266.3122203098105\" width=\"625\" height=\"246.54010327022374\" style=\"fill: rgb(229, 236, 246); fill-opacity: 1; stroke-width: 0;\"/><rect class=\"bg\" x=\"95\" y=\"3550.886058519793\" width=\"625\" height=\"246.54010327022377\" style=\"fill: rgb(229, 236, 246); fill-opacity: 1; stroke-width: 0;\"/><rect class=\"bg\" x=\"95\" y=\"3835.459896729776\" width=\"625\" height=\"246.54010327022377\" style=\"fill: rgb(229, 236, 246); fill-opacity: 1; stroke-width: 0;\"/></g><g class=\"layer-below\"><g class=\"imagelayer\"/><g class=\"shapelayer\"><path data-index=\"10\" fill-rule=\"evenodd\" d=\"M130.21,3228.278485370052H683.75V2981.738382099828H130.21Z\" clip-path=\"url(#clipfa8056x11)\" style=\"opacity: 0.2; stroke: rgb(0, 0, 0); stroke-opacity: 0; fill: rgb(255, 165, 0); fill-opacity: 1; stroke-width: 0px;\"/></g></g><g class=\"cartesianlayer\"><g class=\"subplot xy\"><g class=\"layer-subplot\"><g class=\"shapelayer\"/><g class=\"imagelayer\"/></g><g class=\"gridlayer\"><g class=\"x\"><path class=\"xgrid crisp\" transform=\"translate(130.21,0)\" d=\"M0,136v246.54010327022374\" style=\"stroke: rgb(255, 255, 255); stroke-opacity: 1; stroke-width: 1px;\"/><path class=\"xgrid crisp\" transform=\"translate(268.6,0)\" d=\"M0,136v246.54010327022374\" style=\"stroke: rgb(255, 255, 255); stroke-opacity: 1; stroke-width: 1px;\"/><path class=\"xgrid crisp\" transform=\"translate(406.98,0)\" d=\"M0,136v246.54010327022374\" style=\"stroke: rgb(255, 255, 255); stroke-opacity: 1; stroke-width: 1px;\"/><path class=\"xgrid crisp\" transform=\"translate(545.37,0)\" d=\"M0,136v246.54010327022374\" style=\"stroke: rgb(255, 255, 255); stroke-opacity: 1; stroke-width: 1px;\"/><path class=\"xgrid crisp\" transform=\"translate(683.75,0)\" d=\"M0,136v246.54010327022374\" style=\"stroke: rgb(255, 255, 255); stroke-opacity: 1; stroke-width: 1px;\"/></g><g class=\"y\"><path class=\"ygrid crisp\" transform=\"translate(0,366.46000000000004)\" d=\"M95,0h625\" style=\"stroke: rgb(255, 255, 255); stroke-opacity: 1; stroke-width: 1px;\"/><path class=\"ygrid crisp\" transform=\"translate(0,331.52)\" d=\"M95,0h625\" style=\"stroke: rgb(255, 255, 255); stroke-opacity: 1; stroke-width: 1px;\"/><path class=\"ygrid crisp\" transform=\"translate(0,296.58000000000004)\" d=\"M95,0h625\" style=\"stroke: rgb(255, 255, 255); stroke-opacity: 1; stroke-width: 1px;\"/><path class=\"ygrid crisp\" transform=\"translate(0,261.64)\" d=\"M95,0h625\" style=\"stroke: rgb(255, 255, 255); stroke-opacity: 1; stroke-width: 1px;\"/><path class=\"ygrid crisp\" transform=\"translate(0,226.7)\" d=\"M95,0h625\" style=\"stroke: rgb(255, 255, 255); stroke-opacity: 1; stroke-width: 1px;\"/><path class=\"ygrid crisp\" transform=\"translate(0,191.76)\" d=\"M95,0h625\" style=\"stroke: rgb(255, 255, 255); stroke-opacity: 1; stroke-width: 1px;\"/><path class=\"ygrid crisp\" transform=\"translate(0,156.82)\" d=\"M95,0h625\" style=\"stroke: rgb(255, 255, 255); stroke-opacity: 1; stroke-width: 1px;\"/></g></g><g class=\"zerolinelayer\"/><path class=\"xlines-below\"/><path class=\"ylines-below\"/><g class=\"overlines-below\"/><g class=\"xaxislayer-below\"/><g class=\"yaxislayer-below\"/><g class=\"overaxes-below\"/><g class=\"plot\" transform=\"translate(95,136)\" clip-path=\"url(#clipfa8056xyplot)\"><g class=\"scatterlayer mlayer\"><g class=\"trace scatter trace7681e397-09a3-4f67-8b65-7a514760deff\" style=\"stroke-miterlimit: 2; opacity: 1;\"><g class=\"fills\"/><g class=\"errorbars\"/><g class=\"lines\"><path class=\"js-line\" d=\"M173.6,230.46L588.75,20.82\" style=\"vector-effect: non-scaling-stroke; fill: none; stroke: rgb(31, 119, 180); stroke-opacity: 1; stroke-width: 2px; opacity: 1;\"/></g><g class=\"points\"><path class=\"point\" transform=\"translate(173.6,230.46)\" d=\"M3,0A3,3 0 1,1 0,-3A3,3 0 0,1 3,0Z\" style=\"opacity: 1; stroke-width: 0px; fill: rgb(31, 119, 180); fill-opacity: 1;\"/><path class=\"point\" transform=\"translate(311.98,160.58)\" d=\"M3,0A3,3 0 1,1 0,-3A3,3 0 0,1 3,0Z\" style=\"opacity: 1; stroke-width: 0px; fill: rgb(31, 119, 180); fill-opacity: 1;\"/><path class=\"point\" transform=\"translate(450.37,90.7)\" d=\"M3,0A3,3 0 1,1 0,-3A3,3 0 0,1 3,0Z\" style=\"opacity: 1; stroke-width: 0px; fill: rgb(31, 119, 180); fill-opacity: 1;\"/><path class=\"point\" transform=\"translate(588.75,20.82)\" d=\"M3,0A3,3 0 1,1 0,-3A3,3 0 0,1 3,0Z\" style=\"opacity: 1; stroke-width: 0px; fill: rgb(31, 119, 180); fill-opacity: 1;\"/></g><g class=\"text\"/></g><g class=\"trace scatter trace32c956f2-c2e9-45af-bd16-bd863f571c46\" style=\"stroke-miterlimit: 2; opacity: 1;\"><g class=\"fills\"/><g class=\"errorbars\"/><g class=\"lines\"/><g class=\"points\"><path class=\"point plotly-customdata\" transform=\"translate(173.6,229.07)\" d=\"M-4.62,2H4.62L0,-4Z\" style=\"opacity: 1; stroke-width: 1px; fill: rgb(55, 177, 63); fill-opacity: 1; stroke: rgb(38, 123, 44); stroke-opacity: 1;\"/><path class=\"point plotly-customdata\" transform=\"translate(588.75,17.33)\" d=\"M-4.62,2H4.62L0,-4Z\" style=\"opacity: 1; stroke-width: 1px; fill: rgb(55, 177, 63); fill-opacity: 1; stroke: rgb(38, 123, 44); stroke-opacity: 1;\"/></g><g class=\"text\"/></g><g class=\"trace scatter tracee4c29306-fbfb-439c-a1e1-4296fca6f470\" style=\"stroke-miterlimit: 2; opacity: 1;\"><g class=\"fills\"/><g class=\"errorbars\"/><g class=\"lines\"/><g class=\"points\"><path class=\"point plotly-customdata\" transform=\"translate(311.98,162.68)\" d=\"M-4.62,-2H4.62L0,4Z\" style=\"opacity: 1; stroke-width: 1px; fill: rgb(234, 67, 53); fill-opacity: 1; stroke: rgb(181, 31, 18); stroke-opacity: 1;\"/></g><g class=\"text\"/></g></g></g><g class=\"overplot\"/><path class=\"xlines-above crisp\" d=\"M0,0\" style=\"fill: none;\"/><path class=\"ylines-above crisp\" d=\"M0,0\" style=\"fill: none;\"/><g class=\"overlines-above\"/><g class=\"xaxislayer-above\"/><g class=\"yaxislayer-above\"><g class=\"ytick\"><text text-anchor=\"end\" x=\"94\" y=\"4.199999999999999\" transform=\"translate(0,366.46000000000004)\" style=\"font-family: 'Open Sans', verdana, arial, sans-serif; font-size: 12px; fill: rgb(42, 63, 95); fill-opacity: 1; white-space: pre; opacity: 1;\">2</text></g><g class=\"ytick\"><text text-anchor=\"end\" x=\"94\" y=\"4.199999999999999\" style=\"font-family: 'Open Sans', verdana, arial, sans-serif; font-size: 12px; fill: rgb(42, 63, 95); fill-opacity: 1; white-space: pre; opacity: 1;\" transform=\"translate(0,331.52)\">2.5</text></g><g class=\"ytick\"><text text-anchor=\"end\" x=\"94\" y=\"4.199999999999999\" style=\"font-family: 'Open Sans', verdana, arial, sans-serif; font-size: 12px; fill: rgb(42, 63, 95); fill-opacity: 1; white-space: pre; opacity: 1;\" transform=\"translate(0,296.58000000000004)\">3</text></g><g class=\"ytick\"><text text-anchor=\"end\" x=\"94\" y=\"4.199999999999999\" style=\"font-family: 'Open Sans', verdana, arial, sans-serif; font-size: 12px; fill: rgb(42, 63, 95); fill-opacity: 1; white-space: pre; opacity: 1;\" transform=\"translate(0,261.64)\">3.5</text></g><g class=\"ytick\"><text text-anchor=\"end\" x=\"94\" y=\"4.199999999999999\" style=\"font-family: 'Open Sans', verdana, arial, sans-serif; font-size: 12px; fill: rgb(42, 63, 95); fill-opacity: 1; white-space: pre; opacity: 1;\" transform=\"translate(0,226.7)\">4</text></g><g class=\"ytick\"><text text-anchor=\"end\" x=\"94\" y=\"4.199999999999999\" style=\"font-family: 'Open Sans', verdana, arial, sans-serif; font-size: 12px; fill: rgb(42, 63, 95); fill-opacity: 1; white-space: pre; opacity: 1;\" transform=\"translate(0,191.76)\">4.5</text></g><g class=\"ytick\"><text text-anchor=\"end\" x=\"94\" y=\"4.199999999999999\" style=\"font-family: 'Open Sans', verdana, arial, sans-serif; font-size: 12px; fill: rgb(42, 63, 95); fill-opacity: 1; white-space: pre; opacity: 1;\" transform=\"translate(0,156.82)\">5</text></g></g><g class=\"overaxes-above\"/></g><g class=\"subplot x2y2\"><g class=\"layer-subplot\"><g class=\"shapelayer\"><path data-index=\"0\" fill-rule=\"evenodd\" d=\"M268.6,649.6338382099826H406.98V583.0538382099826H268.6Z\" clip-path=\"url(#clipfa8056x2y2)\" style=\"opacity: 0.2; stroke: rgb(0, 0, 0); stroke-opacity: 0; fill: rgb(255, 0, 0); fill-opacity: 1; stroke-width: 0px;\"/><path data-index=\"1\" fill-rule=\"evenodd\" d=\"M683.75,437.2738382099826H683.75V440.7838382099826H683.75Z\" clip-path=\"url(#clipfa8056x2y2)\" style=\"opacity: 0.2; stroke: rgb(0, 0, 0); stroke-opacity: 0; fill: rgb(255, 0, 0); fill-opacity: 1; stroke-width: 0px;\"/></g><g class=\"imagelayer\"/></g><g class=\"gridlayer\"><g class=\"x2\"><path class=\"x2grid crisp\" transform=\"translate(130.21,0)\" d=\"M0,420.5738382099826v246.54010327022374\" style=\"stroke: rgb(255, 255, 255); stroke-opacity: 1; stroke-width: 1px;\"/><path class=\"x2grid crisp\" transform=\"translate(268.6,0)\" d=\"M0,420.5738382099826v246.54010327022374\" style=\"stroke: rgb(255, 255, 255); stroke-opacity: 1; stroke-width: 1px;\"/><path class=\"x2grid crisp\" transform=\"translate(406.98,0)\" d=\"M0,420.5738382099826v246.54010327022374\" style=\"stroke: rgb(255, 255, 255); stroke-opacity: 1; stroke-width: 1px;\"/><path class=\"x2grid crisp\" transform=\"translate(545.37,0)\" d=\"M0,420.5738382099826v246.54010327022374\" style=\"stroke: rgb(255, 255, 255); stroke-opacity: 1; stroke-width: 1px;\"/><path class=\"x2grid crisp\" transform=\"translate(683.75,0)\" d=\"M0,420.5738382099826v246.54010327022374\" style=\"stroke: rgb(255, 255, 255); stroke-opacity: 1; stroke-width: 1px;\"/></g><g class=\"y2\"><path class=\"y2grid crisp\" transform=\"translate(0,651.0338382099826)\" d=\"M95,0h625\" style=\"stroke: rgb(255, 255, 255); stroke-opacity: 1; stroke-width: 1px;\"/><path class=\"y2grid crisp\" transform=\"translate(0,615.9938382099826)\" d=\"M95,0h625\" style=\"stroke: rgb(255, 255, 255); stroke-opacity: 1; stroke-width: 1px;\"/><path class=\"y2grid crisp\" transform=\"translate(0,580.9538382099827)\" d=\"M95,0h625\" style=\"stroke: rgb(255, 255, 255); stroke-opacity: 1; stroke-width: 1px;\"/><path class=\"y2grid crisp\" transform=\"translate(0,545.9038382099826)\" d=\"M95,0h625\" style=\"stroke: rgb(255, 255, 255); stroke-opacity: 1; stroke-width: 1px;\"/><path class=\"y2grid crisp\" transform=\"translate(0,510.86383820998265)\" d=\"M95,0h625\" style=\"stroke: rgb(255, 255, 255); stroke-opacity: 1; stroke-width: 1px;\"/><path class=\"y2grid crisp\" transform=\"translate(0,475.8238382099826)\" d=\"M95,0h625\" style=\"stroke: rgb(255, 255, 255); stroke-opacity: 1; stroke-width: 1px;\"/><path class=\"y2grid crisp\" transform=\"translate(0,440.7838382099826)\" d=\"M95,0h625\" style=\"stroke: rgb(255, 255, 255); stroke-opacity: 1; stroke-width: 1px;\"/></g></g><g class=\"zerolinelayer\"/><path class=\"xlines-below\"/><path class=\"ylines-below\"/><g class=\"overlines-below\"/><g class=\"xaxislayer-below\"/><g class=\"yaxislayer-below\"/><g class=\"overaxes-below\"/><g class=\"plot\" transform=\"translate(95,420.5738382099826)\" clip-path=\"url(#clipfa8056x2y2plot)\"><g class=\"scatterlayer mlayer\"><g class=\"trace scatter trace04f2e634-bf8d-4f8d-b0cb-90faabdc90a8\" style=\"stroke-miterlimit: 2; opacity: 1;\"><g class=\"fills\"/><g class=\"errorbars\"/><g class=\"lines\"><path class=\"js-line\" d=\"M173.6,230.46L588.75,20.21\" style=\"vector-effect: non-scaling-stroke; fill: none; stroke: rgb(31, 119, 180); stroke-opacity: 1; stroke-width: 2px; opacity: 1;\"/></g><g class=\"points\"><path class=\"point\" transform=\"translate(173.6,230.46)\" d=\"M3,0A3,3 0 1,1 0,-3A3,3 0 0,1 3,0Z\" style=\"opacity: 1; stroke-width: 0px; fill: rgb(31, 119, 180); fill-opacity: 1;\"/><path class=\"point\" transform=\"translate(311.98,160.38)\" d=\"M3,0A3,3 0 1,1 0,-3A3,3 0 0,1 3,0Z\" style=\"opacity: 1; stroke-width: 0px; fill: rgb(31, 119, 180); fill-opacity: 1;\"/><path class=\"point\" transform=\"translate(450.37,90.29)\" d=\"M3,0A3,3 0 1,1 0,-3A3,3 0 0,1 3,0Z\" style=\"opacity: 1; stroke-width: 0px; fill: rgb(31, 119, 180); fill-opacity: 1;\"/><path class=\"point\" transform=\"translate(588.75,20.21)\" d=\"M3,0A3,3 0 1,1 0,-3A3,3 0 0,1 3,0Z\" style=\"opacity: 1; stroke-width: 0px; fill: rgb(31, 119, 180); fill-opacity: 1;\"/></g><g class=\"text\"/></g><g class=\"trace scatter trace8a4bddaf-084d-4a52-b053-fca52aeef648\" style=\"stroke-miterlimit: 2; opacity: 1;\"><g class=\"fills\"/><g class=\"errorbars\"/><g class=\"lines\"/><g class=\"points\"><path class=\"point plotly-customdata\" transform=\"translate(173.6,229.06)\" d=\"M3.5,3.5H-3.5V-3.5H3.5Z\" style=\"opacity: 1; stroke-width: 1px; fill: rgb(66, 133, 244); fill-opacity: 1; stroke: rgb(11, 84, 205); stroke-opacity: 1;\"/><path class=\"point plotly-customdata\" transform=\"translate(588.75,16.7)\" d=\"M3.5,3.5H-3.5V-3.5H3.5Z\" style=\"opacity: 1; stroke-width: 1px; fill: rgb(66, 133, 244); fill-opacity: 1; stroke: rgb(11, 84, 205); stroke-opacity: 1;\"/></g><g class=\"text\"/></g><g class=\"trace scatter tracecb096831-890e-446f-a912-f7e2e8300bfa\" style=\"stroke-miterlimit: 2; opacity: 1;\"><g class=\"fills\"/><g class=\"errorbars\"/><g class=\"lines\"/><g class=\"points\"><path class=\"point plotly-customdata\" transform=\"translate(311.98,162.48)\" d=\"M3.5,3.5H-3.5V-3.5H3.5Z\" style=\"opacity: 1; stroke-width: 1px; fill: rgb(234, 67, 53); fill-opacity: 1; stroke: rgb(181, 31, 18); stroke-opacity: 1;\"/></g><g class=\"text\"/></g><g class=\"trace scatter trace7c41fb08-3fe6-450a-ae0c-f980e07c2658\" style=\"stroke-miterlimit: 2; opacity: 1;\"><g class=\"fills\"/><g class=\"errorbars\"/><g class=\"lines\"/><g class=\"points\"><path class=\"point plotly-customdata\" transform=\"translate(588.75,20.21)\" d=\"M3.5,3.5H-3.5V-3.5H3.5Z\" style=\"opacity: 1; stroke-width: 1px; fill: rgb(255, 170, 0); fill-opacity: 1; stroke: rgb(178, 118, 0); stroke-opacity: 1;\"/></g><g class=\"text\"/></g></g></g><g class=\"overplot\"/><path class=\"xlines-above crisp\" d=\"M0,0\" style=\"fill: none;\"/><path class=\"ylines-above crisp\" d=\"M0,0\" style=\"fill: none;\"/><g class=\"overlines-above\"/><g class=\"xaxislayer-above\"/><g class=\"yaxislayer-above\"><g class=\"y2tick\"><text text-anchor=\"end\" x=\"94\" y=\"4.199999999999999\" transform=\"translate(0,651.0338382099826)\" style=\"font-family: 'Open Sans', verdana, arial, sans-serif; font-size: 12px; fill: rgb(42, 63, 95); fill-opacity: 1; white-space: pre; opacity: 1;\">2</text></g><g class=\"y2tick\"><text text-anchor=\"end\" x=\"94\" y=\"4.199999999999999\" style=\"font-family: 'Open Sans', verdana, arial, sans-serif; font-size: 12px; fill: rgb(42, 63, 95); fill-opacity: 1; white-space: pre; opacity: 1;\" transform=\"translate(0,615.9938382099826)\">2.5</text></g><g class=\"y2tick\"><text text-anchor=\"end\" x=\"94\" y=\"4.199999999999999\" style=\"font-family: 'Open Sans', verdana, arial, sans-serif; font-size: 12px; fill: rgb(42, 63, 95); fill-opacity: 1; white-space: pre; opacity: 1;\" transform=\"translate(0,580.9538382099827)\">3</text></g><g class=\"y2tick\"><text text-anchor=\"end\" x=\"94\" y=\"4.199999999999999\" style=\"font-family: 'Open Sans', verdana, arial, sans-serif; font-size: 12px; fill: rgb(42, 63, 95); fill-opacity: 1; white-space: pre; opacity: 1;\" transform=\"translate(0,545.9038382099826)\">3.5</text></g><g class=\"y2tick\"><text text-anchor=\"end\" x=\"94\" y=\"4.199999999999999\" style=\"font-family: 'Open Sans', verdana, arial, sans-serif; font-size: 12px; fill: rgb(42, 63, 95); fill-opacity: 1; white-space: pre; opacity: 1;\" transform=\"translate(0,510.86383820998265)\">4</text></g><g class=\"y2tick\"><text text-anchor=\"end\" x=\"94\" y=\"4.199999999999999\" style=\"font-family: 'Open Sans', verdana, arial, sans-serif; font-size: 12px; fill: rgb(42, 63, 95); fill-opacity: 1; white-space: pre; opacity: 1;\" transform=\"translate(0,475.8238382099826)\">4.5</text></g><g class=\"y2tick\"><text text-anchor=\"end\" x=\"94\" y=\"4.199999999999999\" style=\"font-family: 'Open Sans', verdana, arial, sans-serif; font-size: 12px; fill: rgb(42, 63, 95); fill-opacity: 1; white-space: pre; opacity: 1;\" transform=\"translate(0,440.7838382099826)\">5</text></g></g><g class=\"overaxes-above\"/></g><g class=\"subplot x3y3\"><g class=\"layer-subplot\"><g class=\"shapelayer\"/><g class=\"imagelayer\"/></g><g class=\"gridlayer\"><g class=\"x3\"><path class=\"x3grid crisp\" transform=\"translate(130.21,0)\" d=\"M0,705.1476764199653v246.54010327022374\" style=\"stroke: rgb(255, 255, 255); stroke-opacity: 1; stroke-width: 1px;\"/><path class=\"x3grid crisp\" transform=\"translate(268.6,0)\" d=\"M0,705.1476764199653v246.54010327022374\" style=\"stroke: rgb(255, 255, 255); stroke-opacity: 1; stroke-width: 1px;\"/><path class=\"x3grid crisp\" transform=\"translate(406.98,0)\" d=\"M0,705.1476764199653v246.54010327022374\" style=\"stroke: rgb(255, 255, 255); stroke-opacity: 1; stroke-width: 1px;\"/><path class=\"x3grid crisp\" transform=\"translate(545.37,0)\" d=\"M0,705.1476764199653v246.54010327022374\" style=\"stroke: rgb(255, 255, 255); stroke-opacity: 1; stroke-width: 1px;\"/><path class=\"x3grid crisp\" transform=\"translate(683.75,0)\" d=\"M0,705.1476764199653v246.54010327022374\" style=\"stroke: rgb(255, 255, 255); stroke-opacity: 1; stroke-width: 1px;\"/></g><g class=\"y3\"><path class=\"y3grid crisp\" transform=\"translate(0,912.2676764199653)\" d=\"M95,0h625\" style=\"stroke: rgb(255, 255, 255); stroke-opacity: 1; stroke-width: 1px;\"/><path class=\"y3grid crisp\" transform=\"translate(0,871.0376764199652)\" d=\"M95,0h625\" style=\"stroke: rgb(255, 255, 255); stroke-opacity: 1; stroke-width: 1px;\"/><path class=\"y3grid crisp\" transform=\"translate(0,829.8176764199652)\" d=\"M95,0h625\" style=\"stroke: rgb(255, 255, 255); stroke-opacity: 1; stroke-width: 1px;\"/><path class=\"y3grid crisp\" transform=\"translate(0,788.5976764199653)\" d=\"M95,0h625\" style=\"stroke: rgb(255, 255, 255); stroke-opacity: 1; stroke-width: 1px;\"/><path class=\"y3grid crisp\" transform=\"translate(0,747.3676764199653)\" d=\"M95,0h625\" style=\"stroke: rgb(255, 255, 255); stroke-opacity: 1; stroke-width: 1px;\"/></g></g><g class=\"zerolinelayer\"><path class=\"y3zl zl crisp\" transform=\"translate(0,706.1476764199653)\" d=\"M95,0h625\" style=\"stroke: rgb(255, 255, 255); stroke-opacity: 1; stroke-width: 2px;\"/></g><path class=\"xlines-below\"/><path class=\"ylines-below\"/><g class=\"overlines-below\"/><g class=\"xaxislayer-below\"/><g class=\"yaxislayer-below\"/><g class=\"overaxes-below\"/><g class=\"plot\" transform=\"translate(95,705.1476764199653)\" clip-path=\"url(#clipfa8056x3y3plot)\"><g class=\"scatterlayer mlayer\"><g class=\"trace scatter tracee504bf2b-80ce-4076-abdb-bda7424c9eff\" style=\"stroke-miterlimit: 2; opacity: 1;\"><g class=\"fills\"/><g class=\"errorbars\"/><g class=\"lines\"/><g class=\"points\"><path class=\"point plotly-customdata\" transform=\"translate(311.98,225.46)\" d=\"M7,0A7,7 0 1,1 0,-7A7,7 0 0,1 7,0Z\" style=\"opacity: 0.9; stroke-width: 1px; fill: rgb(234, 67, 53); fill-opacity: 1; stroke: rgb(181, 31, 18); stroke-opacity: 1;\"/></g><g class=\"text\"/></g><g class=\"trace scatter traceff2f2b90-dc7f-4fbd-8a77-af528170b291\" style=\"stroke-miterlimit: 2; opacity: 1;\"><g class=\"fills\"/><g class=\"errorbars\"/><g class=\"lines\"/><g class=\"points\"><path class=\"point plotly-customdata\" transform=\"translate(588.75,17.37)\" d=\"M3.5,0A3.5,3.5 0 1,1 0,-3.5A3.5,3.5 0 0,1 3.5,0Z\" style=\"opacity: 0.75; stroke-width: 1px; fill: rgb(255, 170, 0); fill-opacity: 1; stroke: rgb(178, 118, 0); stroke-opacity: 1;\"/></g><g class=\"text\"/></g></g></g><g class=\"overplot\"/><path class=\"xlines-above crisp\" d=\"M0,0\" style=\"fill: none;\"/><path class=\"ylines-above crisp\" d=\"M0,0\" style=\"fill: none;\"/><g class=\"overlines-above\"/><g class=\"xaxislayer-above\"/><g class=\"yaxislayer-above\"><g class=\"y3tick\"><text text-anchor=\"end\" x=\"94\" y=\"4.199999999999999\" transform=\"translate(0,912.2676764199653)\" style=\"font-family: 'Open Sans', verdana, arial, sans-serif; font-size: 12px; fill: rgb(42, 63, 95); fill-opacity: 1; white-space: pre; opacity: 1;\">−50.00%</text></g><g class=\"y3tick\"><text text-anchor=\"end\" x=\"94\" y=\"4.199999999999999\" style=\"font-family: 'Open Sans', verdana, arial, sans-serif; font-size: 12px; fill: rgb(42, 63, 95); fill-opacity: 1; white-space: pre; opacity: 1;\" transform=\"translate(0,871.0376764199652)\">−40.00%</text></g><g class=\"y3tick\"><text text-anchor=\"end\" x=\"94\" y=\"4.199999999999999\" style=\"font-family: 'Open Sans', verdana, arial, sans-serif; font-size: 12px; fill: rgb(42, 63, 95); fill-opacity: 1; white-space: pre; opacity: 1;\" transform=\"translate(0,829.8176764199652)\">−30.00%</text></g><g class=\"y3tick\"><text text-anchor=\"end\" x=\"94\" y=\"4.199999999999999\" style=\"font-family: 'Open Sans', verdana, arial, sans-serif; font-size: 12px; fill: rgb(42, 63, 95); fill-opacity: 1; white-space: pre; opacity: 1;\" transform=\"translate(0,788.5976764199653)\">−20.00%</text></g><g class=\"y3tick\"><text text-anchor=\"end\" x=\"94\" y=\"4.199999999999999\" style=\"font-family: 'Open Sans', verdana, arial, sans-serif; font-size: 12px; fill: rgb(42, 63, 95); fill-opacity: 1; white-space: pre; opacity: 1;\" transform=\"translate(0,747.3676764199653)\">−10.00%</text></g><g class=\"y3tick\"><text text-anchor=\"end\" x=\"94\" y=\"4.199999999999999\" style=\"font-family: 'Open Sans', verdana, arial, sans-serif; font-size: 12px; fill: rgb(42, 63, 95); fill-opacity: 1; white-space: pre; opacity: 1;\" transform=\"translate(0,706.1476764199653)\">0.00%</text></g></g><g class=\"overaxes-above\"/></g><g class=\"subplot x4y4\"><g class=\"layer-subplot\"><g class=\"shapelayer\"/><g class=\"imagelayer\"/></g><g class=\"gridlayer\"><g class=\"x4\"><path class=\"x4grid crisp\" transform=\"translate(130.21,0)\" d=\"M0,989.7215146299483v246.54010327022374\" style=\"stroke: rgb(255, 255, 255); stroke-opacity: 1; stroke-width: 1px;\"/><path class=\"x4grid crisp\" transform=\"translate(268.6,0)\" d=\"M0,989.7215146299483v246.54010327022374\" style=\"stroke: rgb(255, 255, 255); stroke-opacity: 1; stroke-width: 1px;\"/><path class=\"x4grid crisp\" transform=\"translate(406.98,0)\" d=\"M0,989.7215146299483v246.54010327022374\" style=\"stroke: rgb(255, 255, 255); stroke-opacity: 1; stroke-width: 1px;\"/><path class=\"x4grid crisp\" transform=\"translate(545.37,0)\" d=\"M0,989.7215146299483v246.54010327022374\" style=\"stroke: rgb(255, 255, 255); stroke-opacity: 1; stroke-width: 1px;\"/><path class=\"x4grid crisp\" transform=\"translate(683.75,0)\" d=\"M0,989.7215146299483v246.54010327022374\" style=\"stroke: rgb(255, 255, 255); stroke-opacity: 1; stroke-width: 1px;\"/></g><g class=\"y4\"><path class=\"y4grid crisp\" transform=\"translate(0,1161.7115146299484)\" d=\"M95,0h625\" style=\"stroke: rgb(255, 255, 255); stroke-opacity: 1; stroke-width: 1px;\"/><path class=\"y4grid crisp\" transform=\"translate(0,1122.7315146299484)\" d=\"M95,0h625\" style=\"stroke: rgb(255, 255, 255); stroke-opacity: 1; stroke-width: 1px;\"/><path class=\"y4grid crisp\" transform=\"translate(0,1083.7615146299484)\" d=\"M95,0h625\" style=\"stroke: rgb(255, 255, 255); stroke-opacity: 1; stroke-width: 1px;\"/><path class=\"y4grid crisp\" transform=\"translate(0,1044.7815146299483)\" d=\"M95,0h625\" style=\"stroke: rgb(255, 255, 255); stroke-opacity: 1; stroke-width: 1px;\"/><path class=\"y4grid crisp\" transform=\"translate(0,1005.8015146299483)\" d=\"M95,0h625\" style=\"stroke: rgb(255, 255, 255); stroke-opacity: 1; stroke-width: 1px;\"/></g></g><g class=\"zerolinelayer\"><path class=\"y4zl zl crisp\" transform=\"translate(0,1200.6915146299482)\" d=\"M95,0h625\" style=\"stroke: rgb(255, 255, 255); stroke-opacity: 1; stroke-width: 2px;\"/></g><path class=\"xlines-below\"/><path class=\"ylines-below\"/><g class=\"overlines-below\"/><g class=\"xaxislayer-below\"/><g class=\"yaxislayer-below\"/><g class=\"overaxes-below\"/><g class=\"plot\" transform=\"translate(95,989.7215146299483)\" clip-path=\"url(#clipfa8056x4y4plot)\"><g class=\"scatterlayer mlayer\"><g class=\"trace scatter trace3eedbd86-0856-4349-90a5-645fe25590ed\" style=\"stroke-miterlimit: 2; opacity: 1;\"><g class=\"fills\"/><g class=\"errorbars\"/><g class=\"lines\"><path class=\"js-line\" d=\"M35.21,210.97L173.6,191.48L311.98,230.46L450.37,210.97L588.75,16.08\" style=\"vector-effect: non-scaling-stroke; fill: none; stroke: rgb(140, 86, 75); stroke-opacity: 1; stroke-width: 2px; opacity: 1;\"/></g><g class=\"points\"><path class=\"point\" transform=\"translate(35.21,210.97)\" d=\"M3,0A3,3 0 1,1 0,-3A3,3 0 0,1 3,0Z\" style=\"opacity: 1; stroke-width: 0px; fill: rgb(140, 86, 75); fill-opacity: 1;\"/><path class=\"point\" transform=\"translate(173.6,191.48)\" d=\"M3,0A3,3 0 1,1 0,-3A3,3 0 0,1 3,0Z\" style=\"opacity: 1; stroke-width: 0px; fill: rgb(140, 86, 75); fill-opacity: 1;\"/><path class=\"point\" transform=\"translate(311.98,230.46)\" d=\"M3,0A3,3 0 1,1 0,-3A3,3 0 0,1 3,0Z\" style=\"opacity: 1; stroke-width: 0px; fill: rgb(140, 86, 75); fill-opacity: 1;\"/><path class=\"point\" transform=\"translate(450.37,210.97)\" d=\"M3,0A3,3 0 1,1 0,-3A3,3 0 0,1 3,0Z\" style=\"opacity: 1; stroke-width: 0px; fill: rgb(140, 86, 75); fill-opacity: 1;\"/><path class=\"point\" transform=\"translate(588.75,16.08)\" d=\"M3,0A3,3 0 1,1 0,-3A3,3 0 0,1 3,0Z\" style=\"opacity: 1; stroke-width: 0px; fill: rgb(140, 86, 75); fill-opacity: 1;\"/></g><g class=\"text\"/></g></g></g><g class=\"overplot\"/><path class=\"xlines-above crisp\" d=\"M0,0\" style=\"fill: none;\"/><path class=\"ylines-above crisp\" d=\"M0,0\" style=\"fill: none;\"/><g class=\"overlines-above\"/><g class=\"xaxislayer-above\"/><g class=\"yaxislayer-above\"><g class=\"y4tick\"><text text-anchor=\"end\" x=\"94\" y=\"4.199999999999999\" transform=\"translate(0,1200.6915146299482)\" style=\"font-family: 'Open Sans', verdana, arial, sans-serif; font-size: 12px; fill: rgb(42, 63, 95); fill-opacity: 1; white-space: pre; opacity: 1;\">0</text></g><g class=\"y4tick\"><text text-anchor=\"end\" x=\"94\" y=\"4.199999999999999\" style=\"font-family: 'Open Sans', verdana, arial, sans-serif; font-size: 12px; fill: rgb(42, 63, 95); fill-opacity: 1; white-space: pre; opacity: 1;\" transform=\"translate(0,1161.7115146299484)\">0.2</text></g><g class=\"y4tick\"><text text-anchor=\"end\" x=\"94\" y=\"4.199999999999999\" style=\"font-family: 'Open Sans', verdana, arial, sans-serif; font-size: 12px; fill: rgb(42, 63, 95); fill-opacity: 1; white-space: pre; opacity: 1;\" transform=\"translate(0,1122.7315146299484)\">0.4</text></g><g class=\"y4tick\"><text text-anchor=\"end\" x=\"94\" y=\"4.199999999999999\" style=\"font-family: 'Open Sans', verdana, arial, sans-serif; font-size: 12px; fill: rgb(42, 63, 95); fill-opacity: 1; white-space: pre; opacity: 1;\" transform=\"translate(0,1083.7615146299484)\">0.6</text></g><g class=\"y4tick\"><text text-anchor=\"end\" x=\"94\" y=\"4.199999999999999\" style=\"font-family: 'Open Sans', verdana, arial, sans-serif; font-size: 12px; fill: rgb(42, 63, 95); fill-opacity: 1; white-space: pre; opacity: 1;\" transform=\"translate(0,1044.7815146299483)\">0.8</text></g><g class=\"y4tick\"><text text-anchor=\"end\" x=\"94\" y=\"4.199999999999999\" style=\"font-family: 'Open Sans', verdana, arial, sans-serif; font-size: 12px; fill: rgb(42, 63, 95); fill-opacity: 1; white-space: pre; opacity: 1;\" transform=\"translate(0,1005.8015146299483)\">1</text></g></g><g class=\"overaxes-above\"/></g><g class=\"subplot x5y5\"><g class=\"layer-subplot\"><g class=\"shapelayer\"/><g class=\"imagelayer\"/></g><g class=\"gridlayer\"><g class=\"x5\"><path class=\"x5grid crisp\" transform=\"translate(130.21,0)\" d=\"M0,1274.295352839931v246.54010327022374\" style=\"stroke: rgb(255, 255, 255); stroke-opacity: 1; stroke-width: 1px;\"/><path class=\"x5grid crisp\" transform=\"translate(268.6,0)\" d=\"M0,1274.295352839931v246.54010327022374\" style=\"stroke: rgb(255, 255, 255); stroke-opacity: 1; stroke-width: 1px;\"/><path class=\"x5grid crisp\" transform=\"translate(406.98,0)\" d=\"M0,1274.295352839931v246.54010327022374\" style=\"stroke: rgb(255, 255, 255); stroke-opacity: 1; stroke-width: 1px;\"/><path class=\"x5grid crisp\" transform=\"translate(545.37,0)\" d=\"M0,1274.295352839931v246.54010327022374\" style=\"stroke: rgb(255, 255, 255); stroke-opacity: 1; stroke-width: 1px;\"/><path class=\"x5grid crisp\" transform=\"translate(683.75,0)\" d=\"M0,1274.295352839931v246.54010327022374\" style=\"stroke: rgb(255, 255, 255); stroke-opacity: 1; stroke-width: 1px;\"/></g><g class=\"y5\"><path class=\"y5grid crisp\" transform=\"translate(0,1496.785352839931)\" d=\"M95,0h625\" style=\"stroke: rgb(255, 255, 255); stroke-opacity: 1; stroke-width: 1px;\"/><path class=\"y5grid crisp\" transform=\"translate(0,1457.045352839931)\" d=\"M95,0h625\" style=\"stroke: rgb(255, 255, 255); stroke-opacity: 1; stroke-width: 1px;\"/><path class=\"y5grid crisp\" transform=\"translate(0,1417.305352839931)\" d=\"M95,0h625\" style=\"stroke: rgb(255, 255, 255); stroke-opacity: 1; stroke-width: 1px;\"/><path class=\"y5grid crisp\" transform=\"translate(0,1377.565352839931)\" d=\"M95,0h625\" style=\"stroke: rgb(255, 255, 255); stroke-opacity: 1; stroke-width: 1px;\"/><path class=\"y5grid crisp\" transform=\"translate(0,1337.825352839931)\" d=\"M95,0h625\" style=\"stroke: rgb(255, 255, 255); stroke-opacity: 1; stroke-width: 1px;\"/></g></g><g class=\"zerolinelayer\"><path class=\"y5zl zl crisp\" transform=\"translate(0,1298.085352839931)\" d=\"M95,0h625\" style=\"stroke: rgb(255, 255, 255); stroke-opacity: 1; stroke-width: 2px;\"/></g><path class=\"xlines-below\"/><path class=\"ylines-below\"/><g class=\"overlines-below\"/><g class=\"xaxislayer-below\"/><g class=\"yaxislayer-below\"/><g class=\"overaxes-below\"/><g class=\"plot\" transform=\"translate(95,1274.295352839931)\" clip-path=\"url(#clipfa8056x5y5plot)\"><g class=\"scatterlayer mlayer\"><g class=\"trace scatter trace2e44a8da-5541-4c21-8683-51cc9a7cafc8\" style=\"stroke-miterlimit: 2; opacity: 1;\"><g class=\"fills\"/><g class=\"errorbars\"/><g class=\"lines\"><path class=\"js-line\" d=\"M35.21,23.79L173.6,35.87L311.98,16.08L450.37,23.79L588.75,230.46\" style=\"vector-effect: non-scaling-stroke; fill: none; stroke: rgb(44, 160, 44); stroke-opacity: 1; stroke-width: 2px; opacity: 1;\"/></g><g class=\"points\"><path class=\"point\" transform=\"translate(35.21,23.79)\" d=\"M3,0A3,3 0 1,1 0,-3A3,3 0 0,1 3,0Z\" style=\"opacity: 1; stroke-width: 0px; fill: rgb(44, 160, 44); fill-opacity: 1;\"/><path class=\"point\" transform=\"translate(173.6,35.87)\" d=\"M3,0A3,3 0 1,1 0,-3A3,3 0 0,1 3,0Z\" style=\"opacity: 1; stroke-width: 0px; fill: rgb(44, 160, 44); fill-opacity: 1;\"/><path class=\"point\" transform=\"translate(311.98,16.08)\" d=\"M3,0A3,3 0 1,1 0,-3A3,3 0 0,1 3,0Z\" style=\"opacity: 1; stroke-width: 0px; fill: rgb(44, 160, 44); fill-opacity: 1;\"/><path class=\"point\" transform=\"translate(450.37,23.79)\" d=\"M3,0A3,3 0 1,1 0,-3A3,3 0 0,1 3,0Z\" style=\"opacity: 1; stroke-width: 0px; fill: rgb(44, 160, 44); fill-opacity: 1;\"/><path class=\"point\" transform=\"translate(588.75,230.46)\" d=\"M3,0A3,3 0 1,1 0,-3A3,3 0 0,1 3,0Z\" style=\"opacity: 1; stroke-width: 0px; fill: rgb(44, 160, 44); fill-opacity: 1;\"/></g><g class=\"text\"/></g></g></g><g class=\"overplot\"/><path class=\"xlines-above crisp\" d=\"M0,0\" style=\"fill: none;\"/><path class=\"ylines-above crisp\" d=\"M0,0\" style=\"fill: none;\"/><g class=\"overlines-above\"/><g class=\"xaxislayer-above\"/><g class=\"yaxislayer-above\"><g class=\"y5tick\"><text text-anchor=\"end\" x=\"94\" y=\"4.199999999999999\" transform=\"translate(0,1496.785352839931)\" style=\"font-family: 'Open Sans', verdana, arial, sans-serif; font-size: 12px; fill: rgb(42, 63, 95); fill-opacity: 1; white-space: pre; opacity: 1;\">−5</text></g><g class=\"y5tick\"><text text-anchor=\"end\" x=\"94\" y=\"4.199999999999999\" style=\"font-family: 'Open Sans', verdana, arial, sans-serif; font-size: 12px; fill: rgb(42, 63, 95); fill-opacity: 1; white-space: pre; opacity: 1;\" transform=\"translate(0,1457.045352839931)\">−4</text></g><g class=\"y5tick\"><text text-anchor=\"end\" x=\"94\" y=\"4.199999999999999\" style=\"font-family: 'Open Sans', verdana, arial, sans-serif; font-size: 12px; fill: rgb(42, 63, 95); fill-opacity: 1; white-space: pre; opacity: 1;\" transform=\"translate(0,1417.305352839931)\">−3</text></g><g class=\"y5tick\"><text text-anchor=\"end\" x=\"94\" y=\"4.199999999999999\" style=\"font-family: 'Open Sans', verdana, arial, sans-serif; font-size: 12px; fill: rgb(42, 63, 95); fill-opacity: 1; white-space: pre; opacity: 1;\" transform=\"translate(0,1377.565352839931)\">−2</text></g><g class=\"y5tick\"><text text-anchor=\"end\" x=\"94\" y=\"4.199999999999999\" style=\"font-family: 'Open Sans', verdana, arial, sans-serif; font-size: 12px; fill: rgb(42, 63, 95); fill-opacity: 1; white-space: pre; opacity: 1;\" transform=\"translate(0,1337.825352839931)\">−1</text></g><g class=\"y5tick\"><text text-anchor=\"end\" x=\"94\" y=\"4.199999999999999\" style=\"font-family: 'Open Sans', verdana, arial, sans-serif; font-size: 12px; fill: rgb(42, 63, 95); fill-opacity: 1; white-space: pre; opacity: 1;\" transform=\"translate(0,1298.085352839931)\">0</text></g></g><g class=\"overaxes-above\"/></g><g class=\"subplot x6y6\"><g class=\"layer-subplot\"><g class=\"shapelayer\"/><g class=\"imagelayer\"/></g><g class=\"gridlayer\"><g class=\"x6\"><path class=\"x6grid crisp\" transform=\"translate(130.21,0)\" d=\"M0,1558.869191049914v246.54010327022374\" style=\"stroke: rgb(255, 255, 255); stroke-opacity: 1; stroke-width: 1px;\"/><path class=\"x6grid crisp\" transform=\"translate(268.6,0)\" d=\"M0,1558.869191049914v246.54010327022374\" style=\"stroke: rgb(255, 255, 255); stroke-opacity: 1; stroke-width: 1px;\"/><path class=\"x6grid crisp\" transform=\"translate(406.98,0)\" d=\"M0,1558.869191049914v246.54010327022374\" style=\"stroke: rgb(255, 255, 255); stroke-opacity: 1; stroke-width: 1px;\"/><path class=\"x6grid crisp\" transform=\"translate(545.37,0)\" d=\"M0,1558.869191049914v246.54010327022374\" style=\"stroke: rgb(255, 255, 255); stroke-opacity: 1; stroke-width: 1px;\"/><path class=\"x6grid crisp\" transform=\"translate(683.75,0)\" d=\"M0,1558.869191049914v246.54010327022374\" style=\"stroke: rgb(255, 255, 255); stroke-opacity: 1; stroke-width: 1px;\"/></g><g class=\"y6\"><path class=\"y6grid crisp\" transform=\"translate(0,1746.459191049914)\" d=\"M95,0h625\" style=\"stroke: rgb(255, 255, 255); stroke-opacity: 1; stroke-width: 1px;\"/><path class=\"y6grid crisp\" transform=\"translate(0,1703.579191049914)\" d=\"M95,0h625\" style=\"stroke: rgb(255, 255, 255); stroke-opacity: 1; stroke-width: 1px;\"/><path class=\"y6grid crisp\" transform=\"translate(0,1660.699191049914)\" d=\"M95,0h625\" style=\"stroke: rgb(255, 255, 255); stroke-opacity: 1; stroke-width: 1px;\"/><path class=\"y6grid crisp\" transform=\"translate(0,1617.819191049914)\" d=\"M95,0h625\" style=\"stroke: rgb(255, 255, 255); stroke-opacity: 1; stroke-width: 1px;\"/><path class=\"y6grid crisp\" transform=\"translate(0,1574.949191049914)\" d=\"M95,0h625\" style=\"stroke: rgb(255, 255, 255); stroke-opacity: 1; stroke-width: 1px;\"/></g></g><g class=\"zerolinelayer\"><path class=\"y6zl zl crisp\" transform=\"translate(0,1789.329191049914)\" d=\"M95,0h625\" style=\"stroke: rgb(255, 255, 255); stroke-opacity: 1; stroke-width: 2px;\"/></g><path class=\"xlines-below\"/><path class=\"ylines-below\"/><g class=\"overlines-below\"/><g class=\"xaxislayer-below\"/><g class=\"yaxislayer-below\"/><g class=\"overaxes-below\"/><g class=\"plot\" transform=\"translate(95,1558.869191049914)\" clip-path=\"url(#clipfa8056x6y6plot)\"><g class=\"scatterlayer mlayer\"><g class=\"trace scatter tracebff9d394-50e6-4cf5-9dd2-0fd6b3564ee2\" style=\"stroke-miterlimit: 2;\"><g class=\"fills\"><g><path class=\"js-fill\" d=\"M35.21,230.46L173.6,209.02L311.98,230.46L450.37,230.46L588.75,16.08L588.75,230.46L35.21,230.46Z\" style=\"fill: rgb(140, 86, 75); fill-opacity: 0.3; stroke-width: 0;\"/></g></g><g class=\"errorbars\"/><g class=\"lines\"><path class=\"js-line\" d=\"M35.21,230.46L588.75,230.46\" style=\"vector-effect: non-scaling-stroke; fill: none; stroke: rgb(0, 0, 0); stroke-opacity: 0; stroke-width: 0px; opacity: 1;\"/></g><g class=\"points\"><path class=\"point\" transform=\"translate(35.21,230.46)\" d=\"M3,0A3,3 0 1,1 0,-3A3,3 0 0,1 3,0Z\" style=\"opacity: 1; stroke-width: 0px; fill: rgb(0, 0, 0); fill-opacity: 0;\"/><path class=\"point\" transform=\"translate(173.6,230.46)\" d=\"M3,0A3,3 0 1,1 0,-3A3,3 0 0,1 3,0Z\" style=\"opacity: 1; stroke-width: 0px; fill: rgb(0, 0, 0); fill-opacity: 0;\"/><path class=\"point\" transform=\"translate(311.98,230.46)\" d=\"M3,0A3,3 0 1,1 0,-3A3,3 0 0,1 3,0Z\" style=\"opacity: 1; stroke-width: 0px; fill: rgb(0, 0, 0); fill-opacity: 0;\"/><path class=\"point\" transform=\"translate(450.37,230.46)\" d=\"M3,0A3,3 0 1,1 0,-3A3,3 0 0,1 3,0Z\" style=\"opacity: 1; stroke-width: 0px; fill: rgb(0, 0, 0); fill-opacity: 0;\"/><path class=\"point\" transform=\"translate(588.75,230.46)\" d=\"M3,0A3,3 0 1,1 0,-3A3,3 0 0,1 3,0Z\" style=\"opacity: 1; stroke-width: 0px; fill: rgb(0, 0, 0); fill-opacity: 0;\"/></g><g class=\"text\"/></g><g class=\"trace scatter trace429eb9e0-1786-4de6-a4a2-5fd1586bf973\" style=\"stroke-miterlimit: 2;\"><g class=\"fills\"/><g class=\"errorbars\"/><g class=\"lines\"><path class=\"js-line\" d=\"M35.21,230.46L173.6,209.02L311.98,230.46L450.37,230.46L588.75,16.08\" style=\"vector-effect: non-scaling-stroke; fill: none; stroke: rgb(0, 0, 0); stroke-opacity: 0; stroke-width: 0px; opacity: 1;\"/></g><g class=\"points\"><path class=\"point\" transform=\"translate(35.21,230.46)\" d=\"M3,0A3,3 0 1,1 0,-3A3,3 0 0,1 3,0Z\" style=\"opacity: 1; stroke-width: 0px; fill: rgb(0, 0, 0); fill-opacity: 0;\"/><path class=\"point\" transform=\"translate(173.6,209.02)\" d=\"M3,0A3,3 0 1,1 0,-3A3,3 0 0,1 3,0Z\" style=\"opacity: 1; stroke-width: 0px; fill: rgb(0, 0, 0); fill-opacity: 0;\"/><path class=\"point\" transform=\"translate(311.98,230.46)\" d=\"M3,0A3,3 0 1,1 0,-3A3,3 0 0,1 3,0Z\" style=\"opacity: 1; stroke-width: 0px; fill: rgb(0, 0, 0); fill-opacity: 0;\"/><path class=\"point\" transform=\"translate(450.37,230.46)\" d=\"M3,0A3,3 0 1,1 0,-3A3,3 0 0,1 3,0Z\" style=\"opacity: 1; stroke-width: 0px; fill: rgb(0, 0, 0); fill-opacity: 0;\"/><path class=\"point\" transform=\"translate(588.75,16.08)\" d=\"M3,0A3,3 0 1,1 0,-3A3,3 0 0,1 3,0Z\" style=\"opacity: 1; stroke-width: 0px; fill: rgb(0, 0, 0); fill-opacity: 0;\"/></g><g class=\"text\"/></g><g class=\"trace scatter trace1c499da5-c25c-48a3-89f3-72d6b9f41a4a\" style=\"stroke-miterlimit: 2; opacity: 1;\"><g class=\"fills\"/><g class=\"errorbars\"/><g class=\"lines\"><path class=\"js-line\" d=\"M35.21,230.46L173.6,209.02L311.98,230.46L450.37,230.46L588.75,16.08\" style=\"vector-effect: non-scaling-stroke; fill: none; stroke: rgb(140, 86, 75); stroke-opacity: 1; stroke-width: 2px; opacity: 1;\"/></g><g class=\"points\"><path class=\"point\" transform=\"translate(35.21,230.46)\" d=\"M3,0A3,3 0 1,1 0,-3A3,3 0 0,1 3,0Z\" style=\"opacity: 1; stroke-width: 0px; fill: rgb(140, 86, 75); fill-opacity: 1;\"/><path class=\"point\" transform=\"translate(173.6,209.02)\" d=\"M3,0A3,3 0 1,1 0,-3A3,3 0 0,1 3,0Z\" style=\"opacity: 1; stroke-width: 0px; fill: rgb(140, 86, 75); fill-opacity: 1;\"/><path class=\"point\" transform=\"translate(311.98,230.46)\" d=\"M3,0A3,3 0 1,1 0,-3A3,3 0 0,1 3,0Z\" style=\"opacity: 1; stroke-width: 0px; fill: rgb(140, 86, 75); fill-opacity: 1;\"/><path class=\"point\" transform=\"translate(450.37,230.46)\" d=\"M3,0A3,3 0 1,1 0,-3A3,3 0 0,1 3,0Z\" style=\"opacity: 1; stroke-width: 0px; fill: rgb(140, 86, 75); fill-opacity: 1;\"/><path class=\"point\" transform=\"translate(588.75,16.08)\" d=\"M3,0A3,3 0 1,1 0,-3A3,3 0 0,1 3,0Z\" style=\"opacity: 1; stroke-width: 0px; fill: rgb(140, 86, 75); fill-opacity: 1;\"/></g><g class=\"text\"/></g><g class=\"trace scatter trace7139c8d5-132b-4832-93ab-f0bd7c2493df\" style=\"stroke-miterlimit: 2; opacity: 0;\"><g class=\"fills\"/><g class=\"errorbars\"/><g class=\"lines\"><path class=\"js-line\" d=\"M35.21,230.46L588.75,230.46\" style=\"vector-effect: non-scaling-stroke; fill: none; stroke: rgb(0, 0, 0); stroke-opacity: 0; stroke-width: 0px; opacity: 1;\"/></g><g class=\"points\"><path class=\"point\" transform=\"translate(35.21,230.46)\" d=\"M3,0A3,3 0 1,1 0,-3A3,3 0 0,1 3,0Z\" style=\"opacity: 1; stroke-width: 0px; fill: rgb(0, 0, 0); fill-opacity: 0;\"/><path class=\"point\" transform=\"translate(173.6,230.46)\" d=\"M3,0A3,3 0 1,1 0,-3A3,3 0 0,1 3,0Z\" style=\"opacity: 1; stroke-width: 0px; fill: rgb(0, 0, 0); fill-opacity: 0;\"/><path class=\"point\" transform=\"translate(311.98,230.46)\" d=\"M3,0A3,3 0 1,1 0,-3A3,3 0 0,1 3,0Z\" style=\"opacity: 1; stroke-width: 0px; fill: rgb(0, 0, 0); fill-opacity: 0;\"/><path class=\"point\" transform=\"translate(450.37,230.46)\" d=\"M3,0A3,3 0 1,1 0,-3A3,3 0 0,1 3,0Z\" style=\"opacity: 1; stroke-width: 0px; fill: rgb(0, 0, 0); fill-opacity: 0;\"/><path class=\"point\" transform=\"translate(588.75,230.46)\" d=\"M3,0A3,3 0 1,1 0,-3A3,3 0 0,1 3,0Z\" style=\"opacity: 1; stroke-width: 0px; fill: rgb(0, 0, 0); fill-opacity: 0;\"/></g><g class=\"text\"/></g></g></g><g class=\"overplot\"/><path class=\"xlines-above crisp\" d=\"M0,0\" style=\"fill: none;\"/><path class=\"ylines-above crisp\" d=\"M0,0\" style=\"fill: none;\"/><g class=\"overlines-above\"/><g class=\"xaxislayer-above\"/><g class=\"yaxislayer-above\"><g class=\"y6tick\"><text text-anchor=\"end\" x=\"94\" y=\"4.199999999999999\" transform=\"translate(0,1789.329191049914)\" style=\"font-family: 'Open Sans', verdana, arial, sans-serif; font-size: 12px; fill: rgb(42, 63, 95); fill-opacity: 1; white-space: pre; opacity: 1;\">0</text></g><g class=\"y6tick\"><text text-anchor=\"end\" x=\"94\" y=\"4.199999999999999\" style=\"font-family: 'Open Sans', verdana, arial, sans-serif; font-size: 12px; fill: rgb(42, 63, 95); fill-opacity: 1; white-space: pre; opacity: 1;\" transform=\"translate(0,1746.459191049914)\">0.2</text></g><g class=\"y6tick\"><text text-anchor=\"end\" x=\"94\" y=\"4.199999999999999\" style=\"font-family: 'Open Sans', verdana, arial, sans-serif; font-size: 12px; fill: rgb(42, 63, 95); fill-opacity: 1; white-space: pre; opacity: 1;\" transform=\"translate(0,1703.579191049914)\">0.4</text></g><g class=\"y6tick\"><text text-anchor=\"end\" x=\"94\" y=\"4.199999999999999\" style=\"font-family: 'Open Sans', verdana, arial, sans-serif; font-size: 12px; fill: rgb(42, 63, 95); fill-opacity: 1; white-space: pre; opacity: 1;\" transform=\"translate(0,1660.699191049914)\">0.6</text></g><g class=\"y6tick\"><text text-anchor=\"end\" x=\"94\" y=\"4.199999999999999\" style=\"font-family: 'Open Sans', verdana, arial, sans-serif; font-size: 12px; fill: rgb(42, 63, 95); fill-opacity: 1; white-space: pre; opacity: 1;\" transform=\"translate(0,1617.819191049914)\">0.8</text></g><g class=\"y6tick\"><text text-anchor=\"end\" x=\"94\" y=\"4.199999999999999\" style=\"font-family: 'Open Sans', verdana, arial, sans-serif; font-size: 12px; fill: rgb(42, 63, 95); fill-opacity: 1; white-space: pre; opacity: 1;\" transform=\"translate(0,1574.949191049914)\">1</text></g></g><g class=\"overaxes-above\"/></g><g class=\"subplot x7y7\"><g class=\"layer-subplot\"><g class=\"shapelayer\"/><g class=\"imagelayer\"/></g><g class=\"gridlayer\"><g class=\"x7\"><path class=\"x7grid crisp\" transform=\"translate(130.21,0)\" d=\"M0,1843.4430292598965v246.54010327022374\" style=\"stroke: rgb(255, 255, 255); stroke-opacity: 1; stroke-width: 1px;\"/><path class=\"x7grid crisp\" transform=\"translate(268.6,0)\" d=\"M0,1843.4430292598965v246.54010327022374\" style=\"stroke: rgb(255, 255, 255); stroke-opacity: 1; stroke-width: 1px;\"/><path class=\"x7grid crisp\" transform=\"translate(406.98,0)\" d=\"M0,1843.4430292598965v246.54010327022374\" style=\"stroke: rgb(255, 255, 255); stroke-opacity: 1; stroke-width: 1px;\"/><path class=\"x7grid crisp\" transform=\"translate(545.37,0)\" d=\"M0,1843.4430292598965v246.54010327022374\" style=\"stroke: rgb(255, 255, 255); stroke-opacity: 1; stroke-width: 1px;\"/><path class=\"x7grid crisp\" transform=\"translate(683.75,0)\" d=\"M0,1843.4430292598965v246.54010327022374\" style=\"stroke: rgb(255, 255, 255); stroke-opacity: 1; stroke-width: 1px;\"/></g><g class=\"y7\"><path class=\"y7grid crisp\" transform=\"translate(0,2061.3730292598966)\" d=\"M95,0h625\" style=\"stroke: rgb(255, 255, 255); stroke-opacity: 1; stroke-width: 1px;\"/><path class=\"y7grid crisp\" transform=\"translate(0,2021.0030292598965)\" d=\"M95,0h625\" style=\"stroke: rgb(255, 255, 255); stroke-opacity: 1; stroke-width: 1px;\"/><path class=\"y7grid crisp\" transform=\"translate(0,1980.6330292598966)\" d=\"M95,0h625\" style=\"stroke: rgb(255, 255, 255); stroke-opacity: 1; stroke-width: 1px;\"/><path class=\"y7grid crisp\" transform=\"translate(0,1940.2630292598965)\" d=\"M95,0h625\" style=\"stroke: rgb(255, 255, 255); stroke-opacity: 1; stroke-width: 1px;\"/><path class=\"y7grid crisp\" transform=\"translate(0,1899.8930292598966)\" d=\"M95,0h625\" style=\"stroke: rgb(255, 255, 255); stroke-opacity: 1; stroke-width: 1px;\"/><path class=\"y7grid crisp\" transform=\"translate(0,1859.5230292598965)\" d=\"M95,0h625\" style=\"stroke: rgb(255, 255, 255); stroke-opacity: 1; stroke-width: 1px;\"/></g></g><g class=\"zerolinelayer\"/><path class=\"xlines-below\"/><path class=\"ylines-below\"/><g class=\"overlines-below\"/><g class=\"xaxislayer-below\"/><g class=\"yaxislayer-below\"/><g class=\"overaxes-below\"/><g class=\"plot\" transform=\"translate(95,1843.4430292598965)\" clip-path=\"url(#clipfa8056x7y7plot)\"><g class=\"scatterlayer mlayer\"><g class=\"trace scatter traceb74815b3-b173-4e03-93f0-f31a5de89f82\" style=\"stroke-miterlimit: 2;\"><g class=\"fills\"><g><path class=\"js-fill\" d=\"M35.21,16.08L173.6,28.35L311.98,20.52L450.37,20.52L588.75,230.46L588.75,16.08L35.21,16.08Z\" style=\"fill: rgb(220, 57, 18); fill-opacity: 0.3; stroke-width: 0;\"/></g></g><g class=\"errorbars\"/><g class=\"lines\"><path class=\"js-line\" d=\"M35.21,16.08L588.75,16.08\" style=\"vector-effect: non-scaling-stroke; fill: none; stroke: rgb(0, 0, 0); stroke-opacity: 0; stroke-width: 0px; opacity: 1;\"/></g><g class=\"points\"><path class=\"point\" transform=\"translate(35.21,16.08)\" d=\"M3,0A3,3 0 1,1 0,-3A3,3 0 0,1 3,0Z\" style=\"opacity: 1; stroke-width: 0px; fill: rgb(0, 0, 0); fill-opacity: 0;\"/><path class=\"point\" transform=\"translate(173.6,16.08)\" d=\"M3,0A3,3 0 1,1 0,-3A3,3 0 0,1 3,0Z\" style=\"opacity: 1; stroke-width: 0px; fill: rgb(0, 0, 0); fill-opacity: 0;\"/><path class=\"point\" transform=\"translate(311.98,16.08)\" d=\"M3,0A3,3 0 1,1 0,-3A3,3 0 0,1 3,0Z\" style=\"opacity: 1; stroke-width: 0px; fill: rgb(0, 0, 0); fill-opacity: 0;\"/><path class=\"point\" transform=\"translate(450.37,16.08)\" d=\"M3,0A3,3 0 1,1 0,-3A3,3 0 0,1 3,0Z\" style=\"opacity: 1; stroke-width: 0px; fill: rgb(0, 0, 0); fill-opacity: 0;\"/><path class=\"point\" transform=\"translate(588.75,16.08)\" d=\"M3,0A3,3 0 1,1 0,-3A3,3 0 0,1 3,0Z\" style=\"opacity: 1; stroke-width: 0px; fill: rgb(0, 0, 0); fill-opacity: 0;\"/></g><g class=\"text\"/></g><g class=\"trace scatter trace78ab9e63-5afb-4941-86f0-106678f6026f\" style=\"stroke-miterlimit: 2;\"><g class=\"fills\"/><g class=\"errorbars\"/><g class=\"lines\"><path class=\"js-line\" d=\"M35.21,16.08L173.6,28.35L311.98,20.52L450.37,20.52L588.75,230.46\" style=\"vector-effect: non-scaling-stroke; fill: none; stroke: rgb(0, 0, 0); stroke-opacity: 0; stroke-width: 0px; opacity: 1;\"/></g><g class=\"points\"><path class=\"point\" transform=\"translate(35.21,16.08)\" d=\"M3,0A3,3 0 1,1 0,-3A3,3 0 0,1 3,0Z\" style=\"opacity: 1; stroke-width: 0px; fill: rgb(0, 0, 0); fill-opacity: 0;\"/><path class=\"point\" transform=\"translate(173.6,28.35)\" d=\"M3,0A3,3 0 1,1 0,-3A3,3 0 0,1 3,0Z\" style=\"opacity: 1; stroke-width: 0px; fill: rgb(0, 0, 0); fill-opacity: 0;\"/><path class=\"point\" transform=\"translate(311.98,20.52)\" d=\"M3,0A3,3 0 1,1 0,-3A3,3 0 0,1 3,0Z\" style=\"opacity: 1; stroke-width: 0px; fill: rgb(0, 0, 0); fill-opacity: 0;\"/><path class=\"point\" transform=\"translate(450.37,20.52)\" d=\"M3,0A3,3 0 1,1 0,-3A3,3 0 0,1 3,0Z\" style=\"opacity: 1; stroke-width: 0px; fill: rgb(0, 0, 0); fill-opacity: 0;\"/><path class=\"point\" transform=\"translate(588.75,230.46)\" d=\"M3,0A3,3 0 1,1 0,-3A3,3 0 0,1 3,0Z\" style=\"opacity: 1; stroke-width: 0px; fill: rgb(0, 0, 0); fill-opacity: 0;\"/></g><g class=\"text\"/></g><g class=\"trace scatter tracecd8cd3c6-6efb-4b1d-a1d2-91032958f658\" style=\"stroke-miterlimit: 2; opacity: 1;\"><g class=\"fills\"/><g class=\"errorbars\"/><g class=\"lines\"><path class=\"js-line\" d=\"M35.21,16.08L173.6,28.35L311.98,20.52L450.37,20.52L588.75,230.46\" style=\"vector-effect: non-scaling-stroke; fill: none; stroke: rgb(44, 160, 44); stroke-opacity: 1; stroke-width: 2px; opacity: 1;\"/></g><g class=\"points\"><path class=\"point\" transform=\"translate(35.21,16.08)\" d=\"M3,0A3,3 0 1,1 0,-3A3,3 0 0,1 3,0Z\" style=\"opacity: 1; stroke-width: 0px; fill: rgb(44, 160, 44); fill-opacity: 1;\"/><path class=\"point\" transform=\"translate(173.6,28.35)\" d=\"M3,0A3,3 0 1,1 0,-3A3,3 0 0,1 3,0Z\" style=\"opacity: 1; stroke-width: 0px; fill: rgb(44, 160, 44); fill-opacity: 1;\"/><path class=\"point\" transform=\"translate(311.98,20.52)\" d=\"M3,0A3,3 0 1,1 0,-3A3,3 0 0,1 3,0Z\" style=\"opacity: 1; stroke-width: 0px; fill: rgb(44, 160, 44); fill-opacity: 1;\"/><path class=\"point\" transform=\"translate(450.37,20.52)\" d=\"M3,0A3,3 0 1,1 0,-3A3,3 0 0,1 3,0Z\" style=\"opacity: 1; stroke-width: 0px; fill: rgb(44, 160, 44); fill-opacity: 1;\"/><path class=\"point\" transform=\"translate(588.75,230.46)\" d=\"M3,0A3,3 0 1,1 0,-3A3,3 0 0,1 3,0Z\" style=\"opacity: 1; stroke-width: 0px; fill: rgb(44, 160, 44); fill-opacity: 1;\"/></g><g class=\"text\"/></g><g class=\"trace scatter trace9bc18fc7-840e-4320-9cfc-3d13476e4293\" style=\"stroke-miterlimit: 2; opacity: 0;\"><g class=\"fills\"/><g class=\"errorbars\"/><g class=\"lines\"><path class=\"js-line\" d=\"M35.21,16.08L588.75,16.08\" style=\"vector-effect: non-scaling-stroke; fill: none; stroke: rgb(0, 0, 0); stroke-opacity: 0; stroke-width: 0px; opacity: 1;\"/></g><g class=\"points\"><path class=\"point\" transform=\"translate(35.21,16.08)\" d=\"M3,0A3,3 0 1,1 0,-3A3,3 0 0,1 3,0Z\" style=\"opacity: 1; stroke-width: 0px; fill: rgb(0, 0, 0); fill-opacity: 0;\"/><path class=\"point\" transform=\"translate(173.6,16.08)\" d=\"M3,0A3,3 0 1,1 0,-3A3,3 0 0,1 3,0Z\" style=\"opacity: 1; stroke-width: 0px; fill: rgb(0, 0, 0); fill-opacity: 0;\"/><path class=\"point\" transform=\"translate(311.98,16.08)\" d=\"M3,0A3,3 0 1,1 0,-3A3,3 0 0,1 3,0Z\" style=\"opacity: 1; stroke-width: 0px; fill: rgb(0, 0, 0); fill-opacity: 0;\"/><path class=\"point\" transform=\"translate(450.37,16.08)\" d=\"M3,0A3,3 0 1,1 0,-3A3,3 0 0,1 3,0Z\" style=\"opacity: 1; stroke-width: 0px; fill: rgb(0, 0, 0); fill-opacity: 0;\"/><path class=\"point\" transform=\"translate(588.75,16.08)\" d=\"M3,0A3,3 0 1,1 0,-3A3,3 0 0,1 3,0Z\" style=\"opacity: 1; stroke-width: 0px; fill: rgb(0, 0, 0); fill-opacity: 0;\"/></g><g class=\"text\"/></g></g></g><g class=\"overplot\"/><path class=\"xlines-above crisp\" d=\"M0,0\" style=\"fill: none;\"/><path class=\"ylines-above crisp\" d=\"M0,0\" style=\"fill: none;\"/><g class=\"overlines-above\"/><g class=\"xaxislayer-above\"/><g class=\"yaxislayer-above\"><g class=\"y7tick\"><text text-anchor=\"end\" x=\"94\" y=\"4.199999999999999\" transform=\"translate(0,2061.3730292598966)\" style=\"font-family: 'Open Sans', verdana, arial, sans-serif; font-size: 12px; fill: rgb(42, 63, 95); fill-opacity: 1; white-space: pre; opacity: 1;\">195</text></g><g class=\"y7tick\"><text text-anchor=\"end\" x=\"94\" y=\"4.199999999999999\" style=\"font-family: 'Open Sans', verdana, arial, sans-serif; font-size: 12px; fill: rgb(42, 63, 95); fill-opacity: 1; white-space: pre; opacity: 1;\" transform=\"translate(0,2021.0030292598965)\">196</text></g><g class=\"y7tick\"><text text-anchor=\"end\" x=\"94\" y=\"4.199999999999999\" style=\"font-family: 'Open Sans', verdana, arial, sans-serif; font-size: 12px; fill: rgb(42, 63, 95); fill-opacity: 1; white-space: pre; opacity: 1;\" transform=\"translate(0,1980.6330292598966)\">197</text></g><g class=\"y7tick\"><text text-anchor=\"end\" x=\"94\" y=\"4.199999999999999\" style=\"font-family: 'Open Sans', verdana, arial, sans-serif; font-size: 12px; fill: rgb(42, 63, 95); fill-opacity: 1; white-space: pre; opacity: 1;\" transform=\"translate(0,1940.2630292598965)\">198</text></g><g class=\"y7tick\"><text text-anchor=\"end\" x=\"94\" y=\"4.199999999999999\" style=\"font-family: 'Open Sans', verdana, arial, sans-serif; font-size: 12px; fill: rgb(42, 63, 95); fill-opacity: 1; white-space: pre; opacity: 1;\" transform=\"translate(0,1899.8930292598966)\">199</text></g><g class=\"y7tick\"><text text-anchor=\"end\" x=\"94\" y=\"4.199999999999999\" style=\"font-family: 'Open Sans', verdana, arial, sans-serif; font-size: 12px; fill: rgb(42, 63, 95); fill-opacity: 1; white-space: pre; opacity: 1;\" transform=\"translate(0,1859.5230292598965)\">200</text></g></g><g class=\"overaxes-above\"/></g><g class=\"subplot x8y8\"><g class=\"layer-subplot\"><g class=\"shapelayer\"/><g class=\"imagelayer\"/></g><g class=\"gridlayer\"><g class=\"x8\"><path class=\"x8grid crisp\" transform=\"translate(130.21,0)\" d=\"M0,2128.016867469879v246.54010327022374\" style=\"stroke: rgb(255, 255, 255); stroke-opacity: 1; stroke-width: 1px;\"/><path class=\"x8grid crisp\" transform=\"translate(268.6,0)\" d=\"M0,2128.016867469879v246.54010327022374\" style=\"stroke: rgb(255, 255, 255); stroke-opacity: 1; stroke-width: 1px;\"/><path class=\"x8grid crisp\" transform=\"translate(406.98,0)\" d=\"M0,2128.016867469879v246.54010327022374\" style=\"stroke: rgb(255, 255, 255); stroke-opacity: 1; stroke-width: 1px;\"/><path class=\"x8grid crisp\" transform=\"translate(545.37,0)\" d=\"M0,2128.016867469879v246.54010327022374\" style=\"stroke: rgb(255, 255, 255); stroke-opacity: 1; stroke-width: 1px;\"/><path class=\"x8grid crisp\" transform=\"translate(683.75,0)\" d=\"M0,2128.016867469879v246.54010327022374\" style=\"stroke: rgb(255, 255, 255); stroke-opacity: 1; stroke-width: 1px;\"/></g><g class=\"y8\"><path class=\"y8grid crisp\" transform=\"translate(0,2315.606867469879)\" d=\"M95,0h625\" style=\"stroke: rgb(255, 255, 255); stroke-opacity: 1; stroke-width: 1px;\"/><path class=\"y8grid crisp\" transform=\"translate(0,2272.726867469879)\" d=\"M95,0h625\" style=\"stroke: rgb(255, 255, 255); stroke-opacity: 1; stroke-width: 1px;\"/><path class=\"y8grid crisp\" transform=\"translate(0,2229.846867469879)\" d=\"M95,0h625\" style=\"stroke: rgb(255, 255, 255); stroke-opacity: 1; stroke-width: 1px;\"/><path class=\"y8grid crisp\" transform=\"translate(0,2186.9668674698787)\" d=\"M95,0h625\" style=\"stroke: rgb(255, 255, 255); stroke-opacity: 1; stroke-width: 1px;\"/><path class=\"y8grid crisp\" transform=\"translate(0,2144.096867469879)\" d=\"M95,0h625\" style=\"stroke: rgb(255, 255, 255); stroke-opacity: 1; stroke-width: 1px;\"/></g></g><g class=\"zerolinelayer\"><path class=\"y8zl zl crisp\" transform=\"translate(0,2358.476867469879)\" d=\"M95,0h625\" style=\"stroke: rgb(255, 255, 255); stroke-opacity: 1; stroke-width: 2px;\"/></g><path class=\"xlines-below\"/><path class=\"ylines-below\"/><g class=\"overlines-below\"/><g class=\"xaxislayer-below\"/><g class=\"yaxislayer-below\"/><g class=\"overaxes-below\"/><g class=\"plot\" transform=\"translate(95,2128.016867469879)\" clip-path=\"url(#clipfa8056x8y8plot)\"><g class=\"scatterlayer mlayer\"><g class=\"trace scatter tracee84e29e5-296d-4f90-b49a-eb62d7138db9\" style=\"stroke-miterlimit: 2;\"><g class=\"fills\"><g><path class=\"js-fill\" d=\"M35.21,230.46L173.6,221.89L311.98,230.46L450.37,230.46L588.75,16.08L588.75,230.46L35.21,230.46Z\" style=\"fill: rgb(23, 190, 207); fill-opacity: 0.3; stroke-width: 0;\"/></g></g><g class=\"errorbars\"/><g class=\"lines\"><path class=\"js-line\" d=\"M35.21,230.46L588.75,230.46\" style=\"vector-effect: non-scaling-stroke; fill: none; stroke: rgb(0, 0, 0); stroke-opacity: 0; stroke-width: 0px; opacity: 1;\"/></g><g class=\"points\"><path class=\"point\" transform=\"translate(35.21,230.46)\" d=\"M3,0A3,3 0 1,1 0,-3A3,3 0 0,1 3,0Z\" style=\"opacity: 1; stroke-width: 0px; fill: rgb(0, 0, 0); fill-opacity: 0;\"/><path class=\"point\" transform=\"translate(173.6,230.46)\" d=\"M3,0A3,3 0 1,1 0,-3A3,3 0 0,1 3,0Z\" style=\"opacity: 1; stroke-width: 0px; fill: rgb(0, 0, 0); fill-opacity: 0;\"/><path class=\"point\" transform=\"translate(311.98,230.46)\" d=\"M3,0A3,3 0 1,1 0,-3A3,3 0 0,1 3,0Z\" style=\"opacity: 1; stroke-width: 0px; fill: rgb(0, 0, 0); fill-opacity: 0;\"/><path class=\"point\" transform=\"translate(450.37,230.46)\" d=\"M3,0A3,3 0 1,1 0,-3A3,3 0 0,1 3,0Z\" style=\"opacity: 1; stroke-width: 0px; fill: rgb(0, 0, 0); fill-opacity: 0;\"/><path class=\"point\" transform=\"translate(588.75,230.46)\" d=\"M3,0A3,3 0 1,1 0,-3A3,3 0 0,1 3,0Z\" style=\"opacity: 1; stroke-width: 0px; fill: rgb(0, 0, 0); fill-opacity: 0;\"/></g><g class=\"text\"/></g><g class=\"trace scatter trace878dea78-cb12-460c-a7be-586fdabc0790\" style=\"stroke-miterlimit: 2;\"><g class=\"fills\"/><g class=\"errorbars\"/><g class=\"lines\"><path class=\"js-line\" d=\"M35.21,230.46L173.6,221.89L311.98,230.46L450.37,230.46L588.75,16.08\" style=\"vector-effect: non-scaling-stroke; fill: none; stroke: rgb(0, 0, 0); stroke-opacity: 0; stroke-width: 0px; opacity: 1;\"/></g><g class=\"points\"><path class=\"point\" transform=\"translate(35.21,230.46)\" d=\"M3,0A3,3 0 1,1 0,-3A3,3 0 0,1 3,0Z\" style=\"opacity: 1; stroke-width: 0px; fill: rgb(0, 0, 0); fill-opacity: 0;\"/><path class=\"point\" transform=\"translate(173.6,221.89)\" d=\"M3,0A3,3 0 1,1 0,-3A3,3 0 0,1 3,0Z\" style=\"opacity: 1; stroke-width: 0px; fill: rgb(0, 0, 0); fill-opacity: 0;\"/><path class=\"point\" transform=\"translate(311.98,230.46)\" d=\"M3,0A3,3 0 1,1 0,-3A3,3 0 0,1 3,0Z\" style=\"opacity: 1; stroke-width: 0px; fill: rgb(0, 0, 0); fill-opacity: 0;\"/><path class=\"point\" transform=\"translate(450.37,230.46)\" d=\"M3,0A3,3 0 1,1 0,-3A3,3 0 0,1 3,0Z\" style=\"opacity: 1; stroke-width: 0px; fill: rgb(0, 0, 0); fill-opacity: 0;\"/><path class=\"point\" transform=\"translate(588.75,16.08)\" d=\"M3,0A3,3 0 1,1 0,-3A3,3 0 0,1 3,0Z\" style=\"opacity: 1; stroke-width: 0px; fill: rgb(0, 0, 0); fill-opacity: 0;\"/></g><g class=\"text\"/></g><g class=\"trace scatter trace8a6efeb3-cf46-4f77-b962-1440258fbd47\" style=\"stroke-miterlimit: 2; opacity: 1;\"><g class=\"fills\"/><g class=\"errorbars\"/><g class=\"lines\"><path class=\"js-line\" d=\"M35.21,230.46L173.6,221.89L311.98,230.46L450.37,230.46L588.75,16.08\" style=\"vector-effect: non-scaling-stroke; fill: none; stroke: rgb(23, 190, 207); stroke-opacity: 1; stroke-width: 2px; opacity: 1;\"/></g><g class=\"points\"><path class=\"point\" transform=\"translate(35.21,230.46)\" d=\"M3,0A3,3 0 1,1 0,-3A3,3 0 0,1 3,0Z\" style=\"opacity: 1; stroke-width: 0px; fill: rgb(23, 190, 207); fill-opacity: 1;\"/><path class=\"point\" transform=\"translate(173.6,221.89)\" d=\"M3,0A3,3 0 1,1 0,-3A3,3 0 0,1 3,0Z\" style=\"opacity: 1; stroke-width: 0px; fill: rgb(23, 190, 207); fill-opacity: 1;\"/><path class=\"point\" transform=\"translate(311.98,230.46)\" d=\"M3,0A3,3 0 1,1 0,-3A3,3 0 0,1 3,0Z\" style=\"opacity: 1; stroke-width: 0px; fill: rgb(23, 190, 207); fill-opacity: 1;\"/><path class=\"point\" transform=\"translate(450.37,230.46)\" d=\"M3,0A3,3 0 1,1 0,-3A3,3 0 0,1 3,0Z\" style=\"opacity: 1; stroke-width: 0px; fill: rgb(23, 190, 207); fill-opacity: 1;\"/><path class=\"point\" transform=\"translate(588.75,16.08)\" d=\"M3,0A3,3 0 1,1 0,-3A3,3 0 0,1 3,0Z\" style=\"opacity: 1; stroke-width: 0px; fill: rgb(23, 190, 207); fill-opacity: 1;\"/></g><g class=\"text\"/></g><g class=\"trace scatter trace9ba86e98-e093-4791-92ad-4be0e5b02618\" style=\"stroke-miterlimit: 2; opacity: 0;\"><g class=\"fills\"/><g class=\"errorbars\"/><g class=\"lines\"><path class=\"js-line\" d=\"M35.21,230.46L588.75,230.46\" style=\"vector-effect: non-scaling-stroke; fill: none; stroke: rgb(0, 0, 0); stroke-opacity: 0; stroke-width: 0px; opacity: 1;\"/></g><g class=\"points\"><path class=\"point\" transform=\"translate(35.21,230.46)\" d=\"M3,0A3,3 0 1,1 0,-3A3,3 0 0,1 3,0Z\" style=\"opacity: 1; stroke-width: 0px; fill: rgb(0, 0, 0); fill-opacity: 0;\"/><path class=\"point\" transform=\"translate(173.6,230.46)\" d=\"M3,0A3,3 0 1,1 0,-3A3,3 0 0,1 3,0Z\" style=\"opacity: 1; stroke-width: 0px; fill: rgb(0, 0, 0); fill-opacity: 0;\"/><path class=\"point\" transform=\"translate(311.98,230.46)\" d=\"M3,0A3,3 0 1,1 0,-3A3,3 0 0,1 3,0Z\" style=\"opacity: 1; stroke-width: 0px; fill: rgb(0, 0, 0); fill-opacity: 0;\"/><path class=\"point\" transform=\"translate(450.37,230.46)\" d=\"M3,0A3,3 0 1,1 0,-3A3,3 0 0,1 3,0Z\" style=\"opacity: 1; stroke-width: 0px; fill: rgb(0, 0, 0); fill-opacity: 0;\"/><path class=\"point\" transform=\"translate(588.75,230.46)\" d=\"M3,0A3,3 0 1,1 0,-3A3,3 0 0,1 3,0Z\" style=\"opacity: 1; stroke-width: 0px; fill: rgb(0, 0, 0); fill-opacity: 0;\"/></g><g class=\"text\"/></g></g></g><g class=\"overplot\"/><path class=\"xlines-above crisp\" d=\"M0,0\" style=\"fill: none;\"/><path class=\"ylines-above crisp\" d=\"M0,0\" style=\"fill: none;\"/><g class=\"overlines-above\"/><g class=\"xaxislayer-above\"/><g class=\"yaxislayer-above\"><g class=\"y8tick\"><text text-anchor=\"end\" x=\"94\" y=\"4.199999999999999\" transform=\"translate(0,2358.476867469879)\" style=\"font-family: 'Open Sans', verdana, arial, sans-serif; font-size: 12px; fill: rgb(42, 63, 95); fill-opacity: 1; white-space: pre; opacity: 1;\">0</text></g><g class=\"y8tick\"><text text-anchor=\"end\" x=\"94\" y=\"4.199999999999999\" style=\"font-family: 'Open Sans', verdana, arial, sans-serif; font-size: 12px; fill: rgb(42, 63, 95); fill-opacity: 1; white-space: pre; opacity: 1;\" transform=\"translate(0,2315.606867469879)\">1</text></g><g class=\"y8tick\"><text text-anchor=\"end\" x=\"94\" y=\"4.199999999999999\" style=\"font-family: 'Open Sans', verdana, arial, sans-serif; font-size: 12px; fill: rgb(42, 63, 95); fill-opacity: 1; white-space: pre; opacity: 1;\" transform=\"translate(0,2272.726867469879)\">2</text></g><g class=\"y8tick\"><text text-anchor=\"end\" x=\"94\" y=\"4.199999999999999\" style=\"font-family: 'Open Sans', verdana, arial, sans-serif; font-size: 12px; fill: rgb(42, 63, 95); fill-opacity: 1; white-space: pre; opacity: 1;\" transform=\"translate(0,2229.846867469879)\">3</text></g><g class=\"y8tick\"><text text-anchor=\"end\" x=\"94\" y=\"4.199999999999999\" style=\"font-family: 'Open Sans', verdana, arial, sans-serif; font-size: 12px; fill: rgb(42, 63, 95); fill-opacity: 1; white-space: pre; opacity: 1;\" transform=\"translate(0,2186.9668674698787)\">4</text></g><g class=\"y8tick\"><text text-anchor=\"end\" x=\"94\" y=\"4.199999999999999\" style=\"font-family: 'Open Sans', verdana, arial, sans-serif; font-size: 12px; fill: rgb(42, 63, 95); fill-opacity: 1; white-space: pre; opacity: 1;\" transform=\"translate(0,2144.096867469879)\">5</text></g></g><g class=\"overaxes-above\"/></g><g class=\"subplot x9y9\"><g class=\"layer-subplot\"><g class=\"shapelayer\"/><g class=\"imagelayer\"/></g><g class=\"gridlayer\"><g class=\"x9\"><path class=\"x9grid crisp\" transform=\"translate(130.21,0)\" d=\"M0,2412.5907056798624v246.54010327022374\" style=\"stroke: rgb(255, 255, 255); stroke-opacity: 1; stroke-width: 1px;\"/><path class=\"x9grid crisp\" transform=\"translate(268.6,0)\" d=\"M0,2412.5907056798624v246.54010327022374\" style=\"stroke: rgb(255, 255, 255); stroke-opacity: 1; stroke-width: 1px;\"/><path class=\"x9grid crisp\" transform=\"translate(406.98,0)\" d=\"M0,2412.5907056798624v246.54010327022374\" style=\"stroke: rgb(255, 255, 255); stroke-opacity: 1; stroke-width: 1px;\"/><path class=\"x9grid crisp\" transform=\"translate(545.37,0)\" d=\"M0,2412.5907056798624v246.54010327022374\" style=\"stroke: rgb(255, 255, 255); stroke-opacity: 1; stroke-width: 1px;\"/><path class=\"x9grid crisp\" transform=\"translate(683.75,0)\" d=\"M0,2412.5907056798624v246.54010327022374\" style=\"stroke: rgb(255, 255, 255); stroke-opacity: 1; stroke-width: 1px;\"/></g><g class=\"y9\"><path class=\"y9grid crisp\" transform=\"translate(0,2635.810705679862)\" d=\"M95,0h625\" style=\"stroke: rgb(255, 255, 255); stroke-opacity: 1; stroke-width: 1px;\"/><path class=\"y9grid crisp\" transform=\"translate(0,2601.290705679862)\" d=\"M95,0h625\" style=\"stroke: rgb(255, 255, 255); stroke-opacity: 1; stroke-width: 1px;\"/><path class=\"y9grid crisp\" transform=\"translate(0,2566.7607056798624)\" d=\"M95,0h625\" style=\"stroke: rgb(255, 255, 255); stroke-opacity: 1; stroke-width: 1px;\"/><path class=\"y9grid crisp\" transform=\"translate(0,2532.2407056798625)\" d=\"M95,0h625\" style=\"stroke: rgb(255, 255, 255); stroke-opacity: 1; stroke-width: 1px;\"/><path class=\"y9grid crisp\" transform=\"translate(0,2497.7107056798623)\" d=\"M95,0h625\" style=\"stroke: rgb(255, 255, 255); stroke-opacity: 1; stroke-width: 1px;\"/><path class=\"y9grid crisp\" transform=\"translate(0,2463.1907056798623)\" d=\"M95,0h625\" style=\"stroke: rgb(255, 255, 255); stroke-opacity: 1; stroke-width: 1px;\"/><path class=\"y9grid crisp\" transform=\"translate(0,2428.6707056798623)\" d=\"M95,0h625\" style=\"stroke: rgb(255, 255, 255); stroke-opacity: 1; stroke-width: 1px;\"/></g></g><g class=\"zerolinelayer\"/><path class=\"xlines-below\"/><path class=\"ylines-below\"/><g class=\"overlines-below\"/><g class=\"xaxislayer-below\"/><g class=\"yaxislayer-below\"/><g class=\"overaxes-below\"/><g class=\"plot\" transform=\"translate(95,2412.5907056798624)\" clip-path=\"url(#clipfa8056x9y9plot)\"><g class=\"scatterlayer mlayer\"><g class=\"trace scatter trace6b79d6e4-dcd7-46fa-bfbc-3ac6c83a2a5d\" style=\"stroke-miterlimit: 2;\"><g class=\"fills\"><g><path class=\"js-fill\" d=\"M35.21,16.08L173.6,87.9L311.98,92.02L450.37,92.02L588.75,230.46L588.75,16.08L35.21,16.08Z\" style=\"fill: rgb(255, 0, 0); fill-opacity: 0.3; stroke-width: 0;\"/></g></g><g class=\"errorbars\"/><g class=\"lines\"><path class=\"js-line\" d=\"M35.21,16.08L588.75,16.08\" style=\"vector-effect: non-scaling-stroke; fill: none; stroke: rgb(0, 0, 0); stroke-opacity: 0; stroke-width: 0px; opacity: 1;\"/></g><g class=\"points\"><path class=\"point\" transform=\"translate(35.21,16.08)\" d=\"M3,0A3,3 0 1,1 0,-3A3,3 0 0,1 3,0Z\" style=\"opacity: 1; stroke-width: 0px; fill: rgb(0, 0, 0); fill-opacity: 0;\"/><path class=\"point\" transform=\"translate(173.6,16.08)\" d=\"M3,0A3,3 0 1,1 0,-3A3,3 0 0,1 3,0Z\" style=\"opacity: 1; stroke-width: 0px; fill: rgb(0, 0, 0); fill-opacity: 0;\"/><path class=\"point\" transform=\"translate(311.98,16.08)\" d=\"M3,0A3,3 0 1,1 0,-3A3,3 0 0,1 3,0Z\" style=\"opacity: 1; stroke-width: 0px; fill: rgb(0, 0, 0); fill-opacity: 0;\"/><path class=\"point\" transform=\"translate(450.37,16.08)\" d=\"M3,0A3,3 0 1,1 0,-3A3,3 0 0,1 3,0Z\" style=\"opacity: 1; stroke-width: 0px; fill: rgb(0, 0, 0); fill-opacity: 0;\"/><path class=\"point\" transform=\"translate(588.75,16.08)\" d=\"M3,0A3,3 0 1,1 0,-3A3,3 0 0,1 3,0Z\" style=\"opacity: 1; stroke-width: 0px; fill: rgb(0, 0, 0); fill-opacity: 0;\"/></g><g class=\"text\"/></g><g class=\"trace scatter trace82b768fb-862e-462d-b10e-a9bf0d42e6cf\" style=\"stroke-miterlimit: 2;\"><g class=\"fills\"/><g class=\"errorbars\"/><g class=\"lines\"><path class=\"js-line\" d=\"M35.21,16.08L173.6,87.9L311.98,92.02L450.37,92.02L588.75,230.46\" style=\"vector-effect: non-scaling-stroke; fill: none; stroke: rgb(0, 0, 0); stroke-opacity: 0; stroke-width: 0px; opacity: 1;\"/></g><g class=\"points\"><path class=\"point\" transform=\"translate(35.21,16.08)\" d=\"M3,0A3,3 0 1,1 0,-3A3,3 0 0,1 3,0Z\" style=\"opacity: 1; stroke-width: 0px; fill: rgb(0, 0, 0); fill-opacity: 0;\"/><path class=\"point\" transform=\"translate(173.6,87.9)\" d=\"M3,0A3,3 0 1,1 0,-3A3,3 0 0,1 3,0Z\" style=\"opacity: 1; stroke-width: 0px; fill: rgb(0, 0, 0); fill-opacity: 0;\"/><path class=\"point\" transform=\"translate(311.98,92.02)\" d=\"M3,0A3,3 0 1,1 0,-3A3,3 0 0,1 3,0Z\" style=\"opacity: 1; stroke-width: 0px; fill: rgb(0, 0, 0); fill-opacity: 0;\"/><path class=\"point\" transform=\"translate(450.37,92.02)\" d=\"M3,0A3,3 0 1,1 0,-3A3,3 0 0,1 3,0Z\" style=\"opacity: 1; stroke-width: 0px; fill: rgb(0, 0, 0); fill-opacity: 0;\"/><path class=\"point\" transform=\"translate(588.75,230.46)\" d=\"M3,0A3,3 0 1,1 0,-3A3,3 0 0,1 3,0Z\" style=\"opacity: 1; stroke-width: 0px; fill: rgb(0, 0, 0); fill-opacity: 0;\"/></g><g class=\"text\"/></g><g class=\"trace scatter trace69d634a7-dafc-4b6a-8b47-45d9558035fb\" style=\"stroke-miterlimit: 2; opacity: 1;\"><g class=\"fills\"/><g class=\"errorbars\"/><g class=\"lines\"><path class=\"js-line\" d=\"M35.21,16.08L173.6,87.9L311.98,92.02L450.37,92.02L588.75,230.46\" style=\"vector-effect: non-scaling-stroke; fill: none; stroke: rgb(148, 103, 189); stroke-opacity: 1; stroke-width: 2px; opacity: 1;\"/></g><g class=\"points\"><path class=\"point\" transform=\"translate(35.21,16.08)\" d=\"M3,0A3,3 0 1,1 0,-3A3,3 0 0,1 3,0Z\" style=\"opacity: 1; stroke-width: 0px; fill: rgb(148, 103, 189); fill-opacity: 1;\"/><path class=\"point\" transform=\"translate(173.6,87.9)\" d=\"M3,0A3,3 0 1,1 0,-3A3,3 0 0,1 3,0Z\" style=\"opacity: 1; stroke-width: 0px; fill: rgb(148, 103, 189); fill-opacity: 1;\"/><path class=\"point\" transform=\"translate(311.98,92.02)\" d=\"M3,0A3,3 0 1,1 0,-3A3,3 0 0,1 3,0Z\" style=\"opacity: 1; stroke-width: 0px; fill: rgb(148, 103, 189); fill-opacity: 1;\"/><path class=\"point\" transform=\"translate(450.37,92.02)\" d=\"M3,0A3,3 0 1,1 0,-3A3,3 0 0,1 3,0Z\" style=\"opacity: 1; stroke-width: 0px; fill: rgb(148, 103, 189); fill-opacity: 1;\"/><path class=\"point\" transform=\"translate(588.75,230.46)\" d=\"M3,0A3,3 0 1,1 0,-3A3,3 0 0,1 3,0Z\" style=\"opacity: 1; stroke-width: 0px; fill: rgb(148, 103, 189); fill-opacity: 1;\"/></g><g class=\"text\"/></g><g class=\"trace scatter tracebd748252-db08-4e62-a518-25a138948b4f\" style=\"stroke-miterlimit: 2; opacity: 0;\"><g class=\"fills\"/><g class=\"errorbars\"/><g class=\"lines\"><path class=\"js-line\" d=\"M35.21,16.08L588.75,16.08\" style=\"vector-effect: non-scaling-stroke; fill: none; stroke: rgb(0, 0, 0); stroke-opacity: 0; stroke-width: 0px; opacity: 1;\"/></g><g class=\"points\"><path class=\"point\" transform=\"translate(35.21,16.08)\" d=\"M3,0A3,3 0 1,1 0,-3A3,3 0 0,1 3,0Z\" style=\"opacity: 1; stroke-width: 0px; fill: rgb(0, 0, 0); fill-opacity: 0;\"/><path class=\"point\" transform=\"translate(173.6,16.08)\" d=\"M3,0A3,3 0 1,1 0,-3A3,3 0 0,1 3,0Z\" style=\"opacity: 1; stroke-width: 0px; fill: rgb(0, 0, 0); fill-opacity: 0;\"/><path class=\"point\" transform=\"translate(311.98,16.08)\" d=\"M3,0A3,3 0 1,1 0,-3A3,3 0 0,1 3,0Z\" style=\"opacity: 1; stroke-width: 0px; fill: rgb(0, 0, 0); fill-opacity: 0;\"/><path class=\"point\" transform=\"translate(450.37,16.08)\" d=\"M3,0A3,3 0 1,1 0,-3A3,3 0 0,1 3,0Z\" style=\"opacity: 1; stroke-width: 0px; fill: rgb(0, 0, 0); fill-opacity: 0;\"/><path class=\"point\" transform=\"translate(588.75,16.08)\" d=\"M3,0A3,3 0 1,1 0,-3A3,3 0 0,1 3,0Z\" style=\"opacity: 1; stroke-width: 0px; fill: rgb(0, 0, 0); fill-opacity: 0;\"/></g><g class=\"text\"/></g></g></g><g class=\"overplot\"/><path class=\"xlines-above crisp\" d=\"M0,0\" style=\"fill: none;\"/><path class=\"ylines-above crisp\" d=\"M0,0\" style=\"fill: none;\"/><g class=\"overlines-above\"/><g class=\"xaxislayer-above\"/><g class=\"yaxislayer-above\"><g class=\"y9tick\"><text text-anchor=\"end\" x=\"94\" y=\"4.199999999999999\" transform=\"translate(0,2635.810705679862)\" style=\"font-family: 'Open Sans', verdana, arial, sans-serif; font-size: 12px; fill: rgb(42, 63, 95); fill-opacity: 1; white-space: pre; opacity: 1;\">199.7</text></g><g class=\"y9tick\"><text text-anchor=\"end\" x=\"94\" y=\"4.199999999999999\" style=\"font-family: 'Open Sans', verdana, arial, sans-serif; font-size: 12px; fill: rgb(42, 63, 95); fill-opacity: 1; white-space: pre; opacity: 1;\" transform=\"translate(0,2601.290705679862)\">199.75</text></g><g class=\"y9tick\"><text text-anchor=\"end\" x=\"94\" y=\"4.199999999999999\" style=\"font-family: 'Open Sans', verdana, arial, sans-serif; font-size: 12px; fill: rgb(42, 63, 95); fill-opacity: 1; white-space: pre; opacity: 1;\" transform=\"translate(0,2566.7607056798624)\">199.8</text></g><g class=\"y9tick\"><text text-anchor=\"end\" x=\"94\" y=\"4.199999999999999\" style=\"font-family: 'Open Sans', verdana, arial, sans-serif; font-size: 12px; fill: rgb(42, 63, 95); fill-opacity: 1; white-space: pre; opacity: 1;\" transform=\"translate(0,2532.2407056798625)\">199.85</text></g><g class=\"y9tick\"><text text-anchor=\"end\" x=\"94\" y=\"4.199999999999999\" style=\"font-family: 'Open Sans', verdana, arial, sans-serif; font-size: 12px; fill: rgb(42, 63, 95); fill-opacity: 1; white-space: pre; opacity: 1;\" transform=\"translate(0,2497.7107056798623)\">199.9</text></g><g class=\"y9tick\"><text text-anchor=\"end\" x=\"94\" y=\"4.199999999999999\" style=\"font-family: 'Open Sans', verdana, arial, sans-serif; font-size: 12px; fill: rgb(42, 63, 95); fill-opacity: 1; white-space: pre; opacity: 1;\" transform=\"translate(0,2463.1907056798623)\">199.95</text></g><g class=\"y9tick\"><text text-anchor=\"end\" x=\"94\" y=\"4.199999999999999\" style=\"font-family: 'Open Sans', verdana, arial, sans-serif; font-size: 12px; fill: rgb(42, 63, 95); fill-opacity: 1; white-space: pre; opacity: 1;\" transform=\"translate(0,2428.6707056798623)\">200</text></g></g><g class=\"overaxes-above\"/></g><g class=\"subplot x10y10\"><g class=\"layer-subplot\"><g class=\"shapelayer\"/><g class=\"imagelayer\"/></g><g class=\"gridlayer\"><g class=\"x10\"><path class=\"x10grid crisp\" transform=\"translate(130.21,0)\" d=\"M0,2697.1645438898454v246.54010327022374\" style=\"stroke: rgb(255, 255, 255); stroke-opacity: 1; stroke-width: 1px;\"/><path class=\"x10grid crisp\" transform=\"translate(268.6,0)\" d=\"M0,2697.1645438898454v246.54010327022374\" style=\"stroke: rgb(255, 255, 255); stroke-opacity: 1; stroke-width: 1px;\"/><path class=\"x10grid crisp\" transform=\"translate(406.98,0)\" d=\"M0,2697.1645438898454v246.54010327022374\" style=\"stroke: rgb(255, 255, 255); stroke-opacity: 1; stroke-width: 1px;\"/><path class=\"x10grid crisp\" transform=\"translate(545.37,0)\" d=\"M0,2697.1645438898454v246.54010327022374\" style=\"stroke: rgb(255, 255, 255); stroke-opacity: 1; stroke-width: 1px;\"/><path class=\"x10grid crisp\" transform=\"translate(683.75,0)\" d=\"M0,2697.1645438898454v246.54010327022374\" style=\"stroke: rgb(255, 255, 255); stroke-opacity: 1; stroke-width: 1px;\"/></g><g class=\"y10\"><path class=\"y10grid crisp\" transform=\"translate(0,2927.4045438898456)\" d=\"M95,0h625\" style=\"stroke: rgb(255, 255, 255); stroke-opacity: 1; stroke-width: 1px;\"/><path class=\"y10grid crisp\" transform=\"translate(0,2856.0145438898453)\" d=\"M95,0h625\" style=\"stroke: rgb(255, 255, 255); stroke-opacity: 1; stroke-width: 1px;\"/><path class=\"y10grid crisp\" transform=\"translate(0,2784.634543889845)\" d=\"M95,0h625\" style=\"stroke: rgb(255, 255, 255); stroke-opacity: 1; stroke-width: 1px;\"/><path class=\"y10grid crisp\" transform=\"translate(0,2713.2445438898453)\" d=\"M95,0h625\" style=\"stroke: rgb(255, 255, 255); stroke-opacity: 1; stroke-width: 1px;\"/></g></g><g class=\"zerolinelayer\"/><path class=\"xlines-below\"/><path class=\"ylines-below\"/><g class=\"overlines-below\"/><g class=\"xaxislayer-below\"/><g class=\"yaxislayer-below\"/><g class=\"overaxes-below\"/><g class=\"plot\" transform=\"translate(95,2697.1645438898454)\" clip-path=\"url(#clipfa8056x10y10plot)\"><g class=\"scatterlayer mlayer\"><g class=\"trace scatter trace9024cc5e-3c34-420e-8011-0de6bb75a3af\" style=\"stroke-miterlimit: 2; opacity: 1;\"><g class=\"fills\"/><g class=\"errorbars\"/><g class=\"lines\"><path class=\"js-line\" d=\"M35.21,230.24L173.6,230.24L311.98,158.85L588.75,16.08\" style=\"vector-effect: non-scaling-stroke; fill: none; stroke: rgb(127, 127, 127); stroke-opacity: 1; stroke-width: 2px; opacity: 1;\"/></g><g class=\"points\"><path class=\"point\" transform=\"translate(35.21,230.24)\" d=\"M3,0A3,3 0 1,1 0,-3A3,3 0 0,1 3,0Z\" style=\"opacity: 1; stroke-width: 0px; fill: rgb(127, 127, 127); fill-opacity: 1;\"/><path class=\"point\" transform=\"translate(173.6,230.24)\" d=\"M3,0A3,3 0 1,1 0,-3A3,3 0 0,1 3,0Z\" style=\"opacity: 1; stroke-width: 0px; fill: rgb(127, 127, 127); fill-opacity: 1;\"/><path class=\"point\" transform=\"translate(311.98,158.85)\" d=\"M3,0A3,3 0 1,1 0,-3A3,3 0 0,1 3,0Z\" style=\"opacity: 1; stroke-width: 0px; fill: rgb(127, 127, 127); fill-opacity: 1;\"/><path class=\"point\" transform=\"translate(450.37,87.47)\" d=\"M3,0A3,3 0 1,1 0,-3A3,3 0 0,1 3,0Z\" style=\"opacity: 1; stroke-width: 0px; fill: rgb(127, 127, 127); fill-opacity: 1;\"/><path class=\"point\" transform=\"translate(588.75,16.08)\" d=\"M3,0A3,3 0 1,1 0,-3A3,3 0 0,1 3,0Z\" style=\"opacity: 1; stroke-width: 0px; fill: rgb(127, 127, 127); fill-opacity: 1;\"/></g><g class=\"text\"/></g><g class=\"trace scatter trace2a286286-b7b3-4d39-9cb4-11aacd74850f\" style=\"stroke-miterlimit: 2;\"><g class=\"fills\"><g><path class=\"js-fill\" d=\"M35.21,230.24L588.75,230.46L588.75,230.24L35.21,230.24Z\" style=\"fill: rgb(255, 0, 0); fill-opacity: 0.3; stroke-width: 0;\"/></g></g><g class=\"errorbars\"/><g class=\"lines\"><path class=\"js-line\" d=\"M35.21,230.24L588.75,230.24\" style=\"vector-effect: non-scaling-stroke; fill: none; stroke: rgb(0, 0, 0); stroke-opacity: 0; stroke-width: 0px; opacity: 1;\"/></g><g class=\"points\"><path class=\"point\" transform=\"translate(35.21,230.24)\" d=\"M3,0A3,3 0 1,1 0,-3A3,3 0 0,1 3,0Z\" style=\"opacity: 1; stroke-width: 0px; fill: rgb(0, 0, 0); fill-opacity: 0;\"/><path class=\"point\" transform=\"translate(173.6,230.24)\" d=\"M3,0A3,3 0 1,1 0,-3A3,3 0 0,1 3,0Z\" style=\"opacity: 1; stroke-width: 0px; fill: rgb(0, 0, 0); fill-opacity: 0;\"/><path class=\"point\" transform=\"translate(311.98,230.24)\" d=\"M3,0A3,3 0 1,1 0,-3A3,3 0 0,1 3,0Z\" style=\"opacity: 1; stroke-width: 0px; fill: rgb(0, 0, 0); fill-opacity: 0;\"/><path class=\"point\" transform=\"translate(450.37,230.24)\" d=\"M3,0A3,3 0 1,1 0,-3A3,3 0 0,1 3,0Z\" style=\"opacity: 1; stroke-width: 0px; fill: rgb(0, 0, 0); fill-opacity: 0;\"/><path class=\"point\" transform=\"translate(588.75,230.24)\" d=\"M3,0A3,3 0 1,1 0,-3A3,3 0 0,1 3,0Z\" style=\"opacity: 1; stroke-width: 0px; fill: rgb(0, 0, 0); fill-opacity: 0;\"/></g><g class=\"text\"/></g><g class=\"trace scatter tracef15ef476-0ab2-44cf-93d4-c29529e7e395\" style=\"stroke-miterlimit: 2;\"><g class=\"fills\"/><g class=\"errorbars\"/><g class=\"lines\"><path class=\"js-line\" d=\"M35.21,230.24L588.75,230.46\" style=\"vector-effect: non-scaling-stroke; fill: none; stroke: rgb(0, 0, 0); stroke-opacity: 0; stroke-width: 0px; opacity: 1;\"/></g><g class=\"points\"><path class=\"point\" transform=\"translate(35.21,230.24)\" d=\"M3,0A3,3 0 1,1 0,-3A3,3 0 0,1 3,0Z\" style=\"opacity: 1; stroke-width: 0px; fill: rgb(0, 0, 0); fill-opacity: 0;\"/><path class=\"point\" transform=\"translate(173.6,230.32)\" d=\"M3,0A3,3 0 1,1 0,-3A3,3 0 0,1 3,0Z\" style=\"opacity: 1; stroke-width: 0px; fill: rgb(0, 0, 0); fill-opacity: 0;\"/><path class=\"point\" transform=\"translate(311.98,230.32)\" d=\"M3,0A3,3 0 1,1 0,-3A3,3 0 0,1 3,0Z\" style=\"opacity: 1; stroke-width: 0px; fill: rgb(0, 0, 0); fill-opacity: 0;\"/><path class=\"point\" transform=\"translate(450.37,230.32)\" d=\"M3,0A3,3 0 1,1 0,-3A3,3 0 0,1 3,0Z\" style=\"opacity: 1; stroke-width: 0px; fill: rgb(0, 0, 0); fill-opacity: 0;\"/><path class=\"point\" transform=\"translate(588.75,230.46)\" d=\"M3,0A3,3 0 1,1 0,-3A3,3 0 0,1 3,0Z\" style=\"opacity: 1; stroke-width: 0px; fill: rgb(0, 0, 0); fill-opacity: 0;\"/></g><g class=\"text\"/></g><g class=\"trace scatter trace99dcd93d-2492-4029-a41c-4aa1ad3f5e49\" style=\"stroke-miterlimit: 2; opacity: 1;\"><g class=\"fills\"/><g class=\"errorbars\"/><g class=\"lines\"><path class=\"js-line\" d=\"M35.21,230.24L588.75,230.46\" style=\"vector-effect: non-scaling-stroke; fill: none; stroke: rgb(148, 103, 189); stroke-opacity: 1; stroke-width: 2px; opacity: 1;\"/></g><g class=\"points\"><path class=\"point\" transform=\"translate(35.21,230.24)\" d=\"M3,0A3,3 0 1,1 0,-3A3,3 0 0,1 3,0Z\" style=\"opacity: 1; stroke-width: 0px; fill: rgb(148, 103, 189); fill-opacity: 1;\"/><path class=\"point\" transform=\"translate(173.6,230.32)\" d=\"M3,0A3,3 0 1,1 0,-3A3,3 0 0,1 3,0Z\" style=\"opacity: 1; stroke-width: 0px; fill: rgb(148, 103, 189); fill-opacity: 1;\"/><path class=\"point\" transform=\"translate(311.98,230.32)\" d=\"M3,0A3,3 0 1,1 0,-3A3,3 0 0,1 3,0Z\" style=\"opacity: 1; stroke-width: 0px; fill: rgb(148, 103, 189); fill-opacity: 1;\"/><path class=\"point\" transform=\"translate(450.37,230.32)\" d=\"M3,0A3,3 0 1,1 0,-3A3,3 0 0,1 3,0Z\" style=\"opacity: 1; stroke-width: 0px; fill: rgb(148, 103, 189); fill-opacity: 1;\"/><path class=\"point\" transform=\"translate(588.75,230.46)\" d=\"M3,0A3,3 0 1,1 0,-3A3,3 0 0,1 3,0Z\" style=\"opacity: 1; stroke-width: 0px; fill: rgb(148, 103, 189); fill-opacity: 1;\"/></g><g class=\"text\"/></g><g class=\"trace scatter traceacfb3966-4983-466a-874e-0d101a2149e2\" style=\"stroke-miterlimit: 2; opacity: 0;\"><g class=\"fills\"/><g class=\"errorbars\"/><g class=\"lines\"><path class=\"js-line\" d=\"M35.21,230.24L588.75,230.24\" style=\"vector-effect: non-scaling-stroke; fill: none; stroke: rgb(0, 0, 0); stroke-opacity: 0; stroke-width: 0px; opacity: 1;\"/></g><g class=\"points\"><path class=\"point\" transform=\"translate(35.21,230.24)\" d=\"M3,0A3,3 0 1,1 0,-3A3,3 0 0,1 3,0Z\" style=\"opacity: 1; stroke-width: 0px; fill: rgb(0, 0, 0); fill-opacity: 0;\"/><path class=\"point\" transform=\"translate(173.6,230.24)\" d=\"M3,0A3,3 0 1,1 0,-3A3,3 0 0,1 3,0Z\" style=\"opacity: 1; stroke-width: 0px; fill: rgb(0, 0, 0); fill-opacity: 0;\"/><path class=\"point\" transform=\"translate(311.98,230.24)\" d=\"M3,0A3,3 0 1,1 0,-3A3,3 0 0,1 3,0Z\" style=\"opacity: 1; stroke-width: 0px; fill: rgb(0, 0, 0); fill-opacity: 0;\"/><path class=\"point\" transform=\"translate(450.37,230.24)\" d=\"M3,0A3,3 0 1,1 0,-3A3,3 0 0,1 3,0Z\" style=\"opacity: 1; stroke-width: 0px; fill: rgb(0, 0, 0); fill-opacity: 0;\"/><path class=\"point\" transform=\"translate(588.75,230.24)\" d=\"M3,0A3,3 0 1,1 0,-3A3,3 0 0,1 3,0Z\" style=\"opacity: 1; stroke-width: 0px; fill: rgb(0, 0, 0); fill-opacity: 0;\"/></g><g class=\"text\"/></g></g></g><g class=\"overplot\"/><path class=\"xlines-above crisp\" d=\"M0,0\" style=\"fill: none;\"/><path class=\"ylines-above crisp\" d=\"M0,0\" style=\"fill: none;\"/><g class=\"overlines-above\"/><g class=\"xaxislayer-above\"/><g class=\"yaxislayer-above\"><g class=\"y10tick\"><text text-anchor=\"end\" x=\"94\" y=\"4.199999999999999\" transform=\"translate(0,2927.4045438898456)\" style=\"font-family: 'Open Sans', verdana, arial, sans-serif; font-size: 12px; fill: rgb(42, 63, 95); fill-opacity: 1; white-space: pre; opacity: 1;\">1</text></g><g class=\"y10tick\"><text text-anchor=\"end\" x=\"94\" y=\"4.199999999999999\" style=\"font-family: 'Open Sans', verdana, arial, sans-serif; font-size: 12px; fill: rgb(42, 63, 95); fill-opacity: 1; white-space: pre; opacity: 1;\" transform=\"translate(0,2856.0145438898453)\">1.5</text></g><g class=\"y10tick\"><text text-anchor=\"end\" x=\"94\" y=\"4.199999999999999\" style=\"font-family: 'Open Sans', verdana, arial, sans-serif; font-size: 12px; fill: rgb(42, 63, 95); fill-opacity: 1; white-space: pre; opacity: 1;\" transform=\"translate(0,2784.634543889845)\">2</text></g><g class=\"y10tick\"><text text-anchor=\"end\" x=\"94\" y=\"4.199999999999999\" style=\"font-family: 'Open Sans', verdana, arial, sans-serif; font-size: 12px; fill: rgb(42, 63, 95); fill-opacity: 1; white-space: pre; opacity: 1;\" transform=\"translate(0,2713.2445438898453)\">2.5</text></g></g><g class=\"overaxes-above\"/></g><g class=\"subplot x11y11\"><g class=\"layer-subplot\"><g class=\"shapelayer\"/><g class=\"imagelayer\"/></g><g class=\"gridlayer\"><g class=\"x11\"><path class=\"x11grid crisp\" transform=\"translate(130.21,0)\" d=\"M0,2981.738382099828v246.54010327022382\" style=\"stroke: rgb(255, 255, 255); stroke-opacity: 1; stroke-width: 1px;\"/><path class=\"x11grid crisp\" transform=\"translate(268.6,0)\" d=\"M0,2981.738382099828v246.54010327022382\" style=\"stroke: rgb(255, 255, 255); stroke-opacity: 1; stroke-width: 1px;\"/><path class=\"x11grid crisp\" transform=\"translate(406.98,0)\" d=\"M0,2981.738382099828v246.54010327022382\" style=\"stroke: rgb(255, 255, 255); stroke-opacity: 1; stroke-width: 1px;\"/><path class=\"x11grid crisp\" transform=\"translate(545.37,0)\" d=\"M0,2981.738382099828v246.54010327022382\" style=\"stroke: rgb(255, 255, 255); stroke-opacity: 1; stroke-width: 1px;\"/><path class=\"x11grid crisp\" transform=\"translate(683.75,0)\" d=\"M0,2981.738382099828v246.54010327022382\" style=\"stroke: rgb(255, 255, 255); stroke-opacity: 1; stroke-width: 1px;\"/></g><g class=\"y11\"><path class=\"y11grid crisp\" transform=\"translate(0,3204.378382099828)\" d=\"M95,0h625\" style=\"stroke: rgb(255, 255, 255); stroke-opacity: 1; stroke-width: 1px;\"/><path class=\"y11grid crisp\" transform=\"translate(0,3135.728382099828)\" d=\"M95,0h625\" style=\"stroke: rgb(255, 255, 255); stroke-opacity: 1; stroke-width: 1px;\"/><path class=\"y11grid crisp\" transform=\"translate(0,3067.088382099828)\" d=\"M95,0h625\" style=\"stroke: rgb(255, 255, 255); stroke-opacity: 1; stroke-width: 1px;\"/><path class=\"y11grid crisp\" transform=\"translate(0,2998.438382099828)\" d=\"M95,0h625\" style=\"stroke: rgb(255, 255, 255); stroke-opacity: 1; stroke-width: 1px;\"/></g></g><g class=\"zerolinelayer\"/><path class=\"xlines-below\"/><path class=\"ylines-below\"/><g class=\"overlines-below\"/><g class=\"xaxislayer-below\"/><g class=\"yaxislayer-below\"/><g class=\"overaxes-below\"/><g class=\"plot\" transform=\"translate(95,2981.738382099828)\" clip-path=\"url(#clipfa8056x11y11plot)\"><g class=\"scatterlayer mlayer\"><g class=\"trace scatter traceb10cf817-19be-4a75-9b8d-0cf5164e740b\" style=\"stroke-miterlimit: 2; opacity: 1;\"><g class=\"fills\"/><g class=\"errorbars\"/><g class=\"lines\"><path class=\"js-line\" d=\"M35.21,16.7L173.6,88.11L311.98,92.2L450.37,92.2L588.75,229.84\" style=\"vector-effect: non-scaling-stroke; fill: none; stroke: rgb(148, 103, 189); stroke-opacity: 1; stroke-width: 2px; opacity: 1;\"/></g><g class=\"points\"><path class=\"point\" transform=\"translate(35.21,16.7)\" d=\"M3,0A3,3 0 1,1 0,-3A3,3 0 0,1 3,0Z\" style=\"opacity: 1; stroke-width: 0px; fill: rgb(148, 103, 189); fill-opacity: 1;\"/><path class=\"point\" transform=\"translate(173.6,88.11)\" d=\"M3,0A3,3 0 1,1 0,-3A3,3 0 0,1 3,0Z\" style=\"opacity: 1; stroke-width: 0px; fill: rgb(148, 103, 189); fill-opacity: 1;\"/><path class=\"point\" transform=\"translate(311.98,92.2)\" d=\"M3,0A3,3 0 1,1 0,-3A3,3 0 0,1 3,0Z\" style=\"opacity: 1; stroke-width: 0px; fill: rgb(148, 103, 189); fill-opacity: 1;\"/><path class=\"point\" transform=\"translate(450.37,92.2)\" d=\"M3,0A3,3 0 1,1 0,-3A3,3 0 0,1 3,0Z\" style=\"opacity: 1; stroke-width: 0px; fill: rgb(148, 103, 189); fill-opacity: 1;\"/><path class=\"point\" transform=\"translate(588.75,229.84)\" d=\"M3,0A3,3 0 1,1 0,-3A3,3 0 0,1 3,0Z\" style=\"opacity: 1; stroke-width: 0px; fill: rgb(148, 103, 189); fill-opacity: 1;\"/></g><g class=\"text\"/></g><g class=\"trace scatter tracea5807535-d9b0-4660-82a8-5c856e38367d\" style=\"stroke-miterlimit: 2; opacity: 1;\"><g class=\"fills\"/><g class=\"errorbars\"/><g class=\"lines\"/><g class=\"points\"><path class=\"point plotly-customdata\" transform=\"translate(35.21,16.7)\" d=\"M4.55,0L0,4.55L-4.55,0L0,-4.55Z\" style=\"opacity: 1; stroke-width: 1px; fill: rgb(66, 133, 244); fill-opacity: 1; stroke: rgb(11, 84, 205); stroke-opacity: 1;\"/></g><g class=\"text\"/></g><g class=\"trace scatter trace4bdf595a-30f2-4cf3-8d2d-789e25181b43\" style=\"stroke-miterlimit: 2; opacity: 1;\"><g class=\"fills\"/><g class=\"errorbars\"/><g class=\"lines\"/><g class=\"points\"><path class=\"point plotly-customdata\" transform=\"translate(588.75,229.84)\" d=\"M4.55,0L0,4.55L-4.55,0L0,-4.55Z\" style=\"opacity: 1; stroke-width: 1px; fill: rgb(255, 170, 0); fill-opacity: 1; stroke: rgb(178, 118, 0); stroke-opacity: 1;\"/></g><g class=\"text\"/></g></g></g><g class=\"overplot\"/><path class=\"xlines-above crisp\" d=\"M0,0\" style=\"fill: none;\"/><path class=\"ylines-above crisp\" d=\"M0,0\" style=\"fill: none;\"/><g class=\"overlines-above\"/><g class=\"xaxislayer-above\"/><g class=\"yaxislayer-above\"><g class=\"y11tick\"><text text-anchor=\"end\" x=\"94\" y=\"4.199999999999999\" transform=\"translate(0,3204.378382099828)\" style=\"font-family: 'Open Sans', verdana, arial, sans-serif; font-size: 12px; fill: rgb(42, 63, 95); fill-opacity: 1; white-space: pre; opacity: 1;\">199.7</text></g><g class=\"y11tick\"><text text-anchor=\"end\" x=\"94\" y=\"4.199999999999999\" style=\"font-family: 'Open Sans', verdana, arial, sans-serif; font-size: 12px; fill: rgb(42, 63, 95); fill-opacity: 1; white-space: pre; opacity: 1;\" transform=\"translate(0,3135.728382099828)\">199.8</text></g><g class=\"y11tick\"><text text-anchor=\"end\" x=\"94\" y=\"4.199999999999999\" style=\"font-family: 'Open Sans', verdana, arial, sans-serif; font-size: 12px; fill: rgb(42, 63, 95); fill-opacity: 1; white-space: pre; opacity: 1;\" transform=\"translate(0,3067.088382099828)\">199.9</text></g><g class=\"y11tick\"><text text-anchor=\"end\" x=\"94\" y=\"4.199999999999999\" style=\"font-family: 'Open Sans', verdana, arial, sans-serif; font-size: 12px; fill: rgb(42, 63, 95); fill-opacity: 1; white-space: pre; opacity: 1;\" transform=\"translate(0,2998.438382099828)\">200</text></g></g><g class=\"overaxes-above\"/></g><g class=\"subplot x12y12\"><g class=\"layer-subplot\"><g class=\"shapelayer\"/><g class=\"imagelayer\"/></g><g class=\"gridlayer\"><g class=\"x12\"><path class=\"x12grid crisp\" transform=\"translate(130.21,0)\" d=\"M0,3266.3122203098105v246.54010327022374\" style=\"stroke: rgb(255, 255, 255); stroke-opacity: 1; stroke-width: 1px;\"/><path class=\"x12grid crisp\" transform=\"translate(268.6,0)\" d=\"M0,3266.3122203098105v246.54010327022374\" style=\"stroke: rgb(255, 255, 255); stroke-opacity: 1; stroke-width: 1px;\"/><path class=\"x12grid crisp\" transform=\"translate(406.98,0)\" d=\"M0,3266.3122203098105v246.54010327022374\" style=\"stroke: rgb(255, 255, 255); stroke-opacity: 1; stroke-width: 1px;\"/><path class=\"x12grid crisp\" transform=\"translate(545.37,0)\" d=\"M0,3266.3122203098105v246.54010327022374\" style=\"stroke: rgb(255, 255, 255); stroke-opacity: 1; stroke-width: 1px;\"/><path class=\"x12grid crisp\" transform=\"translate(683.75,0)\" d=\"M0,3266.3122203098105v246.54010327022374\" style=\"stroke: rgb(255, 255, 255); stroke-opacity: 1; stroke-width: 1px;\"/></g><g class=\"y12\"><path class=\"y12grid crisp\" transform=\"translate(0,3489.0222203098106)\" d=\"M95,0h625\" style=\"stroke: rgb(255, 255, 255); stroke-opacity: 1; stroke-width: 1px;\"/><path class=\"y12grid crisp\" transform=\"translate(0,3415.1222203098105)\" d=\"M95,0h625\" style=\"stroke: rgb(255, 255, 255); stroke-opacity: 1; stroke-width: 1px;\"/><path class=\"y12grid crisp\" transform=\"translate(0,3341.2122203098106)\" d=\"M95,0h625\" style=\"stroke: rgb(255, 255, 255); stroke-opacity: 1; stroke-width: 1px;\"/></g></g><g class=\"zerolinelayer\"><path class=\"y12zl zl crisp\" transform=\"translate(0,3267.3122203098105)\" d=\"M95,0h625\" style=\"stroke: rgb(255, 255, 255); stroke-opacity: 1; stroke-width: 2px;\"/></g><path class=\"xlines-below\"/><path class=\"ylines-below\"/><g class=\"overlines-below\"/><g class=\"xaxislayer-below\"/><g class=\"yaxislayer-below\"/><g class=\"overaxes-below\"/><g class=\"plot\" transform=\"translate(95,3266.3122203098105)\" clip-path=\"url(#clipfa8056x12y12plot)\"><g class=\"scatterlayer mlayer\"><g class=\"trace scatter trace4ddc7fa7-93af-4a3b-bf50-9bc11da6d950\" style=\"stroke-miterlimit: 2;\"><g class=\"fills\"><g><path class=\"js-fill\" d=\"M588.75,1L35.21,1L35.21,1L173.6,77.87L311.98,82.29L450.37,82.29L588.75,230.46\" style=\"fill: rgb(220, 57, 18); fill-opacity: 0.3; stroke-width: 0;\"/></g></g><g class=\"errorbars\"/><g class=\"lines\"><path class=\"js-line\" d=\"M35.21,1L173.6,77.87L311.98,82.29L450.37,82.29L588.75,230.46\" style=\"vector-effect: non-scaling-stroke; fill: none; stroke: rgb(220, 57, 18); stroke-opacity: 1; stroke-width: 2px; opacity: 1;\"/></g><g class=\"points\"><path class=\"point\" transform=\"translate(35.21,1)\" d=\"M3,0A3,3 0 1,1 0,-3A3,3 0 0,1 3,0Z\" style=\"opacity: 1; stroke-width: 0px; fill: rgb(220, 57, 18); fill-opacity: 1;\"/><path class=\"point\" transform=\"translate(173.6,77.87)\" d=\"M3,0A3,3 0 1,1 0,-3A3,3 0 0,1 3,0Z\" style=\"opacity: 1; stroke-width: 0px; fill: rgb(220, 57, 18); fill-opacity: 1;\"/><path class=\"point\" transform=\"translate(311.98,82.29)\" d=\"M3,0A3,3 0 1,1 0,-3A3,3 0 0,1 3,0Z\" style=\"opacity: 1; stroke-width: 0px; fill: rgb(220, 57, 18); fill-opacity: 1;\"/><path class=\"point\" transform=\"translate(450.37,82.29)\" d=\"M3,0A3,3 0 1,1 0,-3A3,3 0 0,1 3,0Z\" style=\"opacity: 1; stroke-width: 0px; fill: rgb(220, 57, 18); fill-opacity: 1;\"/><path class=\"point\" transform=\"translate(588.75,230.46)\" d=\"M3,0A3,3 0 1,1 0,-3A3,3 0 0,1 3,0Z\" style=\"opacity: 1; stroke-width: 0px; fill: rgb(220, 57, 18); fill-opacity: 1;\"/></g><g class=\"text\"/></g></g></g><g class=\"overplot\"/><path class=\"xlines-above crisp\" d=\"M0,0\" style=\"fill: none;\"/><path class=\"ylines-above crisp\" d=\"M0,0\" style=\"fill: none;\"/><g class=\"overlines-above\"/><g class=\"xaxislayer-above\"/><g class=\"yaxislayer-above\"><g class=\"y12tick\"><text text-anchor=\"end\" x=\"94\" y=\"4.199999999999999\" transform=\"translate(0,3489.0222203098106)\" style=\"font-family: 'Open Sans', verdana, arial, sans-serif; font-size: 12px; fill: rgb(42, 63, 95); fill-opacity: 1; white-space: pre; opacity: 1;\">−0%</text></g><g class=\"y12tick\"><text text-anchor=\"end\" x=\"94\" y=\"4.199999999999999\" style=\"font-family: 'Open Sans', verdana, arial, sans-serif; font-size: 12px; fill: rgb(42, 63, 95); fill-opacity: 1; white-space: pre; opacity: 1;\" transform=\"translate(0,3415.1222203098105)\">−0%</text></g><g class=\"y12tick\"><text text-anchor=\"end\" x=\"94\" y=\"4.199999999999999\" style=\"font-family: 'Open Sans', verdana, arial, sans-serif; font-size: 12px; fill: rgb(42, 63, 95); fill-opacity: 1; white-space: pre; opacity: 1;\" transform=\"translate(0,3341.2122203098106)\">−0%</text></g><g class=\"y12tick\"><text text-anchor=\"end\" x=\"94\" y=\"4.199999999999999\" style=\"font-family: 'Open Sans', verdana, arial, sans-serif; font-size: 12px; fill: rgb(42, 63, 95); fill-opacity: 1; white-space: pre; opacity: 1;\" transform=\"translate(0,3267.3122203098105)\">0%</text></g></g><g class=\"overaxes-above\"/></g><g class=\"subplot x13y13\"><g class=\"layer-subplot\"><g class=\"shapelayer\"/><g class=\"imagelayer\"/></g><g class=\"gridlayer\"><g class=\"x13\"><path class=\"x13grid crisp\" transform=\"translate(130.21,0)\" d=\"M0,3550.886058519793v246.54010327022377\" style=\"stroke: rgb(255, 255, 255); stroke-opacity: 1; stroke-width: 1px;\"/><path class=\"x13grid crisp\" transform=\"translate(268.6,0)\" d=\"M0,3550.886058519793v246.54010327022377\" style=\"stroke: rgb(255, 255, 255); stroke-opacity: 1; stroke-width: 1px;\"/><path class=\"x13grid crisp\" transform=\"translate(406.98,0)\" d=\"M0,3550.886058519793v246.54010327022377\" style=\"stroke: rgb(255, 255, 255); stroke-opacity: 1; stroke-width: 1px;\"/><path class=\"x13grid crisp\" transform=\"translate(545.37,0)\" d=\"M0,3550.886058519793v246.54010327022377\" style=\"stroke: rgb(255, 255, 255); stroke-opacity: 1; stroke-width: 1px;\"/><path class=\"x13grid crisp\" transform=\"translate(683.75,0)\" d=\"M0,3550.886058519793v246.54010327022377\" style=\"stroke: rgb(255, 255, 255); stroke-opacity: 1; stroke-width: 1px;\"/></g><g class=\"y13\"><path class=\"y13grid crisp\" transform=\"translate(0,3738.4760585197932)\" d=\"M95,0h625\" style=\"stroke: rgb(255, 255, 255); stroke-opacity: 1; stroke-width: 1px;\"/><path class=\"y13grid crisp\" transform=\"translate(0,3695.596058519793)\" d=\"M95,0h625\" style=\"stroke: rgb(255, 255, 255); stroke-opacity: 1; stroke-width: 1px;\"/><path class=\"y13grid crisp\" transform=\"translate(0,3652.716058519793)\" d=\"M95,0h625\" style=\"stroke: rgb(255, 255, 255); stroke-opacity: 1; stroke-width: 1px;\"/><path class=\"y13grid crisp\" transform=\"translate(0,3609.836058519793)\" d=\"M95,0h625\" style=\"stroke: rgb(255, 255, 255); stroke-opacity: 1; stroke-width: 1px;\"/><path class=\"y13grid crisp\" transform=\"translate(0,3566.966058519793)\" d=\"M95,0h625\" style=\"stroke: rgb(255, 255, 255); stroke-opacity: 1; stroke-width: 1px;\"/></g></g><g class=\"zerolinelayer\"><path class=\"y13zl zl crisp\" transform=\"translate(0,3781.346058519793)\" d=\"M95,0h625\" style=\"stroke: rgb(255, 255, 255); stroke-opacity: 1; stroke-width: 2px;\"/></g><path class=\"xlines-below\"/><path class=\"ylines-below\"/><g class=\"overlines-below\"/><g class=\"xaxislayer-below\"/><g class=\"yaxislayer-below\"/><g class=\"overaxes-below\"/><g class=\"plot\" transform=\"translate(95,3550.886058519793)\" clip-path=\"url(#clipfa8056x13y13plot)\"><g class=\"scatterlayer mlayer\"><g class=\"trace scatter tracefa0a754b-bfdf-4223-b2c3-6fc18c0d4ba1\" style=\"stroke-miterlimit: 2;\"><g class=\"fills\"><g><path class=\"js-fill\" d=\"M35.21,230.46L450.37,230.46L588.75,225.1L588.75,16.08L35.21,16.08Z\" style=\"fill: rgb(227, 119, 194); fill-opacity: 0.3; stroke-width: 0;\"/></g></g><g class=\"errorbars\"/><g class=\"lines\"><path class=\"js-line\" d=\"M35.21,16.08L588.75,16.08\" style=\"vector-effect: non-scaling-stroke; fill: none; stroke: rgb(0, 0, 0); stroke-opacity: 0; stroke-width: 0px; opacity: 1;\"/></g><g class=\"points\"><path class=\"point\" transform=\"translate(35.21,16.08)\" d=\"M3,0A3,3 0 1,1 0,-3A3,3 0 0,1 3,0Z\" style=\"opacity: 1; stroke-width: 0px; fill: rgb(0, 0, 0); fill-opacity: 0;\"/><path class=\"point\" transform=\"translate(173.6,16.08)\" d=\"M3,0A3,3 0 1,1 0,-3A3,3 0 0,1 3,0Z\" style=\"opacity: 1; stroke-width: 0px; fill: rgb(0, 0, 0); fill-opacity: 0;\"/><path class=\"point\" transform=\"translate(311.98,16.08)\" d=\"M3,0A3,3 0 1,1 0,-3A3,3 0 0,1 3,0Z\" style=\"opacity: 1; stroke-width: 0px; fill: rgb(0, 0, 0); fill-opacity: 0;\"/><path class=\"point\" transform=\"translate(450.37,16.08)\" d=\"M3,0A3,3 0 1,1 0,-3A3,3 0 0,1 3,0Z\" style=\"opacity: 1; stroke-width: 0px; fill: rgb(0, 0, 0); fill-opacity: 0;\"/><path class=\"point\" transform=\"translate(588.75,16.08)\" d=\"M3,0A3,3 0 1,1 0,-3A3,3 0 0,1 3,0Z\" style=\"opacity: 1; stroke-width: 0px; fill: rgb(0, 0, 0); fill-opacity: 0;\"/></g><g class=\"text\"/></g><g class=\"trace scatter trace29013d63-ae5c-4702-9eb8-3f393cb69781\" style=\"stroke-miterlimit: 2;\"><g class=\"fills\"/><g class=\"errorbars\"/><g class=\"lines\"><path class=\"js-line\" d=\"M35.21,230.46L450.37,230.46L588.75,225.1\" style=\"vector-effect: non-scaling-stroke; fill: none; stroke: rgb(0, 0, 0); stroke-opacity: 0; stroke-width: 0px; opacity: 1;\"/></g><g class=\"points\"><path class=\"point\" transform=\"translate(35.21,230.46)\" d=\"M3,0A3,3 0 1,1 0,-3A3,3 0 0,1 3,0Z\" style=\"opacity: 1; stroke-width: 0px; fill: rgb(0, 0, 0); fill-opacity: 0;\"/><path class=\"point\" transform=\"translate(173.6,230.25)\" d=\"M3,0A3,3 0 1,1 0,-3A3,3 0 0,1 3,0Z\" style=\"opacity: 1; stroke-width: 0px; fill: rgb(0, 0, 0); fill-opacity: 0;\"/><path class=\"point\" transform=\"translate(311.98,230.46)\" d=\"M3,0A3,3 0 1,1 0,-3A3,3 0 0,1 3,0Z\" style=\"opacity: 1; stroke-width: 0px; fill: rgb(0, 0, 0); fill-opacity: 0;\"/><path class=\"point\" transform=\"translate(450.37,230.46)\" d=\"M3,0A3,3 0 1,1 0,-3A3,3 0 0,1 3,0Z\" style=\"opacity: 1; stroke-width: 0px; fill: rgb(0, 0, 0); fill-opacity: 0;\"/><path class=\"point\" transform=\"translate(588.75,225.1)\" d=\"M3,0A3,3 0 1,1 0,-3A3,3 0 0,1 3,0Z\" style=\"opacity: 1; stroke-width: 0px; fill: rgb(0, 0, 0); fill-opacity: 0;\"/></g><g class=\"text\"/></g><g class=\"trace scatter trace631bae02-9f42-49cb-b1b8-e03409c2650d\" style=\"stroke-miterlimit: 2; opacity: 1;\"><g class=\"fills\"/><g class=\"errorbars\"/><g class=\"lines\"><path class=\"js-line\" d=\"M35.21,230.46L450.37,230.46L588.75,225.1\" style=\"vector-effect: non-scaling-stroke; fill: none; stroke: rgb(227, 119, 194); stroke-opacity: 1; stroke-width: 2px; opacity: 1;\"/></g><g class=\"points\"><path class=\"point\" transform=\"translate(35.21,230.46)\" d=\"M3,0A3,3 0 1,1 0,-3A3,3 0 0,1 3,0Z\" style=\"opacity: 1; stroke-width: 0px; fill: rgb(227, 119, 194); fill-opacity: 1;\"/><path class=\"point\" transform=\"translate(173.6,230.25)\" d=\"M3,0A3,3 0 1,1 0,-3A3,3 0 0,1 3,0Z\" style=\"opacity: 1; stroke-width: 0px; fill: rgb(227, 119, 194); fill-opacity: 1;\"/><path class=\"point\" transform=\"translate(311.98,230.46)\" d=\"M3,0A3,3 0 1,1 0,-3A3,3 0 0,1 3,0Z\" style=\"opacity: 1; stroke-width: 0px; fill: rgb(227, 119, 194); fill-opacity: 1;\"/><path class=\"point\" transform=\"translate(450.37,230.46)\" d=\"M3,0A3,3 0 1,1 0,-3A3,3 0 0,1 3,0Z\" style=\"opacity: 1; stroke-width: 0px; fill: rgb(227, 119, 194); fill-opacity: 1;\"/><path class=\"point\" transform=\"translate(588.75,225.1)\" d=\"M3,0A3,3 0 1,1 0,-3A3,3 0 0,1 3,0Z\" style=\"opacity: 1; stroke-width: 0px; fill: rgb(227, 119, 194); fill-opacity: 1;\"/></g><g class=\"text\"/></g><g class=\"trace scatter tracea8a389c2-a495-4051-b1cd-cf2039845a30\" style=\"stroke-miterlimit: 2; opacity: 0;\"><g class=\"fills\"/><g class=\"errorbars\"/><g class=\"lines\"><path class=\"js-line\" d=\"M35.21,16.08L588.75,16.08\" style=\"vector-effect: non-scaling-stroke; fill: none; stroke: rgb(0, 0, 0); stroke-opacity: 0; stroke-width: 0px; opacity: 1;\"/></g><g class=\"points\"><path class=\"point\" transform=\"translate(35.21,16.08)\" d=\"M3,0A3,3 0 1,1 0,-3A3,3 0 0,1 3,0Z\" style=\"opacity: 1; stroke-width: 0px; fill: rgb(0, 0, 0); fill-opacity: 0;\"/><path class=\"point\" transform=\"translate(173.6,16.08)\" d=\"M3,0A3,3 0 1,1 0,-3A3,3 0 0,1 3,0Z\" style=\"opacity: 1; stroke-width: 0px; fill: rgb(0, 0, 0); fill-opacity: 0;\"/><path class=\"point\" transform=\"translate(311.98,16.08)\" d=\"M3,0A3,3 0 1,1 0,-3A3,3 0 0,1 3,0Z\" style=\"opacity: 1; stroke-width: 0px; fill: rgb(0, 0, 0); fill-opacity: 0;\"/><path class=\"point\" transform=\"translate(450.37,16.08)\" d=\"M3,0A3,3 0 1,1 0,-3A3,3 0 0,1 3,0Z\" style=\"opacity: 1; stroke-width: 0px; fill: rgb(0, 0, 0); fill-opacity: 0;\"/><path class=\"point\" transform=\"translate(588.75,16.08)\" d=\"M3,0A3,3 0 1,1 0,-3A3,3 0 0,1 3,0Z\" style=\"opacity: 1; stroke-width: 0px; fill: rgb(0, 0, 0); fill-opacity: 0;\"/></g><g class=\"text\"/></g></g></g><g class=\"overplot\"/><path class=\"xlines-above crisp\" d=\"M0,0\" style=\"fill: none;\"/><path class=\"ylines-above crisp\" d=\"M0,0\" style=\"fill: none;\"/><g class=\"overlines-above\"/><g class=\"xaxislayer-above\"/><g class=\"yaxislayer-above\"><g class=\"y13tick\"><text text-anchor=\"end\" x=\"94\" y=\"4.199999999999999\" transform=\"translate(0,3781.346058519793)\" style=\"font-family: 'Open Sans', verdana, arial, sans-serif; font-size: 12px; fill: rgb(42, 63, 95); fill-opacity: 1; white-space: pre; opacity: 1;\">0</text></g><g class=\"y13tick\"><text text-anchor=\"end\" x=\"94\" y=\"4.199999999999999\" style=\"font-family: 'Open Sans', verdana, arial, sans-serif; font-size: 12px; fill: rgb(42, 63, 95); fill-opacity: 1; white-space: pre; opacity: 1;\" transform=\"translate(0,3738.4760585197932)\">0.2</text></g><g class=\"y13tick\"><text text-anchor=\"end\" x=\"94\" y=\"4.199999999999999\" style=\"font-family: 'Open Sans', verdana, arial, sans-serif; font-size: 12px; fill: rgb(42, 63, 95); fill-opacity: 1; white-space: pre; opacity: 1;\" transform=\"translate(0,3695.596058519793)\">0.4</text></g><g class=\"y13tick\"><text text-anchor=\"end\" x=\"94\" y=\"4.199999999999999\" style=\"font-family: 'Open Sans', verdana, arial, sans-serif; font-size: 12px; fill: rgb(42, 63, 95); fill-opacity: 1; white-space: pre; opacity: 1;\" transform=\"translate(0,3652.716058519793)\">0.6</text></g><g class=\"y13tick\"><text text-anchor=\"end\" x=\"94\" y=\"4.199999999999999\" style=\"font-family: 'Open Sans', verdana, arial, sans-serif; font-size: 12px; fill: rgb(42, 63, 95); fill-opacity: 1; white-space: pre; opacity: 1;\" transform=\"translate(0,3609.836058519793)\">0.8</text></g><g class=\"y13tick\"><text text-anchor=\"end\" x=\"94\" y=\"4.199999999999999\" style=\"font-family: 'Open Sans', verdana, arial, sans-serif; font-size: 12px; fill: rgb(42, 63, 95); fill-opacity: 1; white-space: pre; opacity: 1;\" transform=\"translate(0,3566.966058519793)\">1</text></g></g><g class=\"overaxes-above\"/></g><g class=\"subplot x14y14\"><g class=\"layer-subplot\"><g class=\"shapelayer\"/><g class=\"imagelayer\"/></g><g class=\"gridlayer\"><g class=\"x14\"><path class=\"x14grid crisp\" transform=\"translate(130.21,0)\" d=\"M0,3835.459896729776v246.54010327022377\" style=\"stroke: rgb(255, 255, 255); stroke-opacity: 1; stroke-width: 1px;\"/><path class=\"x14grid crisp\" transform=\"translate(268.6,0)\" d=\"M0,3835.459896729776v246.54010327022377\" style=\"stroke: rgb(255, 255, 255); stroke-opacity: 1; stroke-width: 1px;\"/><path class=\"x14grid crisp\" transform=\"translate(406.98,0)\" d=\"M0,3835.459896729776v246.54010327022377\" style=\"stroke: rgb(255, 255, 255); stroke-opacity: 1; stroke-width: 1px;\"/><path class=\"x14grid crisp\" transform=\"translate(545.37,0)\" d=\"M0,3835.459896729776v246.54010327022377\" style=\"stroke: rgb(255, 255, 255); stroke-opacity: 1; stroke-width: 1px;\"/><path class=\"x14grid crisp\" transform=\"translate(683.75,0)\" d=\"M0,3835.459896729776v246.54010327022377\" style=\"stroke: rgb(255, 255, 255); stroke-opacity: 1; stroke-width: 1px;\"/></g><g class=\"y14\"><path class=\"y14grid crisp\" transform=\"translate(0,4023.109896729776)\" d=\"M95,0h625\" style=\"stroke: rgb(255, 255, 255); stroke-opacity: 1; stroke-width: 1px;\"/><path class=\"y14grid crisp\" transform=\"translate(0,3980.2998967297763)\" d=\"M95,0h625\" style=\"stroke: rgb(255, 255, 255); stroke-opacity: 1; stroke-width: 1px;\"/><path class=\"y14grid crisp\" transform=\"translate(0,3937.4898967297763)\" d=\"M95,0h625\" style=\"stroke: rgb(255, 255, 255); stroke-opacity: 1; stroke-width: 1px;\"/><path class=\"y14grid crisp\" transform=\"translate(0,3894.679896729776)\" d=\"M95,0h625\" style=\"stroke: rgb(255, 255, 255); stroke-opacity: 1; stroke-width: 1px;\"/><path class=\"y14grid crisp\" transform=\"translate(0,3851.869896729776)\" d=\"M95,0h625\" style=\"stroke: rgb(255, 255, 255); stroke-opacity: 1; stroke-width: 1px;\"/></g></g><g class=\"zerolinelayer\"><path class=\"y14zl zl crisp\" transform=\"translate(0,4065.919896729776)\" d=\"M95,0h625\" style=\"stroke: rgb(255, 255, 255); stroke-opacity: 1; stroke-width: 2px;\"/></g><path class=\"xlines-below\"/><path class=\"ylines-below\"/><g class=\"overlines-below\"/><g class=\"xaxislayer-below\"/><g class=\"yaxislayer-below\"/><g class=\"overaxes-below\"/><g class=\"plot\" transform=\"translate(95,3835.459896729776)\" clip-path=\"url(#clipfa8056x14y14plot)\"><g class=\"scatterlayer mlayer\"><g class=\"trace scatter traceea237f08-1a7f-4905-b6d9-23a5a248f62a\" style=\"stroke-miterlimit: 2;\"><g class=\"fills\"><g><path class=\"js-fill\" d=\"M35.21,230.46L173.6,221.9L311.98,230.46L450.37,230.46L588.75,16.08L588.75,230.46L35.21,230.46Z\" style=\"fill: rgb(227, 119, 194); fill-opacity: 0.3; stroke-width: 0;\"/></g></g><g class=\"errorbars\"/><g class=\"lines\"><path class=\"js-line\" d=\"M35.21,230.46L588.75,230.46\" style=\"vector-effect: non-scaling-stroke; fill: none; stroke: rgb(0, 0, 0); stroke-opacity: 0; stroke-width: 0px; opacity: 1;\"/></g><g class=\"points\"><path class=\"point\" transform=\"translate(35.21,230.46)\" d=\"M3,0A3,3 0 1,1 0,-3A3,3 0 0,1 3,0Z\" style=\"opacity: 1; stroke-width: 0px; fill: rgb(0, 0, 0); fill-opacity: 0;\"/><path class=\"point\" transform=\"translate(173.6,230.46)\" d=\"M3,0A3,3 0 1,1 0,-3A3,3 0 0,1 3,0Z\" style=\"opacity: 1; stroke-width: 0px; fill: rgb(0, 0, 0); fill-opacity: 0;\"/><path class=\"point\" transform=\"translate(311.98,230.46)\" d=\"M3,0A3,3 0 1,1 0,-3A3,3 0 0,1 3,0Z\" style=\"opacity: 1; stroke-width: 0px; fill: rgb(0, 0, 0); fill-opacity: 0;\"/><path class=\"point\" transform=\"translate(450.37,230.46)\" d=\"M3,0A3,3 0 1,1 0,-3A3,3 0 0,1 3,0Z\" style=\"opacity: 1; stroke-width: 0px; fill: rgb(0, 0, 0); fill-opacity: 0;\"/><path class=\"point\" transform=\"translate(588.75,230.46)\" d=\"M3,0A3,3 0 1,1 0,-3A3,3 0 0,1 3,0Z\" style=\"opacity: 1; stroke-width: 0px; fill: rgb(0, 0, 0); fill-opacity: 0;\"/></g><g class=\"text\"/></g><g class=\"trace scatter trace3b47cb6f-f111-4149-ab47-859edd97cace\" style=\"stroke-miterlimit: 2;\"><g class=\"fills\"/><g class=\"errorbars\"/><g class=\"lines\"><path class=\"js-line\" d=\"M35.21,230.46L173.6,221.9L311.98,230.46L450.37,230.46L588.75,16.08\" style=\"vector-effect: non-scaling-stroke; fill: none; stroke: rgb(0, 0, 0); stroke-opacity: 0; stroke-width: 0px; opacity: 1;\"/></g><g class=\"points\"><path class=\"point\" transform=\"translate(35.21,230.46)\" d=\"M3,0A3,3 0 1,1 0,-3A3,3 0 0,1 3,0Z\" style=\"opacity: 1; stroke-width: 0px; fill: rgb(0, 0, 0); fill-opacity: 0;\"/><path class=\"point\" transform=\"translate(173.6,221.9)\" d=\"M3,0A3,3 0 1,1 0,-3A3,3 0 0,1 3,0Z\" style=\"opacity: 1; stroke-width: 0px; fill: rgb(0, 0, 0); fill-opacity: 0;\"/><path class=\"point\" transform=\"translate(311.98,230.46)\" d=\"M3,0A3,3 0 1,1 0,-3A3,3 0 0,1 3,0Z\" style=\"opacity: 1; stroke-width: 0px; fill: rgb(0, 0, 0); fill-opacity: 0;\"/><path class=\"point\" transform=\"translate(450.37,230.46)\" d=\"M3,0A3,3 0 1,1 0,-3A3,3 0 0,1 3,0Z\" style=\"opacity: 1; stroke-width: 0px; fill: rgb(0, 0, 0); fill-opacity: 0;\"/><path class=\"point\" transform=\"translate(588.75,16.08)\" d=\"M3,0A3,3 0 1,1 0,-3A3,3 0 0,1 3,0Z\" style=\"opacity: 1; stroke-width: 0px; fill: rgb(0, 0, 0); fill-opacity: 0;\"/></g><g class=\"text\"/></g><g class=\"trace scatter trace54244182-0e80-4073-a540-bec3dfab0575\" style=\"stroke-miterlimit: 2; opacity: 1;\"><g class=\"fills\"/><g class=\"errorbars\"/><g class=\"lines\"><path class=\"js-line\" d=\"M35.21,230.46L173.6,221.9L311.98,230.46L450.37,230.46L588.75,16.08\" style=\"vector-effect: non-scaling-stroke; fill: none; stroke: rgb(227, 119, 194); stroke-opacity: 1; stroke-width: 2px; opacity: 1;\"/></g><g class=\"points\"><path class=\"point\" transform=\"translate(35.21,230.46)\" d=\"M3,0A3,3 0 1,1 0,-3A3,3 0 0,1 3,0Z\" style=\"opacity: 1; stroke-width: 0px; fill: rgb(227, 119, 194); fill-opacity: 1;\"/><path class=\"point\" transform=\"translate(173.6,221.9)\" d=\"M3,0A3,3 0 1,1 0,-3A3,3 0 0,1 3,0Z\" style=\"opacity: 1; stroke-width: 0px; fill: rgb(227, 119, 194); fill-opacity: 1;\"/><path class=\"point\" transform=\"translate(311.98,230.46)\" d=\"M3,0A3,3 0 1,1 0,-3A3,3 0 0,1 3,0Z\" style=\"opacity: 1; stroke-width: 0px; fill: rgb(227, 119, 194); fill-opacity: 1;\"/><path class=\"point\" transform=\"translate(450.37,230.46)\" d=\"M3,0A3,3 0 1,1 0,-3A3,3 0 0,1 3,0Z\" style=\"opacity: 1; stroke-width: 0px; fill: rgb(227, 119, 194); fill-opacity: 1;\"/><path class=\"point\" transform=\"translate(588.75,16.08)\" d=\"M3,0A3,3 0 1,1 0,-3A3,3 0 0,1 3,0Z\" style=\"opacity: 1; stroke-width: 0px; fill: rgb(227, 119, 194); fill-opacity: 1;\"/></g><g class=\"text\"/></g><g class=\"trace scatter trace388dbeff-494c-40c7-84ca-7a22ee503aac\" style=\"stroke-miterlimit: 2; opacity: 0;\"><g class=\"fills\"/><g class=\"errorbars\"/><g class=\"lines\"><path class=\"js-line\" d=\"M35.21,230.46L588.75,230.46\" style=\"vector-effect: non-scaling-stroke; fill: none; stroke: rgb(0, 0, 0); stroke-opacity: 0; stroke-width: 0px; opacity: 1;\"/></g><g class=\"points\"><path class=\"point\" transform=\"translate(35.21,230.46)\" d=\"M3,0A3,3 0 1,1 0,-3A3,3 0 0,1 3,0Z\" style=\"opacity: 1; stroke-width: 0px; fill: rgb(0, 0, 0); fill-opacity: 0;\"/><path class=\"point\" transform=\"translate(173.6,230.46)\" d=\"M3,0A3,3 0 1,1 0,-3A3,3 0 0,1 3,0Z\" style=\"opacity: 1; stroke-width: 0px; fill: rgb(0, 0, 0); fill-opacity: 0;\"/><path class=\"point\" transform=\"translate(311.98,230.46)\" d=\"M3,0A3,3 0 1,1 0,-3A3,3 0 0,1 3,0Z\" style=\"opacity: 1; stroke-width: 0px; fill: rgb(0, 0, 0); fill-opacity: 0;\"/><path class=\"point\" transform=\"translate(450.37,230.46)\" d=\"M3,0A3,3 0 1,1 0,-3A3,3 0 0,1 3,0Z\" style=\"opacity: 1; stroke-width: 0px; fill: rgb(0, 0, 0); fill-opacity: 0;\"/><path class=\"point\" transform=\"translate(588.75,230.46)\" d=\"M3,0A3,3 0 1,1 0,-3A3,3 0 0,1 3,0Z\" style=\"opacity: 1; stroke-width: 0px; fill: rgb(0, 0, 0); fill-opacity: 0;\"/></g><g class=\"text\"/></g></g></g><g class=\"overplot\"/><path class=\"xlines-above crisp\" d=\"M0,0\" style=\"fill: none;\"/><path class=\"ylines-above crisp\" d=\"M0,0\" style=\"fill: none;\"/><g class=\"overlines-above\"/><g class=\"xaxislayer-above\"><g class=\"x14tick\"><text text-anchor=\"middle\" x=\"0\" y=\"4095\" transform=\"translate(130.21,0)\" style=\"font-family: 'Open Sans', verdana, arial, sans-serif; font-size: 12px; fill: rgb(42, 63, 95); fill-opacity: 1; white-space: pre; opacity: 1;\"><tspan class=\"line\" dy=\"0em\" x=\"0\" y=\"4095\">Jan 1</tspan><tspan class=\"line\" dy=\"1.3em\" x=\"0\" y=\"4095\">2020</tspan></text></g><g class=\"x14tick\"><text text-anchor=\"middle\" x=\"0\" y=\"4095\" style=\"font-family: 'Open Sans', verdana, arial, sans-serif; font-size: 12px; fill: rgb(42, 63, 95); fill-opacity: 1; white-space: pre; opacity: 1;\" transform=\"translate(268.6,0)\">Jan 2</text></g><g class=\"x14tick\"><text text-anchor=\"middle\" x=\"0\" y=\"4095\" style=\"font-family: 'Open Sans', verdana, arial, sans-serif; font-size: 12px; fill: rgb(42, 63, 95); fill-opacity: 1; white-space: pre; opacity: 1;\" transform=\"translate(406.98,0)\">Jan 3</text></g><g class=\"x14tick\"><text text-anchor=\"middle\" x=\"0\" y=\"4095\" style=\"font-family: 'Open Sans', verdana, arial, sans-serif; font-size: 12px; fill: rgb(42, 63, 95); fill-opacity: 1; white-space: pre; opacity: 1;\" transform=\"translate(545.37,0)\">Jan 4</text></g><g class=\"x14tick\"><text text-anchor=\"middle\" x=\"0\" y=\"4095\" style=\"font-family: 'Open Sans', verdana, arial, sans-serif; font-size: 12px; fill: rgb(42, 63, 95); fill-opacity: 1; white-space: pre; opacity: 1;\" transform=\"translate(683.75,0)\">Jan 5</text></g></g><g class=\"yaxislayer-above\"><g class=\"y14tick\"><text text-anchor=\"end\" x=\"94\" y=\"4.199999999999999\" transform=\"translate(0,4065.919896729776)\" style=\"font-family: 'Open Sans', verdana, arial, sans-serif; font-size: 12px; fill: rgb(42, 63, 95); fill-opacity: 1; white-space: pre; opacity: 1;\">0</text></g><g class=\"y14tick\"><text text-anchor=\"end\" x=\"94\" y=\"4.199999999999999\" style=\"font-family: 'Open Sans', verdana, arial, sans-serif; font-size: 12px; fill: rgb(42, 63, 95); fill-opacity: 1; white-space: pre; opacity: 1;\" transform=\"translate(0,4023.109896729776)\">0.005</text></g><g class=\"y14tick\"><text text-anchor=\"end\" x=\"94\" y=\"4.199999999999999\" style=\"font-family: 'Open Sans', verdana, arial, sans-serif; font-size: 12px; fill: rgb(42, 63, 95); fill-opacity: 1; white-space: pre; opacity: 1;\" transform=\"translate(0,3980.2998967297763)\">0.01</text></g><g class=\"y14tick\"><text text-anchor=\"end\" x=\"94\" y=\"4.199999999999999\" style=\"font-family: 'Open Sans', verdana, arial, sans-serif; font-size: 12px; fill: rgb(42, 63, 95); fill-opacity: 1; white-space: pre; opacity: 1;\" transform=\"translate(0,3937.4898967297763)\">0.015</text></g><g class=\"y14tick\"><text text-anchor=\"end\" x=\"94\" y=\"4.199999999999999\" style=\"font-family: 'Open Sans', verdana, arial, sans-serif; font-size: 12px; fill: rgb(42, 63, 95); fill-opacity: 1; white-space: pre; opacity: 1;\" transform=\"translate(0,3894.679896729776)\">0.02</text></g><g class=\"y14tick\"><text text-anchor=\"end\" x=\"94\" y=\"4.199999999999999\" style=\"font-family: 'Open Sans', verdana, arial, sans-serif; font-size: 12px; fill: rgb(42, 63, 95); fill-opacity: 1; white-space: pre; opacity: 1;\" transform=\"translate(0,3851.869896729776)\">0.025</text></g></g><g class=\"overaxes-above\"/></g></g><g class=\"polarlayer\"/><g class=\"ternarylayer\"/><g class=\"geolayer\"/><g class=\"funnelarealayer\"/><g class=\"pielayer\"/><g class=\"iciclelayer\"/><g class=\"treemaplayer\"/><g class=\"sunburstlayer\"/><g class=\"glimages\"/><defs id=\"topdefs-fa8056\"><g class=\"clips\"/><clipPath id=\"legendfa8056\"><rect width=\"609\" height=\"86\" x=\"0\" y=\"0\"/></clipPath></defs><g class=\"layer-above\"><g class=\"imagelayer\"/><g class=\"shapelayer\"><path data-index=\"2\" fill-rule=\"evenodd\" d=\"M95,706.1476764199653L720,706.1476764199653\" clip-path=\"url(#clipfa8056y3)\" style=\"opacity: 1; stroke: rgb(128, 128, 128); stroke-opacity: 1; fill: rgb(0, 0, 0); fill-opacity: 0; stroke-dasharray: 9px, 9px; stroke-width: 2px;\"/><path data-index=\"3\" fill-rule=\"evenodd\" d=\"M95,1200.6915146299482L720,1200.6915146299482\" clip-path=\"url(#clipfa8056y4)\" style=\"opacity: 1; stroke: rgb(128, 128, 128); stroke-opacity: 1; fill: rgb(0, 0, 0); fill-opacity: 0; stroke-dasharray: 9px, 9px; stroke-width: 2px;\"/><path data-index=\"4\" fill-rule=\"evenodd\" d=\"M95,1298.085352839931L720,1298.085352839931\" clip-path=\"url(#clipfa8056y5)\" style=\"opacity: 1; stroke: rgb(128, 128, 128); stroke-opacity: 1; fill: rgb(0, 0, 0); fill-opacity: 0; stroke-dasharray: 9px, 9px; stroke-width: 2px;\"/><path data-index=\"5\" fill-rule=\"evenodd\" d=\"M95,1789.329191049914L720,1789.329191049914\" clip-path=\"url(#clipfa8056y6)\" style=\"opacity: 1; stroke: rgb(128, 128, 128); stroke-opacity: 1; fill: rgb(0, 0, 0); fill-opacity: 0; stroke-dasharray: 9px, 9px; stroke-width: 2px;\"/><path data-index=\"6\" fill-rule=\"evenodd\" d=\"M95,1859.5230292598965L720,1859.5230292598965\" clip-path=\"url(#clipfa8056y7)\" style=\"opacity: 1; stroke: rgb(128, 128, 128); stroke-opacity: 1; fill: rgb(0, 0, 0); fill-opacity: 0; stroke-dasharray: 9px, 9px; stroke-width: 2px;\"/><path data-index=\"7\" fill-rule=\"evenodd\" d=\"M95,2358.476867469879L720,2358.476867469879\" clip-path=\"url(#clipfa8056y8)\" style=\"opacity: 1; stroke: rgb(128, 128, 128); stroke-opacity: 1; fill: rgb(0, 0, 0); fill-opacity: 0; stroke-dasharray: 9px, 9px; stroke-width: 2px;\"/><path data-index=\"8\" fill-rule=\"evenodd\" d=\"M95,2428.6707056798623L720,2428.6707056798623\" clip-path=\"url(#clipfa8056y9)\" style=\"opacity: 1; stroke: rgb(128, 128, 128); stroke-opacity: 1; fill: rgb(0, 0, 0); fill-opacity: 0; stroke-dasharray: 9px, 9px; stroke-width: 2px;\"/><path data-index=\"9\" fill-rule=\"evenodd\" d=\"M95,2927.4045438898456L720,2927.4045438898456\" clip-path=\"url(#clipfa8056y10)\" style=\"opacity: 1; stroke: rgb(128, 128, 128); stroke-opacity: 1; fill: rgb(0, 0, 0); fill-opacity: 0; stroke-dasharray: 9px, 9px; stroke-width: 2px;\"/><path data-index=\"11\" fill-rule=\"evenodd\" d=\"M95,3267.3122203098105L720,3267.3122203098105\" clip-path=\"url(#clipfa8056y12)\" style=\"opacity: 1; stroke: rgb(128, 128, 128); stroke-opacity: 1; fill: rgb(0, 0, 0); fill-opacity: 0; stroke-dasharray: 9px, 9px; stroke-width: 2px;\"/><path data-index=\"12\" fill-rule=\"evenodd\" d=\"M95,3566.966058519793L720,3566.966058519793\" clip-path=\"url(#clipfa8056y13)\" style=\"opacity: 1; stroke: rgb(128, 128, 128); stroke-opacity: 1; fill: rgb(0, 0, 0); fill-opacity: 0; stroke-dasharray: 9px, 9px; stroke-width: 2px;\"/><path data-index=\"13\" fill-rule=\"evenodd\" d=\"M95,4065.919896729776L720,4065.919896729776\" clip-path=\"url(#clipfa8056y14)\" style=\"opacity: 1; stroke: rgb(128, 128, 128); stroke-opacity: 1; fill: rgb(0, 0, 0); fill-opacity: 0; stroke-dasharray: 9px, 9px; stroke-width: 2px;\"/></g></g><g class=\"infolayer\"><g class=\"legend\" pointer-events=\"all\" transform=\"translate(111,11.966265060240659)\"><rect class=\"bg\" shape-rendering=\"crispEdges\" width=\"609\" height=\"86\" x=\"0\" y=\"0\" style=\"stroke: rgb(68, 68, 68); stroke-opacity: 1; fill: rgb(255, 255, 255); fill-opacity: 1; stroke-width: 0px;\"/><g class=\"scrollbox\" transform=\"\" clip-path=\"url(#legendfa8056)\"><g class=\"groups\"><g class=\"traces\" transform=\"translate(0,14.5)\" style=\"opacity: 1;\"><text class=\"legendtext\" text-anchor=\"start\" x=\"40\" y=\"4.680000000000001\" style=\"font-family: 'Open Sans', verdana, arial, sans-serif; font-size: 12px; fill: rgb(42, 63, 95); fill-opacity: 1; white-space: pre;\">Close</text><g class=\"layers\" style=\"opacity: 1;\"><g class=\"legendfill\"/><g class=\"legendlines\"><path class=\"js-line\" d=\"M5,0h30\" style=\"fill: none; stroke: rgb(31, 119, 180); stroke-opacity: 1; stroke-width: 2px;\"/></g><g class=\"legendsymbols\"><g class=\"legendpoints\"><path class=\"scatterpts\" transform=\"translate(20,0)\" d=\"M3,0A3,3 0 1,1 0,-3A3,3 0 0,1 3,0Z\" style=\"opacity: 1; stroke-width: 0px; fill: rgb(31, 119, 180); fill-opacity: 1;\"/></g></g></g><rect class=\"legendtoggle\" x=\"0\" y=\"-9.5\" width=\"74.859375\" height=\"19\" style=\"fill: rgb(0, 0, 0); fill-opacity: 0;\"/></g><g class=\"traces\" transform=\"translate(125.1875,14.5)\" style=\"opacity: 1;\"><text class=\"legendtext\" text-anchor=\"start\" x=\"40\" y=\"4.680000000000001\" style=\"font-family: 'Open Sans', verdana, arial, sans-serif; font-size: 12px; fill: rgb(42, 63, 95); fill-opacity: 1; white-space: pre;\">Buy</text><g class=\"layers\" style=\"opacity: 1;\"><g class=\"legendfill\"/><g class=\"legendlines\"/><g class=\"legendsymbols\"><g class=\"legendpoints\"><path class=\"scatterpts\" transform=\"translate(20,0)\" d=\"M-4.62,2H4.62L0,-4Z\" style=\"opacity: 1; stroke-width: 1px; fill: rgb(55, 177, 63); fill-opacity: 1; stroke: rgb(38, 123, 44); stroke-opacity: 1;\"/></g></g></g><rect class=\"legendtoggle\" x=\"0\" y=\"-9.5\" width=\"65.421875\" height=\"19\" style=\"fill: rgb(0, 0, 0); fill-opacity: 0;\"/></g><g class=\"traces\" transform=\"translate(250.375,14.5)\" style=\"opacity: 1;\"><text class=\"legendtext\" text-anchor=\"start\" x=\"40\" y=\"4.680000000000001\" style=\"font-family: 'Open Sans', verdana, arial, sans-serif; font-size: 12px; fill: rgb(42, 63, 95); fill-opacity: 1; white-space: pre;\">Sell</text><g class=\"layers\" style=\"opacity: 1;\"><g class=\"legendfill\"/><g class=\"legendlines\"/><g class=\"legendsymbols\"><g class=\"legendpoints\"><path class=\"scatterpts\" transform=\"translate(20,0)\" d=\"M-4.62,-2H4.62L0,4Z\" style=\"opacity: 1; stroke-width: 1px; fill: rgb(234, 67, 53); fill-opacity: 1; stroke: rgb(181, 31, 18); stroke-opacity: 1;\"/></g></g></g><rect class=\"legendtoggle\" x=\"0\" y=\"-9.5\" width=\"64.4375\" height=\"19\" style=\"fill: rgb(0, 0, 0); fill-opacity: 0;\"/></g><g class=\"traces\" transform=\"translate(375.5625,14.5)\" style=\"opacity: 1;\"><text class=\"legendtext\" text-anchor=\"start\" x=\"40\" y=\"4.680000000000001\" style=\"font-family: 'Open Sans', verdana, arial, sans-serif; font-size: 12px; fill: rgb(42, 63, 95); fill-opacity: 1; white-space: pre;\">Entry</text><g class=\"layers\" style=\"opacity: 1;\"><g class=\"legendfill\"/><g class=\"legendlines\"/><g class=\"legendsymbols\"><g class=\"legendpoints\"><path class=\"scatterpts\" transform=\"translate(20,0)\" d=\"M3.5,3.5H-3.5V-3.5H3.5Z\" style=\"opacity: 1; stroke-width: 1px; fill: rgb(66, 133, 244); fill-opacity: 1; stroke: rgb(11, 84, 205); stroke-opacity: 1;\"/></g></g></g><rect class=\"legendtoggle\" x=\"0\" y=\"-9.5\" width=\"74.640625\" height=\"19\" style=\"fill: rgb(0, 0, 0); fill-opacity: 0;\"/></g><g class=\"traces\" transform=\"translate(500.75,14.5)\" style=\"opacity: 1;\"><text class=\"legendtext\" text-anchor=\"start\" x=\"40\" y=\"4.680000000000001\" style=\"font-family: 'Open Sans', verdana, arial, sans-serif; font-size: 12px; fill: rgb(42, 63, 95); fill-opacity: 1; white-space: pre;\">Exit - Loss</text><g class=\"layers\" style=\"opacity: 1;\"><g class=\"legendfill\"/><g class=\"legendlines\"/><g class=\"legendsymbols\"><g class=\"legendpoints\"><path class=\"scatterpts\" transform=\"translate(20,0)\" d=\"M3.5,3.5H-3.5V-3.5H3.5Z\" style=\"opacity: 1; stroke-width: 1px; fill: rgb(234, 67, 53); fill-opacity: 1; stroke: rgb(181, 31, 18); stroke-opacity: 1;\"/></g></g></g><rect class=\"legendtoggle\" x=\"0\" y=\"-9.5\" width=\"105.578125\" height=\"19\" style=\"fill: rgb(0, 0, 0); fill-opacity: 0;\"/></g><g class=\"traces\" transform=\"translate(0,33.5)\" style=\"opacity: 1;\"><text class=\"legendtext\" text-anchor=\"start\" x=\"40\" y=\"4.680000000000001\" style=\"font-family: 'Open Sans', verdana, arial, sans-serif; font-size: 12px; fill: rgb(42, 63, 95); fill-opacity: 1; white-space: pre;\">Active</text><g class=\"layers\" style=\"opacity: 1;\"><g class=\"legendfill\"/><g class=\"legendlines\"/><g class=\"legendsymbols\"><g class=\"legendpoints\"><path class=\"scatterpts\" transform=\"translate(20,0)\" d=\"M3.5,3.5H-3.5V-3.5H3.5Z\" style=\"opacity: 1; stroke-width: 1px; fill: rgb(255, 170, 0); fill-opacity: 1; stroke: rgb(178, 118, 0); stroke-opacity: 1;\"/></g></g></g><rect class=\"legendtoggle\" x=\"0\" y=\"-9.5\" width=\"79.234375\" height=\"19\" style=\"fill: rgb(0, 0, 0); fill-opacity: 0;\"/></g><g class=\"traces\" transform=\"translate(125.1875,33.5)\" style=\"opacity: 1;\"><text class=\"legendtext\" text-anchor=\"start\" x=\"40\" y=\"4.680000000000001\" style=\"font-family: 'Open Sans', verdana, arial, sans-serif; font-size: 12px; fill: rgb(42, 63, 95); fill-opacity: 1; white-space: pre;\">Closed - Loss</text><g class=\"layers\" style=\"opacity: 1;\"><g class=\"legendfill\"/><g class=\"legendlines\"/><g class=\"legendsymbols\"><g class=\"legendpoints\"><path class=\"scatterpts\" transform=\"translate(20,0)\" d=\"M7,0A7,7 0 1,1 0,-7A7,7 0 0,1 7,0Z\" style=\"opacity: 0.9; stroke-width: 1px; fill: rgb(234, 67, 53); fill-opacity: 1; stroke: rgb(181, 31, 18); stroke-opacity: 1;\"/></g></g></g><rect class=\"legendtoggle\" x=\"0\" y=\"-9.5\" width=\"122.6875\" height=\"19\" style=\"fill: rgb(0, 0, 0); fill-opacity: 0;\"/></g><g class=\"traces\" transform=\"translate(250.375,33.5)\" style=\"opacity: 1;\"><text class=\"legendtext\" text-anchor=\"start\" x=\"40\" y=\"4.680000000000001\" style=\"font-family: 'Open Sans', verdana, arial, sans-serif; font-size: 12px; fill: rgb(42, 63, 95); fill-opacity: 1; white-space: pre;\">Open</text><g class=\"layers\" style=\"opacity: 1;\"><g class=\"legendfill\"/><g class=\"legendlines\"/><g class=\"legendsymbols\"><g class=\"legendpoints\"><path class=\"scatterpts\" transform=\"translate(20,0)\" d=\"M3.5,0A3.5,3.5 0 1,1 0,-3.5A3.5,3.5 0 0,1 3.5,0Z\" style=\"opacity: 0.75; stroke-width: 1px; fill: rgb(255, 170, 0); fill-opacity: 1; stroke: rgb(178, 118, 0); stroke-opacity: 1;\"/></g></g></g><rect class=\"legendtoggle\" x=\"0\" y=\"-9.5\" width=\"74.171875\" height=\"19\" style=\"fill: rgb(0, 0, 0); fill-opacity: 0;\"/></g><g class=\"traces\" transform=\"translate(375.5625,33.5)\" style=\"opacity: 1;\"><text class=\"legendtext\" text-anchor=\"start\" x=\"40\" y=\"4.680000000000001\" style=\"font-family: 'Open Sans', verdana, arial, sans-serif; font-size: 12px; fill: rgb(42, 63, 95); fill-opacity: 1; white-space: pre;\">Assets</text><g class=\"layers\" style=\"opacity: 1;\"><g class=\"legendfill\"/><g class=\"legendlines\"><path class=\"js-line\" d=\"M5,0h30\" style=\"fill: none; stroke: rgb(140, 86, 75); stroke-opacity: 1; stroke-width: 2px;\"/></g><g class=\"legendsymbols\"><g class=\"legendpoints\"><path class=\"scatterpts\" transform=\"translate(20,0)\" d=\"M3,0A3,3 0 1,1 0,-3A3,3 0 0,1 3,0Z\" style=\"opacity: 1; stroke-width: 0px; fill: rgb(140, 86, 75); fill-opacity: 1;\"/></g></g></g><rect class=\"legendtoggle\" x=\"0\" y=\"-9.5\" width=\"81.34375\" height=\"19\" style=\"fill: rgb(0, 0, 0); fill-opacity: 0;\"/></g><g class=\"traces\" transform=\"translate(500.75,33.5)\" style=\"opacity: 1;\"><text class=\"legendtext\" text-anchor=\"start\" x=\"40\" y=\"4.680000000000001\" style=\"font-family: 'Open Sans', verdana, arial, sans-serif; font-size: 12px; fill: rgb(42, 63, 95); fill-opacity: 1; white-space: pre;\">Cash</text><g class=\"layers\" style=\"opacity: 1;\"><g class=\"legendfill\"/><g class=\"legendlines\"><path class=\"js-line\" d=\"M5,0h30\" style=\"fill: none; stroke: rgb(44, 160, 44); stroke-opacity: 1; stroke-width: 2px;\"/></g><g class=\"legendsymbols\"><g class=\"legendpoints\"><path class=\"scatterpts\" transform=\"translate(20,0)\" d=\"M3,0A3,3 0 1,1 0,-3A3,3 0 0,1 3,0Z\" style=\"opacity: 1; stroke-width: 0px; fill: rgb(44, 160, 44); fill-opacity: 1;\"/></g></g></g><rect class=\"legendtoggle\" x=\"0\" y=\"-9.5\" width=\"71.9375\" height=\"19\" style=\"fill: rgb(0, 0, 0); fill-opacity: 0;\"/></g><g class=\"traces\" transform=\"translate(0,52.5)\" style=\"opacity: 1;\"><text class=\"legendtext\" text-anchor=\"start\" x=\"40\" y=\"4.680000000000001\" style=\"font-family: 'Open Sans', verdana, arial, sans-serif; font-size: 12px; fill: rgb(42, 63, 95); fill-opacity: 1; white-space: pre;\">Asset Value</text><g class=\"layers\" style=\"opacity: 1;\"><g class=\"legendfill\"/><g class=\"legendlines\"><path class=\"js-line\" d=\"M5,0h30\" style=\"fill: none; stroke: rgb(23, 190, 207); stroke-opacity: 1; stroke-width: 2px;\"/></g><g class=\"legendsymbols\"><g class=\"legendpoints\"><path class=\"scatterpts\" transform=\"translate(20,0)\" d=\"M3,0A3,3 0 1,1 0,-3A3,3 0 0,1 3,0Z\" style=\"opacity: 1; stroke-width: 0px; fill: rgb(23, 190, 207); fill-opacity: 1;\"/></g></g></g><rect class=\"legendtoggle\" x=\"0\" y=\"-9.5\" width=\"112.75\" height=\"19\" style=\"fill: rgb(0, 0, 0); fill-opacity: 0;\"/></g><g class=\"traces\" transform=\"translate(125.1875,52.5)\" style=\"opacity: 1;\"><text class=\"legendtext\" text-anchor=\"start\" x=\"40\" y=\"4.680000000000001\" style=\"font-family: 'Open Sans', verdana, arial, sans-serif; font-size: 12px; fill: rgb(42, 63, 95); fill-opacity: 1; white-space: pre;\">Value</text><g class=\"layers\" style=\"opacity: 1;\"><g class=\"legendfill\"/><g class=\"legendlines\"><path class=\"js-line\" d=\"M5,0h30\" style=\"fill: none; stroke: rgb(148, 103, 189); stroke-opacity: 1; stroke-width: 2px;\"/></g><g class=\"legendsymbols\"><g class=\"legendpoints\"><path class=\"scatterpts\" transform=\"translate(20,0)\" d=\"M3,0A3,3 0 1,1 0,-3A3,3 0 0,1 3,0Z\" style=\"opacity: 1; stroke-width: 0px; fill: rgb(148, 103, 189); fill-opacity: 1;\"/></g></g></g><rect class=\"legendtoggle\" x=\"0\" y=\"-9.5\" width=\"75.953125\" height=\"19\" style=\"fill: rgb(0, 0, 0); fill-opacity: 0;\"/></g><g class=\"traces\" transform=\"translate(250.375,52.5)\" style=\"opacity: 1;\"><text class=\"legendtext\" text-anchor=\"start\" x=\"40\" y=\"4.680000000000001\" style=\"font-family: 'Open Sans', verdana, arial, sans-serif; font-size: 12px; fill: rgb(42, 63, 95); fill-opacity: 1; white-space: pre;\">Benchmark</text><g class=\"layers\" style=\"opacity: 1;\"><g class=\"legendfill\"/><g class=\"legendlines\"><path class=\"js-line\" d=\"M5,0h30\" style=\"fill: none; stroke: rgb(127, 127, 127); stroke-opacity: 1; stroke-width: 2px;\"/></g><g class=\"legendsymbols\"><g class=\"legendpoints\"><path class=\"scatterpts\" transform=\"translate(20,0)\" d=\"M3,0A3,3 0 1,1 0,-3A3,3 0 0,1 3,0Z\" style=\"opacity: 1; stroke-width: 0px; fill: rgb(127, 127, 127); fill-opacity: 1;\"/></g></g></g><rect class=\"legendtoggle\" x=\"0\" y=\"-9.5\" width=\"110.421875\" height=\"19\" style=\"fill: rgb(0, 0, 0); fill-opacity: 0;\"/></g><g class=\"traces\" transform=\"translate(375.5625,52.5)\" style=\"opacity: 1;\"><text class=\"legendtext\" text-anchor=\"start\" x=\"40\" y=\"4.680000000000001\" style=\"font-family: 'Open Sans', verdana, arial, sans-serif; font-size: 12px; fill: rgb(42, 63, 95); fill-opacity: 1; white-space: pre;\">Peak</text><g class=\"layers\" style=\"opacity: 1;\"><g class=\"legendfill\"/><g class=\"legendlines\"/><g class=\"legendsymbols\"><g class=\"legendpoints\"><path class=\"scatterpts\" transform=\"translate(20,0)\" d=\"M4.55,0L0,4.55L-4.55,0L0,-4.55Z\" style=\"opacity: 1; stroke-width: 1px; fill: rgb(66, 133, 244); fill-opacity: 1; stroke: rgb(11, 84, 205); stroke-opacity: 1;\"/></g></g></g><rect class=\"legendtoggle\" x=\"0\" y=\"-9.5\" width=\"71.203125\" height=\"19\" style=\"fill: rgb(0, 0, 0); fill-opacity: 0;\"/></g><g class=\"traces\" transform=\"translate(500.75,52.5)\" style=\"opacity: 1;\"><text class=\"legendtext\" text-anchor=\"start\" x=\"40\" y=\"4.680000000000001\" style=\"font-family: 'Open Sans', verdana, arial, sans-serif; font-size: 12px; fill: rgb(42, 63, 95); fill-opacity: 1; white-space: pre;\">Active</text><g class=\"layers\" style=\"opacity: 1;\"><g class=\"legendfill\"/><g class=\"legendlines\"/><g class=\"legendsymbols\"><g class=\"legendpoints\"><path class=\"scatterpts\" transform=\"translate(20,0)\" d=\"M4.55,0L0,4.55L-4.55,0L0,-4.55Z\" style=\"opacity: 1; stroke-width: 1px; fill: rgb(255, 170, 0); fill-opacity: 1; stroke: rgb(178, 118, 0); stroke-opacity: 1;\"/></g></g></g><rect class=\"legendtoggle\" x=\"0\" y=\"-9.5\" width=\"79.234375\" height=\"19\" style=\"fill: rgb(0, 0, 0); fill-opacity: 0;\"/></g><g class=\"traces\" transform=\"translate(0,71.5)\" style=\"opacity: 1;\"><text class=\"legendtext\" text-anchor=\"start\" x=\"40\" y=\"4.680000000000001\" style=\"font-family: 'Open Sans', verdana, arial, sans-serif; font-size: 12px; fill: rgb(42, 63, 95); fill-opacity: 1; white-space: pre;\">Drawdown</text><g class=\"layers\"><g class=\"legendfill\"><path class=\"js-fill\" d=\"M5,0h30v6h-30z\" style=\"stroke-width: 0; fill: rgb(220, 57, 18); fill-opacity: 0.3;\"/></g><g class=\"legendlines\"><path class=\"js-line\" d=\"M5,0h30\" style=\"fill: none; stroke: rgb(220, 57, 18); stroke-opacity: 1; stroke-width: 2px;\"/></g><g class=\"legendsymbols\"><g class=\"legendpoints\"><path class=\"scatterpts\" transform=\"translate(20,0)\" d=\"M3,0A3,3 0 1,1 0,-3A3,3 0 0,1 3,0Z\" style=\"opacity: 1; stroke-width: 0px; fill: rgb(220, 57, 18); fill-opacity: 1;\"/></g></g></g><rect class=\"legendtoggle\" x=\"0\" y=\"-9.5\" width=\"106.078125\" height=\"19\" style=\"fill: rgb(0, 0, 0); fill-opacity: 0;\"/></g><g class=\"traces\" transform=\"translate(125.1875,71.5)\" style=\"opacity: 1;\"><text class=\"legendtext\" text-anchor=\"start\" x=\"40\" y=\"4.680000000000001\" style=\"font-family: 'Open Sans', verdana, arial, sans-serif; font-size: 12px; fill: rgb(42, 63, 95); fill-opacity: 1; white-space: pre;\">Exposure</text><g class=\"layers\" style=\"opacity: 1;\"><g class=\"legendfill\"/><g class=\"legendlines\"><path class=\"js-line\" d=\"M5,0h30\" style=\"fill: none; stroke: rgb(227, 119, 194); stroke-opacity: 1; stroke-width: 2px;\"/></g><g class=\"legendsymbols\"><g class=\"legendpoints\"><path class=\"scatterpts\" transform=\"translate(20,0)\" d=\"M3,0A3,3 0 1,1 0,-3A3,3 0 0,1 3,0Z\" style=\"opacity: 1; stroke-width: 0px; fill: rgb(227, 119, 194); fill-opacity: 1;\"/></g></g></g><rect class=\"legendtoggle\" x=\"0\" y=\"-9.5\" width=\"98.078125\" height=\"19\" style=\"fill: rgb(0, 0, 0); fill-opacity: 0;\"/></g></g></g><rect class=\"scrollbar\" rx=\"20\" ry=\"3\" width=\"0\" height=\"0\" x=\"0\" y=\"0\" style=\"fill: rgb(128, 139, 164); fill-opacity: 1;\"/></g><g class=\"g-gtitle\"/><g class=\"g-xtitle\"/><g class=\"g-x2title\"/><g class=\"g-x3title\"/><g class=\"g-x4title\"/><g class=\"g-x5title\"/><g class=\"g-x6title\"/><g class=\"g-x7title\"/><g class=\"g-x8title\"/><g class=\"g-x9title\"/><g class=\"g-x10title\"/><g class=\"g-x11title\"/><g class=\"g-x12title\"/><g class=\"g-x13title\"/><g class=\"g-x14title\"><text class=\"x14title\" x=\"407.5\" y=\"4137.909375\" text-anchor=\"middle\" style=\"font-family: 'Open Sans', verdana, arial, sans-serif; font-size: 14px; fill: rgb(42, 63, 95); opacity: 1; font-weight: normal; white-space: pre;\">Index</text></g><g class=\"g-ytitle\"><text class=\"ytitle\" transform=\"rotate(-90,49.575,259.2700516351119)\" x=\"49.575\" y=\"259.2700516351119\" text-anchor=\"middle\" style=\"font-family: 'Open Sans', verdana, arial, sans-serif; font-size: 14px; fill: rgb(42, 63, 95); opacity: 1; font-weight: normal; white-space: pre;\">Price</text></g><g class=\"g-y2title\"><text class=\"y2title\" transform=\"rotate(-90,49.575,543.8438898450945)\" x=\"49.575\" y=\"543.8438898450945\" text-anchor=\"middle\" style=\"font-family: 'Open Sans', verdana, arial, sans-serif; font-size: 14px; fill: rgb(42, 63, 95); opacity: 1; font-weight: normal; white-space: pre;\">Price</text></g><g class=\"g-y3title\" transform=\"translate(2.4365234375,0)\"><text class=\"y3title\" transform=\"rotate(-90,11.575000000000003,828.4177280550771)\" x=\"11.575000000000003\" y=\"828.4177280550771\" text-anchor=\"middle\" style=\"font-family: 'Open Sans', verdana, arial, sans-serif; font-size: 14px; fill: rgb(42, 63, 95); opacity: 1; font-weight: normal; white-space: pre;\">Trade PnL</text></g><g class=\"g-y4title\"><text class=\"y4title\" transform=\"rotate(-90,49.575,1112.99156626506)\" x=\"49.575\" y=\"1112.99156626506\" text-anchor=\"middle\" style=\"font-family: 'Open Sans', verdana, arial, sans-serif; font-size: 14px; fill: rgb(42, 63, 95); opacity: 1; font-weight: normal; white-space: pre;\">Asset flow</text></g><g class=\"g-y5title\"><text class=\"y5title\" transform=\"rotate(-90,51.746875,1397.565404475043)\" x=\"51.746875\" y=\"1397.565404475043\" text-anchor=\"middle\" style=\"font-family: 'Open Sans', verdana, arial, sans-serif; font-size: 14px; fill: rgb(42, 63, 95); opacity: 1; font-weight: normal; white-space: pre;\">Cash flow</text></g><g class=\"g-y6title\"><text class=\"y6title\" transform=\"rotate(-90,49.575,1682.139242685026)\" x=\"49.575\" y=\"1682.139242685026\" text-anchor=\"middle\" style=\"font-family: 'Open Sans', verdana, arial, sans-serif; font-size: 14px; fill: rgb(42, 63, 95); opacity: 1; font-weight: normal; white-space: pre;\">Assets</text></g><g class=\"g-y7title\"><text class=\"y7title\" transform=\"rotate(-90,46.309375,1966.7130808950085)\" x=\"46.309375\" y=\"1966.7130808950085\" text-anchor=\"middle\" style=\"font-family: 'Open Sans', verdana, arial, sans-serif; font-size: 14px; fill: rgb(42, 63, 95); opacity: 1; font-weight: normal; white-space: pre;\">Cash</text></g><g class=\"g-y8title\"><text class=\"y8title\" transform=\"rotate(-90,61.559375,2251.286919104991)\" x=\"61.559375\" y=\"2251.286919104991\" text-anchor=\"middle\" style=\"font-family: 'Open Sans', verdana, arial, sans-serif; font-size: 14px; fill: rgb(42, 63, 95); opacity: 1; font-weight: normal; white-space: pre;\">Asset value</text></g><g class=\"g-y9title\"><text class=\"y9title\" transform=\"rotate(-90,26.684375000000003,2535.8607573149743)\" x=\"26.684375000000003\" y=\"2535.8607573149743\" text-anchor=\"middle\" style=\"font-family: 'Open Sans', verdana, arial, sans-serif; font-size: 14px; fill: rgb(42, 63, 95); opacity: 1; font-weight: normal; white-space: pre;\">Value</text></g><g class=\"g-y10title\"><text class=\"y10title\" transform=\"rotate(-90,49.575,2820.4345955249573)\" x=\"49.575\" y=\"2820.4345955249573\" text-anchor=\"middle\" style=\"font-family: 'Open Sans', verdana, arial, sans-serif; font-size: 14px; fill: rgb(42, 63, 95); opacity: 1; font-weight: normal; white-space: pre;\">Cumulative returns</text></g><g class=\"g-y11title\"><text class=\"y11title\" transform=\"rotate(-90,34.309375,3105.00843373494)\" x=\"34.309375\" y=\"3105.00843373494\" text-anchor=\"middle\" style=\"font-family: 'Open Sans', verdana, arial, sans-serif; font-size: 14px; fill: rgb(42, 63, 95); opacity: 1; font-weight: normal; white-space: pre;\">Value</text></g><g class=\"g-y12title\"><text class=\"y12title\" transform=\"rotate(-90,38.825,3389.5822719449225)\" x=\"38.825\" y=\"3389.5822719449225\" text-anchor=\"middle\" style=\"font-family: 'Open Sans', verdana, arial, sans-serif; font-size: 14px; fill: rgb(42, 63, 95); opacity: 1; font-weight: normal; white-space: pre;\">Drawdown</text></g><g class=\"g-y13title\"><text class=\"y13title\" transform=\"rotate(-90,49.575,3674.156110154905)\" x=\"49.575\" y=\"3674.156110154905\" text-anchor=\"middle\" style=\"font-family: 'Open Sans', verdana, arial, sans-serif; font-size: 14px; fill: rgb(42, 63, 95); opacity: 1; font-weight: normal; white-space: pre;\">Gross exposure</text></g><g class=\"g-y14title\"><text class=\"y14title\" transform=\"rotate(-90,34.309375,3958.729948364888)\" x=\"34.309375\" y=\"3958.729948364888\" text-anchor=\"middle\" style=\"font-family: 'Open Sans', verdana, arial, sans-serif; font-size: 14px; fill: rgb(42, 63, 95); opacity: 1; font-weight: normal; white-space: pre;\">Net exposure</text></g><g class=\"annotation\" data-index=\"0\" style=\"opacity: 1;\"><g class=\"annotation-text-g\" transform=\"rotate(0,407.5,124)\"><g class=\"cursor-pointer\" transform=\"translate(379,112)\"><rect class=\"bg\" x=\"0.5\" y=\"0.5\" width=\"57\" height=\"23\" style=\"stroke-width: 1px; stroke: rgb(0, 0, 0); stroke-opacity: 0; fill: rgb(0, 0, 0); fill-opacity: 0;\"/><text class=\"annotation-text\" text-anchor=\"middle\" x=\"29.046875\" y=\"18\" style=\"font-family: 'Open Sans', verdana, arial, sans-serif; font-size: 16px; fill: rgb(42, 63, 95); fill-opacity: 1; white-space: pre;\">Orders</text></g></g></g><g class=\"annotation\" data-index=\"1\" style=\"opacity: 1;\"><g class=\"annotation-text-g\" transform=\"rotate(0,407.5,408.5738382099826)\"><g class=\"cursor-pointer\" transform=\"translate(379,397)\"><rect class=\"bg\" x=\"0.5\" y=\"0.5\" width=\"57\" height=\"23\" style=\"stroke-width: 1px; stroke: rgb(0, 0, 0); stroke-opacity: 0; fill: rgb(0, 0, 0); fill-opacity: 0;\"/><text class=\"annotation-text\" text-anchor=\"middle\" x=\"29.078125\" y=\"18\" style=\"font-family: 'Open Sans', verdana, arial, sans-serif; font-size: 16px; fill: rgb(42, 63, 95); fill-opacity: 1; white-space: pre;\">Trades</text></g></g></g><g class=\"annotation\" data-index=\"2\" style=\"opacity: 1;\"><g class=\"annotation-text-g\" transform=\"rotate(0,407.5,693.1476764199653)\"><g class=\"cursor-pointer\" transform=\"translate(366,681)\"><rect class=\"bg\" x=\"0.5\" y=\"0.5\" width=\"83\" height=\"23\" style=\"stroke-width: 1px; stroke: rgb(0, 0, 0); stroke-opacity: 0; fill: rgb(0, 0, 0); fill-opacity: 0;\"/><text class=\"annotation-text\" text-anchor=\"middle\" x=\"42.0625\" y=\"18\" style=\"font-family: 'Open Sans', verdana, arial, sans-serif; font-size: 16px; fill: rgb(42, 63, 95); fill-opacity: 1; white-space: pre;\">Trade PnL</text></g></g></g><g class=\"annotation\" data-index=\"3\" style=\"opacity: 1;\"><g class=\"annotation-text-g\" transform=\"rotate(0,407.5,977.7215146299483)\"><g class=\"cursor-pointer\" transform=\"translate(363,966)\"><rect class=\"bg\" x=\"0.5\" y=\"0.5\" width=\"88\" height=\"23\" style=\"stroke-width: 1px; stroke: rgb(0, 0, 0); stroke-opacity: 0; fill: rgb(0, 0, 0); fill-opacity: 0;\"/><text class=\"annotation-text\" text-anchor=\"middle\" x=\"44.734375\" y=\"18\" style=\"font-family: 'Open Sans', verdana, arial, sans-serif; font-size: 16px; fill: rgb(42, 63, 95); fill-opacity: 1; white-space: pre;\">Asset Flow</text></g></g></g><g class=\"annotation\" data-index=\"4\" style=\"opacity: 1;\"><g class=\"annotation-text-g\" transform=\"rotate(0,407.5,1262.295352839931)\"><g class=\"cursor-pointer\" transform=\"translate(365,1250)\"><rect class=\"bg\" x=\"0.5\" y=\"0.5\" width=\"84\" height=\"23\" style=\"stroke-width: 1px; stroke: rgb(0, 0, 0); stroke-opacity: 0; fill: rgb(0, 0, 0); fill-opacity: 0;\"/><text class=\"annotation-text\" text-anchor=\"middle\" x=\"42.640625\" y=\"18\" style=\"font-family: 'Open Sans', verdana, arial, sans-serif; font-size: 16px; fill: rgb(42, 63, 95); fill-opacity: 1; white-space: pre;\">Cash Flow</text></g></g></g><g class=\"annotation\" data-index=\"5\" style=\"opacity: 1;\"><g class=\"annotation-text-g\" transform=\"rotate(0,407.5,1546.869191049914)\"><g class=\"cursor-pointer\" transform=\"translate(380,1535)\"><rect class=\"bg\" x=\"0.5\" y=\"0.5\" width=\"55\" height=\"23\" style=\"stroke-width: 1px; stroke: rgb(0, 0, 0); stroke-opacity: 0; fill: rgb(0, 0, 0); fill-opacity: 0;\"/><text class=\"annotation-text\" text-anchor=\"middle\" x=\"27.890625\" y=\"18\" style=\"font-family: 'Open Sans', verdana, arial, sans-serif; font-size: 16px; fill: rgb(42, 63, 95); fill-opacity: 1; white-space: pre;\">Assets</text></g></g></g><g class=\"annotation\" data-index=\"6\" style=\"opacity: 1;\"><g class=\"annotation-text-g\" transform=\"rotate(0,407.5,1831.4430292598965)\"><g class=\"cursor-pointer\" transform=\"translate(386,1819)\"><rect class=\"bg\" x=\"0.5\" y=\"0.5\" width=\"42\" height=\"23\" style=\"stroke-width: 1px; stroke: rgb(0, 0, 0); stroke-opacity: 0; fill: rgb(0, 0, 0); fill-opacity: 0;\"/><text class=\"annotation-text\" text-anchor=\"middle\" x=\"21.625\" y=\"18\" style=\"font-family: 'Open Sans', verdana, arial, sans-serif; font-size: 16px; fill: rgb(42, 63, 95); fill-opacity: 1; white-space: pre;\">Cash</text></g></g></g><g class=\"annotation\" data-index=\"7\" style=\"opacity: 1;\"><g class=\"annotation-text-g\" transform=\"rotate(0,407.5,2116.016867469879)\"><g class=\"cursor-pointer\" transform=\"translate(359,2104)\"><rect class=\"bg\" x=\"0.5\" y=\"0.5\" width=\"97\" height=\"23\" style=\"stroke-width: 1px; stroke: rgb(0, 0, 0); stroke-opacity: 0; fill: rgb(0, 0, 0); fill-opacity: 0;\"/><text class=\"annotation-text\" text-anchor=\"middle\" x=\"48.84375\" y=\"18\" style=\"font-family: 'Open Sans', verdana, arial, sans-serif; font-size: 16px; fill: rgb(42, 63, 95); fill-opacity: 1; white-space: pre;\">Asset Value</text></g></g></g><g class=\"annotation\" data-index=\"8\" style=\"opacity: 1;\"><g class=\"annotation-text-g\" transform=\"rotate(0,407.5,2400.5907056798624)\"><g class=\"cursor-pointer\" transform=\"translate(383,2389)\"><rect class=\"bg\" x=\"0.5\" y=\"0.5\" width=\"48\" height=\"23\" style=\"stroke-width: 1px; stroke: rgb(0, 0, 0); stroke-opacity: 0; fill: rgb(0, 0, 0); fill-opacity: 0;\"/><text class=\"annotation-text\" text-anchor=\"middle\" x=\"24.296875\" y=\"18\" style=\"font-family: 'Open Sans', verdana, arial, sans-serif; font-size: 16px; fill: rgb(42, 63, 95); fill-opacity: 1; white-space: pre;\">Value</text></g></g></g><g class=\"annotation\" data-index=\"9\" style=\"opacity: 1;\"><g class=\"annotation-text-g\" transform=\"rotate(0,407.5,2685.1645438898454)\"><g class=\"cursor-pointer\" transform=\"translate(326,2673)\"><rect class=\"bg\" x=\"0.5\" y=\"0.5\" width=\"162\" height=\"23\" style=\"stroke-width: 1px; stroke: rgb(0, 0, 0); stroke-opacity: 0; fill: rgb(0, 0, 0); fill-opacity: 0;\"/><text class=\"annotation-text\" text-anchor=\"middle\" x=\"81.34375\" y=\"18\" style=\"font-family: 'Open Sans', verdana, arial, sans-serif; font-size: 16px; fill: rgb(42, 63, 95); fill-opacity: 1; white-space: pre;\">Cumulative Returns</text></g></g></g><g class=\"annotation\" data-index=\"10\" style=\"opacity: 1;\"><g class=\"annotation-text-g\" transform=\"rotate(0,407.5,2969.738382099828)\"><g class=\"cursor-pointer\" transform=\"translate(359,2958)\"><rect class=\"bg\" x=\"0.5\" y=\"0.5\" width=\"96\" height=\"23\" style=\"stroke-width: 1px; stroke: rgb(0, 0, 0); stroke-opacity: 0; fill: rgb(0, 0, 0); fill-opacity: 0;\"/><text class=\"annotation-text\" text-anchor=\"middle\" x=\"48.546875\" y=\"18\" style=\"font-family: 'Open Sans', verdana, arial, sans-serif; font-size: 16px; fill: rgb(42, 63, 95); fill-opacity: 1; white-space: pre;\">Drawdowns</text></g></g></g><g class=\"annotation\" data-index=\"11\" style=\"opacity: 1;\"><g class=\"annotation-text-g\" transform=\"rotate(0,407.5,3254.3122203098105)\"><g class=\"cursor-pointer\" transform=\"translate(359,3242)\"><rect class=\"bg\" x=\"0.5\" y=\"0.5\" width=\"97\" height=\"23\" style=\"stroke-width: 1px; stroke: rgb(0, 0, 0); stroke-opacity: 0; fill: rgb(0, 0, 0); fill-opacity: 0;\"/><text class=\"annotation-text\" text-anchor=\"middle\" x=\"48.765625\" y=\"18\" style=\"font-family: 'Open Sans', verdana, arial, sans-serif; font-size: 16px; fill: rgb(42, 63, 95); fill-opacity: 1; white-space: pre;\">Underwater</text></g></g></g><g class=\"annotation\" data-index=\"12\" style=\"opacity: 1;\"><g class=\"annotation-text-g\" transform=\"rotate(0,407.5,3538.886058519793)\"><g class=\"cursor-pointer\" transform=\"translate(343,3527)\"><rect class=\"bg\" x=\"0.5\" y=\"0.5\" width=\"128\" height=\"23\" style=\"stroke-width: 1px; stroke: rgb(0, 0, 0); stroke-opacity: 0; fill: rgb(0, 0, 0); fill-opacity: 0;\"/><text class=\"annotation-text\" text-anchor=\"middle\" x=\"64.671875\" y=\"18\" style=\"font-family: 'Open Sans', verdana, arial, sans-serif; font-size: 16px; fill: rgb(42, 63, 95); fill-opacity: 1; white-space: pre;\">Gross Exposure</text></g></g></g><g class=\"annotation\" data-index=\"13\" style=\"opacity: 1;\"><g class=\"annotation-text-g\" transform=\"rotate(0,407.5,3823.459896729776)\"><g class=\"cursor-pointer\" transform=\"translate(352,3811)\"><rect class=\"bg\" x=\"0.5\" y=\"0.5\" width=\"111\" height=\"23\" style=\"stroke-width: 1px; stroke: rgb(0, 0, 0); stroke-opacity: 0; fill: rgb(0, 0, 0); fill-opacity: 0;\"/><text class=\"annotation-text\" text-anchor=\"middle\" x=\"55.765625\" y=\"18\" style=\"font-family: 'Open Sans', verdana, arial, sans-serif; font-size: 16px; fill: rgb(42, 63, 95); fill-opacity: 1; white-space: pre;\">Net Exposure</text></g></g></g></g></svg>"
      ]
     },
     "metadata": {},
     "output_type": "display_data"
    }
   ],
   "source": [
    "portfolio_shared.plot(subplots='all', column='a', group_by=False).show_svg()"
   ]
  },
  {
   "cell_type": "code",
   "execution_count": 14,
   "metadata": {},
   "outputs": [
    {
     "data": {
      "image/svg+xml": [
       "<svg class=\"main-svg\" xmlns=\"http://www.w3.org/2000/svg\" xmlns:xlink=\"http://www.w3.org/1999/xlink\" width=\"750\" height=\"670\" style=\"\" viewBox=\"0 0 750 670\"><rect x=\"0\" y=\"0\" width=\"750\" height=\"670\" style=\"fill: rgb(255, 255, 255); fill-opacity: 1;\"/><defs id=\"defs-2941d7\"><g class=\"clips\"><clipPath id=\"clip2941d7xyplot\" class=\"plotclip\"><rect width=\"647\" height=\"248.70895522388062\"/></clipPath><clipPath id=\"clip2941d7x2y2plot\" class=\"plotclip\"><rect width=\"647\" height=\"248.70895522388062\"/></clipPath><clipPath class=\"axesclip\" id=\"clip2941d7x\"><rect x=\"73\" y=\"0\" width=\"647\" height=\"670\"/></clipPath><clipPath class=\"axesclip\" id=\"clip2941d7y\"><rect x=\"0\" y=\"73\" width=\"750\" height=\"248.70895522388062\"/></clipPath><clipPath class=\"axesclip\" id=\"clip2941d7xy\"><rect x=\"73\" y=\"73\" width=\"647\" height=\"248.70895522388062\"/></clipPath><clipPath class=\"axesclip\" id=\"clip2941d7y2\"><rect x=\"0\" y=\"353.2910447761194\" width=\"750\" height=\"248.70895522388062\"/></clipPath><clipPath class=\"axesclip\" id=\"clip2941d7xy2\"><rect x=\"73\" y=\"353.2910447761194\" width=\"647\" height=\"248.70895522388062\"/></clipPath><clipPath class=\"axesclip\" id=\"clip2941d7x2\"><rect x=\"73\" y=\"0\" width=\"647\" height=\"670\"/></clipPath><clipPath class=\"axesclip\" id=\"clip2941d7x2y\"><rect x=\"73\" y=\"73\" width=\"647\" height=\"248.70895522388062\"/></clipPath><clipPath class=\"axesclip\" id=\"clip2941d7x2y2\"><rect x=\"73\" y=\"353.2910447761194\" width=\"647\" height=\"248.70895522388062\"/></clipPath></g><g class=\"gradients\"/><g class=\"patterns\"/></defs><g class=\"bglayer\"><rect class=\"bg\" x=\"73\" y=\"73\" width=\"647\" height=\"248.70895522388062\" style=\"fill: rgb(229, 236, 246); fill-opacity: 1; stroke-width: 0;\"/><rect class=\"bg\" x=\"73\" y=\"353.2910447761194\" width=\"647\" height=\"248.70895522388062\" style=\"fill: rgb(229, 236, 246); fill-opacity: 1; stroke-width: 0;\"/></g><g class=\"layer-below\"><g class=\"imagelayer\"/><g class=\"shapelayer\"><path data-index=\"0\" fill-rule=\"evenodd\" d=\"M109.72,321.7089552238806H683.28V73H109.72Z\" clip-path=\"url(#clip2941d7x)\" style=\"opacity: 0.2; stroke: rgb(0, 0, 0); stroke-opacity: 0; fill: rgb(255, 165, 0); fill-opacity: 1; stroke-width: 0px;\"/></g></g><g class=\"cartesianlayer\"><g class=\"subplot xy\"><g class=\"layer-subplot\"><g class=\"shapelayer\"/><g class=\"imagelayer\"/></g><g class=\"gridlayer\"><g class=\"x\"><path class=\"xgrid crisp\" transform=\"translate(109.72,0)\" d=\"M0,73v248.70895522388062\" style=\"stroke: rgb(255, 255, 255); stroke-opacity: 1; stroke-width: 1px;\"/><path class=\"xgrid crisp\" transform=\"translate(181.42000000000002,0)\" d=\"M0,73v248.70895522388062\" style=\"stroke: rgb(255, 255, 255); stroke-opacity: 1; stroke-width: 1px;\"/><path class=\"xgrid crisp\" transform=\"translate(253.11,0)\" d=\"M0,73v248.70895522388062\" style=\"stroke: rgb(255, 255, 255); stroke-opacity: 1; stroke-width: 1px;\"/><path class=\"xgrid crisp\" transform=\"translate(324.81,0)\" d=\"M0,73v248.70895522388062\" style=\"stroke: rgb(255, 255, 255); stroke-opacity: 1; stroke-width: 1px;\"/><path class=\"xgrid crisp\" transform=\"translate(396.5,0)\" d=\"M0,73v248.70895522388062\" style=\"stroke: rgb(255, 255, 255); stroke-opacity: 1; stroke-width: 1px;\"/><path class=\"xgrid crisp\" transform=\"translate(468.19,0)\" d=\"M0,73v248.70895522388062\" style=\"stroke: rgb(255, 255, 255); stroke-opacity: 1; stroke-width: 1px;\"/><path class=\"xgrid crisp\" transform=\"translate(539.89,0)\" d=\"M0,73v248.70895522388062\" style=\"stroke: rgb(255, 255, 255); stroke-opacity: 1; stroke-width: 1px;\"/><path class=\"xgrid crisp\" transform=\"translate(611.58,0)\" d=\"M0,73v248.70895522388062\" style=\"stroke: rgb(255, 255, 255); stroke-opacity: 1; stroke-width: 1px;\"/><path class=\"xgrid crisp\" transform=\"translate(683.28,0)\" d=\"M0,73v248.70895522388062\" style=\"stroke: rgb(255, 255, 255); stroke-opacity: 1; stroke-width: 1px;\"/></g><g class=\"y\"><path class=\"ygrid crisp\" transform=\"translate(0,297.63)\" d=\"M73,0h647\" style=\"stroke: rgb(255, 255, 255); stroke-opacity: 1; stroke-width: 1px;\"/><path class=\"ygrid crisp\" transform=\"translate(0,262.99)\" d=\"M73,0h647\" style=\"stroke: rgb(255, 255, 255); stroke-opacity: 1; stroke-width: 1px;\"/><path class=\"ygrid crisp\" transform=\"translate(0,228.36)\" d=\"M73,0h647\" style=\"stroke: rgb(255, 255, 255); stroke-opacity: 1; stroke-width: 1px;\"/><path class=\"ygrid crisp\" transform=\"translate(0,193.72)\" d=\"M73,0h647\" style=\"stroke: rgb(255, 255, 255); stroke-opacity: 1; stroke-width: 1px;\"/><path class=\"ygrid crisp\" transform=\"translate(0,159.07999999999998)\" d=\"M73,0h647\" style=\"stroke: rgb(255, 255, 255); stroke-opacity: 1; stroke-width: 1px;\"/><path class=\"ygrid crisp\" transform=\"translate(0,124.45)\" d=\"M73,0h647\" style=\"stroke: rgb(255, 255, 255); stroke-opacity: 1; stroke-width: 1px;\"/><path class=\"ygrid crisp\" transform=\"translate(0,89.81)\" d=\"M73,0h647\" style=\"stroke: rgb(255, 255, 255); stroke-opacity: 1; stroke-width: 1px;\"/></g></g><g class=\"zerolinelayer\"/><path class=\"xlines-below\"/><path class=\"ylines-below\"/><g class=\"overlines-below\"/><g class=\"xaxislayer-below\"/><g class=\"yaxislayer-below\"/><g class=\"overaxes-below\"/><g class=\"plot\" transform=\"translate(73,73)\" clip-path=\"url(#clip2941d7xyplot)\"><g class=\"scatterlayer mlayer\"><g class=\"trace scatter trace9e000c3a-60fc-40a4-9d1b-9293ab785e59\" style=\"stroke-miterlimit: 2; opacity: 1;\"><g class=\"fills\"/><g class=\"errorbars\"/><g class=\"lines\"><path class=\"js-line\" d=\"M36.72,16.81L180.11,88.87L323.5,93L466.89,93L610.28,231.9\" style=\"vector-effect: non-scaling-stroke; fill: none; stroke: rgb(148, 103, 189); stroke-opacity: 1; stroke-width: 2px; opacity: 1;\"/></g><g class=\"points\"><path class=\"point\" transform=\"translate(36.72,16.81)\" d=\"M3,0A3,3 0 1,1 0,-3A3,3 0 0,1 3,0Z\" style=\"opacity: 1; stroke-width: 0px; fill: rgb(148, 103, 189); fill-opacity: 1;\"/><path class=\"point\" transform=\"translate(180.11,88.87)\" d=\"M3,0A3,3 0 1,1 0,-3A3,3 0 0,1 3,0Z\" style=\"opacity: 1; stroke-width: 0px; fill: rgb(148, 103, 189); fill-opacity: 1;\"/><path class=\"point\" transform=\"translate(323.5,93)\" d=\"M3,0A3,3 0 1,1 0,-3A3,3 0 0,1 3,0Z\" style=\"opacity: 1; stroke-width: 0px; fill: rgb(148, 103, 189); fill-opacity: 1;\"/><path class=\"point\" transform=\"translate(466.89,93)\" d=\"M3,0A3,3 0 1,1 0,-3A3,3 0 0,1 3,0Z\" style=\"opacity: 1; stroke-width: 0px; fill: rgb(148, 103, 189); fill-opacity: 1;\"/><path class=\"point\" transform=\"translate(610.28,231.9)\" d=\"M3,0A3,3 0 1,1 0,-3A3,3 0 0,1 3,0Z\" style=\"opacity: 1; stroke-width: 0px; fill: rgb(148, 103, 189); fill-opacity: 1;\"/></g><g class=\"text\"/></g><g class=\"trace scatter trace8d28a76a-1419-4fa3-ad02-2507f3eaa658\" style=\"stroke-miterlimit: 2; opacity: 1;\"><g class=\"fills\"/><g class=\"errorbars\"/><g class=\"lines\"/><g class=\"points\"><path class=\"point plotly-customdata\" transform=\"translate(36.72,16.81)\" d=\"M4.55,0L0,4.55L-4.55,0L0,-4.55Z\" style=\"opacity: 1; stroke-width: 1px; fill: rgb(66, 133, 244); fill-opacity: 1; stroke: rgb(11, 84, 205); stroke-opacity: 1;\"/></g><g class=\"text\"/></g><g class=\"trace scatter trace490ba825-c96a-48bf-a25c-846e66f05466\" style=\"stroke-miterlimit: 2; opacity: 1;\"><g class=\"fills\"/><g class=\"errorbars\"/><g class=\"lines\"/><g class=\"points\"><path class=\"point plotly-customdata\" transform=\"translate(610.28,231.9)\" d=\"M4.55,0L0,4.55L-4.55,0L0,-4.55Z\" style=\"opacity: 1; stroke-width: 1px; fill: rgb(255, 170, 0); fill-opacity: 1; stroke: rgb(178, 118, 0); stroke-opacity: 1;\"/></g><g class=\"text\"/></g></g></g><g class=\"overplot\"/><path class=\"xlines-above crisp\" d=\"M0,0\" style=\"fill: none;\"/><path class=\"ylines-above crisp\" d=\"M0,0\" style=\"fill: none;\"/><g class=\"overlines-above\"/><g class=\"xaxislayer-above\"/><g class=\"yaxislayer-above\"><g class=\"ytick\"><text text-anchor=\"end\" x=\"72\" y=\"4.199999999999999\" transform=\"translate(0,297.63)\" style=\"font-family: 'Open Sans', verdana, arial, sans-serif; font-size: 12px; fill: rgb(42, 63, 95); fill-opacity: 1; white-space: pre; opacity: 1;\">99.7</text></g><g class=\"ytick\"><text text-anchor=\"end\" x=\"72\" y=\"4.199999999999999\" style=\"font-family: 'Open Sans', verdana, arial, sans-serif; font-size: 12px; fill: rgb(42, 63, 95); fill-opacity: 1; white-space: pre; opacity: 1;\" transform=\"translate(0,262.99)\">99.75</text></g><g class=\"ytick\"><text text-anchor=\"end\" x=\"72\" y=\"4.199999999999999\" style=\"font-family: 'Open Sans', verdana, arial, sans-serif; font-size: 12px; fill: rgb(42, 63, 95); fill-opacity: 1; white-space: pre; opacity: 1;\" transform=\"translate(0,228.36)\">99.8</text></g><g class=\"ytick\"><text text-anchor=\"end\" x=\"72\" y=\"4.199999999999999\" style=\"font-family: 'Open Sans', verdana, arial, sans-serif; font-size: 12px; fill: rgb(42, 63, 95); fill-opacity: 1; white-space: pre; opacity: 1;\" transform=\"translate(0,193.72)\">99.85</text></g><g class=\"ytick\"><text text-anchor=\"end\" x=\"72\" y=\"4.199999999999999\" style=\"font-family: 'Open Sans', verdana, arial, sans-serif; font-size: 12px; fill: rgb(42, 63, 95); fill-opacity: 1; white-space: pre; opacity: 1;\" transform=\"translate(0,159.07999999999998)\">99.9</text></g><g class=\"ytick\"><text text-anchor=\"end\" x=\"72\" y=\"4.199999999999999\" style=\"font-family: 'Open Sans', verdana, arial, sans-serif; font-size: 12px; fill: rgb(42, 63, 95); fill-opacity: 1; white-space: pre; opacity: 1;\" transform=\"translate(0,124.45)\">99.95</text></g><g class=\"ytick\"><text text-anchor=\"end\" x=\"72\" y=\"4.199999999999999\" style=\"font-family: 'Open Sans', verdana, arial, sans-serif; font-size: 12px; fill: rgb(42, 63, 95); fill-opacity: 1; white-space: pre; opacity: 1;\" transform=\"translate(0,89.81)\">100</text></g></g><g class=\"overaxes-above\"/></g><g class=\"subplot x2y2\"><g class=\"layer-subplot\"><g class=\"shapelayer\"/><g class=\"imagelayer\"/></g><g class=\"gridlayer\"><g class=\"x2\"><path class=\"x2grid crisp\" transform=\"translate(109.72,0)\" d=\"M0,353.2910447761194v248.70895522388062\" style=\"stroke: rgb(255, 255, 255); stroke-opacity: 1; stroke-width: 1px;\"/><path class=\"x2grid crisp\" transform=\"translate(181.42000000000002,0)\" d=\"M0,353.2910447761194v248.70895522388062\" style=\"stroke: rgb(255, 255, 255); stroke-opacity: 1; stroke-width: 1px;\"/><path class=\"x2grid crisp\" transform=\"translate(253.11,0)\" d=\"M0,353.2910447761194v248.70895522388062\" style=\"stroke: rgb(255, 255, 255); stroke-opacity: 1; stroke-width: 1px;\"/><path class=\"x2grid crisp\" transform=\"translate(324.81,0)\" d=\"M0,353.2910447761194v248.70895522388062\" style=\"stroke: rgb(255, 255, 255); stroke-opacity: 1; stroke-width: 1px;\"/><path class=\"x2grid crisp\" transform=\"translate(396.5,0)\" d=\"M0,353.2910447761194v248.70895522388062\" style=\"stroke: rgb(255, 255, 255); stroke-opacity: 1; stroke-width: 1px;\"/><path class=\"x2grid crisp\" transform=\"translate(468.19,0)\" d=\"M0,353.2910447761194v248.70895522388062\" style=\"stroke: rgb(255, 255, 255); stroke-opacity: 1; stroke-width: 1px;\"/><path class=\"x2grid crisp\" transform=\"translate(539.89,0)\" d=\"M0,353.2910447761194v248.70895522388062\" style=\"stroke: rgb(255, 255, 255); stroke-opacity: 1; stroke-width: 1px;\"/><path class=\"x2grid crisp\" transform=\"translate(611.58,0)\" d=\"M0,353.2910447761194v248.70895522388062\" style=\"stroke: rgb(255, 255, 255); stroke-opacity: 1; stroke-width: 1px;\"/><path class=\"x2grid crisp\" transform=\"translate(683.28,0)\" d=\"M0,353.2910447761194v248.70895522388062\" style=\"stroke: rgb(255, 255, 255); stroke-opacity: 1; stroke-width: 1px;\"/></g><g class=\"y2\"><path class=\"y2grid crisp\" transform=\"translate(0,577.9910447761195)\" d=\"M73,0h647\" style=\"stroke: rgb(255, 255, 255); stroke-opacity: 1; stroke-width: 1px;\"/><path class=\"y2grid crisp\" transform=\"translate(0,540.7110447761194)\" d=\"M73,0h647\" style=\"stroke: rgb(255, 255, 255); stroke-opacity: 1; stroke-width: 1px;\"/><path class=\"y2grid crisp\" transform=\"translate(0,503.4210447761194)\" d=\"M73,0h647\" style=\"stroke: rgb(255, 255, 255); stroke-opacity: 1; stroke-width: 1px;\"/><path class=\"y2grid crisp\" transform=\"translate(0,466.14104477611943)\" d=\"M73,0h647\" style=\"stroke: rgb(255, 255, 255); stroke-opacity: 1; stroke-width: 1px;\"/><path class=\"y2grid crisp\" transform=\"translate(0,428.8610447761194)\" d=\"M73,0h647\" style=\"stroke: rgb(255, 255, 255); stroke-opacity: 1; stroke-width: 1px;\"/><path class=\"y2grid crisp\" transform=\"translate(0,391.5710447761194)\" d=\"M73,0h647\" style=\"stroke: rgb(255, 255, 255); stroke-opacity: 1; stroke-width: 1px;\"/></g></g><g class=\"zerolinelayer\"><path class=\"y2zl zl crisp\" transform=\"translate(0,354.2910447761194)\" d=\"M73,0h647\" style=\"stroke: rgb(255, 255, 255); stroke-opacity: 1; stroke-width: 2px;\"/></g><path class=\"xlines-below\"/><path class=\"ylines-below\"/><g class=\"overlines-below\"/><g class=\"xaxislayer-below\"/><g class=\"yaxislayer-below\"/><g class=\"overaxes-below\"/><g class=\"plot\" transform=\"translate(73,353.2910447761194)\" clip-path=\"url(#clip2941d7x2y2plot)\"><g class=\"scatterlayer mlayer\"><g class=\"trace scatter trace1ead4ed3-9651-4170-905d-b008cc3e9367\" style=\"stroke-miterlimit: 2;\"><g class=\"fills\"><g><path class=\"js-fill\" d=\"M610.28,1L36.72,1L36.72,1L180.11,78.56L323.5,83.02L466.89,83.02L610.28,232.52\" style=\"fill: rgb(255, 111, 0); fill-opacity: 0.3; stroke-width: 0;\"/></g></g><g class=\"errorbars\"/><g class=\"lines\"><path class=\"js-line\" d=\"M36.72,1L180.11,78.56L323.5,83.02L466.89,83.02L610.28,232.52\" style=\"vector-effect: non-scaling-stroke; fill: none; stroke: rgb(255, 111, 0); stroke-opacity: 1; stroke-width: 2px; opacity: 1;\"/></g><g class=\"points\"><path class=\"point\" transform=\"translate(36.72,1)\" d=\"M3,0A3,3 0 1,1 0,-3A3,3 0 0,1 3,0Z\" style=\"opacity: 1; stroke-width: 0px; fill: rgb(255, 111, 0); fill-opacity: 1;\"/><path class=\"point\" transform=\"translate(180.11,78.56)\" d=\"M3,0A3,3 0 1,1 0,-3A3,3 0 0,1 3,0Z\" style=\"opacity: 1; stroke-width: 0px; fill: rgb(255, 111, 0); fill-opacity: 1;\"/><path class=\"point\" transform=\"translate(323.5,83.02)\" d=\"M3,0A3,3 0 1,1 0,-3A3,3 0 0,1 3,0Z\" style=\"opacity: 1; stroke-width: 0px; fill: rgb(255, 111, 0); fill-opacity: 1;\"/><path class=\"point\" transform=\"translate(466.89,83.02)\" d=\"M3,0A3,3 0 1,1 0,-3A3,3 0 0,1 3,0Z\" style=\"opacity: 1; stroke-width: 0px; fill: rgb(255, 111, 0); fill-opacity: 1;\"/><path class=\"point\" transform=\"translate(610.28,232.52)\" d=\"M3,0A3,3 0 1,1 0,-3A3,3 0 0,1 3,0Z\" style=\"opacity: 1; stroke-width: 0px; fill: rgb(255, 111, 0); fill-opacity: 1;\"/></g><g class=\"text\"/></g></g></g><g class=\"overplot\"/><path class=\"xlines-above crisp\" d=\"M0,0\" style=\"fill: none;\"/><path class=\"ylines-above crisp\" d=\"M0,0\" style=\"fill: none;\"/><g class=\"overlines-above\"/><g class=\"xaxislayer-above\"><g class=\"x2tick\"><text text-anchor=\"middle\" x=\"0\" y=\"615\" transform=\"translate(109.72,0)\" style=\"font-family: 'Open Sans', verdana, arial, sans-serif; font-size: 12px; fill: rgb(42, 63, 95); fill-opacity: 1; white-space: pre; opacity: 1;\"><tspan class=\"line\" dy=\"0em\" x=\"0\" y=\"615\">00:00</tspan><tspan class=\"line\" dy=\"1.3em\" x=\"0\" y=\"615\">Jan 1, 2020</tspan></text></g><g class=\"x2tick\"><text text-anchor=\"middle\" x=\"0\" y=\"615\" style=\"font-family: 'Open Sans', verdana, arial, sans-serif; font-size: 12px; fill: rgb(42, 63, 95); fill-opacity: 1; white-space: pre; opacity: 1;\" transform=\"translate(181.42000000000002,0)\">12:00</text></g><g class=\"x2tick\"><text text-anchor=\"middle\" x=\"0\" y=\"615\" style=\"font-family: 'Open Sans', verdana, arial, sans-serif; font-size: 12px; fill: rgb(42, 63, 95); fill-opacity: 1; white-space: pre; opacity: 1;\" transform=\"translate(253.11,0)\"><tspan class=\"line\" dy=\"0em\" x=\"0\" y=\"615\">00:00</tspan><tspan class=\"line\" dy=\"1.3em\" x=\"0\" y=\"615\">Jan 2, 2020</tspan></text></g><g class=\"x2tick\"><text text-anchor=\"middle\" x=\"0\" y=\"615\" style=\"font-family: 'Open Sans', verdana, arial, sans-serif; font-size: 12px; fill: rgb(42, 63, 95); fill-opacity: 1; white-space: pre; opacity: 1;\" transform=\"translate(324.81,0)\">12:00</text></g><g class=\"x2tick\"><text text-anchor=\"middle\" x=\"0\" y=\"615\" style=\"font-family: 'Open Sans', verdana, arial, sans-serif; font-size: 12px; fill: rgb(42, 63, 95); fill-opacity: 1; white-space: pre; opacity: 1;\" transform=\"translate(396.5,0)\"><tspan class=\"line\" dy=\"0em\" x=\"0\" y=\"615\">00:00</tspan><tspan class=\"line\" dy=\"1.3em\" x=\"0\" y=\"615\">Jan 3, 2020</tspan></text></g><g class=\"x2tick\"><text text-anchor=\"middle\" x=\"0\" y=\"615\" style=\"font-family: 'Open Sans', verdana, arial, sans-serif; font-size: 12px; fill: rgb(42, 63, 95); fill-opacity: 1; white-space: pre; opacity: 1;\" transform=\"translate(468.19,0)\">12:00</text></g><g class=\"x2tick\"><text text-anchor=\"middle\" x=\"0\" y=\"615\" style=\"font-family: 'Open Sans', verdana, arial, sans-serif; font-size: 12px; fill: rgb(42, 63, 95); fill-opacity: 1; white-space: pre; opacity: 1;\" transform=\"translate(539.89,0)\"><tspan class=\"line\" dy=\"0em\" x=\"0\" y=\"615\">00:00</tspan><tspan class=\"line\" dy=\"1.3em\" x=\"0\" y=\"615\">Jan 4, 2020</tspan></text></g><g class=\"x2tick\"><text text-anchor=\"middle\" x=\"0\" y=\"615\" style=\"font-family: 'Open Sans', verdana, arial, sans-serif; font-size: 12px; fill: rgb(42, 63, 95); fill-opacity: 1; white-space: pre; opacity: 1;\" transform=\"translate(611.58,0)\">12:00</text></g><g class=\"x2tick\"><text text-anchor=\"middle\" x=\"0\" y=\"615\" style=\"font-family: 'Open Sans', verdana, arial, sans-serif; font-size: 12px; fill: rgb(42, 63, 95); fill-opacity: 1; white-space: pre; opacity: 1;\" transform=\"translate(683.28,0)\"><tspan class=\"line\" dy=\"0em\" x=\"0\" y=\"615\">00:00</tspan><tspan class=\"line\" dy=\"1.3em\" x=\"0\" y=\"615\">Jan 5, 2020</tspan></text></g></g><g class=\"yaxislayer-above\"><g class=\"y2tick\"><text text-anchor=\"end\" x=\"72\" y=\"4.199999999999999\" transform=\"translate(0,577.9910447761195)\" style=\"font-family: 'Open Sans', verdana, arial, sans-serif; font-size: 12px; fill: rgb(42, 63, 95); fill-opacity: 1; white-space: pre; opacity: 1;\">−0%</text></g><g class=\"y2tick\"><text text-anchor=\"end\" x=\"72\" y=\"4.199999999999999\" style=\"font-family: 'Open Sans', verdana, arial, sans-serif; font-size: 12px; fill: rgb(42, 63, 95); fill-opacity: 1; white-space: pre; opacity: 1;\" transform=\"translate(0,540.7110447761194)\">−0%</text></g><g class=\"y2tick\"><text text-anchor=\"end\" x=\"72\" y=\"4.199999999999999\" style=\"font-family: 'Open Sans', verdana, arial, sans-serif; font-size: 12px; fill: rgb(42, 63, 95); fill-opacity: 1; white-space: pre; opacity: 1;\" transform=\"translate(0,503.4210447761194)\">−0%</text></g><g class=\"y2tick\"><text text-anchor=\"end\" x=\"72\" y=\"4.199999999999999\" style=\"font-family: 'Open Sans', verdana, arial, sans-serif; font-size: 12px; fill: rgb(42, 63, 95); fill-opacity: 1; white-space: pre; opacity: 1;\" transform=\"translate(0,466.14104477611943)\">−0%</text></g><g class=\"y2tick\"><text text-anchor=\"end\" x=\"72\" y=\"4.199999999999999\" style=\"font-family: 'Open Sans', verdana, arial, sans-serif; font-size: 12px; fill: rgb(42, 63, 95); fill-opacity: 1; white-space: pre; opacity: 1;\" transform=\"translate(0,428.8610447761194)\">−0%</text></g><g class=\"y2tick\"><text text-anchor=\"end\" x=\"72\" y=\"4.199999999999999\" style=\"font-family: 'Open Sans', verdana, arial, sans-serif; font-size: 12px; fill: rgb(42, 63, 95); fill-opacity: 1; white-space: pre; opacity: 1;\" transform=\"translate(0,391.5710447761194)\">−0%</text></g><g class=\"y2tick\"><text text-anchor=\"end\" x=\"72\" y=\"4.199999999999999\" style=\"font-family: 'Open Sans', verdana, arial, sans-serif; font-size: 12px; fill: rgb(42, 63, 95); fill-opacity: 1; white-space: pre; opacity: 1;\" transform=\"translate(0,354.2910447761194)\">0%</text></g></g><g class=\"overaxes-above\"/></g></g><g class=\"polarlayer\"/><g class=\"ternarylayer\"/><g class=\"geolayer\"/><g class=\"funnelarealayer\"/><g class=\"pielayer\"/><g class=\"iciclelayer\"/><g class=\"treemaplayer\"/><g class=\"sunburstlayer\"/><g class=\"glimages\"/><defs id=\"topdefs-2941d7\"><g class=\"clips\"/><clipPath id=\"legend2941d7\"><rect width=\"343\" height=\"29\" x=\"0\" y=\"0\"/></clipPath></defs><g class=\"layer-above\"><g class=\"imagelayer\"/><g class=\"shapelayer\"><path data-index=\"1\" fill-rule=\"evenodd\" d=\"M73,354.2910447761194L720,354.2910447761194\" clip-path=\"url(#clip2941d7y2)\" style=\"opacity: 1; stroke: rgb(128, 128, 128); stroke-opacity: 1; fill: rgb(0, 0, 0); fill-opacity: 0; stroke-dasharray: 9px, 9px; stroke-width: 2px;\"/></g></g><g class=\"infolayer\"><g class=\"legend\" pointer-events=\"all\" transform=\"translate(377,12.417910447761216)\"><rect class=\"bg\" shape-rendering=\"crispEdges\" width=\"343\" height=\"29\" x=\"0\" y=\"0\" style=\"stroke: rgb(68, 68, 68); stroke-opacity: 1; fill: rgb(255, 255, 255); fill-opacity: 1; stroke-width: 0px;\"/><g class=\"scrollbox\" transform=\"\" clip-path=\"url(#legend2941d7)\"><g class=\"groups\"><g class=\"traces\" transform=\"translate(0,14.5)\" style=\"opacity: 1;\"><text class=\"legendtext\" text-anchor=\"start\" x=\"40\" y=\"4.680000000000001\" style=\"font-family: 'Open Sans', verdana, arial, sans-serif; font-size: 12px; fill: rgb(42, 63, 95); fill-opacity: 1; white-space: pre;\">Value</text><g class=\"layers\" style=\"opacity: 1;\"><g class=\"legendfill\"/><g class=\"legendlines\"><path class=\"js-line\" d=\"M5,0h30\" style=\"fill: none; stroke: rgb(148, 103, 189); stroke-opacity: 1; stroke-width: 2px;\"/></g><g class=\"legendsymbols\"><g class=\"legendpoints\"><path class=\"scatterpts\" transform=\"translate(20,0)\" d=\"M3,0A3,3 0 1,1 0,-3A3,3 0 0,1 3,0Z\" style=\"opacity: 1; stroke-width: 0px; fill: rgb(148, 103, 189); fill-opacity: 1;\"/></g></g></g><rect class=\"legendtoggle\" x=\"0\" y=\"-9.5\" width=\"75.953125\" height=\"19\" style=\"fill: rgb(0, 0, 0); fill-opacity: 0;\"/></g><g class=\"traces\" transform=\"translate(78.453125,14.5)\" style=\"opacity: 1;\"><text class=\"legendtext\" text-anchor=\"start\" x=\"40\" y=\"4.680000000000001\" style=\"font-family: 'Open Sans', verdana, arial, sans-serif; font-size: 12px; fill: rgb(42, 63, 95); fill-opacity: 1; white-space: pre;\">Peak</text><g class=\"layers\" style=\"opacity: 1;\"><g class=\"legendfill\"/><g class=\"legendlines\"/><g class=\"legendsymbols\"><g class=\"legendpoints\"><path class=\"scatterpts\" transform=\"translate(20,0)\" d=\"M4.55,0L0,4.55L-4.55,0L0,-4.55Z\" style=\"opacity: 1; stroke-width: 1px; fill: rgb(66, 133, 244); fill-opacity: 1; stroke: rgb(11, 84, 205); stroke-opacity: 1;\"/></g></g></g><rect class=\"legendtoggle\" x=\"0\" y=\"-9.5\" width=\"71.203125\" height=\"19\" style=\"fill: rgb(0, 0, 0); fill-opacity: 0;\"/></g><g class=\"traces\" transform=\"translate(152.15625,14.5)\" style=\"opacity: 1;\"><text class=\"legendtext\" text-anchor=\"start\" x=\"40\" y=\"4.680000000000001\" style=\"font-family: 'Open Sans', verdana, arial, sans-serif; font-size: 12px; fill: rgb(42, 63, 95); fill-opacity: 1; white-space: pre;\">Active</text><g class=\"layers\" style=\"opacity: 1;\"><g class=\"legendfill\"/><g class=\"legendlines\"/><g class=\"legendsymbols\"><g class=\"legendpoints\"><path class=\"scatterpts\" transform=\"translate(20,0)\" d=\"M4.55,0L0,4.55L-4.55,0L0,-4.55Z\" style=\"opacity: 1; stroke-width: 1px; fill: rgb(255, 170, 0); fill-opacity: 1; stroke: rgb(178, 118, 0); stroke-opacity: 1;\"/></g></g></g><rect class=\"legendtoggle\" x=\"0\" y=\"-9.5\" width=\"79.234375\" height=\"19\" style=\"fill: rgb(0, 0, 0); fill-opacity: 0;\"/></g><g class=\"traces\" transform=\"translate(233.890625,14.5)\" style=\"opacity: 1;\"><text class=\"legendtext\" text-anchor=\"start\" x=\"40\" y=\"4.680000000000001\" style=\"font-family: 'Open Sans', verdana, arial, sans-serif; font-size: 12px; fill: rgb(42, 63, 95); fill-opacity: 1; white-space: pre;\">Drawdown</text><g class=\"layers\"><g class=\"legendfill\"><path class=\"js-fill\" d=\"M5,0h30v6h-30z\" style=\"stroke-width: 0; fill: rgb(255, 111, 0); fill-opacity: 0.3;\"/></g><g class=\"legendlines\"><path class=\"js-line\" d=\"M5,0h30\" style=\"fill: none; stroke: rgb(255, 111, 0); stroke-opacity: 1; stroke-width: 2px;\"/></g><g class=\"legendsymbols\"><g class=\"legendpoints\"><path class=\"scatterpts\" transform=\"translate(20,0)\" d=\"M3,0A3,3 0 1,1 0,-3A3,3 0 0,1 3,0Z\" style=\"opacity: 1; stroke-width: 0px; fill: rgb(255, 111, 0); fill-opacity: 1;\"/></g></g></g><rect class=\"legendtoggle\" x=\"0\" y=\"-9.5\" width=\"106.078125\" height=\"19\" style=\"fill: rgb(0, 0, 0); fill-opacity: 0;\"/></g></g></g><rect class=\"scrollbar\" rx=\"20\" ry=\"3\" width=\"0\" height=\"0\" x=\"0\" y=\"0\" style=\"fill: rgb(128, 139, 164); fill-opacity: 1;\"/></g><g class=\"g-gtitle\"/><g class=\"g-xtitle\"/><g class=\"g-x2title\"><text class=\"x2title\" x=\"396.5\" y=\"657.909375\" text-anchor=\"middle\" style=\"font-family: 'Open Sans', verdana, arial, sans-serif; font-size: 14px; fill: rgb(42, 63, 95); opacity: 1; font-weight: normal; white-space: pre;\">Index</text></g><g class=\"g-ytitle\" transform=\"translate(1.701171875,0)\"><text class=\"ytitle\" transform=\"rotate(-90,12.309375000000003,197.3544776119403)\" x=\"12.309375000000003\" y=\"197.3544776119403\" text-anchor=\"middle\" style=\"font-family: 'Open Sans', verdana, arial, sans-serif; font-size: 14px; fill: rgb(42, 63, 95); opacity: 1; font-weight: normal; white-space: pre;\">Value</text></g><g class=\"g-y2title\"><text class=\"y2title\" transform=\"rotate(-90,16.825000000000003,477.6455223880597)\" x=\"16.825000000000003\" y=\"477.6455223880597\" text-anchor=\"middle\" style=\"font-family: 'Open Sans', verdana, arial, sans-serif; font-size: 14px; fill: rgb(42, 63, 95); opacity: 1; font-weight: normal; white-space: pre;\">Drawdown</text></g><g class=\"annotation\" data-index=\"0\" style=\"opacity: 1;\"><g class=\"annotation-text-g\" transform=\"rotate(0,396.5,61)\"><g class=\"cursor-pointer\" transform=\"translate(348,49)\"><rect class=\"bg\" x=\"0.5\" y=\"0.5\" width=\"96\" height=\"23\" style=\"stroke-width: 1px; stroke: rgb(0, 0, 0); stroke-opacity: 0; fill: rgb(0, 0, 0); fill-opacity: 0;\"/><text class=\"annotation-text\" text-anchor=\"middle\" x=\"48.546875\" y=\"18\" style=\"font-family: 'Open Sans', verdana, arial, sans-serif; font-size: 16px; fill: rgb(42, 63, 95); fill-opacity: 1; white-space: pre;\">Drawdowns</text></g></g></g><g class=\"annotation\" data-index=\"1\" style=\"opacity: 1;\"><g class=\"annotation-text-g\" transform=\"rotate(0,396.5,341.2910447761194)\"><g class=\"cursor-pointer\" transform=\"translate(348,329)\"><rect class=\"bg\" x=\"0.5\" y=\"0.5\" width=\"97\" height=\"23\" style=\"stroke-width: 1px; stroke: rgb(0, 0, 0); stroke-opacity: 0; fill: rgb(0, 0, 0); fill-opacity: 0;\"/><text class=\"annotation-text\" text-anchor=\"middle\" x=\"48.765625\" y=\"18\" style=\"font-family: 'Open Sans', verdana, arial, sans-serif; font-size: 16px; fill: rgb(42, 63, 95); fill-opacity: 1; white-space: pre;\">Underwater</text></g></g></g></g></svg>"
      ]
     },
     "metadata": {},
     "output_type": "display_data"
    }
   ],
   "source": [
    "from vectorbt.utils.colors import adjust_opacity\n",
    "\n",
    "portfolio['a'].plot(\n",
    "    subplots=['drawdowns', 'underwater'],\n",
    "    subplot_settings=dict(\n",
    "        drawdowns=dict(top_n=3),\n",
    "        underwater=dict(\n",
    "            trace_kwargs=dict(\n",
    "                line_color='#FF6F00',\n",
    "                fillcolor=adjust_opacity('#FF6F00', 0.3)\n",
    "            )\n",
    "        )\n",
    "    )\n",
    ").show_svg()"
   ]
  },
  {
   "cell_type": "code",
   "execution_count": 15,
   "metadata": {},
   "outputs": [
    {
     "data": {
      "image/svg+xml": [
       "<svg class=\"main-svg\" xmlns=\"http://www.w3.org/2000/svg\" xmlns:xlink=\"http://www.w3.org/1999/xlink\" width=\"750\" height=\"670\" style=\"\" viewBox=\"0 0 750 670\"><rect x=\"0\" y=\"0\" width=\"750\" height=\"670\" style=\"fill: rgb(255, 255, 255); fill-opacity: 1;\"/><defs id=\"defs-74c9cd\"><g class=\"clips\"><clipPath id=\"clip74c9cdxyplot\" class=\"plotclip\"><rect width=\"663\" height=\"256.2313432835821\"/></clipPath><clipPath id=\"clip74c9cdx2y2plot\" class=\"plotclip\"><rect width=\"663\" height=\"256.2313432835821\"/></clipPath><clipPath class=\"axesclip\" id=\"clip74c9cdx\"><rect x=\"57\" y=\"0\" width=\"663\" height=\"670\"/></clipPath><clipPath class=\"axesclip\" id=\"clip74c9cdy\"><rect x=\"0\" y=\"73\" width=\"750\" height=\"256.2313432835821\"/></clipPath><clipPath class=\"axesclip\" id=\"clip74c9cdxy\"><rect x=\"57\" y=\"73\" width=\"663\" height=\"256.2313432835821\"/></clipPath><clipPath class=\"axesclip\" id=\"clip74c9cdy2\"><rect x=\"0\" y=\"361.7686567164179\" width=\"750\" height=\"256.2313432835821\"/></clipPath><clipPath class=\"axesclip\" id=\"clip74c9cdxy2\"><rect x=\"57\" y=\"361.7686567164179\" width=\"663\" height=\"256.2313432835821\"/></clipPath><clipPath class=\"axesclip\" id=\"clip74c9cdx2\"><rect x=\"57\" y=\"0\" width=\"663\" height=\"670\"/></clipPath><clipPath class=\"axesclip\" id=\"clip74c9cdx2y\"><rect x=\"57\" y=\"73\" width=\"663\" height=\"256.2313432835821\"/></clipPath><clipPath class=\"axesclip\" id=\"clip74c9cdx2y2\"><rect x=\"57\" y=\"361.7686567164179\" width=\"663\" height=\"256.2313432835821\"/></clipPath></g><g class=\"gradients\"/><g class=\"patterns\"/></defs><g class=\"bglayer\"><rect class=\"bg\" x=\"57\" y=\"73\" width=\"663\" height=\"256.2313432835821\" style=\"fill: rgb(229, 236, 246); fill-opacity: 1; stroke-width: 0;\"/><rect class=\"bg\" x=\"57\" y=\"361.7686567164179\" width=\"663\" height=\"256.2313432835821\" style=\"fill: rgb(229, 236, 246); fill-opacity: 1; stroke-width: 0;\"/></g><g class=\"layer-below\"><g class=\"imagelayer\"/><g class=\"shapelayer\"/></g><g class=\"cartesianlayer\"><g class=\"subplot xy\"><g class=\"layer-subplot\"><g class=\"shapelayer\"/><g class=\"imagelayer\"/></g><g class=\"gridlayer\"><g class=\"x\"><path class=\"xgrid crisp\" transform=\"translate(93.9,0)\" d=\"M0,73v256.2313432835821\" style=\"stroke: rgb(255, 255, 255); stroke-opacity: 1; stroke-width: 1px;\"/><path class=\"xgrid crisp\" transform=\"translate(167.39,0)\" d=\"M0,73v256.2313432835821\" style=\"stroke: rgb(255, 255, 255); stroke-opacity: 1; stroke-width: 1px;\"/><path class=\"xgrid crisp\" transform=\"translate(240.89,0)\" d=\"M0,73v256.2313432835821\" style=\"stroke: rgb(255, 255, 255); stroke-opacity: 1; stroke-width: 1px;\"/><path class=\"xgrid crisp\" transform=\"translate(314.38,0)\" d=\"M0,73v256.2313432835821\" style=\"stroke: rgb(255, 255, 255); stroke-opacity: 1; stroke-width: 1px;\"/><path class=\"xgrid crisp\" transform=\"translate(387.88,0)\" d=\"M0,73v256.2313432835821\" style=\"stroke: rgb(255, 255, 255); stroke-opacity: 1; stroke-width: 1px;\"/><path class=\"xgrid crisp\" transform=\"translate(461.37,0)\" d=\"M0,73v256.2313432835821\" style=\"stroke: rgb(255, 255, 255); stroke-opacity: 1; stroke-width: 1px;\"/><path class=\"xgrid crisp\" transform=\"translate(534.86,0)\" d=\"M0,73v256.2313432835821\" style=\"stroke: rgb(255, 255, 255); stroke-opacity: 1; stroke-width: 1px;\"/><path class=\"xgrid crisp\" transform=\"translate(608.36,0)\" d=\"M0,73v256.2313432835821\" style=\"stroke: rgb(255, 255, 255); stroke-opacity: 1; stroke-width: 1px;\"/><path class=\"xgrid crisp\" transform=\"translate(681.85,0)\" d=\"M0,73v256.2313432835821\" style=\"stroke: rgb(255, 255, 255); stroke-opacity: 1; stroke-width: 1px;\"/></g><g class=\"y\"><path class=\"ygrid crisp\" transform=\"translate(0,312.66999999999996)\" d=\"M57,0h663\" style=\"stroke: rgb(255, 255, 255); stroke-opacity: 1; stroke-width: 1px;\"/><path class=\"ygrid crisp\" transform=\"translate(0,276.3)\" d=\"M57,0h663\" style=\"stroke: rgb(255, 255, 255); stroke-opacity: 1; stroke-width: 1px;\"/><path class=\"ygrid crisp\" transform=\"translate(0,239.93)\" d=\"M57,0h663\" style=\"stroke: rgb(255, 255, 255); stroke-opacity: 1; stroke-width: 1px;\"/><path class=\"ygrid crisp\" transform=\"translate(0,203.56)\" d=\"M57,0h663\" style=\"stroke: rgb(255, 255, 255); stroke-opacity: 1; stroke-width: 1px;\"/><path class=\"ygrid crisp\" transform=\"translate(0,167.19)\" d=\"M57,0h663\" style=\"stroke: rgb(255, 255, 255); stroke-opacity: 1; stroke-width: 1px;\"/><path class=\"ygrid crisp\" transform=\"translate(0,130.82)\" d=\"M57,0h663\" style=\"stroke: rgb(255, 255, 255); stroke-opacity: 1; stroke-width: 1px;\"/><path class=\"ygrid crisp\" transform=\"translate(0,94.45)\" d=\"M57,0h663\" style=\"stroke: rgb(255, 255, 255); stroke-opacity: 1; stroke-width: 1px;\"/></g></g><g class=\"zerolinelayer\"/><path class=\"xlines-below\"/><path class=\"ylines-below\"/><g class=\"overlines-below\"/><g class=\"xaxislayer-below\"/><g class=\"yaxislayer-below\"/><g class=\"overaxes-below\"/><g class=\"plot\" transform=\"translate(57,73)\" clip-path=\"url(#clip74c9cdxyplot)\"><g class=\"scatterlayer mlayer\"><g class=\"trace scatter tracee41b67ac-227b-4e50-880c-7e54be4c222f\" style=\"stroke-miterlimit: 2; opacity: 1;\"><g class=\"fills\"/><g class=\"errorbars\"/><g class=\"lines\"><path class=\"js-line\" d=\"M183.89,239.67L624.85,21.45\" style=\"vector-effect: non-scaling-stroke; fill: none; stroke: rgb(31, 119, 180); stroke-opacity: 1; stroke-width: 2px; opacity: 1;\"/></g><g class=\"points\"><path class=\"point\" transform=\"translate(183.89,239.67)\" d=\"M3,0A3,3 0 1,1 0,-3A3,3 0 0,1 3,0Z\" style=\"opacity: 1; stroke-width: 0px; fill: rgb(31, 119, 180); fill-opacity: 1;\"/><path class=\"point\" transform=\"translate(330.88,166.93)\" d=\"M3,0A3,3 0 1,1 0,-3A3,3 0 0,1 3,0Z\" style=\"opacity: 1; stroke-width: 0px; fill: rgb(31, 119, 180); fill-opacity: 1;\"/><path class=\"point\" transform=\"translate(477.86,94.19)\" d=\"M3,0A3,3 0 1,1 0,-3A3,3 0 0,1 3,0Z\" style=\"opacity: 1; stroke-width: 0px; fill: rgb(31, 119, 180); fill-opacity: 1;\"/><path class=\"point\" transform=\"translate(624.85,21.45)\" d=\"M3,0A3,3 0 1,1 0,-3A3,3 0 0,1 3,0Z\" style=\"opacity: 1; stroke-width: 0px; fill: rgb(31, 119, 180); fill-opacity: 1;\"/></g><g class=\"text\"/></g><g class=\"trace scatter trace945f9a42-f067-4418-9d17-4414321d68f1\" style=\"stroke-miterlimit: 2; opacity: 1;\"><g class=\"fills\"/><g class=\"errorbars\"/><g class=\"lines\"/><g class=\"points\"><path class=\"point plotly-customdata\" transform=\"translate(183.89,238.21)\" d=\"M-4.62,2H4.62L0,-4Z\" style=\"opacity: 1; stroke-width: 1px; fill: rgb(55, 177, 63); fill-opacity: 1; stroke: rgb(38, 123, 44); stroke-opacity: 1;\"/><path class=\"point plotly-customdata\" transform=\"translate(624.85,17.81)\" d=\"M-4.62,2H4.62L0,-4Z\" style=\"opacity: 1; stroke-width: 1px; fill: rgb(55, 177, 63); fill-opacity: 1; stroke: rgb(38, 123, 44); stroke-opacity: 1;\"/></g><g class=\"text\"/></g><g class=\"trace scatter trace2458b73d-e43e-4c1e-95e9-5f9191344bca\" style=\"stroke-miterlimit: 2; opacity: 1;\"><g class=\"fills\"/><g class=\"errorbars\"/><g class=\"lines\"/><g class=\"points\"><path class=\"point plotly-customdata\" transform=\"translate(330.88,169.11)\" d=\"M-4.62,-2H4.62L0,4Z\" style=\"opacity: 1; stroke-width: 1px; fill: rgb(234, 67, 53); fill-opacity: 1; stroke: rgb(181, 31, 18); stroke-opacity: 1;\"/></g><g class=\"text\"/></g></g></g><g class=\"overplot\"/><path class=\"xlines-above crisp\" d=\"M0,0\" style=\"fill: none;\"/><path class=\"ylines-above crisp\" d=\"M0,0\" style=\"fill: none;\"/><g class=\"overlines-above\"/><g class=\"xaxislayer-above\"/><g class=\"yaxislayer-above\"><g class=\"ytick\"><text text-anchor=\"end\" x=\"56\" y=\"4.199999999999999\" transform=\"translate(0,312.66999999999996)\" style=\"font-family: 'Open Sans', verdana, arial, sans-serif; font-size: 12px; fill: rgb(42, 63, 95); fill-opacity: 1; white-space: pre; opacity: 1;\">2</text></g><g class=\"ytick\"><text text-anchor=\"end\" x=\"56\" y=\"4.199999999999999\" style=\"font-family: 'Open Sans', verdana, arial, sans-serif; font-size: 12px; fill: rgb(42, 63, 95); fill-opacity: 1; white-space: pre; opacity: 1;\" transform=\"translate(0,276.3)\">2.5</text></g><g class=\"ytick\"><text text-anchor=\"end\" x=\"56\" y=\"4.199999999999999\" style=\"font-family: 'Open Sans', verdana, arial, sans-serif; font-size: 12px; fill: rgb(42, 63, 95); fill-opacity: 1; white-space: pre; opacity: 1;\" transform=\"translate(0,239.93)\">3</text></g><g class=\"ytick\"><text text-anchor=\"end\" x=\"56\" y=\"4.199999999999999\" style=\"font-family: 'Open Sans', verdana, arial, sans-serif; font-size: 12px; fill: rgb(42, 63, 95); fill-opacity: 1; white-space: pre; opacity: 1;\" transform=\"translate(0,203.56)\">3.5</text></g><g class=\"ytick\"><text text-anchor=\"end\" x=\"56\" y=\"4.199999999999999\" style=\"font-family: 'Open Sans', verdana, arial, sans-serif; font-size: 12px; fill: rgb(42, 63, 95); fill-opacity: 1; white-space: pre; opacity: 1;\" transform=\"translate(0,167.19)\">4</text></g><g class=\"ytick\"><text text-anchor=\"end\" x=\"56\" y=\"4.199999999999999\" style=\"font-family: 'Open Sans', verdana, arial, sans-serif; font-size: 12px; fill: rgb(42, 63, 95); fill-opacity: 1; white-space: pre; opacity: 1;\" transform=\"translate(0,130.82)\">4.5</text></g><g class=\"ytick\"><text text-anchor=\"end\" x=\"56\" y=\"4.199999999999999\" style=\"font-family: 'Open Sans', verdana, arial, sans-serif; font-size: 12px; fill: rgb(42, 63, 95); fill-opacity: 1; white-space: pre; opacity: 1;\" transform=\"translate(0,94.45)\">5</text></g></g><g class=\"overaxes-above\"/></g><g class=\"subplot x2y2\"><g class=\"layer-subplot\"><g class=\"shapelayer\"/><g class=\"imagelayer\"/></g><g class=\"gridlayer\"><g class=\"x2\"><path class=\"x2grid crisp\" transform=\"translate(167.55,0)\" d=\"M0,361.7686567164179v256.2313432835821\" style=\"stroke: rgb(255, 255, 255); stroke-opacity: 1; stroke-width: 1px;\"/><path class=\"x2grid crisp\" transform=\"translate(241.2,0)\" d=\"M0,361.7686567164179v256.2313432835821\" style=\"stroke: rgb(255, 255, 255); stroke-opacity: 1; stroke-width: 1px;\"/><path class=\"x2grid crisp\" transform=\"translate(314.85,0)\" d=\"M0,361.7686567164179v256.2313432835821\" style=\"stroke: rgb(255, 255, 255); stroke-opacity: 1; stroke-width: 1px;\"/><path class=\"x2grid crisp\" transform=\"translate(388.5,0)\" d=\"M0,361.7686567164179v256.2313432835821\" style=\"stroke: rgb(255, 255, 255); stroke-opacity: 1; stroke-width: 1px;\"/><path class=\"x2grid crisp\" transform=\"translate(462.15,0)\" d=\"M0,361.7686567164179v256.2313432835821\" style=\"stroke: rgb(255, 255, 255); stroke-opacity: 1; stroke-width: 1px;\"/><path class=\"x2grid crisp\" transform=\"translate(535.8,0)\" d=\"M0,361.7686567164179v256.2313432835821\" style=\"stroke: rgb(255, 255, 255); stroke-opacity: 1; stroke-width: 1px;\"/><path class=\"x2grid crisp\" transform=\"translate(609.45,0)\" d=\"M0,361.7686567164179v256.2313432835821\" style=\"stroke: rgb(255, 255, 255); stroke-opacity: 1; stroke-width: 1px;\"/><path class=\"x2grid crisp\" transform=\"translate(683.1,0)\" d=\"M0,361.7686567164179v256.2313432835821\" style=\"stroke: rgb(255, 255, 255); stroke-opacity: 1; stroke-width: 1px;\"/></g><g class=\"y2\"><path class=\"y2grid crisp\" transform=\"translate(0,601.4386567164179)\" d=\"M57,0h663\" style=\"stroke: rgb(255, 255, 255); stroke-opacity: 1; stroke-width: 1px;\"/><path class=\"y2grid crisp\" transform=\"translate(0,545.6586567164179)\" d=\"M57,0h663\" style=\"stroke: rgb(255, 255, 255); stroke-opacity: 1; stroke-width: 1px;\"/><path class=\"y2grid crisp\" transform=\"translate(0,434.10865671641795)\" d=\"M57,0h663\" style=\"stroke: rgb(255, 255, 255); stroke-opacity: 1; stroke-width: 1px;\"/><path class=\"y2grid crisp\" transform=\"translate(0,378.3286567164179)\" d=\"M57,0h663\" style=\"stroke: rgb(255, 255, 255); stroke-opacity: 1; stroke-width: 1px;\"/></g></g><g class=\"zerolinelayer\"><path class=\"x2zl zl crisp\" transform=\"translate(93.9,0)\" d=\"M0,361.7686567164179v256.2313432835821\" style=\"stroke: rgb(255, 255, 255); stroke-opacity: 1; stroke-width: 2px;\"/><path class=\"y2zl zl crisp\" transform=\"translate(0,489.8886567164179)\" d=\"M57,0h663\" style=\"stroke: rgb(255, 255, 255); stroke-opacity: 1; stroke-width: 2px;\"/></g><path class=\"xlines-below\"/><path class=\"ylines-below\"/><g class=\"overlines-below\"/><g class=\"xaxislayer-below\"/><g class=\"yaxislayer-below\"/><g class=\"overaxes-below\"/><g class=\"plot\" transform=\"translate(57,361.7686567164179)\" clip-path=\"url(#clip74c9cdx2y2plot)\"><g class=\"scatterlayer mlayer\"><g class=\"trace scatter tracebef2d82f-16ba-40f9-8286-456b29263df0\" style=\"stroke-miterlimit: 2; opacity: 1;\"><g class=\"fills\"/><g class=\"errorbars\"/><g class=\"lines\"><path class=\"js-line\" d=\"M36.9,16.56L184.2,116.96L331.5,239.67L478.8,139.27L626.1,16.56\" style=\"vector-effect: non-scaling-stroke; fill: none; stroke: rgb(220, 57, 18); stroke-opacity: 1; stroke-width: 2px; opacity: 1;\"/></g><g class=\"points\"><path class=\"point\" transform=\"translate(36.9,16.56)\" d=\"M3,0A3,3 0 1,1 0,-3A3,3 0 0,1 3,0Z\" style=\"opacity: 1; stroke-width: 0px; fill: rgb(220, 57, 18); fill-opacity: 1;\"/><path class=\"point\" transform=\"translate(184.2,116.96)\" d=\"M3,0A3,3 0 1,1 0,-3A3,3 0 0,1 3,0Z\" style=\"opacity: 1; stroke-width: 0px; fill: rgb(220, 57, 18); fill-opacity: 1;\"/><path class=\"point\" transform=\"translate(331.5,239.67)\" d=\"M3,0A3,3 0 1,1 0,-3A3,3 0 0,1 3,0Z\" style=\"opacity: 1; stroke-width: 0px; fill: rgb(220, 57, 18); fill-opacity: 1;\"/><path class=\"point\" transform=\"translate(478.8,139.27)\" d=\"M3,0A3,3 0 1,1 0,-3A3,3 0 0,1 3,0Z\" style=\"opacity: 1; stroke-width: 0px; fill: rgb(220, 57, 18); fill-opacity: 1;\"/><path class=\"point\" transform=\"translate(626.1,16.56)\" d=\"M3,0A3,3 0 1,1 0,-3A3,3 0 0,1 3,0Z\" style=\"opacity: 1; stroke-width: 0px; fill: rgb(220, 57, 18); fill-opacity: 1;\"/></g><g class=\"text\"/></g></g></g><g class=\"overplot\"/><path class=\"xlines-above crisp\" d=\"M0,0\" style=\"fill: none;\"/><path class=\"ylines-above crisp\" d=\"M0,0\" style=\"fill: none;\"/><g class=\"overlines-above\"/><g class=\"xaxislayer-above\"><g class=\"x2tick\"><text text-anchor=\"middle\" x=\"0\" y=\"631\" transform=\"translate(93.9,0)\" style=\"font-family: 'Open Sans', verdana, arial, sans-serif; font-size: 12px; fill: rgb(42, 63, 95); fill-opacity: 1; white-space: pre; opacity: 1;\">0</text></g><g class=\"x2tick\"><text text-anchor=\"middle\" x=\"0\" y=\"631\" style=\"font-family: 'Open Sans', verdana, arial, sans-serif; font-size: 12px; fill: rgb(42, 63, 95); fill-opacity: 1; white-space: pre; opacity: 1;\" transform=\"translate(167.55,0)\">0.5</text></g><g class=\"x2tick\"><text text-anchor=\"middle\" x=\"0\" y=\"631\" style=\"font-family: 'Open Sans', verdana, arial, sans-serif; font-size: 12px; fill: rgb(42, 63, 95); fill-opacity: 1; white-space: pre; opacity: 1;\" transform=\"translate(241.2,0)\">1</text></g><g class=\"x2tick\"><text text-anchor=\"middle\" x=\"0\" y=\"631\" style=\"font-family: 'Open Sans', verdana, arial, sans-serif; font-size: 12px; fill: rgb(42, 63, 95); fill-opacity: 1; white-space: pre; opacity: 1;\" transform=\"translate(314.85,0)\">1.5</text></g><g class=\"x2tick\"><text text-anchor=\"middle\" x=\"0\" y=\"631\" style=\"font-family: 'Open Sans', verdana, arial, sans-serif; font-size: 12px; fill: rgb(42, 63, 95); fill-opacity: 1; white-space: pre; opacity: 1;\" transform=\"translate(388.5,0)\">2</text></g><g class=\"x2tick\"><text text-anchor=\"middle\" x=\"0\" y=\"631\" style=\"font-family: 'Open Sans', verdana, arial, sans-serif; font-size: 12px; fill: rgb(42, 63, 95); fill-opacity: 1; white-space: pre; opacity: 1;\" transform=\"translate(462.15,0)\">2.5</text></g><g class=\"x2tick\"><text text-anchor=\"middle\" x=\"0\" y=\"631\" style=\"font-family: 'Open Sans', verdana, arial, sans-serif; font-size: 12px; fill: rgb(42, 63, 95); fill-opacity: 1; white-space: pre; opacity: 1;\" transform=\"translate(535.8,0)\">3</text></g><g class=\"x2tick\"><text text-anchor=\"middle\" x=\"0\" y=\"631\" style=\"font-family: 'Open Sans', verdana, arial, sans-serif; font-size: 12px; fill: rgb(42, 63, 95); fill-opacity: 1; white-space: pre; opacity: 1;\" transform=\"translate(609.45,0)\">3.5</text></g><g class=\"x2tick\"><text text-anchor=\"middle\" x=\"0\" y=\"631\" style=\"font-family: 'Open Sans', verdana, arial, sans-serif; font-size: 12px; fill: rgb(42, 63, 95); fill-opacity: 1; white-space: pre; opacity: 1;\" transform=\"translate(683.1,0)\">4</text></g></g><g class=\"yaxislayer-above\"><g class=\"y2tick\"><text text-anchor=\"end\" x=\"56\" y=\"4.199999999999999\" transform=\"translate(0,601.4386567164179)\" style=\"font-family: 'Open Sans', verdana, arial, sans-serif; font-size: 12px; fill: rgb(42, 63, 95); fill-opacity: 1; white-space: pre; opacity: 1;\">−1</text></g><g class=\"y2tick\"><text text-anchor=\"end\" x=\"56\" y=\"4.199999999999999\" style=\"font-family: 'Open Sans', verdana, arial, sans-serif; font-size: 12px; fill: rgb(42, 63, 95); fill-opacity: 1; white-space: pre; opacity: 1;\" transform=\"translate(0,545.6586567164179)\">−0.5</text></g><g class=\"y2tick\"><text text-anchor=\"end\" x=\"56\" y=\"4.199999999999999\" style=\"font-family: 'Open Sans', verdana, arial, sans-serif; font-size: 12px; fill: rgb(42, 63, 95); fill-opacity: 1; white-space: pre; opacity: 1;\" transform=\"translate(0,489.8886567164179)\">0</text></g><g class=\"y2tick\"><text text-anchor=\"end\" x=\"56\" y=\"4.199999999999999\" style=\"font-family: 'Open Sans', verdana, arial, sans-serif; font-size: 12px; fill: rgb(42, 63, 95); fill-opacity: 1; white-space: pre; opacity: 1;\" transform=\"translate(0,434.10865671641795)\">0.5</text></g><g class=\"y2tick\"><text text-anchor=\"end\" x=\"56\" y=\"4.199999999999999\" style=\"font-family: 'Open Sans', verdana, arial, sans-serif; font-size: 12px; fill: rgb(42, 63, 95); fill-opacity: 1; white-space: pre; opacity: 1;\" transform=\"translate(0,378.3286567164179)\">1</text></g></g><g class=\"overaxes-above\"/></g></g><g class=\"polarlayer\"/><g class=\"ternarylayer\"/><g class=\"geolayer\"/><g class=\"funnelarealayer\"/><g class=\"pielayer\"/><g class=\"iciclelayer\"/><g class=\"treemaplayer\"/><g class=\"sunburstlayer\"/><g class=\"glimages\"/><defs id=\"topdefs-74c9cd\"><g class=\"clips\"/><clipPath id=\"legend74c9cd\"><rect width=\"321\" height=\"29\" x=\"0\" y=\"0\"/></clipPath></defs><g class=\"layer-above\"><g class=\"imagelayer\"/><g class=\"shapelayer\"/></g><g class=\"infolayer\"><g class=\"legend\" pointer-events=\"all\" transform=\"translate(399,11.462686567164205)\"><rect class=\"bg\" shape-rendering=\"crispEdges\" style=\"stroke: rgb(68, 68, 68); stroke-opacity: 1; fill: rgb(255, 255, 255); fill-opacity: 1; stroke-width: 0px;\" width=\"321\" height=\"29\" x=\"0\" y=\"0\"/><g class=\"scrollbox\" transform=\"\" clip-path=\"url(#legend74c9cd)\"><g class=\"groups\"><g class=\"traces\" transform=\"translate(0,14.5)\" style=\"opacity: 1;\"><text class=\"legendtext\" text-anchor=\"start\" x=\"40\" y=\"4.680000000000001\" style=\"font-family: 'Open Sans', verdana, arial, sans-serif; font-size: 12px; fill: rgb(42, 63, 95); fill-opacity: 1; white-space: pre;\">Close</text><g class=\"layers\" style=\"opacity: 1;\"><g class=\"legendfill\"/><g class=\"legendlines\"><path class=\"js-line\" d=\"M5,0h30\" style=\"fill: none; stroke: rgb(31, 119, 180); stroke-opacity: 1; stroke-width: 2px;\"/></g><g class=\"legendsymbols\"><g class=\"legendpoints\"><path class=\"scatterpts\" transform=\"translate(20,0)\" d=\"M3,0A3,3 0 1,1 0,-3A3,3 0 0,1 3,0Z\" style=\"opacity: 1; stroke-width: 0px; fill: rgb(31, 119, 180); fill-opacity: 1;\"/></g></g></g><rect class=\"legendtoggle\" x=\"0\" y=\"-9.5\" width=\"74.859375\" height=\"19\" style=\"fill: rgb(0, 0, 0); fill-opacity: 0;\"/></g><g class=\"traces\" transform=\"translate(77.359375,14.5)\" style=\"opacity: 1;\"><text class=\"legendtext\" text-anchor=\"start\" x=\"40\" y=\"4.680000000000001\" style=\"font-family: 'Open Sans', verdana, arial, sans-serif; font-size: 12px; fill: rgb(42, 63, 95); fill-opacity: 1; white-space: pre;\">Buy</text><g class=\"layers\" style=\"opacity: 1;\"><g class=\"legendfill\"/><g class=\"legendlines\"/><g class=\"legendsymbols\"><g class=\"legendpoints\"><path class=\"scatterpts\" transform=\"translate(20,0)\" d=\"M-4.62,2H4.62L0,-4Z\" style=\"opacity: 1; stroke-width: 1px; fill: rgb(55, 177, 63); fill-opacity: 1; stroke: rgb(38, 123, 44); stroke-opacity: 1;\"/></g></g></g><rect class=\"legendtoggle\" x=\"0\" y=\"-9.5\" width=\"65.421875\" height=\"19\" style=\"fill: rgb(0, 0, 0); fill-opacity: 0;\"/></g><g class=\"traces\" transform=\"translate(145.28125,14.5)\" style=\"opacity: 1;\"><text class=\"legendtext\" text-anchor=\"start\" x=\"40\" y=\"4.680000000000001\" style=\"font-family: 'Open Sans', verdana, arial, sans-serif; font-size: 12px; fill: rgb(42, 63, 95); fill-opacity: 1; white-space: pre;\">Sell</text><g class=\"layers\" style=\"opacity: 1;\"><g class=\"legendfill\"/><g class=\"legendlines\"/><g class=\"legendsymbols\"><g class=\"legendpoints\"><path class=\"scatterpts\" transform=\"translate(20,0)\" d=\"M-4.62,-2H4.62L0,4Z\" style=\"opacity: 1; stroke-width: 1px; fill: rgb(234, 67, 53); fill-opacity: 1; stroke: rgb(181, 31, 18); stroke-opacity: 1;\"/></g></g></g><rect class=\"legendtoggle\" x=\"0\" y=\"-9.5\" width=\"64.4375\" height=\"19\" style=\"fill: rgb(0, 0, 0); fill-opacity: 0;\"/></g><g class=\"traces\" transform=\"translate(212.21875,14.5)\" style=\"opacity: 1;\"><text class=\"legendtext\" text-anchor=\"start\" x=\"40\" y=\"4.680000000000001\" style=\"font-family: 'Open Sans', verdana, arial, sans-serif; font-size: 12px; fill: rgb(42, 63, 95); fill-opacity: 1; white-space: pre;\">Order Size</text><g class=\"layers\" style=\"opacity: 1;\"><g class=\"legendfill\"/><g class=\"legendlines\"><path class=\"js-line\" d=\"M5,0h30\" style=\"fill: none; stroke: rgb(220, 57, 18); stroke-opacity: 1; stroke-width: 2px;\"/></g><g class=\"legendsymbols\"><g class=\"legendpoints\"><path class=\"scatterpts\" transform=\"translate(20,0)\" d=\"M3,0A3,3 0 1,1 0,-3A3,3 0 0,1 3,0Z\" style=\"opacity: 1; stroke-width: 0px; fill: rgb(220, 57, 18); fill-opacity: 1;\"/></g></g></g><rect class=\"legendtoggle\" x=\"0\" y=\"-9.5\" width=\"105.984375\" height=\"19\" style=\"fill: rgb(0, 0, 0); fill-opacity: 0;\"/></g></g></g><rect class=\"scrollbar\" rx=\"20\" ry=\"3\" width=\"0\" height=\"0\" style=\"fill: rgb(128, 139, 164); fill-opacity: 1;\" x=\"0\" y=\"0\"/></g><g class=\"g-gtitle\"/><g class=\"g-xtitle\"/><g class=\"g-x2title\"><text class=\"x2title\" x=\"388.5\" y=\"658.3\" text-anchor=\"middle\" style=\"font-family: 'Open Sans', verdana, arial, sans-serif; font-size: 14px; fill: rgb(42, 63, 95); opacity: 1; font-weight: normal; white-space: pre;\">Index</text></g><g class=\"g-ytitle\" transform=\"translate(2.431640625,0)\"><text class=\"ytitle\" transform=\"rotate(-90,11.575000000000003,201.11567164179104)\" x=\"11.575000000000003\" y=\"201.11567164179104\" text-anchor=\"middle\" style=\"font-family: 'Open Sans', verdana, arial, sans-serif; font-size: 14px; fill: rgb(42, 63, 95); opacity: 1; font-weight: normal; white-space: pre;\">Price</text></g><g class=\"g-y2title\"/><g class=\"annotation\" data-index=\"0\" style=\"opacity: 1;\"><g class=\"annotation-text-g\" transform=\"rotate(0,388.5,61)\"><g class=\"cursor-pointer\" transform=\"translate(360,49)\"><rect class=\"bg\" x=\"0.5\" y=\"0.5\" width=\"57\" height=\"23\" style=\"stroke-width: 1px; stroke: rgb(0, 0, 0); stroke-opacity: 0; fill: rgb(0, 0, 0); fill-opacity: 0;\"/><text class=\"annotation-text\" text-anchor=\"middle\" x=\"29.046875\" y=\"18\" style=\"font-family: 'Open Sans', verdana, arial, sans-serif; font-size: 16px; fill: rgb(42, 63, 95); fill-opacity: 1; white-space: pre;\">Orders</text></g></g></g><g class=\"annotation\" data-index=\"1\" style=\"opacity: 1;\"><g class=\"annotation-text-g\" transform=\"rotate(0,388.5,349.7686567164179)\"><g class=\"cursor-pointer\" transform=\"translate(344,338)\"><rect class=\"bg\" x=\"0.5\" y=\"0.5\" width=\"88\" height=\"23\" style=\"stroke-width: 1px; stroke: rgb(0, 0, 0); stroke-opacity: 0; fill: rgb(0, 0, 0); fill-opacity: 0;\"/><text class=\"annotation-text\" text-anchor=\"middle\" x=\"44.328125\" y=\"18\" style=\"font-family: 'Open Sans', verdana, arial, sans-serif; font-size: 16px; fill: rgb(42, 63, 95); fill-opacity: 1; white-space: pre;\">Order Size</text></g></g></g></g></svg>"
      ]
     },
     "metadata": {},
     "output_type": "display_data"
    }
   ],
   "source": [
    "from vectorbt import settings\n",
    "color_schema = settings['plotting']['color_schema']\n",
    "\n",
    "fig = portfolio['a'].plot(subplots=[\n",
    "    'orders',\n",
    "    ('order_size', dict(title='Order Size', check_is_not_grouped=True))  # placeholder\n",
    "])\n",
    "\n",
    "order_size.vbt.plot(trace_kwargs=dict(name='Order Size'), add_trace_kwargs=dict(row=2, col=1), fig=fig).show_svg()"
   ]
  },
  {
   "cell_type": "code",
   "execution_count": null,
   "metadata": {},
   "outputs": [],
   "source": []
  }
 ],
 "metadata": {
  "kernelspec": {
   "display_name": "Python 3 (ipykernel)",
   "language": "python",
   "name": "python3"
  },
  "language_info": {
   "codemirror_mode": {
    "name": "ipython",
    "version": 3
   },
   "file_extension": ".py",
   "mimetype": "text/x-python",
   "name": "python",
   "nbconvert_exporter": "python",
   "pygments_lexer": "ipython3",
   "version": "3.7.3"
  },
  "widgets": {
   "application/vnd.jupyter.widget-state+json": {
    "state": {},
    "version_major": 2,
    "version_minor": 0
   }
  }
 },
 "nbformat": 4,
 "nbformat_minor": 4
}
